{
 "cells": [
  {
   "cell_type": "markdown",
   "id": "96e20a26-cc43-4a99-86c8-2ce370ac3728",
   "metadata": {},
   "source": [
    "# Modules and Exceptions"
   ]
  },
  {
   "cell_type": "markdown",
   "id": "d1830ffe-cd44-446b-9435-748aad49aced",
   "metadata": {},
   "source": [
    "## Modules "
   ]
  },
  {
   "cell_type": "code",
   "execution_count": null,
   "id": "75240730-5f28-4267-ae8b-cc04db74b948",
   "metadata": {},
   "outputs": [],
   "source": [
    "import math\n",
    "math.sqrt(9)"
   ]
  },
  {
   "cell_type": "code",
   "execution_count": null,
   "id": "8fc7c3a0-9730-47e5-bf82-33b2993fb34d",
   "metadata": {},
   "outputs": [],
   "source": [
    "from math import sqrt\n",
    "math.sqrt(5)"
   ]
  },
  {
   "cell_type": "code",
   "execution_count": null,
   "id": "9a51a0b0-8da7-4a09-8d19-b949564bb0a0",
   "metadata": {},
   "outputs": [],
   "source": [
    "from math import sqrt , pi\n",
    "pi"
   ]
  },
  {
   "cell_type": "code",
   "execution_count": null,
   "id": "c7a5d22c-73ae-44ef-ab92-7d73622a4a4b",
   "metadata": {},
   "outputs": [],
   "source": [
    "from math import *\n",
    "# * means import everything from the math module .\n",
    "print(sin(0))\n",
    "print(sqrt(122))\n",
    "print(pi)\n"
   ]
  },
  {
   "cell_type": "code",
   "execution_count": null,
   "id": "1f8a4894-d243-42f3-9768-0b86603626c0",
   "metadata": {},
   "outputs": [],
   "source": [
    "import module"
   ]
  },
  {
   "cell_type": "code",
   "execution_count": null,
   "id": "3528fbb9-3254-4db5-ba97-01abbbaab680",
   "metadata": {},
   "outputs": [],
   "source": [
    "import module"
   ]
  },
  {
   "cell_type": "code",
   "execution_count": null,
   "id": "2b508665-21bf-4da1-90ff-c95756472fe2",
   "metadata": {},
   "outputs": [],
   "source": [
    "import module"
   ]
  },
  {
   "cell_type": "code",
   "execution_count": null,
   "id": "dc4df226-0dde-4b8e-9b0f-f7e5dab1a3b8",
   "metadata": {},
   "outputs": [],
   "source": [
    "import module1\n",
    "module1.addition(2,6)"
   ]
  },
  {
   "cell_type": "code",
   "execution_count": null,
   "id": "d2f81769-bc31-4e5c-9ce7-74b134a0eca9",
   "metadata": {},
   "outputs": [],
   "source": [
    "module1.subtraction(23,6)"
   ]
  },
  {
   "cell_type": "code",
   "execution_count": null,
   "id": "d6e33743-dc1f-41ea-9033-6aea6b8ed6ad",
   "metadata": {},
   "outputs": [],
   "source": [
    "module1.multiplication(7,6)"
   ]
  },
  {
   "cell_type": "code",
   "execution_count": null,
   "id": "704d3e57-47c5-4de8-b57e-c2eda58b8b78",
   "metadata": {},
   "outputs": [],
   "source": [
    "import module2"
   ]
  },
  {
   "cell_type": "code",
   "execution_count": null,
   "id": "208e94c4-1262-4705-8b3e-ba586bbdcb1b",
   "metadata": {},
   "outputs": [],
   "source": [
    "module2.get_name()"
   ]
  },
  {
   "cell_type": "code",
   "execution_count": null,
   "id": "2d5c2649-7a2f-4117-be28-e661d31d480c",
   "metadata": {},
   "outputs": [],
   "source": [
    "module2.get_skills()"
   ]
  },
  {
   "cell_type": "code",
   "execution_count": null,
   "id": "99fd8f98-fae3-48ac-a8ae-c159385d0f8d",
   "metadata": {},
   "outputs": [],
   "source": [
    "import test123"
   ]
  },
  {
   "cell_type": "code",
   "execution_count": null,
   "id": "25d93e41-91f5-44a5-ae80-14d2cbc18379",
   "metadata": {},
   "outputs": [],
   "source": [
    "import test"
   ]
  },
  {
   "cell_type": "code",
   "execution_count": null,
   "id": "9b971ab7-928c-40f6-9c61-b6c24ae15b1e",
   "metadata": {},
   "outputs": [],
   "source": [
    "from test import test123"
   ]
  },
  {
   "cell_type": "code",
   "execution_count": null,
   "id": "54f5503b-f62e-4b2a-8187-2073402daded",
   "metadata": {},
   "outputs": [],
   "source": [
    "import fn1"
   ]
  },
  {
   "cell_type": "code",
   "execution_count": null,
   "id": "4fab9067-639a-4542-abfc-e79936f1b50b",
   "metadata": {},
   "outputs": [],
   "source": [
    "# check ipynb file inside test folder ."
   ]
  },
  {
   "cell_type": "markdown",
   "id": "9b4b08d7-d189-4168-9fc6-3321b32faeeb",
   "metadata": {},
   "source": [
    "## Exception Handeling\n",
    "- if thie is an issue with some code then the upcoming code will also not execute due to this ."
   ]
  },
  {
   "cell_type": "code",
   "execution_count": null,
   "id": "6f944615-a7bf-44a0-905d-053c2f93dffd",
   "metadata": {},
   "outputs": [],
   "source": [
    "print(\"uyrufgugioh)"
   ]
  },
  {
   "cell_type": "code",
   "execution_count": null,
   "id": "3faab496-99e4-4b8c-91c9-9bff1af3a34e",
   "metadata": {},
   "outputs": [],
   "source": [
    "def fun(a,b) :\n",
    "    return a/b "
   ]
  },
  {
   "cell_type": "code",
   "execution_count": null,
   "id": "7a8f9679-cfbc-4468-a1c9-c70fa94fde2e",
   "metadata": {},
   "outputs": [],
   "source": [
    "fun(5,0)"
   ]
  },
  {
   "cell_type": "code",
   "execution_count": null,
   "id": "fea5fea2-6590-44c0-8c9f-49d1dc5195f7",
   "metadata": {},
   "outputs": [],
   "source": [
    "pwd()"
   ]
  },
  {
   "cell_type": "code",
   "execution_count": null,
   "id": "a158c114-126c-480a-895e-dd5f42d1e2e6",
   "metadata": {},
   "outputs": [],
   "source": [
    "a = open(\"xyz.txt\" , \"r\")"
   ]
  },
  {
   "cell_type": "code",
   "execution_count": null,
   "id": "35deeb71-3253-44a4-ad04-7910479e594e",
   "metadata": {},
   "outputs": [],
   "source": [
    "try :\n",
    "    a = open(\"xyz.txt\" , \"r\")"
   ]
  },
  {
   "cell_type": "code",
   "execution_count": null,
   "id": "5e91a574-7dda-4e3b-b112-0d93d7a72aa3",
   "metadata": {},
   "outputs": [],
   "source": [
    "try :\n",
    "    a = open(\"xyz.txt\" , \"r\")\n",
    "    \n",
    "except : \n",
    "    pass"
   ]
  },
  {
   "cell_type": "code",
   "execution_count": null,
   "id": "0cdbb06b-03dc-4309-b97f-206e0e803afe",
   "metadata": {},
   "outputs": [],
   "source": [
    "# instead of try-catch block try-except block exists in python ."
   ]
  },
  {
   "cell_type": "code",
   "execution_count": null,
   "id": "fff5abbc-43b8-4b87-97b1-ae0435e58d2d",
   "metadata": {},
   "outputs": [],
   "source": [
    "try :\n",
    "    a = open(\"xyz.txt\" , \"r\"\n",
    "    \n",
    "except : \n",
    "    pass"
   ]
  },
  {
   "cell_type": "code",
   "execution_count": null,
   "id": "83e662a9-6c50-4513-9405-972aac845c16",
   "metadata": {},
   "outputs": [],
   "source": [
    "# since it is a syntex error or compile time error that can't be handeled by try-except block , so we can only handle the run-time errors only ."
   ]
  },
  {
   "cell_type": "code",
   "execution_count": null,
   "id": "830822f7-95e4-42c7-81d1-741d3737b1a0",
   "metadata": {},
   "outputs": [],
   "source": [
    "try :\n",
    "    a = open(\"xyz.txt\" , \"r\")\n",
    "    \n",
    "except : \n",
    "    print(\"their is some issue in my code\")"
   ]
  },
  {
   "cell_type": "code",
   "execution_count": null,
   "id": "793bf80f-fef3-4300-a8db-4d62ec638ed0",
   "metadata": {},
   "outputs": [],
   "source": [
    "# but this is not possible evey time since the messages are written by us and they do not provide any detail or reason of error ."
   ]
  },
  {
   "cell_type": "code",
   "execution_count": null,
   "id": "1bf3560c-61c5-45b0-b566-e31f39053f7f",
   "metadata": {},
   "outputs": [],
   "source": [
    "try :\n",
    "    a = open(\"xyz.txt\" , \"r\")\n",
    "    \n",
    "except IOError: \n",
    "    print(\"their is some issue in my code\")"
   ]
  },
  {
   "cell_type": "code",
   "execution_count": null,
   "id": "f540fe46-c5ce-492c-93c4-7019c8f33dc3",
   "metadata": {},
   "outputs": [],
   "source": [
    "try :\n",
    "    a = 8/0\n",
    "    \n",
    "except IOError: \n",
    "    print(\"their is some issue in my code\")"
   ]
  },
  {
   "cell_type": "code",
   "execution_count": null,
   "id": "a1f42a98-8e2e-41a5-9857-6d4d64891ca9",
   "metadata": {},
   "outputs": [],
   "source": [
    "try :\n",
    "    a = 8/0\n",
    "    \n",
    "except ArithmeticError as a: \n",
    "    print(\"their is some issue in my code !! ==>\" , a)"
   ]
  },
  {
   "cell_type": "code",
   "execution_count": null,
   "id": "24387c00-3867-4170-aaf8-fab19b334c65",
   "metadata": {},
   "outputs": [],
   "source": [
    "# so now we can "
   ]
  },
  {
   "cell_type": "code",
   "execution_count": null,
   "id": "0b8ccde8-b511-4380-bae9-a25be69969f0",
   "metadata": {},
   "outputs": [],
   "source": [
    "try :\n",
    "    a = 8/3\n",
    "    \n",
    "except ArithmeticError as a: \n",
    "    print(\"their is some issue in my code !! ==>\" , a)\n",
    "else :\n",
    "    print(\"this else block will be executed when the try block is true \")"
   ]
  },
  {
   "cell_type": "code",
   "execution_count": null,
   "id": "d60d4732-02cc-405f-9f9b-72c4327ad148",
   "metadata": {},
   "outputs": [],
   "source": [
    "try :\n",
    "    a = 8/3\n",
    "    \n",
    "except ArithmeticError as a: \n",
    "    print(\"their is some issue in my code !! ==>\" , a)\n",
    "else :\n",
    "    print(\"this else block will be executed when the try block is true \")\n",
    "    f = open(\"xyz.txt\" , \"r\")"
   ]
  },
  {
   "cell_type": "code",
   "execution_count": null,
   "id": "508230cd-84a7-4ff4-a637-768e901850f8",
   "metadata": {},
   "outputs": [],
   "source": [
    "try :\n",
    "    a = 8/3\n",
    "    \n",
    "except ArithmeticError as a: \n",
    "    print(\"their is some issue in my code !! ==>\" , a)\n",
    "else :\n",
    "    print(\"this else block will be executed when the try block is true \")\n",
    "    try :\n",
    "        f = open(\"xyz.txt\" , \"r\")\n",
    "    except :\n",
    "        print(\"their is an issue in the try block that is inside else block .\")"
   ]
  },
  {
   "cell_type": "code",
   "execution_count": null,
   "id": "1ab0b490-7d90-485c-b66d-08a08ef0b6c6",
   "metadata": {},
   "outputs": [],
   "source": [
    "l = [1,2,3,4,5,6,7]\n",
    "print(l[10])\n",
    "t = (6,4,6,32,75,32)\n",
    "print(t)\n",
    "t[0] = \"ritesh\""
   ]
  },
  {
   "cell_type": "code",
   "execution_count": null,
   "id": "4fc2a380-5c3b-41e4-a99a-7bfd2a5a17e7",
   "metadata": {},
   "outputs": [],
   "source": [
    "try :\n",
    "    l = [1,2,3,4,5,6,7]\n",
    "    print(l[10])\n",
    "except IndexError as e:\n",
    "    print(\"their is some issue with my code ==>\" , e)\n",
    "    t = (6,4,6,32,75,32)\n",
    "    print(t)\n",
    "    t[0] = \"ritesh\"\n",
    "  \n",
    "        \n",
    "else :\n",
    "    print(\"their is no issue in code \")\n",
    "    t = (6,4,6,32,75,32)\n",
    "    print(t)"
   ]
  },
  {
   "cell_type": "code",
   "execution_count": null,
   "id": "4246bc6b-55d2-4931-b99e-9b81d3a4827a",
   "metadata": {},
   "outputs": [],
   "source": [
    "try :\n",
    "    l = [1,2,3,4,5,6,7]\n",
    "    print(l[10])\n",
    "except IndexError as e:\n",
    "    print(\"their is some issue with my code ==>\" , e)\n",
    "    t = (6,4,6,32,75,32)\n",
    "    print(t)\n",
    "    try :\n",
    "        t[0] = \"ritesh\"\n",
    "    except :\n",
    "        pass\n",
    "        \n",
    "else :\n",
    "    print(\"their is no issue in code \")\n",
    "    t = (6,4,6,32,75,32)\n",
    "    print(t)"
   ]
  },
  {
   "cell_type": "code",
   "execution_count": null,
   "id": "2a223e29-5ed5-47f2-86f9-0c8dc87739cb",
   "metadata": {},
   "outputs": [],
   "source": [
    "try :\n",
    "    f = open(\"xyz.txt\" , \"r\")\n",
    "finally : \n",
    "    print(\"only i will execute in every case as here try got here but still i get executed !!\")\n",
    "    l = [1,2,3,45,6,63]\n",
    "    print(l[3])"
   ]
  },
  {
   "cell_type": "code",
   "execution_count": null,
   "id": "537c4152-ad27-4a8e-89d7-3d5f6061a220",
   "metadata": {},
   "outputs": [],
   "source": [
    "try :\n",
    "    f = open(\"xyz.txt\" , \"r\")\n",
    "finally : \n",
    "    print(\"only i will execute in every case as here try got here but still i get executed !!\")\n",
    "    l = [1,2,3,45,6,63]\n",
    "    print(l[10])\n",
    "    print(l[3])"
   ]
  },
  {
   "cell_type": "code",
   "execution_count": null,
   "id": "10165fc6-66b8-47f1-853b-2acee23ec235",
   "metadata": {},
   "outputs": [],
   "source": [
    "try :\n",
    "    f = open(\"test.txt\" , \"r\")\n",
    "except :\n",
    "    pass\n",
    "else :\n",
    "    print(\"else will execute only when try block executes with success\")\n",
    "finally : \n",
    "    print(\"only i will execute in every case as here try got here but still i get executed !!\")\n",
    "    l = [1,2,3,45,6,63]\n",
    "    try :\n",
    "        print(l[10])\n",
    "    except : \n",
    "        pass"
   ]
  },
  {
   "cell_type": "markdown",
   "id": "8141d074-d932-46eb-af0e-0f31a409fa10",
   "metadata": {},
   "source": [
    "### key points\n",
    "- try block : suspicious code .\n",
    "- except block : if try block fails then it executes .\n",
    "- else block : if try block executes with success then it executes .\n",
    "- finally block : it will execute in every scenario ."
   ]
  },
  {
   "cell_type": "code",
   "execution_count": 1,
   "id": "a69ecf94-a722-4c18-b639-602cb5aa080e",
   "metadata": {},
   "outputs": [
    {
     "name": "stdout",
     "output_type": "stream",
     "text": [
      "their is an error ==> [Errno 2] No such file or directory: 'abc.txt'\n"
     ]
    }
   ],
   "source": [
    "try :\n",
    "    f = open(\"abc.txt\" , \"r\")\n",
    "except IOError as e:\n",
    "    print(\"their is an error ==>\" , e)"
   ]
  },
  {
   "cell_type": "code",
   "execution_count": 2,
   "id": "a45b8a5f-176b-49fd-8b6c-7d593a983882",
   "metadata": {},
   "outputs": [],
   "source": [
    "def askforINt() :\n",
    "    while True :\n",
    "        try :\n",
    "            print(\"diwduiwed\")\n",
    "            a = int(input(\"Enter an integer : \"))\n",
    "        except Exception as e :\n",
    "            print(\"the error message is : \" , e)\n",
    "        else :\n",
    "            print(\"you have entered an integer \")\n",
    "            break\n",
    "        finally :\n",
    "            print(\"resolve the issue \")"
   ]
  },
  {
   "cell_type": "code",
   "execution_count": 4,
   "id": "b4eacc59-2bf7-4201-b623-cc9ef42dc465",
   "metadata": {},
   "outputs": [
    {
     "name": "stdout",
     "output_type": "stream",
     "text": [
      "diwduiwed\n"
     ]
    },
    {
     "name": "stdin",
     "output_type": "stream",
     "text": [
      "Enter an integer :  232\n"
     ]
    },
    {
     "name": "stdout",
     "output_type": "stream",
     "text": [
      "you have entered an integer \n",
      "resolve the issue \n"
     ]
    }
   ],
   "source": [
    "askforINt()"
   ]
  },
  {
   "cell_type": "code",
   "execution_count": null,
   "id": "8eb2e5c4-5d96-4793-9928-5ea2df1b8f8d",
   "metadata": {},
   "outputs": [],
   "source": [
    "# so even after break finally is going to be executed in every case .\n",
    "# we can have multiple except blocks with unique error types ."
   ]
  },
  {
   "cell_type": "code",
   "execution_count": 5,
   "id": "1b9e38d6-770a-451c-8913-5657b778320f",
   "metadata": {},
   "outputs": [],
   "source": [
    "def askforINt1() :\n",
    "    while True :\n",
    "        try :\n",
    "            print(\"diwduiwed\")\n",
    "            a = int(input(\"Enter an integer : \"))\n",
    "        except IOError as i :\n",
    "            print(\"the error message is : \" , i)\n",
    "        except FileNotFoundError as f :\n",
    "            print(\"the error message is : \" , f)\n",
    "        except ValueError as v :\n",
    "            print(\"the error message is : \" , v)\n",
    "            \n",
    "        else :\n",
    "            print(\"you have entered an integer \")\n",
    "            break\n",
    "        finally :\n",
    "            print(\"resolve the issue \")"
   ]
  },
  {
   "cell_type": "code",
   "execution_count": 6,
   "id": "cf98e398-47a2-4474-9d0a-0bc5eb18f64d",
   "metadata": {},
   "outputs": [
    {
     "name": "stdout",
     "output_type": "stream",
     "text": [
      "diwduiwed\n"
     ]
    },
    {
     "name": "stdin",
     "output_type": "stream",
     "text": [
      "Enter an integer :  edii\n"
     ]
    },
    {
     "name": "stdout",
     "output_type": "stream",
     "text": [
      "the error message is :  invalid literal for int() with base 10: 'edii'\n",
      "resolve the issue \n",
      "diwduiwed\n"
     ]
    },
    {
     "name": "stdin",
     "output_type": "stream",
     "text": [
      "Enter an integer :  2\n"
     ]
    },
    {
     "name": "stdout",
     "output_type": "stream",
     "text": [
      "you have entered an integer \n",
      "resolve the issue \n"
     ]
    }
   ],
   "source": [
    "askforINt1()"
   ]
  },
  {
   "cell_type": "code",
   "execution_count": 8,
   "id": "0ca66db3-e99b-4b1d-974d-691bd1baf456",
   "metadata": {},
   "outputs": [],
   "source": [
    "def askforINt2() :\n",
    "    while True :\n",
    "        try :\n",
    "            print(\"diwduiwed\")\n",
    "            a = int(input(\"Enter an integer : \"))\n",
    "            c = 8/a\n",
    "        except IOError as i :\n",
    "            print(\"the error message is : \" , i)\n",
    "        except FileNotFoundError as f :\n",
    "            print(\"the error message is : \" , f)\n",
    "        except ValueError as v :\n",
    "            print(\"the error message is : \" , v)\n",
    "            \n",
    "        else :\n",
    "            print(\"you have entered an integer \")\n",
    "            break\n",
    "        finally :\n",
    "            print(\"resolve the issue \")"
   ]
  },
  {
   "cell_type": "code",
   "execution_count": 10,
   "id": "8098da69-0509-4feb-b364-2f930a9902bd",
   "metadata": {},
   "outputs": [
    {
     "name": "stdout",
     "output_type": "stream",
     "text": [
      "diwduiwed\n"
     ]
    },
    {
     "name": "stdin",
     "output_type": "stream",
     "text": [
      "Enter an integer :  0\n"
     ]
    },
    {
     "name": "stdout",
     "output_type": "stream",
     "text": [
      "resolve the issue \n"
     ]
    },
    {
     "ename": "ZeroDivisionError",
     "evalue": "division by zero",
     "output_type": "error",
     "traceback": [
      "\u001b[1;31m---------------------------------------------------------------------------\u001b[0m",
      "\u001b[1;31mZeroDivisionError\u001b[0m                         Traceback (most recent call last)",
      "Cell \u001b[1;32mIn[10], line 1\u001b[0m\n\u001b[1;32m----> 1\u001b[0m askforINt2()\n",
      "Cell \u001b[1;32mIn[8], line 6\u001b[0m, in \u001b[0;36maskforINt2\u001b[1;34m()\u001b[0m\n\u001b[0;32m      4\u001b[0m     \u001b[38;5;28mprint\u001b[39m(\u001b[38;5;124m\"\u001b[39m\u001b[38;5;124mdiwduiwed\u001b[39m\u001b[38;5;124m\"\u001b[39m)\n\u001b[0;32m      5\u001b[0m     a \u001b[38;5;241m=\u001b[39m \u001b[38;5;28mint\u001b[39m(\u001b[38;5;28minput\u001b[39m(\u001b[38;5;124m\"\u001b[39m\u001b[38;5;124mEnter an integer : \u001b[39m\u001b[38;5;124m\"\u001b[39m))\n\u001b[1;32m----> 6\u001b[0m     c \u001b[38;5;241m=\u001b[39m \u001b[38;5;241m8\u001b[39m\u001b[38;5;241m/\u001b[39ma\n\u001b[0;32m      7\u001b[0m \u001b[38;5;28;01mexcept\u001b[39;00m \u001b[38;5;167;01mIOError\u001b[39;00m \u001b[38;5;28;01mas\u001b[39;00m i :\n\u001b[0;32m      8\u001b[0m     \u001b[38;5;28mprint\u001b[39m(\u001b[38;5;124m\"\u001b[39m\u001b[38;5;124mthe error message is : \u001b[39m\u001b[38;5;124m\"\u001b[39m , i)\n",
      "\u001b[1;31mZeroDivisionError\u001b[0m: division by zero"
     ]
    }
   ],
   "source": [
    "askforINt2()"
   ]
  },
  {
   "cell_type": "code",
   "execution_count": 11,
   "id": "fb92916b-6e36-443b-96a7-09949f67a098",
   "metadata": {},
   "outputs": [],
   "source": [
    "# so now we have to add ZeroDivisionError in exception block too"
   ]
  },
  {
   "cell_type": "code",
   "execution_count": 16,
   "id": "162d0641-5949-4259-bc3b-eedde77c3d1a",
   "metadata": {},
   "outputs": [],
   "source": [
    "def askforINt3() :\n",
    "    while True :\n",
    "        try :\n",
    "            print(\"diwduiwed\")\n",
    "            a = int(input(\"Enter an integer : \"))\n",
    "            c = 8/a\n",
    "        except IOError as i :\n",
    "            print(\"the error message is : \" , i)\n",
    "        except FileNotFoundError as f :\n",
    "            print(\"the error message is : \" , f)\n",
    "        except ValueError as v :\n",
    "            print(\"the error message is : \" , v)\n",
    "        except ArithmeticError as a :\n",
    "            print(\"the Arithmetic error : \" , a)\n",
    "        except ZeroDivisionError as z :\n",
    "            print(\"the error message is : \" , z)\n",
    "            \n",
    "        else :\n",
    "            print(\"you have entered an integer \")\n",
    "            break\n",
    "        finally :\n",
    "            print(\"resolve the issue \")"
   ]
  },
  {
   "cell_type": "code",
   "execution_count": 17,
   "id": "feec1d7c-2be3-4b93-83e2-1808f3828cdf",
   "metadata": {},
   "outputs": [
    {
     "name": "stdout",
     "output_type": "stream",
     "text": [
      "diwduiwed\n"
     ]
    },
    {
     "name": "stdin",
     "output_type": "stream",
     "text": [
      "Enter an integer :  0\n"
     ]
    },
    {
     "name": "stdout",
     "output_type": "stream",
     "text": [
      "the Arithmetic error :  division by zero\n",
      "resolve the issue \n",
      "diwduiwed\n"
     ]
    },
    {
     "name": "stdin",
     "output_type": "stream",
     "text": [
      "Enter an integer :  4\n"
     ]
    },
    {
     "name": "stdout",
     "output_type": "stream",
     "text": [
      "you have entered an integer \n",
      "resolve the issue \n"
     ]
    }
   ],
   "source": [
    "askforINt3()"
   ]
  },
  {
   "cell_type": "code",
   "execution_count": 15,
   "id": "5eaceb1a-e779-4133-bd4f-1f79d592d792",
   "metadata": {},
   "outputs": [],
   "source": [
    "# can also use ArithmetiError inn place of ZeroDivisionError error both works fine  , if both used then whichever is written above will execute .\n",
    "# Exception is the parent it can handle all errors"
   ]
  },
  {
   "cell_type": "code",
   "execution_count": 19,
   "id": "d89d8029-49d6-4089-a0a2-8daf64e8380d",
   "metadata": {},
   "outputs": [],
   "source": [
    "def askforINt4() :\n",
    "    while True :\n",
    "        try :\n",
    "            print(\"diwduiwed\")\n",
    "            a = int(input(\"Enter an integer : \"))\n",
    "            c = 8/a\n",
    "        except IOError as i :\n",
    "            print(\"the error message is : \" , i)\n",
    "        except FileNotFoundError as f :\n",
    "            print(\"the error message is : \" , f)\n",
    "        except ValueError as v :\n",
    "            print(\"the error message is : \" , v)\n",
    "        except Exception as e :\n",
    "            print(\"the error message is from the PARENT : \" , e)\n",
    "        except ArithmeticError as a :\n",
    "            print(\"the Arithmetic error : \" , a)\n",
    "        except ZeroDivisionError as z :\n",
    "            print(\"the error message is : \" , z)\n",
    "            \n",
    "        else :\n",
    "            print(\"you have entered an integer \")\n",
    "            break\n",
    "        finally :\n",
    "            print(\"resolve the issue \")"
   ]
  },
  {
   "cell_type": "code",
   "execution_count": 20,
   "id": "d0c6d27f-3dff-42f8-8eca-46dff337d1a0",
   "metadata": {},
   "outputs": [
    {
     "name": "stdout",
     "output_type": "stream",
     "text": [
      "diwduiwed\n"
     ]
    },
    {
     "name": "stdin",
     "output_type": "stream",
     "text": [
      "Enter an integer :  0\n"
     ]
    },
    {
     "name": "stdout",
     "output_type": "stream",
     "text": [
      "the error message is from the PARENT :  division by zero\n",
      "resolve the issue \n",
      "diwduiwed\n"
     ]
    },
    {
     "name": "stdin",
     "output_type": "stream",
     "text": [
      "Enter an integer :  4\n"
     ]
    },
    {
     "name": "stdout",
     "output_type": "stream",
     "text": [
      "you have entered an integer \n",
      "resolve the issue \n"
     ]
    }
   ],
   "source": [
    "askforINt4()"
   ]
  },
  {
   "cell_type": "markdown",
   "id": "6a6e8b7a-1d7b-4d7b-a360-c25fe088e1e6",
   "metadata": {},
   "source": [
    "### Creating custom exceptions"
   ]
  },
  {
   "cell_type": "code",
   "execution_count": 37,
   "id": "af64eb0c-7542-4aeb-b4a1-79c4119d4999",
   "metadata": {},
   "outputs": [],
   "source": [
    "def create_your_exception(a) :\n",
    "    if a == 6 :\n",
    "        raise Exception(\"error is\" , a)\n",
    "    else :\n",
    "        print(\"input is ok !\")\n",
    "        \n",
    "    return a"
   ]
  },
  {
   "cell_type": "code",
   "execution_count": 40,
   "id": "3b6df28e-252b-4816-a872-3b0f0c078db1",
   "metadata": {},
   "outputs": [
    {
     "name": "stdout",
     "output_type": "stream",
     "text": [
      "('error is', 6)\n"
     ]
    }
   ],
   "source": [
    "try :\n",
    "    create_your_exception(6)\n",
    "except Exception as e :\n",
    "    print(e)\n",
    "    "
   ]
  },
  {
   "cell_type": "code",
   "execution_count": null,
   "id": "4f544901-b547-4429-9f4b-5c16ec49730a",
   "metadata": {},
   "outputs": [],
   "source": []
  },
  {
   "cell_type": "code",
   "execution_count": null,
   "id": "d451dda9-ebf0-4b5e-b18c-bf3e87a21937",
   "metadata": {},
   "outputs": [],
   "source": []
  }
 ],
 "metadata": {
  "kernelspec": {
   "display_name": "Python [conda env:base] *",
   "language": "python",
   "name": "conda-base-py"
  },
  "language_info": {
   "codemirror_mode": {
    "name": "ipython",
    "version": 3
   },
   "file_extension": ".py",
   "mimetype": "text/x-python",
   "name": "python",
   "nbconvert_exporter": "python",
   "pygments_lexer": "ipython3",
   "version": "3.12.7"
  }
 },
 "nbformat": 4,
 "nbformat_minor": 5
}
