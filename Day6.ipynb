{
 "cells": [
  {
   "cell_type": "markdown",
   "id": "996105d3-cfa5-47c1-9131-4f7a3a26b5af",
   "metadata": {},
   "source": [
    "# File Handeling\n",
    "- In write mode new file will automatically be created ."
   ]
  },
  {
   "cell_type": "code",
   "execution_count": 1,
   "id": "00bcdd44-bd42-4a57-a108-1ce1a1b17b5f",
   "metadata": {},
   "outputs": [],
   "source": [
    " f = open(\"test.txt\" , \"w\")"
   ]
  },
  {
   "cell_type": "code",
   "execution_count": 2,
   "id": "159d329f-307f-4306-b3f2-f79ca8520d7e",
   "metadata": {},
   "outputs": [
    {
     "data": {
      "text/plain": [
       "58"
      ]
     },
     "execution_count": 2,
     "metadata": {},
     "output_type": "execute_result"
    }
   ],
   "source": [
    "f.write(r\"ff sds er3wr ws dwrwrwd erew r w ewr dss fe fw ed wrw eew \")"
   ]
  },
  {
   "cell_type": "code",
   "execution_count": 3,
   "id": "00db5e26-c862-4af8-a3c0-c127a899343e",
   "metadata": {},
   "outputs": [],
   "source": [
    "f.close()"
   ]
  },
  {
   "cell_type": "code",
   "execution_count": 4,
   "id": "bddd4b31-7507-4c0d-afc9-1203f4252697",
   "metadata": {},
   "outputs": [
    {
     "data": {
      "text/plain": [
       "'ff sds er3wr ws dwrwrwd erew r w ewr dss fe fw ed wrw eew '"
      ]
     },
     "execution_count": 4,
     "metadata": {},
     "output_type": "execute_result"
    }
   ],
   "source": [
    "f = open(\"test.txt\")\n",
    "f.read()"
   ]
  },
  {
   "cell_type": "code",
   "execution_count": 5,
   "id": "0e1b0a5b-40aa-40b3-bfda-af95cd4d2e2f",
   "metadata": {},
   "outputs": [],
   "source": [
    "# the cursor starts reading the file from the start of the page and terminates after reading the complete data , so if we reuse read() then it will provide '' . "
   ]
  },
  {
   "cell_type": "code",
   "execution_count": 6,
   "id": "24e84758-0ac1-4da5-ab34-a4bdb88a06ca",
   "metadata": {},
   "outputs": [
    {
     "data": {
      "text/plain": [
       "''"
      ]
     },
     "execution_count": 6,
     "metadata": {},
     "output_type": "execute_result"
    }
   ],
   "source": [
    "f.read()"
   ]
  },
  {
   "cell_type": "code",
   "execution_count": 7,
   "id": "cb1723ff-d04c-4be3-b70e-4b4b79bea511",
   "metadata": {},
   "outputs": [
    {
     "data": {
      "text/plain": [
       "15"
      ]
     },
     "execution_count": 7,
     "metadata": {},
     "output_type": "execute_result"
    }
   ],
   "source": [
    "f.seek(15)\n",
    "# now the cursor is reset to the 15th word in our file data ."
   ]
  },
  {
   "cell_type": "code",
   "execution_count": 8,
   "id": "955882e6-cfd2-4bae-a1ce-d08c67d5b55c",
   "metadata": {},
   "outputs": [
    {
     "data": {
      "text/plain": [
       "' dwrwrwd erew r w ewr dss fe fw ed wrw eew '"
      ]
     },
     "execution_count": 8,
     "metadata": {},
     "output_type": "execute_result"
    }
   ],
   "source": [
    "f.read()"
   ]
  },
  {
   "cell_type": "code",
   "execution_count": 9,
   "id": "7c37dc1e-1a0c-485f-bf19-dd3bc24ae3ee",
   "metadata": {},
   "outputs": [],
   "source": [
    "f = open(\"test.txt\", \"r\")"
   ]
  },
  {
   "cell_type": "code",
   "execution_count": 10,
   "id": "890d794c-c2af-4c6a-a2f7-028f6ead9202",
   "metadata": {},
   "outputs": [
    {
     "ename": "UnsupportedOperation",
     "evalue": "not writable",
     "output_type": "error",
     "traceback": [
      "\u001b[1;31m---------------------------------------------------------------------------\u001b[0m",
      "\u001b[1;31mUnsupportedOperation\u001b[0m                      Traceback (most recent call last)",
      "Cell \u001b[1;32mIn[10], line 1\u001b[0m\n\u001b[1;32m----> 1\u001b[0m f\u001b[38;5;241m.\u001b[39mwrite(\u001b[38;5;124m\"\u001b[39m\u001b[38;5;124msqdqwd  dadadqw\u001b[39m\u001b[38;5;124m\"\u001b[39m)\n",
      "\u001b[1;31mUnsupportedOperation\u001b[0m: not writable"
     ]
    }
   ],
   "source": [
    "f.write(\"sqdqwd  dadadqw\")"
   ]
  },
  {
   "cell_type": "code",
   "execution_count": null,
   "id": "f2f36877-ea15-4481-8ab9-e7e741a0ddc6",
   "metadata": {},
   "outputs": [],
   "source": [
    "# since file is opened in read mode ."
   ]
  },
  {
   "cell_type": "code",
   "execution_count": null,
   "id": "d2766573-9235-4fa7-9c00-c741780a75ba",
   "metadata": {},
   "outputs": [],
   "source": [
    "f.read()"
   ]
  },
  {
   "cell_type": "code",
   "execution_count": null,
   "id": "040f4ef2-f584-4583-a178-62febc8d6726",
   "metadata": {},
   "outputs": [],
   "source": [
    "f.read()"
   ]
  },
  {
   "cell_type": "code",
   "execution_count": 11,
   "id": "18169545-2a05-4e54-8dfe-c3866489c9ee",
   "metadata": {},
   "outputs": [
    {
     "data": {
      "text/plain": [
       "0"
      ]
     },
     "execution_count": 11,
     "metadata": {},
     "output_type": "execute_result"
    }
   ],
   "source": [
    "f.seek(0)"
   ]
  },
  {
   "cell_type": "code",
   "execution_count": 12,
   "id": "696d8c0d-1be5-4cdb-a09b-98feba0d82e8",
   "metadata": {},
   "outputs": [
    {
     "data": {
      "text/plain": [
       "'ff sds er3wr ws dwrwrwd e'"
      ]
     },
     "execution_count": 12,
     "metadata": {},
     "output_type": "execute_result"
    }
   ],
   "source": [
    "f.read(25)\n",
    "# now it is reading only 25 characters from the current cursor location ."
   ]
  },
  {
   "cell_type": "code",
   "execution_count": 13,
   "id": "ba6581b8-b2db-477c-b607-dbe06dfa3b19",
   "metadata": {},
   "outputs": [],
   "source": [
    "f.close()"
   ]
  },
  {
   "cell_type": "code",
   "execution_count": 14,
   "id": "d5e7ef39-734e-4d21-82ee-3582c62e7301",
   "metadata": {},
   "outputs": [
    {
     "ename": "ValueError",
     "evalue": "I/O operation on closed file.",
     "output_type": "error",
     "traceback": [
      "\u001b[1;31m---------------------------------------------------------------------------\u001b[0m",
      "\u001b[1;31mValueError\u001b[0m                                Traceback (most recent call last)",
      "Cell \u001b[1;32mIn[14], line 1\u001b[0m\n\u001b[1;32m----> 1\u001b[0m f\u001b[38;5;241m.\u001b[39mread()\n",
      "\u001b[1;31mValueError\u001b[0m: I/O operation on closed file."
     ]
    }
   ],
   "source": [
    "f.read()"
   ]
  },
  {
   "cell_type": "code",
   "execution_count": 15,
   "id": "718a102b-ecb2-4d09-8e3b-34f8aedb4f66",
   "metadata": {},
   "outputs": [],
   "source": [
    "f = open(\"test.txt\" , \"w\")"
   ]
  },
  {
   "cell_type": "code",
   "execution_count": 16,
   "id": "6d8adab5-6d16-49d0-837f-c2bb0193d95f",
   "metadata": {},
   "outputs": [
    {
     "data": {
      "text/plain": [
       "46"
      ]
     },
     "execution_count": 16,
     "metadata": {},
     "output_type": "execute_result"
    }
   ],
   "source": [
    "f.write(\"jdgud edu2ud uidgud wehdd dhdh dugdued uidwhed\")\n"
   ]
  },
  {
   "cell_type": "code",
   "execution_count": 17,
   "id": "77517499-00fe-485b-8017-9b8c9cf82ca4",
   "metadata": {},
   "outputs": [],
   "source": [
    "f.close()"
   ]
  },
  {
   "cell_type": "code",
   "execution_count": 18,
   "id": "becfe7fa-5d74-4765-985f-1aa774f3d155",
   "metadata": {},
   "outputs": [],
   "source": [
    "f = open(\"test.txt\" , \"a\")"
   ]
  },
  {
   "cell_type": "code",
   "execution_count": 19,
   "id": "dc64aae1-313d-4082-91ba-c6b3e8a10dee",
   "metadata": {},
   "outputs": [
    {
     "data": {
      "text/plain": [
       "86"
      ]
     },
     "execution_count": 19,
     "metadata": {},
     "output_type": "execute_result"
    }
   ],
   "source": [
    "f.write(\"neef fjerhf djwdd jdhewudhd jiduhwheud jidbwed duiwgdu ududb uidgudb udwbd jdwug djbug\")"
   ]
  },
  {
   "cell_type": "code",
   "execution_count": 20,
   "id": "d48f3daa-0a49-4575-90aa-2ecacc97955a",
   "metadata": {},
   "outputs": [],
   "source": [
    "f.close()"
   ]
  },
  {
   "cell_type": "code",
   "execution_count": 21,
   "id": "d3247a73-99ef-4c31-b0f7-ed9d5436f2f9",
   "metadata": {},
   "outputs": [],
   "source": [
    "# so here in the append mode the new data will be appended with the previously present data , that will not happen in w mode ."
   ]
  },
  {
   "cell_type": "code",
   "execution_count": 22,
   "id": "e84555ea-f901-4d58-be65-086b2900e787",
   "metadata": {},
   "outputs": [],
   "source": [
    "f = open(\"test1.txt\" , \"wb\")"
   ]
  },
  {
   "cell_type": "code",
   "execution_count": 23,
   "id": "2c442482-784d-4ca3-abd2-7f1955c1486a",
   "metadata": {},
   "outputs": [
    {
     "ename": "TypeError",
     "evalue": "a bytes-like object is required, not 'str'",
     "output_type": "error",
     "traceback": [
      "\u001b[1;31m---------------------------------------------------------------------------\u001b[0m",
      "\u001b[1;31mTypeError\u001b[0m                                 Traceback (most recent call last)",
      "Cell \u001b[1;32mIn[23], line 1\u001b[0m\n\u001b[1;32m----> 1\u001b[0m f\u001b[38;5;241m.\u001b[39mwrite(\u001b[38;5;124m\"\u001b[39m\u001b[38;5;124mwefwejfwijwdm diuwd jsiugqw\u001b[39m\u001b[38;5;124m\"\u001b[39m)\n",
      "\u001b[1;31mTypeError\u001b[0m: a bytes-like object is required, not 'str'"
     ]
    }
   ],
   "source": [
    "f.write(\"wefwejfwijwdm diuwd jsiugqw\")"
   ]
  },
  {
   "cell_type": "code",
   "execution_count": 24,
   "id": "fc4e0114-7268-4027-a101-d5966a6bcb7f",
   "metadata": {},
   "outputs": [
    {
     "data": {
      "text/plain": [
       "27"
      ]
     },
     "execution_count": 24,
     "metadata": {},
     "output_type": "execute_result"
    }
   ],
   "source": [
    "f.write(b\"wefwejfwijwdm diuwd jsiugqw\")"
   ]
  },
  {
   "cell_type": "code",
   "execution_count": 25,
   "id": "fc83b93b-56a3-4b47-93dc-4120947cf3eb",
   "metadata": {},
   "outputs": [],
   "source": [
    "# so just add \"b\" that is binary before the string ."
   ]
  },
  {
   "cell_type": "code",
   "execution_count": 26,
   "id": "46ad02cf-b4a2-4a93-9a64-3673ca6c0e52",
   "metadata": {},
   "outputs": [],
   "source": [
    "f.close()"
   ]
  },
  {
   "cell_type": "code",
   "execution_count": 27,
   "id": "d2ba2975-fb30-4245-b89a-5f54eabc2804",
   "metadata": {},
   "outputs": [],
   "source": [
    "f = open(\"test1.txt\" , \"r\")"
   ]
  },
  {
   "cell_type": "code",
   "execution_count": 28,
   "id": "b182d626-0a86-4d50-ae68-b014abbfa14a",
   "metadata": {},
   "outputs": [
    {
     "data": {
      "text/plain": [
       "'wefwejfwijwdm diuwd jsiugqw'"
      ]
     },
     "execution_count": 28,
     "metadata": {},
     "output_type": "execute_result"
    }
   ],
   "source": [
    "f.read()"
   ]
  },
  {
   "cell_type": "code",
   "execution_count": 29,
   "id": "d51c951e-a367-4465-8e9e-b7f6d2c4b91f",
   "metadata": {},
   "outputs": [
    {
     "data": {
      "text/plain": [
       "3"
      ]
     },
     "execution_count": 29,
     "metadata": {},
     "output_type": "execute_result"
    }
   ],
   "source": [
    "f.seek(3)"
   ]
  },
  {
   "cell_type": "code",
   "execution_count": 30,
   "id": "72e59b02-505b-4b70-bbb3-898bebee293a",
   "metadata": {},
   "outputs": [
    {
     "data": {
      "text/plain": [
       "'wejfwijwdm'"
      ]
     },
     "execution_count": 30,
     "metadata": {},
     "output_type": "execute_result"
    }
   ],
   "source": [
    "f.read(10)"
   ]
  },
  {
   "cell_type": "code",
   "execution_count": 31,
   "id": "cc7f0d50-8f0f-4f64-a588-0fbd72492d09",
   "metadata": {},
   "outputs": [],
   "source": [
    "f.close()"
   ]
  },
  {
   "cell_type": "code",
   "execution_count": 36,
   "id": "fccee920-8710-4e90-8a01-55f0e87dc6cc",
   "metadata": {},
   "outputs": [],
   "source": [
    "f = open(\"test2.txt\" , \"w\")"
   ]
  },
  {
   "cell_type": "code",
   "execution_count": 37,
   "id": "baaff33a-97ad-4180-acfb-1295d75529e6",
   "metadata": {},
   "outputs": [
    {
     "data": {
      "text/plain": [
       "47"
      ]
     },
     "execution_count": 37,
     "metadata": {},
     "output_type": "execute_result"
    }
   ],
   "source": [
    "f.write(\"saduew duwegdu uiwdhdh uedhh iudew iuwdhdh dweh\")"
   ]
  },
  {
   "cell_type": "code",
   "execution_count": 38,
   "id": "1542f229-1de7-4257-997e-ea148f83f80d",
   "metadata": {},
   "outputs": [],
   "source": [
    "f.close()"
   ]
  },
  {
   "cell_type": "code",
   "execution_count": 2,
   "id": "ad61b08f-142f-40b8-b938-9d2458de377e",
   "metadata": {},
   "outputs": [],
   "source": [
    "f = open(\"test2.txt\" , \"r\")"
   ]
  },
  {
   "cell_type": "code",
   "execution_count": 3,
   "id": "2b012c20-d5c5-44af-8570-cdf424cb6062",
   "metadata": {},
   "outputs": [
    {
     "data": {
      "text/plain": [
       "'saduew duwegdu uiwdhdh uedhh iudew iuwdhdh dweh\\newwfwrhrbfghfd\\nfewegwfhrhrh\\nwfwegjrhrgr\\nwefwegrhrh\\newgwghrhS\\newgwgdfgxfbyjtyh\\nhthjtyj65jtyhrt\\nhrhrrjr'"
      ]
     },
     "execution_count": 3,
     "metadata": {},
     "output_type": "execute_result"
    }
   ],
   "source": [
    "f.read()"
   ]
  },
  {
   "cell_type": "code",
   "execution_count": 4,
   "id": "606c2be6-694d-42b6-aa96-eaea07dafcf9",
   "metadata": {},
   "outputs": [
    {
     "data": {
      "text/plain": [
       "0"
      ]
     },
     "execution_count": 4,
     "metadata": {},
     "output_type": "execute_result"
    }
   ],
   "source": [
    "f.seek(0)"
   ]
  },
  {
   "cell_type": "code",
   "execution_count": 5,
   "id": "47dace73-62a4-4588-bc85-416695d904c2",
   "metadata": {},
   "outputs": [
    {
     "data": {
      "text/plain": [
       "'saduew duwegdu uiwdhdh uedhh iudew iuwdhdh dweh\\n'"
      ]
     },
     "execution_count": 5,
     "metadata": {},
     "output_type": "execute_result"
    }
   ],
   "source": [
    "f.readline()"
   ]
  },
  {
   "cell_type": "code",
   "execution_count": 6,
   "id": "dfee3617-c888-4d83-b398-0281f292ce94",
   "metadata": {},
   "outputs": [
    {
     "data": {
      "text/plain": [
       "'ewwfwrhrbfghfd\\n'"
      ]
     },
     "execution_count": 6,
     "metadata": {},
     "output_type": "execute_result"
    }
   ],
   "source": [
    "f.readline()"
   ]
  },
  {
   "cell_type": "code",
   "execution_count": 7,
   "id": "3c916f6e-fd38-45d2-92c9-e97592e755cc",
   "metadata": {},
   "outputs": [
    {
     "data": {
      "text/plain": [
       "'feweg'"
      ]
     },
     "execution_count": 7,
     "metadata": {},
     "output_type": "execute_result"
    }
   ],
   "source": [
    "f.readline(5)"
   ]
  },
  {
   "cell_type": "code",
   "execution_count": 8,
   "id": "5e311e7f-b130-49e4-adac-c7a25abc5322",
   "metadata": {},
   "outputs": [],
   "source": [
    "# it reads one line at a time so when it encounter \"\\n\" it returns the data ."
   ]
  },
  {
   "cell_type": "code",
   "execution_count": 9,
   "id": "ff5284ec-4b72-45e2-b3bf-8386ade8ea24",
   "metadata": {},
   "outputs": [
    {
     "data": {
      "text/plain": [
       "0"
      ]
     },
     "execution_count": 9,
     "metadata": {},
     "output_type": "execute_result"
    }
   ],
   "source": [
    "f.seek(0)"
   ]
  },
  {
   "cell_type": "code",
   "execution_count": 10,
   "id": "e1ecd113-28d5-4069-b04f-41873859ee11",
   "metadata": {},
   "outputs": [
    {
     "name": "stdout",
     "output_type": "stream",
     "text": [
      "saduew duwegdu uiwdhdh uedhh iudew iuwdhdh dweh\n",
      " ewwfwrhrbfghfd\n",
      " fewegwfhrhrh\n",
      " wfwegjrhrgr\n",
      " wefwegrhrh\n",
      " ewgwghrhS\n",
      " ewgwgdfgxfbyjtyh\n",
      " hthjtyj65jtyhrt\n",
      " hrhrrjr "
     ]
    }
   ],
   "source": [
    "for i in f :\n",
    "    print(i , end = \" \")\n",
    "# end = \" \" helps in removing \\n after end of line ."
   ]
  },
  {
   "cell_type": "code",
   "execution_count": 11,
   "id": "a09d9c10-6def-4860-8c33-c3aab2a26fdd",
   "metadata": {},
   "outputs": [
    {
     "data": {
      "text/plain": [
       "0"
      ]
     },
     "execution_count": 11,
     "metadata": {},
     "output_type": "execute_result"
    }
   ],
   "source": [
    "f.seek(0)"
   ]
  },
  {
   "cell_type": "code",
   "execution_count": 12,
   "id": "3f250309-b8dc-41a8-a315-a639e6561467",
   "metadata": {},
   "outputs": [
    {
     "data": {
      "text/plain": [
       "['saduew duwegdu uiwdhdh uedhh iudew iuwdhdh dweh\\n',\n",
       " 'ewwfwrhrbfghfd\\n',\n",
       " 'fewegwfhrhrh\\n',\n",
       " 'wfwegjrhrgr\\n',\n",
       " 'wefwegrhrh\\n',\n",
       " 'ewgwghrhS\\n',\n",
       " 'ewgwgdfgxfbyjtyh\\n',\n",
       " 'hthjtyj65jtyhrt\\n',\n",
       " 'hrhrrjr']"
      ]
     },
     "execution_count": 12,
     "metadata": {},
     "output_type": "execute_result"
    }
   ],
   "source": [
    "list(f)"
   ]
  },
  {
   "cell_type": "code",
   "execution_count": 13,
   "id": "c38d2a05-0ac4-4a20-9142-0f3f797f4b51",
   "metadata": {},
   "outputs": [],
   "source": [
    "f.close()"
   ]
  },
  {
   "cell_type": "code",
   "execution_count": 15,
   "id": "e99c4e19-deab-400c-9e4a-0e6962df574e",
   "metadata": {},
   "outputs": [],
   "source": [
    "f = open(\"test2.txt\" , \"r+\")\n",
    "# now the file is opened in both read and write mode bcoz of \"r+\" ."
   ]
  },
  {
   "cell_type": "code",
   "execution_count": 16,
   "id": "29ed1e03-7b12-463b-aa3b-e5fa568470c4",
   "metadata": {},
   "outputs": [
    {
     "data": {
      "text/plain": [
       "'saduew duwegdu uiwdhdh uedhh iudew iuwdhdh dweh\\newwfwrhrbfghfd\\nfewegwfhrhrh\\nwfwegjrhrgr\\nwefwegrhrh\\newgwghrhS\\newgwgdfgxfbyjtyh\\nhthjtyj65jtyhrt\\nhrhrrjr'"
      ]
     },
     "execution_count": 16,
     "metadata": {},
     "output_type": "execute_result"
    }
   ],
   "source": [
    "f.read()"
   ]
  },
  {
   "cell_type": "code",
   "execution_count": 17,
   "id": "ea40bb7a-af32-402b-8ec8-7276a262f429",
   "metadata": {},
   "outputs": [
    {
     "data": {
      "text/plain": [
       "40"
      ]
     },
     "execution_count": 17,
     "metadata": {},
     "output_type": "execute_result"
    }
   ],
   "source": [
    "f.write(\"dwjebdwb bwduib iuhweud iudb iugdd iudgd\")"
   ]
  },
  {
   "cell_type": "code",
   "execution_count": 18,
   "id": "11fcf90b-86cf-4eb4-aa8d-6b36fd22e480",
   "metadata": {},
   "outputs": [],
   "source": [
    "f.close()"
   ]
  },
  {
   "cell_type": "code",
   "execution_count": 51,
   "id": "fa77affa-b01f-43ae-8073-5d3df8669fda",
   "metadata": {},
   "outputs": [],
   "source": [
    "f = open(\"test2.txt\" , \"r+\")"
   ]
  },
  {
   "cell_type": "code",
   "execution_count": 52,
   "id": "06d9c198-a998-482a-85c1-0a699d612640",
   "metadata": {},
   "outputs": [
    {
     "data": {
      "text/plain": [
       "True"
      ]
     },
     "execution_count": 52,
     "metadata": {},
     "output_type": "execute_result"
    }
   ],
   "source": [
    "f.writable()\n",
    "# Return whether object was opened for writing\n",
    "# If False, write() will raise OSError."
   ]
  },
  {
   "cell_type": "code",
   "execution_count": 53,
   "id": "a80e3a31-345f-406a-b431-76c3965d8c0f",
   "metadata": {},
   "outputs": [
    {
     "data": {
      "text/plain": [
       "5"
      ]
     },
     "execution_count": 53,
     "metadata": {},
     "output_type": "execute_result"
    }
   ],
   "source": [
    "f.fileno()\n",
    "# Return underlying file descriptor if one exists , not the actual file number ."
   ]
  },
  {
   "cell_type": "code",
   "execution_count": 54,
   "id": "03b9f40e-3a23-4d69-acaf-ddb0b8812ecd",
   "metadata": {},
   "outputs": [],
   "source": [
    "# another way of writing a file\n",
    "# not a standard way . here if file is not present then it will create onle otherwise it will just overwrite the file ."
   ]
  },
  {
   "cell_type": "code",
   "execution_count": 55,
   "id": "271d03eb-c62e-42f0-b79b-755f95009e56",
   "metadata": {},
   "outputs": [
    {
     "name": "stdout",
     "output_type": "stream",
     "text": [
      "Overwriting test3.txt\n"
     ]
    }
   ],
   "source": [
    "%%writefile test3.txt\n",
    "my name is ritesh swami ."
   ]
  },
  {
   "cell_type": "code",
   "execution_count": 56,
   "id": "e34c669c-8060-43d0-b36e-a66a472f9ffa",
   "metadata": {},
   "outputs": [],
   "source": [
    "# it is not possible to do all the file operations like this on various file formats . so pandas is used for this ."
   ]
  },
  {
   "cell_type": "markdown",
   "id": "0ca88fb3-7d11-4efc-bf53-f03fbc0176f2",
   "metadata": {},
   "source": [
    "## Basic OS Commands"
   ]
  },
  {
   "cell_type": "code",
   "execution_count": 57,
   "id": "b8939a7e-841b-4020-ba35-1144a9c2d607",
   "metadata": {},
   "outputs": [],
   "source": [
    "import os"
   ]
  },
  {
   "cell_type": "code",
   "execution_count": 62,
   "id": "c2bad1d0-9fb4-4826-8fa0-2bb616c6594a",
   "metadata": {},
   "outputs": [],
   "source": [
    "# pwd() ==> Return the current working directory path.\n",
    "# getcwd() ==> Return the current working directory path."
   ]
  },
  {
   "cell_type": "code",
   "execution_count": 63,
   "id": "85addd9b-da61-41c6-b06e-d6f2e9d838b5",
   "metadata": {},
   "outputs": [
    {
     "data": {
      "text/plain": [
       "'C:\\\\Users\\\\RITESH\\\\PYTHON SPACE'"
      ]
     },
     "execution_count": 63,
     "metadata": {},
     "output_type": "execute_result"
    }
   ],
   "source": [
    "pwd()"
   ]
  },
  {
   "cell_type": "code",
   "execution_count": 64,
   "id": "79caca90-5982-452b-8428-95efd280db4e",
   "metadata": {},
   "outputs": [
    {
     "data": {
      "text/plain": [
       "'C:\\\\Users\\\\RITESH\\\\PYTHON SPACE'"
      ]
     },
     "execution_count": 64,
     "metadata": {},
     "output_type": "execute_result"
    }
   ],
   "source": [
    "os.getcwd()"
   ]
  },
  {
   "cell_type": "code",
   "execution_count": 65,
   "id": "6514eb42-91c7-4772-8d42-6350f1eaf1fd",
   "metadata": {},
   "outputs": [],
   "source": [
    "# listdir() ==> Return a list containing the names of the files in the directory."
   ]
  },
  {
   "cell_type": "code",
   "execution_count": 66,
   "id": "2e56cc2d-1bf5-4ce0-ad3d-d2a0058826a3",
   "metadata": {},
   "outputs": [
    {
     "data": {
      "text/plain": [
       "['.ipynb_checkpoints',\n",
       " 'Day1.ipynb',\n",
       " 'Day2.ipynb',\n",
       " 'Day3.ipynb',\n",
       " 'Day4.ipynb',\n",
       " 'Day5.ipynb',\n",
       " 'Day6.ipynb',\n",
       " 'test.txt',\n",
       " 'test1.txt',\n",
       " 'test2.txt',\n",
       " 'test3.txt']"
      ]
     },
     "execution_count": 66,
     "metadata": {},
     "output_type": "execute_result"
    }
   ],
   "source": [
    "os.listdir()"
   ]
  },
  {
   "cell_type": "code",
   "execution_count": 67,
   "id": "2df83679-d229-4386-9b41-a48e9abed33a",
   "metadata": {},
   "outputs": [
    {
     "data": {
      "text/plain": [
       "['.anaconda',\n",
       " '.android',\n",
       " '.cache',\n",
       " '.conda',\n",
       " '.condarc',\n",
       " '.continuum',\n",
       " '.crossnote',\n",
       " '.cursor',\n",
       " '.Day1.ipynb.layout',\n",
       " '.devdock',\n",
       " '.eclipse',\n",
       " '.gitconfig',\n",
       " '.gk',\n",
       " '.ipynb_checkpoints',\n",
       " '.ipython',\n",
       " '.jupyter',\n",
       " '.ms-ad',\n",
       " '.node_repl_history',\n",
       " '.ollama',\n",
       " '.p2',\n",
       " '.skiko',\n",
       " '.vscode',\n",
       " 'anaconda_projects',\n",
       " 'ansel',\n",
       " 'AppData',\n",
       " 'Application Data',\n",
       " 'Contacts',\n",
       " 'Cookies',\n",
       " 'Documents',\n",
       " 'Downloads',\n",
       " 'eclipse',\n",
       " 'eclipse-workspace',\n",
       " 'Favorites',\n",
       " 'jdk-23_windows-x64_bin.exe',\n",
       " 'Links',\n",
       " 'Local Settings',\n",
       " 'My Documents',\n",
       " 'NetHood',\n",
       " 'NTUSER.DAT',\n",
       " 'ntuser.dat.LOG1',\n",
       " 'ntuser.dat.LOG2',\n",
       " 'NTUSER.DAT{fab1f52f-de68-11ef-b015-005056c00008}.TM.blf',\n",
       " 'NTUSER.DAT{fab1f52f-de68-11ef-b015-005056c00008}.TMContainer00000000000000000001.regtrans-ms',\n",
       " 'NTUSER.DAT{fab1f52f-de68-11ef-b015-005056c00008}.TMContainer00000000000000000002.regtrans-ms',\n",
       " 'ntuser.ini',\n",
       " 'OneDrive',\n",
       " 'Pictures',\n",
       " 'PrintHood',\n",
       " 'PYTHON SPACE',\n",
       " 'Recent',\n",
       " 'Saved Games',\n",
       " 'Searches',\n",
       " 'SendTo',\n",
       " 'Start Menu',\n",
       " 'Templates',\n",
       " 'Videos']"
      ]
     },
     "execution_count": 67,
     "metadata": {},
     "output_type": "execute_result"
    }
   ],
   "source": [
    "os.listdir(\"C:\\\\Users\\\\RITESH\")"
   ]
  },
  {
   "cell_type": "code",
   "execution_count": 68,
   "id": "f4120b55-ca03-43e6-9025-accdde586f5d",
   "metadata": {},
   "outputs": [],
   "source": [
    "os.chdir(\"C:\\\\Users\\\\RITESH\")"
   ]
  },
  {
   "cell_type": "code",
   "execution_count": 69,
   "id": "7bef4098-6fbd-4c84-8959-16d960a45494",
   "metadata": {},
   "outputs": [
    {
     "data": {
      "text/plain": [
       "'C:\\\\Users\\\\RITESH'"
      ]
     },
     "execution_count": 69,
     "metadata": {},
     "output_type": "execute_result"
    }
   ],
   "source": [
    "pwd()"
   ]
  },
  {
   "cell_type": "code",
   "execution_count": 70,
   "id": "579871dc-5844-4e08-b6e2-05b27094e1ef",
   "metadata": {},
   "outputs": [],
   "source": [
    "os.chdir(\"C:\\\\Users\\\\RITESH\\\\PYTHON SPACE\")"
   ]
  },
  {
   "cell_type": "code",
   "execution_count": 71,
   "id": "fd0683a4-013d-4f0d-9564-c56bc21c1ccb",
   "metadata": {},
   "outputs": [
    {
     "data": {
      "text/plain": [
       "'C:\\\\Users\\\\RITESH\\\\PYTHON SPACE'"
      ]
     },
     "execution_count": 71,
     "metadata": {},
     "output_type": "execute_result"
    }
   ],
   "source": [
    "pwd()"
   ]
  },
  {
   "cell_type": "code",
   "execution_count": 84,
   "id": "e98db4d8-ac4a-4c98-9e19-43125c96172b",
   "metadata": {},
   "outputs": [],
   "source": [
    "os.mkdir(\"Demo\")"
   ]
  },
  {
   "cell_type": "code",
   "execution_count": 86,
   "id": "7d7b4ac2-318d-405c-9850-c85b54d703ad",
   "metadata": {},
   "outputs": [
    {
     "name": "stdout",
     "output_type": "stream",
     "text": [
      "File is available \n",
      "my name is ritesh swami .\n",
      "\n"
     ]
    }
   ],
   "source": [
    "if \"test3.txt\" in os.listdir() :\n",
    "    print(\"File is available \")\n",
    "    f = open(\"test3.txt\" , \"r+\")\n",
    "    for i in f :\n",
    "        print(i)\n",
    "else :\n",
    "    print(\"Not available in this directory \")"
   ]
  },
  {
   "cell_type": "code",
   "execution_count": 94,
   "id": "3d3a90f6-924d-4b9c-89cd-e26e36f494e8",
   "metadata": {},
   "outputs": [],
   "source": [
    "if not os.path.isdir(\"Demo\") :\n",
    "    os.mkdir(\"Demo\")"
   ]
  },
  {
   "cell_type": "code",
   "execution_count": 88,
   "id": "3b68540a-93dc-4a2a-80d0-8db9e8062f57",
   "metadata": {},
   "outputs": [],
   "source": [
    "os.rename(\"test.txt\" , \"TEST.txt\")"
   ]
  },
  {
   "cell_type": "code",
   "execution_count": 89,
   "id": "067f60b2-667f-47be-bfb8-0b59f054abcd",
   "metadata": {},
   "outputs": [],
   "source": [
    "os.rmdir(\"Demo\")"
   ]
  },
  {
   "cell_type": "code",
   "execution_count": 95,
   "id": "9af99891-bdf2-4b08-bcbb-8deb9ead8f7c",
   "metadata": {},
   "outputs": [],
   "source": [
    "# Question\n",
    "# create a directory and create 10 txt files and add some data in them .\n",
    "# read all the data from the files and print in console .\n",
    "# hold all the data in a list .\n",
    "# write all the data in a new file from the list .\n",
    "# keep only the new file in present directory , and moverest to another directory ."
   ]
  },
  {
   "cell_type": "code",
   "execution_count": 102,
   "id": "6ef12845-e198-412d-9181-09d64cb7cd21",
   "metadata": {},
   "outputs": [
    {
     "name": "stdout",
     "output_type": "stream",
     "text": [
      "my name is ritesh swami\n",
      "\n",
      "my name is ritesh swami\n",
      "\n",
      "my name is ritesh swami\n",
      "\n",
      "my name is ritesh swami\n",
      "\n",
      "my name is ritesh swami\n",
      "\n",
      "my name is ritesh swami\n",
      "\n",
      "my name is ritesh swami\n",
      "\n",
      "my name is ritesh swami\n",
      "\n",
      "my name is ritesh swami\n",
      "\n",
      "my name is ritesh swami\n",
      "\n",
      "['my name is ritesh swami\\n', 'my name is ritesh swami\\n', 'my name is ritesh swami\\n', 'my name is ritesh swami\\n', 'my name is ritesh swami\\n', 'my name is ritesh swami\\n', 'my name is ritesh swami\\n', 'my name is ritesh swami\\n', 'my name is ritesh swami\\n', 'my name is ritesh swami\\n']\n"
     ]
    }
   ],
   "source": [
    "# Make directory and change to it\n",
    "os.mkdir(\"Question\")\n",
    "os.chdir(os.path.join(os.getcwd(), \"Question\"))\n",
    "\n",
    "# 1. Create 10 text files\n",
    "for i in range(10):\n",
    "    fname = f\"test{i+1}.txt\"\n",
    "    with open(fname, \"w\") as f:\n",
    "        f.write(\"my name is ritesh swami\\n\")\n",
    "\n",
    "# 2. Read and print contents of each file\n",
    "for i in range(10):\n",
    "    fname = f\"test{i+1}.txt\"\n",
    "    with open(fname, \"r\") as f:\n",
    "        data = f.read()\n",
    "    print(data)\n",
    "\n",
    "# 3. Store contents in a list\n",
    "l = []\n",
    "for i in range(10):\n",
    "    fname = f\"test{i+1}.txt\"\n",
    "    with open(fname, \"r\") as f:\n",
    "        l.append(f.read())\n",
    "\n",
    "print(l)\n",
    "\n",
    "# 4. Write all contents to a new file\n",
    "with open(\"newTest.txt\", \"w\") as f:\n",
    "    for item in l:\n",
    "        f.write(item)\n",
    "\n",
    "os.chdir(\"C:\\\\Users\\\\RITESH\\\\PYTHON SPACE\")"
   ]
  },
  {
   "cell_type": "code",
   "execution_count": 101,
   "id": "f91772ca-42dc-488b-acc3-e400a98eaaf2",
   "metadata": {},
   "outputs": [
    {
     "data": {
      "text/plain": [
       "'C:\\\\Users\\\\RITESH\\\\PYTHON SPACE'"
      ]
     },
     "execution_count": 101,
     "metadata": {},
     "output_type": "execute_result"
    }
   ],
   "source": [
    "pwd()"
   ]
  },
  {
   "cell_type": "code",
   "execution_count": null,
   "id": "0e30b177-487d-4315-9690-b01a31e80177",
   "metadata": {},
   "outputs": [],
   "source": []
  }
 ],
 "metadata": {
  "kernelspec": {
   "display_name": "Python [conda env:base] *",
   "language": "python",
   "name": "conda-base-py"
  },
  "language_info": {
   "codemirror_mode": {
    "name": "ipython",
    "version": 3
   },
   "file_extension": ".py",
   "mimetype": "text/x-python",
   "name": "python",
   "nbconvert_exporter": "python",
   "pygments_lexer": "ipython3",
   "version": "3.12.7"
  }
 },
 "nbformat": 4,
 "nbformat_minor": 5
}
