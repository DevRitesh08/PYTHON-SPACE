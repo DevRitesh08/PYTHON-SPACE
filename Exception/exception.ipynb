{
 "cells": [
  {
   "cell_type": "code",
   "execution_count": 2,
   "id": "4592239a-26bd-4c1b-a1c1-3bc66d93584c",
   "metadata": {},
   "outputs": [],
   "source": [
    "import mod1"
   ]
  },
  {
   "cell_type": "code",
   "execution_count": 3,
   "id": "991c60e7-b95b-4249-810f-51481f44634c",
   "metadata": {},
   "outputs": [],
   "source": [
    "from mod1 import evennum "
   ]
  },
  {
   "cell_type": "code",
   "execution_count": 5,
   "id": "29c0230e-e92a-4a8b-8dc0-c2f28aa838a9",
   "metadata": {},
   "outputs": [
    {
     "name": "stdin",
     "output_type": "stream",
     "text": [
      "enter an integer input :  duf\n"
     ]
    },
    {
     "name": "stdout",
     "output_type": "stream",
     "text": [
      "issue with input :  invalid literal for int() with base 10: 'duf'\n",
      "end of excption handle for this code \n"
     ]
    },
    {
     "name": "stdin",
     "output_type": "stream",
     "text": [
      "enter an integer input :  8\n"
     ]
    },
    {
     "name": "stdout",
     "output_type": "stream",
     "text": [
      "0\n",
      "2\n",
      "4\n",
      "6\n",
      "question solved !!!\n",
      "end of excption handle for this code \n"
     ]
    }
   ],
   "source": [
    "while True :\n",
    "    try :\n",
    "        n = int(input(\"enter an integer input : \"))\n",
    "    except Exception as e :\n",
    "        print(\"issue with input : \", e)\n",
    "    else :\n",
    "        evennum(n)\n",
    "        print(\"question solved !!!\")\n",
    "        break\n",
    "    finally :\n",
    "        print(\"end of excption handle for this code \")\n",
    "        \n",
    "    \n"
   ]
  },
  {
   "cell_type": "code",
   "execution_count": null,
   "id": "ed52a146-6230-479f-bf12-9bc5ca5d3c68",
   "metadata": {},
   "outputs": [],
   "source": []
  }
 ],
 "metadata": {
  "kernelspec": {
   "display_name": "Python [conda env:base] *",
   "language": "python",
   "name": "conda-base-py"
  },
  "language_info": {
   "codemirror_mode": {
    "name": "ipython",
    "version": 3
   },
   "file_extension": ".py",
   "mimetype": "text/x-python",
   "name": "python",
   "nbconvert_exporter": "python",
   "pygments_lexer": "ipython3",
   "version": "3.12.7"
  }
 },
 "nbformat": 4,
 "nbformat_minor": 5
}
