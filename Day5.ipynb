{
 "cells": [
  {
   "cell_type": "code",
   "execution_count": 1,
   "id": "e1af3158-05d7-4df2-95cf-cb5d343b4c49",
   "metadata": {},
   "outputs": [],
   "source": [
    "# Function"
   ]
  },
  {
   "cell_type": "code",
   "execution_count": null,
   "id": "d1a12589-869d-486c-947c-9b36dbf001e7",
   "metadata": {},
   "outputs": [],
   "source": [
    "# def is used to declare a function ."
   ]
  },
  {
   "cell_type": "code",
   "execution_count": 4,
   "id": "a3b547b6-0e50-48de-a012-068db4703e09",
   "metadata": {},
   "outputs": [
    {
     "name": "stdout",
     "output_type": "stream",
     "text": [
      "139\n",
      "2347\n",
      "144.666\n",
      "4578\n"
     ]
    }
   ],
   "source": [
    "def sum2(x,y) :\n",
    "    # pass ==> use when we are not declaring the complete function .\n",
    "    print(x+y)\n",
    "\n",
    "\n",
    "sum2(64,75)\n",
    "sum2(2324,23)\n",
    "sum2(13.123,131.543)\n",
    "sum2(32,4546)\n",
    "\n"
   ]
  },
  {
   "cell_type": "code",
   "execution_count": 5,
   "id": "ddc68ea4-a10a-44ed-ba99-ad9d0d37f7e5",
   "metadata": {},
   "outputs": [
    {
     "ename": "NameError",
     "evalue": "name 'sum2' is not defined",
     "output_type": "error",
     "traceback": [
      "\u001b[1;31m---------------------------------------------------------------------------\u001b[0m",
      "\u001b[1;31mNameError\u001b[0m                                 Traceback (most recent call last)",
      "Cell \u001b[1;32mIn[5], line 1\u001b[0m\n\u001b[1;32m----> 1\u001b[0m sum2(\u001b[38;5;241m23\u001b[39m,\u001b[38;5;241m45\u001b[39m) \u001b[38;5;241m+\u001b[39m \u001b[38;5;241m42\u001b[39m\n",
      "\u001b[1;31mNameError\u001b[0m: name 'sum2' is not defined"
     ]
    }
   ],
   "source": [
    "sum2(23,45) + 42\n",
    "# since it is an void function ."
   ]
  },
  {
   "cell_type": "code",
   "execution_count": 3,
   "id": "0d7f1b94-6fbb-4fec-8cc7-215801a30d7f",
   "metadata": {},
   "outputs": [
    {
     "name": "stdout",
     "output_type": "stream",
     "text": [
      "24\n",
      "4275.936\n",
      "97251\n"
     ]
    }
   ],
   "source": [
    "def mul2(x,y) :\n",
    "    return x*y\n",
    "\n",
    "print(mul2(12,2))\n",
    "print(mul2(13.23,323.2))\n",
    "print(mul2(231,421))"
   ]
  },
  {
   "cell_type": "code",
   "execution_count": 11,
   "id": "ead318c0-ee65-420b-aca9-a17e614137c4",
   "metadata": {},
   "outputs": [
    {
     "data": {
      "text/plain": [
       "586"
      ]
     },
     "execution_count": 11,
     "metadata": {},
     "output_type": "execute_result"
    }
   ],
   "source": [
    "mul2(23,24) + 34"
   ]
  },
  {
   "cell_type": "code",
   "execution_count": 9,
   "id": "6fad471d-e008-4269-95d9-f85769cb8dd1",
   "metadata": {},
   "outputs": [
    {
     "name": "stdout",
     "output_type": "stream",
     "text": [
      "(230, 40, 92)\n"
     ]
    },
    {
     "data": {
      "text/plain": [
       "tuple"
      ]
     },
     "execution_count": 9,
     "metadata": {},
     "output_type": "execute_result"
    }
   ],
   "source": [
    "def test(m , n) :\n",
    "    return m*10  , n * 10 , m*n \n",
    "\n",
    "print(test(23,4))\n",
    "type(test(23,4))"
   ]
  },
  {
   "cell_type": "code",
   "execution_count": 16,
   "id": "262ec26a-214b-4295-a0e4-caa5c4e403d0",
   "metadata": {},
   "outputs": [],
   "source": [
    "# by default when we return multiple values they they will be in the form of a tuple .\n",
    "# can also hold the data into separate variables like below ."
   ]
  },
  {
   "cell_type": "code",
   "execution_count": 17,
   "id": "4c15d25e-cb25-46b4-adf9-c759e5f1d6c8",
   "metadata": {},
   "outputs": [],
   "source": [
    "a,b,c = test(82,23)"
   ]
  },
  {
   "cell_type": "code",
   "execution_count": 18,
   "id": "e6337e14-55c8-434e-94fb-75e907102a14",
   "metadata": {},
   "outputs": [
    {
     "name": "stdout",
     "output_type": "stream",
     "text": [
      "820\n",
      "230\n",
      "1886\n"
     ]
    }
   ],
   "source": [
    "print(a)\n",
    "print(b)\n",
    "print(c)"
   ]
  },
  {
   "cell_type": "code",
   "execution_count": 19,
   "id": "20c5b0cb-50ab-4248-b765-3526147ada36",
   "metadata": {},
   "outputs": [],
   "source": [
    "# when do not require an return then we can use \"_\" placeholder ."
   ]
  },
  {
   "cell_type": "code",
   "execution_count": 20,
   "id": "8e5b4fb5-9845-4958-8edc-7ebef7175d14",
   "metadata": {},
   "outputs": [
    {
     "name": "stdout",
     "output_type": "stream",
     "text": [
      "30\n",
      "40\n",
      "12\n"
     ]
    }
   ],
   "source": [
    "a,b,_ = test(3,4)\n",
    "print(a)\n",
    "print(b)\n",
    "print(_)"
   ]
  },
  {
   "cell_type": "code",
   "execution_count": 23,
   "id": "73f3b71a-bb66-4676-aad6-e0090be20b75",
   "metadata": {},
   "outputs": [
    {
     "name": "stdout",
     "output_type": "stream",
     "text": [
      "60\n",
      "12\n",
      "12\n"
     ]
    }
   ],
   "source": [
    "a,_,_ = test(6,2)\n",
    "print(a)\n",
    "print(_)\n",
    "print(_)"
   ]
  },
  {
   "cell_type": "code",
   "execution_count": 25,
   "id": "522c6ed2-b467-40e9-b01f-60feaec6d697",
   "metadata": {},
   "outputs": [
    {
     "name": "stdout",
     "output_type": "stream",
     "text": [
      "54\n",
      "54\n",
      "54\n"
     ]
    }
   ],
   "source": [
    "_,_,_ = test(9,6)\n",
    "print(_)\n",
    "print(_)\n",
    "print(_)"
   ]
  },
  {
   "cell_type": "code",
   "execution_count": 27,
   "id": "69119842-2bc0-48f1-857a-cc6fa53729a5",
   "metadata": {},
   "outputs": [
    {
     "name": "stdout",
     "output_type": "stream",
     "text": [
      "[1, 2, 3, 4, 1, 2, 3, 4]\n",
      "72\n"
     ]
    }
   ],
   "source": [
    "def test3(n) :\n",
    "    return n*2\n",
    "\n",
    "print(test3([1,2,3,4]))\n",
    "print(test3(36))"
   ]
  },
  {
   "cell_type": "code",
   "execution_count": 37,
   "id": "f592fbce-ed88-40c2-8c25-05587fa8f433",
   "metadata": {},
   "outputs": [
    {
     "name": "stdout",
     "output_type": "stream",
     "text": [
      "([1, 2, 3, 4], [1, 2, 3, 4, 1, 2, 3, 4, 1, 2, 3, 4])\n",
      "\n",
      "\n",
      "[1, 2, 3, 4]\n",
      "\n",
      "\n",
      "(36, 108)\n",
      "\n",
      "\n",
      "36\n"
     ]
    }
   ],
   "source": [
    "def test3(n) :\n",
    "    return n , n*3\n",
    "\n",
    "b = test3([1,2,3,4])\n",
    "print(b)\n",
    "print(\"\\n\")\n",
    "print(b[0])\n",
    "\n",
    "print(\"\\n\")\n",
    "\n",
    "c = test3(36)\n",
    "print(c)\n",
    "print(\"\\n\")\n",
    "print(c[0])\n"
   ]
  },
  {
   "cell_type": "code",
   "execution_count": null,
   "id": "679004ba-ad4e-48d1-a2e5-5c00a689c0b2",
   "metadata": {},
   "outputs": [],
   "source": [
    "# we can also assign default values in a function that will be taken when a value is not provided .\n",
    "# But , the variables with default values must be placed to the rightmost side of braces \"( , , , , here)\" ."
   ]
  },
  {
   "cell_type": "code",
   "execution_count": 40,
   "id": "f8b2b88c-aa65-46fb-9ecd-cef25640064c",
   "metadata": {},
   "outputs": [],
   "source": [
    "def test7(n , m = 40) :\n",
    "    return n + m\n"
   ]
  },
  {
   "cell_type": "code",
   "execution_count": 41,
   "id": "d9ed8e42-4e2a-4fe7-a168-f5c2ed376f53",
   "metadata": {},
   "outputs": [
    {
     "data": {
      "text/plain": [
       "100"
      ]
     },
     "execution_count": 41,
     "metadata": {},
     "output_type": "execute_result"
    }
   ],
   "source": [
    "test7(60)"
   ]
  },
  {
   "cell_type": "code",
   "execution_count": 42,
   "id": "423d4f63-09d0-4d2e-9509-f36eb0f631c5",
   "metadata": {},
   "outputs": [
    {
     "data": {
      "text/plain": [
       "200"
      ]
     },
     "execution_count": 42,
     "metadata": {},
     "output_type": "execute_result"
    }
   ],
   "source": [
    "test7(150 , 50)"
   ]
  },
  {
   "cell_type": "code",
   "execution_count": 46,
   "id": "06af846d-163f-449c-bad9-98fff9f6567e",
   "metadata": {},
   "outputs": [],
   "source": [
    "def boolx(a = True  , b = False) :\n",
    "    return a + b"
   ]
  },
  {
   "cell_type": "code",
   "execution_count": 47,
   "id": "17ac019c-0c99-4821-bc69-14f66439e64b",
   "metadata": {},
   "outputs": [
    {
     "data": {
      "text/plain": [
       "1"
      ]
     },
     "execution_count": 47,
     "metadata": {},
     "output_type": "execute_result"
    }
   ],
   "source": [
    "boolx()"
   ]
  },
  {
   "cell_type": "code",
   "execution_count": 49,
   "id": "decc365c-e392-4f42-a6fc-15983b14467c",
   "metadata": {},
   "outputs": [
    {
     "data": {
      "text/plain": [
       "0"
      ]
     },
     "execution_count": 49,
     "metadata": {},
     "output_type": "execute_result"
    }
   ],
   "source": [
    "boolx(False , False)"
   ]
  },
  {
   "cell_type": "code",
   "execution_count": 50,
   "id": "ce124cfd-0217-43ee-a083-5ab4534fc5ad",
   "metadata": {},
   "outputs": [
    {
     "data": {
      "text/plain": [
       "0"
      ]
     },
     "execution_count": 50,
     "metadata": {},
     "output_type": "execute_result"
    }
   ],
   "source": [
    "boolx(0,0)"
   ]
  },
  {
   "cell_type": "code",
   "execution_count": 51,
   "id": "0244c0af-a12e-4c77-ac6e-e320aa6ad59b",
   "metadata": {},
   "outputs": [],
   "source": [
    "def travel(car = True , bike = False) :\n",
    "    plan = car or bike \n",
    "    return car , bike , plan"
   ]
  },
  {
   "cell_type": "code",
   "execution_count": 52,
   "id": "da6b3ae5-ff1d-4d51-a418-8bf6864df8e2",
   "metadata": {},
   "outputs": [
    {
     "data": {
      "text/plain": [
       "(True, False, True)"
      ]
     },
     "execution_count": 52,
     "metadata": {},
     "output_type": "execute_result"
    }
   ],
   "source": [
    "travel()"
   ]
  },
  {
   "cell_type": "code",
   "execution_count": 54,
   "id": "c39bef78-6d13-4e9b-8ea8-37c103adb557",
   "metadata": {},
   "outputs": [
    {
     "data": {
      "text/plain": [
       "(False, False, False)"
      ]
     },
     "execution_count": 54,
     "metadata": {},
     "output_type": "execute_result"
    }
   ],
   "source": [
    "travel(False)\n",
    "# this false will be assigned to the car which is declared first ."
   ]
  },
  {
   "cell_type": "code",
   "execution_count": 56,
   "id": "995233f6-3a92-4ac1-bca1-251fe84afb37",
   "metadata": {},
   "outputs": [
    {
     "data": {
      "text/plain": [
       "(True, True, True)"
      ]
     },
     "execution_count": 56,
     "metadata": {},
     "output_type": "execute_result"
    }
   ],
   "source": [
    "travel(bike = True)\n",
    "# so we can assign like this also without assigning the car ."
   ]
  },
  {
   "cell_type": "code",
   "execution_count": 59,
   "id": "afb2bb2c-a792-455a-8d37-672f974276e1",
   "metadata": {},
   "outputs": [],
   "source": [
    "# to pass multiple data into a function we use *args"
   ]
  },
  {
   "cell_type": "code",
   "execution_count": 67,
   "id": "f22d0d17-19e2-49eb-82e2-a4c912a3a1f0",
   "metadata": {},
   "outputs": [
    {
     "data": {
      "text/plain": [
       "(1, 3, 4.32, 'Ritesh', {2, 3, 4, 5}, ['hiii', 90, 33.2])"
      ]
     },
     "execution_count": 67,
     "metadata": {},
     "output_type": "execute_result"
    }
   ],
   "source": [
    "def test8(*args) :\n",
    "    return args\n",
    "\n",
    "test8(1,3,4.32 , \"Ritesh\" , {2,3,4,5} , [\"hiii\" , 90 , 33.2])"
   ]
  },
  {
   "cell_type": "code",
   "execution_count": 68,
   "id": "000910fd-981b-4032-b4f7-de4f23447615",
   "metadata": {},
   "outputs": [],
   "source": [
    "# Question\n",
    "# write a funnction that takes n list as input and concatenates them into a single list ."
   ]
  },
  {
   "cell_type": "code",
   "execution_count": 70,
   "id": "807cc339-a42d-4a88-aac6-c2728be6ec9f",
   "metadata": {},
   "outputs": [
    {
     "data": {
      "text/plain": [
       "[1, 2, 3, 4, 5, 6, 7]"
      ]
     },
     "execution_count": 70,
     "metadata": {},
     "output_type": "execute_result"
    }
   ],
   "source": [
    "# this we have to convert for n list inputs .\n",
    "def test9(a,b,c) :\n",
    "    return a+b+c\n",
    "test9([1,2],[3,4],[5,6,7])"
   ]
  },
  {
   "cell_type": "code",
   "execution_count": 78,
   "id": "f6592aee-cfc7-4b5c-860f-00034217a79e",
   "metadata": {},
   "outputs": [
    {
     "data": {
      "text/plain": [
       "[1, 2, 3, 4, 5, 6, 7, 8, 9]"
      ]
     },
     "execution_count": 78,
     "metadata": {},
     "output_type": "execute_result"
    }
   ],
   "source": [
    "def listCon(*args) :\n",
    "    l = []\n",
    "    for i in args :\n",
    "        l = l + i\n",
    "    return l\n",
    "\n",
    "listCon([1,2],[3,4],[5,6,7],[8,9])"
   ]
  },
  {
   "cell_type": "code",
   "execution_count": 74,
   "id": "5a8923e5-ca47-43f9-972b-d437c8df24c6",
   "metadata": {},
   "outputs": [
    {
     "ename": "TypeError",
     "evalue": "can only concatenate list (not \"int\") to list",
     "output_type": "error",
     "traceback": [
      "\u001b[1;31m---------------------------------------------------------------------------\u001b[0m",
      "\u001b[1;31mTypeError\u001b[0m                                 Traceback (most recent call last)",
      "Cell \u001b[1;32mIn[74], line 1\u001b[0m\n\u001b[1;32m----> 1\u001b[0m listCon([\u001b[38;5;241m1\u001b[39m,\u001b[38;5;241m2\u001b[39m],\u001b[38;5;241m78\u001b[39m,[\u001b[38;5;241m5\u001b[39m,\u001b[38;5;241m6\u001b[39m,\u001b[38;5;241m7\u001b[39m],\u001b[38;5;124m\"\u001b[39m\u001b[38;5;124mhii\u001b[39m\u001b[38;5;124m\"\u001b[39m,[\u001b[38;5;241m8\u001b[39m,\u001b[38;5;241m9\u001b[39m])\n",
      "Cell \u001b[1;32mIn[73], line 5\u001b[0m, in \u001b[0;36mlistCon\u001b[1;34m(*args)\u001b[0m\n\u001b[0;32m      3\u001b[0m args \u001b[38;5;241m=\u001b[39m \u001b[38;5;28mlist\u001b[39m(args)\n\u001b[0;32m      4\u001b[0m \u001b[38;5;28;01mfor\u001b[39;00m i \u001b[38;5;129;01min\u001b[39;00m args :\n\u001b[1;32m----> 5\u001b[0m     l \u001b[38;5;241m=\u001b[39m l \u001b[38;5;241m+\u001b[39m i\n\u001b[0;32m      6\u001b[0m \u001b[38;5;28;01mreturn\u001b[39;00m l\n",
      "\u001b[1;31mTypeError\u001b[0m: can only concatenate list (not \"int\") to list"
     ]
    }
   ],
   "source": [
    "listCon([1,2],78,[5,6,7],\"hii\",[8,9])"
   ]
  },
  {
   "cell_type": "code",
   "execution_count": 76,
   "id": "3406b8cb-c096-4162-aee6-c179c2addb6e",
   "metadata": {},
   "outputs": [],
   "source": [
    "# sice we can only concatenate data that has same data type\n",
    "# modified code below ,"
   ]
  },
  {
   "cell_type": "code",
   "execution_count": 82,
   "id": "36e5e183-7958-43cf-8b76-9a7ad7a46b86",
   "metadata": {},
   "outputs": [
    {
     "data": {
      "text/plain": [
       "[1, 2, 5, 6, 7, 8, 9]"
      ]
     },
     "execution_count": 82,
     "metadata": {},
     "output_type": "execute_result"
    }
   ],
   "source": [
    "def listCon1(*args) :\n",
    "    l = []\n",
    "    for i in args :\n",
    "        if type(i) == list :\n",
    "            l = l + i\n",
    "    return l\n",
    "\n",
    "listCon1([1,2],78,[5,6,7],\"hii\",[8,9])"
   ]
  },
  {
   "cell_type": "code",
   "execution_count": 83,
   "id": "2da59c8a-24d1-4f68-9cb0-9ff61036ed6b",
   "metadata": {},
   "outputs": [],
   "source": [
    "# **kwargs ==> keyword args => is used to get input input as a key value pair and returns a dictionary ."
   ]
  },
  {
   "cell_type": "code",
   "execution_count": 87,
   "id": "7b746626-9eb6-4ba0-b00c-1ffb286bbe46",
   "metadata": {},
   "outputs": [
    {
     "ename": "TypeError",
     "evalue": "test10() takes 0 positional arguments but 4 were given",
     "output_type": "error",
     "traceback": [
      "\u001b[1;31m---------------------------------------------------------------------------\u001b[0m",
      "\u001b[1;31mTypeError\u001b[0m                                 Traceback (most recent call last)",
      "Cell \u001b[1;32mIn[87], line 4\u001b[0m\n\u001b[0;32m      1\u001b[0m \u001b[38;5;28;01mdef\u001b[39;00m \u001b[38;5;21mtest10\u001b[39m(\u001b[38;5;241m*\u001b[39m\u001b[38;5;241m*\u001b[39mkwargs) :\n\u001b[0;32m      2\u001b[0m     \u001b[38;5;28;01mreturn\u001b[39;00m kwargs\n\u001b[1;32m----> 4\u001b[0m test10(\u001b[38;5;241m2\u001b[39m,\u001b[38;5;241m3\u001b[39m,\u001b[38;5;241m4\u001b[39m,\u001b[38;5;241m5\u001b[39m)\n",
      "\u001b[1;31mTypeError\u001b[0m: test10() takes 0 positional arguments but 4 were given"
     ]
    }
   ],
   "source": [
    "def test10(**kwargs) :\n",
    "    return kwargs\n",
    "\n",
    "test10(2,3,4,5)"
   ]
  },
  {
   "cell_type": "code",
   "execution_count": 88,
   "id": "052ef9ab-6fcd-45ad-b182-5c592074e9a3",
   "metadata": {},
   "outputs": [],
   "source": [
    "# bcoz the function is expecting input in the form of key value pair ."
   ]
  },
  {
   "cell_type": "code",
   "execution_count": 90,
   "id": "49084836-2c6a-42e6-a427-288b8517e5be",
   "metadata": {},
   "outputs": [
    {
     "data": {
      "text/plain": [
       "{'a': 8, 'b': 9, 'c': 276, 'd': 927}"
      ]
     },
     "execution_count": 90,
     "metadata": {},
     "output_type": "execute_result"
    }
   ],
   "source": [
    "test10(a = 8 , b = 9 , c = 276 , d =927)"
   ]
  },
  {
   "cell_type": "code",
   "execution_count": 93,
   "id": "77ccd0a4-037c-4bf7-83d0-42eb865d6311",
   "metadata": {},
   "outputs": [
    {
     "data": {
      "text/plain": [
       "{'a': 'hello',\n",
       " 'b': [12, 96, 43, 12, 4, 64],\n",
       " 'c': {34: 34, 22: 'eww'},\n",
       " 'd': (1, 3, 4, 5, 6)}"
      ]
     },
     "execution_count": 93,
     "metadata": {},
     "output_type": "execute_result"
    }
   ],
   "source": [
    "test10(a = \"hello\" , b = [12,96,43,12,4,64] , c = {34 : 34 , 22 : \"eww\"} , d =(1,3,4,5,6))"
   ]
  },
  {
   "cell_type": "code",
   "execution_count": 94,
   "id": "e4ee25d8-3cd4-4dbd-98eb-3110274e674f",
   "metadata": {},
   "outputs": [
    {
     "ename": "TypeError",
     "evalue": "test10() takes 0 positional arguments but 1 was given",
     "output_type": "error",
     "traceback": [
      "\u001b[1;31m---------------------------------------------------------------------------\u001b[0m",
      "\u001b[1;31mTypeError\u001b[0m                                 Traceback (most recent call last)",
      "Cell \u001b[1;32mIn[94], line 2\u001b[0m\n\u001b[0;32m      1\u001b[0m \u001b[38;5;66;03m# can't pass a dictionary like this .\u001b[39;00m\n\u001b[1;32m----> 2\u001b[0m test10({\u001b[38;5;124m'\u001b[39m\u001b[38;5;124ma\u001b[39m\u001b[38;5;124m'\u001b[39m: \u001b[38;5;241m8\u001b[39m, \u001b[38;5;124m'\u001b[39m\u001b[38;5;124mb\u001b[39m\u001b[38;5;124m'\u001b[39m: \u001b[38;5;241m9\u001b[39m, \u001b[38;5;124m'\u001b[39m\u001b[38;5;124mc\u001b[39m\u001b[38;5;124m'\u001b[39m: \u001b[38;5;241m276\u001b[39m, \u001b[38;5;124m'\u001b[39m\u001b[38;5;124md\u001b[39m\u001b[38;5;124m'\u001b[39m: \u001b[38;5;241m927\u001b[39m})\n",
      "\u001b[1;31mTypeError\u001b[0m: test10() takes 0 positional arguments but 1 was given"
     ]
    }
   ],
   "source": [
    "# can't pass a dictionary like this .\n",
    "test10({'a': 8, 'b': 9, 'c': 276, 'd': 927})"
   ]
  },
  {
   "cell_type": "code",
   "execution_count": 104,
   "id": "ac043d49-e61d-400c-96ef-20823ce5f985",
   "metadata": {},
   "outputs": [],
   "source": [
    "# Question :\n",
    "# create a function to take mixed input from the user then create separate list based on the data type and then return .\n",
    "# create a function which will be able to use *args and **kwargs and it will be able to do concatenation of all and provide a list as a result ."
   ]
  },
  {
   "cell_type": "code",
   "execution_count": 108,
   "id": "1840c5f9-eb35-4d2f-8e39-80ee2a99de30",
   "metadata": {},
   "outputs": [
    {
     "data": {
      "text/plain": [
       "([1, 3, 32],\n",
       " [34.332, 33.43],\n",
       " ['232sds', 'edwd', 'wdewd'],\n",
       " [('ada', 'ad', 'dqqd', 331)],\n",
       " [[2313, 23424, 453]],\n",
       " [],\n",
       " [])"
      ]
     },
     "execution_count": 108,
     "metadata": {},
     "output_type": "execute_result"
    }
   ],
   "source": [
    "def Qu1(*args) :\n",
    "    a = []\n",
    "    b = []\n",
    "    c = []\n",
    "    d = []\n",
    "    e = []\n",
    "    f = []\n",
    "    g = []\n",
    "    for i in args :\n",
    "        if type(i) == int :\n",
    "            a.append(i)\n",
    "        if type(i) == float :\n",
    "            b.append(i)\n",
    "        if type(i) == str :\n",
    "            c.append(i)\n",
    "        if type(i) == tuple :\n",
    "            d.append(i)\n",
    "        if type(i) == list :\n",
    "            e.append(i)\n",
    "        if type(i) == dict :\n",
    "            f.append(i)\n",
    "        if type(i) == bool :\n",
    "            g.append(i)\n",
    "    return a,b,c,d,e,f,g\n",
    "\n",
    "Qu1(1,3,34.332,32,33.43,\"232sds\",\"edwd\",\"wdewd\",[2313,23424,453],(\"ada\",\"ad\",\"dqqd\",331))"
   ]
  },
  {
   "cell_type": "code",
   "execution_count": 114,
   "id": "b164c82f-62c4-4162-a6d4-e5609cc7959e",
   "metadata": {},
   "outputs": [],
   "source": [
    "# modified code for the above function , since above will fail for new data types like complex numbers and all ."
   ]
  },
  {
   "cell_type": "code",
   "execution_count": 115,
   "id": "ad5b27ca-6b93-447e-ab3e-0d213d501cbc",
   "metadata": {},
   "outputs": [],
   "source": [
    "def Q1(*args) :\n",
    "    dt = {}\n",
    "    for i in args : \n",
    "        if type(i) in dt :\n",
    "            dt[type(i)].append(i)\n",
    "        else :\n",
    "            dt[type(i)] = [i]\n",
    "\n",
    "    return dt"
   ]
  },
  {
   "cell_type": "code",
   "execution_count": 116,
   "id": "5cb15cf1-a5cc-4c27-adc5-5c7809c196a4",
   "metadata": {},
   "outputs": [
    {
     "data": {
      "text/plain": [
       "{int: [1, 3, 32],\n",
       " float: [34.332, 33.43],\n",
       " str: ['232sds', 'edwd', 'wdewd'],\n",
       " list: [[2313, 23424, 453]],\n",
       " tuple: [('ada', 'ad', 'dqqd', 331)],\n",
       " dict: [{'aad': 232, 'dewd': 42342}],\n",
       " complex: [(728+372j), (87+82j)]}"
      ]
     },
     "execution_count": 116,
     "metadata": {},
     "output_type": "execute_result"
    }
   ],
   "source": [
    "Q1(1,3,34.332,32,33.43,\"232sds\",\"edwd\",\"wdewd\",[2313,23424,453],(\"ada\",\"ad\",\"dqqd\",331) , {\"aad\" : 232 , \"dewd\" : 42342} , 728 + 372j , 87 + 82j)"
   ]
  },
  {
   "cell_type": "code",
   "execution_count": 110,
   "id": "fb537029-6f2e-483b-a866-784d116b927b",
   "metadata": {},
   "outputs": [],
   "source": [
    "def Qu2(*args , **kwargs) :\n",
    "    l = [i for i in args]\n",
    "    d = [i[1] for i in kwargs.items() if type(i[1]) == list ]\n",
    "    return l ,d"
   ]
  },
  {
   "cell_type": "code",
   "execution_count": 111,
   "id": "6c929966-208e-4338-9f50-359a2b26fa0f",
   "metadata": {},
   "outputs": [
    {
     "data": {
      "text/plain": [
       "([[12, 4, 45, 6, 6, 2], 3, 6, 3, 2, 45], [[2, 345, 6, 3, 2, 1]])"
      ]
     },
     "execution_count": 111,
     "metadata": {},
     "output_type": "execute_result"
    }
   ],
   "source": [
    "Qu2([12,4,45,6,6,2] , 3,6,3,2,45,q =32 , s = 22 , b =\"wrwr\" , m = [2,345,6,3,2,1])"
   ]
  },
  {
   "cell_type": "code",
   "execution_count": 112,
   "id": "ced5e5b2-3e10-4e57-98be-b3c3a54b0a50",
   "metadata": {},
   "outputs": [],
   "source": [
    "def test11(**kwargs) :\n",
    "    for i in kwargs.items() :\n",
    "        if type(i[1]) == list :\n",
    "            if \"rishu\" in i[1] :\n",
    "                print(\"name found in input data !\")\n",
    "                print(i[1])\n",
    "    return kwargs\n"
   ]
  },
  {
   "cell_type": "code",
   "execution_count": 113,
   "id": "0bf20f27-fce1-4d85-b475-4d2e81b96025",
   "metadata": {},
   "outputs": [
    {
     "name": "stdout",
     "output_type": "stream",
     "text": [
      "name found in input data !\n",
      "['rishu', 'swami', 231]\n"
     ]
    },
    {
     "data": {
      "text/plain": [
       "{'b': 9, 'c': [1, 2, 4, 4, 5, 6], 'd': ['rishu', 'swami', 231], 'n': (39+39j)}"
      ]
     },
     "execution_count": 113,
     "metadata": {},
     "output_type": "execute_result"
    }
   ],
   "source": [
    "test11(b = 9 , c = [1,2,4,4,5,6] , d = [\"rishu\" , \"swami\" , 231 ] , n = 39 + 39j)"
   ]
  },
  {
   "cell_type": "code",
   "execution_count": 4,
   "id": "71139830-3c15-41fa-89a7-eac9c074784a",
   "metadata": {},
   "outputs": [],
   "source": [
    "# Lambda function :\n",
    "# it is a type function which is anonymous it has no name of its own , we use lambda keyword to declare such function ."
   ]
  },
  {
   "cell_type": "code",
   "execution_count": 2,
   "id": "4176882a-1fbb-41f6-bec5-944bd8cbd769",
   "metadata": {},
   "outputs": [
    {
     "name": "stdout",
     "output_type": "stream",
     "text": [
      "74\n",
      "74\n"
     ]
    }
   ],
   "source": [
    "# DEFAULT Function\n",
    "def sum(a,b) :\n",
    "    return a + b\n",
    "\n",
    "# LAMBDA Function\n",
    "x = lambda a , b : a + b\n",
    "\n",
    "print(sum(21,53))\n",
    "print(x(21,53))\n"
   ]
  },
  {
   "cell_type": "code",
   "execution_count": 3,
   "id": "8e52580e-b72f-4ab1-aba2-9d8ffeeec2a8",
   "metadata": {},
   "outputs": [],
   "source": [
    "# lambda function does not remove any complexity of a function as such so , default one is used widely ."
   ]
  },
  {
   "cell_type": "code",
   "execution_count": 5,
   "id": "42457321-46c6-4924-b0d6-990415b32749",
   "metadata": {},
   "outputs": [],
   "source": [
    "# Defining Docstring: for our defined functions ."
   ]
  },
  {
   "cell_type": "code",
   "execution_count": 7,
   "id": "5d4951c7-a964-4192-ad55-4fe1973a6013",
   "metadata": {},
   "outputs": [
    {
     "data": {
      "text/plain": [
       "26"
      ]
     },
     "execution_count": 7,
     "metadata": {},
     "output_type": "execute_result"
    }
   ],
   "source": [
    "def sum2(a,b) :\n",
    "    # docstring of our function is written below , just write everything in tripple quotation just like multi line comment .\n",
    "    \"\"\"\n",
    "    this function is used to find sum of two integers and float .\n",
    "    \"\"\"\n",
    "    return a + b\n",
    "\n",
    "sum2(23,3)"
   ]
  },
  {
   "cell_type": "code",
   "execution_count": 8,
   "id": "5da78ff4-9298-41e8-8561-1c3b9b341c80",
   "metadata": {},
   "outputs": [
    {
     "name": "stdout",
     "output_type": "stream",
     "text": [
      "Help on function sum2 in module __main__:\n",
      "\n",
      "sum2(a, b)\n",
      "    this function is used to find sum of two integers and float .\n",
      "\n"
     ]
    }
   ],
   "source": [
    "help(sum2)"
   ]
  },
  {
   "cell_type": "markdown",
   "id": "ca6e1c2f-7cef-40f9-8b95-7f08ef2811b7",
   "metadata": {},
   "source": [
    "# Iterator and Generator"
   ]
  },
  {
   "cell_type": "markdown",
   "id": "abe92f9d-56fc-4e03-a778-5273fcae9398",
   "metadata": {},
   "source": [
    "## Iterator and Iterable"
   ]
  },
  {
   "cell_type": "code",
   "execution_count": 9,
   "id": "0ae0981b-7d86-40f9-a1f6-0e9d8dd91800",
   "metadata": {},
   "outputs": [
    {
     "ename": "TypeError",
     "evalue": "'int' object is not iterable",
     "output_type": "error",
     "traceback": [
      "\u001b[1;31m---------------------------------------------------------------------------\u001b[0m",
      "\u001b[1;31mTypeError\u001b[0m                                 Traceback (most recent call last)",
      "Cell \u001b[1;32mIn[9], line 2\u001b[0m\n\u001b[0;32m      1\u001b[0m a \u001b[38;5;241m=\u001b[39m \u001b[38;5;241m10\u001b[39m\n\u001b[1;32m----> 2\u001b[0m \u001b[38;5;28;01mfor\u001b[39;00m i \u001b[38;5;129;01min\u001b[39;00m a :\n\u001b[0;32m      3\u001b[0m     \u001b[38;5;28mprint\u001b[39m(i)\n",
      "\u001b[1;31mTypeError\u001b[0m: 'int' object is not iterable"
     ]
    }
   ],
   "source": [
    "a = 10\n",
    "for i in a :\n",
    "    print(i)"
   ]
  },
  {
   "cell_type": "code",
   "execution_count": 10,
   "id": "ae84883d-4289-4a34-bd16-3e9cfb19f938",
   "metadata": {},
   "outputs": [
    {
     "name": "stdout",
     "output_type": "stream",
     "text": [
      "r\n",
      "i\n",
      "t\n",
      "e\n",
      "s\n",
      "h\n"
     ]
    }
   ],
   "source": [
    "for i in \"ritesh\" :\n",
    "    print(i)"
   ]
  },
  {
   "cell_type": "code",
   "execution_count": 11,
   "id": "ea96947b-99d9-403f-88b5-3fcd864c8a02",
   "metadata": {},
   "outputs": [],
   "source": [
    "# how can we extract the data like above without using loops ."
   ]
  },
  {
   "cell_type": "code",
   "execution_count": 19,
   "id": "43cc0812-4998-4268-83ea-3941f86261bd",
   "metadata": {},
   "outputs": [
    {
     "ename": "TypeError",
     "evalue": "'str' object is not an iterator",
     "output_type": "error",
     "traceback": [
      "\u001b[1;31m---------------------------------------------------------------------------\u001b[0m",
      "\u001b[1;31mTypeError\u001b[0m                                 Traceback (most recent call last)",
      "Cell \u001b[1;32mIn[19], line 2\u001b[0m\n\u001b[0;32m      1\u001b[0m s \u001b[38;5;241m=\u001b[39m \u001b[38;5;124m\"\u001b[39m\u001b[38;5;124mritesh\u001b[39m\u001b[38;5;124m\"\u001b[39m\n\u001b[1;32m----> 2\u001b[0m \u001b[38;5;28mnext\u001b[39m(s)\n",
      "\u001b[1;31mTypeError\u001b[0m: 'str' object is not an iterator"
     ]
    }
   ],
   "source": [
    "s = \"ritesh\"\n",
    "next(s)\n",
    "# so by default string is itterable but not iterator , iter() fuction is used to convert it into an iterator . "
   ]
  },
  {
   "cell_type": "code",
   "execution_count": 18,
   "id": "2ae25325-a5b5-4008-97b2-dfdbb13fd5ee",
   "metadata": {},
   "outputs": [
    {
     "data": {
      "text/plain": [
       "'r'"
      ]
     },
     "execution_count": 18,
     "metadata": {},
     "output_type": "execute_result"
    }
   ],
   "source": [
    "s = iter(s)\n",
    "next(s)"
   ]
  },
  {
   "cell_type": "code",
   "execution_count": 13,
   "id": "1846775d-e091-4f2d-9e8d-316826db85b3",
   "metadata": {},
   "outputs": [],
   "source": [
    "# iterator is an entity or object out of which we can extract the data with the help of indexes ."
   ]
  },
  {
   "cell_type": "code",
   "execution_count": 20,
   "id": "0b9b8020-cd48-49c9-922a-24f6aed9ff67",
   "metadata": {},
   "outputs": [],
   "source": [
    "# iterable is an entity or object out of which we can extract the data ."
   ]
  },
  {
   "cell_type": "code",
   "execution_count": 23,
   "id": "bf9c9049-695e-466c-8cc9-58276e99e254",
   "metadata": {},
   "outputs": [
    {
     "ename": "TypeError",
     "evalue": "'int' object is not an iterator",
     "output_type": "error",
     "traceback": [
      "\u001b[1;31m---------------------------------------------------------------------------\u001b[0m",
      "\u001b[1;31mTypeError\u001b[0m                                 Traceback (most recent call last)",
      "Cell \u001b[1;32mIn[23], line 2\u001b[0m\n\u001b[0;32m      1\u001b[0m a \u001b[38;5;241m=\u001b[39m \u001b[38;5;241m10\u001b[39m\n\u001b[1;32m----> 2\u001b[0m \u001b[38;5;28mnext\u001b[39m(a)\n",
      "\u001b[1;31mTypeError\u001b[0m: 'int' object is not an iterator"
     ]
    }
   ],
   "source": [
    "a = 10\n",
    "next(a)\n",
    "# int is neither iterator nor itterable object ."
   ]
  },
  {
   "cell_type": "code",
   "execution_count": 24,
   "id": "c5d2b0a7-2d91-4908-b034-ae0974a0323f",
   "metadata": {},
   "outputs": [
    {
     "ename": "TypeError",
     "evalue": "'int' object is not iterable",
     "output_type": "error",
     "traceback": [
      "\u001b[1;31m---------------------------------------------------------------------------\u001b[0m",
      "\u001b[1;31mTypeError\u001b[0m                                 Traceback (most recent call last)",
      "Cell \u001b[1;32mIn[24], line 1\u001b[0m\n\u001b[1;32m----> 1\u001b[0m a \u001b[38;5;241m=\u001b[39m \u001b[38;5;28miter\u001b[39m(a)\n",
      "\u001b[1;31mTypeError\u001b[0m: 'int' object is not iterable"
     ]
    }
   ],
   "source": [
    "a = iter(a)"
   ]
  },
  {
   "cell_type": "code",
   "execution_count": 25,
   "id": "2832ff60-fc2f-4f9c-9a18-ff148a8eb9dd",
   "metadata": {},
   "outputs": [],
   "source": [
    "s = \"Rishu\"\n",
    "s = iter(s)"
   ]
  },
  {
   "cell_type": "code",
   "execution_count": 26,
   "id": "d3d7f964-bf16-4fe8-b4e3-c04993515380",
   "metadata": {},
   "outputs": [
    {
     "data": {
      "text/plain": [
       "'R'"
      ]
     },
     "execution_count": 26,
     "metadata": {},
     "output_type": "execute_result"
    }
   ],
   "source": [
    "next(s)"
   ]
  },
  {
   "cell_type": "code",
   "execution_count": 27,
   "id": "b36fcb29-e760-496b-8d38-32852d7e0b13",
   "metadata": {},
   "outputs": [
    {
     "data": {
      "text/plain": [
       "'i'"
      ]
     },
     "execution_count": 27,
     "metadata": {},
     "output_type": "execute_result"
    }
   ],
   "source": [
    "next(s)"
   ]
  },
  {
   "cell_type": "code",
   "execution_count": 28,
   "id": "04fdc5e3-4f6c-4403-8baf-f5eff0ad9fc4",
   "metadata": {},
   "outputs": [
    {
     "data": {
      "text/plain": [
       "'s'"
      ]
     },
     "execution_count": 28,
     "metadata": {},
     "output_type": "execute_result"
    }
   ],
   "source": [
    "next(s)"
   ]
  },
  {
   "cell_type": "code",
   "execution_count": 29,
   "id": "9b070b8e-b39f-49bd-b147-5a55a39707dc",
   "metadata": {},
   "outputs": [
    {
     "data": {
      "text/plain": [
       "'h'"
      ]
     },
     "execution_count": 29,
     "metadata": {},
     "output_type": "execute_result"
    }
   ],
   "source": [
    "next(s)"
   ]
  },
  {
   "cell_type": "code",
   "execution_count": 30,
   "id": "383b87c8-52f8-4914-b69a-a957d67b0a6c",
   "metadata": {},
   "outputs": [
    {
     "data": {
      "text/plain": [
       "'u'"
      ]
     },
     "execution_count": 30,
     "metadata": {},
     "output_type": "execute_result"
    }
   ],
   "source": [
    "next(s)"
   ]
  },
  {
   "cell_type": "code",
   "execution_count": 31,
   "id": "d03a2041-45a6-4193-b07e-44b4e72b8108",
   "metadata": {},
   "outputs": [
    {
     "ename": "StopIteration",
     "evalue": "",
     "output_type": "error",
     "traceback": [
      "\u001b[1;31m---------------------------------------------------------------------------\u001b[0m",
      "\u001b[1;31mStopIteration\u001b[0m                             Traceback (most recent call last)",
      "Cell \u001b[1;32mIn[31], line 1\u001b[0m\n\u001b[1;32m----> 1\u001b[0m \u001b[38;5;28mnext\u001b[39m(s)\n",
      "\u001b[1;31mStopIteration\u001b[0m: "
     ]
    }
   ],
   "source": [
    "next(s)"
   ]
  },
  {
   "cell_type": "code",
   "execution_count": 33,
   "id": "f2fe5e6f-5548-4369-92d3-5befa6b2fbad",
   "metadata": {},
   "outputs": [
    {
     "name": "stdout",
     "output_type": "stream",
     "text": [
      "h\n",
      "e\n",
      "l\n",
      "l\n",
      "o\n"
     ]
    }
   ],
   "source": [
    "# so here for loop first convert our string into a iterator and then it do next() , next() .....\n",
    "for i in \"hello\" :\n",
    "    print(i)"
   ]
  },
  {
   "cell_type": "code",
   "execution_count": null,
   "id": "1cb2cd98-e914-46e7-9dbe-7679a15508b1",
   "metadata": {},
   "outputs": [],
   "source": [
    "# hence list is also not iterator object , it is a itterable object ."
   ]
  },
  {
   "cell_type": "code",
   "execution_count": 41,
   "id": "fb3c5a2a-3478-4b60-9d51-b6daf48b0db8",
   "metadata": {},
   "outputs": [
    {
     "ename": "TypeError",
     "evalue": "'list' object is not an iterator",
     "output_type": "error",
     "traceback": [
      "\u001b[1;31m---------------------------------------------------------------------------\u001b[0m",
      "\u001b[1;31mTypeError\u001b[0m                                 Traceback (most recent call last)",
      "Cell \u001b[1;32mIn[41], line 2\u001b[0m\n\u001b[0;32m      1\u001b[0m l \u001b[38;5;241m=\u001b[39m [\u001b[38;5;241m1\u001b[39m,\u001b[38;5;241m2\u001b[39m,\u001b[38;5;241m4\u001b[39m,\u001b[38;5;241m5\u001b[39m]\n\u001b[1;32m----> 2\u001b[0m \u001b[38;5;28mnext\u001b[39m(l)\n",
      "\u001b[1;31mTypeError\u001b[0m: 'list' object is not an iterator"
     ]
    }
   ],
   "source": [
    "l = [1,2,4,5]\n",
    "next(l)"
   ]
  },
  {
   "cell_type": "code",
   "execution_count": 42,
   "id": "2bb6016c-baa4-4b81-9697-5ab7b22a3b69",
   "metadata": {},
   "outputs": [],
   "source": [
    "l = iter(l)"
   ]
  },
  {
   "cell_type": "code",
   "execution_count": 43,
   "id": "2bcdc19c-61ef-4e8b-9fc2-107269b96c90",
   "metadata": {},
   "outputs": [
    {
     "data": {
      "text/plain": [
       "1"
      ]
     },
     "execution_count": 43,
     "metadata": {},
     "output_type": "execute_result"
    }
   ],
   "source": [
    "next(l)"
   ]
  },
  {
   "cell_type": "code",
   "execution_count": 44,
   "id": "a468d971-a8f6-4ccd-a5df-2bafee6db787",
   "metadata": {},
   "outputs": [
    {
     "data": {
      "text/plain": [
       "2"
      ]
     },
     "execution_count": 44,
     "metadata": {},
     "output_type": "execute_result"
    }
   ],
   "source": [
    "next(l)"
   ]
  },
  {
   "cell_type": "code",
   "execution_count": 45,
   "id": "11ac44d5-21f0-4301-b3fc-5f201c786383",
   "metadata": {},
   "outputs": [
    {
     "data": {
      "text/plain": [
       "4"
      ]
     },
     "execution_count": 45,
     "metadata": {},
     "output_type": "execute_result"
    }
   ],
   "source": [
    "next(l)"
   ]
  },
  {
   "cell_type": "code",
   "execution_count": 46,
   "id": "cbc22bda-227b-41f0-9c9a-42a1383cf456",
   "metadata": {},
   "outputs": [
    {
     "data": {
      "text/plain": [
       "5"
      ]
     },
     "execution_count": 46,
     "metadata": {},
     "output_type": "execute_result"
    }
   ],
   "source": [
    "next(l)"
   ]
  },
  {
   "cell_type": "code",
   "execution_count": 47,
   "id": "a69b4683-4539-410c-b553-9ef44f4dd17f",
   "metadata": {},
   "outputs": [
    {
     "ename": "StopIteration",
     "evalue": "",
     "output_type": "error",
     "traceback": [
      "\u001b[1;31m---------------------------------------------------------------------------\u001b[0m",
      "\u001b[1;31mStopIteration\u001b[0m                             Traceback (most recent call last)",
      "Cell \u001b[1;32mIn[47], line 1\u001b[0m\n\u001b[1;32m----> 1\u001b[0m \u001b[38;5;28mnext\u001b[39m(l)\n",
      "\u001b[1;31mStopIteration\u001b[0m: "
     ]
    }
   ],
   "source": [
    "next(l)\n"
   ]
  },
  {
   "cell_type": "code",
   "execution_count": 48,
   "id": "3d2d4695-f838-4bd2-bf87-307bb8ec80c5",
   "metadata": {},
   "outputs": [
    {
     "ename": "TypeError",
     "evalue": "'tuple' object is not an iterator",
     "output_type": "error",
     "traceback": [
      "\u001b[1;31m---------------------------------------------------------------------------\u001b[0m",
      "\u001b[1;31mTypeError\u001b[0m                                 Traceback (most recent call last)",
      "Cell \u001b[1;32mIn[48], line 2\u001b[0m\n\u001b[0;32m      1\u001b[0m t \u001b[38;5;241m=\u001b[39m (\u001b[38;5;241m1\u001b[39m,\u001b[38;5;241m2\u001b[39m,\u001b[38;5;241m3\u001b[39m,\u001b[38;5;241m4\u001b[39m)\n\u001b[1;32m----> 2\u001b[0m \u001b[38;5;28mnext\u001b[39m(t)\n",
      "\u001b[1;31mTypeError\u001b[0m: 'tuple' object is not an iterator"
     ]
    }
   ],
   "source": [
    "t = (1,2,3,4)\n",
    "next(t)"
   ]
  },
  {
   "cell_type": "code",
   "execution_count": 49,
   "id": "976aae14-29d9-4bb1-8150-929fa573e092",
   "metadata": {},
   "outputs": [],
   "source": [
    "t = iter(t)"
   ]
  },
  {
   "cell_type": "code",
   "execution_count": 50,
   "id": "98d44807-c091-47b7-b111-907df3d97999",
   "metadata": {},
   "outputs": [
    {
     "data": {
      "text/plain": [
       "1"
      ]
     },
     "execution_count": 50,
     "metadata": {},
     "output_type": "execute_result"
    }
   ],
   "source": [
    "next(t)"
   ]
  },
  {
   "cell_type": "code",
   "execution_count": 51,
   "id": "02b1539d-a27b-4b09-b451-aed596790acc",
   "metadata": {},
   "outputs": [],
   "source": [
    "# check for rest "
   ]
  },
  {
   "cell_type": "markdown",
   "id": "0906d9f3-1490-4209-a505-f641d3fb85de",
   "metadata": {},
   "source": [
    "## Generator"
   ]
  },
  {
   "cell_type": "code",
   "execution_count": 52,
   "id": "327ccb6b-0bfd-472c-b2ff-1a681236580c",
   "metadata": {},
   "outputs": [],
   "source": [
    "def test17(n) :\n",
    "    l = []\n",
    "    for i in range(n) :\n",
    "        l.append(i**3)\n",
    "\n",
    "    return l"
   ]
  },
  {
   "cell_type": "code",
   "execution_count": 57,
   "id": "50227684-01f5-47d6-89fe-3515652134ab",
   "metadata": {},
   "outputs": [],
   "source": [
    "# test17(600000000)\n",
    "# takes too much of time to run ."
   ]
  },
  {
   "cell_type": "code",
   "execution_count": 58,
   "id": "6ccaf17d-64d4-494f-aa67-84265969f9a2",
   "metadata": {},
   "outputs": [],
   "source": [
    "# the function will not release the memory untill all the append operations are performed meaning till it comes out of the for loop ."
   ]
  },
  {
   "cell_type": "code",
   "execution_count": 59,
   "id": "876f7ffd-320d-4667-864b-d70e7ad997b9",
   "metadata": {},
   "outputs": [],
   "source": [
    "def test18(n) :\n",
    "    for i in range(n) :\n",
    "        yield i**3\n",
    "# yield id s keyword thst remembers what we have done last time for the generator function ."
   ]
  },
  {
   "cell_type": "code",
   "execution_count": 62,
   "id": "fe1cf067-2291-4b5a-bd68-ab4a41c1e78f",
   "metadata": {},
   "outputs": [
    {
     "data": {
      "text/plain": [
       "<generator object test18 at 0x000001D28DF97C60>"
      ]
     },
     "execution_count": 62,
     "metadata": {},
     "output_type": "execute_result"
    }
   ],
   "source": [
    "test18(10)"
   ]
  },
  {
   "cell_type": "code",
   "execution_count": 63,
   "id": "6062528e-c283-4308-a2cc-548701aafe66",
   "metadata": {},
   "outputs": [
    {
     "name": "stdout",
     "output_type": "stream",
     "text": [
      "0\n",
      "1\n",
      "8\n",
      "27\n",
      "64\n",
      "125\n",
      "216\n",
      "343\n",
      "512\n",
      "729\n"
     ]
    }
   ],
   "source": [
    "for i in test18(10) :\n",
    "    print(i)"
   ]
  },
  {
   "cell_type": "code",
   "execution_count": 2,
   "id": "a81d969a-84f7-4458-9565-725d622ff699",
   "metadata": {},
   "outputs": [],
   "source": [
    "# for i in test18(600000000) :\n",
    "#   print(i)\n",
    "# now it is much faster , since it is providing data as it is processed not like before where we recieve data after loop complition .\n",
    "# since we are displaying the runtime result data .\n",
    "# less memory intensive ."
   ]
  },
  {
   "cell_type": "code",
   "execution_count": 3,
   "id": "b8ac763d-a3be-4327-a0b5-f27f72ef5bb2",
   "metadata": {},
   "outputs": [],
   "source": [
    "# Question\n",
    "# Fibonacci series"
   ]
  },
  {
   "cell_type": "code",
   "execution_count": 13,
   "id": "4cb2e855-4f0d-454b-a945-55815620907a",
   "metadata": {},
   "outputs": [],
   "source": [
    "def fibo(n) :\n",
    "    x = 1 \n",
    "    y = 1 \n",
    "    output = []\n",
    "    for  i in range(n) :\n",
    "        output.append(x)\n",
    "        x,y = y , x+y\n",
    "        \n",
    "    return output\n"
   ]
  },
  {
   "cell_type": "code",
   "execution_count": 14,
   "id": "24248585-dfb5-4ecd-9cef-bfdf4adb214f",
   "metadata": {},
   "outputs": [
    {
     "data": {
      "text/plain": [
       "[1, 1, 2, 3, 5, 8, 13, 21, 34, 55]"
      ]
     },
     "execution_count": 14,
     "metadata": {},
     "output_type": "execute_result"
    }
   ],
   "source": [
    "fibo(10)"
   ]
  },
  {
   "cell_type": "code",
   "execution_count": 10,
   "id": "39519e3c-076f-4e66-912d-6eb4cd96a356",
   "metadata": {},
   "outputs": [],
   "source": [
    "# now , converting the above function as an generator function"
   ]
  },
  {
   "cell_type": "code",
   "execution_count": 18,
   "id": "ccbb6753-ee35-4020-85a7-d470be9d215a",
   "metadata": {},
   "outputs": [],
   "source": [
    "def Gfibo(n) :\n",
    "    x = 1 \n",
    "    y = 1 \n",
    "    for i in range(n) :\n",
    "        yield x\n",
    "        x,y = y , x+y\n"
   ]
  },
  {
   "cell_type": "code",
   "execution_count": 19,
   "id": "fe9e9078-2844-4d01-bbbd-e7455a90f2e8",
   "metadata": {},
   "outputs": [
    {
     "data": {
      "text/plain": [
       "<generator object Gfibo at 0x00000217977D1C40>"
      ]
     },
     "execution_count": 19,
     "metadata": {},
     "output_type": "execute_result"
    }
   ],
   "source": [
    "Gfibo(30)"
   ]
  },
  {
   "cell_type": "code",
   "execution_count": 21,
   "id": "2528c425-6688-41d3-a9e2-b7b1b04981af",
   "metadata": {},
   "outputs": [
    {
     "name": "stdout",
     "output_type": "stream",
     "text": [
      "1\n",
      "1\n",
      "2\n",
      "3\n",
      "5\n",
      "8\n",
      "13\n",
      "21\n",
      "34\n",
      "55\n",
      "89\n",
      "144\n",
      "233\n",
      "377\n",
      "610\n"
     ]
    }
   ],
   "source": [
    "for i in Gfibo(15) :\n",
    "    print(i)"
   ]
  },
  {
   "cell_type": "code",
   "execution_count": null,
   "id": "b1427adf-ee16-4933-958d-18553f8949ba",
   "metadata": {},
   "outputs": [],
   "source": []
  }
 ],
 "metadata": {
  "kernelspec": {
   "display_name": "Python [conda env:base] *",
   "language": "python",
   "name": "conda-base-py"
  },
  "language_info": {
   "codemirror_mode": {
    "name": "ipython",
    "version": 3
   },
   "file_extension": ".py",
   "mimetype": "text/x-python",
   "name": "python",
   "nbconvert_exporter": "python",
   "pygments_lexer": "ipython3",
   "version": "3.12.7"
  }
 },
 "nbformat": 4,
 "nbformat_minor": 5
}
