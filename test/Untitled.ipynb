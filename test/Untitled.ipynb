{
 "cells": [
  {
   "cell_type": "code",
   "execution_count": 1,
   "id": "21a26191-0b11-43dd-8713-66e1a8e43100",
   "metadata": {},
   "outputs": [],
   "source": [
    "import test123"
   ]
  },
  {
   "cell_type": "code",
   "execution_count": 2,
   "id": "66a43a82-ac0d-49d1-91a0-51e5c344b17a",
   "metadata": {},
   "outputs": [],
   "source": [
    "from test123 import fn1"
   ]
  },
  {
   "cell_type": "code",
   "execution_count": 5,
   "id": "0c7558d6-c82b-4891-aef9-8388b6f8efde",
   "metadata": {},
   "outputs": [
    {
     "name": "stdout",
     "output_type": "stream",
     "text": [
      "function1 of fn1\n"
     ]
    }
   ],
   "source": [
    "fn1.function1()"
   ]
  },
  {
   "cell_type": "code",
   "execution_count": 6,
   "id": "4fca51bd-2a23-43d5-bde5-99d4d1ba5f4b",
   "metadata": {},
   "outputs": [
    {
     "name": "stdout",
     "output_type": "stream",
     "text": [
      "function3 of fn1\n"
     ]
    }
   ],
   "source": [
    "fn1.function3()"
   ]
  },
  {
   "cell_type": "code",
   "execution_count": null,
   "id": "20ea3f9b-972f-4cc2-b8c0-7742b780af09",
   "metadata": {},
   "outputs": [],
   "source": []
  }
 ],
 "metadata": {
  "kernelspec": {
   "display_name": "Python [conda env:base] *",
   "language": "python",
   "name": "conda-base-py"
  },
  "language_info": {
   "codemirror_mode": {
    "name": "ipython",
    "version": 3
   },
   "file_extension": ".py",
   "mimetype": "text/x-python",
   "name": "python",
   "nbconvert_exporter": "python",
   "pygments_lexer": "ipython3",
   "version": "3.12.7"
  }
 },
 "nbformat": 4,
 "nbformat_minor": 5
}
