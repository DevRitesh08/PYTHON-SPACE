{
 "cells": [
  {
   "cell_type": "markdown",
   "id": "7e8d59e108077b27",
   "metadata": {},
   "source": [
    "# Tuple , Set and dictionary\n",
    "\n",
    "- Tuple : A collection of different items in a bag (bag can't be changed once packed) => immutable\n",
    "- Set : A collection of different items in a box (box can be changed but items can't be repeated) => unique items\n",
    "- Dictionary : A collection of different items in a box with their price tag (box can be changed and items can't be repeated since each item has a unique price tag)  => key value pair\n",
    "\n",
    "Real world application :\n",
    "- Tuple : Storing the coordinates of a point (x,y) => (2,3)\n",
    "- Set : Storing the unique roll numbers of students in a class => {1,2,3,4,5}\n",
    "- Dictionary : Storing the name and age of students in a class => {\"Rahul\" : 20 , \"vaibav\" : 21}"
   ]
  },
  {
   "cell_type": "markdown",
   "id": "d1caac4f7fa39bc7",
   "metadata": {},
   "source": [
    "# Tuples\n",
    "- ordered collection of elements\n",
    "- `immutable` (can't be changed once created)\n",
    "- allows duplicate elements , that is not the case with set and dictionary ."
   ]
  },
  {
   "cell_type": "markdown",
   "id": "7a17e8013671ec30",
   "metadata": {},
   "source": [
    "## Topics to be covered\n",
    "- Creation of tuple\n",
    "- Accessing elements\n",
    "- Editing tuple\n",
    "- Adding items\n",
    "- Deleting items\n",
    "- Operations on tuple\n",
    "- Basic in-built functions"
   ]
  },
  {
   "cell_type": "markdown",
   "id": "2921dcbbfc8753f6",
   "metadata": {},
   "source": [
    "### Creation of tuple\n",
    "- using parenthesis `()`\n",
    "- using `tuple()` function\n",
    "- using comma `,` separated values"
   ]
  },
  {
   "cell_type": "code",
   "id": "a072cc5127d8dad2",
   "metadata": {},
   "source": [
    "# Creating an empty tuple\n",
    "t = ()\n",
    "print(t)\n",
    "print(type(t))"
   ],
   "outputs": [],
   "execution_count": null
  },
  {
   "cell_type": "code",
   "id": "b7bb733bde4ef5e8",
   "metadata": {},
   "source": [
    "# Creating a tuple with single element\n",
    "t1 = (5)\n",
    "print(t1)\n",
    "print(type(t1))\n",
    "# it will be considered as an integer not a tuple , so to create a tuple with single element we need to add a comma after the element\n",
    "t2 = (5,)\n",
    "print(t2)\n",
    "print(type(t2))"
   ],
   "outputs": [],
   "execution_count": null
  },
  {
   "cell_type": "code",
   "id": "bd8ee34c1c3cf089",
   "metadata": {},
   "source": [
    "# Homogeneous tuple\n",
    "t3 = (1,2,3,4,5)\n",
    "print(t3)"
   ],
   "outputs": [],
   "execution_count": null
  },
  {
   "cell_type": "code",
   "id": "96c32ffdb5229d9e",
   "metadata": {},
   "source": [
    "# Heterogeneous tuple\n",
    "t4 = (1,2.5,True,\"Ritesh\")\n",
    "print(t4)"
   ],
   "outputs": [],
   "execution_count": null
  },
  {
   "cell_type": "code",
   "id": "862c1153e326c4b1",
   "metadata": {},
   "source": [
    "# 2D tuple\n",
    "t5 = ((1,2,3) , (4,5,6) , (7,8,9))\n",
    "print(t5)"
   ],
   "outputs": [],
   "execution_count": null
  },
  {
   "cell_type": "code",
   "id": "8f04543a55d6a32b",
   "metadata": {},
   "source": [
    "# using tuple() function\n",
    "\n",
    "# empty tuple\n",
    "t6 = tuple()\n",
    "print(t6)\n",
    "print(type(t6))\n",
    "\n",
    "# tuple with elements\n",
    "t7 = tuple([1,2,3,'hello',5])\n",
    "print(t7)\n",
    "print(type(t7))"
   ],
   "outputs": [],
   "execution_count": null
  },
  {
   "cell_type": "code",
   "id": "1da4ee7109badd64",
   "metadata": {},
   "source": [
    "# using comma separated values\n",
    "t8 = 1,2,3,4,5,'adam'\n",
    "print(t8)\n",
    "print(type(t8))"
   ],
   "outputs": [],
   "execution_count": null
  },
  {
   "cell_type": "markdown",
   "id": "b41b4d6c4c0a28a",
   "metadata": {},
   "source": [
    "### Accessing elements\n",
    "- using indexing\n",
    "- using slicing"
   ]
  },
  {
   "cell_type": "code",
   "id": "21af6dcd3022b33b",
   "metadata": {},
   "source": [
    "# Accessing elements using indexing\n",
    "t = (1,2.5,True,\"Ritesh\")\n",
    "print(t[0])  # first element\n",
    "print(t[-1]) # last element"
   ],
   "outputs": [],
   "execution_count": null
  },
  {
   "cell_type": "code",
   "id": "733164e62337d8b9",
   "metadata": {},
   "source": [
    "t2 = ((1,2,3) , (4,5,6) , (7,8,9))\n",
    "print(t2[0])    # first element (which is a tuple)\n",
    "print(t2[0][1]) # second element of the first tuple"
   ],
   "outputs": [],
   "execution_count": null
  },
  {
   "cell_type": "code",
   "id": "7350ede9ac90e109",
   "metadata": {},
   "source": [
    "# Accessing elements using slicing\n",
    "t = (1,2.5,True,\"Ritesh\", 45, 67, 89)\n",
    "print(t[1:5])  # elements from index 1 to 4\n",
    "print(t[:4])   # elements from start to index 3\n",
    "print(t[3:])   # elements from index 3 to end\n",
    "print(t[::-1]) # elements in reverse order"
   ],
   "outputs": [],
   "execution_count": null
  },
  {
   "cell_type": "markdown",
   "id": "b0f3c0146c8278da",
   "metadata": {},
   "source": [
    "### Editing tuple\n",
    "- since tuple is immutable we can't change its elements directly\n",
    "- we can convert the tuple to a list , make the changes and then convert it back to a tuple"
   ]
  },
  {
   "cell_type": "code",
   "id": "fa06ef98c303e71e",
   "metadata": {},
   "source": [
    "t3\n",
    "# t3[0] = 10    # this will give an error"
   ],
   "outputs": [],
   "execution_count": null
  },
  {
   "cell_type": "code",
   "id": "4e0c683b0602aff7",
   "metadata": {},
   "source": [
    "# converting tuple to list\n",
    "l = list(t3)\n",
    "print(l)\n",
    "print(type(l))\n",
    "# now we can make changes to the list\n",
    "l[0] = 10\n",
    "print(l)\n",
    "print(type(l))\n",
    "# converting list back to tuple\n",
    "t3 = tuple(l)\n",
    "print(t3)\n",
    "print(type(t3))\n"
   ],
   "outputs": [],
   "execution_count": null
  },
  {
   "cell_type": "markdown",
   "id": "a06b561a61f61325",
   "metadata": {},
   "source": [
    "### Adding items\n",
    "- since tuple is immutable we can't add items directly\n",
    "- we can convert the tuple to a list , add the items and then convert it back to a tuple"
   ]
  },
  {
   "cell_type": "code",
   "id": "26b7f9330ee4f09",
   "metadata": {},
   "source": [
    "print(t3)\n",
    "# no function to add items directly to a tuple"
   ],
   "outputs": [],
   "execution_count": null
  },
  {
   "cell_type": "code",
   "id": "3028f77929c34ea1",
   "metadata": {},
   "source": [
    "# converting tuple to list\n",
    "l = list(t3)\n",
    "print(l)\n",
    "print(type(l))\n",
    "# now we can add items to the list\n",
    "l.append(6)\n",
    "l.append(7)\n",
    "print(l)\n",
    "print(type(l))\n",
    "# converting list back to tuple\n",
    "t3 = tuple(l)\n",
    "print(t3)\n",
    "print(type(t3))"
   ],
   "outputs": [],
   "execution_count": null
  },
  {
   "cell_type": "markdown",
   "id": "80e92a231337856e",
   "metadata": {},
   "source": [
    "### Deleting items\n",
    "- since tuple is immutable we can't delete items directly\n",
    "- we can convert the tuple to a list , delete the items and then convert it back to a tuple\n",
    "- we can delete the entire tuple using `del` keyword"
   ]
  },
  {
   "cell_type": "code",
   "id": "2ed5338dcde7e0de",
   "metadata": {},
   "source": [
    "del (t3)"
   ],
   "outputs": [],
   "execution_count": null
  },
  {
   "cell_type": "code",
   "id": "964dcbd5541f6be4",
   "metadata": {},
   "source": [
    "# t3 # this will give an error since t3 is deleted"
   ],
   "outputs": [],
   "execution_count": null
  },
  {
   "cell_type": "markdown",
   "id": "e1ca2c12181c009c",
   "metadata": {},
   "source": [
    "### Operations on tuple\n",
    "- `concatenation( + )`\n",
    "- `repetition( * )`\n",
    "- `membership ( in , not in )`\n",
    "- `iteration (looping)`"
   ]
  },
  {
   "cell_type": "code",
   "id": "1d8324dd1fc5d1be",
   "metadata": {},
   "source": [
    "# Concatenation\n",
    "t1 = (1,2,3)\n",
    "t2 = (4,5,6)\n",
    "t3 = t1 + t2\n",
    "print(t3)"
   ],
   "outputs": [],
   "execution_count": null
  },
  {
   "cell_type": "code",
   "id": "e383edc42a540002",
   "metadata": {},
   "source": [
    "# Repetition\n",
    "t4 = t1 * 3\n",
    "print(t4)"
   ],
   "outputs": [],
   "execution_count": null
  },
  {
   "cell_type": "code",
   "id": "1e0b2cbd971d5f5e",
   "metadata": {},
   "source": [
    "# membership\n",
    "print(2 in t1)      # True\n",
    "print(3 not in t1)  # False"
   ],
   "outputs": [],
   "execution_count": null
  },
  {
   "cell_type": "code",
   "id": "cb54a64ea81a21fa",
   "metadata": {},
   "source": [
    "# iteration\n",
    "for i in t3 :\n",
    "    print(i)"
   ],
   "outputs": [],
   "execution_count": null
  },
  {
   "cell_type": "markdown",
   "id": "389a39f0a3aa2414",
   "metadata": {},
   "source": [
    "### Basic in-built functions"
   ]
  },
  {
   "cell_type": "code",
   "id": "ee0afe6ebae78ad9",
   "metadata": {},
   "source": [
    "# len/sum/max/min/sorted/all/any/tuple\n",
    "t = (1,2,3,4,3,3,3,5,9,7,45)\n",
    "print(len(t))    # length of tuple\n",
    "print(sum(t))    # sum of elements , only for numeric tuples\n",
    "print(max(t))    # maximum element\n",
    "print(min(t))    # minimum element\n",
    "print(sorted(t)) # sorted tuple (Returns a list)\n",
    "print(all(t))    # returns True if all elements are true\n",
    "print(any(t))    # returns True if any element is true"
   ],
   "outputs": [],
   "execution_count": null
  },
  {
   "cell_type": "code",
   "id": "fa9ebb6fddd0c09b",
   "metadata": {},
   "source": [
    "# Count and Index\n",
    "print(t.index(3)) # index of first occurrence of 3\n",
    "print(t.count(99))  # count of occurrences of 99 (not present)\n",
    "\n",
    "print(t.count(3)) # count of occurrences of 3\n",
    "print(t.count(50)) # count of occurrences of 50 (not present)"
   ],
   "outputs": [],
   "execution_count": null
  },
  {
   "cell_type": "markdown",
   "id": "bfbfc98b661b1585",
   "metadata": {},
   "source": [
    "### Difference between list and tuple\n",
    "- List is mutable , tuple is immutable\n",
    "- List uses more memory , tuple uses less memory because of immutability\n",
    "- List has more in-built functions , tuple has limited in-built functions\n",
    "- List is slower , tuple is faster because of immutability\n",
    "- List is used when we need to change the data , tuple is used when we need to store constant data\n",
    "- List is defined using square brackets `[]` , tuple is defined using parenthesis `()`\n",
    "- List are error prone , tuple are less error prone because of immutability ."
   ]
  },
  {
   "cell_type": "code",
   "id": "667ca77d41fbb0e3",
   "metadata": {},
   "source": [
    "# Memory consumption comparison\n",
    "import sys\n",
    "l = [1,2,3,4,5,6,7,8,9,10]\n",
    "t = (1,2,3,4,5,6,7,8,9,10)\n",
    "print(sys.getsizeof(l)) # size of list in bytes\n",
    "print(sys.getsizeof(t)) # size of tuple in bytes"
   ],
   "outputs": [],
   "execution_count": null
  },
  {
   "cell_type": "code",
   "id": "9fc5d5044810c6f5",
   "metadata": {
    "jupyter": {
     "is_executing": true
    }
   },
   "source": [
    "# Time consumption comparison\n",
    "import time\n",
    "l = list(range(1000000000))\n",
    "t = tuple(range(1000000000))\n",
    "\n",
    "start = time.time()\n",
    "for i in l :\n",
    "    i*5\n",
    "print(\"Time taken by list : \", time.time() - start)\n",
    "\n",
    "start = time.time()\n",
    "for i in t :\n",
    "    i*5\n",
    "print(\"Time taken by tuple : \", time.time() - start)"
   ],
   "outputs": [],
   "execution_count": null
  },
  {
   "cell_type": "markdown",
   "id": "e5d52c69ee7406a6",
   "metadata": {},
   "source": [
    "Generally immutable entities are faster and use less memory because they are fixed in size and structure. Mutable entities can change in size and structure, which requires additional memory management and overhead."
   ]
  },
  {
   "cell_type": "code",
   "id": "69cf928ffa0057aa",
   "metadata": {},
   "source": [
    "# error prone\n",
    "a = [1,2,3,4,5]\n",
    "b = a\n",
    "a.append(6)\n",
    "print(a)  # [1, 2, 3, 4, 5, 6]\n",
    "print(b)  # [1, 2, 3, 4, 5, 6] , b is also changed because both a and b are pointing to the same list in memory"
   ],
   "outputs": [],
   "execution_count": null
  },
  {
   "cell_type": "code",
   "id": "f385bada3687db2",
   "metadata": {},
   "source": [
    "a = (1,2,3,4,5)\n",
    "b = a\n",
    "a = a + (6,)\n",
    "print(a)  # (1, 2, 3, 4, 5 , 6)\n",
    "print(b)  # (1, 2, 3, 4, 5) , b is not changed because a is now pointing to a new tuple in memory"
   ],
   "outputs": [],
   "execution_count": null
  },
  {
   "metadata": {},
   "cell_type": "markdown",
   "source": "### Special Syntax",
   "id": "b0d61793e30ff258"
  },
  {
   "metadata": {},
   "cell_type": "markdown",
   "source": [
    "`Tuple unpacking`\n",
    "- assigning values of a tuple to multiple variables in a single statement\n",
    "- the number of variables must be equal to the number of elements in the tuple\n",
    "- can be used in functions to return multiple values"
   ],
   "id": "c21028465af3ee99"
  },
  {
   "cell_type": "code",
   "id": "1ef19f26d32998a6",
   "metadata": {},
   "source": [
    "a,b,c = (1,2,3)\n",
    "print(a,b,c)"
   ],
   "outputs": [],
   "execution_count": null
  },
  {
   "cell_type": "code",
   "id": "b699142070f4037b",
   "metadata": {},
   "source": [
    "# a,b = (1,2,3)\n",
    "# this will give an error because the number of variables is not equal to the number of elements in the tuple"
   ],
   "outputs": [],
   "execution_count": null
  },
  {
   "cell_type": "code",
   "id": "a2f51186776a91bd",
   "metadata": {},
   "source": [
    "# swapping of two variables\n",
    "a = 54\n",
    "b = 32\n",
    "a,b = b,a\n",
    "print(a,b)"
   ],
   "outputs": [],
   "execution_count": null
  },
  {
   "metadata": {},
   "cell_type": "markdown",
   "source": [
    "`*others`\n",
    "- used to assign multiple values to a single variable during tuple unpacking\n",
    "- the variable with * will be a list containing all the values assigned to it\n",
    "- can be used to ignore multiple values during tuple unpacking"
   ],
   "id": "869e902b5df699ca"
  },
  {
   "cell_type": "code",
   "id": "5d4960a0fd260a58",
   "metadata": {},
   "source": [
    "a,b,*others = (1,2,3,4,5,6,7,8,9)\n",
    "print(a)        # 1\n",
    "print(b)        # 2\n",
    "print(others)   # [3, 4, 5, 6, 7, 8, 9]"
   ],
   "outputs": [],
   "execution_count": null
  },
  {
   "cell_type": "code",
   "id": "77fec4eb3a29433e",
   "metadata": {},
   "source": [
    "a,*b = (1,2,3,4,5,6,7,8,9)\n",
    "print(a)        # 1\n",
    "print(b)        # [2, 3, 4, 5, 6 , 7, 8, 9]"
   ],
   "outputs": [],
   "execution_count": null
  },
  {
   "cell_type": "code",
   "id": "95e7c7f04484a9d4",
   "metadata": {},
   "source": [
    "# Zipping tuples\n",
    "names = (\"Ritesh\" , \"Vaibhav\" , \"Rahul\")\n",
    "ages = (20 , 22 , 21)\n",
    "combined = zip(names, ages)\n",
    "print(tuple(combined))"
   ],
   "outputs": [],
   "execution_count": null
  },
  {
   "metadata": {},
   "cell_type": "markdown",
   "source": "### Tuple Comprehension",
   "id": "ecc6e57434a9fbfd"
  },
  {
   "cell_type": "code",
   "id": "663cffc3b06f4414",
   "metadata": {},
   "source": [
    "# it also creates a generator object like list comprehension\n",
    "t = (i*i for i in range(10))\n",
    "print(t)\n",
    "print(type(t))"
   ],
   "outputs": [],
   "execution_count": null
  },
  {
   "metadata": {},
   "cell_type": "markdown",
   "source": [
    "# Sets\n",
    "\n",
    "A set is an unordered collection of items. Every set element is unique (no duplicates) and must be immutable (cannot be changed).\n",
    "\n",
    "However, a set itself is mutable. We can add or remove items from it.\n",
    "\n",
    "Sets can also be used to perform mathematical set operations like union, intersection, symmetric difference, etc.\n",
    "\n",
    "**Characteristics:**\n",
    "- Unordered\n",
    "- Mutable\n",
    "- No Duplicates\n",
    "- Can't contain mutable data types"
   ],
   "id": "a276e9576da5f822"
  },
  {
   "cell_type": "code",
   "id": "998fe60c05cdcced",
   "metadata": {},
   "source": "# 2D set is not possible since set is an unordered collection of unique elements and it can't contain mutable data types like list or set itself.",
   "outputs": [],
   "execution_count": null
  },
  {
   "metadata": {},
   "cell_type": "markdown",
   "source": [
    "## Creation of set\n",
    "- using curly braces `{}`\n",
    "- using `set()` function\n",
    "- using comma `,` separated values"
   ],
   "id": "e91c3d8d82e16832"
  },
  {
   "cell_type": "code",
   "id": "9215f720028d7182",
   "metadata": {},
   "source": [
    "# Creating an empty set\n",
    "s = {}\n",
    "print(s)\n",
    "print(type(s)) # this will give a dictionary since {} is used to represent both set and dictionary\n",
    "s = set()\n",
    "print(s)\n",
    "print(type(s)) # this will give a set"
   ],
   "outputs": [],
   "execution_count": null
  },
  {
   "cell_type": "code",
   "id": "931758754dc4fc22",
   "metadata": {},
   "source": [
    "# 1D and 2D set\n",
    "s1 = {1,2,3,4,5}\n",
    "print(s1)\n",
    "# s2 = {{1,2,3} , {4,5,6}}\n",
    "# print(s2) # this will give an error since set can't contain mutable data types like list or set itself"
   ],
   "outputs": [],
   "execution_count": null
  },
  {
   "metadata": {},
   "cell_type": "code",
   "source": [
    "# Duplicate elements\n",
    "s2 = {1,2,3,4,5,2,3,4,5}\n",
    "print(s2) # this will print {1, 2, 3, 4, 5} since set doesn't allow duplicate elements"
   ],
   "id": "22835743c71ecb9e",
   "outputs": [],
   "execution_count": null
  },
  {
   "cell_type": "code",
   "id": "6feedcda21efd615",
   "metadata": {},
   "source": [
    "# heterogeneous set\n",
    "s3 = {1,2.5,True,\"Ritesh\"}  # here we get 1 and True are same since both are considered as 1 in set , so only one will be stored .\n",
    "print(s3)"
   ],
   "outputs": [],
   "execution_count": null
  },
  {
   "metadata": {},
   "cell_type": "markdown",
   "source": [
    "Why order is not maintained in set ?\n",
    "- Sets are implemented using hash tables. When an element is added to a set, its hash value is computed, and this hash value determines where the element is stored in memory. This process does not guarantee any specific order of elements.\n",
    "\n",
    "**Since sets are unordered, they do not support indexing or slicing like lists or tuples. You cannot access elements by their position because there is no defined order.**"
   ],
   "id": "58bc3f52476c899"
  },
  {
   "cell_type": "code",
   "id": "75d0b8841557f6ca",
   "metadata": {},
   "source": [
    "# using set() function\n",
    "s4 = set([1,2,3,4,5,'hello',2,3,4])\n",
    "print(s4)"
   ],
   "outputs": [],
   "execution_count": null
  },
  {
   "cell_type": "code",
   "id": "894df6c1a6928245",
   "metadata": {},
   "source": [
    "# using comma separated values\n",
    "s5 = 1,2,3,4,5,'adam',2,3,4\n",
    "s5 = set(s5)\n",
    "print(s5)\n",
    "print(type(s5))"
   ],
   "outputs": [],
   "execution_count": null
  },
  {
   "cell_type": "code",
   "id": "8468d00025f57ef9",
   "metadata": {},
   "source": [
    "# can't have mutable data types like list or set itself\n",
    "# s6 = {1,2,[3,4,5]} # this will give an error\n",
    "# s7 = {1,2,{3,4,5}} # this will give an error"
   ],
   "outputs": [],
   "execution_count": null
  },
  {
   "cell_type": "code",
   "id": "aef67e3967a854ee",
   "metadata": {},
   "source": [
    "# unordered nature\n",
    "s1 = {1,2,3,4,5}\n",
    "s2 = {5,4,3,2,1}\n",
    "print(s1 == s2) # True , since both sets have same elements\n",
    "# this also shows that order is not maintained in set"
   ],
   "outputs": [],
   "execution_count": null
  },
  {
   "metadata": {},
   "cell_type": "markdown",
   "source": [
    "## Accessing elements\n",
    "- since set is unordered we can't access elements using indexing or slicing"
   ],
   "id": "10f17e3e2d82f5bb"
  },
  {
   "metadata": {},
   "cell_type": "code",
   "source": [
    "s = {1,2,3,4,5}\n",
    "s[0] # this will give an error since set is unordered and doesn't support indexing\n",
    "s[::-1] # this will also give an error since set is unordered and doesn't support slicing"
   ],
   "id": "3c15d2132b2407f8",
   "outputs": [],
   "execution_count": null
  },
  {
   "metadata": {},
   "cell_type": "markdown",
   "source": [
    "### Adding items\n",
    "- using `add()` function to add a single element\n",
    "- using `update()` function to add multiple elements"
   ],
   "id": "d041440921f850c9"
  },
  {
   "metadata": {},
   "cell_type": "code",
   "source": [
    "# adding single element\n",
    "s = {1,2,3}\n",
    "s.add(4)\n",
    "print(s)\n",
    "s.add(2) # adding duplicate element\n",
    "print(s) # set remains unchanged since duplicate elements are not allowed"
   ],
   "id": "ff596e4b91f67a77",
   "outputs": [],
   "execution_count": null
  },
  {
   "metadata": {},
   "cell_type": "code",
   "source": [
    "# adding multiple elements\n",
    "s.update([5,6,7])\n",
    "print(s)\n",
    "s.update((8,9,10))\n",
    "print(s)"
   ],
   "id": "360c8387dea63069",
   "outputs": [],
   "execution_count": null
  },
  {
   "metadata": {},
   "cell_type": "markdown",
   "source": [
    "### Deleting items\n",
    "\n",
    "- using `del` keyword to delete the entire set or using indexing to delete a specific element (not possible since set is unordered)\n",
    "- using `discard()` function to remove a specific element (doesn't raise error if element not found)\n",
    "- using `remove()` function to remove a specific element (raises error if element not found)\n",
    "- using `pop()` function to remove and return an arbitrary element\n",
    "- using `clear()` function to remove all elements"
   ],
   "id": "a1b0d97d1983130b"
  },
  {
   "metadata": {},
   "cell_type": "code",
   "source": [
    "# del\n",
    "s = {1,2,3,4,5}\n",
    "del(s)\n",
    "# print(s) # this will give an error since s is deleted\n",
    "\n",
    "t = {1,2,3,4,5}\n",
    "#del(t[0]) # this will give an error since set doesn't support indexing so we can't delete a specific element using indexing"
   ],
   "id": "425a92ef10b29652",
   "outputs": [],
   "execution_count": null
  },
  {
   "metadata": {},
   "cell_type": "code",
   "source": [
    "# Discard\n",
    "s = {1,2,3,4,5}\n",
    "s.discard(3)\n",
    "print(s)\n",
    "s.discard(10) # removing an element not present in the set\n",
    "print(s) # set remains unchanged since discard doesn't raise error if element not found"
   ],
   "id": "c26bc8d04357cd5c",
   "outputs": [],
   "execution_count": null
  },
  {
   "metadata": {},
   "cell_type": "code",
   "source": [
    "# remove\n",
    "s = {1,2,3,4,5}\n",
    "s.remove(2)\n",
    "print(s)\n",
    "#s.remove(10)\n",
    "# s.remove(10) # this will give an error since remove raises error if element not found"
   ],
   "id": "3a20e46458d78f58",
   "outputs": [],
   "execution_count": null
  },
  {
   "metadata": {},
   "cell_type": "code",
   "source": [
    "# pop\n",
    "s = {1,2,3,4,5}\n",
    "x = s.pop()\n",
    "print(x) # arbitrary element removed\n",
    "print(s)"
   ],
   "id": "1262a2fec67cf0d8",
   "outputs": [],
   "execution_count": null
  },
  {
   "metadata": {},
   "cell_type": "code",
   "source": [
    "# clear\n",
    "s = {1,2,3,4,5}\n",
    "s.clear()\n",
    "print(s) # empty set"
   ],
   "id": "eb7e2125dfddf6b3",
   "outputs": [],
   "execution_count": null
  },
  {
   "metadata": {},
   "cell_type": "markdown",
   "source": [
    "## Set Operations\n",
    "\n",
    "- Union ( | ) : Combines all unique elements from both sets.\n",
    "- Intersection ( & ) : Retrieves only the elements that are present in both sets.\n",
    "- Difference ( - ) : Gets elements that are in the first set but not in the second.\n",
    "- Symmetric Difference ( ^ ) : Gets elements that are in either of the sets but not in both.\n",
    "- Membership (in, not in) : Checks if an element is present in the set.\n",
    "- Iteration : Looping through each element in the set.\n",
    "- Subset (issubset()) : Checks if all elements of one set are in another set.\n",
    "- Superset (issuperset()) : Checks if a set contains all elements of another set.\n",
    "- disjoint (isdisjoint()) : Checks if two sets have no elements in common."
   ],
   "id": "eafbdf8680291d98"
  },
  {
   "metadata": {},
   "cell_type": "code",
   "source": [
    "# Creating two sets\n",
    "A = {1, 2, 3, 4, 5}\n",
    "B = {4, 5, 6, 7, 8}"
   ],
   "id": "f975138921d3c78e",
   "outputs": [],
   "execution_count": null
  },
  {
   "metadata": {},
   "cell_type": "code",
   "source": [
    "# Union\n",
    "print(\"Union : \", A | B)  # {1, 2, 3, 4, 5, 6, 7, 8}\n",
    "print(\"Union using function : \", A.union(B))  # {1, 2, 3, 4, 5, 6, 7, 8}"
   ],
   "id": "323b25c927d1581d",
   "outputs": [],
   "execution_count": null
  },
  {
   "metadata": {},
   "cell_type": "code",
   "source": [
    "# Intersection\n",
    "print(\"Intersection : \", A & B)  # {4, 5}\n",
    "print(\"Intersection using function : \", A.intersection(B))  # {4, 5}"
   ],
   "id": "a5e63cf7d998bb15",
   "outputs": [],
   "execution_count": null
  },
  {
   "metadata": {},
   "cell_type": "code",
   "source": [
    "# Difference\n",
    "print(\"Difference (A - B) : \", A - B)  # {1, 2, 3}\n",
    "print(\"Difference (B - A) : \", B - A)  # {6, 7, 8}\n",
    "print(\"Difference using function (A - B) : \", A.difference(B))  # {1, 2, 3}\n",
    "print(\"Difference using function (B - A) : \", B.difference(A))  # {6, 7, 8}"
   ],
   "id": "1ad177cb19e3e5ba",
   "outputs": [],
   "execution_count": null
  },
  {
   "metadata": {},
   "cell_type": "code",
   "source": [
    "# Symmetric Difference\n",
    "print(\"Symmetric Difference : \", A ^ B)  # {1, 2, 3, 6, 7, 8}\n",
    "print(\"Symmetric Difference using function : \", A.symmetric_difference(B))  # {1, 2, 3, 6, 7, 8}"
   ],
   "id": "7daadc2c2e391815",
   "outputs": [],
   "execution_count": null
  },
  {
   "metadata": {},
   "cell_type": "code",
   "source": [
    "# Membership\n",
    "print(\"Is 3 in A? \", 3 in A)  # True\n",
    "print(\"Is 6 not in A? \", 6 not in A)  # True"
   ],
   "id": "1e89a100cbe50287",
   "outputs": [],
   "execution_count": null
  },
  {
   "metadata": {},
   "cell_type": "code",
   "source": [
    "# Iteration\n",
    "print(\"Elements in A:\")\n",
    "for elem in A:\n",
    "    print(elem)"
   ],
   "id": "695bd9f1d742a9a6",
   "outputs": [],
   "execution_count": null
  },
  {
   "metadata": {},
   "cell_type": "code",
   "source": [
    "# Subset\n",
    "C = {1, 2}\n",
    "print(\"Is C a subset of A? \", C.issubset(A))  # True\n",
    "print(\"Is A a subset of B? \", A.issubset(B))  # False"
   ],
   "id": "89d720b7cfb50b52",
   "outputs": [],
   "execution_count": null
  },
  {
   "metadata": {},
   "cell_type": "code",
   "source": [
    "# Superset\n",
    "print(\"Is A a superset of C? \", A.issuperset(C))  # True\n",
    "print(\"Is B a superset of A? \", B.issuperset(A))  # False"
   ],
   "id": "4e7c41dfe98eb068",
   "outputs": [],
   "execution_count": null
  },
  {
   "metadata": {},
   "cell_type": "code",
   "source": [
    "# disjoint\n",
    "D = {9, 10}\n",
    "print(\"Are A and D disjoint? \", A.isdisjoint(D))  # True\n",
    "E = {5, 6}\n",
    "print(\"Are A and E disjoint? \", A.isdisjoint(E))  # False"
   ],
   "id": "f9ecf30d18d9af79",
   "outputs": [],
   "execution_count": null
  },
  {
   "metadata": {},
   "cell_type": "markdown",
   "source": "### Basic in-built functions",
   "id": "5e19bb6a28370c48"
  },
  {
   "metadata": {},
   "cell_type": "code",
   "source": [
    "# len/max/min/sorted/sum\n",
    "s = {1,2,3,4,5}\n",
    "print(len(s))    # length of set\n",
    "print(max(s))    # maximum element\n",
    "print(min(s))    # minimum element\n",
    "print(sorted(s)) # sorted set (Returns a list)\n",
    "print(sum(s))    # sum of elements , only for numeric sets"
   ],
   "id": "1dc2b79baa390403",
   "outputs": [],
   "execution_count": null
  },
  {
   "metadata": {},
   "cell_type": "markdown",
   "source": [
    "`update() vs union()`\n",
    "- `update()` modifies the original set in place by adding elements from another set or iterable.\n",
    "- `union()` creates a new set that contains all unique elements from both sets without modifying the original sets."
   ],
   "id": "3e75e235728aeaa1"
  },
  {
   "metadata": {},
   "cell_type": "code",
   "source": [
    "# update()\n",
    "s1 = {1,2,3}\n",
    "s2 = {4,5,6}\n",
    "s1.update(s2)\n",
    "print(\"After update, s1:\", s1)  # s1 is modified to include elements of s2\n",
    "print(\"s2 remains unchanged:\", s2)  # s2 remains unchanged"
   ],
   "id": "ad621219c92c3225",
   "outputs": [],
   "execution_count": null
  },
  {
   "metadata": {},
   "cell_type": "code",
   "source": [
    "# union()\n",
    "s3 = {1,2,3}\n",
    "s4 = {4,5,6}\n",
    "s5 = s3.union(s4)\n",
    "print(\"s3 remains unchanged:\", s3)  # s3 remains unchanged\n",
    "print(\"s4 remains unchanged:\", s4)  # s4 remains unchanged\n",
    "print(\"New set s5 (union of s3 and s4):\", s5)  # s5 is a new set containing elements of both s3 and s4"
   ],
   "id": "c1389ad73242f8a3",
   "outputs": [],
   "execution_count": null
  },
  {
   "metadata": {},
   "cell_type": "markdown",
   "source": [
    "`intersection_update() vs intersection()`\n",
    "- `intersection_update()` modifies the original set in place to keep only elements that are also in another set.\n",
    "- `intersection()` creates a new set that contains only elements that are present in both sets without modifying the original sets."
   ],
   "id": "29a1e573f2580404"
  },
  {
   "metadata": {},
   "cell_type": "code",
   "source": [
    "# intersection_update()\n",
    "s1 = {1,2,3,4,5}\n",
    "s2 = {4,5,6,7,8}\n",
    "s1.intersection_update(s2)\n",
    "print(\"After intersection_update, s1:\", s1)  # s1 is modified to include only elements also in s2\n",
    "print(\"s2 remains unchanged:\", s2)  # s2 remains unchanged"
   ],
   "id": "3308e6d5999e35",
   "outputs": [],
   "execution_count": null
  },
  {
   "metadata": {},
   "cell_type": "markdown",
   "source": "Same way for difference_update() and symmetric_difference_update()",
   "id": "13ce859ce45faac1"
  },
  {
   "metadata": {},
   "cell_type": "markdown",
   "source": [
    "`copy()`\n",
    "- creates a shallow copy of the set\n",
    "- changes made to the copied set do not affect the original set"
   ],
   "id": "4e8914b2fe7de06"
  },
  {
   "metadata": {},
   "cell_type": "code",
   "source": [
    "s1 = {1,2,3}\n",
    "s2 = s1.copy()\n",
    "s2.add(4)\n",
    "print(\"Original set s1:\", s1)  # s1 remains unchanged\n",
    "print(\"Copied set s2 after adding 4:\", s2)  # s2 has the new element"
   ],
   "id": "9b0ebf6aabcf20",
   "outputs": [],
   "execution_count": null
  },
  {
   "metadata": {},
   "cell_type": "markdown",
   "source": [
    "### frozenset\n",
    "- immutable version of a set\n",
    "- once created, elements cannot be added or removed\n",
    "- supports all set operations except those that modify the set (like add, remove, clear, update)"
   ],
   "id": "531d99d695e9f321"
  },
  {
   "metadata": {},
   "cell_type": "code",
   "source": [
    "# Creating a frozenset\n",
    "fs = frozenset([1,2,3,4,5])\n",
    "print(fs)\n",
    "print(type(fs))"
   ],
   "id": "817226968f904b63",
   "outputs": [],
   "execution_count": null
  },
  {
   "metadata": {},
   "cell_type": "code",
   "source": [
    "# All read-only operations are allowed like union, intersection, difference, symmetric difference\n",
    "fs1 = frozenset([1,2,3])\n",
    "fs2 = frozenset([3,4,5])\n",
    "print(\"Union:\", fs1 | fs2)  # {1, 2, 3, 4, 5}\n",
    "print(\"Intersection:\", fs1 & fs2)  # {3}\n",
    "print(\"Difference (fs1 - fs2):\", fs1 - fs2)  # {1, 2}\n",
    "print(\"Symmetric Difference:\", fs1 ^ fs2)  # {1, 2, 4, 5}"
   ],
   "id": "5fd40eb09d459b9e",
   "outputs": [],
   "execution_count": null
  },
  {
   "metadata": {},
   "cell_type": "code",
   "source": [
    " # issubset , issuperset , isdisjoint\n",
    "fs3 = frozenset([1,2])\n",
    "print(\"Is fs3 a subset of fs1? \", fs3.issubset(fs1))  # True\n",
    "print(\"Is fs1 a superset of fs3? \", fs1.issuperset(fs3))  # True\n",
    "fs4 = frozenset([6,7])\n",
    "print(\"Are fs1 and fs4 disjoint? \", fs1.isdisjoint(fs4))  # True"
   ],
   "id": "9686e379875971f9",
   "outputs": [],
   "execution_count": null
  },
  {
   "metadata": {},
   "cell_type": "markdown",
   "source": "functions like add , remove , discard , pop , clear , update , intersection_update , difference_update , symmetric_difference_update are not available for frozenset",
   "id": "2c6a2e14e3d4ac71"
  },
  {
   "metadata": {},
   "cell_type": "markdown",
   "source": "**2D frozensets are possible because frozensets are immutable and can contain other frozensets as elements.**",
   "id": "6dea0ffc34401946"
  },
  {
   "metadata": {},
   "cell_type": "code",
   "source": [
    "fs = frozenset([frozenset([1,2,3]) , frozenset([4,5,6])])\n",
    "fs"
   ],
   "id": "be1c4352fa628d6c",
   "outputs": [],
   "execution_count": null
  },
  {
   "metadata": {},
   "cell_type": "code",
   "source": [
    "# Accessing elements\n",
    "for i in fs :\n",
    "    print(i)"
   ],
   "id": "aa5d5eb887903cb0",
   "outputs": [],
   "execution_count": null
  },
  {
   "metadata": {},
   "cell_type": "markdown",
   "source": [
    "## Set Comprehension\n",
    "- similar to list comprehension but creates a set instead of a list\n",
    "- syntax: `{expression for item in iterable if condition}`"
   ],
   "id": "9f92c4e4ceac5120"
  },
  {
   "metadata": {},
   "cell_type": "code",
   "source": "{i*i for i in range(1,11)}",
   "id": "64f579356189f1c5",
   "outputs": [],
   "execution_count": null
  },
  {
   "metadata": {},
   "cell_type": "markdown",
   "source": [
    "# Dictionary\n",
    "\n",
    "Dictionary in Python is a collection of keys and values, used to store data values like a map, which, unlike other data types which hold only a single value as an element.\n",
    "\n",
    "In some languages it is known as map or associative arrays.\n",
    "\n",
    "Example:\n",
    "```python\n",
    "dict = { 'name': 'Ritesh', 'age': 20, 'gender': 'male' }\n",
    "```\n",
    "\n",
    "**Characteristics:**\n",
    "- Mutable\n",
    "- Indexing has no meaning\n",
    "- Keys can't be duplicated\n",
    "- Keys can't be mutable items"
   ],
   "id": "8b3c6573f1c535cd"
  },
  {
   "metadata": {},
   "cell_type": "markdown",
   "source": [
    "## Creation of dictionary\n",
    "- using curly braces `{}`\n",
    "- using `dict()` function\n",
    "- using comma `,` separated key:value pairs\n",
    "- using `fromkeys()` function"
   ],
   "id": "ee804beb2087ab48"
  },
  {
   "metadata": {},
   "cell_type": "code",
   "source": [
    "# Creating an empty dictionary\n",
    "d = {}\n",
    "print(d)\n",
    "print(type(d))"
   ],
   "id": "ac3d6beec00fcf53",
   "outputs": [],
   "execution_count": null
  },
  {
   "metadata": {},
   "cell_type": "code",
   "source": [
    "# 1D dictionary\n",
    "d1 = {'name': 'Ritesh', 'age': 20}\n",
    "print(d1)"
   ],
   "id": "7a7c482954819cab",
   "outputs": [],
   "execution_count": null
  },
  {
   "metadata": {},
   "cell_type": "code",
   "source": [
    "# mixed keys and values\n",
    "d2 = {(1,2,3): 'tuple_key', 45: 'int_key', 67.89: 'float_key', True: 'bool_key', 'list_key': [1,2,3], 'set_key': {4,5,6}, 'dict_key': {'a': 1, 'b': 2}}\n",
    "print(d2)"
   ],
   "id": "25f03299a6955dce",
   "outputs": [],
   "execution_count": null
  },
  {
   "metadata": {},
   "cell_type": "code",
   "source": "d3 = { [1,2] : \"tuple\" , 45 : \"int\" , 67.89 : \"float\" , True : \"bool\" } # this will give an error since list is a mutable item and can't be used as a key",
   "id": "af0f4a017afc8b78",
   "outputs": [],
   "execution_count": null
  },
  {
   "cell_type": "code",
   "id": "c9e5075d4d522435",
   "metadata": {},
   "source": [
    "# 2D dictionary : Json follow this structure\n",
    "s = {\n",
    "    'name': 'Ritesh',\n",
    "    'college': 'ABC',\n",
    "    'marks': {\n",
    "        'maths': 95,\n",
    "        'science': 90,\n",
    "        'english': 85\n",
    "    },\n",
    "    'age': 20,\n",
    "    'year': 2025\n",
    "}\n",
    "s"
   ],
   "outputs": [],
   "execution_count": null
  },
  {
   "cell_type": "code",
   "id": "2684be0c60fac77e",
   "metadata": {},
   "source": [
    "# using dict() function\n",
    "d4 = dict([('name', 'Ritesh'), ('age', 20)])\n",
    "print(d4)"
   ],
   "outputs": [],
   "execution_count": null
  },
  {
   "cell_type": "code",
   "id": "870e81ae19ffd31b",
   "metadata": {},
   "source": [
    "# using comma separated key:value pairs\n",
    "d5 = 'name', 'Ritesh', 'age', 20\n",
    "d5 = dict([ (d5[i], d5[i+1]) for i in range(0, len(d5), 2) ])\n",
    "print(d5)"
   ],
   "outputs": [],
   "execution_count": null
  },
  {
   "metadata": {},
   "cell_type": "code",
   "source": [
    "# using fromkeys() function\n",
    "keys = ['name', 'age', 'year']\n",
    "d6 = dict.fromkeys(keys, 'Ritesh')\n",
    "print(d6)"
   ],
   "id": "7b062d28adffa9fe",
   "outputs": [],
   "execution_count": null
  },
  {
   "metadata": {},
   "cell_type": "code",
   "source": [
    "# if value is not provided then it will be None by default\n",
    "d7 = dict.fromkeys(keys)\n",
    "print(d7)"
   ],
   "id": "3ac307edda132d2f",
   "outputs": [],
   "execution_count": null
  },
  {
   "metadata": {},
   "cell_type": "markdown",
   "source": "**Dictionary keys can't be duplicate since they are used to access the values. If duplicate keys are used, the last occurrence will overwrite the previous ones.**",
   "id": "c1ee98acd258b62b"
  },
  {
   "metadata": {},
   "cell_type": "code",
   "source": [
    "d8 = {'name': 'Ritesh', 'age': 20, 'name': 'Rahul'}\n",
    "print(d8) # {'name': 'Rahul', 'age': 20} ==> 'name' key is duplicated, so the last value 'Rahul' overwrites 'Ritesh'"
   ],
   "id": "9258098935d301ac",
   "outputs": [],
   "execution_count": null
  },
  {
   "metadata": {},
   "cell_type": "markdown",
   "source": "**mutable items like list or set can't be used as keys since they can be changed after creation, which would make it impossible to reliably access the associated value. Immutable items like strings, numbers, and tuples can be used as keys.**",
   "id": "1d68f05041c0dffe"
  },
  {
   "metadata": {},
   "cell_type": "code",
   "source": "d9 = { [1,2,3] : \"list_key\" , {4,5,6} : \"set_key\" } # this will give an error since list and set are mutable items and can't be used as keys",
   "id": "609d705f1b1eefe3",
   "outputs": [],
   "execution_count": null
  },
  {
   "metadata": {},
   "cell_type": "code",
   "source": [
    "d10 = {5:'hello',4:'world',3:'python',2:'is',1:'great'}\n",
    "d10"
   ],
   "id": "11971a638a76acaf",
   "outputs": [],
   "execution_count": null
  },
  {
   "metadata": {},
   "cell_type": "markdown",
   "source": "Dictionary is an unordered collection of items so the order of items may not be the same as the order in which they were added.",
   "id": "9deab226fb2cb479"
  },
  {
   "metadata": {},
   "cell_type": "markdown",
   "source": [
    "## Accessing elements\n",
    "- using keys\n",
    "- using `get()` function\n",
    "- using `items()`, `keys()`, `values()` functions"
   ],
   "id": "7ab3d4e9e4489d4f"
  },
  {
   "metadata": {},
   "cell_type": "code",
   "source": [
    "d11 = {'name': 'Ritesh', 'age': 20, 'college': 'ABC'}\n",
    "# []\n",
    "print(d11['name'])  # accessing value using key\n",
    "\n",
    "# get()\n",
    "print(d11.get('age'))  # accessing value using get() function\n",
    "\n",
    "# items()\n",
    "print(d11.items())  # returns a view object of key-value pairs\n",
    "\n",
    "# keys()\n",
    "print(d11.keys())  # returns a view object of keys\n",
    "\n",
    "# values()\n",
    "print(d11.values())  # returns a view object of values"
   ],
   "id": "9004bf6a03693023",
   "outputs": [],
   "execution_count": null
  },
  {
   "metadata": {},
   "cell_type": "markdown",
   "source": "## Adding items ( key-value pairs)",
   "id": "b405ffefba94207b"
  },
  {
   "metadata": {},
   "cell_type": "code",
   "source": "d11",
   "id": "44f78e40d7dc4f82",
   "outputs": [],
   "execution_count": null
  },
  {
   "metadata": {},
   "cell_type": "code",
   "source": [
    "d11['year'] = 2025  # adding a new key-value pair\n",
    "d11"
   ],
   "id": "7eecade28bf0808",
   "outputs": [],
   "execution_count": null
  },
  {
   "metadata": {},
   "cell_type": "markdown",
   "source": [
    "### Removing items ( key-value pairs)\n",
    "- `pop()` function to remove a specific key-value pair\n",
    "- `popitem()` function to remove and return last inserted key-value pair\n",
    "- `del` keyword to delete a specific key-value pair or the entire dictionary\n",
    "- `clear()` function to remove all key-value pairs"
   ],
   "id": "4010523d3e571350"
  },
  {
   "metadata": {},
   "cell_type": "code",
   "source": [
    "# pop()\n",
    "d11.pop('age')  # removing key-value pair with key 'age'\n",
    "d11"
   ],
   "id": "7b60d4e69fb012f1",
   "outputs": [],
   "execution_count": null
  },
  {
   "metadata": {},
   "cell_type": "code",
   "source": [
    "# popitem()\n",
    "a = d11.popitem()  # removing and returning an arbitrary key-value pair\n",
    "print(a)\n",
    "d11"
   ],
   "id": "8228bb918f6530eb",
   "outputs": [],
   "execution_count": null
  },
  {
   "metadata": {},
   "cell_type": "code",
   "source": [
    "# del\n",
    "del d11['college']  # deleting key-value pair with key 'college'\n",
    "d11\n",
    "\n",
    "# or delete entire dictionary\n",
    "del d11\n",
    "# print(d11) # this will give an error since d11 is deleted"
   ],
   "id": "56186486a16067ec",
   "outputs": [],
   "execution_count": null
  },
  {
   "metadata": {},
   "cell_type": "code",
   "source": [
    "# clear()\n",
    "d12 = {'name': 'Ritesh', 'age': 20, 'college': 'ABC'}\n",
    "d12.clear()  # removing all key-value pairs\n",
    "print(d12)  # empty dictionary"
   ],
   "id": "e9d7eb41027c89d",
   "outputs": [],
   "execution_count": null
  },
  {
   "metadata": {},
   "cell_type": "markdown",
   "source": "### Accessing nested dictionary",
   "id": "66b05cb9db067449"
  },
  {
   "metadata": {},
   "cell_type": "code",
   "source": [
    "s = {\n",
    "    'name': 'Ritesh',\n",
    "    'college': 'ABC',\n",
    "    'marks': {\n",
    "        'maths': 95,\n",
    "        'science': 90,\n",
    "        'english': 85\n",
    "    },\n",
    "    'age': 20,\n",
    "    'year': 2025\n",
    "}\n",
    "# accessing nested dictionary\n",
    "print(s['marks'])          # entire marks dictionary\n",
    "print(s['marks']['maths']) # marks in maths"
   ],
   "id": "74cb98edbbaacb72",
   "outputs": [],
   "execution_count": null
  },
  {
   "metadata": {},
   "cell_type": "markdown",
   "source": "### Adding items to nested dictionary",
   "id": "d38f7daa509c713b"
  },
  {
   "metadata": {},
   "cell_type": "code",
   "source": [
    "s['marks']['history'] = 88  # adding history marks\n",
    "print(s)"
   ],
   "id": "78e22e0c2c725efb",
   "outputs": [],
   "execution_count": null
  },
  {
   "metadata": {},
   "cell_type": "markdown",
   "source": "### Removing items from nested dictionary",
   "id": "c14b7f9d0366485"
  },
  {
   "metadata": {},
   "cell_type": "code",
   "source": "s",
   "id": "f0e4ea6e3f57f8e",
   "outputs": [],
   "execution_count": null
  },
  {
   "metadata": {},
   "cell_type": "code",
   "source": [
    "s['marks'].pop('science')  # removing science marks\n",
    "print(s)"
   ],
   "id": "cf8155c83c351e56",
   "outputs": [],
   "execution_count": null
  },
  {
   "metadata": {},
   "cell_type": "code",
   "source": [
    "del s['marks']['english']  # deleting english marks\n",
    "print(s)"
   ],
   "id": "56df848b1d5b8d6e",
   "outputs": [],
   "execution_count": null
  },
  {
   "metadata": {},
   "cell_type": "markdown",
   "source": "### Editing items",
   "id": "c69c1849159dfe82"
  },
  {
   "metadata": {},
   "cell_type": "code",
   "source": "s",
   "id": "1c6d1e2d70bcfd7",
   "outputs": [],
   "execution_count": null
  },
  {
   "metadata": {},
   "cell_type": "code",
   "source": [
    "s['name'] = 'Rahul'  # changing name\n",
    "s['marks']['maths'] = 98  # changing maths marks\n",
    "print(s)"
   ],
   "id": "3859ff4f099c04c1",
   "outputs": [],
   "execution_count": null
  },
  {
   "metadata": {},
   "cell_type": "markdown",
   "source": "`Always remember that in dictionary all we care about is keys since they are used to access the values.`",
   "id": "a78f8719c6d33ab0"
  },
  {
   "metadata": {},
   "cell_type": "markdown",
   "source": [
    "## Dictionary Operations\n",
    "- Membership (in, not in) : Checks if a key is present in the dictionary.\n",
    "- Iteration : Looping through each key-value pair in the dictionary.\n",
    "- Merging (update()) : Merges another dictionary into the current dictionary."
   ],
   "id": "3931b3224e251b5d"
  },
  {
   "metadata": {},
   "cell_type": "code",
   "source": "s",
   "id": "d412d2752a1697c6",
   "outputs": [],
   "execution_count": null
  },
  {
   "metadata": {},
   "cell_type": "code",
   "source": "'age' in s  # checking if 'age' key is present in the dictionary",
   "id": "afc8ae9654ee14ab",
   "outputs": [],
   "execution_count": null
  },
  {
   "metadata": {},
   "cell_type": "markdown",
   "source": "works only for keys not for values.|",
   "id": "71e9d81ddc6e154"
  },
  {
   "metadata": {},
   "cell_type": "code",
   "source": [
    "for i in s :\n",
    "    print(i)  # printing all keys in the dictionary"
   ],
   "id": "7913801a7b5cffd2",
   "outputs": [],
   "execution_count": null
  },
  {
   "metadata": {},
   "cell_type": "code",
   "source": [
    "# printing all key-value pairs in the dictionary\n",
    "for i in s:\n",
    "    print(i, \":\", s[i])"
   ],
   "id": "bd20f5d4c8b23a6",
   "outputs": [],
   "execution_count": null
  },
  {
   "metadata": {},
   "cell_type": "code",
   "source": [
    "# alternatively using items() function\n",
    "for key, value in s.items():\n",
    "    print(key, \":\", value)"
   ],
   "id": "4b642555ee5e6a5",
   "outputs": [],
   "execution_count": null
  },
  {
   "metadata": {},
   "cell_type": "markdown",
   "source": [
    "## Dictionary Functions\n",
    "- `len()` : Returns the number of key-value pairs in the dictionary.\n",
    "- `sorted()` : Returns a sorted list of keys in the dictionary.\n",
    "- `min()` : Returns the minimum key in the dictionary.\n",
    "- `max()` : Returns the maximum key in the dictionary.\n",
    "- `all()` : Returns True if all keys are true (non-zero, non-empty).\n",
    "- `any()` : Returns True if any key is true (non-zero, non-empty).\n",
    "- `sum()` : Returns the sum of all numeric keys in the dictionary.\n",
    "- `copy()` : Returns a shallow copy of the dictionary."
   ],
   "id": "21d16e89ea511d6e"
  },
  {
   "metadata": {},
   "cell_type": "code",
   "source": "len(s)",
   "id": "71c5b9930320ed03",
   "outputs": [],
   "execution_count": null
  },
  {
   "metadata": {},
   "cell_type": "code",
   "source": "sorted(s)   # for descending order use sorted(s, reverse=True)",
   "id": "35fc5dde77e68938",
   "outputs": [],
   "execution_count": null
  },
  {
   "metadata": {},
   "cell_type": "code",
   "source": "min(s)",
   "id": "e9e80e7c5e731e30",
   "outputs": [],
   "execution_count": null
  },
  {
   "metadata": {},
   "cell_type": "code",
   "source": "max(s)",
   "id": "a419e8e1b20475f0",
   "outputs": [],
   "execution_count": null
  },
  {
   "metadata": {},
   "cell_type": "code",
   "source": "all(s)",
   "id": "bf31e3a83bdfb3ed",
   "outputs": [],
   "execution_count": null
  },
  {
   "metadata": {},
   "cell_type": "code",
   "source": "any(s)",
   "id": "123daab64c675917",
   "outputs": [],
   "execution_count": null
  },
  {
   "metadata": {},
   "cell_type": "code",
   "source": [
    "# sum of numeric keys\n",
    "d = {1: 'a', 2: 'b', 3: 'c'}\n",
    "sum(d)"
   ],
   "id": "8ebbe1d4720bc5b5",
   "outputs": [],
   "execution_count": null
  },
  {
   "metadata": {},
   "cell_type": "markdown",
   "source": [
    "### items(), keys(), values()\n",
    "\n",
    "these are methods that return view objects of the dictionary's items, keys, and values respectively.\n",
    "\n",
    "syntax:     `dict.items()` same for keys() and values()\n",
    "\n",
    "- `items()` : Returns a view object of key-value pairs.\n",
    "- `keys()` : Returns a view object of keys.\n",
    "- `values()` : Returns a view object of values.\n"
   ],
   "id": "55ef9d089d38b645"
  },
  {
   "metadata": {},
   "cell_type": "code",
   "source": [
    "a = s.items()\n",
    "a"
   ],
   "id": "ea8dafe2713da58",
   "outputs": [],
   "execution_count": null
  },
  {
   "metadata": {},
   "cell_type": "code",
   "source": [
    "b = s.keys()\n",
    "b"
   ],
   "id": "470bad00aebdfa8a",
   "outputs": [],
   "execution_count": null
  },
  {
   "metadata": {},
   "cell_type": "code",
   "source": [
    "c = s.values()\n",
    "c"
   ],
   "id": "c3872ec1f61fe320",
   "outputs": [],
   "execution_count": null
  },
  {
   "metadata": {},
   "cell_type": "markdown",
   "source": [
    "update() vs merge()\n",
    "- `update()` modifies the original dictionary in place by adding key-value pairs from another dictionary or iterable of key-value pairs.\n",
    "- `merge()` (introduced in Python 3.9 with the `|` operator) creates a new dictionary that contains all key-value pairs from both dictionaries without modifying the original dictionaries."
   ],
   "id": "604bb9a1f2755b6f"
  },
  {
   "metadata": {},
   "cell_type": "code",
   "source": [
    "d1 = {'name': 'Ritesh', 'age': 20}\n",
    "d2 = {'college': 'ABC', 'year': 2025}\n",
    "\n",
    "# Using update()\n",
    "d1.update(d2)\n",
    "print(\"After update, d1:\", d1)  # d1 is modified to include elements of d2\n",
    "print(\"d2 remains unchanged:\", d2)  # d2 remains unchanged\n",
    "\n",
    "# Using merge (Python 3.9+)\n",
    "d3 = {'name': 'Ritesh', 'age': 20}\n",
    "d4 = {'college': 'ABC', 'year': 2025}\n",
    "d5 = d3 | d4\n",
    "\n",
    "print(\"d3 remains unchanged:\", d3)  # d3 remains unchanged\n",
    "print(\"d4 remains unchanged:\", d4)  # d4 remains unchanged\n",
    "print(\"New dictionary d5 (merge of d3 and d4):\", d5)  # d5 is a new dictionary containing elements of both d3 and d4"
   ],
   "id": "4c8b4ac3146f9eae",
   "outputs": [],
   "execution_count": null
  },
  {
   "metadata": {},
   "cell_type": "markdown",
   "source": [
    "## Dictionary Comprehension\n",
    "![image.png](data:image/png;base64,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)"
   ],
   "id": "7724099b57683f86"
  },
  {
   "metadata": {},
   "cell_type": "code",
   "source": [
    "# print 1st 10 numbers and their squares\n",
    "{i:i**2 for i in range(1,11)}"
   ],
   "id": "7da089b4bf6d8b59",
   "outputs": [],
   "execution_count": null
  },
  {
   "metadata": {},
   "cell_type": "code",
   "source": [
    "distances = {'delhi':1000,'mumbai':2000,'bangalore':3000}\n",
    "print(distances.items())"
   ],
   "id": "a06d310278d9eb41",
   "outputs": [],
   "execution_count": null
  },
  {
   "metadata": {},
   "cell_type": "code",
   "source": [
    "# using existing dict\n",
    "distances = {'delhi':1000,'mumbai':2000,'bangalore':3000}\n",
    "{key:value*0.62 for (key,value) in distances.items()}"
   ],
   "id": "fc6f5e0010fa68d1",
   "outputs": [],
   "execution_count": null
  },
  {
   "metadata": {},
   "cell_type": "code",
   "source": [
    "# using zip\n",
    "days = [\"Sunday\", \"Monday\",\"Tuesday\",\"Wednesday\",\"Thursday\",\"Friday\",\"Saturday\"]\n",
    "temp_C = [30.5,32.6,31.8,33.4,29.8,30.2,29.9]\n",
    "\n",
    "{i:j for (i,j) in zip(days,temp_C)}"
   ],
   "id": "48d9207195114941",
   "outputs": [],
   "execution_count": null
  },
  {
   "metadata": {},
   "cell_type": "code",
   "source": [
    "# using if condition\n",
    "products = {'phone':10,'laptop':0,'charger':32,'tablet':0}\n",
    "\n",
    "{key:value for (key,value) in products.items() if value>0}"
   ],
   "id": "65b777c675b87ab2",
   "outputs": [],
   "execution_count": null
  },
  {
   "metadata": {},
   "cell_type": "code",
   "source": [
    "# Nested Comprehension\n",
    "# print tables of number from 2 to 4\n",
    "{i:{j:i*j for j in range(1,11)} for i in range(2,5)}\n",
    "# here outer loop is for rows and inner loop is for columns"
   ],
   "id": "29f6659ac097192a",
   "outputs": [],
   "execution_count": null
  },
  {
   "metadata": {},
   "cell_type": "code",
   "source": [
    "{\n",
    "    2:{1:2,2:4,3:6,4:8},\n",
    "    3:{1:3,2:6,3:9,4:12},\n",
    "    4:{1:4,2:8,3:12,4:16}\n",
    "}"
   ],
   "id": "1273a1f80e9a73d2",
   "outputs": [],
   "execution_count": null
  },
  {
   "metadata": {},
   "cell_type": "markdown",
   "source": "### Questions",
   "id": "4d943a4ea1b8f966"
  },
  {
   "metadata": {},
   "cell_type": "code",
   "source": [
    "# Question\n",
    "# take a long para input then covert it into a list of words .\n",
    "# remove all the duplicates then use these distinct elements as a key for dictionary\n",
    "# assign your name as value for all the keys in the dictionary\n",
    "# print tuple of all the values .\n",
    "# print list of all keys"
   ],
   "id": "273eb3ccd601d11b",
   "outputs": [],
   "execution_count": null
  },
  {
   "metadata": {},
   "cell_type": "code",
   "source": [
    "para = input(\"Enter a paragraph : \")\n",
    "\n",
    "lst1 = para.split(\" \")\n",
    "s1 = set(lst1)\n",
    "dic1 = dict.fromkeys(s1,\"Ritesh\")\n",
    "t1 = tuple(dic1.keys())\n",
    "l1 = list(dic1.values())\n",
    "\n",
    "print(t1)\n",
    "print(l1)\n",
    "print(dic1)"
   ],
   "id": "818c1f945e7e1ff9",
   "outputs": [],
   "execution_count": null
  }
 ],
 "metadata": {
  "kernelspec": {
   "display_name": "Python 3",
   "language": "python",
   "name": "python3"
  },
  "language_info": {
   "codemirror_mode": {
    "name": "ipython",
    "version": 3
   },
   "file_extension": ".py",
   "mimetype": "text/x-python",
   "name": "python",
   "nbconvert_exporter": "python",
   "pygments_lexer": "ipython3",
   "version": "3.13.7"
  }
 },
 "nbformat": 4,
 "nbformat_minor": 5
}
