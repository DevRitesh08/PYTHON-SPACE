{
 "cells": [
  {
   "cell_type": "code",
   "execution_count": 1,
   "id": "d03ab306-a074-41e4-806f-de44f7dca99c",
   "metadata": {},
   "outputs": [],
   "source": [
    "# Tuple , Set and dictionary"
   ]
  },
  {
   "cell_type": "code",
   "execution_count": null,
   "id": "8b202ce3-92d9-4203-ac11-883182364876",
   "metadata": {},
   "outputs": [],
   "source": [
    "# Tuples"
   ]
  },
  {
   "cell_type": "code",
   "execution_count": 2,
   "id": "d25ce4e5-cfd4-4546-a6f1-69fa6ddc9be1",
   "metadata": {},
   "outputs": [
    {
     "data": {
      "text/plain": [
       "tuple"
      ]
     },
     "execution_count": 2,
     "metadata": {},
     "output_type": "execute_result"
    }
   ],
   "source": [
    "t = ()\n",
    "type(t)"
   ]
  },
  {
   "cell_type": "code",
   "execution_count": 3,
   "id": "d573395f-069f-4f24-84b9-1b1e5a0136e1",
   "metadata": {},
   "outputs": [
    {
     "data": {
      "text/plain": [
       "list"
      ]
     },
     "execution_count": 3,
     "metadata": {},
     "output_type": "execute_result"
    }
   ],
   "source": [
    "l = []\n",
    "type(l)"
   ]
  },
  {
   "cell_type": "code",
   "execution_count": 17,
   "id": "ec1fce96-8c96-4574-ad7c-5c22bf547be5",
   "metadata": {},
   "outputs": [
    {
     "data": {
      "text/plain": [
       "12"
      ]
     },
     "execution_count": 17,
     "metadata": {},
     "output_type": "execute_result"
    }
   ],
   "source": [
    "t1 = (12,2.24,True,\"hii\")\n",
    "l1 = [12,2.24,True,\"hii\"]\n",
    "t[0]"
   ]
  },
  {
   "cell_type": "code",
   "execution_count": 18,
   "id": "740e8bc2-de0d-418a-94c1-8a0a65159fa5",
   "metadata": {},
   "outputs": [
    {
     "data": {
      "text/plain": [
       "(12, 2.24, True, 'hii')"
      ]
     },
     "execution_count": 18,
     "metadata": {},
     "output_type": "execute_result"
    }
   ],
   "source": [
    "t1[0:4]"
   ]
  },
  {
   "cell_type": "code",
   "execution_count": 19,
   "id": "2ccf534f-b3e5-4f59-8e02-b15ae1e34904",
   "metadata": {},
   "outputs": [
    {
     "data": {
      "text/plain": [
       "'hii'"
      ]
     },
     "execution_count": 19,
     "metadata": {},
     "output_type": "execute_result"
    }
   ],
   "source": [
    "t1[-1]"
   ]
  },
  {
   "cell_type": "code",
   "execution_count": 20,
   "id": "5bbb7a43-4a92-4324-97c4-1c70844f33d2",
   "metadata": {},
   "outputs": [
    {
     "data": {
      "text/plain": [
       "('hii', True, 2.24, 12)"
      ]
     },
     "execution_count": 20,
     "metadata": {},
     "output_type": "execute_result"
    }
   ],
   "source": [
    "t1[::-1]"
   ]
  },
  {
   "cell_type": "code",
   "execution_count": 23,
   "id": "0a376fe3-c9d3-40ef-a510-a20a776b319e",
   "metadata": {},
   "outputs": [
    {
     "data": {
      "text/plain": [
       "['ritesh', 2.24, True, 'hii']"
      ]
     },
     "execution_count": 23,
     "metadata": {},
     "output_type": "execute_result"
    }
   ],
   "source": [
    "l1[0] = \"ritesh\"\n",
    "l1"
   ]
  },
  {
   "cell_type": "code",
   "execution_count": null,
   "id": "bd946753-21de-40c7-aaee-656498354be5",
   "metadata": {},
   "outputs": [],
   "source": [
    "# we can do this sice list is a mutable entity ."
   ]
  },
  {
   "cell_type": "code",
   "execution_count": 29,
   "id": "0f4cf8cc-3d9b-4b44-87d3-67ce62362d62",
   "metadata": {},
   "outputs": [
    {
     "ename": "TypeError",
     "evalue": "'tuple' object does not support item assignment",
     "output_type": "error",
     "traceback": [
      "\u001b[1;31m---------------------------------------------------------------------------\u001b[0m",
      "\u001b[1;31mTypeError\u001b[0m                                 Traceback (most recent call last)",
      "Cell \u001b[1;32mIn[29], line 1\u001b[0m\n\u001b[1;32m----> 1\u001b[0m t1[\u001b[38;5;241m0\u001b[39m] \u001b[38;5;241m=\u001b[39m \u001b[38;5;124m\"\u001b[39m\u001b[38;5;124mritesh\u001b[39m\u001b[38;5;124m\"\u001b[39m\n\u001b[0;32m      2\u001b[0m t1\n",
      "\u001b[1;31mTypeError\u001b[0m: 'tuple' object does not support item assignment"
     ]
    }
   ],
   "source": [
    "t1[0] = \"ritesh\"\n",
    "t1"
   ]
  },
  {
   "cell_type": "code",
   "execution_count": 30,
   "id": "d79ca48c-19ac-4a90-a615-8bc2eb77960b",
   "metadata": {},
   "outputs": [
    {
     "data": {
      "text/plain": [
       "(12, 2.24, True, 'hii')"
      ]
     },
     "execution_count": 30,
     "metadata": {},
     "output_type": "execute_result"
    }
   ],
   "source": [
    "t1"
   ]
  },
  {
   "cell_type": "code",
   "execution_count": 46,
   "id": "076972be-8885-4c8e-a82d-ebeb2801a244",
   "metadata": {},
   "outputs": [
    {
     "data": {
      "text/plain": [
       "(12, 2.24, True, 'hii', 897, 786, 997, 744, 786, 786, 786)"
      ]
     },
     "execution_count": 46,
     "metadata": {},
     "output_type": "execute_result"
    }
   ],
   "source": [
    "t2 = (897 , 786 ,997 ,744 ,786 , 786 , 786)\n",
    "t1 + t2"
   ]
  },
  {
   "cell_type": "code",
   "execution_count": 47,
   "id": "619f8d8b-d5df-4998-a8fa-b9af980eaa90",
   "metadata": {},
   "outputs": [
    {
     "data": {
      "text/plain": [
       "(897, 786, 997, 744, 786, 786, 786, 897, 786, 997, 744, 786, 786, 786)"
      ]
     },
     "execution_count": 47,
     "metadata": {},
     "output_type": "execute_result"
    }
   ],
   "source": [
    "t2*2"
   ]
  },
  {
   "cell_type": "code",
   "execution_count": 48,
   "id": "98b97a01-7721-48d2-9edd-ad318371100e",
   "metadata": {},
   "outputs": [
    {
     "data": {
      "text/plain": [
       "True"
      ]
     },
     "execution_count": 48,
     "metadata": {},
     "output_type": "execute_result"
    }
   ],
   "source": [
    "997 in t2"
   ]
  },
  {
   "cell_type": "code",
   "execution_count": 49,
   "id": "145d3df0-6be4-43f4-b4ea-ac14057c4e84",
   "metadata": {},
   "outputs": [
    {
     "data": {
      "text/plain": [
       "997"
      ]
     },
     "execution_count": 49,
     "metadata": {},
     "output_type": "execute_result"
    }
   ],
   "source": [
    "max(t2)"
   ]
  },
  {
   "cell_type": "code",
   "execution_count": 50,
   "id": "c1d929ba-b246-404d-8b8d-24d6760ab0df",
   "metadata": {},
   "outputs": [
    {
     "data": {
      "text/plain": [
       "'wjsh'"
      ]
     },
     "execution_count": 50,
     "metadata": {},
     "output_type": "execute_result"
    }
   ],
   "source": [
    "t3 = (\"kjwdq\" , \"wjsh\" , \"ouqg\", \"kheq\")\n",
    "max(t3)"
   ]
  },
  {
   "cell_type": "code",
   "execution_count": 51,
   "id": "882a37e2-f11b-4e07-9f29-e25da4e1eb79",
   "metadata": {},
   "outputs": [
    {
     "data": {
      "text/plain": [
       "1"
      ]
     },
     "execution_count": 51,
     "metadata": {},
     "output_type": "execute_result"
    }
   ],
   "source": [
    "t2.index(786)"
   ]
  },
  {
   "cell_type": "code",
   "execution_count": 52,
   "id": "7bd25e14-f066-4991-9cdb-ad67a2e9c640",
   "metadata": {},
   "outputs": [],
   "source": [
    "# only count() and index() funnctions are available for a tuple ."
   ]
  },
  {
   "cell_type": "code",
   "execution_count": 53,
   "id": "cdedecd6-2200-4c1c-a411-bfa33e4472f7",
   "metadata": {},
   "outputs": [
    {
     "data": {
      "text/plain": [
       "4"
      ]
     },
     "execution_count": 53,
     "metadata": {},
     "output_type": "execute_result"
    }
   ],
   "source": [
    "t2.count(786)"
   ]
  },
  {
   "cell_type": "code",
   "execution_count": 54,
   "id": "bc24e679-1541-49a2-b811-2707902becf5",
   "metadata": {},
   "outputs": [
    {
     "ename": "TypeError",
     "evalue": "'<' not supported between instances of 'str' and 'bool'",
     "output_type": "error",
     "traceback": [
      "\u001b[1;31m---------------------------------------------------------------------------\u001b[0m",
      "\u001b[1;31mTypeError\u001b[0m                                 Traceback (most recent call last)",
      "Cell \u001b[1;32mIn[54], line 1\u001b[0m\n\u001b[1;32m----> 1\u001b[0m \u001b[38;5;28mmin\u001b[39m(t1)\n",
      "\u001b[1;31mTypeError\u001b[0m: '<' not supported between instances of 'str' and 'bool'"
     ]
    }
   ],
   "source": [
    "min(t1)"
   ]
  },
  {
   "cell_type": "code",
   "execution_count": 55,
   "id": "2f658ab8-b59b-4897-abbf-6603d72cc772",
   "metadata": {},
   "outputs": [
    {
     "data": {
      "text/plain": [
       "744"
      ]
     },
     "execution_count": 55,
     "metadata": {},
     "output_type": "execute_result"
    }
   ],
   "source": [
    "min(t2)"
   ]
  },
  {
   "cell_type": "code",
   "execution_count": 56,
   "id": "755c4e13-1b53-44ed-bc0b-e519b6c3939d",
   "metadata": {},
   "outputs": [
    {
     "data": {
      "text/plain": [
       "'kheq'"
      ]
     },
     "execution_count": 56,
     "metadata": {},
     "output_type": "execute_result"
    }
   ],
   "source": [
    "min(t3)"
   ]
  },
  {
   "cell_type": "code",
   "execution_count": 57,
   "id": "32da390b-50be-42e4-8c25-b3ccbf81814c",
   "metadata": {},
   "outputs": [],
   "source": [
    "# converting a tuple to a list to use its vast in-built function like insert , find ...."
   ]
  },
  {
   "cell_type": "code",
   "execution_count": 58,
   "id": "e033145d-41e7-43b5-b4d7-117c31916b3e",
   "metadata": {},
   "outputs": [
    {
     "data": {
      "text/plain": [
       "(12, 2.24, True, 'hii')"
      ]
     },
     "execution_count": 58,
     "metadata": {},
     "output_type": "execute_result"
    }
   ],
   "source": [
    "t1"
   ]
  },
  {
   "cell_type": "code",
   "execution_count": 65,
   "id": "48ee8611-6ac7-4523-b4be-b34308c0dead",
   "metadata": {},
   "outputs": [
    {
     "name": "stdout",
     "output_type": "stream",
     "text": [
      "[12, 2.24, True, 'hii']\n"
     ]
    },
    {
     "data": {
      "text/plain": [
       "list"
      ]
     },
     "execution_count": 65,
     "metadata": {},
     "output_type": "execute_result"
    }
   ],
   "source": [
    "LL = list(t1)\n",
    "print(LL)\n",
    "type(LL)"
   ]
  },
  {
   "cell_type": "code",
   "execution_count": 63,
   "id": "18a5dafb-45ee-46d7-8608-6dfb10e32467",
   "metadata": {},
   "outputs": [
    {
     "data": {
      "text/plain": [
       "[12, 2.24, True, 561, 561, 'hii']"
      ]
     },
     "execution_count": 63,
     "metadata": {},
     "output_type": "execute_result"
    }
   ],
   "source": [
    "x = 561\n",
    "LL.insert(-1,x)\n",
    "LL"
   ]
  },
  {
   "cell_type": "code",
   "execution_count": 68,
   "id": "ffaf33bb-d53f-4f63-8fe0-5bd74702c733",
   "metadata": {},
   "outputs": [
    {
     "data": {
      "text/plain": [
       "tuple"
      ]
     },
     "execution_count": 68,
     "metadata": {},
     "output_type": "execute_result"
    }
   ],
   "source": [
    "LL = tuple(LL)\n",
    "type(LL)"
   ]
  },
  {
   "cell_type": "code",
   "execution_count": 82,
   "id": "2956c681-2bee-40af-806c-9c6a85d60c38",
   "metadata": {},
   "outputs": [
    {
     "data": {
      "text/plain": [
       "True"
      ]
     },
     "execution_count": 82,
     "metadata": {},
     "output_type": "execute_result"
    }
   ],
   "source": [
    "T = ((12,32,4,5,6) , (\"sdsf\" ,32 ,\"sdf\") , (2132.32 , 32.44, True) , 23 , 222, 323 ,223 ,[65,45,3,45])\n",
    "T[2][2]"
   ]
  },
  {
   "cell_type": "code",
   "execution_count": 84,
   "id": "10b43067-f640-4311-a76b-58686b921144",
   "metadata": {},
   "outputs": [
    {
     "data": {
      "text/plain": [
       "[65, 45, 3, 45]"
      ]
     },
     "execution_count": 84,
     "metadata": {},
     "output_type": "execute_result"
    }
   ],
   "source": [
    "T[7][0:4]"
   ]
  },
  {
   "cell_type": "code",
   "execution_count": 86,
   "id": "fa1e73a8-9a1f-40d4-91bd-a62870a47ede",
   "metadata": {},
   "outputs": [
    {
     "name": "stdout",
     "output_type": "stream",
     "text": [
      "12\n",
      "sdsf\n",
      "2132.32\n"
     ]
    }
   ],
   "source": [
    "T = ((12,32,4,5,6) , (\"sdsf\" ,32 ,\"sdf\") , (2132.32 , 32.44, True) , 23 , 222, 323 ,223)\n",
    "for i in T :\n",
    "    if type(i) is tuple :\n",
    "        print(i[0])\n"
   ]
  },
  {
   "cell_type": "code",
   "execution_count": 89,
   "id": "a3983a16-04b3-4b4f-8dea-81506d14bb06",
   "metadata": {},
   "outputs": [
    {
     "ename": "NameError",
     "evalue": "name 'T' is not defined",
     "output_type": "error",
     "traceback": [
      "\u001b[1;31m---------------------------------------------------------------------------\u001b[0m",
      "\u001b[1;31mNameError\u001b[0m                                 Traceback (most recent call last)",
      "Cell \u001b[1;32mIn[89], line 1\u001b[0m\n\u001b[1;32m----> 1\u001b[0m \u001b[38;5;28;01mdel\u001b[39;00m(T)\n\u001b[0;32m      2\u001b[0m T\n",
      "\u001b[1;31mNameError\u001b[0m: name 'T' is not defined"
     ]
    }
   ],
   "source": [
    "del(T)\n",
    "T"
   ]
  },
  {
   "cell_type": "code",
   "execution_count": 90,
   "id": "77fbd75a-5750-47c3-bfc9-054f10c73c27",
   "metadata": {},
   "outputs": [],
   "source": [
    "# Sets\n",
    "# unordered collection of unique elements"
   ]
  },
  {
   "cell_type": "code",
   "execution_count": 92,
   "id": "488c82e5-aae6-44ef-8553-a085088a94f6",
   "metadata": {},
   "outputs": [
    {
     "data": {
      "text/plain": [
       "set"
      ]
     },
     "execution_count": 92,
     "metadata": {},
     "output_type": "execute_result"
    }
   ],
   "source": [
    "x = set()\n",
    "type(x)"
   ]
  },
  {
   "cell_type": "code",
   "execution_count": 100,
   "id": "05f4644e-41b5-4f6d-8a41-d72398c3f13b",
   "metadata": {},
   "outputs": [
    {
     "data": {
      "text/plain": [
       "{2, 3, 4, 'Ritesh', 'hello', 'hiii', 'ritesh'}"
      ]
     },
     "execution_count": 100,
     "metadata": {},
     "output_type": "execute_result"
    }
   ],
   "source": [
    "ll = [2,3,4,3,2,3,2,3,3,3,3,\"ritesh\",\"hiii\",\"Ritesh\",\"hello\",\"hiii\",\"ritesh\",\"hello\"]\n",
    "s = set(l)\n",
    "s"
   ]
  },
  {
   "cell_type": "code",
   "execution_count": 101,
   "id": "8069f9c1-c5c2-4bc6-8c3b-85671f58bd76",
   "metadata": {},
   "outputs": [
    {
     "name": "stdout",
     "output_type": "stream",
     "text": [
      "hello\n",
      "2\n",
      "3\n",
      "4\n",
      "Ritesh\n",
      "hiii\n",
      "ritesh\n"
     ]
    }
   ],
   "source": [
    "for i in s :\n",
    "    print(i)"
   ]
  },
  {
   "cell_type": "code",
   "execution_count": 102,
   "id": "2d6bc5a3-04b2-47cc-811e-78d8da908bb4",
   "metadata": {},
   "outputs": [
    {
     "data": {
      "text/plain": [
       "True"
      ]
     },
     "execution_count": 102,
     "metadata": {},
     "output_type": "execute_result"
    }
   ],
   "source": [
    "2 in s"
   ]
  },
  {
   "cell_type": "code",
   "execution_count": 104,
   "id": "786bfa80-5d02-4f94-94db-e372b74ace02",
   "metadata": {},
   "outputs": [
    {
     "ename": "TypeError",
     "evalue": "'set' object is not subscriptable",
     "output_type": "error",
     "traceback": [
      "\u001b[1;31m---------------------------------------------------------------------------\u001b[0m",
      "\u001b[1;31mTypeError\u001b[0m                                 Traceback (most recent call last)",
      "Cell \u001b[1;32mIn[104], line 1\u001b[0m\n\u001b[1;32m----> 1\u001b[0m s[\u001b[38;5;241m0\u001b[39m]\n",
      "\u001b[1;31mTypeError\u001b[0m: 'set' object is not subscriptable"
     ]
    }
   ],
   "source": [
    "s[0] "
   ]
  },
  {
   "cell_type": "code",
   "execution_count": 121,
   "id": "7e1a9c53-6312-45dc-84e2-76f3febe53f9",
   "metadata": {},
   "outputs": [
    {
     "data": {
      "text/plain": [
       "{1, 2, 3, 4, 5, 'Ritesh', 'Swami'}"
      ]
     },
     "execution_count": 121,
     "metadata": {},
     "output_type": "execute_result"
    }
   ],
   "source": [
    "s1 = set()\n",
    "s1.add(1)\n",
    "s1.add(2)\n",
    "s1.add(3)\n",
    "s1.add(4)\n",
    "s1.add(5)\n",
    "s1.add(\"Ritesh\")\n",
    "s1.add(\"Swami\")\n",
    "s1"
   ]
  },
  {
   "cell_type": "code",
   "execution_count": 122,
   "id": "73182a7c-4a00-4320-a36b-65f69c05149c",
   "metadata": {},
   "outputs": [
    {
     "ename": "TypeError",
     "evalue": "unhashable type: 'list'",
     "output_type": "error",
     "traceback": [
      "\u001b[1;31m---------------------------------------------------------------------------\u001b[0m",
      "\u001b[1;31mTypeError\u001b[0m                                 Traceback (most recent call last)",
      "Cell \u001b[1;32mIn[122], line 1\u001b[0m\n\u001b[1;32m----> 1\u001b[0m s1\u001b[38;5;241m.\u001b[39madd([\u001b[38;5;241m9\u001b[39m,\u001b[38;5;241m8\u001b[39m,\u001b[38;5;241m7\u001b[39m])\n",
      "\u001b[1;31mTypeError\u001b[0m: unhashable type: 'list'"
     ]
    }
   ],
   "source": [
    "s1.add([9,8,7])"
   ]
  },
  {
   "cell_type": "code",
   "execution_count": 123,
   "id": "cc34efeb-2a48-4ac0-9464-acb822039dfd",
   "metadata": {},
   "outputs": [],
   "source": [
    "# since set requires flat data for comparison of unique elements so list can't be added directly , firstly separate each element and then add ."
   ]
  },
  {
   "cell_type": "code",
   "execution_count": 124,
   "id": "826af8bf-78e7-420a-b6a0-adc89f46e99f",
   "metadata": {},
   "outputs": [
    {
     "data": {
      "text/plain": [
       "{1, 2, 3, 4, 'Ritesh', 'Swami'}"
      ]
     },
     "execution_count": 124,
     "metadata": {},
     "output_type": "execute_result"
    }
   ],
   "source": [
    "s1.remove(5)\n",
    "s1"
   ]
  },
  {
   "cell_type": "code",
   "execution_count": 125,
   "id": "a7ebd7af-99f6-4658-8d2e-14dc6445e5a0",
   "metadata": {},
   "outputs": [
    {
     "data": {
      "text/plain": [
       "True"
      ]
     },
     "execution_count": 125,
     "metadata": {},
     "output_type": "execute_result"
    }
   ],
   "source": [
    "4 in s1"
   ]
  },
  {
   "cell_type": "code",
   "execution_count": 126,
   "id": "224393da-bb85-4041-b91c-c61f8184f3d3",
   "metadata": {},
   "outputs": [],
   "source": [
    "s.clear()"
   ]
  },
  {
   "cell_type": "code",
   "execution_count": 127,
   "id": "877e0ab0-2e29-4753-96f8-b12f15e144f2",
   "metadata": {},
   "outputs": [
    {
     "data": {
      "text/plain": [
       "set()"
      ]
     },
     "execution_count": 127,
     "metadata": {},
     "output_type": "execute_result"
    }
   ],
   "source": [
    "s"
   ]
  },
  {
   "cell_type": "code",
   "execution_count": 137,
   "id": "37bd6411-4a4d-4349-b8a2-89dc1272eff3",
   "metadata": {},
   "outputs": [
    {
     "ename": "TypeError",
     "evalue": "unsupported operand type(s) for +: 'set' and 'set'",
     "output_type": "error",
     "traceback": [
      "\u001b[1;31m---------------------------------------------------------------------------\u001b[0m",
      "\u001b[1;31mTypeError\u001b[0m                                 Traceback (most recent call last)",
      "Cell \u001b[1;32mIn[137], line 19\u001b[0m\n\u001b[0;32m     16\u001b[0m s1\u001b[38;5;241m.\u001b[39madd(\u001b[38;5;124m\"\u001b[39m\u001b[38;5;124mR\u001b[39m\u001b[38;5;124m\"\u001b[39m)\n\u001b[0;32m     17\u001b[0m s1\u001b[38;5;241m.\u001b[39madd(\u001b[38;5;124m\"\u001b[39m\u001b[38;5;124mS\u001b[39m\u001b[38;5;124m\"\u001b[39m)\n\u001b[1;32m---> 19\u001b[0m s1 \u001b[38;5;241m+\u001b[39m s2\n",
      "\u001b[1;31mTypeError\u001b[0m: unsupported operand type(s) for +: 'set' and 'set'"
     ]
    }
   ],
   "source": [
    "s2 = set()\n",
    "s2.add(13)\n",
    "s2.add(254)\n",
    "s2.add(36)\n",
    "s2.add(42)\n",
    "s2.add(51)\n",
    "s2.add(\"Ritesh\")\n",
    "s2.add(\"Swami\")\n",
    "\n",
    "s1 = set()\n",
    "s1.add(1)\n",
    "s1.add(2)\n",
    "s1.add(3)\n",
    "s1.add(4)\n",
    "s1.add(5)\n",
    "s1.add(\"R\")\n",
    "s1.add(\"S\")\n",
    "\n",
    "s1 + s2\n"
   ]
  },
  {
   "cell_type": "code",
   "execution_count": 138,
   "id": "7cc02709-1c31-469d-88f7-2439b53bde3e",
   "metadata": {},
   "outputs": [
    {
     "ename": "TypeError",
     "evalue": "unsupported operand type(s) for *: 'set' and 'int'",
     "output_type": "error",
     "traceback": [
      "\u001b[1;31m---------------------------------------------------------------------------\u001b[0m",
      "\u001b[1;31mTypeError\u001b[0m                                 Traceback (most recent call last)",
      "Cell \u001b[1;32mIn[138], line 1\u001b[0m\n\u001b[1;32m----> 1\u001b[0m s2\u001b[38;5;241m*\u001b[39m\u001b[38;5;241m3\u001b[39m\n",
      "\u001b[1;31mTypeError\u001b[0m: unsupported operand type(s) for *: 'set' and 'int'"
     ]
    }
   ],
   "source": [
    "s2*3"
   ]
  },
  {
   "cell_type": "code",
   "execution_count": 141,
   "id": "363d6fa2-99f0-48b4-b9b1-5fcf3f839c9f",
   "metadata": {},
   "outputs": [
    {
     "data": {
      "text/plain": [
       "[36, 42, 13, 'Swami', 51, 'Ritesh', 254]"
      ]
     },
     "execution_count": 141,
     "metadata": {},
     "output_type": "execute_result"
    }
   ],
   "source": [
    "l5 = list(s2)\n",
    "l5"
   ]
  },
  {
   "cell_type": "code",
   "execution_count": 142,
   "id": "8631405c-983c-4903-a90b-7ec4c2278769",
   "metadata": {},
   "outputs": [
    {
     "data": {
      "text/plain": [
       "[36, 42, 13, 'Swami', 51, 'Ritesh', 254, 13]"
      ]
     },
     "execution_count": 142,
     "metadata": {},
     "output_type": "execute_result"
    }
   ],
   "source": [
    "l5.append(13)\n",
    "l5"
   ]
  },
  {
   "cell_type": "code",
   "execution_count": 143,
   "id": "2f930b95-0e10-447f-aa4d-6da91c65489f",
   "metadata": {},
   "outputs": [
    {
     "data": {
      "text/plain": [
       "(36, 42, 13, 'Swami', 51, 'Ritesh', 254)"
      ]
     },
     "execution_count": 143,
     "metadata": {},
     "output_type": "execute_result"
    }
   ],
   "source": [
    "t5 = tuple(s2)\n",
    "t5"
   ]
  },
  {
   "cell_type": "code",
   "execution_count": 144,
   "id": "8fde80ab-b649-4e4e-be86-a9a5d092b7df",
   "metadata": {},
   "outputs": [],
   "source": [
    "# Dictionary\n",
    "# it stores data in the form of key value pair ."
   ]
  },
  {
   "cell_type": "code",
   "execution_count": 145,
   "id": "6fcf1dfb-1d73-4e8f-83b2-40e320e047ab",
   "metadata": {},
   "outputs": [
    {
     "data": {
      "text/plain": [
       "dict"
      ]
     },
     "execution_count": 145,
     "metadata": {},
     "output_type": "execute_result"
    }
   ],
   "source": [
    "x = {}\n",
    "type(x)"
   ]
  },
  {
   "cell_type": "code",
   "execution_count": 146,
   "id": "67903264-ca25-4d5d-8a09-804980de8f5f",
   "metadata": {},
   "outputs": [
    {
     "data": {
      "text/plain": [
       "set"
      ]
     },
     "execution_count": 146,
     "metadata": {},
     "output_type": "execute_result"
    }
   ],
   "source": [
    "y = {12,32,32}\n",
    "type(y)"
   ]
  },
  {
   "cell_type": "code",
   "execution_count": 1,
   "id": "acbef00d-dff7-452d-8248-2e092afb114c",
   "metadata": {},
   "outputs": [],
   "source": [
    "# so \"{}\" is used to represent both a dictionary and a set , by default it is a dictionary (when {} are empty ) . "
   ]
  },
  {
   "cell_type": "code",
   "execution_count": 41,
   "id": "520b030d-e65f-4193-bcb1-e95e9db3e2a7",
   "metadata": {},
   "outputs": [
    {
     "name": "stdout",
     "output_type": "stream",
     "text": [
      "{'Name': 'Rishu', 'Subject': 'Python', True: 1, 355: 675, 786.79: 865, 45: {75, 867, 7}, 67: (64, 757, 675, 86), 'yrftyd': [4, 5, 97, 75], 5656: {1: 'asa', 'ead': 'adad', 131.12: [1, 2, 3, 4, 5, 9, 8]}}\n",
      "<class 'dict'>\n"
     ]
    }
   ],
   "source": [
    "x = {\"Name\" : \"Ritesh\" , \"Subject\" : \"Python\" , True : 1 , 355 : 675 , 786.79 : 865 , \"Name\" : \"Rishu\" , 45 : {75, 75 ,867 ,7} , 67 : (64 , 757, 675,86) , \"yrftyd\" : [4,5,97,75] , 5656 : {1 : \"asa\" , \"ead\" : \"adad\" , 131.12 : [1,2,3,4,5,9,8]}}\n",
    "print(x)\n",
    "print(type(x))"
   ]
  },
  {
   "cell_type": "code",
   "execution_count": 42,
   "id": "97834891-2494-48bd-8d04-4202646f24ef",
   "metadata": {},
   "outputs": [],
   "source": [
    "# so the key can be string , char , int , float , boolean .\n",
    "# since key is always unique so in case of repeatition the key will update its value with the latest one (rightmost)\n",
    "# a value can be  string , char , int , float , boolean , list , tuple , set and dictionary ."
   ]
  },
  {
   "cell_type": "code",
   "execution_count": 43,
   "id": "06a5d0f7-3be0-4fe1-a15d-ce06d907f61a",
   "metadata": {},
   "outputs": [
    {
     "name": "stdout",
     "output_type": "stream",
     "text": [
      "{'{\"dataframes\": [], \"user\": \"RITESH\"}': 'Python'}\n"
     ]
    }
   ],
   "source": [
    "x1 = { _31: \"Python\" }\n",
    "#x2 = { $: \"Python\" }\n",
    "print(x1)\n",
    "#print(x2)"
   ]
  },
  {
   "cell_type": "code",
   "execution_count": 44,
   "id": "f51773d0-2f3a-4727-94e8-dc296b8ffeab",
   "metadata": {},
   "outputs": [],
   "source": [
    "# so the key can't be an special character  ,  list . \n",
    "# tuples can be used as a key ."
   ]
  },
  {
   "cell_type": "code",
   "execution_count": 45,
   "id": "aaaffde6-e65c-41df-b111-7ffe85bd0c21",
   "metadata": {},
   "outputs": [
    {
     "data": {
      "text/plain": [
       "4"
      ]
     },
     "execution_count": 45,
     "metadata": {},
     "output_type": "execute_result"
    }
   ],
   "source": [
    "l = [1,2,4,5,6]\n",
    "l[2]"
   ]
  },
  {
   "cell_type": "code",
   "execution_count": 46,
   "id": "b32436f8-9235-4b8f-b0d6-f92693cae060",
   "metadata": {},
   "outputs": [
    {
     "data": {
      "text/plain": [
       "'Rishu'"
      ]
     },
     "execution_count": 46,
     "metadata": {},
     "output_type": "execute_result"
    }
   ],
   "source": [
    "x[\"Name\"]"
   ]
  },
  {
   "cell_type": "code",
   "execution_count": 47,
   "id": "31708e36-c2c6-4787-a32d-9a857c588ee1",
   "metadata": {},
   "outputs": [
    {
     "data": {
      "text/plain": [
       "'Python'"
      ]
     },
     "execution_count": 47,
     "metadata": {},
     "output_type": "execute_result"
    }
   ],
   "source": [
    "x[\"Subject\"]"
   ]
  },
  {
   "cell_type": "code",
   "execution_count": 48,
   "id": "d3cb7c6f-d450-4f3c-ac89-07b6814f1622",
   "metadata": {},
   "outputs": [
    {
     "data": {
      "text/plain": [
       "86"
      ]
     },
     "execution_count": 48,
     "metadata": {},
     "output_type": "execute_result"
    }
   ],
   "source": [
    "# Question\n",
    "# extract 86 from the value whose key is 67 and value is an tuple .\n",
    "x[67][3]\n"
   ]
  },
  {
   "cell_type": "code",
   "execution_count": 51,
   "id": "581d1d6c-1c25-44f1-b5a7-a5c7e6a5338c",
   "metadata": {},
   "outputs": [
    {
     "data": {
      "text/plain": [
       "9"
      ]
     },
     "execution_count": 51,
     "metadata": {},
     "output_type": "execute_result"
    }
   ],
   "source": [
    "x[5656][131.12][5]"
   ]
  },
  {
   "cell_type": "code",
   "execution_count": 52,
   "id": "5ac88851-6d14-447b-baab-271daae7c3c7",
   "metadata": {},
   "outputs": [
    {
     "ename": "TypeError",
     "evalue": "unsupported operand type(s) for +: 'dict' and 'dict'",
     "output_type": "error",
     "traceback": [
      "\u001b[1;31m---------------------------------------------------------------------------\u001b[0m",
      "\u001b[1;31mTypeError\u001b[0m                                 Traceback (most recent call last)",
      "Cell \u001b[1;32mIn[52], line 3\u001b[0m\n\u001b[0;32m      1\u001b[0m p \u001b[38;5;241m=\u001b[39m {\u001b[38;5;124m\"\u001b[39m\u001b[38;5;124ma\u001b[39m\u001b[38;5;124m\"\u001b[39m : \u001b[38;5;241m323\u001b[39m , \u001b[38;5;124m\"\u001b[39m\u001b[38;5;124mb\u001b[39m\u001b[38;5;124m\"\u001b[39m : \u001b[38;5;241m31\u001b[39m , \u001b[38;5;124m\"\u001b[39m\u001b[38;5;124mc\u001b[39m\u001b[38;5;124m\"\u001b[39m : \u001b[38;5;241m231\u001b[39m}\n\u001b[0;32m      2\u001b[0m q \u001b[38;5;241m=\u001b[39m {\u001b[38;5;241m3\u001b[39m : \u001b[38;5;241m333\u001b[39m , \u001b[38;5;124m\"\u001b[39m\u001b[38;5;124mboy\u001b[39m\u001b[38;5;124m\"\u001b[39m : \u001b[38;5;241m5631\u001b[39m , \u001b[38;5;124m\"\u001b[39m\u001b[38;5;124mcat\u001b[39m\u001b[38;5;124m\"\u001b[39m : \u001b[38;5;241m2231\u001b[39m}\n\u001b[1;32m----> 3\u001b[0m p\u001b[38;5;241m+\u001b[39mq\n",
      "\u001b[1;31mTypeError\u001b[0m: unsupported operand type(s) for +: 'dict' and 'dict'"
     ]
    }
   ],
   "source": [
    "p = {\"a\" : 323 , \"b\" : 31 , \"c\" : 231}\n",
    "q = {3 : 333 , \"boy\" : 5631 , \"cat\" : 2231}\n",
    "p+q"
   ]
  },
  {
   "cell_type": "code",
   "execution_count": 54,
   "id": "33072ab5-9597-4efc-857f-d86432b90961",
   "metadata": {},
   "outputs": [
    {
     "ename": "TypeError",
     "evalue": "unsupported operand type(s) for *: 'dict' and 'int'",
     "output_type": "error",
     "traceback": [
      "\u001b[1;31m---------------------------------------------------------------------------\u001b[0m",
      "\u001b[1;31mTypeError\u001b[0m                                 Traceback (most recent call last)",
      "Cell \u001b[1;32mIn[54], line 1\u001b[0m\n\u001b[1;32m----> 1\u001b[0m p\u001b[38;5;241m*\u001b[39m\u001b[38;5;241m3\u001b[39m\n",
      "\u001b[1;31mTypeError\u001b[0m: unsupported operand type(s) for *: 'dict' and 'int'"
     ]
    }
   ],
   "source": [
    "p*3\n",
    "# doesn't work since keys are always unique ."
   ]
  },
  {
   "cell_type": "code",
   "execution_count": 55,
   "id": "d0e52785-1f51-4d70-a9c7-d02cdb4c7d0b",
   "metadata": {},
   "outputs": [
    {
     "data": {
      "text/plain": [
       "{'a': 323, 'b': 31, 'c': 231}"
      ]
     },
     "execution_count": 55,
     "metadata": {},
     "output_type": "execute_result"
    }
   ],
   "source": [
    "p"
   ]
  },
  {
   "cell_type": "code",
   "execution_count": 62,
   "id": "36288486-0f77-4de7-94c6-98f0c7d2c876",
   "metadata": {},
   "outputs": [
    {
     "data": {
      "text/plain": [
       "{'a': 200, 'b': 6000, 'c': 'Ritesh'}"
      ]
     },
     "execution_count": 62,
     "metadata": {},
     "output_type": "execute_result"
    }
   ],
   "source": [
    "p[\"c\"] = \"Ritesh\"\n",
    "p[\"b\"] = 6000\n",
    "p[\"a\"] -= 123\n",
    "p"
   ]
  },
  {
   "cell_type": "code",
   "execution_count": 63,
   "id": "2c39671d-1c70-46f2-a0d0-4a86cbd0dd04",
   "metadata": {},
   "outputs": [],
   "source": [
    "# so dictionary is an mutable entity ."
   ]
  },
  {
   "cell_type": "code",
   "execution_count": 64,
   "id": "67906ac0-7854-44ea-b05b-11f7d37f3001",
   "metadata": {},
   "outputs": [
    {
     "data": {
      "text/plain": [
       "dict_keys(['a', 'b', 'c'])"
      ]
     },
     "execution_count": 64,
     "metadata": {},
     "output_type": "execute_result"
    }
   ],
   "source": [
    "p.keys()"
   ]
  },
  {
   "cell_type": "code",
   "execution_count": 65,
   "id": "255abcaf-7f9b-4621-9e53-e25ae84591a4",
   "metadata": {},
   "outputs": [
    {
     "data": {
      "text/plain": [
       "True"
      ]
     },
     "execution_count": 65,
     "metadata": {},
     "output_type": "execute_result"
    }
   ],
   "source": [
    "\"a\" in p.keys()"
   ]
  },
  {
   "cell_type": "code",
   "execution_count": 66,
   "id": "5f7d7715-07c8-4752-9678-35dd5728a54f",
   "metadata": {},
   "outputs": [
    {
     "name": "stdout",
     "output_type": "stream",
     "text": [
      "a\n",
      "b\n",
      "c\n"
     ]
    }
   ],
   "source": [
    "for i in p :\n",
    "    print(i)"
   ]
  },
  {
   "cell_type": "code",
   "execution_count": 67,
   "id": "7ef3c419-8597-4b2f-8633-8ff8ba30400d",
   "metadata": {},
   "outputs": [],
   "source": [
    "# its only giving us the keys ."
   ]
  },
  {
   "cell_type": "code",
   "execution_count": 68,
   "id": "78dd9c23-04db-4992-9478-f9b6658684d4",
   "metadata": {},
   "outputs": [
    {
     "name": "stdout",
     "output_type": "stream",
     "text": [
      "200\n",
      "6000\n",
      "Ritesh\n"
     ]
    }
   ],
   "source": [
    "for i in p.keys() :\n",
    "    print(p[i])"
   ]
  },
  {
   "cell_type": "code",
   "execution_count": 69,
   "id": "aa139988-0029-4ba3-bcee-98adf0ae77b3",
   "metadata": {},
   "outputs": [
    {
     "name": "stdout",
     "output_type": "stream",
     "text": [
      "Rishu\n",
      "Python\n",
      "1\n",
      "675\n",
      "865\n",
      "{75, 867, 7}\n",
      "(64, 757, 675, 86)\n",
      "[4, 5, 97, 75]\n",
      "{1: 'asa', 'ead': 'adad', 131.12: [1, 2, 3, 4, 5, 9, 8]}\n"
     ]
    }
   ],
   "source": [
    "for i in x.keys() :\n",
    "    print(x[i])"
   ]
  },
  {
   "cell_type": "code",
   "execution_count": 71,
   "id": "a8963d9a-ece3-4575-a0e0-f0fd30a4b258",
   "metadata": {},
   "outputs": [
    {
     "name": "stdout",
     "output_type": "stream",
     "text": [
      "<class 'str'>\n",
      "<class 'str'>\n",
      "<class 'int'>\n",
      "<class 'int'>\n",
      "<class 'int'>\n",
      "<class 'set'>\n",
      "<class 'tuple'>\n",
      "<class 'list'>\n",
      "<class 'dict'>\n"
     ]
    }
   ],
   "source": [
    "for i in x.keys() :\n",
    "    print(type(x[i]))"
   ]
  },
  {
   "cell_type": "code",
   "execution_count": 74,
   "id": "a6dd9d9b-fb3f-4869-9be7-73e7d1e56afa",
   "metadata": {},
   "outputs": [
    {
     "data": {
      "text/plain": [
       "dict_items([('Name', 'Rishu'), ('Subject', 'Python'), (True, 1), (355, 675), (786.79, 865), (45, {75, 867, 7}), (67, (64, 757, 675, 86)), ('yrftyd', [4, 5, 97, 75]), (5656, {1: 'asa', 'ead': 'adad', 131.12: [1, 2, 3, 4, 5, 9, 8]})])"
      ]
     },
     "execution_count": 74,
     "metadata": {},
     "output_type": "execute_result"
    }
   ],
   "source": [
    "x.items()"
   ]
  },
  {
   "cell_type": "code",
   "execution_count": 76,
   "id": "c9a4616c-d53b-40b4-83ad-b17ef0bc60e3",
   "metadata": {},
   "outputs": [
    {
     "name": "stdout",
     "output_type": "stream",
     "text": [
      "Name\n",
      "Subject\n",
      "True\n",
      "355\n",
      "786.79\n",
      "45\n",
      "67\n",
      "yrftyd\n",
      "5656\n"
     ]
    }
   ],
   "source": [
    "# extracting the keys from this list of tuples of key value pair .\n",
    "for i in x.items() :\n",
    "    print(i[0])"
   ]
  },
  {
   "cell_type": "code",
   "execution_count": 78,
   "id": "35018b38-0372-43f6-9b9e-a82ba06b9c1a",
   "metadata": {},
   "outputs": [
    {
     "data": {
      "text/plain": [
       "'adef'"
      ]
     },
     "execution_count": 78,
     "metadata": {},
     "output_type": "execute_result"
    }
   ],
   "source": [
    "d = {(1,2,3,4,5) : \"adef\"}\n",
    "d[(1,2,3,4,5)]"
   ]
  },
  {
   "cell_type": "code",
   "execution_count": 80,
   "id": "8a509be0-2a33-4635-885d-415f91b40c44",
   "metadata": {},
   "outputs": [
    {
     "data": {
      "text/plain": [
       "9"
      ]
     },
     "execution_count": 80,
     "metadata": {},
     "output_type": "execute_result"
    }
   ],
   "source": [
    "len(x)"
   ]
  },
  {
   "cell_type": "code",
   "execution_count": null,
   "id": "04c74459-5c47-4a4d-87ff-385774797608",
   "metadata": {},
   "outputs": [],
   "source": [
    "# Question\n",
    "# take a long para input then covert it into a list of words .\n",
    "# remove all the duplicates then use these distinct elements as a key for dictionary \n",
    "# assign your name as value for all the keys in the dictionary\n",
    "# print tuple of all the values .\n",
    "# print list of all keys "
   ]
  },
  {
   "cell_type": "code",
   "execution_count": 2,
   "id": "404a838f-c6a2-4ae0-b07c-483abd39acf4",
   "metadata": {},
   "outputs": [
    {
     "name": "stdin",
     "output_type": "stream",
     "text": [
      "Enter a paragraph :  hi hey hi hey how are you how hey their now what now\n"
     ]
    },
    {
     "name": "stdout",
     "output_type": "stream",
     "text": [
      "('how', 'are', 'hey', 'now', 'what', 'their', 'hi', 'you')\n",
      "['Ritesh', 'Ritesh', 'Ritesh', 'Ritesh', 'Ritesh', 'Ritesh', 'Ritesh', 'Ritesh']\n"
     ]
    }
   ],
   "source": [
    "para = input(\"Enter a paragraph : \")\n",
    "\n",
    "lst1 = para.split(\" \")\n",
    "s1 = set(lst1)\n",
    "dic1 = dict.fromkeys(s1,\"Ritesh\")\n",
    "t1 = tuple(dic1.keys())\n",
    "l1 = list(dic1.values())\n",
    "print(t1)\n",
    "print(l1)\n",
    "\n"
   ]
  },
  {
   "cell_type": "code",
   "execution_count": 5,
   "id": "1c38f9a0-b7cc-4964-a2fe-226b831dbdee",
   "metadata": {},
   "outputs": [
    {
     "name": "stdout",
     "output_type": "stream",
     "text": [
      "{'name': 'Ritesh', 'year': 2026}\n"
     ]
    }
   ],
   "source": [
    "d = {\"name\" : \"Ritesh\" , \"year\" : 2025}\n",
    "for i in d :\n",
    "    if i == \"year\" :\n",
    "        if d[i] > 2025 :\n",
    "            print(\"year is fine !\")\n",
    "        else :\n",
    "            d[i] = 2026\n",
    "\n",
    "print(d)"
   ]
  },
  {
   "cell_type": "code",
   "execution_count": 6,
   "id": "72dbadb2-41d0-4085-b4ba-8de6c122138a",
   "metadata": {},
   "outputs": [],
   "source": [
    "# Dictionary Comprehension"
   ]
  },
  {
   "cell_type": "code",
   "execution_count": 7,
   "id": "e2293054-5a64-454d-8907-1dd31c2e1a3d",
   "metadata": {},
   "outputs": [
    {
     "data": {
      "text/plain": [
       "{0: 0, 1: 1, 2: 4, 3: 9, 4: 16, 5: 25, 6: 36, 7: 49, 8: 64, 9: 81}"
      ]
     },
     "execution_count": 7,
     "metadata": {},
     "output_type": "execute_result"
    }
   ],
   "source": [
    "d = {}\n",
    "for i in range(10) :\n",
    "    d[i] = i*i\n",
    "d"
   ]
  },
  {
   "cell_type": "code",
   "execution_count": 8,
   "id": "b2b004d6-8950-40c0-86e4-d21c7229d67f",
   "metadata": {},
   "outputs": [
    {
     "data": {
      "text/plain": [
       "{0: 0, 1: 1, 2: 4, 3: 9, 4: 16, 5: 25, 6: 36, 7: 49, 8: 64, 9: 81}"
      ]
     },
     "execution_count": 8,
     "metadata": {},
     "output_type": "execute_result"
    }
   ],
   "source": [
    "{i : i*i for i in range(10)}"
   ]
  },
  {
   "cell_type": "code",
   "execution_count": 9,
   "id": "26348f97-937a-411c-9443-5d5787c8869d",
   "metadata": {},
   "outputs": [
    {
     "data": {
      "text/plain": [
       "{0: 0, 2: 4, 4: 16, 6: 36, 8: 64}"
      ]
     },
     "execution_count": 9,
     "metadata": {},
     "output_type": "execute_result"
    }
   ],
   "source": [
    "{i : i*i for i in range(0,10,2)}"
   ]
  },
  {
   "cell_type": "code",
   "execution_count": null,
   "id": "18b52179-3541-44f7-9dce-187ab9af4688",
   "metadata": {},
   "outputs": [],
   "source": []
  }
 ],
 "metadata": {
  "kernelspec": {
   "display_name": "Python [conda env:base] *",
   "language": "python",
   "name": "conda-base-py"
  },
  "language_info": {
   "codemirror_mode": {
    "name": "ipython",
    "version": 3
   },
   "file_extension": ".py",
   "mimetype": "text/x-python",
   "name": "python",
   "nbconvert_exporter": "python",
   "pygments_lexer": "ipython3",
   "version": "3.12.7"
  }
 },
 "nbformat": 4,
 "nbformat_minor": 5
}
