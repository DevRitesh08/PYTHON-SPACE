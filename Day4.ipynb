{
 "cells": [
  {
   "cell_type": "markdown",
   "id": "7e8d59e108077b27",
   "metadata": {},
   "source": [
    "# Tuple , Set and dictionary\n",
    "\n",
    "- Tuple : A collection of different items in a bag (bag can't be changed once packed) => immutable\n",
    "- Set : A collection of different items in a box (box can be changed but items can't be repeated) => unique items\n",
    "- Dictionary : A collection of different items in a box with their price tag (box can be changed and items can't be repeated since each item has a unique price tag)  => key value pair\n",
    "\n",
    "Real world application :\n",
    "- Tuple : Storing the coordinates of a point (x,y) => (2,3)\n",
    "- Set : Storing the unique roll numbers of students in a class => {1,2,3,4,5}\n",
    "- Dictionary : Storing the name and age of students in a class => {\"Rahul\" : 20 , \"vaibav\" : 21}"
   ]
  },
  {
   "cell_type": "markdown",
   "id": "d1caac4f7fa39bc7",
   "metadata": {},
   "source": [
    "# Tuples\n",
    "- ordered collection of elements\n",
    "- `immutable` (can't be changed once created)\n",
    "- allows duplicate elements , that is not the case with set and dictionary ."
   ]
  },
  {
   "cell_type": "markdown",
   "id": "7a17e8013671ec30",
   "metadata": {},
   "source": [
    "## Topics to be covered\n",
    "- Creation of tuple\n",
    "- Accessing elements\n",
    "- Editing tuple\n",
    "- Adding items\n",
    "- Deleting items\n",
    "- Operations on tuple\n",
    "- Basic in-built functions"
   ]
  },
  {
   "cell_type": "markdown",
   "id": "2921dcbbfc8753f6",
   "metadata": {},
   "source": [
    "### Creation of tuple\n",
    "- using parenthesis `()`\n",
    "- using `tuple()` function\n",
    "- using comma `,` separated values"
   ]
  },
  {
   "cell_type": "code",
   "execution_count": 2,
   "id": "a072cc5127d8dad2",
   "metadata": {
    "ExecuteTime": {
     "end_time": "2025-09-23T06:13:05.447714Z",
     "start_time": "2025-09-23T06:13:05.443391Z"
    }
   },
   "outputs": [
    {
     "name": "stdout",
     "output_type": "stream",
     "text": [
      "()\n",
      "<class 'tuple'>\n"
     ]
    }
   ],
   "source": [
    "# Creating an empty tuple\n",
    "t = ()\n",
    "print(t)\n",
    "print(type(t))"
   ]
  },
  {
   "cell_type": "code",
   "execution_count": 4,
   "id": "b7bb733bde4ef5e8",
   "metadata": {
    "ExecuteTime": {
     "end_time": "2025-09-23T06:13:42.452943Z",
     "start_time": "2025-09-23T06:13:42.446788Z"
    }
   },
   "outputs": [
    {
     "name": "stdout",
     "output_type": "stream",
     "text": [
      "5\n",
      "<class 'int'>\n",
      "(5,)\n",
      "<class 'tuple'>\n"
     ]
    }
   ],
   "source": [
    "# Creating a tuple with single element\n",
    "t1 = (5)\n",
    "print(t1)\n",
    "print(type(t1))\n",
    "# it will be considered as an integer not a tuple , so to create a tuple with single element we need to add a comma after the element\n",
    "t2 = (5,)\n",
    "print(t2)\n",
    "print(type(t2))"
   ]
  },
  {
   "cell_type": "code",
   "execution_count": 5,
   "id": "bd8ee34c1c3cf089",
   "metadata": {
    "ExecuteTime": {
     "end_time": "2025-09-23T06:15:00.371549Z",
     "start_time": "2025-09-23T06:15:00.367271Z"
    }
   },
   "outputs": [
    {
     "name": "stdout",
     "output_type": "stream",
     "text": [
      "(1, 2, 3, 4, 5)\n"
     ]
    }
   ],
   "source": [
    "# Homogeneous tuple\n",
    "t3 = (1,2,3,4,5)\n",
    "print(t3)"
   ]
  },
  {
   "cell_type": "code",
   "execution_count": 8,
   "id": "96c32ffdb5229d9e",
   "metadata": {
    "ExecuteTime": {
     "end_time": "2025-09-23T06:15:18.005729Z",
     "start_time": "2025-09-23T06:15:18.001251Z"
    }
   },
   "outputs": [
    {
     "name": "stdout",
     "output_type": "stream",
     "text": [
      "(1, 2.5, True, 'Ritesh')\n"
     ]
    }
   ],
   "source": [
    "# Heterogeneous tuple\n",
    "t4 = (1,2.5,True,\"Ritesh\")\n",
    "print(t4)"
   ]
  },
  {
   "cell_type": "code",
   "execution_count": 9,
   "id": "862c1153e326c4b1",
   "metadata": {
    "ExecuteTime": {
     "end_time": "2025-09-23T06:15:50.438042Z",
     "start_time": "2025-09-23T06:15:50.434072Z"
    }
   },
   "outputs": [
    {
     "name": "stdout",
     "output_type": "stream",
     "text": [
      "((1, 2, 3), (4, 5, 6), (7, 8, 9))\n"
     ]
    }
   ],
   "source": [
    "# 2D tuple\n",
    "t5 = ((1,2,3) , (4,5,6) , (7,8,9))\n",
    "print(t5)"
   ]
  },
  {
   "cell_type": "code",
   "execution_count": 12,
   "id": "8f04543a55d6a32b",
   "metadata": {
    "ExecuteTime": {
     "end_time": "2025-09-23T06:16:57.531438Z",
     "start_time": "2025-09-23T06:16:57.526910Z"
    }
   },
   "outputs": [
    {
     "name": "stdout",
     "output_type": "stream",
     "text": [
      "()\n",
      "<class 'tuple'>\n",
      "(1, 2, 3, 'hello', 5)\n",
      "<class 'tuple'>\n"
     ]
    }
   ],
   "source": [
    "# using tuple() function\n",
    "\n",
    "# empty tuple\n",
    "t6 = tuple()\n",
    "print(t6)\n",
    "print(type(t6))\n",
    "\n",
    "# tuple with elements\n",
    "t7 = tuple([1,2,3,'hello',5])\n",
    "print(t7)\n",
    "print(type(t7))"
   ]
  },
  {
   "cell_type": "code",
   "execution_count": 14,
   "id": "1da4ee7109badd64",
   "metadata": {
    "ExecuteTime": {
     "end_time": "2025-09-23T06:17:38.203668Z",
     "start_time": "2025-09-23T06:17:38.198589Z"
    }
   },
   "outputs": [
    {
     "name": "stdout",
     "output_type": "stream",
     "text": [
      "(1, 2, 3, 4, 5, 'adam')\n",
      "<class 'tuple'>\n"
     ]
    }
   ],
   "source": [
    "# using comma separated values\n",
    "t8 = 1,2,3,4,5,'adam'\n",
    "print(t8)\n",
    "print(type(t8))"
   ]
  },
  {
   "cell_type": "markdown",
   "id": "b41b4d6c4c0a28a",
   "metadata": {},
   "source": [
    "### Accessing elements\n",
    "- using indexing\n",
    "- using slicing"
   ]
  },
  {
   "cell_type": "code",
   "execution_count": 15,
   "id": "21af6dcd3022b33b",
   "metadata": {
    "ExecuteTime": {
     "end_time": "2025-09-23T06:19:17.617889Z",
     "start_time": "2025-09-23T06:19:17.614011Z"
    }
   },
   "outputs": [
    {
     "name": "stdout",
     "output_type": "stream",
     "text": [
      "1\n",
      "Ritesh\n"
     ]
    }
   ],
   "source": [
    "# Accessing elements using indexing\n",
    "t = (1,2.5,True,\"Ritesh\")\n",
    "print(t[0])  # first element\n",
    "print(t[-1]) # last element"
   ]
  },
  {
   "cell_type": "code",
   "execution_count": 17,
   "id": "733164e62337d8b9",
   "metadata": {
    "ExecuteTime": {
     "end_time": "2025-09-23T06:20:23.908505Z",
     "start_time": "2025-09-23T06:20:23.904437Z"
    }
   },
   "outputs": [
    {
     "name": "stdout",
     "output_type": "stream",
     "text": [
      "(1, 2, 3)\n",
      "2\n"
     ]
    }
   ],
   "source": [
    "t2 = ((1,2,3) , (4,5,6) , (7,8,9))\n",
    "print(t2[0])    # first element (which is a tuple)\n",
    "print(t2[0][1]) # second element of the first tuple"
   ]
  },
  {
   "cell_type": "code",
   "execution_count": 16,
   "id": "7350ede9ac90e109",
   "metadata": {
    "ExecuteTime": {
     "end_time": "2025-09-23T06:19:47.817601Z",
     "start_time": "2025-09-23T06:19:47.813109Z"
    }
   },
   "outputs": [
    {
     "name": "stdout",
     "output_type": "stream",
     "text": [
      "(2.5, True, 'Ritesh', 45)\n",
      "(1, 2.5, True, 'Ritesh')\n",
      "('Ritesh', 45, 67, 89)\n",
      "(89, 67, 45, 'Ritesh', True, 2.5, 1)\n"
     ]
    }
   ],
   "source": [
    "# Accessing elements using slicing\n",
    "t = (1,2.5,True,\"Ritesh\", 45, 67, 89)\n",
    "print(t[1:5])  # elements from index 1 to 4\n",
    "print(t[:4])   # elements from start to index 3\n",
    "print(t[3:])   # elements from index 3 to end\n",
    "print(t[::-1]) # elements in reverse order"
   ]
  },
  {
   "cell_type": "markdown",
   "id": "b0f3c0146c8278da",
   "metadata": {},
   "source": [
    "### Editing tuple\n",
    "- since tuple is immutable we can't change its elements directly\n",
    "- we can convert the tuple to a list , make the changes and then convert it back to a tuple"
   ]
  },
  {
   "cell_type": "code",
   "execution_count": 21,
   "id": "fa06ef98c303e71e",
   "metadata": {
    "ExecuteTime": {
     "end_time": "2025-09-23T06:22:28.826745Z",
     "start_time": "2025-09-23T06:22:28.821878Z"
    }
   },
   "outputs": [
    {
     "data": {
      "text/plain": [
       "(1, 2, 3, 4, 5)"
      ]
     },
     "execution_count": 21,
     "metadata": {},
     "output_type": "execute_result"
    }
   ],
   "source": [
    "t3\n",
    "# t3[0] = 10    # this will give an error"
   ]
  },
  {
   "cell_type": "code",
   "execution_count": 24,
   "id": "4e0c683b0602aff7",
   "metadata": {
    "ExecuteTime": {
     "end_time": "2025-09-23T06:23:36.182696Z",
     "start_time": "2025-09-23T06:23:36.176418Z"
    }
   },
   "outputs": [
    {
     "name": "stdout",
     "output_type": "stream",
     "text": [
      "[10, 2, 3, 4, 5]\n",
      "<class 'list'>\n",
      "[10, 2, 3, 4, 5]\n",
      "<class 'list'>\n",
      "(10, 2, 3, 4, 5)\n",
      "<class 'tuple'>\n"
     ]
    }
   ],
   "source": [
    "# converting tuple to list\n",
    "l = list(t3)\n",
    "print(l)\n",
    "print(type(l))\n",
    "# now we can make changes to the list\n",
    "l[0] = 10\n",
    "print(l)\n",
    "print(type(l))\n",
    "# converting list back to tuple\n",
    "t3 = tuple(l)\n",
    "print(t3)\n",
    "print(type(t3))\n"
   ]
  },
  {
   "cell_type": "markdown",
   "id": "a06b561a61f61325",
   "metadata": {},
   "source": [
    "### Adding items\n",
    "- since tuple is immutable we can't add items directly\n",
    "- we can convert the tuple to a list , add the items and then convert it back to a tuple"
   ]
  },
  {
   "cell_type": "code",
   "execution_count": 25,
   "id": "26b7f9330ee4f09",
   "metadata": {
    "ExecuteTime": {
     "end_time": "2025-09-23T06:24:20.755729Z",
     "start_time": "2025-09-23T06:24:20.751841Z"
    }
   },
   "outputs": [
    {
     "name": "stdout",
     "output_type": "stream",
     "text": [
      "(10, 2, 3, 4, 5)\n"
     ]
    }
   ],
   "source": [
    "print(t3)\n",
    "# no function to add items directly to a tuple"
   ]
  },
  {
   "cell_type": "code",
   "execution_count": null,
   "id": "3028f77929c34ea1",
   "metadata": {},
   "outputs": [],
   "source": [
    "# converting tuple to list\n",
    "l = list(t3)\n",
    "print(l)\n",
    "print(type(l))\n",
    "# now we can add items to the list\n",
    "l.append(6)\n",
    "l.append(7)\n",
    "print(l)\n",
    "print(type(l))\n",
    "# converting list back to tuple\n",
    "t3 = tuple(l)\n",
    "print(t3)\n",
    "print(type(t3))"
   ]
  },
  {
   "cell_type": "markdown",
   "id": "80e92a231337856e",
   "metadata": {},
   "source": [
    "### Deleting items\n",
    "- since tuple is immutable we can't delete items directly\n",
    "- we can convert the tuple to a list , delete the items and then convert it back to a tuple\n",
    "- we can delete the entire tuple using `del` keyword"
   ]
  },
  {
   "cell_type": "code",
   "execution_count": 27,
   "id": "2ed5338dcde7e0de",
   "metadata": {
    "ExecuteTime": {
     "end_time": "2025-09-23T06:26:11.195557Z",
     "start_time": "2025-09-23T06:26:11.192076Z"
    }
   },
   "outputs": [],
   "source": [
    "del (t3)"
   ]
  },
  {
   "cell_type": "code",
   "execution_count": 31,
   "id": "964dcbd5541f6be4",
   "metadata": {
    "ExecuteTime": {
     "end_time": "2025-09-23T06:26:56.101053Z",
     "start_time": "2025-09-23T06:26:56.097351Z"
    }
   },
   "outputs": [],
   "source": [
    "# t3 # this will give an error since t3 is deleted"
   ]
  },
  {
   "cell_type": "markdown",
   "id": "e1ca2c12181c009c",
   "metadata": {},
   "source": [
    "### Operations on tuple\n",
    "- `concatenation( + )`\n",
    "- `repetition( * )`\n",
    "- `membership ( in , not in )`\n",
    "- `iteration (looping)`"
   ]
  },
  {
   "cell_type": "code",
   "execution_count": 32,
   "id": "1d8324dd1fc5d1be",
   "metadata": {
    "ExecuteTime": {
     "end_time": "2025-09-23T06:30:34.252245Z",
     "start_time": "2025-09-23T06:30:34.246559Z"
    }
   },
   "outputs": [
    {
     "name": "stdout",
     "output_type": "stream",
     "text": [
      "(1, 2, 3, 4, 5, 6)\n"
     ]
    }
   ],
   "source": [
    "# Concatenation\n",
    "t1 = (1,2,3)\n",
    "t2 = (4,5,6)\n",
    "t3 = t1 + t2\n",
    "print(t3)"
   ]
  },
  {
   "cell_type": "code",
   "execution_count": 33,
   "id": "e383edc42a540002",
   "metadata": {
    "ExecuteTime": {
     "end_time": "2025-09-23T06:30:56.768318Z",
     "start_time": "2025-09-23T06:30:56.761647Z"
    }
   },
   "outputs": [
    {
     "name": "stdout",
     "output_type": "stream",
     "text": [
      "(1, 2, 3, 1, 2, 3, 1, 2, 3)\n"
     ]
    }
   ],
   "source": [
    "# Repetition\n",
    "t4 = t1 * 3\n",
    "print(t4)"
   ]
  },
  {
   "cell_type": "code",
   "execution_count": 35,
   "id": "1e0b2cbd971d5f5e",
   "metadata": {
    "ExecuteTime": {
     "end_time": "2025-09-23T06:31:13.677304Z",
     "start_time": "2025-09-23T06:31:13.672668Z"
    }
   },
   "outputs": [
    {
     "name": "stdout",
     "output_type": "stream",
     "text": [
      "True\n",
      "False\n"
     ]
    }
   ],
   "source": [
    "# membership\n",
    "print(2 in t1)      # True\n",
    "print(3 not in t1)  # False"
   ]
  },
  {
   "cell_type": "code",
   "execution_count": 36,
   "id": "cb54a64ea81a21fa",
   "metadata": {
    "ExecuteTime": {
     "end_time": "2025-09-23T06:31:33.090162Z",
     "start_time": "2025-09-23T06:31:33.085614Z"
    }
   },
   "outputs": [
    {
     "name": "stdout",
     "output_type": "stream",
     "text": [
      "1\n",
      "2\n",
      "3\n",
      "4\n",
      "5\n",
      "6\n"
     ]
    }
   ],
   "source": [
    "# iteration\n",
    "for i in t3 :\n",
    "    print(i)"
   ]
  },
  {
   "cell_type": "markdown",
   "id": "389a39f0a3aa2414",
   "metadata": {},
   "source": [
    "### Basic in-built functions"
   ]
  },
  {
   "cell_type": "code",
   "execution_count": 38,
   "id": "ee0afe6ebae78ad9",
   "metadata": {
    "ExecuteTime": {
     "end_time": "2025-09-23T06:46:01.215859Z",
     "start_time": "2025-09-23T06:46:01.210476Z"
    }
   },
   "outputs": [
    {
     "name": "stdout",
     "output_type": "stream",
     "text": [
      "11\n",
      "85\n",
      "45\n",
      "1\n",
      "[1, 2, 3, 3, 3, 3, 4, 5, 7, 9, 45]\n",
      "True\n",
      "True\n",
      "2\n",
      "4\n"
     ]
    }
   ],
   "source": [
    "# len/sum/max/min/sorted/all/any/tuple\n",
    "t = (1,2,3,4,3,3,3,5,9,7,45)\n",
    "print(len(t))    # length of tuple\n",
    "print(sum(t))    # sum of elements , only for numeric tuples\n",
    "print(max(t))    # maximum element\n",
    "print(min(t))    # minimum element\n",
    "print(sorted(t)) # sorted tuple (Returns a list)\n",
    "print(all(t))    # returns True if all elements are true\n",
    "print(any(t))    # returns True if any element is true"
   ]
  },
  {
   "cell_type": "code",
   "execution_count": 44,
   "id": "fa9ebb6fddd0c09b",
   "metadata": {
    "ExecuteTime": {
     "end_time": "2025-09-23T06:48:08.054210Z",
     "start_time": "2025-09-23T06:48:08.049924Z"
    }
   },
   "outputs": [
    {
     "name": "stdout",
     "output_type": "stream",
     "text": [
      "2\n",
      "0\n",
      "4\n",
      "0\n"
     ]
    }
   ],
   "source": [
    "# Count and Index\n",
    "print(t.index(3)) # index of first occurrence of 3\n",
    "print(t.count(99))  # count of occurrences of 99 (not present)\n",
    "\n",
    "print(t.count(3)) # count of occurrences of 3\n",
    "print(t.count(50)) # count of occurrences of 50 (not present)"
   ]
  },
  {
   "cell_type": "markdown",
   "id": "bfbfc98b661b1585",
   "metadata": {},
   "source": [
    "### Difference between list and tuple\n",
    "- List is mutable , tuple is immutable\n",
    "- List uses more memory , tuple uses less memory because of immutability\n",
    "- List has more in-built functions , tuple has limited in-built functions\n",
    "- List is slower , tuple is faster because of immutability\n",
    "- List is used when we need to change the data , tuple is used when we need to store constant data\n",
    "- List is defined using square brackets `[]` , tuple is defined using parenthesis `()`\n",
    "- List are error prone , tuple are less error prone because of immutability ."
   ]
  },
  {
   "cell_type": "code",
   "execution_count": 45,
   "id": "667ca77d41fbb0e3",
   "metadata": {
    "ExecuteTime": {
     "end_time": "2025-09-23T06:52:24.786760Z",
     "start_time": "2025-09-23T06:52:24.781814Z"
    }
   },
   "outputs": [
    {
     "name": "stdout",
     "output_type": "stream",
     "text": [
      "136\n",
      "120\n"
     ]
    }
   ],
   "source": [
    "# Memory consumption comparison\n",
    "import sys\n",
    "l = [1,2,3,4,5,6,7,8,9,10]\n",
    "t = (1,2,3,4,5,6,7,8,9,10)\n",
    "print(sys.getsizeof(l)) # size of list in bytes\n",
    "print(sys.getsizeof(t)) # size of tuple in bytes"
   ]
  },
  {
   "cell_type": "code",
   "execution_count": null,
   "id": "9fc5d5044810c6f5",
   "metadata": {
    "ExecuteTime": {
     "start_time": "2025-09-23T07:46:41.674464Z"
    },
    "jupyter": {
     "is_executing": true
    }
   },
   "outputs": [],
   "source": [
    "# Time consumption comparison\n",
    "import time\n",
    "l = list(range(1000000000))\n",
    "t = tuple(range(1000000000))\n",
    "\n",
    "start = time.time()\n",
    "for i in l :\n",
    "    i*5\n",
    "print(\"Time taken by list : \", time.time() - start)\n",
    "\n",
    "start = time.time()\n",
    "for i in t :\n",
    "    i*5\n",
    "print(\"Time taken by tuple : \", time.time() - start)"
   ]
  },
  {
   "cell_type": "markdown",
   "id": "e5d52c69ee7406a6",
   "metadata": {},
   "source": [
    "Generally immutable entities are faster and use less memory because they are fixed in size and structure. Mutable entities can change in size and structure, which requires additional memory management and overhead."
   ]
  },
  {
   "cell_type": "code",
   "execution_count": 3,
   "id": "69cf928ffa0057aa",
   "metadata": {},
   "outputs": [
    {
     "name": "stdout",
     "output_type": "stream",
     "text": [
      "[1, 2, 3, 4, 5, 6]\n",
      "[1, 2, 3, 4, 5, 6]\n"
     ]
    }
   ],
   "source": [
    "# error prone\n",
    "a = [1,2,3,4,5]\n",
    "b = a\n",
    "a.append(6)\n",
    "print(a)  # [1, 2, 3, 4, 5, 6]\n",
    "print(b)  # [1, 2, 3, 4, 5, 6] , b is also changed because both a and b are pointing to the same list in memory"
   ]
  },
  {
   "cell_type": "code",
   "id": "f385bada3687db2",
   "metadata": {
    "ExecuteTime": {
     "end_time": "2025-09-23T08:03:04.452981Z",
     "start_time": "2025-09-23T08:03:04.447989Z"
    }
   },
   "source": [
    "a = (1,2,3,4,5)\n",
    "b = a\n",
    "a = a + (6,)\n",
    "print(a)  # (1, 2, 3, 4, 5 , 6)\n",
    "print(b)  # (1, 2, 3, 4, 5) , b is not changed because a is now pointing to a new tuple in memory"
   ],
   "outputs": [
    {
     "name": "stdout",
     "output_type": "stream",
     "text": [
      "(1, 2, 3, 4, 5, 6)\n",
      "(1, 2, 3, 4, 5)\n"
     ]
    }
   ],
   "execution_count": 2
  },
  {
   "metadata": {},
   "cell_type": "markdown",
   "source": "### Special Syntax",
   "id": "b0d61793e30ff258"
  },
  {
   "metadata": {},
   "cell_type": "markdown",
   "source": [
    "`Tuple unpacking`\n",
    "- assigning values of a tuple to multiple variables in a single statement\n",
    "- the number of variables must be equal to the number of elements in the tuple\n",
    "- can be used in functions to return multiple values"
   ],
   "id": "c21028465af3ee99"
  },
  {
   "cell_type": "code",
   "id": "1ef19f26d32998a6",
   "metadata": {
    "ExecuteTime": {
     "end_time": "2025-09-23T08:04:31.417662Z",
     "start_time": "2025-09-23T08:04:31.413122Z"
    }
   },
   "source": [
    "a,b,c = (1,2,3)\n",
    "print(a,b,c)"
   ],
   "outputs": [
    {
     "name": "stdout",
     "output_type": "stream",
     "text": [
      "1 2 3\n"
     ]
    }
   ],
   "execution_count": 4
  },
  {
   "cell_type": "code",
   "id": "b699142070f4037b",
   "metadata": {
    "ExecuteTime": {
     "end_time": "2025-09-23T08:05:06.478872Z",
     "start_time": "2025-09-23T08:05:06.475679Z"
    }
   },
   "source": [
    "# a,b = (1,2,3)\n",
    "# this will give an error because the number of variables is not equal to the number of elements in the tuple"
   ],
   "outputs": [],
   "execution_count": 6
  },
  {
   "cell_type": "code",
   "id": "a2f51186776a91bd",
   "metadata": {
    "ExecuteTime": {
     "end_time": "2025-09-23T08:05:34.534444Z",
     "start_time": "2025-09-23T08:05:34.528199Z"
    }
   },
   "source": [
    "# swapping of two variables\n",
    "a = 54\n",
    "b = 32\n",
    "a,b = b,a\n",
    "print(a,b)"
   ],
   "outputs": [
    {
     "name": "stdout",
     "output_type": "stream",
     "text": [
      "32 54\n"
     ]
    }
   ],
   "execution_count": 7
  },
  {
   "metadata": {},
   "cell_type": "markdown",
   "source": [
    "`*others`\n",
    "- used to assign multiple values to a single variable during tuple unpacking\n",
    "- the variable with * will be a list containing all the values assigned to it\n",
    "- can be used to ignore multiple values during tuple unpacking"
   ],
   "id": "869e902b5df699ca"
  },
  {
   "cell_type": "code",
   "id": "5d4960a0fd260a58",
   "metadata": {
    "ExecuteTime": {
     "end_time": "2025-09-23T08:06:49.775135Z",
     "start_time": "2025-09-23T08:06:49.770822Z"
    }
   },
   "source": [
    "a,b,*others = (1,2,3,4,5,6,7,8,9)\n",
    "print(a)        # 1\n",
    "print(b)        # 2\n",
    "print(others)   # [3, 4, 5, 6, 7, 8, 9]"
   ],
   "outputs": [
    {
     "name": "stdout",
     "output_type": "stream",
     "text": [
      "1\n",
      "2\n",
      "[3, 4, 5, 6, 7, 8, 9]\n"
     ]
    }
   ],
   "execution_count": 8
  },
  {
   "cell_type": "code",
   "id": "77fec4eb3a29433e",
   "metadata": {
    "ExecuteTime": {
     "end_time": "2025-09-23T08:07:05.861022Z",
     "start_time": "2025-09-23T08:07:05.856002Z"
    }
   },
   "source": [
    "a,*b = (1,2,3,4,5,6,7,8,9)\n",
    "print(a)        # 1\n",
    "print(b)        # [2, 3, 4, 5, 6 , 7, 8, 9]"
   ],
   "outputs": [
    {
     "name": "stdout",
     "output_type": "stream",
     "text": [
      "1\n",
      "[2, 3, 4, 5, 6, 7, 8, 9]\n"
     ]
    }
   ],
   "execution_count": 9
  },
  {
   "cell_type": "code",
   "id": "95e7c7f04484a9d4",
   "metadata": {
    "ExecuteTime": {
     "end_time": "2025-09-23T08:08:07.219449Z",
     "start_time": "2025-09-23T08:08:07.213823Z"
    }
   },
   "source": [
    "# Zipping tuples\n",
    "names = (\"Ritesh\" , \"Vaibhav\" , \"Rahul\")\n",
    "ages = (20 , 22 , 21)\n",
    "combined = zip(names, ages)\n",
    "print(tuple(combined))"
   ],
   "outputs": [
    {
     "name": "stdout",
     "output_type": "stream",
     "text": [
      "(('Ritesh', 20), ('Vaibhav', 22), ('Rahul', 21))\n"
     ]
    }
   ],
   "execution_count": 10
  },
  {
   "metadata": {},
   "cell_type": "markdown",
   "source": "### Tuple Comprehension",
   "id": "ecc6e57434a9fbfd"
  },
  {
   "cell_type": "code",
   "id": "663cffc3b06f4414",
   "metadata": {
    "ExecuteTime": {
     "end_time": "2025-09-23T08:10:13.592338Z",
     "start_time": "2025-09-23T08:10:13.588509Z"
    }
   },
   "source": [
    "# it also creates a generator object like list comprehension\n",
    "t = (i*i for i in range(10))\n",
    "print(t)\n",
    "print(type(t))"
   ],
   "outputs": [
    {
     "name": "stdout",
     "output_type": "stream",
     "text": [
      "<generator object <genexpr> at 0x0000012FF5967E00>\n",
      "<class 'generator'>\n"
     ]
    }
   ],
   "execution_count": 11
  },
  {
   "metadata": {},
   "cell_type": "markdown",
   "source": [
    "# Sets\n",
    "\n",
    "A set is an unordered collection of items. Every set element is unique (no duplicates) and must be immutable (cannot be changed).\n",
    "\n",
    "However, a set itself is mutable. We can add or remove items from it.\n",
    "\n",
    "Sets can also be used to perform mathematical set operations like union, intersection, symmetric difference, etc.\n",
    "\n",
    "**Characteristics:**\n",
    "- Unordered\n",
    "- Mutable\n",
    "- No Duplicates\n",
    "- Can't contain mutable data types"
   ],
   "id": "a276e9576da5f822"
  },
  {
   "cell_type": "code",
   "id": "998fe60c05cdcced",
   "metadata": {
    "ExecuteTime": {
     "end_time": "2025-09-23T08:14:05.975323Z",
     "start_time": "2025-09-23T08:14:05.971949Z"
    }
   },
   "source": "# 2D set is not possible since set is an unordered collection of unique elements and it can't contain mutable data types like list or set itself.",
   "outputs": [],
   "execution_count": 12
  },
  {
   "metadata": {},
   "cell_type": "markdown",
   "source": [
    "## Creation of set\n",
    "- using curly braces `{}`\n",
    "- using `set()` function\n",
    "- using comma `,` separated values"
   ],
   "id": "e91c3d8d82e16832"
  },
  {
   "cell_type": "code",
   "id": "9215f720028d7182",
   "metadata": {
    "ExecuteTime": {
     "end_time": "2025-09-23T08:16:23.651122Z",
     "start_time": "2025-09-23T08:16:23.646501Z"
    }
   },
   "source": [
    "# Creating an empty set\n",
    "s = {}\n",
    "print(s)\n",
    "print(type(s)) # this will give a dictionary since {} is used to represent both set and dictionary\n",
    "s = set()\n",
    "print(s)\n",
    "print(type(s)) # this will give a set"
   ],
   "outputs": [
    {
     "name": "stdout",
     "output_type": "stream",
     "text": [
      "{}\n",
      "<class 'dict'>\n",
      "set()\n",
      "<class 'set'>\n"
     ]
    }
   ],
   "execution_count": 16
  },
  {
   "cell_type": "code",
   "id": "931758754dc4fc22",
   "metadata": {
    "ExecuteTime": {
     "end_time": "2025-09-23T08:17:28.949825Z",
     "start_time": "2025-09-23T08:17:28.945939Z"
    }
   },
   "source": [
    "# 1D and 2D set\n",
    "s1 = {1,2,3,4,5}\n",
    "print(s1)\n",
    "# s2 = {{1,2,3} , {4,5,6}}\n",
    "# print(s2) # this will give an error since set can't contain mutable data types like list or set itself"
   ],
   "outputs": [
    {
     "name": "stdout",
     "output_type": "stream",
     "text": [
      "{1, 2, 3, 4, 5}\n"
     ]
    }
   ],
   "execution_count": 18
  },
  {
   "metadata": {
    "ExecuteTime": {
     "end_time": "2025-09-23T08:22:16.326951Z",
     "start_time": "2025-09-23T08:22:16.322230Z"
    }
   },
   "cell_type": "code",
   "source": [
    "# Duplicate elements\n",
    "s2 = {1,2,3,4,5,2,3,4,5}\n",
    "print(s2) # this will print {1, 2, 3, 4, 5} since set doesn't allow duplicate elements"
   ],
   "id": "22835743c71ecb9e",
   "outputs": [
    {
     "name": "stdout",
     "output_type": "stream",
     "text": [
      "{1, 2, 3, 4, 5}\n"
     ]
    }
   ],
   "execution_count": 23
  },
  {
   "cell_type": "code",
   "id": "6feedcda21efd615",
   "metadata": {
    "ExecuteTime": {
     "end_time": "2025-09-23T08:18:32.278164Z",
     "start_time": "2025-09-23T08:18:32.273989Z"
    }
   },
   "source": [
    "# heterogeneous set\n",
    "s3 = {1,2.5,True,\"Ritesh\"}  # here we get 1 and True are same since both are considered as 1 in set , so only one will be stored .\n",
    "print(s3)"
   ],
   "outputs": [
    {
     "name": "stdout",
     "output_type": "stream",
     "text": [
      "{'Ritesh', 2.5, 1}\n"
     ]
    }
   ],
   "execution_count": 20
  },
  {
   "metadata": {},
   "cell_type": "markdown",
   "source": [
    "Why order is not maintained in set ?\n",
    "- Sets are implemented using hash tables. When an element is added to a set, its hash value is computed, and this hash value determines where the element is stored in memory. This process does not guarantee any specific order of elements.\n",
    "\n",
    "**Since sets are unordered, they do not support indexing or slicing like lists or tuples. You cannot access elements by their position because there is no defined order.**"
   ],
   "id": "58bc3f52476c899"
  },
  {
   "cell_type": "code",
   "id": "75d0b8841557f6ca",
   "metadata": {
    "ExecuteTime": {
     "end_time": "2025-09-23T08:22:34.682460Z",
     "start_time": "2025-09-23T08:22:34.678265Z"
    }
   },
   "source": [
    "# using set() function\n",
    "s4 = set([1,2,3,4,5,'hello',2,3,4])\n",
    "print(s4)"
   ],
   "outputs": [
    {
     "name": "stdout",
     "output_type": "stream",
     "text": [
      "{1, 2, 3, 4, 5, 'hello'}\n"
     ]
    }
   ],
   "execution_count": 24
  },
  {
   "cell_type": "code",
   "id": "894df6c1a6928245",
   "metadata": {
    "ExecuteTime": {
     "end_time": "2025-09-23T08:23:12.712898Z",
     "start_time": "2025-09-23T08:23:12.707498Z"
    }
   },
   "source": [
    "# using comma separated values\n",
    "s5 = 1,2,3,4,5,'adam',2,3,4\n",
    "s5 = set(s5)\n",
    "print(s5)\n",
    "print(type(s5))"
   ],
   "outputs": [
    {
     "name": "stdout",
     "output_type": "stream",
     "text": [
      "{1, 2, 3, 4, 5, 'adam'}\n",
      "<class 'set'>\n"
     ]
    }
   ],
   "execution_count": 25
  },
  {
   "cell_type": "code",
   "id": "8468d00025f57ef9",
   "metadata": {
    "ExecuteTime": {
     "end_time": "2025-09-23T08:23:51.341904Z",
     "start_time": "2025-09-23T08:23:51.338683Z"
    }
   },
   "source": [
    "# can't have mutable data types like list or set itself\n",
    "# s6 = {1,2,[3,4,5]} # this will give an error\n",
    "# s7 = {1,2,{3,4,5}} # this will give an error"
   ],
   "outputs": [],
   "execution_count": 26
  },
  {
   "cell_type": "code",
   "id": "aef67e3967a854ee",
   "metadata": {
    "ExecuteTime": {
     "end_time": "2025-09-23T08:26:08.430948Z",
     "start_time": "2025-09-23T08:26:08.425994Z"
    }
   },
   "source": [
    "# unordered nature\n",
    "s1 = {1,2,3,4,5}\n",
    "s2 = {5,4,3,2,1}\n",
    "print(s1 == s2) # True , since both sets have same elements\n",
    "# this also shows that order is not maintained in set"
   ],
   "outputs": [
    {
     "name": "stdout",
     "output_type": "stream",
     "text": [
      "True\n"
     ]
    }
   ],
   "execution_count": 28
  },
  {
   "metadata": {},
   "cell_type": "markdown",
   "source": [
    "## Accessing elements\n",
    "- since set is unordered we can't access elements using indexing or slicing"
   ],
   "id": "10f17e3e2d82f5bb"
  },
  {
   "metadata": {},
   "cell_type": "code",
   "source": [
    "s = {1,2,3,4,5}\n",
    "s[0] # this will give an error since set is unordered and doesn't support indexing\n",
    "s[::-1] # this will also give an error since set is unordered and doesn't support slicing"
   ],
   "id": "3c15d2132b2407f8",
   "outputs": [],
   "execution_count": null
  },
  {
   "metadata": {},
   "cell_type": "markdown",
   "source": [
    "### Adding items\n",
    "- using `add()` function to add a single element\n",
    "- using `update()` function to add multiple elements"
   ],
   "id": "d041440921f850c9"
  },
  {
   "metadata": {
    "ExecuteTime": {
     "end_time": "2025-09-23T08:32:44.120767Z",
     "start_time": "2025-09-23T08:32:44.115471Z"
    }
   },
   "cell_type": "code",
   "source": [
    "# adding single element\n",
    "s = {1,2,3}\n",
    "s.add(4)\n",
    "print(s)\n",
    "s.add(2) # adding duplicate element\n",
    "print(s) # set remains unchanged since duplicate elements are not allowed"
   ],
   "id": "ff596e4b91f67a77",
   "outputs": [
    {
     "name": "stdout",
     "output_type": "stream",
     "text": [
      "{1, 2, 3, 4}\n",
      "{1, 2, 3, 4}\n"
     ]
    }
   ],
   "execution_count": 31
  },
  {
   "metadata": {
    "ExecuteTime": {
     "end_time": "2025-09-23T08:33:06.537115Z",
     "start_time": "2025-09-23T08:33:06.533236Z"
    }
   },
   "cell_type": "code",
   "source": [
    "# adding multiple elements\n",
    "s.update([5,6,7])\n",
    "print(s)\n",
    "s.update((8,9,10))\n",
    "print(s)"
   ],
   "id": "360c8387dea63069",
   "outputs": [
    {
     "name": "stdout",
     "output_type": "stream",
     "text": [
      "{1, 2, 3, 4, 5, 6, 7}\n",
      "{1, 2, 3, 4, 5, 6, 7, 8, 9, 10}\n"
     ]
    }
   ],
   "execution_count": 32
  },
  {
   "metadata": {},
   "cell_type": "markdown",
   "source": [
    "### Deleting items\n",
    "\n",
    "- using `del` keyword to delete the entire set or using indexing to delete a specific element (not possible since set is unordered)\n",
    "- using `discard()` function to remove a specific element (doesn't raise error if element not found)\n",
    "- using `remove()` function to remove a specific element (raises error if element not found)\n",
    "- using `pop()` function to remove and return an arbitrary element\n",
    "- using `clear()` function to remove all elements"
   ],
   "id": "a1b0d97d1983130b"
  },
  {
   "metadata": {},
   "cell_type": "code",
   "source": [
    "# del\n",
    "s = {1,2,3,4,5}\n",
    "del(s)\n",
    "# print(s) # this will give an error since s is deleted\n",
    "\n",
    "t = {1,2,3,4,5}\n",
    "#del(t[0]) # this will give an error since set doesn't support indexing so we can't delete a specific element using indexing"
   ],
   "id": "425a92ef10b29652",
   "outputs": [],
   "execution_count": null
  },
  {
   "metadata": {
    "ExecuteTime": {
     "end_time": "2025-09-23T08:41:08.330439Z",
     "start_time": "2025-09-23T08:41:08.326561Z"
    }
   },
   "cell_type": "code",
   "source": [
    "# Discard\n",
    "s = {1,2,3,4,5}\n",
    "s.discard(3)\n",
    "print(s)\n",
    "s.discard(10) # removing an element not present in the set\n",
    "print(s) # set remains unchanged since discard doesn't raise error if element not found"
   ],
   "id": "c26bc8d04357cd5c",
   "outputs": [
    {
     "name": "stdout",
     "output_type": "stream",
     "text": [
      "{1, 2, 4, 5}\n",
      "{1, 2, 4, 5}\n"
     ]
    }
   ],
   "execution_count": 35
  },
  {
   "metadata": {
    "ExecuteTime": {
     "end_time": "2025-09-23T08:43:20.436477Z",
     "start_time": "2025-09-23T08:43:20.431810Z"
    }
   },
   "cell_type": "code",
   "source": [
    "# remove\n",
    "s = {1,2,3,4,5}\n",
    "s.remove(2)\n",
    "print(s)\n",
    "#s.remove(10)\n",
    "# s.remove(10) # this will give an error since remove raises error if element not found"
   ],
   "id": "3a20e46458d78f58",
   "outputs": [
    {
     "name": "stdout",
     "output_type": "stream",
     "text": [
      "{1, 3, 4, 5}\n"
     ]
    }
   ],
   "execution_count": 40
  },
  {
   "metadata": {
    "ExecuteTime": {
     "end_time": "2025-09-23T08:43:39.652994Z",
     "start_time": "2025-09-23T08:43:39.648972Z"
    }
   },
   "cell_type": "code",
   "source": [
    "# pop\n",
    "s = {1,2,3,4,5}\n",
    "x = s.pop()\n",
    "print(x) # arbitrary element removed\n",
    "print(s)"
   ],
   "id": "1262a2fec67cf0d8",
   "outputs": [
    {
     "name": "stdout",
     "output_type": "stream",
     "text": [
      "1\n",
      "{2, 3, 4, 5}\n"
     ]
    }
   ],
   "execution_count": 44
  },
  {
   "metadata": {
    "ExecuteTime": {
     "end_time": "2025-09-23T08:44:09.132533Z",
     "start_time": "2025-09-23T08:44:09.128308Z"
    }
   },
   "cell_type": "code",
   "source": [
    "# clear\n",
    "s = {1,2,3,4,5}\n",
    "s.clear()\n",
    "print(s) # empty set"
   ],
   "id": "eb7e2125dfddf6b3",
   "outputs": [
    {
     "name": "stdout",
     "output_type": "stream",
     "text": [
      "set()\n"
     ]
    }
   ],
   "execution_count": 45
  },
  {
   "metadata": {},
   "cell_type": "markdown",
   "source": [
    "## Set Operations\n",
    "\n",
    "- Union ( | ) : Combines all unique elements from both sets.\n",
    "- Intersection ( & ) : Retrieves only the elements that are present in both sets.\n",
    "- Difference ( - ) : Gets elements that are in the first set but not in the second.\n",
    "- Symmetric Difference ( ^ ) : Gets elements that are in either of the sets but not in both.\n",
    "- Membership (in, not in) : Checks if an element is present in the set.\n",
    "- Iteration : Looping through each element in the set.\n",
    "- Subset (issubset()) : Checks if all elements of one set are in another set.\n",
    "- Superset (issuperset()) : Checks if a set contains all elements of another set.\n",
    "- disjoint (isdisjoint()) : Checks if two sets have no elements in common."
   ],
   "id": "eafbdf8680291d98"
  },
  {
   "metadata": {
    "ExecuteTime": {
     "end_time": "2025-09-23T08:52:18.757717Z",
     "start_time": "2025-09-23T08:52:18.753113Z"
    }
   },
   "cell_type": "code",
   "source": [
    "# Creating two sets\n",
    "A = {1, 2, 3, 4, 5}\n",
    "B = {4, 5, 6, 7, 8}"
   ],
   "id": "f975138921d3c78e",
   "outputs": [],
   "execution_count": 50
  },
  {
   "metadata": {
    "ExecuteTime": {
     "end_time": "2025-09-23T08:52:19.509147Z",
     "start_time": "2025-09-23T08:52:19.504874Z"
    }
   },
   "cell_type": "code",
   "source": [
    "# Union\n",
    "print(\"Union : \", A | B)  # {1, 2, 3, 4, 5, 6, 7, 8}\n",
    "print(\"Union using function : \", A.union(B))  # {1, 2, 3, 4, 5, 6, 7, 8}"
   ],
   "id": "323b25c927d1581d",
   "outputs": [
    {
     "name": "stdout",
     "output_type": "stream",
     "text": [
      "Union :  {1, 2, 3, 4, 5, 6, 7, 8}\n",
      "Union using function :  {1, 2, 3, 4, 5, 6, 7, 8}\n"
     ]
    }
   ],
   "execution_count": 51
  },
  {
   "metadata": {
    "ExecuteTime": {
     "end_time": "2025-09-23T08:52:19.937856Z",
     "start_time": "2025-09-23T08:52:19.933292Z"
    }
   },
   "cell_type": "code",
   "source": [
    "# Intersection\n",
    "print(\"Intersection : \", A & B)  # {4, 5}\n",
    "print(\"Intersection using function : \", A.intersection(B))  # {4, 5}"
   ],
   "id": "a5e63cf7d998bb15",
   "outputs": [
    {
     "name": "stdout",
     "output_type": "stream",
     "text": [
      "Intersection :  {4, 5}\n",
      "Intersection using function :  {4, 5}\n"
     ]
    }
   ],
   "execution_count": 52
  },
  {
   "metadata": {
    "ExecuteTime": {
     "end_time": "2025-09-23T08:52:20.178670Z",
     "start_time": "2025-09-23T08:52:20.173199Z"
    }
   },
   "cell_type": "code",
   "source": [
    "# Difference\n",
    "print(\"Difference (A - B) : \", A - B)  # {1, 2, 3}\n",
    "print(\"Difference (B - A) : \", B - A)  # {6, 7, 8}\n",
    "print(\"Difference using function (A - B) : \", A.difference(B))  # {1, 2, 3}\n",
    "print(\"Difference using function (B - A) : \", B.difference(A))  # {6, 7, 8}"
   ],
   "id": "1ad177cb19e3e5ba",
   "outputs": [
    {
     "name": "stdout",
     "output_type": "stream",
     "text": [
      "Difference (A - B) :  {1, 2, 3}\n",
      "Difference (B - A) :  {8, 6, 7}\n",
      "Difference using function (A - B) :  {1, 2, 3}\n",
      "Difference using function (B - A) :  {8, 6, 7}\n"
     ]
    }
   ],
   "execution_count": 53
  },
  {
   "metadata": {
    "ExecuteTime": {
     "end_time": "2025-09-23T08:52:20.328042Z",
     "start_time": "2025-09-23T08:52:20.323805Z"
    }
   },
   "cell_type": "code",
   "source": [
    "# Symmetric Difference\n",
    "print(\"Symmetric Difference : \", A ^ B)  # {1, 2, 3, 6, 7, 8}\n",
    "print(\"Symmetric Difference using function : \", A.symmetric_difference(B))  # {1, 2, 3, 6, 7, 8}"
   ],
   "id": "7daadc2c2e391815",
   "outputs": [
    {
     "name": "stdout",
     "output_type": "stream",
     "text": [
      "Symmetric Difference :  {1, 2, 3, 6, 7, 8}\n",
      "Symmetric Difference using function :  {1, 2, 3, 6, 7, 8}\n"
     ]
    }
   ],
   "execution_count": 54
  },
  {
   "metadata": {
    "ExecuteTime": {
     "end_time": "2025-09-23T08:52:20.787552Z",
     "start_time": "2025-09-23T08:52:20.783107Z"
    }
   },
   "cell_type": "code",
   "source": [
    "# Membership\n",
    "print(\"Is 3 in A? \", 3 in A)  # True\n",
    "print(\"Is 6 not in A? \", 6 not in A)  # True"
   ],
   "id": "1e89a100cbe50287",
   "outputs": [
    {
     "name": "stdout",
     "output_type": "stream",
     "text": [
      "Is 3 in A?  True\n",
      "Is 6 not in A?  True\n"
     ]
    }
   ],
   "execution_count": 55
  },
  {
   "metadata": {
    "ExecuteTime": {
     "end_time": "2025-09-23T08:52:21.217450Z",
     "start_time": "2025-09-23T08:52:21.213284Z"
    }
   },
   "cell_type": "code",
   "source": [
    "# Iteration\n",
    "print(\"Elements in A:\")\n",
    "for elem in A:\n",
    "    print(elem)"
   ],
   "id": "695bd9f1d742a9a6",
   "outputs": [
    {
     "name": "stdout",
     "output_type": "stream",
     "text": [
      "Elements in A:\n",
      "1\n",
      "2\n",
      "3\n",
      "4\n",
      "5\n"
     ]
    }
   ],
   "execution_count": 56
  },
  {
   "metadata": {
    "ExecuteTime": {
     "end_time": "2025-09-23T08:52:21.848655Z",
     "start_time": "2025-09-23T08:52:21.844141Z"
    }
   },
   "cell_type": "code",
   "source": [
    "# Subset\n",
    "C = {1, 2}\n",
    "print(\"Is C a subset of A? \", C.issubset(A))  # True\n",
    "print(\"Is A a subset of B? \", A.issubset(B))  # False"
   ],
   "id": "89d720b7cfb50b52",
   "outputs": [
    {
     "name": "stdout",
     "output_type": "stream",
     "text": [
      "Is C a subset of A?  True\n",
      "Is A a subset of B?  False\n"
     ]
    }
   ],
   "execution_count": 57
  },
  {
   "metadata": {
    "ExecuteTime": {
     "end_time": "2025-09-23T08:52:22.754515Z",
     "start_time": "2025-09-23T08:52:22.749337Z"
    }
   },
   "cell_type": "code",
   "source": [
    "# Superset\n",
    "print(\"Is A a superset of C? \", A.issuperset(C))  # True\n",
    "print(\"Is B a superset of A? \", B.issuperset(A))  # False"
   ],
   "id": "4e7c41dfe98eb068",
   "outputs": [
    {
     "name": "stdout",
     "output_type": "stream",
     "text": [
      "Is A a superset of C?  True\n",
      "Is B a superset of A?  False\n"
     ]
    }
   ],
   "execution_count": 58
  },
  {
   "metadata": {
    "ExecuteTime": {
     "end_time": "2025-09-23T09:01:12.248554Z",
     "start_time": "2025-09-23T09:01:12.242123Z"
    }
   },
   "cell_type": "code",
   "source": [
    "# disjoint\n",
    "D = {9, 10}\n",
    "print(\"Are A and D disjoint? \", A.isdisjoint(D))  # True\n",
    "E = {5, 6}\n",
    "print(\"Are A and E disjoint? \", A.isdisjoint(E))  # False"
   ],
   "id": "f9ecf30d18d9af79",
   "outputs": [
    {
     "name": "stdout",
     "output_type": "stream",
     "text": [
      "Are A and D disjoint?  True\n",
      "Are A and E disjoint?  False\n"
     ]
    }
   ],
   "execution_count": 63
  },
  {
   "metadata": {},
   "cell_type": "markdown",
   "source": "### Basic in-built functions",
   "id": "5e19bb6a28370c48"
  },
  {
   "metadata": {
    "ExecuteTime": {
     "end_time": "2025-09-23T08:54:15.869772Z",
     "start_time": "2025-09-23T08:54:15.863589Z"
    }
   },
   "cell_type": "code",
   "source": [
    "# len/max/min/sorted/sum\n",
    "s = {1,2,3,4,5}\n",
    "print(len(s))    # length of set\n",
    "print(max(s))    # maximum element\n",
    "print(min(s))    # minimum element\n",
    "print(sorted(s)) # sorted set (Returns a list)\n",
    "print(sum(s))    # sum of elements , only for numeric sets"
   ],
   "id": "1dc2b79baa390403",
   "outputs": [
    {
     "name": "stdout",
     "output_type": "stream",
     "text": [
      "5\n",
      "5\n",
      "1\n",
      "[1, 2, 3, 4, 5]\n",
      "15\n"
     ]
    }
   ],
   "execution_count": 59
  },
  {
   "metadata": {},
   "cell_type": "markdown",
   "source": [
    "`update() vs union()`\n",
    "- `update()` modifies the original set in place by adding elements from another set or iterable.\n",
    "- `union()` creates a new set that contains all unique elements from both sets without modifying the original sets."
   ],
   "id": "3e75e235728aeaa1"
  },
  {
   "metadata": {
    "ExecuteTime": {
     "end_time": "2025-09-23T08:56:39.290283Z",
     "start_time": "2025-09-23T08:56:39.285981Z"
    }
   },
   "cell_type": "code",
   "source": [
    "# update()\n",
    "s1 = {1,2,3}\n",
    "s2 = {4,5,6}\n",
    "s1.update(s2)\n",
    "print(\"After update, s1:\", s1)  # s1 is modified to include elements of s2\n",
    "print(\"s2 remains unchanged:\", s2)  # s2 remains unchanged"
   ],
   "id": "ad621219c92c3225",
   "outputs": [
    {
     "name": "stdout",
     "output_type": "stream",
     "text": [
      "After update, s1: {1, 2, 3, 4, 5, 6}\n",
      "s2 remains unchanged: {4, 5, 6}\n"
     ]
    }
   ],
   "execution_count": 60
  },
  {
   "metadata": {
    "ExecuteTime": {
     "end_time": "2025-09-23T08:57:13.799761Z",
     "start_time": "2025-09-23T08:57:13.794346Z"
    }
   },
   "cell_type": "code",
   "source": [
    "# union()\n",
    "s3 = {1,2,3}\n",
    "s4 = {4,5,6}\n",
    "s5 = s3.union(s4)\n",
    "print(\"s3 remains unchanged:\", s3)  # s3 remains unchanged\n",
    "print(\"s4 remains unchanged:\", s4)  # s4 remains unchanged\n",
    "print(\"New set s5 (union of s3 and s4):\", s5)  # s5 is a new set containing elements of both s3 and s4"
   ],
   "id": "c1389ad73242f8a3",
   "outputs": [
    {
     "name": "stdout",
     "output_type": "stream",
     "text": [
      "s3 remains unchanged: {1, 2, 3}\n",
      "s4 remains unchanged: {4, 5, 6}\n",
      "New set s5 (union of s3 and s4): {1, 2, 3, 4, 5, 6}\n"
     ]
    }
   ],
   "execution_count": 61
  },
  {
   "metadata": {},
   "cell_type": "markdown",
   "source": [
    "`intersection_update() vs intersection()`\n",
    "- `intersection_update()` modifies the original set in place to keep only elements that are also in another set.\n",
    "- `intersection()` creates a new set that contains only elements that are present in both sets without modifying the original sets."
   ],
   "id": "29a1e573f2580404"
  },
  {
   "metadata": {
    "ExecuteTime": {
     "end_time": "2025-09-23T08:58:21.260362Z",
     "start_time": "2025-09-23T08:58:21.255721Z"
    }
   },
   "cell_type": "code",
   "source": [
    "# intersection_update()\n",
    "s1 = {1,2,3,4,5}\n",
    "s2 = {4,5,6,7,8}\n",
    "s1.intersection_update(s2)\n",
    "print(\"After intersection_update, s1:\", s1)  # s1 is modified to include only elements also in s2\n",
    "print(\"s2 remains unchanged:\", s2)  # s2 remains unchanged"
   ],
   "id": "3308e6d5999e35",
   "outputs": [
    {
     "name": "stdout",
     "output_type": "stream",
     "text": [
      "After intersection_update, s1: {4, 5}\n",
      "s2 remains unchanged: {4, 5, 6, 7, 8}\n"
     ]
    }
   ],
   "execution_count": 62
  },
  {
   "metadata": {},
   "cell_type": "markdown",
   "source": "Same way for difference_update() and symmetric_difference_update()",
   "id": "13ce859ce45faac1"
  },
  {
   "metadata": {},
   "cell_type": "markdown",
   "source": [
    "`copy()`\n",
    "- creates a shallow copy of the set\n",
    "- changes made to the copied set do not affect the original set"
   ],
   "id": "4e8914b2fe7de06"
  },
  {
   "metadata": {
    "ExecuteTime": {
     "end_time": "2025-09-23T09:03:10.868207Z",
     "start_time": "2025-09-23T09:03:10.862872Z"
    }
   },
   "cell_type": "code",
   "source": [
    "s1 = {1,2,3}\n",
    "s2 = s1.copy()\n",
    "s2.add(4)\n",
    "print(\"Original set s1:\", s1)  # s1 remains unchanged\n",
    "print(\"Copied set s2 after adding 4:\", s2)  # s2 has the new element"
   ],
   "id": "9b0ebf6aabcf20",
   "outputs": [
    {
     "name": "stdout",
     "output_type": "stream",
     "text": [
      "Original set s1: {1, 2, 3}\n",
      "Copied set s2 after adding 4: {1, 2, 3, 4}\n"
     ]
    }
   ],
   "execution_count": 64
  },
  {
   "metadata": {},
   "cell_type": "markdown",
   "source": [
    "### frozenset\n",
    "- immutable version of a set\n",
    "- once created, elements cannot be added or removed\n",
    "- supports all set operations except those that modify the set (like add, remove, clear, update)"
   ],
   "id": "531d99d695e9f321"
  },
  {
   "metadata": {
    "ExecuteTime": {
     "end_time": "2025-09-23T09:05:06.177143Z",
     "start_time": "2025-09-23T09:05:06.171111Z"
    }
   },
   "cell_type": "code",
   "source": [
    "# Creating a frozenset\n",
    "fs = frozenset([1,2,3,4,5])\n",
    "print(fs)\n",
    "print(type(fs))"
   ],
   "id": "817226968f904b63",
   "outputs": [
    {
     "name": "stdout",
     "output_type": "stream",
     "text": [
      "frozenset({1, 2, 3, 4, 5})\n",
      "<class 'frozenset'>\n"
     ]
    }
   ],
   "execution_count": 65
  },
  {
   "metadata": {
    "ExecuteTime": {
     "end_time": "2025-09-23T09:06:11.048326Z",
     "start_time": "2025-09-23T09:06:11.044025Z"
    }
   },
   "cell_type": "code",
   "source": [
    "# All read-only operations are allowed like union, intersection, difference, symmetric difference\n",
    "fs1 = frozenset([1,2,3])\n",
    "fs2 = frozenset([3,4,5])\n",
    "print(\"Union:\", fs1 | fs2)  # {1, 2, 3, 4, 5}\n",
    "print(\"Intersection:\", fs1 & fs2)  # {3}\n",
    "print(\"Difference (fs1 - fs2):\", fs1 - fs2)  # {1, 2}\n",
    "print(\"Symmetric Difference:\", fs1 ^ fs2)  # {1, 2, 4, 5}"
   ],
   "id": "5fd40eb09d459b9e",
   "outputs": [
    {
     "name": "stdout",
     "output_type": "stream",
     "text": [
      "Union: frozenset({1, 2, 3, 4, 5})\n",
      "Intersection: frozenset({3})\n",
      "Difference (fs1 - fs2): frozenset({1, 2})\n",
      "Symmetric Difference: frozenset({1, 2, 4, 5})\n"
     ]
    }
   ],
   "execution_count": 66
  },
  {
   "metadata": {
    "ExecuteTime": {
     "end_time": "2025-09-23T09:08:10.385046Z",
     "start_time": "2025-09-23T09:08:10.380199Z"
    }
   },
   "cell_type": "code",
   "source": [
    " # issubset , issuperset , isdisjoint\n",
    "fs3 = frozenset([1,2])\n",
    "print(\"Is fs3 a subset of fs1? \", fs3.issubset(fs1))  # True\n",
    "print(\"Is fs1 a superset of fs3? \", fs1.issuperset(fs3))  # True\n",
    "fs4 = frozenset([6,7])\n",
    "print(\"Are fs1 and fs4 disjoint? \", fs1.isdisjoint(fs4))  # True"
   ],
   "id": "9686e379875971f9",
   "outputs": [
    {
     "name": "stdout",
     "output_type": "stream",
     "text": [
      "Is fs3 a subset of fs1?  True\n",
      "Is fs1 a superset of fs3?  True\n",
      "Are fs1 and fs4 disjoint?  True\n"
     ]
    }
   ],
   "execution_count": 67
  },
  {
   "metadata": {},
   "cell_type": "markdown",
   "source": "functions like add , remove , discard , pop , clear , update , intersection_update , difference_update , symmetric_difference_update are not available for frozenset",
   "id": "2c6a2e14e3d4ac71"
  },
  {
   "metadata": {},
   "cell_type": "markdown",
   "source": "**2D frozensets are possible because frozensets are immutable and can contain other frozensets as elements.**",
   "id": "6dea0ffc34401946"
  },
  {
   "metadata": {
    "ExecuteTime": {
     "end_time": "2025-09-23T09:12:21.451312Z",
     "start_time": "2025-09-23T09:12:21.446027Z"
    }
   },
   "cell_type": "code",
   "source": [
    "fs = frozenset([frozenset([1,2,3]) , frozenset([4,5,6])])\n",
    "fs"
   ],
   "id": "be1c4352fa628d6c",
   "outputs": [
    {
     "data": {
      "text/plain": [
       "frozenset({frozenset({1, 2, 3}), frozenset({4, 5, 6})})"
      ]
     },
     "execution_count": 72,
     "metadata": {},
     "output_type": "execute_result"
    }
   ],
   "execution_count": 72
  },
  {
   "metadata": {
    "ExecuteTime": {
     "end_time": "2025-09-23T09:12:49.396314Z",
     "start_time": "2025-09-23T09:12:49.391246Z"
    }
   },
   "cell_type": "code",
   "source": [
    "# Accessing elements\n",
    "for i in fs :\n",
    "    print(i)"
   ],
   "id": "aa5d5eb887903cb0",
   "outputs": [
    {
     "name": "stdout",
     "output_type": "stream",
     "text": [
      "frozenset({1, 2, 3})\n",
      "frozenset({4, 5, 6})\n"
     ]
    }
   ],
   "execution_count": 73
  },
  {
   "metadata": {},
   "cell_type": "markdown",
   "source": [
    "## Set Comprehension\n",
    "- similar to list comprehension but creates a set instead of a list\n",
    "- syntax: `{expression for item in iterable if condition}`"
   ],
   "id": "9f92c4e4ceac5120"
  },
  {
   "metadata": {
    "ExecuteTime": {
     "end_time": "2025-09-23T09:13:58.062023Z",
     "start_time": "2025-09-23T09:13:58.056328Z"
    }
   },
   "cell_type": "code",
   "source": "{i*i for i in range(1,11)}",
   "id": "64f579356189f1c5",
   "outputs": [
    {
     "data": {
      "text/plain": [
       "{1, 4, 9, 16, 25, 36, 49, 64, 81, 100}"
      ]
     },
     "execution_count": 76,
     "metadata": {},
     "output_type": "execute_result"
    }
   ],
   "execution_count": 76
  },
  {
   "metadata": {},
   "cell_type": "markdown",
   "source": [
    "# Dictionary\n",
    "\n",
    "Dictionary in Python is a collection of keys and values, used to store data values like a map, which, unlike other data types which hold only a single value as an element.\n",
    "\n",
    "In some languages it is known as map or associative arrays.\n",
    "\n",
    "Example:\n",
    "```python\n",
    "dict = { 'name': 'Ritesh', 'age': 20, 'gender': 'male' }\n",
    "```\n",
    "\n",
    "**Characteristics:**\n",
    "- Mutable\n",
    "- Indexing has no meaning\n",
    "- Keys can't be duplicated\n",
    "- Keys can't be mutable items"
   ],
   "id": "8b3c6573f1c535cd"
  },
  {
   "metadata": {},
   "cell_type": "markdown",
   "source": [
    "## Creation of dictionary\n",
    "- using curly braces `{}`\n",
    "- using `dict()` function\n",
    "- using comma `,` separated key:value pairs\n",
    "- using `fromkeys()` function"
   ],
   "id": "ee804beb2087ab48"
  },
  {
   "metadata": {
    "ExecuteTime": {
     "end_time": "2025-09-23T09:18:06.338466Z",
     "start_time": "2025-09-23T09:18:06.332140Z"
    }
   },
   "cell_type": "code",
   "source": [
    "# Creating an empty dictionary\n",
    "d = {}\n",
    "print(d)\n",
    "print(type(d))"
   ],
   "id": "ac3d6beec00fcf53",
   "outputs": [
    {
     "name": "stdout",
     "output_type": "stream",
     "text": [
      "{}\n",
      "<class 'dict'>\n"
     ]
    }
   ],
   "execution_count": 77
  },
  {
   "metadata": {
    "ExecuteTime": {
     "end_time": "2025-09-23T09:18:33.389946Z",
     "start_time": "2025-09-23T09:18:33.386085Z"
    }
   },
   "cell_type": "code",
   "source": [
    "# 1D dictionary\n",
    "d1 = {'name': 'Ritesh', 'age': 20}\n",
    "print(d1)"
   ],
   "id": "7a7c482954819cab",
   "outputs": [
    {
     "name": "stdout",
     "output_type": "stream",
     "text": [
      "{'name': 'Ritesh', 'age': 20}\n"
     ]
    }
   ],
   "execution_count": 79
  },
  {
   "metadata": {
    "ExecuteTime": {
     "end_time": "2025-09-23T09:20:42.847101Z",
     "start_time": "2025-09-23T09:20:42.842474Z"
    }
   },
   "cell_type": "code",
   "source": [
    "# mixed keys and values\n",
    "d2 = {(1,2,3): 'tuple_key', 45: 'int_key', 67.89: 'float_key', True: 'bool_key', 'list_key': [1,2,3], 'set_key': {4,5,6}, 'dict_key': {'a': 1, 'b': 2}}\n",
    "print(d2)"
   ],
   "id": "25f03299a6955dce",
   "outputs": [
    {
     "name": "stdout",
     "output_type": "stream",
     "text": [
      "{(1, 2, 3): 'tuple_key', 45: 'int_key', 67.89: 'float_key', True: 'bool_key', 'list_key': [1, 2, 3], 'set_key': {4, 5, 6}, 'dict_key': {'a': 1, 'b': 2}}\n"
     ]
    }
   ],
   "execution_count": 81
  },
  {
   "metadata": {},
   "cell_type": "code",
   "source": "d3 = { [1,2] : \"tuple\" , 45 : \"int\" , 67.89 : \"float\" , True : \"bool\" } # this will give an error since list is a mutable item and can't be used as a key",
   "id": "af0f4a017afc8b78",
   "outputs": [],
   "execution_count": null
  },
  {
   "cell_type": "code",
   "id": "c9e5075d4d522435",
   "metadata": {
    "ExecuteTime": {
     "end_time": "2025-09-23T09:27:35.750599Z",
     "start_time": "2025-09-23T09:27:35.742868Z"
    }
   },
   "source": [
    "# 2D dictionary : Json follow this structure\n",
    "s = {\n",
    "    'name': 'Ritesh',\n",
    "    'college': 'ABC',\n",
    "    'marks': {\n",
    "        'maths': 95,\n",
    "        'science': 90,\n",
    "        'english': 85\n",
    "    },\n",
    "    'age': 20,\n",
    "    'year': 2025\n",
    "}\n",
    "s"
   ],
   "outputs": [
    {
     "data": {
      "text/plain": [
       "{'name': 'Ritesh',\n",
       " 'college': 'ABC',\n",
       " 'marks': {'maths': 95, 'science': 90, 'english': 85},\n",
       " 'age': 20,\n",
       " 'year': 2025}"
      ]
     },
     "execution_count": 86,
     "metadata": {},
     "output_type": "execute_result"
    }
   ],
   "execution_count": 86
  },
  {
   "cell_type": "code",
   "id": "2684be0c60fac77e",
   "metadata": {
    "ExecuteTime": {
     "end_time": "2025-09-23T09:28:24.084953Z",
     "start_time": "2025-09-23T09:28:24.080380Z"
    }
   },
   "source": [
    "# using dict() function\n",
    "d4 = dict([('name', 'Ritesh'), ('age', 20)])\n",
    "print(d4)"
   ],
   "outputs": [
    {
     "name": "stdout",
     "output_type": "stream",
     "text": [
      "{'name': 'Ritesh', 'age': 20}\n"
     ]
    }
   ],
   "execution_count": 87
  },
  {
   "cell_type": "code",
   "id": "870e81ae19ffd31b",
   "metadata": {
    "ExecuteTime": {
     "end_time": "2025-09-23T09:29:14.281451Z",
     "start_time": "2025-09-23T09:29:14.275409Z"
    }
   },
   "source": [
    "# using comma separated key:value pairs\n",
    "d5 = 'name', 'Ritesh', 'age', 20\n",
    "d5 = dict([ (d5[i], d5[i+1]) for i in range(0, len(d5), 2) ])\n",
    "print(d5)"
   ],
   "outputs": [
    {
     "name": "stdout",
     "output_type": "stream",
     "text": [
      "{'name': 'Ritesh', 'age': 20}\n"
     ]
    }
   ],
   "execution_count": 89
  },
  {
   "metadata": {
    "ExecuteTime": {
     "end_time": "2025-09-23T09:29:52.528559Z",
     "start_time": "2025-09-23T09:29:52.524264Z"
    }
   },
   "cell_type": "code",
   "source": [
    "# using fromkeys() function\n",
    "keys = ['name', 'age', 'year']\n",
    "d6 = dict.fromkeys(keys, 'Ritesh')\n",
    "print(d6)"
   ],
   "id": "7b062d28adffa9fe",
   "outputs": [
    {
     "name": "stdout",
     "output_type": "stream",
     "text": [
      "{'name': 'Ritesh', 'age': 'Ritesh', 'year': 'Ritesh'}\n"
     ]
    }
   ],
   "execution_count": 90
  },
  {
   "metadata": {
    "ExecuteTime": {
     "end_time": "2025-09-23T09:30:32.705548Z",
     "start_time": "2025-09-23T09:30:32.701237Z"
    }
   },
   "cell_type": "code",
   "source": [
    "# if value is not provided then it will be None by default\n",
    "d7 = dict.fromkeys(keys)\n",
    "print(d7)"
   ],
   "id": "3ac307edda132d2f",
   "outputs": [
    {
     "name": "stdout",
     "output_type": "stream",
     "text": [
      "{'name': None, 'age': None, 'year': None}\n"
     ]
    }
   ],
   "execution_count": 91
  },
  {
   "metadata": {},
   "cell_type": "markdown",
   "source": "**Dictionary keys can't be duplicate since they are used to access the values. If duplicate keys are used, the last occurrence will overwrite the previous ones.**",
   "id": "c1ee98acd258b62b"
  },
  {
   "metadata": {
    "ExecuteTime": {
     "end_time": "2025-09-23T09:32:10.558850Z",
     "start_time": "2025-09-23T09:32:10.553763Z"
    }
   },
   "cell_type": "code",
   "source": [
    "d8 = {'name': 'Ritesh', 'age': 20, 'name': 'Rahul'}\n",
    "print(d8) # {'name': 'Rahul', 'age': 20} ==> 'name' key is duplicated, so the last value 'Rahul' overwrites 'Ritesh'"
   ],
   "id": "9258098935d301ac",
   "outputs": [
    {
     "name": "stdout",
     "output_type": "stream",
     "text": [
      "{'name': 'Rahul', 'age': 20}\n"
     ]
    }
   ],
   "execution_count": 94
  },
  {
   "metadata": {},
   "cell_type": "markdown",
   "source": "**mutable items like list or set can't be used as keys since they can be changed after creation, which would make it impossible to reliably access the associated value. Immutable items like strings, numbers, and tuples can be used as keys.**",
   "id": "1d68f05041c0dffe"
  },
  {
   "metadata": {},
   "cell_type": "code",
   "source": "d9 = { [1,2,3] : \"list_key\" , {4,5,6} : \"set_key\" } # this will give an error since list and set are mutable items and can't be used as keys",
   "id": "609d705f1b1eefe3",
   "outputs": [],
   "execution_count": null
  },
  {
   "metadata": {
    "ExecuteTime": {
     "end_time": "2025-09-23T09:34:54.441929Z",
     "start_time": "2025-09-23T09:34:54.437687Z"
    }
   },
   "cell_type": "code",
   "source": [
    "d10 = {5:'hello',4:'world',3:'python',2:'is',1:'great'}\n",
    "d10"
   ],
   "id": "11971a638a76acaf",
   "outputs": [
    {
     "data": {
      "text/plain": [
       "{5: 'hello', 4: 'world', 3: 'python', 2: 'is', 1: 'great'}"
      ]
     },
     "execution_count": 97,
     "metadata": {},
     "output_type": "execute_result"
    }
   ],
   "execution_count": 97
  },
  {
   "metadata": {},
   "cell_type": "markdown",
   "source": "Dictionary is an unordered collection of items so the order of items may not be the same as the order in which they were added.",
   "id": "9deab226fb2cb479"
  },
  {
   "metadata": {},
   "cell_type": "markdown",
   "source": [
    "## Accessing elements\n",
    "- using keys\n",
    "- using `get()` function\n",
    "- using `items()`, `keys()`, `values()` functions"
   ],
   "id": "7ab3d4e9e4489d4f"
  },
  {
   "metadata": {
    "ExecuteTime": {
     "end_time": "2025-09-23T09:45:26.143333Z",
     "start_time": "2025-09-23T09:45:26.137396Z"
    }
   },
   "cell_type": "code",
   "source": [
    "d11 = {'name': 'Ritesh', 'age': 20, 'college': 'ABC'}\n",
    "# []\n",
    "print(d11['name'])  # accessing value using key\n",
    "\n",
    "# get()\n",
    "print(d11.get('age'))  # accessing value using get() function\n",
    "\n",
    "# items()\n",
    "print(d11.items())  # returns a view object of key-value pairs\n",
    "\n",
    "# keys()\n",
    "print(d11.keys())  # returns a view object of keys\n",
    "\n",
    "# values()\n",
    "print(d11.values())  # returns a view object of values"
   ],
   "id": "9004bf6a03693023",
   "outputs": [
    {
     "name": "stdout",
     "output_type": "stream",
     "text": [
      "Ritesh\n",
      "20\n",
      "dict_items([('name', 'Ritesh'), ('age', 20), ('college', 'ABC')])\n",
      "dict_keys(['name', 'age', 'college'])\n",
      "dict_values(['Ritesh', 20, 'ABC'])\n"
     ]
    }
   ],
   "execution_count": 112
  },
  {
   "metadata": {},
   "cell_type": "markdown",
   "source": "## Adding items ( key-value pairs)",
   "id": "b405ffefba94207b"
  },
  {
   "metadata": {
    "ExecuteTime": {
     "end_time": "2025-09-23T09:45:26.990616Z",
     "start_time": "2025-09-23T09:45:26.985479Z"
    }
   },
   "cell_type": "code",
   "source": "d11",
   "id": "44f78e40d7dc4f82",
   "outputs": [
    {
     "data": {
      "text/plain": [
       "{'name': 'Ritesh', 'age': 20, 'college': 'ABC'}"
      ]
     },
     "execution_count": 113,
     "metadata": {},
     "output_type": "execute_result"
    }
   ],
   "execution_count": 113
  },
  {
   "metadata": {
    "ExecuteTime": {
     "end_time": "2025-09-23T09:45:28.510464Z",
     "start_time": "2025-09-23T09:45:28.505287Z"
    }
   },
   "cell_type": "code",
   "source": [
    "d11['year'] = 2025  # adding a new key-value pair\n",
    "d11"
   ],
   "id": "7eecade28bf0808",
   "outputs": [
    {
     "data": {
      "text/plain": [
       "{'name': 'Ritesh', 'age': 20, 'college': 'ABC', 'year': 2025}"
      ]
     },
     "execution_count": 114,
     "metadata": {},
     "output_type": "execute_result"
    }
   ],
   "execution_count": 114
  },
  {
   "metadata": {},
   "cell_type": "markdown",
   "source": [
    "### Removing items ( key-value pairs)\n",
    "- `pop()` function to remove a specific key-value pair\n",
    "- `popitem()` function to remove and return last inserted key-value pair\n",
    "- `del` keyword to delete a specific key-value pair or the entire dictionary\n",
    "- `clear()` function to remove all key-value pairs"
   ],
   "id": "4010523d3e571350"
  },
  {
   "metadata": {
    "ExecuteTime": {
     "end_time": "2025-09-23T09:42:38.015501Z",
     "start_time": "2025-09-23T09:42:38.008946Z"
    }
   },
   "cell_type": "code",
   "source": [
    "# pop()\n",
    "d11.pop('age')  # removing key-value pair with key 'age'\n",
    "d11"
   ],
   "id": "7b60d4e69fb012f1",
   "outputs": [
    {
     "data": {
      "text/plain": [
       "{'name': 'Ritesh', 'college': 'ABC', 'year': 2025}"
      ]
     },
     "execution_count": 108,
     "metadata": {},
     "output_type": "execute_result"
    }
   ],
   "execution_count": 108
  },
  {
   "metadata": {
    "ExecuteTime": {
     "end_time": "2025-09-23T09:43:06.921703Z",
     "start_time": "2025-09-23T09:43:06.915471Z"
    }
   },
   "cell_type": "code",
   "source": [
    "# popitem()\n",
    "a = d11.popitem()  # removing and returning an arbitrary key-value pair\n",
    "print(a)\n",
    "d11"
   ],
   "id": "8228bb918f6530eb",
   "outputs": [
    {
     "name": "stdout",
     "output_type": "stream",
     "text": [
      "('year', 2025)\n"
     ]
    },
    {
     "data": {
      "text/plain": [
       "{'name': 'Ritesh', 'college': 'ABC'}"
      ]
     },
     "execution_count": 109,
     "metadata": {},
     "output_type": "execute_result"
    }
   ],
   "execution_count": 109
  },
  {
   "metadata": {
    "ExecuteTime": {
     "end_time": "2025-09-23T09:45:32.681586Z",
     "start_time": "2025-09-23T09:45:32.676432Z"
    }
   },
   "cell_type": "code",
   "source": [
    "# del\n",
    "del d11['college']  # deleting key-value pair with key 'college'\n",
    "d11\n",
    "\n",
    "# or delete entire dictionary\n",
    "del d11\n",
    "# print(d11) # this will give an error since d11 is deleted"
   ],
   "id": "56186486a16067ec",
   "outputs": [
    {
     "data": {
      "text/plain": [
       "{'name': 'Ritesh', 'age': 20, 'year': 2025}"
      ]
     },
     "execution_count": 115,
     "metadata": {},
     "output_type": "execute_result"
    }
   ],
   "execution_count": 115
  },
  {
   "metadata": {
    "ExecuteTime": {
     "end_time": "2025-09-23T09:46:15.361406Z",
     "start_time": "2025-09-23T09:46:15.357138Z"
    }
   },
   "cell_type": "code",
   "source": [
    "# clear()\n",
    "d12 = {'name': 'Ritesh', 'age': 20, 'college': 'ABC'}\n",
    "d12.clear()  # removing all key-value pairs\n",
    "print(d12)  # empty dictionary"
   ],
   "id": "e9d7eb41027c89d",
   "outputs": [
    {
     "name": "stdout",
     "output_type": "stream",
     "text": [
      "{}\n"
     ]
    }
   ],
   "execution_count": 116
  },
  {
   "metadata": {},
   "cell_type": "markdown",
   "source": "### Accessing nested dictionary",
   "id": "66b05cb9db067449"
  },
  {
   "metadata": {
    "ExecuteTime": {
     "end_time": "2025-09-23T09:46:54.375358Z",
     "start_time": "2025-09-23T09:46:54.370864Z"
    }
   },
   "cell_type": "code",
   "source": [
    "s = {\n",
    "    'name': 'Ritesh',\n",
    "    'college': 'ABC',\n",
    "    'marks': {\n",
    "        'maths': 95,\n",
    "        'science': 90,\n",
    "        'english': 85\n",
    "    },\n",
    "    'age': 20,\n",
    "    'year': 2025\n",
    "}\n",
    "# accessing nested dictionary\n",
    "print(s['marks'])          # entire marks dictionary\n",
    "print(s['marks']['maths']) # marks in maths"
   ],
   "id": "74cb98edbbaacb72",
   "outputs": [
    {
     "name": "stdout",
     "output_type": "stream",
     "text": [
      "{'maths': 95, 'science': 90, 'english': 85}\n",
      "95\n"
     ]
    }
   ],
   "execution_count": 117
  },
  {
   "metadata": {},
   "cell_type": "markdown",
   "source": "### Adding items to nested dictionary",
   "id": "d38f7daa509c713b"
  },
  {
   "metadata": {
    "ExecuteTime": {
     "end_time": "2025-09-23T09:47:45.325284Z",
     "start_time": "2025-09-23T09:47:45.321726Z"
    }
   },
   "cell_type": "code",
   "source": [
    "s['marks']['history'] = 88  # adding history marks\n",
    "print(s)"
   ],
   "id": "78e22e0c2c725efb",
   "outputs": [
    {
     "name": "stdout",
     "output_type": "stream",
     "text": [
      "{'name': 'Ritesh', 'college': 'ABC', 'marks': {'maths': 95, 'science': 90, 'english': 85, 'history': 88}, 'age': 20, 'year': 2025}\n"
     ]
    }
   ],
   "execution_count": 118
  },
  {
   "metadata": {},
   "cell_type": "markdown",
   "source": "### Removing items from nested dictionary",
   "id": "c14b7f9d0366485"
  },
  {
   "metadata": {
    "ExecuteTime": {
     "end_time": "2025-09-23T09:48:21.923151Z",
     "start_time": "2025-09-23T09:48:21.916609Z"
    }
   },
   "cell_type": "code",
   "source": "s",
   "id": "f0e4ea6e3f57f8e",
   "outputs": [
    {
     "data": {
      "text/plain": [
       "{'name': 'Ritesh',\n",
       " 'college': 'ABC',\n",
       " 'marks': {'maths': 95, 'science': 90, 'english': 85, 'history': 88},\n",
       " 'age': 20,\n",
       " 'year': 2025}"
      ]
     },
     "execution_count": 119,
     "metadata": {},
     "output_type": "execute_result"
    }
   ],
   "execution_count": 119
  },
  {
   "metadata": {
    "ExecuteTime": {
     "end_time": "2025-09-23T09:48:29.587574Z",
     "start_time": "2025-09-23T09:48:29.583422Z"
    }
   },
   "cell_type": "code",
   "source": [
    "s['marks'].pop('science')  # removing science marks\n",
    "print(s)"
   ],
   "id": "cf8155c83c351e56",
   "outputs": [
    {
     "name": "stdout",
     "output_type": "stream",
     "text": [
      "{'name': 'Ritesh', 'college': 'ABC', 'marks': {'maths': 95, 'english': 85, 'history': 88}, 'age': 20, 'year': 2025}\n"
     ]
    }
   ],
   "execution_count": 120
  },
  {
   "metadata": {
    "ExecuteTime": {
     "end_time": "2025-09-23T09:48:44.295902Z",
     "start_time": "2025-09-23T09:48:44.291795Z"
    }
   },
   "cell_type": "code",
   "source": [
    "del s['marks']['english']  # deleting english marks\n",
    "print(s)"
   ],
   "id": "56df848b1d5b8d6e",
   "outputs": [
    {
     "name": "stdout",
     "output_type": "stream",
     "text": [
      "{'name': 'Ritesh', 'college': 'ABC', 'marks': {'maths': 95, 'history': 88}, 'age': 20, 'year': 2025}\n"
     ]
    }
   ],
   "execution_count": 121
  },
  {
   "metadata": {},
   "cell_type": "markdown",
   "source": "### Editing items",
   "id": "c69c1849159dfe82"
  },
  {
   "metadata": {
    "ExecuteTime": {
     "end_time": "2025-09-23T09:49:09.547715Z",
     "start_time": "2025-09-23T09:49:09.543577Z"
    }
   },
   "cell_type": "code",
   "source": "s",
   "id": "1c6d1e2d70bcfd7",
   "outputs": [
    {
     "data": {
      "text/plain": [
       "{'name': 'Ritesh',\n",
       " 'college': 'ABC',\n",
       " 'marks': {'maths': 95, 'history': 88},\n",
       " 'age': 20,\n",
       " 'year': 2025}"
      ]
     },
     "execution_count": 122,
     "metadata": {},
     "output_type": "execute_result"
    }
   ],
   "execution_count": 122
  },
  {
   "metadata": {
    "ExecuteTime": {
     "end_time": "2025-09-23T09:49:29.434157Z",
     "start_time": "2025-09-23T09:49:29.430116Z"
    }
   },
   "cell_type": "code",
   "source": [
    "s['name'] = 'Rahul'  # changing name\n",
    "s['marks']['maths'] = 98  # changing maths marks\n",
    "print(s)"
   ],
   "id": "3859ff4f099c04c1",
   "outputs": [
    {
     "name": "stdout",
     "output_type": "stream",
     "text": [
      "{'name': 'Rahul', 'college': 'ABC', 'marks': {'maths': 98, 'history': 88}, 'age': 20, 'year': 2025}\n"
     ]
    }
   ],
   "execution_count": 124
  },
  {
   "metadata": {},
   "cell_type": "markdown",
   "source": "`Always remember that in dictionary all we care about is keys since they are used to access the values.`",
   "id": "a78f8719c6d33ab0"
  },
  {
   "metadata": {},
   "cell_type": "markdown",
   "source": [
    "## Dictionary Operations\n",
    "- Membership (in, not in) : Checks if a key is present in the dictionary.\n",
    "- Iteration : Looping through each key-value pair in the dictionary.\n",
    "- Merging (update()) : Merges another dictionary into the current dictionary."
   ],
   "id": "3931b3224e251b5d"
  },
  {
   "metadata": {
    "ExecuteTime": {
     "end_time": "2025-09-23T09:52:24.289510Z",
     "start_time": "2025-09-23T09:52:24.279146Z"
    }
   },
   "cell_type": "code",
   "source": "s",
   "id": "d412d2752a1697c6",
   "outputs": [
    {
     "data": {
      "text/plain": [
       "{'name': 'Rahul',\n",
       " 'college': 'ABC',\n",
       " 'marks': {'maths': 98, 'history': 88},\n",
       " 'age': 20,\n",
       " 'year': 2025}"
      ]
     },
     "execution_count": 125,
     "metadata": {},
     "output_type": "execute_result"
    }
   ],
   "execution_count": 125
  },
  {
   "metadata": {
    "ExecuteTime": {
     "end_time": "2025-09-23T09:52:54.578668Z",
     "start_time": "2025-09-23T09:52:54.574352Z"
    }
   },
   "cell_type": "code",
   "source": "'age' in s  # checking if 'age' key is present in the dictionary",
   "id": "afc8ae9654ee14ab",
   "outputs": [
    {
     "data": {
      "text/plain": [
       "True"
      ]
     },
     "execution_count": 126,
     "metadata": {},
     "output_type": "execute_result"
    }
   ],
   "execution_count": 126
  },
  {
   "metadata": {},
   "cell_type": "markdown",
   "source": "works only for keys not for values.|",
   "id": "71e9d81ddc6e154"
  },
  {
   "metadata": {},
   "cell_type": "code",
   "outputs": [],
   "execution_count": null,
   "source": "",
   "id": "1ce3bc36b87c48f8"
  },
  {
   "metadata": {},
   "cell_type": "code",
   "outputs": [],
   "execution_count": null,
   "source": "",
   "id": "7913801a7b5cffd2"
  },
  {
   "metadata": {},
   "cell_type": "code",
   "outputs": [],
   "execution_count": null,
   "source": "",
   "id": "bd20f5d4c8b23a6"
  },
  {
   "metadata": {},
   "cell_type": "code",
   "outputs": [],
   "execution_count": null,
   "source": "",
   "id": "4b642555ee5e6a5"
  },
  {
   "metadata": {},
   "cell_type": "code",
   "outputs": [],
   "execution_count": null,
   "source": "",
   "id": "71c5b9930320ed03"
  },
  {
   "metadata": {},
   "cell_type": "code",
   "outputs": [],
   "execution_count": null,
   "source": "",
   "id": "35fc5dde77e68938"
  },
  {
   "metadata": {},
   "cell_type": "code",
   "outputs": [],
   "execution_count": null,
   "source": "",
   "id": "e9e80e7c5e731e30"
  },
  {
   "metadata": {},
   "cell_type": "code",
   "outputs": [],
   "execution_count": null,
   "source": "",
   "id": "a419e8e1b20475f0"
  },
  {
   "metadata": {},
   "cell_type": "code",
   "outputs": [],
   "execution_count": null,
   "source": "",
   "id": "bf31e3a83bdfb3ed"
  },
  {
   "metadata": {},
   "cell_type": "code",
   "outputs": [],
   "execution_count": null,
   "source": "",
   "id": "123daab64c675917"
  },
  {
   "cell_type": "code",
   "execution_count": 2,
   "id": "d25ce4e5-cfd4-4546-a6f1-69fa6ddc9be1",
   "metadata": {},
   "outputs": [
    {
     "data": {
      "text/plain": [
       "tuple"
      ]
     },
     "execution_count": 2,
     "metadata": {},
     "output_type": "execute_result"
    }
   ],
   "source": [
    "t = ()\n",
    "type(t)"
   ]
  },
  {
   "cell_type": "code",
   "execution_count": 3,
   "id": "d573395f-069f-4f24-84b9-1b1e5a0136e1",
   "metadata": {},
   "outputs": [
    {
     "data": {
      "text/plain": [
       "list"
      ]
     },
     "execution_count": 3,
     "metadata": {},
     "output_type": "execute_result"
    }
   ],
   "source": [
    "l = []\n",
    "type(l)"
   ]
  },
  {
   "cell_type": "code",
   "execution_count": 17,
   "id": "ec1fce96-8c96-4574-ad7c-5c22bf547be5",
   "metadata": {},
   "outputs": [
    {
     "data": {
      "text/plain": [
       "12"
      ]
     },
     "execution_count": 17,
     "metadata": {},
     "output_type": "execute_result"
    }
   ],
   "source": [
    "t1 = (12,2.24,True,\"hii\")\n",
    "l1 = [12,2.24,True,\"hii\"]\n",
    "t[0]"
   ]
  },
  {
   "cell_type": "code",
   "execution_count": 18,
   "id": "740e8bc2-de0d-418a-94c1-8a0a65159fa5",
   "metadata": {},
   "outputs": [
    {
     "data": {
      "text/plain": [
       "(12, 2.24, True, 'hii')"
      ]
     },
     "execution_count": 18,
     "metadata": {},
     "output_type": "execute_result"
    }
   ],
   "source": [
    "t1[0:4]"
   ]
  },
  {
   "cell_type": "code",
   "execution_count": 19,
   "id": "2ccf534f-b3e5-4f59-8e02-b15ae1e34904",
   "metadata": {},
   "outputs": [
    {
     "data": {
      "text/plain": [
       "'hii'"
      ]
     },
     "execution_count": 19,
     "metadata": {},
     "output_type": "execute_result"
    }
   ],
   "source": [
    "t1[-1]"
   ]
  },
  {
   "cell_type": "code",
   "execution_count": 20,
   "id": "5bbb7a43-4a92-4324-97c4-1c70844f33d2",
   "metadata": {},
   "outputs": [
    {
     "data": {
      "text/plain": [
       "('hii', True, 2.24, 12)"
      ]
     },
     "execution_count": 20,
     "metadata": {},
     "output_type": "execute_result"
    }
   ],
   "source": [
    "t1[::-1]"
   ]
  },
  {
   "cell_type": "code",
   "execution_count": 23,
   "id": "0a376fe3-c9d3-40ef-a510-a20a776b319e",
   "metadata": {},
   "outputs": [
    {
     "data": {
      "text/plain": [
       "['ritesh', 2.24, True, 'hii']"
      ]
     },
     "execution_count": 23,
     "metadata": {},
     "output_type": "execute_result"
    }
   ],
   "source": [
    "l1[0] = \"ritesh\"\n",
    "l1"
   ]
  },
  {
   "cell_type": "code",
   "execution_count": null,
   "id": "bd946753-21de-40c7-aaee-656498354be5",
   "metadata": {},
   "outputs": [],
   "source": [
    "# we can do this sice list is a mutable entity ."
   ]
  },
  {
   "cell_type": "code",
   "execution_count": 29,
   "id": "0f4cf8cc-3d9b-4b44-87d3-67ce62362d62",
   "metadata": {},
   "outputs": [
    {
     "ename": "TypeError",
     "evalue": "'tuple' object does not support item assignment",
     "output_type": "error",
     "traceback": [
      "\u001B[1;31m---------------------------------------------------------------------------\u001B[0m",
      "\u001B[1;31mTypeError\u001B[0m                                 Traceback (most recent call last)",
      "Cell \u001B[1;32mIn[29], line 1\u001B[0m\n\u001B[1;32m----> 1\u001B[0m t1[\u001B[38;5;241m0\u001B[39m] \u001B[38;5;241m=\u001B[39m \u001B[38;5;124m\"\u001B[39m\u001B[38;5;124mritesh\u001B[39m\u001B[38;5;124m\"\u001B[39m\n\u001B[0;32m      2\u001B[0m t1\n",
      "\u001B[1;31mTypeError\u001B[0m: 'tuple' object does not support item assignment"
     ]
    }
   ],
   "source": [
    "t1[0] = \"ritesh\"\n",
    "t1"
   ]
  },
  {
   "cell_type": "code",
   "execution_count": 30,
   "id": "d79ca48c-19ac-4a90-a615-8bc2eb77960b",
   "metadata": {},
   "outputs": [
    {
     "data": {
      "text/plain": [
       "(12, 2.24, True, 'hii')"
      ]
     },
     "execution_count": 30,
     "metadata": {},
     "output_type": "execute_result"
    }
   ],
   "source": [
    "t1"
   ]
  },
  {
   "cell_type": "code",
   "execution_count": 46,
   "id": "076972be-8885-4c8e-a82d-ebeb2801a244",
   "metadata": {},
   "outputs": [
    {
     "data": {
      "text/plain": [
       "(12, 2.24, True, 'hii', 897, 786, 997, 744, 786, 786, 786)"
      ]
     },
     "execution_count": 46,
     "metadata": {},
     "output_type": "execute_result"
    }
   ],
   "source": [
    "t2 = (897 , 786 ,997 ,744 ,786 , 786 , 786)\n",
    "t1 + t2"
   ]
  },
  {
   "cell_type": "code",
   "execution_count": 47,
   "id": "619f8d8b-d5df-4998-a8fa-b9af980eaa90",
   "metadata": {},
   "outputs": [
    {
     "data": {
      "text/plain": [
       "(897, 786, 997, 744, 786, 786, 786, 897, 786, 997, 744, 786, 786, 786)"
      ]
     },
     "execution_count": 47,
     "metadata": {},
     "output_type": "execute_result"
    }
   ],
   "source": [
    "t2*2"
   ]
  },
  {
   "cell_type": "code",
   "execution_count": 48,
   "id": "98b97a01-7721-48d2-9edd-ad318371100e",
   "metadata": {},
   "outputs": [
    {
     "data": {
      "text/plain": [
       "True"
      ]
     },
     "execution_count": 48,
     "metadata": {},
     "output_type": "execute_result"
    }
   ],
   "source": [
    "997 in t2"
   ]
  },
  {
   "cell_type": "code",
   "execution_count": 49,
   "id": "145d3df0-6be4-43f4-b4ea-ac14057c4e84",
   "metadata": {},
   "outputs": [
    {
     "data": {
      "text/plain": [
       "997"
      ]
     },
     "execution_count": 49,
     "metadata": {},
     "output_type": "execute_result"
    }
   ],
   "source": [
    "max(t2)"
   ]
  },
  {
   "cell_type": "code",
   "execution_count": 50,
   "id": "c1d929ba-b246-404d-8b8d-24d6760ab0df",
   "metadata": {},
   "outputs": [
    {
     "data": {
      "text/plain": [
       "'wjsh'"
      ]
     },
     "execution_count": 50,
     "metadata": {},
     "output_type": "execute_result"
    }
   ],
   "source": [
    "t3 = (\"kjwdq\" , \"wjsh\" , \"ouqg\", \"kheq\")\n",
    "max(t3)"
   ]
  },
  {
   "cell_type": "code",
   "execution_count": 51,
   "id": "882a37e2-f11b-4e07-9f29-e25da4e1eb79",
   "metadata": {},
   "outputs": [
    {
     "data": {
      "text/plain": [
       "1"
      ]
     },
     "execution_count": 51,
     "metadata": {},
     "output_type": "execute_result"
    }
   ],
   "source": [
    "t2.index(786)"
   ]
  },
  {
   "cell_type": "code",
   "execution_count": 52,
   "id": "7bd25e14-f066-4991-9cdb-ad67a2e9c640",
   "metadata": {},
   "outputs": [],
   "source": [
    "# only count() and index() funnctions are available for a tuple ."
   ]
  },
  {
   "cell_type": "code",
   "execution_count": 53,
   "id": "cdedecd6-2200-4c1c-a411-bfa33e4472f7",
   "metadata": {},
   "outputs": [
    {
     "data": {
      "text/plain": [
       "4"
      ]
     },
     "execution_count": 53,
     "metadata": {},
     "output_type": "execute_result"
    }
   ],
   "source": [
    "t2.count(786)"
   ]
  },
  {
   "cell_type": "code",
   "execution_count": 54,
   "id": "bc24e679-1541-49a2-b811-2707902becf5",
   "metadata": {},
   "outputs": [
    {
     "ename": "TypeError",
     "evalue": "'<' not supported between instances of 'str' and 'bool'",
     "output_type": "error",
     "traceback": [
      "\u001B[1;31m---------------------------------------------------------------------------\u001B[0m",
      "\u001B[1;31mTypeError\u001B[0m                                 Traceback (most recent call last)",
      "Cell \u001B[1;32mIn[54], line 1\u001B[0m\n\u001B[1;32m----> 1\u001B[0m \u001B[38;5;28mmin\u001B[39m(t1)\n",
      "\u001B[1;31mTypeError\u001B[0m: '<' not supported between instances of 'str' and 'bool'"
     ]
    }
   ],
   "source": [
    "min(t1)"
   ]
  },
  {
   "cell_type": "code",
   "execution_count": 55,
   "id": "2f658ab8-b59b-4897-abbf-6603d72cc772",
   "metadata": {},
   "outputs": [
    {
     "data": {
      "text/plain": [
       "744"
      ]
     },
     "execution_count": 55,
     "metadata": {},
     "output_type": "execute_result"
    }
   ],
   "source": [
    "min(t2)"
   ]
  },
  {
   "cell_type": "code",
   "execution_count": 56,
   "id": "755c4e13-1b53-44ed-bc0b-e519b6c3939d",
   "metadata": {},
   "outputs": [
    {
     "data": {
      "text/plain": [
       "'kheq'"
      ]
     },
     "execution_count": 56,
     "metadata": {},
     "output_type": "execute_result"
    }
   ],
   "source": [
    "min(t3)"
   ]
  },
  {
   "cell_type": "code",
   "execution_count": 57,
   "id": "32da390b-50be-42e4-8c25-b3ccbf81814c",
   "metadata": {},
   "outputs": [],
   "source": [
    "# converting a tuple to a list to use its vast in-built function like insert , find ...."
   ]
  },
  {
   "cell_type": "code",
   "execution_count": 58,
   "id": "e033145d-41e7-43b5-b4d7-117c31916b3e",
   "metadata": {},
   "outputs": [
    {
     "data": {
      "text/plain": [
       "(12, 2.24, True, 'hii')"
      ]
     },
     "execution_count": 58,
     "metadata": {},
     "output_type": "execute_result"
    }
   ],
   "source": [
    "t1"
   ]
  },
  {
   "cell_type": "code",
   "execution_count": 65,
   "id": "48ee8611-6ac7-4523-b4be-b34308c0dead",
   "metadata": {},
   "outputs": [
    {
     "name": "stdout",
     "output_type": "stream",
     "text": [
      "[12, 2.24, True, 'hii']\n"
     ]
    },
    {
     "data": {
      "text/plain": [
       "list"
      ]
     },
     "execution_count": 65,
     "metadata": {},
     "output_type": "execute_result"
    }
   ],
   "source": [
    "LL = list(t1)\n",
    "print(LL)\n",
    "type(LL)"
   ]
  },
  {
   "cell_type": "code",
   "execution_count": 63,
   "id": "18a5dafb-45ee-46d7-8608-6dfb10e32467",
   "metadata": {},
   "outputs": [
    {
     "data": {
      "text/plain": [
       "[12, 2.24, True, 561, 561, 'hii']"
      ]
     },
     "execution_count": 63,
     "metadata": {},
     "output_type": "execute_result"
    }
   ],
   "source": [
    "x = 561\n",
    "LL.insert(-1,x)\n",
    "LL"
   ]
  },
  {
   "cell_type": "code",
   "execution_count": 68,
   "id": "ffaf33bb-d53f-4f63-8fe0-5bd74702c733",
   "metadata": {},
   "outputs": [
    {
     "data": {
      "text/plain": [
       "tuple"
      ]
     },
     "execution_count": 68,
     "metadata": {},
     "output_type": "execute_result"
    }
   ],
   "source": [
    "LL = tuple(LL)\n",
    "type(LL)"
   ]
  },
  {
   "cell_type": "code",
   "execution_count": 82,
   "id": "2956c681-2bee-40af-806c-9c6a85d60c38",
   "metadata": {},
   "outputs": [
    {
     "data": {
      "text/plain": [
       "True"
      ]
     },
     "execution_count": 82,
     "metadata": {},
     "output_type": "execute_result"
    }
   ],
   "source": [
    "T = ((12,32,4,5,6) , (\"sdsf\" ,32 ,\"sdf\") , (2132.32 , 32.44, True) , 23 , 222, 323 ,223 ,[65,45,3,45])\n",
    "T[2][2]"
   ]
  },
  {
   "cell_type": "code",
   "execution_count": 84,
   "id": "10b43067-f640-4311-a76b-58686b921144",
   "metadata": {},
   "outputs": [
    {
     "data": {
      "text/plain": [
       "[65, 45, 3, 45]"
      ]
     },
     "execution_count": 84,
     "metadata": {},
     "output_type": "execute_result"
    }
   ],
   "source": [
    "T[7][0:4]"
   ]
  },
  {
   "cell_type": "code",
   "execution_count": 86,
   "id": "fa1e73a8-9a1f-40d4-91bd-a62870a47ede",
   "metadata": {},
   "outputs": [
    {
     "name": "stdout",
     "output_type": "stream",
     "text": [
      "12\n",
      "sdsf\n",
      "2132.32\n"
     ]
    }
   ],
   "source": [
    "T = ((12,32,4,5,6) , (\"sdsf\" ,32 ,\"sdf\") , (2132.32 , 32.44, True) , 23 , 222, 323 ,223)\n",
    "for i in T :\n",
    "    if type(i) is tuple :\n",
    "        print(i[0])\n"
   ]
  },
  {
   "cell_type": "code",
   "execution_count": 89,
   "id": "a3983a16-04b3-4b4f-8dea-81506d14bb06",
   "metadata": {},
   "outputs": [
    {
     "ename": "NameError",
     "evalue": "name 'T' is not defined",
     "output_type": "error",
     "traceback": [
      "\u001B[1;31m---------------------------------------------------------------------------\u001B[0m",
      "\u001B[1;31mNameError\u001B[0m                                 Traceback (most recent call last)",
      "Cell \u001B[1;32mIn[89], line 1\u001B[0m\n\u001B[1;32m----> 1\u001B[0m \u001B[38;5;28;01mdel\u001B[39;00m(T)\n\u001B[0;32m      2\u001B[0m T\n",
      "\u001B[1;31mNameError\u001B[0m: name 'T' is not defined"
     ]
    }
   ],
   "source": [
    "del(T)\n",
    "T"
   ]
  },
  {
   "cell_type": "code",
   "execution_count": 90,
   "id": "77fbd75a-5750-47c3-bfc9-054f10c73c27",
   "metadata": {},
   "outputs": [],
   "source": [
    "# Sets\n",
    "# unordered collection of unique elements"
   ]
  },
  {
   "cell_type": "code",
   "execution_count": 92,
   "id": "488c82e5-aae6-44ef-8553-a085088a94f6",
   "metadata": {},
   "outputs": [
    {
     "data": {
      "text/plain": [
       "set"
      ]
     },
     "execution_count": 92,
     "metadata": {},
     "output_type": "execute_result"
    }
   ],
   "source": [
    "x = set()\n",
    "type(x)"
   ]
  },
  {
   "cell_type": "code",
   "execution_count": 100,
   "id": "05f4644e-41b5-4f6d-8a41-d72398c3f13b",
   "metadata": {},
   "outputs": [
    {
     "data": {
      "text/plain": [
       "{2, 3, 4, 'Ritesh', 'hello', 'hiii', 'ritesh'}"
      ]
     },
     "execution_count": 100,
     "metadata": {},
     "output_type": "execute_result"
    }
   ],
   "source": [
    "ll = [2,3,4,3,2,3,2,3,3,3,3,\"ritesh\",\"hiii\",\"Ritesh\",\"hello\",\"hiii\",\"ritesh\",\"hello\"]\n",
    "s = set(l)\n",
    "s"
   ]
  },
  {
   "cell_type": "code",
   "execution_count": 101,
   "id": "8069f9c1-c5c2-4bc6-8c3b-85671f58bd76",
   "metadata": {},
   "outputs": [
    {
     "name": "stdout",
     "output_type": "stream",
     "text": [
      "hello\n",
      "2\n",
      "3\n",
      "4\n",
      "Ritesh\n",
      "hiii\n",
      "ritesh\n"
     ]
    }
   ],
   "source": [
    "for i in s :\n",
    "    print(i)"
   ]
  },
  {
   "cell_type": "code",
   "execution_count": 102,
   "id": "2d6bc5a3-04b2-47cc-811e-78d8da908bb4",
   "metadata": {},
   "outputs": [
    {
     "data": {
      "text/plain": [
       "True"
      ]
     },
     "execution_count": 102,
     "metadata": {},
     "output_type": "execute_result"
    }
   ],
   "source": [
    "2 in s"
   ]
  },
  {
   "cell_type": "code",
   "execution_count": 104,
   "id": "786bfa80-5d02-4f94-94db-e372b74ace02",
   "metadata": {},
   "outputs": [
    {
     "ename": "TypeError",
     "evalue": "'set' object is not subscriptable",
     "output_type": "error",
     "traceback": [
      "\u001B[1;31m---------------------------------------------------------------------------\u001B[0m",
      "\u001B[1;31mTypeError\u001B[0m                                 Traceback (most recent call last)",
      "Cell \u001B[1;32mIn[104], line 1\u001B[0m\n\u001B[1;32m----> 1\u001B[0m s[\u001B[38;5;241m0\u001B[39m]\n",
      "\u001B[1;31mTypeError\u001B[0m: 'set' object is not subscriptable"
     ]
    }
   ],
   "source": [
    "s[0] "
   ]
  },
  {
   "cell_type": "code",
   "execution_count": 121,
   "id": "7e1a9c53-6312-45dc-84e2-76f3febe53f9",
   "metadata": {},
   "outputs": [
    {
     "data": {
      "text/plain": [
       "{1, 2, 3, 4, 5, 'Ritesh', 'Swami'}"
      ]
     },
     "execution_count": 121,
     "metadata": {},
     "output_type": "execute_result"
    }
   ],
   "source": [
    "s1 = set()\n",
    "s1.add(1)\n",
    "s1.add(2)\n",
    "s1.add(3)\n",
    "s1.add(4)\n",
    "s1.add(5)\n",
    "s1.add(\"Ritesh\")\n",
    "s1.add(\"Swami\")\n",
    "s1"
   ]
  },
  {
   "cell_type": "code",
   "execution_count": 122,
   "id": "73182a7c-4a00-4320-a36b-65f69c05149c",
   "metadata": {},
   "outputs": [
    {
     "ename": "TypeError",
     "evalue": "unhashable type: 'list'",
     "output_type": "error",
     "traceback": [
      "\u001B[1;31m---------------------------------------------------------------------------\u001B[0m",
      "\u001B[1;31mTypeError\u001B[0m                                 Traceback (most recent call last)",
      "Cell \u001B[1;32mIn[122], line 1\u001B[0m\n\u001B[1;32m----> 1\u001B[0m s1\u001B[38;5;241m.\u001B[39madd([\u001B[38;5;241m9\u001B[39m,\u001B[38;5;241m8\u001B[39m,\u001B[38;5;241m7\u001B[39m])\n",
      "\u001B[1;31mTypeError\u001B[0m: unhashable type: 'list'"
     ]
    }
   ],
   "source": [
    "s1.add([9,8,7])"
   ]
  },
  {
   "cell_type": "code",
   "execution_count": 123,
   "id": "cc34efeb-2a48-4ac0-9464-acb822039dfd",
   "metadata": {},
   "outputs": [],
   "source": [
    "# since set requires flat data for comparison of unique elements so list can't be added directly , firstly separate each element and then add ."
   ]
  },
  {
   "cell_type": "code",
   "execution_count": 124,
   "id": "826af8bf-78e7-420a-b6a0-adc89f46e99f",
   "metadata": {},
   "outputs": [
    {
     "data": {
      "text/plain": [
       "{1, 2, 3, 4, 'Ritesh', 'Swami'}"
      ]
     },
     "execution_count": 124,
     "metadata": {},
     "output_type": "execute_result"
    }
   ],
   "source": [
    "s1.remove(5)\n",
    "s1"
   ]
  },
  {
   "cell_type": "code",
   "execution_count": 125,
   "id": "a7ebd7af-99f6-4658-8d2e-14dc6445e5a0",
   "metadata": {},
   "outputs": [
    {
     "data": {
      "text/plain": [
       "True"
      ]
     },
     "execution_count": 125,
     "metadata": {},
     "output_type": "execute_result"
    }
   ],
   "source": [
    "4 in s1"
   ]
  },
  {
   "cell_type": "code",
   "execution_count": 126,
   "id": "224393da-bb85-4041-b91c-c61f8184f3d3",
   "metadata": {},
   "outputs": [],
   "source": [
    "s.clear()"
   ]
  },
  {
   "cell_type": "code",
   "execution_count": 127,
   "id": "877e0ab0-2e29-4753-96f8-b12f15e144f2",
   "metadata": {},
   "outputs": [
    {
     "data": {
      "text/plain": [
       "set()"
      ]
     },
     "execution_count": 127,
     "metadata": {},
     "output_type": "execute_result"
    }
   ],
   "source": [
    "s"
   ]
  },
  {
   "cell_type": "code",
   "execution_count": 137,
   "id": "37bd6411-4a4d-4349-b8a2-89dc1272eff3",
   "metadata": {},
   "outputs": [
    {
     "ename": "TypeError",
     "evalue": "unsupported operand type(s) for +: 'set' and 'set'",
     "output_type": "error",
     "traceback": [
      "\u001B[1;31m---------------------------------------------------------------------------\u001B[0m",
      "\u001B[1;31mTypeError\u001B[0m                                 Traceback (most recent call last)",
      "Cell \u001B[1;32mIn[137], line 19\u001B[0m\n\u001B[0;32m     16\u001B[0m s1\u001B[38;5;241m.\u001B[39madd(\u001B[38;5;124m\"\u001B[39m\u001B[38;5;124mR\u001B[39m\u001B[38;5;124m\"\u001B[39m)\n\u001B[0;32m     17\u001B[0m s1\u001B[38;5;241m.\u001B[39madd(\u001B[38;5;124m\"\u001B[39m\u001B[38;5;124mS\u001B[39m\u001B[38;5;124m\"\u001B[39m)\n\u001B[1;32m---> 19\u001B[0m s1 \u001B[38;5;241m+\u001B[39m s2\n",
      "\u001B[1;31mTypeError\u001B[0m: unsupported operand type(s) for +: 'set' and 'set'"
     ]
    }
   ],
   "source": [
    "s2 = set()\n",
    "s2.add(13)\n",
    "s2.add(254)\n",
    "s2.add(36)\n",
    "s2.add(42)\n",
    "s2.add(51)\n",
    "s2.add(\"Ritesh\")\n",
    "s2.add(\"Swami\")\n",
    "\n",
    "s1 = set()\n",
    "s1.add(1)\n",
    "s1.add(2)\n",
    "s1.add(3)\n",
    "s1.add(4)\n",
    "s1.add(5)\n",
    "s1.add(\"R\")\n",
    "s1.add(\"S\")\n",
    "\n",
    "s1 + s2\n"
   ]
  },
  {
   "cell_type": "code",
   "execution_count": 138,
   "id": "7cc02709-1c31-469d-88f7-2439b53bde3e",
   "metadata": {},
   "outputs": [
    {
     "ename": "TypeError",
     "evalue": "unsupported operand type(s) for *: 'set' and 'int'",
     "output_type": "error",
     "traceback": [
      "\u001B[1;31m---------------------------------------------------------------------------\u001B[0m",
      "\u001B[1;31mTypeError\u001B[0m                                 Traceback (most recent call last)",
      "Cell \u001B[1;32mIn[138], line 1\u001B[0m\n\u001B[1;32m----> 1\u001B[0m s2\u001B[38;5;241m*\u001B[39m\u001B[38;5;241m3\u001B[39m\n",
      "\u001B[1;31mTypeError\u001B[0m: unsupported operand type(s) for *: 'set' and 'int'"
     ]
    }
   ],
   "source": [
    "s2*3"
   ]
  },
  {
   "cell_type": "code",
   "execution_count": 141,
   "id": "363d6fa2-99f0-48b4-b9b1-5fcf3f839c9f",
   "metadata": {},
   "outputs": [
    {
     "data": {
      "text/plain": [
       "[36, 42, 13, 'Swami', 51, 'Ritesh', 254]"
      ]
     },
     "execution_count": 141,
     "metadata": {},
     "output_type": "execute_result"
    }
   ],
   "source": [
    "l5 = list(s2)\n",
    "l5"
   ]
  },
  {
   "cell_type": "code",
   "execution_count": 142,
   "id": "8631405c-983c-4903-a90b-7ec4c2278769",
   "metadata": {},
   "outputs": [
    {
     "data": {
      "text/plain": [
       "[36, 42, 13, 'Swami', 51, 'Ritesh', 254, 13]"
      ]
     },
     "execution_count": 142,
     "metadata": {},
     "output_type": "execute_result"
    }
   ],
   "source": [
    "l5.append(13)\n",
    "l5"
   ]
  },
  {
   "cell_type": "code",
   "execution_count": 143,
   "id": "2f930b95-0e10-447f-aa4d-6da91c65489f",
   "metadata": {},
   "outputs": [
    {
     "data": {
      "text/plain": [
       "(36, 42, 13, 'Swami', 51, 'Ritesh', 254)"
      ]
     },
     "execution_count": 143,
     "metadata": {},
     "output_type": "execute_result"
    }
   ],
   "source": [
    "t5 = tuple(s2)\n",
    "t5"
   ]
  },
  {
   "cell_type": "code",
   "execution_count": 144,
   "id": "8fde80ab-b649-4e4e-be86-a9a5d092b7df",
   "metadata": {},
   "outputs": [],
   "source": [
    "# Dictionary\n",
    "# it stores data in the form of key value pair ."
   ]
  },
  {
   "cell_type": "code",
   "execution_count": 145,
   "id": "6fcf1dfb-1d73-4e8f-83b2-40e320e047ab",
   "metadata": {},
   "outputs": [
    {
     "data": {
      "text/plain": [
       "dict"
      ]
     },
     "execution_count": 145,
     "metadata": {},
     "output_type": "execute_result"
    }
   ],
   "source": [
    "x = {}\n",
    "type(x)"
   ]
  },
  {
   "cell_type": "code",
   "execution_count": 146,
   "id": "67903264-ca25-4d5d-8a09-804980de8f5f",
   "metadata": {},
   "outputs": [
    {
     "data": {
      "text/plain": [
       "set"
      ]
     },
     "execution_count": 146,
     "metadata": {},
     "output_type": "execute_result"
    }
   ],
   "source": [
    "y = {12,32,32}\n",
    "type(y)"
   ]
  },
  {
   "cell_type": "code",
   "execution_count": 1,
   "id": "acbef00d-dff7-452d-8248-2e092afb114c",
   "metadata": {},
   "outputs": [],
   "source": [
    "# so \"{}\" is used to represent both a dictionary and a set , by default it is a dictionary (when {} are empty ) . "
   ]
  },
  {
   "cell_type": "code",
   "execution_count": 41,
   "id": "520b030d-e65f-4193-bcb1-e95e9db3e2a7",
   "metadata": {},
   "outputs": [
    {
     "name": "stdout",
     "output_type": "stream",
     "text": [
      "{'Name': 'Rishu', 'Subject': 'Python', True: 1, 355: 675, 786.79: 865, 45: {75, 867, 7}, 67: (64, 757, 675, 86), 'yrftyd': [4, 5, 97, 75], 5656: {1: 'asa', 'ead': 'adad', 131.12: [1, 2, 3, 4, 5, 9, 8]}}\n",
      "<class 'dict'>\n"
     ]
    }
   ],
   "source": [
    "x = {\"Name\" : \"Ritesh\" , \"Subject\" : \"Python\" , True : 1 , 355 : 675 , 786.79 : 865 , \"Name\" : \"Rishu\" , 45 : {75, 75 ,867 ,7} , 67 : (64 , 757, 675,86) , \"yrftyd\" : [4,5,97,75] , 5656 : {1 : \"asa\" , \"ead\" : \"adad\" , 131.12 : [1,2,3,4,5,9,8]}}\n",
    "print(x)\n",
    "print(type(x))"
   ]
  },
  {
   "cell_type": "code",
   "execution_count": 42,
   "id": "97834891-2494-48bd-8d04-4202646f24ef",
   "metadata": {},
   "outputs": [],
   "source": [
    "# so the key can be string , char , int , float , boolean .\n",
    "# since key is always unique so in case of repeatition the key will update its value with the latest one (rightmost)\n",
    "# a value can be  string , char , int , float , boolean , list , tuple , set and dictionary ."
   ]
  },
  {
   "cell_type": "code",
   "execution_count": 43,
   "id": "06a5d0f7-3be0-4fe1-a15d-ce06d907f61a",
   "metadata": {},
   "outputs": [
    {
     "name": "stdout",
     "output_type": "stream",
     "text": [
      "{'{\"dataframes\": [], \"user\": \"RITESH\"}': 'Python'}\n"
     ]
    }
   ],
   "source": [
    "x1 = { _31: \"Python\" }\n",
    "#x2 = { $: \"Python\" }\n",
    "print(x1)\n",
    "#print(x2)"
   ]
  },
  {
   "cell_type": "code",
   "execution_count": 44,
   "id": "f51773d0-2f3a-4727-94e8-dc296b8ffeab",
   "metadata": {},
   "outputs": [],
   "source": [
    "# so the key can't be an special character  ,  list . \n",
    "# tuples can be used as a key ."
   ]
  },
  {
   "cell_type": "code",
   "execution_count": 45,
   "id": "aaaffde6-e65c-41df-b111-7ffe85bd0c21",
   "metadata": {},
   "outputs": [
    {
     "data": {
      "text/plain": [
       "4"
      ]
     },
     "execution_count": 45,
     "metadata": {},
     "output_type": "execute_result"
    }
   ],
   "source": [
    "l = [1,2,4,5,6]\n",
    "l[2]"
   ]
  },
  {
   "cell_type": "code",
   "execution_count": 46,
   "id": "b32436f8-9235-4b8f-b0d6-f92693cae060",
   "metadata": {},
   "outputs": [
    {
     "data": {
      "text/plain": [
       "'Rishu'"
      ]
     },
     "execution_count": 46,
     "metadata": {},
     "output_type": "execute_result"
    }
   ],
   "source": [
    "x[\"Name\"]"
   ]
  },
  {
   "cell_type": "code",
   "execution_count": 47,
   "id": "31708e36-c2c6-4787-a32d-9a857c588ee1",
   "metadata": {},
   "outputs": [
    {
     "data": {
      "text/plain": [
       "'Python'"
      ]
     },
     "execution_count": 47,
     "metadata": {},
     "output_type": "execute_result"
    }
   ],
   "source": [
    "x[\"Subject\"]"
   ]
  },
  {
   "cell_type": "code",
   "execution_count": 48,
   "id": "d3cb7c6f-d450-4f3c-ac89-07b6814f1622",
   "metadata": {},
   "outputs": [
    {
     "data": {
      "text/plain": [
       "86"
      ]
     },
     "execution_count": 48,
     "metadata": {},
     "output_type": "execute_result"
    }
   ],
   "source": [
    "# Question\n",
    "# extract 86 from the value whose key is 67 and value is an tuple .\n",
    "x[67][3]\n"
   ]
  },
  {
   "cell_type": "code",
   "execution_count": 51,
   "id": "581d1d6c-1c25-44f1-b5a7-a5c7e6a5338c",
   "metadata": {},
   "outputs": [
    {
     "data": {
      "text/plain": [
       "9"
      ]
     },
     "execution_count": 51,
     "metadata": {},
     "output_type": "execute_result"
    }
   ],
   "source": [
    "x[5656][131.12][5]"
   ]
  },
  {
   "cell_type": "code",
   "execution_count": 52,
   "id": "5ac88851-6d14-447b-baab-271daae7c3c7",
   "metadata": {},
   "outputs": [
    {
     "ename": "TypeError",
     "evalue": "unsupported operand type(s) for +: 'dict' and 'dict'",
     "output_type": "error",
     "traceback": [
      "\u001B[1;31m---------------------------------------------------------------------------\u001B[0m",
      "\u001B[1;31mTypeError\u001B[0m                                 Traceback (most recent call last)",
      "Cell \u001B[1;32mIn[52], line 3\u001B[0m\n\u001B[0;32m      1\u001B[0m p \u001B[38;5;241m=\u001B[39m {\u001B[38;5;124m\"\u001B[39m\u001B[38;5;124ma\u001B[39m\u001B[38;5;124m\"\u001B[39m : \u001B[38;5;241m323\u001B[39m , \u001B[38;5;124m\"\u001B[39m\u001B[38;5;124mb\u001B[39m\u001B[38;5;124m\"\u001B[39m : \u001B[38;5;241m31\u001B[39m , \u001B[38;5;124m\"\u001B[39m\u001B[38;5;124mc\u001B[39m\u001B[38;5;124m\"\u001B[39m : \u001B[38;5;241m231\u001B[39m}\n\u001B[0;32m      2\u001B[0m q \u001B[38;5;241m=\u001B[39m {\u001B[38;5;241m3\u001B[39m : \u001B[38;5;241m333\u001B[39m , \u001B[38;5;124m\"\u001B[39m\u001B[38;5;124mboy\u001B[39m\u001B[38;5;124m\"\u001B[39m : \u001B[38;5;241m5631\u001B[39m , \u001B[38;5;124m\"\u001B[39m\u001B[38;5;124mcat\u001B[39m\u001B[38;5;124m\"\u001B[39m : \u001B[38;5;241m2231\u001B[39m}\n\u001B[1;32m----> 3\u001B[0m p\u001B[38;5;241m+\u001B[39mq\n",
      "\u001B[1;31mTypeError\u001B[0m: unsupported operand type(s) for +: 'dict' and 'dict'"
     ]
    }
   ],
   "source": [
    "p = {\"a\" : 323 , \"b\" : 31 , \"c\" : 231}\n",
    "q = {3 : 333 , \"boy\" : 5631 , \"cat\" : 2231}\n",
    "p+q"
   ]
  },
  {
   "cell_type": "code",
   "execution_count": 54,
   "id": "33072ab5-9597-4efc-857f-d86432b90961",
   "metadata": {},
   "outputs": [
    {
     "ename": "TypeError",
     "evalue": "unsupported operand type(s) for *: 'dict' and 'int'",
     "output_type": "error",
     "traceback": [
      "\u001B[1;31m---------------------------------------------------------------------------\u001B[0m",
      "\u001B[1;31mTypeError\u001B[0m                                 Traceback (most recent call last)",
      "Cell \u001B[1;32mIn[54], line 1\u001B[0m\n\u001B[1;32m----> 1\u001B[0m p\u001B[38;5;241m*\u001B[39m\u001B[38;5;241m3\u001B[39m\n",
      "\u001B[1;31mTypeError\u001B[0m: unsupported operand type(s) for *: 'dict' and 'int'"
     ]
    }
   ],
   "source": [
    "p*3\n",
    "# doesn't work since keys are always unique ."
   ]
  },
  {
   "cell_type": "code",
   "execution_count": 55,
   "id": "d0e52785-1f51-4d70-a9c7-d02cdb4c7d0b",
   "metadata": {},
   "outputs": [
    {
     "data": {
      "text/plain": [
       "{'a': 323, 'b': 31, 'c': 231}"
      ]
     },
     "execution_count": 55,
     "metadata": {},
     "output_type": "execute_result"
    }
   ],
   "source": [
    "p"
   ]
  },
  {
   "cell_type": "code",
   "execution_count": 62,
   "id": "36288486-0f77-4de7-94c6-98f0c7d2c876",
   "metadata": {},
   "outputs": [
    {
     "data": {
      "text/plain": [
       "{'a': 200, 'b': 6000, 'c': 'Ritesh'}"
      ]
     },
     "execution_count": 62,
     "metadata": {},
     "output_type": "execute_result"
    }
   ],
   "source": [
    "p[\"c\"] = \"Ritesh\"\n",
    "p[\"b\"] = 6000\n",
    "p[\"a\"] -= 123\n",
    "p"
   ]
  },
  {
   "cell_type": "code",
   "execution_count": 63,
   "id": "2c39671d-1c70-46f2-a0d0-4a86cbd0dd04",
   "metadata": {},
   "outputs": [],
   "source": [
    "# so dictionary is an mutable entity ."
   ]
  },
  {
   "cell_type": "code",
   "execution_count": 64,
   "id": "67906ac0-7854-44ea-b05b-11f7d37f3001",
   "metadata": {},
   "outputs": [
    {
     "data": {
      "text/plain": [
       "dict_keys(['a', 'b', 'c'])"
      ]
     },
     "execution_count": 64,
     "metadata": {},
     "output_type": "execute_result"
    }
   ],
   "source": [
    "p.keys()"
   ]
  },
  {
   "cell_type": "code",
   "execution_count": 65,
   "id": "255abcaf-7f9b-4621-9e53-e25ae84591a4",
   "metadata": {},
   "outputs": [
    {
     "data": {
      "text/plain": [
       "True"
      ]
     },
     "execution_count": 65,
     "metadata": {},
     "output_type": "execute_result"
    }
   ],
   "source": [
    "\"a\" in p.keys()"
   ]
  },
  {
   "cell_type": "code",
   "execution_count": 66,
   "id": "5f7d7715-07c8-4752-9678-35dd5728a54f",
   "metadata": {},
   "outputs": [
    {
     "name": "stdout",
     "output_type": "stream",
     "text": [
      "a\n",
      "b\n",
      "c\n"
     ]
    }
   ],
   "source": [
    "for i in p :\n",
    "    print(i)"
   ]
  },
  {
   "cell_type": "code",
   "execution_count": 67,
   "id": "7ef3c419-8597-4b2f-8633-8ff8ba30400d",
   "metadata": {},
   "outputs": [],
   "source": [
    "# its only giving us the keys ."
   ]
  },
  {
   "cell_type": "code",
   "execution_count": 68,
   "id": "78dd9c23-04db-4992-9478-f9b6658684d4",
   "metadata": {},
   "outputs": [
    {
     "name": "stdout",
     "output_type": "stream",
     "text": [
      "200\n",
      "6000\n",
      "Ritesh\n"
     ]
    }
   ],
   "source": [
    "for i in p.keys() :\n",
    "    print(p[i])"
   ]
  },
  {
   "cell_type": "code",
   "execution_count": 69,
   "id": "aa139988-0029-4ba3-bcee-98adf0ae77b3",
   "metadata": {},
   "outputs": [
    {
     "name": "stdout",
     "output_type": "stream",
     "text": [
      "Rishu\n",
      "Python\n",
      "1\n",
      "675\n",
      "865\n",
      "{75, 867, 7}\n",
      "(64, 757, 675, 86)\n",
      "[4, 5, 97, 75]\n",
      "{1: 'asa', 'ead': 'adad', 131.12: [1, 2, 3, 4, 5, 9, 8]}\n"
     ]
    }
   ],
   "source": [
    "for i in x.keys() :\n",
    "    print(x[i])"
   ]
  },
  {
   "cell_type": "code",
   "execution_count": 71,
   "id": "a8963d9a-ece3-4575-a0e0-f0fd30a4b258",
   "metadata": {},
   "outputs": [
    {
     "name": "stdout",
     "output_type": "stream",
     "text": [
      "<class 'str'>\n",
      "<class 'str'>\n",
      "<class 'int'>\n",
      "<class 'int'>\n",
      "<class 'int'>\n",
      "<class 'set'>\n",
      "<class 'tuple'>\n",
      "<class 'list'>\n",
      "<class 'dict'>\n"
     ]
    }
   ],
   "source": [
    "for i in x.keys() :\n",
    "    print(type(x[i]))"
   ]
  },
  {
   "cell_type": "code",
   "execution_count": 74,
   "id": "a6dd9d9b-fb3f-4869-9be7-73e7d1e56afa",
   "metadata": {},
   "outputs": [
    {
     "data": {
      "text/plain": [
       "dict_items([('Name', 'Rishu'), ('Subject', 'Python'), (True, 1), (355, 675), (786.79, 865), (45, {75, 867, 7}), (67, (64, 757, 675, 86)), ('yrftyd', [4, 5, 97, 75]), (5656, {1: 'asa', 'ead': 'adad', 131.12: [1, 2, 3, 4, 5, 9, 8]})])"
      ]
     },
     "execution_count": 74,
     "metadata": {},
     "output_type": "execute_result"
    }
   ],
   "source": [
    "x.items()"
   ]
  },
  {
   "cell_type": "code",
   "execution_count": 76,
   "id": "c9a4616c-d53b-40b4-83ad-b17ef0bc60e3",
   "metadata": {},
   "outputs": [
    {
     "name": "stdout",
     "output_type": "stream",
     "text": [
      "Name\n",
      "Subject\n",
      "True\n",
      "355\n",
      "786.79\n",
      "45\n",
      "67\n",
      "yrftyd\n",
      "5656\n"
     ]
    }
   ],
   "source": [
    "# extracting the keys from this list of tuples of key value pair .\n",
    "for i in x.items() :\n",
    "    print(i[0])"
   ]
  },
  {
   "cell_type": "code",
   "execution_count": 78,
   "id": "35018b38-0372-43f6-9b9e-a82ba06b9c1a",
   "metadata": {},
   "outputs": [
    {
     "data": {
      "text/plain": [
       "'adef'"
      ]
     },
     "execution_count": 78,
     "metadata": {},
     "output_type": "execute_result"
    }
   ],
   "source": [
    "d = {(1,2,3,4,5) : \"adef\"}\n",
    "d[(1,2,3,4,5)]"
   ]
  },
  {
   "cell_type": "code",
   "execution_count": 80,
   "id": "8a509be0-2a33-4635-885d-415f91b40c44",
   "metadata": {},
   "outputs": [
    {
     "data": {
      "text/plain": [
       "9"
      ]
     },
     "execution_count": 80,
     "metadata": {},
     "output_type": "execute_result"
    }
   ],
   "source": [
    "len(x)"
   ]
  },
  {
   "cell_type": "code",
   "execution_count": null,
   "id": "04c74459-5c47-4a4d-87ff-385774797608",
   "metadata": {},
   "outputs": [],
   "source": [
    "# Question\n",
    "# take a long para input then covert it into a list of words .\n",
    "# remove all the duplicates then use these distinct elements as a key for dictionary \n",
    "# assign your name as value for all the keys in the dictionary\n",
    "# print tuple of all the values .\n",
    "# print list of all keys "
   ]
  },
  {
   "cell_type": "code",
   "execution_count": 2,
   "id": "404a838f-c6a2-4ae0-b07c-483abd39acf4",
   "metadata": {},
   "outputs": [
    {
     "name": "stdout",
     "output_type": "stream",
     "text": [
      "Enter a paragraph :  hi hey hi hey how are you how hey their now what now\n"
     ]
    },
    {
     "name": "stdout",
     "output_type": "stream",
     "text": [
      "('how', 'are', 'hey', 'now', 'what', 'their', 'hi', 'you')\n",
      "['Ritesh', 'Ritesh', 'Ritesh', 'Ritesh', 'Ritesh', 'Ritesh', 'Ritesh', 'Ritesh']\n"
     ]
    }
   ],
   "source": [
    "para = input(\"Enter a paragraph : \")\n",
    "\n",
    "lst1 = para.split(\" \")\n",
    "s1 = set(lst1)\n",
    "dic1 = dict.fromkeys(s1,\"Ritesh\")\n",
    "t1 = tuple(dic1.keys())\n",
    "l1 = list(dic1.values())\n",
    "print(t1)\n",
    "print(l1)\n",
    "\n"
   ]
  },
  {
   "cell_type": "code",
   "execution_count": 5,
   "id": "1c38f9a0-b7cc-4964-a2fe-226b831dbdee",
   "metadata": {},
   "outputs": [
    {
     "name": "stdout",
     "output_type": "stream",
     "text": [
      "{'name': 'Ritesh', 'year': 2026}\n"
     ]
    }
   ],
   "source": [
    "d = {\"name\" : \"Ritesh\" , \"year\" : 2025}\n",
    "for i in d :\n",
    "    if i == \"year\" :\n",
    "        if d[i] > 2025 :\n",
    "            print(\"year is fine !\")\n",
    "        else :\n",
    "            d[i] = 2026\n",
    "\n",
    "print(d)"
   ]
  },
  {
   "cell_type": "code",
   "execution_count": 6,
   "id": "72dbadb2-41d0-4085-b4ba-8de6c122138a",
   "metadata": {},
   "outputs": [],
   "source": [
    "# Dictionary Comprehension"
   ]
  },
  {
   "cell_type": "code",
   "execution_count": 7,
   "id": "e2293054-5a64-454d-8907-1dd31c2e1a3d",
   "metadata": {},
   "outputs": [
    {
     "data": {
      "text/plain": [
       "{0: 0, 1: 1, 2: 4, 3: 9, 4: 16, 5: 25, 6: 36, 7: 49, 8: 64, 9: 81}"
      ]
     },
     "execution_count": 7,
     "metadata": {},
     "output_type": "execute_result"
    }
   ],
   "source": [
    "d = {}\n",
    "for i in range(10) :\n",
    "    d[i] = i*i\n",
    "d"
   ]
  },
  {
   "cell_type": "code",
   "execution_count": 8,
   "id": "b2b004d6-8950-40c0-86e4-d21c7229d67f",
   "metadata": {},
   "outputs": [
    {
     "data": {
      "text/plain": [
       "{0: 0, 1: 1, 2: 4, 3: 9, 4: 16, 5: 25, 6: 36, 7: 49, 8: 64, 9: 81}"
      ]
     },
     "execution_count": 8,
     "metadata": {},
     "output_type": "execute_result"
    }
   ],
   "source": [
    "{i : i*i for i in range(10)}"
   ]
  },
  {
   "cell_type": "code",
   "execution_count": 9,
   "id": "26348f97-937a-411c-9443-5d5787c8869d",
   "metadata": {},
   "outputs": [
    {
     "data": {
      "text/plain": [
       "{0: 0, 2: 4, 4: 16, 6: 36, 8: 64}"
      ]
     },
     "execution_count": 9,
     "metadata": {},
     "output_type": "execute_result"
    }
   ],
   "source": [
    "{i : i*i for i in range(0,10,2)}"
   ]
  },
  {
   "cell_type": "code",
   "execution_count": null,
   "id": "18b52179-3541-44f7-9dce-187ab9af4688",
   "metadata": {},
   "outputs": [],
   "source": []
  }
 ],
 "metadata": {
  "kernelspec": {
   "display_name": "Python 3",
   "language": "python",
   "name": "python3"
  },
  "language_info": {
   "codemirror_mode": {
    "name": "ipython",
    "version": 3
   },
   "file_extension": ".py",
   "mimetype": "text/x-python",
   "name": "python",
   "nbconvert_exporter": "python",
   "pygments_lexer": "ipython3",
   "version": "3.13.7"
  }
 },
 "nbformat": 4,
 "nbformat_minor": 5
}
