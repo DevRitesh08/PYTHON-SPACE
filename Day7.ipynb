{
 "cells": [
  {
   "cell_type": "markdown",
   "id": "3abc63ff-d449-4fa2-99d2-890348ef423d",
   "metadata": {},
   "source": [
    "# Logging and Debugging"
   ]
  },
  {
   "cell_type": "markdown",
   "id": "4f90abfa-edd2-437a-8f13-8665626bcf4f",
   "metadata": {},
   "source": [
    "## Logging"
   ]
  },
  {
   "cell_type": "code",
   "execution_count": 25,
   "id": "78b3960c-e106-4ac6-95e5-3b9863618e8b",
   "metadata": {},
   "outputs": [],
   "source": [
    "import logging as lg"
   ]
  },
  {
   "cell_type": "code",
   "execution_count": 26,
   "id": "b1a59c07-4af5-48ff-863f-6a1e7471d6bf",
   "metadata": {},
   "outputs": [],
   "source": [
    "import os"
   ]
  },
  {
   "cell_type": "code",
   "execution_count": 27,
   "id": "1aa2b997-1e2c-4442-a438-c8ea65239049",
   "metadata": {},
   "outputs": [],
   "source": [
    "os.mkdir(\"logging\")"
   ]
  },
  {
   "cell_type": "code",
   "execution_count": 28,
   "id": "d6956ca6-2253-42ba-8590-2c6096a6fb87",
   "metadata": {},
   "outputs": [],
   "source": [
    "os.chdir(os.getcwd() + \"/logging\")"
   ]
  },
  {
   "cell_type": "code",
   "execution_count": 29,
   "id": "65f063d1-d78f-4368-bd02-0e5f330d9169",
   "metadata": {
    "scrolled": true
   },
   "outputs": [
    {
     "data": {
      "text/plain": [
       "'C:\\\\Users\\\\RITESH\\\\PYTHON SPACE\\\\logging\\\\logging'"
      ]
     },
     "execution_count": 29,
     "metadata": {},
     "output_type": "execute_result"
    }
   ],
   "source": [
    "pwd()"
   ]
  },
  {
   "cell_type": "code",
   "execution_count": 30,
   "id": "c0460c95-7878-46ed-81f4-22add54d478e",
   "metadata": {},
   "outputs": [],
   "source": [
    "lg.basicConfig(filename = \"test.log\" , level = lg.INFO , format = '%(asctime)s %(message)s')"
   ]
  },
  {
   "cell_type": "code",
   "execution_count": 31,
   "id": "ebbe755d-5c42-49d2-b039-58f46a119020",
   "metadata": {},
   "outputs": [],
   "source": [
    "lg.info(\"i am going to start my program \")"
   ]
  },
  {
   "cell_type": "code",
   "execution_count": 32,
   "id": "2d4b6e51-ed22-4249-8498-fde2bef54c0c",
   "metadata": {},
   "outputs": [
    {
     "name": "stderr",
     "output_type": "stream",
     "text": [
      "WARNING:root:my first warning of program \n",
      "%(asctime)s %(levelname)s %(message)s\n",
      "%(asctime)s %(levelname)s %(message)s\n"
     ]
    }
   ],
   "source": [
    "lg.warning(\"my first warning of program \")"
   ]
  },
  {
   "cell_type": "code",
   "execution_count": 33,
   "id": "d919e6b6-199b-4657-acd5-a095a92d3eff",
   "metadata": {},
   "outputs": [
    {
     "name": "stderr",
     "output_type": "stream",
     "text": [
      "ERROR:root:aah this is my first error of program\n",
      "%(asctime)s %(levelname)s %(message)s\n",
      "%(asctime)s %(levelname)s %(message)s\n"
     ]
    }
   ],
   "source": [
    "lg.error(\"aah this is my first error of program\")"
   ]
  },
  {
   "cell_type": "code",
   "execution_count": 34,
   "id": "4672564d-89bc-4102-906a-e3c6e3f3b5dc",
   "metadata": {},
   "outputs": [],
   "source": [
    "def test(a,b) :\n",
    "\n",
    "    try :\n",
    "        lg.info(str(a)+str(b))\n",
    "        div = a / b\n",
    "        return div\n",
    "\n",
    "    except Exception as e :\n",
    "        print(\"you can check your log for more info if your code will fail\")\n",
    "        lg.error(\"Error as occured \")\n",
    "        lg.exception(str(e))"
   ]
  },
  {
   "cell_type": "code",
   "execution_count": 35,
   "id": "82245257-4c90-40eb-8353-e547befca3de",
   "metadata": {},
   "outputs": [
    {
     "name": "stderr",
     "output_type": "stream",
     "text": [
      "ERROR:root:Error as occured \n",
      "%(asctime)s %(levelname)s %(message)s\n",
      "%(asctime)s %(levelname)s %(message)s\n",
      "ERROR:root:division by zero\n",
      "Traceback (most recent call last):\n",
      "  File \"C:\\Users\\RITESH\\AppData\\Local\\Temp\\ipykernel_19136\\3950754728.py\", line 5, in test\n",
      "    div = a / b\n",
      "          ~~^~~\n",
      "ZeroDivisionError: division by zero\n",
      "%(asctime)s %(levelname)s %(message)s\n",
      "%(asctime)s %(levelname)s %(message)s\n"
     ]
    },
    {
     "name": "stdout",
     "output_type": "stream",
     "text": [
      "you can check your log for more info if your code will fail\n"
     ]
    }
   ],
   "source": [
    "test(34,0)"
   ]
  },
  {
   "cell_type": "code",
   "execution_count": 36,
   "id": "769b30bd-208d-46e9-99e7-94aef88e305a",
   "metadata": {},
   "outputs": [],
   "source": [
    "import logging as lg\n",
    "lg.basicConfig(filename='C:\\\\Users\\\\RITESH\\\\PYTHON SPACE\\\\logging\\\\test1.log' , level = lg.INFO)\n",
    "def test(a,b):\n",
    "    lg.info(\"this is the start of the function\")\n",
    "    return a+b"
   ]
  },
  {
   "cell_type": "code",
   "execution_count": 37,
   "id": "b8cd78da-ff78-4a64-b7d6-8bfea2d4141b",
   "metadata": {},
   "outputs": [
    {
     "data": {
      "text/plain": [
       "215"
      ]
     },
     "execution_count": 37,
     "metadata": {},
     "output_type": "execute_result"
    }
   ],
   "source": [
    "test(213,2)"
   ]
  },
  {
   "cell_type": "code",
   "execution_count": 38,
   "id": "3b8a0e4c-6a2b-4f1e-9be8-39d850c8cfc0",
   "metadata": {},
   "outputs": [
    {
     "data": {
      "text/plain": [
       "18"
      ]
     },
     "execution_count": 38,
     "metadata": {},
     "output_type": "execute_result"
    }
   ],
   "source": [
    "test(13,5)"
   ]
  },
  {
   "cell_type": "code",
   "execution_count": 39,
   "id": "65263202-7ad5-445a-81c4-e763000fbf6e",
   "metadata": {},
   "outputs": [],
   "source": [
    "# we never write print() in industry level projects ."
   ]
  },
  {
   "cell_type": "code",
   "execution_count": 40,
   "id": "2a20e33b-3f8c-4fc2-a745-12e7b9818fcc",
   "metadata": {},
   "outputs": [],
   "source": [
    "lg.shutdown()"
   ]
  },
  {
   "cell_type": "code",
   "execution_count": 41,
   "id": "801215db-90d9-4cf4-acd6-055852d642e0",
   "metadata": {},
   "outputs": [
    {
     "name": "stderr",
     "output_type": "stream",
     "text": [
      "WARNING:root:this is my warning log\n",
      "%(asctime)s %(levelname)s %(message)s\n",
      "%(asctime)s %(levelname)s %(message)s\n",
      "ERROR:root:this is my error log\n",
      "%(asctime)s %(levelname)s %(message)s\n",
      "%(asctime)s %(levelname)s %(message)s\n",
      "ERROR:root:this is my exception log\n",
      "NoneType: None\n",
      "%(asctime)s %(levelname)s %(message)s\n",
      "%(asctime)s %(levelname)s %(message)s\n",
      "CRITICAL:root:this is my critical log\n",
      "%(asctime)s %(levelname)s %(message)s\n",
      "%(asctime)s %(levelname)s %(message)s\n"
     ]
    }
   ],
   "source": [
    "lg.debug(\"this is my debugging log\")\n",
    "lg.info(\"this is my info log\")\n",
    "lg.warning(\"this is my warning log\")\n",
    "lg.error(\"this is my error log\")\n",
    "lg.exception(\"this is my exception log\")\n",
    "lg.critical(\"this is my critical log\")"
   ]
  },
  {
   "cell_type": "code",
   "execution_count": 51,
   "id": "ee8a824c-47fd-4959-8a7e-d79509907cda",
   "metadata": {},
   "outputs": [
    {
     "data": {
      "text/plain": [
       "'C:\\\\Users\\\\RITESH\\\\PYTHON SPACE\\\\logging'"
      ]
     },
     "execution_count": 51,
     "metadata": {},
     "output_type": "execute_result"
    }
   ],
   "source": [
    "import os\n",
    "os.chdir(\"C:\\\\Users\\\\RITESH\\\\PYTHON SPACE\" + \"\\\\logging\")\n",
    "os.getcwd()\n"
   ]
  },
  {
   "cell_type": "code",
   "execution_count": 52,
   "id": "f4a42a80-fbd9-42a6-940a-31504768f05b",
   "metadata": {},
   "outputs": [
    {
     "name": "stdout",
     "output_type": "stream",
     "text": [
      "INFO:numexpr.utils:Note: NumExpr detected 12 cores but \"NUMEXPR_MAX_THREADS\" not set, so enforcing safe limit of 8.\n",
      "INFO:numexpr.utils:NumExpr defaulting to 8 threads.\n",
      "INFO:root:this is my addition function : \n",
      "INFO:root:this is my addition function : \n",
      "INFO:root:1\n",
      "INFO:root:this is my addition function : \n",
      "INFO:root:1\n",
      "INFO:root:2\n",
      "INFO:root:3\n",
      "INFO:root:4\n",
      "INFO:root:this is my first code for log\n",
      "INFO:logger1.area1:this is info for logger one \n",
      "INFO:logger2.area2:this is info for logger two \n",
      "INFO:root:this is my first code for log\n",
      "INFO:logger1.area1:this is info for logger one \n",
      "INFO:logger2.area2:this is info for logger two \n",
      "\n"
     ]
    }
   ],
   "source": [
    "import logging as lg\n",
    "lg.basicConfig(filename = \"C:\\\\Users\\\\RITESH\\\\PYTHON SPACE\\\\logging\\\\test11.log\" , level = lg.INFO)\n",
    "def addition(*args) : \n",
    "    lg.info(\"this is my addition function : \")\n",
    "    sum1 = 0 \n",
    "    for i in args :\n",
    "        lg.info(str(i))\n",
    "        sum1 = sum1 + i\n",
    "    return sum1\n",
    "\n",
    "f = open(\"test11.log\" , \"r\")\n",
    "print(f.read())"
   ]
  },
  {
   "cell_type": "code",
   "execution_count": 53,
   "id": "989e5b41-daca-439c-a3c9-540699ff7691",
   "metadata": {},
   "outputs": [
    {
     "data": {
      "text/plain": [
       "10"
      ]
     },
     "execution_count": 53,
     "metadata": {},
     "output_type": "execute_result"
    }
   ],
   "source": [
    "addition(1,2,3,4)"
   ]
  },
  {
   "cell_type": "code",
   "execution_count": 1,
   "id": "9551e089-81bd-4698-aacc-6165a6e45d50",
   "metadata": {},
   "outputs": [
    {
     "name": "stderr",
     "output_type": "stream",
     "text": [
      "%(asctime)s %(levelname)s %(message)s\n"
     ]
    }
   ],
   "source": [
    "import logging as lg\n",
    "lg.basicConfig(filename = 'app.log' ,level = lg.DEBUG , format = '%(asctime)s %(levelname)s %(message)s')\n",
    "console_log = lg.StreamHandler() \n",
    "console_log.setLevel(lg.INFO)\n",
    "format ='%(asctime)s %(levelname)s %(message)s'\n",
    "console_log.setFormatter(format)\n",
    "lg.getLogger('').addHandler(console_log)\n",
    "lg.info(\"this is my first code for log\")\n"
   ]
  },
  {
   "cell_type": "code",
   "execution_count": 2,
   "id": "cb8a05d0-3c98-4b3b-9ae4-c52b6509f52a",
   "metadata": {},
   "outputs": [],
   "source": [
    "logger1 = lg.getLogger('user1')\n",
    "logger2 = lg.getLogger('user2')"
   ]
  },
  {
   "cell_type": "code",
   "execution_count": 3,
   "id": "a7794204-6d35-492f-8105-8e0b29bafa95",
   "metadata": {},
   "outputs": [
    {
     "name": "stderr",
     "output_type": "stream",
     "text": [
      "%(asctime)s %(levelname)s %(message)s\n",
      "%(asctime)s %(levelname)s %(message)s\n"
     ]
    }
   ],
   "source": [
    "logger1.info(\"this is info for logger one \")\n",
    "logger2.debug(\"this is debug for logger two \")\n",
    "logger2.info(\"this is info for logger two \")"
   ]
  },
  {
   "cell_type": "code",
   "execution_count": 4,
   "id": "73085bd4-f8f9-450e-8247-789f298383ab",
   "metadata": {},
   "outputs": [
    {
     "name": "stderr",
     "output_type": "stream",
     "text": [
      "%(asctime)s %(levelname)s %(message)s\n",
      "root - 2025-06-28 10:31:30,037 - INFO - main log\n",
      "%(asctime)s %(levelname)s %(message)s\n",
      "user1 - 2025-06-28 10:31:30,039 - INFO - this is from user1 info\n",
      "user2 - 2025-06-28 10:31:30,040 - DEBUG - This is from user2 debug\n"
     ]
    }
   ],
   "source": [
    "import logging\n",
    "\n",
    "logging.basicConfig(filename='app1.log', level=logging.DEBUG,\n",
    "                   format='%(name)s - %(asctime)s - %(levelname)s - %(message)s')\n",
    "\n",
    "# Create handlers\n",
    "console_log = logging.StreamHandler()\n",
    "console_log.setLevel(logging.DEBUG)\n",
    "format = logging.Formatter('%(name)s - %(asctime)s - %(levelname)s - %(message)s')\n",
    "console_log.setFormatter(format)\n",
    "\n",
    "# Create a custom logger\n",
    "logging.getLogger('').addHandler(console_log)\n",
    "logging.info('main log')\n",
    "logger1 = logging.getLogger('user1')\n",
    "logger2 = logging.getLogger('user2')\n",
    "logger1.info('this is from user1 info')\n",
    "logger2.debug('This is from user2 debug')"
   ]
  },
  {
   "cell_type": "markdown",
   "id": "a7cc75ca-cb58-4acd-8554-eb2a10bf35de",
   "metadata": {},
   "source": [
    "# Debugging"
   ]
  },
  {
   "cell_type": "code",
   "execution_count": 5,
   "id": "894358f9-bd60-49c8-98d7-4446b05b4852",
   "metadata": {},
   "outputs": [],
   "source": [
    "def testdebug():\n",
    "    l = []\n",
    "    for i in range(10) :\n",
    "        l.append(i)\n",
    "        print(\"you have appended your data in list \")\n",
    "    return l\n",
    "    "
   ]
  },
  {
   "cell_type": "code",
   "execution_count": 6,
   "id": "22942c78-f5ae-43dd-86c3-7d7810b3252c",
   "metadata": {},
   "outputs": [
    {
     "name": "stdout",
     "output_type": "stream",
     "text": [
      "you have appended your data in list \n",
      "you have appended your data in list \n",
      "you have appended your data in list \n",
      "you have appended your data in list \n",
      "you have appended your data in list \n",
      "you have appended your data in list \n",
      "you have appended your data in list \n",
      "you have appended your data in list \n",
      "you have appended your data in list \n",
      "you have appended your data in list \n"
     ]
    },
    {
     "data": {
      "text/plain": [
       "[0, 1, 2, 3, 4, 5, 6, 7, 8, 9]"
      ]
     },
     "execution_count": 6,
     "metadata": {},
     "output_type": "execute_result"
    }
   ],
   "source": [
    "testdebug()"
   ]
  },
  {
   "cell_type": "code",
   "execution_count": 1,
   "id": "9db7399e-f98d-4f49-a512-6fe3cd0dbbd5",
   "metadata": {},
   "outputs": [],
   "source": [
    "import ipdb"
   ]
  },
  {
   "cell_type": "code",
   "execution_count": 2,
   "id": "e795e6f3-ba59-415b-b7ab-e85809e6136b",
   "metadata": {},
   "outputs": [
    {
     "name": "stdout",
     "output_type": "stream",
     "text": [
      "Requirement already satisfied: ipdb in d:\\softwares\\lib\\site-packages (0.13.13)\n",
      "Requirement already satisfied: ipython>=7.31.1 in d:\\softwares\\lib\\site-packages (from ipdb) (8.27.0)\n",
      "Requirement already satisfied: decorator in d:\\softwares\\lib\\site-packages (from ipdb) (5.1.1)\n",
      "Requirement already satisfied: jedi>=0.16 in d:\\softwares\\lib\\site-packages (from ipython>=7.31.1->ipdb) (0.19.1)\n",
      "Requirement already satisfied: matplotlib-inline in d:\\softwares\\lib\\site-packages (from ipython>=7.31.1->ipdb) (0.1.6)\n",
      "Requirement already satisfied: prompt-toolkit<3.1.0,>=3.0.41 in d:\\softwares\\lib\\site-packages (from ipython>=7.31.1->ipdb) (3.0.43)\n",
      "Requirement already satisfied: pygments>=2.4.0 in d:\\softwares\\lib\\site-packages (from ipython>=7.31.1->ipdb) (2.15.1)\n",
      "Requirement already satisfied: stack-data in d:\\softwares\\lib\\site-packages (from ipython>=7.31.1->ipdb) (0.2.0)\n",
      "Requirement already satisfied: traitlets>=5.13.0 in d:\\softwares\\lib\\site-packages (from ipython>=7.31.1->ipdb) (5.14.3)\n",
      "Requirement already satisfied: colorama in d:\\softwares\\lib\\site-packages (from ipython>=7.31.1->ipdb) (0.4.6)\n",
      "Requirement already satisfied: parso<0.9.0,>=0.8.3 in d:\\softwares\\lib\\site-packages (from jedi>=0.16->ipython>=7.31.1->ipdb) (0.8.3)\n",
      "Requirement already satisfied: wcwidth in d:\\softwares\\lib\\site-packages (from prompt-toolkit<3.1.0,>=3.0.41->ipython>=7.31.1->ipdb) (0.2.5)\n",
      "Requirement already satisfied: executing in d:\\softwares\\lib\\site-packages (from stack-data->ipython>=7.31.1->ipdb) (0.8.3)\n",
      "Requirement already satisfied: asttokens in d:\\softwares\\lib\\site-packages (from stack-data->ipython>=7.31.1->ipdb) (2.0.5)\n",
      "Requirement already satisfied: pure-eval in d:\\softwares\\lib\\site-packages (from stack-data->ipython>=7.31.1->ipdb) (0.2.2)\n",
      "Requirement already satisfied: six in d:\\softwares\\lib\\site-packages (from asttokens->stack-data->ipython>=7.31.1->ipdb) (1.16.0)\n"
     ]
    }
   ],
   "source": [
    "!pip install ipdb "
   ]
  },
  {
   "cell_type": "code",
   "execution_count": 3,
   "id": "c79432b7-c38f-48d2-84ae-27a741b06c90",
   "metadata": {},
   "outputs": [],
   "source": [
    "def testdebug() :\n",
    "    ipdb.set_trace() \n",
    "    l = []\n",
    "    for i in range(10) :\n",
    "        l.append(i)\n",
    "        print(\"we have appended your data in the list \")\n",
    "    return l "
   ]
  },
  {
   "cell_type": "code",
   "execution_count": 4,
   "id": "8bdfabe0-d47d-40f0-bcd5-e77386ea67e6",
   "metadata": {},
   "outputs": [
    {
     "name": "stdout",
     "output_type": "stream",
     "text": [
      "> \u001b[1;32mc:\\users\\ritesh\\appdata\\local\\temp\\ipykernel_9404\\756005973.py\u001b[0m(3)\u001b[0;36mtestdebug\u001b[1;34m()\u001b[0m\n",
      "\n"
     ]
    },
    {
     "name": "stdin",
     "output_type": "stream",
     "text": [
      "ipdb>  h\n"
     ]
    },
    {
     "name": "stdout",
     "output_type": "stream",
     "text": [
      "\n",
      "Documented commands (type help <topic>):\n",
      "========================================\n",
      "EOF    commands   enable      list      pinfo2   rv               unt   \n",
      "a      condition  exceptions  ll        pp       s                until \n",
      "alias  cont       exit        longlist  psource  skip_hidden      up    \n",
      "args   context    h           n         q        skip_predicates  w     \n",
      "b      continue   help        next      quit     source           whatis\n",
      "break  d          ignore      p         r        step             where \n",
      "bt     debug      interact    pdef      restart  tbreak         \n",
      "c      disable    j           pdoc      return   u              \n",
      "cl     display    jump        pfile     retval   unalias        \n",
      "clear  down       l           pinfo     run      undisplay      \n",
      "\n",
      "Miscellaneous help topics:\n",
      "==========================\n",
      "exec  pdb\n",
      "\n"
     ]
    },
    {
     "name": "stdin",
     "output_type": "stream",
     "text": [
      "ipdb>  next\n"
     ]
    },
    {
     "name": "stdout",
     "output_type": "stream",
     "text": [
      "> \u001b[1;32mc:\\users\\ritesh\\appdata\\local\\temp\\ipykernel_9404\\756005973.py\u001b[0m(4)\u001b[0;36mtestdebug\u001b[1;34m()\u001b[0m\n",
      "\n"
     ]
    },
    {
     "name": "stdin",
     "output_type": "stream",
     "text": [
      "ipdb>  i\n"
     ]
    },
    {
     "name": "stdout",
     "output_type": "stream",
     "text": [
      "*** NameError: name 'i' is not defined\n"
     ]
    },
    {
     "name": "stdin",
     "output_type": "stream",
     "text": [
      "ipdb>  c\n"
     ]
    },
    {
     "name": "stdout",
     "output_type": "stream",
     "text": [
      "we have appended your data in the list \n",
      "we have appended your data in the list \n",
      "we have appended your data in the list \n",
      "we have appended your data in the list \n",
      "we have appended your data in the list \n",
      "we have appended your data in the list \n",
      "we have appended your data in the list \n",
      "we have appended your data in the list \n",
      "we have appended your data in the list \n",
      "we have appended your data in the list \n"
     ]
    },
    {
     "data": {
      "text/plain": [
       "[0, 1, 2, 3, 4, 5, 6, 7, 8, 9]"
      ]
     },
     "execution_count": 4,
     "metadata": {},
     "output_type": "execute_result"
    }
   ],
   "source": [
    "testdebug()"
   ]
  },
  {
   "cell_type": "code",
   "execution_count": null,
   "id": "c523035e-d400-4f1a-82ae-45516f68d8e9",
   "metadata": {},
   "outputs": [],
   "source": []
  },
  {
   "cell_type": "code",
   "execution_count": null,
   "id": "1bda03b9-0a06-4c84-8ba2-7a7b5c8e3104",
   "metadata": {},
   "outputs": [],
   "source": []
  }
 ],
 "metadata": {
  "kernelspec": {
   "display_name": "Python [conda env:base] *",
   "language": "python",
   "name": "conda-base-py"
  },
  "language_info": {
   "codemirror_mode": {
    "name": "ipython",
    "version": 3
   },
   "file_extension": ".py",
   "mimetype": "text/x-python",
   "name": "python",
   "nbconvert_exporter": "python",
   "pygments_lexer": "ipython3",
   "version": "3.12.7"
  }
 },
 "nbformat": 4,
 "nbformat_minor": 5
}
