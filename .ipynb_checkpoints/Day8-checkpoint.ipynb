{
 "cells": [
  {
   "cell_type": "markdown",
   "id": "96e20a26-cc43-4a99-86c8-2ce370ac3728",
   "metadata": {},
   "source": [
    "# Modules and Exceptions"
   ]
  },
  {
   "cell_type": "markdown",
   "id": "d1830ffe-cd44-446b-9435-748aad49aced",
   "metadata": {},
   "source": [
    "## Modules "
   ]
  },
  {
   "cell_type": "code",
   "execution_count": 2,
   "id": "75240730-5f28-4267-ae8b-cc04db74b948",
   "metadata": {},
   "outputs": [
    {
     "data": {
      "text/plain": [
       "3.0"
      ]
     },
     "execution_count": 2,
     "metadata": {},
     "output_type": "execute_result"
    }
   ],
   "source": [
    "import math\n",
    "math.sqrt(9)"
   ]
  },
  {
   "cell_type": "code",
   "execution_count": 3,
   "id": "8fc7c3a0-9730-47e5-bf82-33b2993fb34d",
   "metadata": {},
   "outputs": [
    {
     "data": {
      "text/plain": [
       "2.23606797749979"
      ]
     },
     "execution_count": 3,
     "metadata": {},
     "output_type": "execute_result"
    }
   ],
   "source": [
    "from math import sqrt\n",
    "math.sqrt(5)"
   ]
  },
  {
   "cell_type": "code",
   "execution_count": 4,
   "id": "9a51a0b0-8da7-4a09-8d19-b949564bb0a0",
   "metadata": {},
   "outputs": [
    {
     "data": {
      "text/plain": [
       "3.141592653589793"
      ]
     },
     "execution_count": 4,
     "metadata": {},
     "output_type": "execute_result"
    }
   ],
   "source": [
    "from math import sqrt , pi\n",
    "pi"
   ]
  },
  {
   "cell_type": "code",
   "execution_count": 13,
   "id": "c7a5d22c-73ae-44ef-ab92-7d73622a4a4b",
   "metadata": {},
   "outputs": [
    {
     "name": "stdout",
     "output_type": "stream",
     "text": [
      "0.0\n",
      "11.045361017187261\n",
      "3.141592653589793\n"
     ]
    }
   ],
   "source": [
    "from math import *\n",
    "# * means import everything from the math module .\n",
    "print(sin(0))\n",
    "print(sqrt(122))\n",
    "print(pi)\n"
   ]
  },
  {
   "cell_type": "code",
   "execution_count": 1,
   "id": "1f8a4894-d243-42f3-9768-0b86603626c0",
   "metadata": {},
   "outputs": [
    {
     "name": "stdout",
     "output_type": "stream",
     "text": [
      "This is my maiden module \n"
     ]
    }
   ],
   "source": [
    "import module"
   ]
  },
  {
   "cell_type": "code",
   "execution_count": 2,
   "id": "3528fbb9-3254-4db5-ba97-01abbbaab680",
   "metadata": {},
   "outputs": [],
   "source": [
    "import module"
   ]
  },
  {
   "cell_type": "code",
   "execution_count": 3,
   "id": "2b508665-21bf-4da1-90ff-c95756472fe2",
   "metadata": {},
   "outputs": [],
   "source": [
    "import module"
   ]
  },
  {
   "cell_type": "code",
   "execution_count": 2,
   "id": "dc4df226-0dde-4b8e-9b0f-f7e5dab1a3b8",
   "metadata": {},
   "outputs": [
    {
     "data": {
      "text/plain": [
       "8"
      ]
     },
     "execution_count": 2,
     "metadata": {},
     "output_type": "execute_result"
    }
   ],
   "source": [
    "import module1\n",
    "module1.addition(2,6)"
   ]
  },
  {
   "cell_type": "code",
   "execution_count": 3,
   "id": "d2f81769-bc31-4e5c-9ce7-74b134a0eca9",
   "metadata": {},
   "outputs": [
    {
     "data": {
      "text/plain": [
       "17"
      ]
     },
     "execution_count": 3,
     "metadata": {},
     "output_type": "execute_result"
    }
   ],
   "source": [
    "module1.subtraction(23,6)"
   ]
  },
  {
   "cell_type": "code",
   "execution_count": 4,
   "id": "d6e33743-dc1f-41ea-9033-6aea6b8ed6ad",
   "metadata": {},
   "outputs": [
    {
     "data": {
      "text/plain": [
       "42"
      ]
     },
     "execution_count": 4,
     "metadata": {},
     "output_type": "execute_result"
    }
   ],
   "source": [
    "module1.multiplication(7,6)"
   ]
  },
  {
   "cell_type": "code",
   "execution_count": 5,
   "id": "704d3e57-47c5-4de8-b57e-c2eda58b8b78",
   "metadata": {},
   "outputs": [],
   "source": [
    "import module2"
   ]
  },
  {
   "cell_type": "code",
   "execution_count": 6,
   "id": "208e94c4-1262-4705-8b3e-ba586bbdcb1b",
   "metadata": {},
   "outputs": [
    {
     "data": {
      "text/plain": [
       "'ritesh swami'"
      ]
     },
     "execution_count": 6,
     "metadata": {},
     "output_type": "execute_result"
    }
   ],
   "source": [
    "module2.get_name()"
   ]
  },
  {
   "cell_type": "code",
   "execution_count": 7,
   "id": "2d5c2649-7a2f-4117-be28-e661d31d480c",
   "metadata": {},
   "outputs": [
    {
     "data": {
      "text/plain": [
       "['c', 'cpp', 'python', 'oops', 'dbms']"
      ]
     },
     "execution_count": 7,
     "metadata": {},
     "output_type": "execute_result"
    }
   ],
   "source": [
    "module2.get_skills()"
   ]
  },
  {
   "cell_type": "code",
   "execution_count": 3,
   "id": "99fd8f98-fae3-48ac-a8ae-c159385d0f8d",
   "metadata": {},
   "outputs": [
    {
     "ename": "ModuleNotFoundError",
     "evalue": "No module named 'test123'",
     "output_type": "error",
     "traceback": [
      "\u001b[1;31m---------------------------------------------------------------------------\u001b[0m",
      "\u001b[1;31mModuleNotFoundError\u001b[0m                       Traceback (most recent call last)",
      "Cell \u001b[1;32mIn[3], line 1\u001b[0m\n\u001b[1;32m----> 1\u001b[0m \u001b[38;5;28;01mimport\u001b[39;00m \u001b[38;5;21;01mtest123\u001b[39;00m\n",
      "\u001b[1;31mModuleNotFoundError\u001b[0m: No module named 'test123'"
     ]
    }
   ],
   "source": [
    "import test123"
   ]
  },
  {
   "cell_type": "code",
   "execution_count": 4,
   "id": "25d93e41-91f5-44a5-ae80-14d2cbc18379",
   "metadata": {},
   "outputs": [],
   "source": [
    "import test"
   ]
  },
  {
   "cell_type": "code",
   "execution_count": 5,
   "id": "9b971ab7-928c-40f6-9c61-b6c24ae15b1e",
   "metadata": {},
   "outputs": [
    {
     "ename": "ImportError",
     "evalue": "cannot import name 'test123' from 'test' (D:\\Softwares\\Lib\\test\\__init__.py)",
     "output_type": "error",
     "traceback": [
      "\u001b[1;31m---------------------------------------------------------------------------\u001b[0m",
      "\u001b[1;31mImportError\u001b[0m                               Traceback (most recent call last)",
      "Cell \u001b[1;32mIn[5], line 1\u001b[0m\n\u001b[1;32m----> 1\u001b[0m \u001b[38;5;28;01mfrom\u001b[39;00m \u001b[38;5;21;01mtest\u001b[39;00m \u001b[38;5;28;01mimport\u001b[39;00m test123\n",
      "\u001b[1;31mImportError\u001b[0m: cannot import name 'test123' from 'test' (D:\\Softwares\\Lib\\test\\__init__.py)"
     ]
    }
   ],
   "source": [
    "from test import test123"
   ]
  },
  {
   "cell_type": "code",
   "execution_count": 6,
   "id": "54f5503b-f62e-4b2a-8187-2073402daded",
   "metadata": {},
   "outputs": [
    {
     "ename": "ModuleNotFoundError",
     "evalue": "No module named 'fn1'",
     "output_type": "error",
     "traceback": [
      "\u001b[1;31m---------------------------------------------------------------------------\u001b[0m",
      "\u001b[1;31mModuleNotFoundError\u001b[0m                       Traceback (most recent call last)",
      "Cell \u001b[1;32mIn[6], line 1\u001b[0m\n\u001b[1;32m----> 1\u001b[0m \u001b[38;5;28;01mimport\u001b[39;00m \u001b[38;5;21;01mfn1\u001b[39;00m\n",
      "\u001b[1;31mModuleNotFoundError\u001b[0m: No module named 'fn1'"
     ]
    }
   ],
   "source": [
    "import fn1"
   ]
  },
  {
   "cell_type": "code",
   "execution_count": 9,
   "id": "4fab9067-639a-4542-abfc-e79936f1b50b",
   "metadata": {},
   "outputs": [],
   "source": [
    "# check ipynb file inside test folder ."
   ]
  },
  {
   "cell_type": "markdown",
   "id": "9b4b08d7-d189-4168-9fc6-3321b32faeeb",
   "metadata": {},
   "source": [
    "## Exception Handeling"
   ]
  },
  {
   "cell_type": "code",
   "execution_count": 10,
   "id": "6f944615-a7bf-44a0-905d-053c2f93dffd",
   "metadata": {},
   "outputs": [
    {
     "ename": "SyntaxError",
     "evalue": "unterminated string literal (detected at line 1) (4233680953.py, line 1)",
     "output_type": "error",
     "traceback": [
      "\u001b[1;36m  Cell \u001b[1;32mIn[10], line 1\u001b[1;36m\u001b[0m\n\u001b[1;33m    print(\"uyrufgugioh)\u001b[0m\n\u001b[1;37m          ^\u001b[0m\n\u001b[1;31mSyntaxError\u001b[0m\u001b[1;31m:\u001b[0m unterminated string literal (detected at line 1)\n"
     ]
    }
   ],
   "source": [
    "print(\"uyrufgugioh)"
   ]
  },
  {
   "cell_type": "code",
   "execution_count": 11,
   "id": "3faab496-99e4-4b8c-91c9-9bff1af3a34e",
   "metadata": {},
   "outputs": [],
   "source": [
    "def fun(a,b) :\n",
    "    return a/b "
   ]
  },
  {
   "cell_type": "code",
   "execution_count": 12,
   "id": "7a8f9679-cfbc-4468-a1c9-c70fa94fde2e",
   "metadata": {},
   "outputs": [
    {
     "ename": "ZeroDivisionError",
     "evalue": "division by zero",
     "output_type": "error",
     "traceback": [
      "\u001b[1;31m---------------------------------------------------------------------------\u001b[0m",
      "\u001b[1;31mZeroDivisionError\u001b[0m                         Traceback (most recent call last)",
      "Cell \u001b[1;32mIn[12], line 1\u001b[0m\n\u001b[1;32m----> 1\u001b[0m fun(\u001b[38;5;241m5\u001b[39m,\u001b[38;5;241m0\u001b[39m)\n",
      "Cell \u001b[1;32mIn[11], line 2\u001b[0m, in \u001b[0;36mfun\u001b[1;34m(a, b)\u001b[0m\n\u001b[0;32m      1\u001b[0m \u001b[38;5;28;01mdef\u001b[39;00m \u001b[38;5;21mfun\u001b[39m(a,b) :\n\u001b[1;32m----> 2\u001b[0m     \u001b[38;5;28;01mreturn\u001b[39;00m a\u001b[38;5;241m/\u001b[39mb\n",
      "\u001b[1;31mZeroDivisionError\u001b[0m: division by zero"
     ]
    }
   ],
   "source": [
    "fun(5,0)"
   ]
  },
  {
   "cell_type": "code",
   "execution_count": null,
   "id": "fea5fea2-6590-44c0-8c9f-49d1dc5195f7",
   "metadata": {},
   "outputs": [],
   "source": []
  }
 ],
 "metadata": {
  "kernelspec": {
   "display_name": "Python [conda env:base] *",
   "language": "python",
   "name": "conda-base-py"
  },
  "language_info": {
   "codemirror_mode": {
    "name": "ipython",
    "version": 3
   },
   "file_extension": ".py",
   "mimetype": "text/x-python",
   "name": "python",
   "nbconvert_exporter": "python",
   "pygments_lexer": "ipython3",
   "version": "3.12.7"
  }
 },
 "nbformat": 4,
 "nbformat_minor": 5
}
