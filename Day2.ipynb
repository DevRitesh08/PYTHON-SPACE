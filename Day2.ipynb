{
 "cells": [
  {
   "metadata": {},
   "cell_type": "markdown",
   "source": "# Strings",
   "id": "d493547110af02b0"
  },
  {
   "metadata": {},
   "cell_type": "markdown",
   "source": [
    "Strings are sequence of Characters\n",
    "\n",
    "In Python specifically, strings are a sequence of **Unicode Characters** , which means it can store characters from any language in the world.\n",
    "\n",
    "- Creating Strings\n",
    "- Accessing Strings\n",
    "- Adding Chars to Strings\n",
    "- Editing Strings\n",
    "- Deleting Strings\n",
    "- Operations on Strings\n",
    "- String Functions"
   ],
   "id": "4228730498e494bb"
  },
  {
   "metadata": {},
   "cell_type": "markdown",
   "source": "`Unicode` is a computing industry standard for the consistent encoding, representation, and handling of text expressed in most of the world's writing systems. The standard is maintained by the Unicode Consortium.",
   "id": "aba672ef3da12168"
  },
  {
   "metadata": {},
   "cell_type": "markdown",
   "source": "## Creating Stings",
   "id": "30779753fac44cd"
  },
  {
   "cell_type": "code",
   "id": "4a8967bb-99da-4828-9ef5-aa79ed82dfcf",
   "metadata": {
    "ExecuteTime": {
     "end_time": "2025-09-21T12:21:31.240888Z",
     "start_time": "2025-09-21T12:21:31.235365Z"
    }
   },
   "source": [
    "s = 'hello'\n",
    "s = \"hello\"\n",
    "# multiline strings\n",
    "s = '''hello'''\n",
    "s = \"\"\"hello\n",
    "world\n",
    "!\"\"\"\n",
    "# s = str('hello')\n",
    "print(s)"
   ],
   "outputs": [
    {
     "name": "stdout",
     "output_type": "stream",
     "text": [
      "hello \n",
      "world\n",
      "!\n"
     ]
    }
   ],
   "execution_count": 12
  },
  {
   "metadata": {},
   "cell_type": "markdown",
   "source": [
    "Why multiple ways to create strings?\n",
    "- Single quotes and double quotes are used to create single line strings.\n",
    "    - If a string contains a single quote, it is better to use double quotes to avoid escaping the single quote.\n",
    "    - If a string contains double quotes, it is better to use single quotes to avoid escaping the double quotes.\n",
    "- Triple quotes are used to create multi-line strings , which can span multiple lines , here also single and double quotes can be used.\n",
    "- str() is a constructor that can convert other data types to strings."
   ],
   "id": "d5e56bf3de46fda8"
  },
  {
   "cell_type": "code",
   "id": "e790abf8-8669-4122-8a94-fcbb60a0d2a9",
   "metadata": {
    "ExecuteTime": {
     "end_time": "2025-09-21T12:23:14.306452Z",
     "start_time": "2025-09-21T12:23:14.299174Z"
    }
   },
   "source": "\"it's raining outside\"",
   "outputs": [
    {
     "data": {
      "text/plain": [
       "\"it's raining outside\""
      ]
     },
     "execution_count": 15,
     "metadata": {},
     "output_type": "execute_result"
    }
   ],
   "execution_count": 15
  },
  {
   "metadata": {},
   "cell_type": "markdown",
   "source": "## Accessing Substrings from a String",
   "id": "62760b485e7e5f15"
  },
  {
   "metadata": {},
   "cell_type": "markdown",
   "source": [
    "### Indexing\n",
    "- Each character in a string has a unique index associated with it.\n",
    "- Indexing starts from 0 for the first character, 1 for the second character, and so on.\n",
    "- Negative indexing is also supported, where -1 represents the last character, -2 represents the second last character, and so on."
   ],
   "id": "8f5ccaedd332ce9d"
  },
  {
   "cell_type": "code",
   "id": "3ae38124-0500-4f2b-af03-fd2af3fd4554",
   "metadata": {
    "ExecuteTime": {
     "end_time": "2025-09-21T12:24:59.985390Z",
     "start_time": "2025-09-21T12:24:59.979486Z"
    }
   },
   "source": [
    "# Positive Indexing\n",
    "s = 'hello world'\n",
    "print(s[0])  #h\n",
    "print(s[1])  #e\n",
    "print(s[2])  #l\n",
    "print(s[3])  #l\n",
    "print(s[4])  #o"
   ],
   "outputs": [
    {
     "name": "stdout",
     "output_type": "stream",
     "text": [
      "h\n",
      "e\n",
      "l\n",
      "l\n",
      "o\n"
     ]
    }
   ],
   "execution_count": 18
  },
  {
   "metadata": {
    "ExecuteTime": {
     "end_time": "2025-09-21T12:25:20.458030Z",
     "start_time": "2025-09-21T12:25:20.452417Z"
    }
   },
   "cell_type": "code",
   "source": [
    "# Negative Indexing\n",
    "s = 'hello world'\n",
    "print(s[-1])  #d\n",
    "print(s[-2])  #l\n",
    "print(s[-3])  #r\n",
    "print(s[-4])  #o\n",
    "print(s[-5])  #w"
   ],
   "id": "4449966be4b41313",
   "outputs": [
    {
     "name": "stdout",
     "output_type": "stream",
     "text": [
      "d\n",
      "l\n",
      "r\n",
      "o\n",
      "w\n"
     ]
    }
   ],
   "execution_count": 20
  },
  {
   "metadata": {},
   "cell_type": "markdown",
   "source": [
    "### Slicing\n",
    "- Slicing is used to extract a substring from a string.\n",
    "- The syntax for slicing is `string[start:end:step]`, where:\n",
    "    - `start` is the index to start the slice (inclusive).\n",
    "    - `end` is the index to end the slice (exclusive).\n",
    "    - `step` is the step size (optional, default is 1)."
   ],
   "id": "e92a3cf58ef85217"
  },
  {
   "metadata": {},
   "cell_type": "markdown",
   "source": "**Slicing does not modify the original string, it returns a new substring.**",
   "id": "6744c88b2859b710"
  },
  {
   "metadata": {
    "ExecuteTime": {
     "end_time": "2025-09-21T12:28:53.293366Z",
     "start_time": "2025-09-21T12:28:53.287849Z"
    }
   },
   "cell_type": "code",
   "source": [
    "s = \"python is awesome\"\n",
    "print(s[0:6])  #python\n",
    "print(s[7:9])  #is\n",
    "print(s[10:17])  #awesome"
   ],
   "id": "16aee2754cc7517b",
   "outputs": [
    {
     "name": "stdout",
     "output_type": "stream",
     "text": [
      "python\n",
      "is\n",
      "awesome\n"
     ]
    }
   ],
   "execution_count": 21
  },
  {
   "metadata": {},
   "cell_type": "markdown",
   "source": [
    "- If `start` is omitted, it defaults to 0.\n",
    "- If `end` is omitted, it defaults to the length of the string.\n",
    "- If `step` is omitted, it defaults to 1."
   ],
   "id": "bc6bf0491c37821d"
  },
  {
   "metadata": {
    "ExecuteTime": {
     "end_time": "2025-09-21T12:29:15.582537Z",
     "start_time": "2025-09-21T12:29:15.577543Z"
    }
   },
   "cell_type": "code",
   "source": [
    "print(s[:6])  #python\n",
    "print(s[7:])  #is awesome\n",
    "print(s[:])  #python is awesome"
   ],
   "id": "d5384a8c167cd2f0",
   "outputs": [
    {
     "name": "stdout",
     "output_type": "stream",
     "text": [
      "python\n",
      "is awesome\n",
      "python is awesome\n"
     ]
    }
   ],
   "execution_count": 22
  },
  {
   "metadata": {
    "ExecuteTime": {
     "end_time": "2025-09-21T12:29:35.018992Z",
     "start_time": "2025-09-21T12:29:35.014318Z"
    }
   },
   "cell_type": "code",
   "source": [
    "print(s[::2])  #pto saeoe\n",
    "print(s[::3])  #ph sae\n",
    "print(s[::4])  #pniwm"
   ],
   "id": "3b80a45d1824310e",
   "outputs": [
    {
     "name": "stdout",
     "output_type": "stream",
     "text": [
      "pto saeoe\n",
      "ph  em\n",
      "posee\n"
     ]
    }
   ],
   "execution_count": 23
  },
  {
   "metadata": {},
   "cell_type": "markdown",
   "source": "- Negative step values can be used to reverse the string.",
   "id": "4c86a3f7f19c773d"
  },
  {
   "metadata": {
    "ExecuteTime": {
     "end_time": "2025-09-21T12:29:46.180430Z",
     "start_time": "2025-09-21T12:29:46.175480Z"
    }
   },
   "cell_type": "code",
   "source": [
    "print(s[::-1])  #emosewa si nohtyp (reversed string) ==> important\n",
    "print(s[::-2])  #esoai oht\n",
    "print(s[::-3])  #eoa nyp"
   ],
   "id": "1c855ad12af512bb",
   "outputs": [
    {
     "name": "stdout",
     "output_type": "stream",
     "text": [
      "emosewa si nohtyp\n",
      "eoeas otp\n",
      "esaioy\n"
     ]
    }
   ],
   "execution_count": 24
  },
  {
   "metadata": {
    "ExecuteTime": {
     "end_time": "2025-09-21T12:43:18.723840Z",
     "start_time": "2025-09-21T12:43:18.718040Z"
    }
   },
   "cell_type": "code",
   "source": [
    "print(s[-1:-6:-1])  #emose\n",
    "print(s[-6:-1])  #aweso\n",
    "print(s[-6:])  #awesome"
   ],
   "id": "a962f454b1a28b78",
   "outputs": [
    {
     "name": "stdout",
     "output_type": "stream",
     "text": [
      "emose\n",
      "wesom\n",
      "wesome\n"
     ]
    }
   ],
   "execution_count": 36
  },
  {
   "metadata": {
    "ExecuteTime": {
     "end_time": "2025-09-21T12:39:12.971492Z",
     "start_time": "2025-09-21T12:39:12.964203Z"
    }
   },
   "cell_type": "code",
   "source": [
    "print(s[6:0:-1])  #nohtyp\n",
    "print(s[10:6:-1])  #si\n",
    "print(s[17:10:-1])  #emosewa\n",
    "print(s[5:15:2])  #yoi sae\n",
    "print(s[15:5:-2])  #eoa iyt"
   ],
   "id": "2088358d9cbc7c16",
   "outputs": [
    {
     "name": "stdout",
     "output_type": "stream",
     "text": [
      " nohty\n",
      "a si\n",
      "emosew\n",
      "ni ws\n",
      "msw i\n"
     ]
    }
   ],
   "execution_count": 32
  },
  {
   "metadata": {},
   "cell_type": "markdown",
   "source": [
    "- If `start` is greater than `end` and `step` is positive, an empty string is returned , so always ensure that start < end for positive step.\n",
    "- If `start` is less than `end` and `step` is negative, an empty string is returned. , so always ensure that start > end for negative step.\n",
    "- If `step` is 0, a `ValueError` is raised."
   ],
   "id": "a779851c84c03237"
  },
  {
   "metadata": {
    "ExecuteTime": {
     "end_time": "2025-09-21T12:39:52.572346Z",
     "start_time": "2025-09-21T12:39:52.566683Z"
    }
   },
   "cell_type": "code",
   "source": [
    "print(\"Empty Strings below\")\n",
    "print(s[5:15:-2])  #empty string\n",
    "print(s[15:5:2])  #empty string\n",
    "# print(s[5:15:0])  #ValueError"
   ],
   "id": "c23cebd7150924cd",
   "outputs": [
    {
     "name": "stdout",
     "output_type": "stream",
     "text": [
      "Empty Strings below\n",
      "\n",
      "\n"
     ]
    }
   ],
   "execution_count": 35
  },
  {
   "metadata": {},
   "cell_type": "markdown",
   "source": "- If `start` or `end` are out of bounds, they are adjusted to fit within the string length.",
   "id": "51363812aab8eef1"
  },
  {
   "cell_type": "code",
   "id": "f7ed5911-b661-4ef6-a240-90adbd982ce3",
   "metadata": {
    "ExecuteTime": {
     "end_time": "2025-09-21T12:33:14.367882Z",
     "start_time": "2025-09-21T12:33:14.363201Z"
    }
   },
   "source": [
    "print(s[20:25])  #empty string\n",
    "print(s[-25:5])  #pytho\n",
    "print(s[5:25])  #n is awesome"
   ],
   "outputs": [
    {
     "name": "stdout",
     "output_type": "stream",
     "text": [
      "\n",
      "pytho\n",
      "n is awesome\n"
     ]
    }
   ],
   "execution_count": 31
  },
  {
   "metadata": {},
   "cell_type": "markdown",
   "source": "## Editing and Deleting in Strings",
   "id": "f04910f583d7b176"
  },
  {
   "metadata": {},
   "cell_type": "code",
   "source": [
    "# Editing\n",
    "s = 'hello world'\n",
    "s[0] = 'H'  #TypeError: 'str' object does not support item assignment\n",
    "print(s)\n",
    "\n",
    "# Python strings are immutable"
   ],
   "id": "da240e092154535f",
   "outputs": [],
   "execution_count": null
  },
  {
   "metadata": {},
   "cell_type": "markdown",
   "source": "`strings` are immutable, which means once a string is created, it cannot be modified. Any operation that seems to modify a string actually creates a new string.",
   "id": "a9294b60fbd0378d"
  },
  {
   "metadata": {},
   "cell_type": "code",
   "source": [
    "# Deleting\n",
    "s = 'hello world'\n",
    "del s\n",
    "print(s)  #NameError: name 's' is not defined"
   ],
   "id": "62267db81ce44200",
   "outputs": [],
   "execution_count": null
  },
  {
   "metadata": {},
   "cell_type": "code",
   "source": [
    "# Deleting a part of string using slicing is also not possible since strings are immutable\n",
    "s = 'hello world'\n",
    "del s[-1:-5:2]\n",
    "print(s)"
   ],
   "id": "f32fa1e461a7fcf7",
   "outputs": [],
   "execution_count": null
  },
  {
   "metadata": {},
   "cell_type": "markdown",
   "source": [
    "## Operations on Strings\n",
    "\n",
    "- Arithmetic Operations : It \n",
    "- Relational Operations\n",
    "- Logical Operations\n",
    "- Loops on Strings\n",
    "- Membership Operations"
   ],
   "id": "9338c9a93700ff1a"
  },
  {
   "metadata": {},
   "cell_type": "code",
   "outputs": [],
   "execution_count": null,
   "source": "",
   "id": "9cfa2e38b62e3cde"
  },
  {
   "metadata": {},
   "cell_type": "code",
   "outputs": [],
   "execution_count": null,
   "source": "",
   "id": "f5d477c8da4e0c13"
  },
  {
   "metadata": {},
   "cell_type": "code",
   "outputs": [],
   "execution_count": null,
   "source": "",
   "id": "955ac0db36e2953"
  },
  {
   "metadata": {},
   "cell_type": "code",
   "outputs": [],
   "execution_count": null,
   "source": "",
   "id": "7fe7f9e456841847"
  },
  {
   "metadata": {},
   "cell_type": "code",
   "outputs": [],
   "execution_count": null,
   "source": "",
   "id": "21602691e100929a"
  },
  {
   "metadata": {},
   "cell_type": "code",
   "outputs": [],
   "execution_count": null,
   "source": "",
   "id": "9c2d0f6d576b7f4"
  },
  {
   "cell_type": "code",
   "execution_count": null,
   "id": "6ca01364-ff3a-482f-9f0d-e26f96ef589b",
   "metadata": {},
   "outputs": [],
   "source": []
  },
  {
   "metadata": {},
   "cell_type": "code",
   "outputs": [],
   "execution_count": null,
   "source": "",
   "id": "bbfa7a8aa3093a23"
  }
 ],
 "metadata": {
  "kernelspec": {
   "display_name": "Python 3 (ipykernel)",
   "language": "python",
   "name": "python3"
  },
  "language_info": {
   "codemirror_mode": {
    "name": "ipython",
    "version": 3
   },
   "file_extension": ".py",
   "mimetype": "text/x-python",
   "name": "python",
   "nbconvert_exporter": "python",
   "pygments_lexer": "ipython3",
   "version": "3.12.7"
  }
 },
 "nbformat": 4,
 "nbformat_minor": 5
}
