{
 "cells": [
  {
   "cell_type": "code",
   "id": "4a8967bb-99da-4828-9ef5-aa79ed82dfcf",
   "metadata": {
    "ExecuteTime": {
     "end_time": "2025-09-21T07:32:00.104716Z",
     "start_time": "2025-09-21T07:32:00.101483Z"
    }
   },
   "source": "",
   "outputs": [],
   "execution_count": null
  },
  {
   "cell_type": "code",
   "execution_count": 21,
   "id": "e790abf8-8669-4122-8a94-fcbb60a0d2a9",
   "metadata": {},
   "outputs": [],
   "source": ""
  },
  {
   "cell_type": "code",
   "id": "3ae38124-0500-4f2b-af03-fd2af3fd4554",
   "metadata": {
    "ExecuteTime": {
     "end_time": "2025-09-21T07:36:16.284350Z",
     "start_time": "2025-09-21T07:36:16.281976Z"
    }
   },
   "source": "",
   "outputs": [],
   "execution_count": null
  },
  {
   "cell_type": "code",
   "id": "f7ed5911-b661-4ef6-a240-90adbd982ce3",
   "metadata": {
    "ExecuteTime": {
     "end_time": "2025-09-21T07:36:18.414791Z",
     "start_time": "2025-09-21T07:36:18.412494Z"
    }
   },
   "source": "",
   "outputs": [],
   "execution_count": null
  },
  {
   "cell_type": "code",
   "execution_count": 34,
   "id": "1177ba36-dab3-4bd4-81cb-e0f06baa72ad",
   "metadata": {},
   "outputs": [],
   "source": [
    "# List"
   ]
  },
  {
   "cell_type": "code",
   "execution_count": 42,
   "id": "954a8980-60aa-4f4e-a893-4874c4d64517",
   "metadata": {},
   "outputs": [
    {
     "name": "stdout",
     "output_type": "stream",
     "text": [
      "1\n",
      "1312\n",
      "32213.3422\n",
      "adewdew\n"
     ]
    }
   ],
   "source": [
    "l = list()\n",
    "l = ['1' , 1312 , 32213.3422 , \"adewdew\" , True , 42 + 242j , [212,\"313\",False] ] \n",
    "print(l[0])\n",
    "print(l[1])\n",
    "print(l[2])\n",
    "print(l[3])"
   ]
  },
  {
   "cell_type": "code",
   "execution_count": 39,
   "id": "cf71ca46-51fe-42ae-983b-4ad2ba1c8165",
   "metadata": {},
   "outputs": [
    {
     "data": {
      "text/plain": [
       "list"
      ]
     },
     "execution_count": 39,
     "metadata": {},
     "output_type": "execute_result"
    }
   ],
   "source": [
    "type(l)"
   ]
  },
  {
   "cell_type": "code",
   "execution_count": 41,
   "id": "f6ec90f1-ba11-46b3-aa0f-071f46978c10",
   "metadata": {},
   "outputs": [
    {
     "data": {
      "text/plain": [
       "list"
      ]
     },
     "execution_count": 41,
     "metadata": {},
     "output_type": "execute_result"
    }
   ],
   "source": [
    "l1 = []\n",
    "type(l1)"
   ]
  },
  {
   "cell_type": "code",
   "execution_count": 44,
   "id": "f2b3c5d5-6b5c-4cb0-b9e6-9737bea0d2e1",
   "metadata": {},
   "outputs": [
    {
     "name": "stdout",
     "output_type": "stream",
     "text": [
      "<class 'int'>\n",
      "<class 'str'>\n",
      "<class 'bool'>\n"
     ]
    }
   ],
   "source": [
    "for i in l : \n",
    "    if type(i) == list : \n",
    "        for j in i :\n",
    "            print(type(j))\n"
   ]
  },
  {
   "cell_type": "code",
   "execution_count": 45,
   "id": "4b9946d6-cfd1-4ae1-b8b0-1d48f6f59ba6",
   "metadata": {},
   "outputs": [
    {
     "data": {
      "text/plain": [
       "['1', 1312, 32213.3422]"
      ]
     },
     "execution_count": 45,
     "metadata": {},
     "output_type": "execute_result"
    }
   ],
   "source": [
    "l[0:3]"
   ]
  },
  {
   "cell_type": "code",
   "execution_count": 49,
   "id": "baf2aa86-c5f0-43dc-a06e-0628f6f0e377",
   "metadata": {},
   "outputs": [
    {
     "data": {
      "text/plain": [
       "['1', 32213.3422, True, [212, '313', False]]"
      ]
     },
     "execution_count": 49,
     "metadata": {},
     "output_type": "execute_result"
    }
   ],
   "source": [
    "l[0 : 17 : 2] # start and end are ranges not index so they can go beyond indexes ."
   ]
  },
  {
   "cell_type": "code",
   "execution_count": 53,
   "id": "9686852e-5def-41f6-b165-aff0a0a14273",
   "metadata": {},
   "outputs": [
    {
     "data": {
      "text/plain": [
       "[0, 1, 2, 3, 4, 5, 6, 7, 8, 9, 10, 11, 12, 13, 14]"
      ]
     },
     "execution_count": 53,
     "metadata": {},
     "output_type": "execute_result"
    }
   ],
   "source": [
    "list(range(15))"
   ]
  },
  {
   "cell_type": "code",
   "execution_count": null,
   "id": "6ca01364-ff3a-482f-9f0d-e26f96ef589b",
   "metadata": {},
   "outputs": [],
   "source": []
  }
 ],
 "metadata": {
  "kernelspec": {
   "display_name": "Python 3 (ipykernel)",
   "language": "python",
   "name": "python3"
  },
  "language_info": {
   "codemirror_mode": {
    "name": "ipython",
    "version": 3
   },
   "file_extension": ".py",
   "mimetype": "text/x-python",
   "name": "python",
   "nbconvert_exporter": "python",
   "pygments_lexer": "ipython3",
   "version": "3.12.7"
  }
 },
 "nbformat": 4,
 "nbformat_minor": 5
}
