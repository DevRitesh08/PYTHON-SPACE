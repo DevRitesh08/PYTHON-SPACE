{
 "cells": [
  {
   "cell_type": "code",
   "execution_count": 4,
   "id": "6fb2a5d7-178e-4803-a227-acfdb5912c73",
   "metadata": {},
   "outputs": [
    {
     "name": "stdout",
     "output_type": "stream",
     "text": [
      "Valid Statement \n"
     ]
    }
   ],
   "source": [
    "a = 10\n",
    "b = 20\n",
    "if a == 10 and b == 20 :\n",
    "    print(\"Valid Statement \")"
   ]
  },
  {
   "cell_type": "code",
   "execution_count": null,
   "id": "2029faae-6dd7-4d34-8ee8-b880b36f0d15",
   "metadata": {},
   "outputs": [],
   "source": "# python does not support && , || instead we have to use \"and\" , \"or\" ."
  },
  {
   "cell_type": "code",
   "execution_count": 2,
   "id": "aa11a9f2-c927-483b-afca-abe8edd964bf",
   "metadata": {},
   "outputs": [
    {
     "data": {
      "text/plain": [
       "True"
      ]
     },
     "execution_count": 2,
     "metadata": {},
     "output_type": "execute_result"
    }
   ],
   "source": [
    "a == 10 and b == 20"
   ]
  },
  {
   "cell_type": "code",
   "execution_count": 5,
   "id": "5e1e30da-51dd-498a-9c2d-bb4aaa918ae6",
   "metadata": {},
   "outputs": [],
   "source": [
    "# Question"
   ]
  },
  {
   "cell_type": "code",
   "execution_count": 7,
   "id": "d41736d2-e428-47c2-bbbd-ce2ba22ba871",
   "metadata": {},
   "outputs": [
    {
     "name": "stdin",
     "output_type": "stream",
     "text": [
      "Enter your first name :  Ritesh\n",
      "Enter your last name :  Swami\n"
     ]
    },
    {
     "name": "stdout",
     "output_type": "stream",
     "text": [
      "You are correct\n"
     ]
    }
   ],
   "source": [
    "a = input(\"Enter your first name : \")\n",
    "b = input(\"Enter your last name : \")\n",
    "\n",
    "if a == \"Ritesh\" and b == \"Swami\" :\n",
    "    print(\"You are correct\")\n",
    "else :\n",
    "    print(\"You are wrong \")"
   ]
  },
  {
   "cell_type": "code",
   "execution_count": 8,
   "id": "f790e96b-58da-4fef-bdb1-f938e509c3f5",
   "metadata": {},
   "outputs": [],
   "source": [
    "# LOOPS"
   ]
  },
  {
   "cell_type": "code",
   "execution_count": 9,
   "id": "918af00c-70ac-42c3-b9b6-c4fbddad5d81",
   "metadata": {},
   "outputs": [],
   "source": [
    "# while loop"
   ]
  },
  {
   "cell_type": "code",
   "execution_count": 17,
   "id": "a614bbd3-73fe-4c5b-8b97-28c743cde104",
   "metadata": {},
   "outputs": [
    {
     "name": "stdout",
     "output_type": "stream",
     "text": [
      "0\n",
      "1\n",
      "2\n",
      "3\n",
      "4\n",
      "5\n",
      "6\n",
      "7\n",
      "8\n",
      "9\n",
      "Loop terminated !\n"
     ]
    }
   ],
   "source": [
    "initial_speed = 0 \n",
    "final_speed = 100\n",
    "while initial_speed != 100  :\n",
    "    print(initial_speed)\n",
    "    initial_speed = initial_speed + 1\n",
    "    # initial_speed += 1 this also works \n",
    "    if initial_speed == 10 :\n",
    "        break \n",
    "print(\"Loop terminated !\")\n",
    "    "
   ]
  },
  {
   "cell_type": "code",
   "execution_count": 18,
   "id": "cd8fa1e9-8904-492c-892f-864c89dbd393",
   "metadata": {},
   "outputs": [],
   "source": [
    "# ++ and -- does not work in python ."
   ]
  },
  {
   "cell_type": "code",
   "execution_count": 19,
   "id": "262539c5-15ee-4002-9589-d8db4f5cdf3f",
   "metadata": {},
   "outputs": [],
   "source": [
    "# break is used to terminate the loop ."
   ]
  },
  {
   "cell_type": "code",
   "execution_count": 20,
   "id": "4a8967bb-99da-4828-9ef5-aa79ed82dfcf",
   "metadata": {},
   "outputs": [
    {
     "name": "stdout",
     "output_type": "stream",
     "text": [
      "0\n",
      "1\n",
      "2\n",
      "3\n",
      "4\n",
      "5\n",
      "6\n",
      "here the else condition works in python \n"
     ]
    }
   ],
   "source": [
    "a = 0\n",
    "b = 7\n",
    "while a < b :\n",
    "    print(a)\n",
    "    a += 1\n",
    "else :\n",
    "    print(\"here the else condition works in python it  \")"
   ]
  },
  {
   "cell_type": "code",
   "execution_count": 21,
   "id": "e790abf8-8669-4122-8a94-fcbb60a0d2a9",
   "metadata": {},
   "outputs": [],
   "source": [
    "# in Python, the `else` clause can also be used with loops (`while` and `for`).\n",
    "# When used with loops in Python:\n",
    "# - The code in the `else` block executes after the loop completes normally (when the loop condition becomes `False`)\n",
    "# - The `else` block will NOT execute if the loop was terminated by a `break` statement"
   ]
  },
  {
   "cell_type": "code",
   "execution_count": 1,
   "id": "259c5774-b155-4fd1-af41-a85de5b2af01",
   "metadata": {},
   "outputs": [
    {
     "name": "stdout",
     "output_type": "stream",
     "text": [
      "1\n",
      "2\n",
      "3\n",
      "4\n",
      "6\n",
      "7\n",
      "8\n",
      "9\n",
      "10\n",
      "Loop terminated \n"
     ]
    }
   ],
   "source": [
    "a = 0\n",
    "b = 10\n",
    "while a < b :\n",
    "    a += 1\n",
    "    if a == 5 :\n",
    "        continue\n",
    "    print(a)\n",
    "    \n",
    "else :\n",
    "    print(\"Loop terminated \")"
   ]
  },
  {
   "cell_type": "code",
   "execution_count": 4,
   "id": "9d202f3f-c1d3-4b7b-a238-433ec114695f",
   "metadata": {},
   "outputs": [
    {
     "name": "stdout",
     "output_type": "stream",
     "text": [
      "R\n",
      "i\n",
      "s\n",
      "h\n",
      "n\n",
      "s\n",
      "y\n",
      "m\n",
      "sh Swami is my name\n",
      "Rts wm sm ae\n",
      "ea ms mw st\n",
      "eman ym si imawS hsetiR\n",
      "Ritesh Swami is my \n"
     ]
    }
   ],
   "source": [
    "s = \"Ritesh Swami is my name\"\n",
    "print(s[0])\n",
    "print(s[1])\n",
    "print(s[4])\n",
    "print(s[5])\n",
    "print(s[-4])\n",
    "print(s[-9])\n",
    "print(s[-6])\n",
    "print(s[-2])\n",
    "print(s[4 : 24])\n",
    "# here it will include the starting index but will exclude the ending index of the range given separated by \":\" .\n",
    "print(s[0:24:2])\n",
    "# here the third no. after \":\" indicated the jump or number of steps .\n",
    "print(s[24:0:-2])\n",
    "# this way we can reverse a string .\n",
    "# by default the value of jump is 1 .\n",
    "# so s[start : end : jump ] is the syntax , where start will be included and end will be excluded . \n",
    "print(s[::-1])\n",
    "# this will reverse the complete string .\n",
    "print(s[0:-4])\n",
    "# here it will print the string from index 0 to -4 index (4th index from end of string) , so from end index start from -1,-2,-3....."
   ]
  },
  {
   "cell_type": "code",
   "execution_count": 5,
   "id": "0d060660-2d03-49b8-a6e0-6182f434e437",
   "metadata": {},
   "outputs": [],
   "source": [
    "# for loop"
   ]
  },
  {
   "cell_type": "code",
   "execution_count": 54,
   "id": "ab45aa1d-1104-45bc-b85c-eaeb76cb4f79",
   "metadata": {},
   "outputs": [
    {
     "name": "stdout",
     "output_type": "stream",
     "text": [
      "fookk\n",
      "r lookk\n",
      "ookk\n",
      "p wookk\n",
      "rks"
     ]
    }
   ],
   "source": [
    "s = \"for loop works\"\n",
    "for i in s :\n",
    "    print(i , end = \"\")\n",
    "    if i == 'o' :\n",
    "        print(\"okk\")"
   ]
  },
  {
   "cell_type": "code",
   "execution_count": 8,
   "id": "4d3f7c99-5647-418a-a942-c324d5f4ed91",
   "metadata": {},
   "outputs": [],
   "source": [
    "# so i goes from 0 to the end index ."
   ]
  },
  {
   "cell_type": "code",
   "execution_count": 11,
   "id": "3ae38124-0500-4f2b-af03-fd2af3fd4554",
   "metadata": {},
   "outputs": [
    {
     "name": "stdout",
     "output_type": "stream",
     "text": [
      "f\n",
      "o\n",
      "r\n",
      " \n",
      "l\n",
      "o\n",
      "o\n",
      " \n",
      "w\n",
      "o\n",
      "r\n"
     ]
    }
   ],
   "source": [
    "for i in s :\n",
    "    if i == 'p' :\n",
    "        continue\n",
    "    if i == 'k' :\n",
    "        break \n",
    "    print(i)\n",
    "else :\n",
    "    print(\"This is an else condition\")"
   ]
  },
  {
   "cell_type": "code",
   "execution_count": 12,
   "id": "f7ed5911-b661-4ef6-a240-90adbd982ce3",
   "metadata": {},
   "outputs": [
    {
     "data": {
      "text/plain": [
       "14"
      ]
     },
     "execution_count": 12,
     "metadata": {},
     "output_type": "execute_result"
    }
   ],
   "source": [
    "len(s)"
   ]
  },
  {
   "cell_type": "code",
   "execution_count": 15,
   "id": "1becc19d-9eaf-4645-896a-ea25591ffcb8",
   "metadata": {},
   "outputs": [
    {
     "name": "stdout",
     "output_type": "stream",
     "text": [
      "*\n",
      "**\n",
      "***\n",
      "****\n",
      "*****\n",
      "******\n",
      "*******\n"
     ]
    }
   ],
   "source": [
    "n = 7\n",
    "for i in range(0 , 7) :\n",
    "    for j in range(0, i+1) :\n",
    "        print(\"*\" , end = \"\")\n",
    "    print(\"\\r\")"
   ]
  },
  {
   "cell_type": "code",
   "execution_count": 17,
   "id": "97738c98-04e6-420d-803c-b09a5fa9e595",
   "metadata": {},
   "outputs": [],
   "source": [
    "# range() is used to generate a sequence of numbers to repeat an action a certain number of times.\n",
    "# Syntax\n",
    "# range(stop)\n",
    "# range(start, stop)\n",
    "# range(start, stop, step)\n",
    "# here , start: The value of the first number in the sequence (default is 0).\n",
    "# stop: The sequence ends before this number (exclusive).\n",
    "# step: The difference between each number in the sequence (default is 1)."
   ]
  },
  {
   "cell_type": "code",
   "execution_count": 18,
   "id": "0698f561-1a32-4a24-a312-79623bd4e1f6",
   "metadata": {},
   "outputs": [],
   "source": [
    " # Question"
   ]
  },
  {
   "cell_type": "code",
   "execution_count": 26,
   "id": "abcf9ae5-d54a-4d99-b515-023c77e15679",
   "metadata": {},
   "outputs": [
    {
     "name": "stdin",
     "output_type": "stream",
     "text": [
      "Enter number of rows to print :  6\n"
     ]
    },
    {
     "name": "stdout",
     "output_type": "stream",
     "text": [
      "***********\n",
      " *********\n",
      "  *******\n",
      "   *****\n",
      "    ***\n",
      "     *\n"
     ]
    }
   ],
   "source": [
    "n = int(input(\"Enter number of rows to print : \"))\n",
    "\n",
    "for i in range(n , 0 , -1) :\n",
    "    for j in range(n-i) :\n",
    "        print(' ' , end = '')\n",
    "\n",
    "    for j in range(2*i - 1) : \n",
    "        print('*' , end = '')\n",
    "    print()"
   ]
  },
  {
   "cell_type": "code",
   "execution_count": 33,
   "id": "74640fc8-5716-42d4-9cf6-e303bc0f744c",
   "metadata": {},
   "outputs": [
    {
     "name": "stdin",
     "output_type": "stream",
     "text": [
      "Enter number of rows to print :  9\n"
     ]
    },
    {
     "name": "stdout",
     "output_type": "stream",
     "text": [
      "        * \n",
      "       * * \n",
      "      * * * \n",
      "     * * * * \n",
      "    * * * * * \n",
      "   * * * * * * \n",
      "  * * * * * * * \n",
      " * * * * * * * * \n",
      "* * * * * * * * * \n"
     ]
    }
   ],
   "source": [
    "n = int(input(\"Enter number of rows to print : \"))\n",
    "i = 0\n",
    "\n",
    "while i < n:\n",
    "    print(' '*(n - i - 1) + '* '*(i+1) )\n",
    "    i += 1"
   ]
  },
  {
   "cell_type": "code",
   "execution_count": 34,
   "id": "1177ba36-dab3-4bd4-81cb-e0f06baa72ad",
   "metadata": {},
   "outputs": [],
   "source": [
    "# List"
   ]
  },
  {
   "cell_type": "code",
   "execution_count": 42,
   "id": "954a8980-60aa-4f4e-a893-4874c4d64517",
   "metadata": {},
   "outputs": [
    {
     "name": "stdout",
     "output_type": "stream",
     "text": [
      "1\n",
      "1312\n",
      "32213.3422\n",
      "adewdew\n"
     ]
    }
   ],
   "source": [
    "l = list()\n",
    "l = ['1' , 1312 , 32213.3422 , \"adewdew\" , True , 42 + 242j , [212,\"313\",False] ] \n",
    "print(l[0])\n",
    "print(l[1])\n",
    "print(l[2])\n",
    "print(l[3])"
   ]
  },
  {
   "cell_type": "code",
   "execution_count": 39,
   "id": "cf71ca46-51fe-42ae-983b-4ad2ba1c8165",
   "metadata": {},
   "outputs": [
    {
     "data": {
      "text/plain": [
       "list"
      ]
     },
     "execution_count": 39,
     "metadata": {},
     "output_type": "execute_result"
    }
   ],
   "source": [
    "type(l)"
   ]
  },
  {
   "cell_type": "code",
   "execution_count": 41,
   "id": "f6ec90f1-ba11-46b3-aa0f-071f46978c10",
   "metadata": {},
   "outputs": [
    {
     "data": {
      "text/plain": [
       "list"
      ]
     },
     "execution_count": 41,
     "metadata": {},
     "output_type": "execute_result"
    }
   ],
   "source": [
    "l1 = []\n",
    "type(l1)"
   ]
  },
  {
   "cell_type": "code",
   "execution_count": 44,
   "id": "f2b3c5d5-6b5c-4cb0-b9e6-9737bea0d2e1",
   "metadata": {},
   "outputs": [
    {
     "name": "stdout",
     "output_type": "stream",
     "text": [
      "<class 'int'>\n",
      "<class 'str'>\n",
      "<class 'bool'>\n"
     ]
    }
   ],
   "source": [
    "for i in l : \n",
    "    if type(i) == list : \n",
    "        for j in i :\n",
    "            print(type(j))\n"
   ]
  },
  {
   "cell_type": "code",
   "execution_count": 45,
   "id": "4b9946d6-cfd1-4ae1-b8b0-1d48f6f59ba6",
   "metadata": {},
   "outputs": [
    {
     "data": {
      "text/plain": [
       "['1', 1312, 32213.3422]"
      ]
     },
     "execution_count": 45,
     "metadata": {},
     "output_type": "execute_result"
    }
   ],
   "source": [
    "l[0:3]"
   ]
  },
  {
   "cell_type": "code",
   "execution_count": 49,
   "id": "baf2aa86-c5f0-43dc-a06e-0628f6f0e377",
   "metadata": {},
   "outputs": [
    {
     "data": {
      "text/plain": [
       "['1', 32213.3422, True, [212, '313', False]]"
      ]
     },
     "execution_count": 49,
     "metadata": {},
     "output_type": "execute_result"
    }
   ],
   "source": [
    "l[0 : 17 : 2] # start and end are ranges not index so they can go beyond indexes ."
   ]
  },
  {
   "cell_type": "code",
   "execution_count": 53,
   "id": "9686852e-5def-41f6-b165-aff0a0a14273",
   "metadata": {},
   "outputs": [
    {
     "data": {
      "text/plain": [
       "[0, 1, 2, 3, 4, 5, 6, 7, 8, 9, 10, 11, 12, 13, 14]"
      ]
     },
     "execution_count": 53,
     "metadata": {},
     "output_type": "execute_result"
    }
   ],
   "source": [
    "list(range(15))"
   ]
  },
  {
   "cell_type": "code",
   "execution_count": null,
   "id": "6ca01364-ff3a-482f-9f0d-e26f96ef589b",
   "metadata": {},
   "outputs": [],
   "source": []
  }
 ],
 "metadata": {
  "kernelspec": {
   "display_name": "Python [conda env:base] *",
   "language": "python",
   "name": "conda-base-py"
  },
  "language_info": {
   "codemirror_mode": {
    "name": "ipython",
    "version": 3
   },
   "file_extension": ".py",
   "mimetype": "text/x-python",
   "name": "python",
   "nbconvert_exporter": "python",
   "pygments_lexer": "ipython3",
   "version": "3.12.7"
  }
 },
 "nbformat": 4,
 "nbformat_minor": 5
}
