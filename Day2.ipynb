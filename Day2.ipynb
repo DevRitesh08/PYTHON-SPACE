{
 "cells": [
  {
   "cell_type": "markdown",
   "id": "d493547110af02b0",
   "metadata": {},
   "source": [
    "# Strings"
   ]
  },
  {
   "cell_type": "markdown",
   "id": "4228730498e494bb",
   "metadata": {},
   "source": [
    "Strings are sequence of Characters\n",
    "\n",
    "In Python specifically, strings are a sequence of **Unicode Characters** , which means it can store characters from any language in the world.\n",
    "\n",
    "- Creating Strings\n",
    "- Accessing Strings\n",
    "- Adding Chars to Strings\n",
    "- Editing Strings\n",
    "- Deleting Strings\n",
    "- Operations on Strings\n",
    "- String Functions"
   ]
  },
  {
   "cell_type": "markdown",
   "id": "aba672ef3da12168",
   "metadata": {},
   "source": [
    "`Unicode` is a computing industry standard for the consistent encoding, representation, and handling of text expressed in most of the world's writing systems. The standard is maintained by the Unicode Consortium."
   ]
  },
  {
   "cell_type": "markdown",
   "id": "30779753fac44cd",
   "metadata": {},
   "source": [
    "## Creating Stings"
   ]
  },
  {
   "cell_type": "code",
   "execution_count": null,
   "id": "4a8967bb-99da-4828-9ef5-aa79ed82dfcf",
   "metadata": {},
   "outputs": [],
   "source": [
    "s = 'hello'\n",
    "s = \"hello\"\n",
    "# multiline strings\n",
    "s = '''hello'''\n",
    "s = \"\"\"hello\n",
    "world\n",
    "!\"\"\"\n",
    "# s = str('hello')\n",
    "print(s)"
   ]
  },
  {
   "cell_type": "markdown",
   "id": "d5e56bf3de46fda8",
   "metadata": {},
   "source": [
    "Why multiple ways to create strings?\n",
    "- Single quotes and double quotes are used to create single line strings.\n",
    "    - If a string contains a single quote, it is better to use double quotes to avoid escaping the single quote.\n",
    "    - If a string contains double quotes, it is better to use single quotes to avoid escaping the double quotes.\n",
    "- Triple quotes are used to create multi-line strings , which can span multiple lines , here also single and double quotes can be used.\n",
    "- str() is a constructor that can convert other data types to strings."
   ]
  },
  {
   "cell_type": "code",
   "execution_count": null,
   "id": "e790abf8-8669-4122-8a94-fcbb60a0d2a9",
   "metadata": {},
   "outputs": [],
   "source": [
    "\"it's raining outside\""
   ]
  },
  {
   "cell_type": "markdown",
   "id": "62760b485e7e5f15",
   "metadata": {},
   "source": [
    "## Accessing Substrings from a String"
   ]
  },
  {
   "cell_type": "markdown",
   "id": "8f5ccaedd332ce9d",
   "metadata": {},
   "source": [
    "### Indexing\n",
    "- Each character in a string has a unique index associated with it.\n",
    "- Indexing starts from 0 for the first character, 1 for the second character, and so on.\n",
    "- Negative indexing is also supported, where -1 represents the last character, -2 represents the second last character, and so on."
   ]
  },
  {
   "cell_type": "code",
   "execution_count": null,
   "id": "3ae38124-0500-4f2b-af03-fd2af3fd4554",
   "metadata": {},
   "outputs": [],
   "source": [
    "# Positive Indexing\n",
    "s = 'hello world'\n",
    "print(s[0])  #h\n",
    "print(s[1])  #e\n",
    "print(s[2])  #l\n",
    "print(s[3])  #l\n",
    "print(s[4])  #o"
   ]
  },
  {
   "cell_type": "code",
   "execution_count": null,
   "id": "4449966be4b41313",
   "metadata": {},
   "outputs": [],
   "source": [
    "# Negative Indexing\n",
    "s = 'hello world'\n",
    "print(s[-1])  #d\n",
    "print(s[-2])  #l\n",
    "print(s[-3])  #r\n",
    "print(s[-4])  #o\n",
    "print(s[-5])  #w"
   ]
  },
  {
   "cell_type": "markdown",
   "id": "e92a3cf58ef85217",
   "metadata": {},
   "source": [
    "### Slicing\n",
    "- Slicing is used to extract a substring from a string.\n",
    "- The syntax for slicing is `string[start:end:step]`, where:\n",
    "    - `start` is the index to start the slice (inclusive).\n",
    "    - `end` is the index to end the slice (exclusive).\n",
    "    - `step` is the step size (optional, default is 1)."
   ]
  },
  {
   "cell_type": "markdown",
   "id": "6744c88b2859b710",
   "metadata": {},
   "source": [
    "**Slicing does not modify the original string, it returns a new substring.**"
   ]
  },
  {
   "cell_type": "code",
   "execution_count": null,
   "id": "16aee2754cc7517b",
   "metadata": {},
   "outputs": [],
   "source": [
    "s = \"python is awesome\"\n",
    "print(s[0:6])  #python\n",
    "print(s[7:9])  #is\n",
    "print(s[10:17])  #awesome"
   ]
  },
  {
   "cell_type": "markdown",
   "id": "bc6bf0491c37821d",
   "metadata": {},
   "source": [
    "- If `start` is omitted, it defaults to 0.\n",
    "- If `end` is omitted, it defaults to the length of the string.\n",
    "- If `step` is omitted, it defaults to 1."
   ]
  },
  {
   "cell_type": "code",
   "execution_count": null,
   "id": "d5384a8c167cd2f0",
   "metadata": {},
   "outputs": [],
   "source": [
    "print(s[:6])  #python\n",
    "print(s[7:])  #is awesome\n",
    "print(s[:])  #python is awesome"
   ]
  },
  {
   "cell_type": "code",
   "execution_count": null,
   "id": "3b80a45d1824310e",
   "metadata": {},
   "outputs": [],
   "source": [
    "print(s[::2])  #pto saeoe\n",
    "print(s[::3])  #ph sae\n",
    "print(s[::4])  #pniwm"
   ]
  },
  {
   "cell_type": "markdown",
   "id": "4c86a3f7f19c773d",
   "metadata": {},
   "source": [
    "- Negative step values can be used to reverse the string."
   ]
  },
  {
   "cell_type": "code",
   "execution_count": null,
   "id": "1c855ad12af512bb",
   "metadata": {},
   "outputs": [],
   "source": [
    "print(s[::-1])  #emosewa si nohtyp (reversed string) ==> important\n",
    "print(s[::-2])  #esoai oht\n",
    "print(s[::-3])  #eoa nyp"
   ]
  },
  {
   "cell_type": "code",
   "execution_count": null,
   "id": "a962f454b1a28b78",
   "metadata": {},
   "outputs": [],
   "source": [
    "print(s[-1:-6:-1])  #emose\n",
    "print(s[-6:-1])  #aweso\n",
    "print(s[-6:])  #awesome"
   ]
  },
  {
   "cell_type": "code",
   "execution_count": null,
   "id": "2088358d9cbc7c16",
   "metadata": {},
   "outputs": [],
   "source": [
    "print(s[6:0:-1])  #nohtyp\n",
    "print(s[10:6:-1])  #si\n",
    "print(s[17:10:-1])  #emosewa\n",
    "print(s[5:15:2])  #yoi sae\n",
    "print(s[15:5:-2])  #eoa iyt"
   ]
  },
  {
   "cell_type": "markdown",
   "id": "a779851c84c03237",
   "metadata": {},
   "source": [
    "- If `start` is greater than `end` and `step` is positive, an empty string is returned , so always ensure that start < end for positive step.\n",
    "- If `start` is less than `end` and `step` is negative, an empty string is returned. , so always ensure that start > end for negative step.\n",
    "- If `step` is 0, a `ValueError` is raised."
   ]
  },
  {
   "cell_type": "code",
   "execution_count": null,
   "id": "c23cebd7150924cd",
   "metadata": {},
   "outputs": [],
   "source": [
    "print(\"Empty Strings below\")\n",
    "print(s[5:15:-2])  #empty string\n",
    "print(s[15:5:2])  #empty string\n",
    "# print(s[5:15:0])  #ValueError"
   ]
  },
  {
   "cell_type": "markdown",
   "id": "51363812aab8eef1",
   "metadata": {},
   "source": [
    "- If `start` or `end` are out of bounds, they are adjusted to fit within the string length."
   ]
  },
  {
   "cell_type": "code",
   "execution_count": null,
   "id": "f7ed5911-b661-4ef6-a240-90adbd982ce3",
   "metadata": {},
   "outputs": [],
   "source": [
    "print(s[20:25])  #empty string\n",
    "print(s[-25:5])  #pytho\n",
    "print(s[5:25])  #n is awesome"
   ]
  },
  {
   "cell_type": "markdown",
   "id": "f04910f583d7b176",
   "metadata": {},
   "source": [
    "## Editing and Deleting in Strings"
   ]
  },
  {
   "cell_type": "code",
   "execution_count": null,
   "id": "da240e092154535f",
   "metadata": {},
   "outputs": [],
   "source": [
    "# Editing\n",
    "s = 'hello world'\n",
    "s[0] = 'H'  #TypeError: 'str' object does not support item assignment\n",
    "print(s)\n",
    "\n",
    "# Python strings are immutable"
   ]
  },
  {
   "cell_type": "markdown",
   "id": "a9294b60fbd0378d",
   "metadata": {},
   "source": [
    "`strings` are immutable, which means once a string is created, it cannot be modified. Any operation that seems to modify a string actually creates a new string."
   ]
  },
  {
   "cell_type": "code",
   "execution_count": null,
   "id": "62267db81ce44200",
   "metadata": {},
   "outputs": [],
   "source": [
    "# Deleting\n",
    "s = 'hello world'\n",
    "del s\n",
    "print(s)  #NameError: name 's' is not defined"
   ]
  },
  {
   "cell_type": "code",
   "execution_count": null,
   "id": "f32fa1e461a7fcf7",
   "metadata": {},
   "outputs": [],
   "source": [
    "# Deleting a part of string using slicing is also not possible since strings are immutable\n",
    "s = 'hello world'\n",
    "del s[-1:-5:2]\n",
    "print(s)"
   ]
  },
  {
   "cell_type": "markdown",
   "id": "9338c9a93700ff1a",
   "metadata": {},
   "source": [
    "## Operations on Strings\n",
    "\n",
    "- `Arithmetic Operations :` It includes concatenation (+) and repetition (*) on strings.\n",
    "- `Relational Operations :` It includes comparison operators like ==, !=, <, >, <=, >= to compare strings lexicographically.\n",
    "- `Logical Operations :` It includes logical operators like and, or, not to combine multiple conditions involving strings.\n",
    "- `Loops on Strings :` It includes iterating over each character in a string using loops like for and while.\n",
    "- `Membership Operations :` It includes checking if a substring exists within a string using in and not in operators."
   ]
  },
  {
   "cell_type": "markdown",
   "id": "37533069a9f7c4f9",
   "metadata": {},
   "source": [
    "#### Arithmetic Operations"
   ]
  },
  {
   "cell_type": "code",
   "execution_count": null,
   "id": "9cfa2e38b62e3cde",
   "metadata": {},
   "outputs": [],
   "source": [
    "print('Rajasthan' + ' ' + 'Haryana')"
   ]
  },
  {
   "cell_type": "code",
   "execution_count": null,
   "id": "f5d477c8da4e0c13",
   "metadata": {},
   "outputs": [],
   "source": [
    "print('Haryana '*5)"
   ]
  },
  {
   "cell_type": "code",
   "execution_count": null,
   "id": "955ac0db36e2953",
   "metadata": {},
   "outputs": [],
   "source": [
    "print(\"*\"*50)\n",
    "# Commonly used to create separators or borders in console output"
   ]
  },
  {
   "cell_type": "markdown",
   "id": "28984d481ee39544",
   "metadata": {},
   "source": [
    "#### Relational Operations"
   ]
  },
  {
   "cell_type": "code",
   "execution_count": null,
   "id": "7fe7f9e456841847",
   "metadata": {},
   "outputs": [],
   "source": [
    "'Haryana' != 'Haryana'"
   ]
  },
  {
   "cell_type": "code",
   "execution_count": null,
   "id": "21602691e100929a",
   "metadata": {},
   "outputs": [],
   "source": [
    "'Haryana' > 'Rajasthan'\n",
    "# lexicographically greater than"
   ]
  },
  {
   "cell_type": "code",
   "execution_count": null,
   "id": "ba4ed84a0d80328e",
   "metadata": {},
   "outputs": [],
   "source": [
    "'Haryana' > 'haryana'\n",
    "# lexicographically smaller than because ASCII value of 'H' is 72 and 'h' is 104"
   ]
  },
  {
   "cell_type": "code",
   "execution_count": null,
   "id": "9c2d0f6d576b7f4",
   "metadata": {},
   "outputs": [],
   "source": [
    "'Haryana' >= 'Haryana'"
   ]
  },
  {
   "cell_type": "markdown",
   "id": "7ddc92b5779ac70b",
   "metadata": {},
   "source": [
    "#### Logical Operations\n",
    "\n",
    "In Python, logical operations can be performed on strings using the `and`, `or`, and `not` operators. These operators evaluate the truthiness of the strings involved in the operation.\n",
    "\n",
    "In python non-empty strings are considered `True` and empty strings are considered `False` ."
   ]
  },
  {
   "cell_type": "code",
   "execution_count": null,
   "id": "6ca01364-ff3a-482f-9f0d-e26f96ef589b",
   "metadata": {},
   "outputs": [],
   "source": [
    "'Haryana' and 'Rajasthan'\n",
    "# Here both strings are non-empty, so the result is the last evaluated operand because for `and` operator both operands has to be true hence it checks both and returns the last checked operand ."
   ]
  },
  {
   "cell_type": "code",
   "execution_count": null,
   "id": "bbfa7a8aa3093a23",
   "metadata": {},
   "outputs": [],
   "source": [
    "'Haryana' and ''\n",
    "# Here the first string is non-empty , but the second string is empty (falsy), so the result is the first false operand because for `and` operator both operands has to be true hence it stops at the first falsy operand and returns it."
   ]
  },
  {
   "cell_type": "code",
   "execution_count": null,
   "id": "3ce0af848eaf4a6a",
   "metadata": {},
   "outputs": [],
   "source": [
    "'' and 'Rajasthan'"
   ]
  },
  {
   "cell_type": "code",
   "execution_count": null,
   "id": "a4d7db6bd4bbf6a",
   "metadata": {},
   "outputs": [],
   "source": [
    "'Haryana' or 'Rajasthan'\n",
    "# Here the first string is non-empty (True), so the result is the first true operand because for `or` operator only one operand has to be true hence it stops at the first true operand and returns it."
   ]
  },
  {
   "cell_type": "code",
   "execution_count": null,
   "id": "1561aa3e862536e8",
   "metadata": {},
   "outputs": [],
   "source": [
    "'Rajasthan' or 'Haryana'"
   ]
  },
  {
   "cell_type": "code",
   "execution_count": null,
   "id": "dfeaa0a2f093d756",
   "metadata": {},
   "outputs": [],
   "source": [
    "'' or 'Haryana'\n",
    "# Here the first string is empty (false), but the second string is non-empty (true), so the result is the second true operand because for `or` operator only one operand has to be true hence it checks the first operand finds it false and moves to the second operand and returns it."
   ]
  },
  {
   "cell_type": "code",
   "execution_count": null,
   "id": "fd6cd498fbada561",
   "metadata": {},
   "outputs": [],
   "source": [
    "'Haryana' or ''"
   ]
  },
  {
   "cell_type": "code",
   "execution_count": null,
   "id": "9bfa1415284e955d",
   "metadata": {},
   "outputs": [],
   "source": [
    "not 'hello'"
   ]
  },
  {
   "cell_type": "code",
   "execution_count": null,
   "id": "27cc1ab915c48e72",
   "metadata": {},
   "outputs": [],
   "source": [
    "not \"\""
   ]
  },
  {
   "cell_type": "markdown",
   "id": "c1833b29f30041a1",
   "metadata": {},
   "source": [
    "#### Loops on Strings"
   ]
  },
  {
   "cell_type": "code",
   "execution_count": null,
   "id": "5062806f9682123",
   "metadata": {},
   "outputs": [],
   "source": [
    "for ch in \"Haryana\":\n",
    "    print(ch)"
   ]
  },
  {
   "cell_type": "code",
   "execution_count": null,
   "id": "1ce4b4be5dce78a0",
   "metadata": {},
   "outputs": [],
   "source": [
    "for ch in \"Harayana\":\n",
    "    print(\"Rajasthan\")\n",
    "# prints Rajasthan 8 times because there are 8 characters in the string \"Harayana\""
   ]
  },
  {
   "cell_type": "markdown",
   "id": "889863106a2b7c75",
   "metadata": {},
   "source": [
    "#### Membership Operations"
   ]
  },
  {
   "cell_type": "code",
   "execution_count": null,
   "id": "fc3b30bcfc580283",
   "metadata": {},
   "outputs": [],
   "source": [
    "'n' in 'Haryana'"
   ]
  },
  {
   "cell_type": "code",
   "execution_count": null,
   "id": "b1ad8c308dea4c00",
   "metadata": {},
   "outputs": [],
   "source": [
    "'n' not in 'Haryana'"
   ]
  },
  {
   "cell_type": "markdown",
   "id": "324810d46db6b6a5",
   "metadata": {},
   "source": [
    "## Common Functions\n",
    "These functions can be used with strings , tuples , lists , sets , dictionaries etc.\n",
    "\n",
    "- `len() :` Returns the length of the string.\n",
    "- `min() :` Returns the smallest character in the string based on ASCII value.\n",
    "- `max() :` Returns the largest character in the string based on ASCII value.\n",
    "- `sorted() :` Returns a sorted list of characters in the string."
   ]
  },
  {
   "cell_type": "code",
   "execution_count": null,
   "id": "e9019415a71cd495",
   "metadata": {},
   "outputs": [],
   "source": [
    "len('hello world')"
   ]
  },
  {
   "cell_type": "code",
   "execution_count": null,
   "id": "28986006c026403f",
   "metadata": {},
   "outputs": [],
   "source": [
    "max('hello world')"
   ]
  },
  {
   "cell_type": "code",
   "execution_count": null,
   "id": "5875e53c0433a7aa",
   "metadata": {},
   "outputs": [],
   "source": [
    "min('hello world')\n",
    "# Here space has the smallest ASCII value of 32"
   ]
  },
  {
   "cell_type": "code",
   "execution_count": null,
   "id": "cb26c08713bb2155",
   "metadata": {},
   "outputs": [],
   "source": [
    "sorted('hello world',reverse=True)  # By default, it sorts in ascending order but here we have used reverse=True to sort in descending order\n",
    "# returns a list of characters sorted in descending order not a string ."
   ]
  },
  {
   "cell_type": "markdown",
   "id": "2df4429af17a7030",
   "metadata": {},
   "source": [
    "## Capitalize/Title/Upper/Lower/Swapcase"
   ]
  },
  {
   "cell_type": "markdown",
   "id": "1e6894062ca57063",
   "metadata": {},
   "source": [
    "`capitalize()` : It converts the first character to uppercase and the rest to lowercase."
   ]
  },
  {
   "cell_type": "code",
   "execution_count": null,
   "id": "5e901d5807ef15a1",
   "metadata": {},
   "outputs": [],
   "source": [
    "s = 'hello world'\n",
    "print(s.capitalize())   # it returns a new string and does not modify the original string\n",
    "print(s)"
   ]
  },
  {
   "cell_type": "markdown",
   "id": "fedb36e23bc7a9b",
   "metadata": {},
   "source": [
    "**Here original string is not modified because strings are immutable.**"
   ]
  },
  {
   "cell_type": "markdown",
   "id": "a8f150cf7ce50113",
   "metadata": {},
   "source": [
    "`title()` : It converts the first character of each word to uppercase ."
   ]
  },
  {
   "cell_type": "code",
   "execution_count": null,
   "id": "6744a91a3873b46b",
   "metadata": {},
   "outputs": [],
   "source": [
    "s.title()"
   ]
  },
  {
   "cell_type": "markdown",
   "id": "2d4d1651ba6e4e2f",
   "metadata": {},
   "source": [
    "`upper()` : It converts all characters to uppercase."
   ]
  },
  {
   "cell_type": "code",
   "execution_count": null,
   "id": "cbe2ff1f6b2548dd",
   "metadata": {},
   "outputs": [],
   "source": [
    "s.upper()"
   ]
  },
  {
   "cell_type": "markdown",
   "id": "89ab5eb4a93388b3",
   "metadata": {},
   "source": [
    "`lower()` : It converts all characters to lowercase."
   ]
  },
  {
   "cell_type": "code",
   "execution_count": null,
   "id": "e11e734540c42fa3",
   "metadata": {},
   "outputs": [],
   "source": [
    "'Hello Wolrd'.lower()"
   ]
  },
  {
   "cell_type": "markdown",
   "id": "f24121fad05cfd6c",
   "metadata": {},
   "source": [
    "`swapcase()` : It converts uppercase characters to lowercase and vice versa."
   ]
  },
  {
   "cell_type": "code",
   "execution_count": null,
   "id": "cb733ad8d4e7ea58",
   "metadata": {},
   "outputs": [],
   "source": [
    "'HeLlO WorLD'.swapcase()"
   ]
  },
  {
   "cell_type": "markdown",
   "id": "8d3b45e3e3fbe798",
   "metadata": {},
   "source": [
    "## Count/Find/Index"
   ]
  },
  {
   "cell_type": "markdown",
   "id": "9d8dbc80770effaa",
   "metadata": {},
   "source": [
    "`count(substring)` : It returns the number of occurrences of a substring in the string."
   ]
  },
  {
   "cell_type": "code",
   "execution_count": null,
   "id": "19f52e0029315c30",
   "metadata": {},
   "outputs": [],
   "source": [
    "'my name is ritesh swami'.count('i')"
   ]
  },
  {
   "cell_type": "markdown",
   "id": "c0c06edbba49a7fd",
   "metadata": {},
   "source": [
    "`find(substring)` : It returns the lowest index of the substring if found in the string. If not found, it returns -1.\n",
    "\n",
    "syntax :\n",
    "    \n",
    "    `find(substring, start, end)` , where start and end are optional parameters to specify the range to search.\n",
    "    `index(substring)` : It returns the lowest index of the substring if found in the string. If not found, it raises a `ValueError`.\n",
    "    `rfind(substring)` : It returns the highest index of the substring if found in the string. If not found, it returns -1."
   ]
  },
  {
   "cell_type": "code",
   "execution_count": null,
   "id": "7e0565ccc8fd1326",
   "metadata": {},
   "outputs": [],
   "source": [
    "'my name is ritesh swami'.find('x')"
   ]
  },
  {
   "cell_type": "markdown",
   "id": "d3a9e62e306d964d",
   "metadata": {},
   "source": [
    "`index(substring)` : It returns the lowest index of the substring if found in the string. If not found, it raises a `ValueError`."
   ]
  },
  {
   "cell_type": "code",
   "execution_count": null,
   "id": "60b4db643027b5b0",
   "metadata": {},
   "outputs": [],
   "source": [
    "'my name is ritesh swami'.index('x')  #ValueError"
   ]
  },
  {
   "cell_type": "markdown",
   "id": "332fdd64b685b2b2",
   "metadata": {},
   "source": [
    "## endswith/startswith"
   ]
  },
  {
   "cell_type": "markdown",
   "id": "baf7033c46bc48c3",
   "metadata": {},
   "source": [
    "`endswith(suffix)` : It returns `True` if the string ends with the specified suffix, otherwise it returns `False`."
   ]
  },
  {
   "cell_type": "code",
   "execution_count": null,
   "id": "9b23c0580c7a90a0",
   "metadata": {},
   "outputs": [],
   "source": [
    "'my name is ritesh swami'.endswith('ami')"
   ]
  },
  {
   "cell_type": "markdown",
   "id": "d3540eb7e5f30808",
   "metadata": {},
   "source": [
    "`startswith(prefix)` : It returns `True` if the string starts with the specified prefix, otherwise it returns `False`."
   ]
  },
  {
   "cell_type": "code",
   "execution_count": null,
   "id": "c24c7a4fc04ca093",
   "metadata": {},
   "outputs": [],
   "source": [
    "'my name is ritesh swami'.startswith('my n')"
   ]
  },
  {
   "cell_type": "markdown",
   "id": "cb38b920ab68bb29",
   "metadata": {},
   "source": [
    "## format\n",
    "It is used to format strings by embedding variables or expressions within a string.\n",
    "\n",
    "syntax:\n",
    "```python\n",
    "'string with placeholders {}'.format(values)\n",
    "```\n",
    "order of values should match the order of placeholders or else we can provide order using index inside {}, it starts from 0."
   ]
  },
  {
   "cell_type": "code",
   "execution_count": null,
   "id": "8c7745f3d6ae801f",
   "metadata": {},
   "outputs": [],
   "source": [
    "name = 'Ritesh'\n",
    "state = 'Haryana'\n",
    "print('My name is {} and I am from {}'.format(name, state))"
   ]
  },
  {
   "cell_type": "code",
   "execution_count": null,
   "id": "785ebcba471ca285",
   "metadata": {},
   "outputs": [],
   "source": [
    "name = 'Ritesh'\n",
    "state = 'Haryana'\n",
    "'Hi my name is {1} and I am from {0}'.format(name,state)"
   ]
  },
  {
   "cell_type": "markdown",
   "id": "276ea353ccd15b45",
   "metadata": {},
   "source": [
    "## isalnum/ isalpha/ isdigit/ isidentifier"
   ]
  },
  {
   "cell_type": "markdown",
   "id": "3041ef6d1d0c7e0a",
   "metadata": {},
   "source": [
    "`isalnum()` : It returns `True` if all characters in the string are alphanumeric (letters and numbers) and there is at least one character, otherwise it returns `False`."
   ]
  },
  {
   "cell_type": "code",
   "execution_count": null,
   "id": "a8033e1ce2ecbfdb",
   "metadata": {},
   "outputs": [],
   "source": [
    "'Ritesh123'.isalnum()\n",
    "# True if all characters are alphanumeric (letters and numbers) and there is at least one character, otherwise False ."
   ]
  },
  {
   "cell_type": "code",
   "execution_count": null,
   "id": "1ecaab1820d9e592",
   "metadata": {},
   "outputs": [],
   "source": [
    "'Ritesh'.isalnum()"
   ]
  },
  {
   "cell_type": "markdown",
   "id": "16adc9b5963acc2a",
   "metadata": {},
   "source": [
    "Here all characters are alphabets so it returns True because alphabets are also considered as alphanumeric characters."
   ]
  },
  {
   "cell_type": "code",
   "execution_count": null,
   "id": "f239c26e8a0261e",
   "metadata": {},
   "outputs": [],
   "source": [
    "'ritesh@123'.isalnum()\n",
    "# False because of special character '@'"
   ]
  },
  {
   "cell_type": "markdown",
   "id": "a63533669e51982",
   "metadata": {},
   "source": [
    "`isalpha()` : It returns `True` if all characters in the string are alphabets and there is at least one character, otherwise it returns `False`."
   ]
  },
  {
   "cell_type": "code",
   "execution_count": null,
   "id": "7476ead2c6b9ef11",
   "metadata": {},
   "outputs": [],
   "source": [
    "'nitish'.isalpha()"
   ]
  },
  {
   "cell_type": "code",
   "execution_count": null,
   "id": "4df08250f212866f",
   "metadata": {},
   "outputs": [],
   "source": [
    "`Ritesh123`.isalpha()"
   ]
  },
  {
   "cell_type": "markdown",
   "id": "67493891fb09bcf7",
   "metadata": {},
   "source": [
    "`isdigit()` : It returns `True` if all characters in the string are digits and there is at least one character, otherwise it returns `False`."
   ]
  },
  {
   "cell_type": "code",
   "execution_count": null,
   "id": "21b12f5a20e3bd5f",
   "metadata": {},
   "outputs": [],
   "source": [
    "'123abc'.isdigit()"
   ]
  },
  {
   "cell_type": "code",
   "execution_count": null,
   "id": "19ea01cb4269c3b0",
   "metadata": {},
   "outputs": [],
   "source": [
    "'123456'.isdigit()"
   ]
  },
  {
   "cell_type": "markdown",
   "id": "3390c36d2a1131cb",
   "metadata": {},
   "source": [
    "`isidentifier()` : It returns `True` if the string is a valid identifier (variable name) in Python, otherwise it returns `False`. A valid identifier must start with a letter (a-z, A-Z) or an underscore (_) and can be followed by letters, digits (0-9), or underscores."
   ]
  },
  {
   "cell_type": "code",
   "execution_count": null,
   "id": "9dcadafa73b48aae",
   "metadata": {},
   "outputs": [],
   "source": [
    "'first-name'.isidentifier()"
   ]
  },
  {
   "cell_type": "code",
   "execution_count": null,
   "id": "31ab37aff42ff5a7",
   "metadata": {},
   "outputs": [],
   "source": [
    "'_first_name'.isidentifier()"
   ]
  },
  {
   "cell_type": "markdown",
   "id": "23a9c1f87b160dcc",
   "metadata": {},
   "source": [
    "## Split/Join"
   ]
  },
  {
   "cell_type": "markdown",
   "id": "c7fa65a439cc209",
   "metadata": {},
   "source": [
    "`split(delimiter)` : It splits the string into a list of substrings based on the specified delimiter. If no delimiter is provided, it splits on whitespace by default."
   ]
  },
  {
   "cell_type": "code",
   "execution_count": null,
   "id": "a1f979c3697f2694",
   "metadata": {},
   "outputs": [],
   "source": [
    "'my name is ritesh swami'.split()"
   ]
  },
  {
   "cell_type": "code",
   "execution_count": null,
   "id": "733561599bda3ddb",
   "metadata": {},
   "outputs": [],
   "source": [
    "'my,name,is,ritesh,swami'.split(',')"
   ]
  },
  {
   "cell_type": "code",
   "execution_count": null,
   "id": "2bf5b63597ddbb88",
   "metadata": {},
   "outputs": [],
   "source": [
    "'my name is ritesh swami'.split('is')\n",
    "# Here it splits the string at each occurrence of the substring 'is'"
   ]
  },
  {
   "cell_type": "markdown",
   "id": "82a2cf93d97d8833",
   "metadata": {},
   "source": [
    "`join(iterable)` : It joins the elements of an iterable (like a list or tuple) into a single string, with the specified string as the separator."
   ]
  },
  {
   "cell_type": "code",
   "execution_count": null,
   "id": "743b98166671fe0a",
   "metadata": {},
   "outputs": [],
   "source": [
    "\" \".join(['hi', 'my', 'name', 'is', 'ritesh'])"
   ]
  },
  {
   "cell_type": "code",
   "execution_count": null,
   "id": "d703639867a82534",
   "metadata": {},
   "outputs": [],
   "source": [
    "\"$\".join(['hi', 'my', 'name', 'is', 'ritesh'])"
   ]
  },
  {
   "cell_type": "markdown",
   "id": "35c5afe987c342d7",
   "metadata": {},
   "source": [
    "## Replace\n",
    "It replaces all occurrences of a specified substring with another substring.\n",
    "syntax:\n",
    "```python\n",
    "string.replace(old, new, count)\n",
    "```\n",
    "- `old` : The substring to be replaced.\n",
    "- `new` : The substring to replace with.\n",
    "- `count` : (Optional) The maximum number of occurrences to replace. If not provided, all occurrences are replaced."
   ]
  },
  {
   "cell_type": "code",
   "execution_count": null,
   "id": "1f81b4ff7d23f27a",
   "metadata": {},
   "outputs": [],
   "source": [
    "'hi my name is ritesh'.replace('ritesh', 'RITESH SWAMI')\n",
    "# Here it replaces all occurrences of the substring 'ritesh' with 'RITESH SWAMI'"
   ]
  },
  {
   "cell_type": "code",
   "execution_count": null,
   "id": "170a919391eff8d8",
   "metadata": {},
   "outputs": [],
   "source": [
    "'hi my name is ritesh ritesh'.replace('ritesh', 'RITESH SWAMI', 1)"
   ]
  },
  {
   "cell_type": "markdown",
   "id": "7f38502a2a593960",
   "metadata": {},
   "source": [
    "Always remember we are not changing the original string because strings are immutable, it returns a new string with the replacements made."
   ]
  },
  {
   "cell_type": "markdown",
   "id": "252b1da9d75a9b40",
   "metadata": {},
   "source": [
    "## Strip\n",
    "It removes leading and trailing whitespace (spaces, tabs, newlines) from the string. It can also remove specified characters from both ends of the string.\n",
    "\n",
    "- Real world use cases:\n",
    "    - Cleaning user input by removing extra spaces in form fields , especially in names, addresses, etc.\n",
    "    - Preprocessing text data for analysis or machine learning.\n",
    "    - Formatting strings for display or storage.\n",
    "    - Preparing strings for comparison or searching.\n",
    "syntax:\n",
    "```python\n",
    "string.strip(chars)\n",
    "```\n",
    "- `chars` : (Optional) A string specifying the set of characters to be removed. If not provided, it removes whitespace by default."
   ]
  },
  {
   "cell_type": "code",
   "execution_count": null,
   "id": "7aa933719d435e88",
   "metadata": {},
   "outputs": [],
   "source": [
    "'   hello world   '.strip()"
   ]
  },
  {
   "cell_type": "code",
   "execution_count": null,
   "id": "2e449a41961804e0",
   "metadata": {},
   "outputs": [],
   "source": [
    "'***hello world***'.strip('*')\n",
    "# Here it removes all leading and trailing '*' characters from the string"
   ]
  },
  {
   "cell_type": "markdown",
   "id": "69ce1dd78e58d416",
   "metadata": {},
   "source": [
    "## Questions"
   ]
  },
  {
   "cell_type": "markdown",
   "id": "54201b0380ccd103",
   "metadata": {},
   "source": [
    "Q :  Find the length of a given string without using the len() function"
   ]
  },
  {
   "cell_type": "code",
   "execution_count": null,
   "id": "1f9a1ff3713a8dd2",
   "metadata": {},
   "outputs": [],
   "source": [
    "s = input('enter the string')\n",
    "\n",
    "counter = 0\n",
    "\n",
    "for i in s:\n",
    "  counter += 1\n",
    "\n",
    "print('length of string is',counter)"
   ]
  },
  {
   "cell_type": "markdown",
   "id": "7ad71b76697acb09",
   "metadata": {},
   "source": [
    "Q : Extract username from a given email .  like if the email is riteshswami123@gmail.com then the username should be riteshswami123 ."
   ]
  },
  {
   "cell_type": "code",
   "execution_count": null,
   "id": "2ae1640514eace35",
   "metadata": {},
   "outputs": [],
   "source": [
    "s = input('enter the email')\n",
    "\n",
    "pos = s.index('@')\n",
    "print(s[0:pos])"
   ]
  },
  {
   "cell_type": "markdown",
   "id": "3adfdd33a52d4854",
   "metadata": {},
   "source": [
    "Q : Count the frequency of a particular character in a provided string. ex 'hello how are you' is the string, the frequency of h in this string is 2"
   ]
  },
  {
   "cell_type": "code",
   "execution_count": null,
   "id": "8a7bccc437b72c07",
   "metadata": {},
   "outputs": [],
   "source": [
    "s = input('enter the string : ')\n",
    "term = input('what would like to search for : ')\n",
    "\n",
    "counter = 0\n",
    "for i in s:\n",
    "  if i == term:\n",
    "    counter += 1\n",
    "\n",
    "print('frequency',counter)"
   ]
  },
  {
   "cell_type": "markdown",
   "id": "93ad46016f2d80a7",
   "metadata": {},
   "source": [
    "Q : Write a program which can remove a particular character from a string."
   ]
  },
  {
   "cell_type": "code",
   "execution_count": null,
   "id": "d0f0e1281672c592",
   "metadata": {},
   "outputs": [],
   "source": [
    "# since strings are immutable we cannot remove a character from a string directly but we can create a new string without that character .\n",
    "s = input('enter the string')\n",
    "term = input('what would like to remove')\n",
    "\n",
    "result = ''\n",
    "\n",
    "for i in s:\n",
    "  if i != term:\n",
    "    result = result + i\n",
    "\n",
    "print(result)"
   ]
  },
  {
   "cell_type": "markdown",
   "id": "16d7f07110b5fec8",
   "metadata": {},
   "source": [
    "Q : Check every character in a given string is vowel or not."
   ]
  },
  {
   "cell_type": "code",
   "execution_count": null,
   "id": "17b512158a61fe24",
   "metadata": {},
   "outputs": [],
   "source": [
    "name = \"Ritesh Swami\"\n",
    "vowel = \"AaEeIiOoUu\"\n",
    "\n",
    "for i in name :\n",
    "    if i in vowel :\n",
    "        print(\"{} is a vowel \".format(i))\n",
    "    else :\n",
    "        print(\"{} is not a vowel \".format(i))"
   ]
  },
  {
   "cell_type": "markdown",
   "id": "af61db75fd7ac021",
   "metadata": {},
   "source": [
    "Q : Check whether a given string is a palindrome or not. A palindrome is a string which reads the same forwards and backwards. ex: abba, malayalam"
   ]
  },
  {
   "cell_type": "code",
   "execution_count": null,
   "id": "57d7bf419115bb6f",
   "metadata": {},
   "outputs": [],
   "source": [
    "s = input('enter the string')\n",
    "flag = True\n",
    "for i in range(0,len(s)//2):\n",
    "  if s[i] != s[len(s) - i -1]:\n",
    "    flag = False\n",
    "    print('Not a Palindrome')\n",
    "    break\n",
    "\n",
    "if flag:\n",
    "  print('Palindrome')"
   ]
  },
  {
   "cell_type": "markdown",
   "id": "bf06a665c3985a46",
   "metadata": {},
   "source": [
    "Q : Write a program to split a string without using the split() function."
   ]
  },
  {
   "cell_type": "code",
   "execution_count": null,
   "id": "cf54f0c8c38b8082",
   "metadata": {},
   "outputs": [],
   "source": [
    "s = input('enter the string')\n",
    "L = []\n",
    "temp = ''\n",
    "for i in s:\n",
    "\n",
    "  if i != ' ':\n",
    "    temp = temp + i\n",
    "  else:\n",
    "    L.append(temp)\n",
    "    temp = ''\n",
    "\n",
    "L.append(temp)\n",
    "print(L)"
   ]
  },
  {
   "cell_type": "markdown",
   "id": "7d153a2f6ca92ba7",
   "metadata": {},
   "source": [
    "Q : Write a python program to convert a string to title case without using the title() function."
   ]
  },
  {
   "cell_type": "code",
   "execution_count": null,
   "id": "a374245f49f24c0c",
   "metadata": {},
   "outputs": [],
   "source": [
    "s = input('enter the string')\n",
    "\n",
    "L = []\n",
    "for i in s.split():\n",
    "  L.append(i[0].upper() + i[1:].lower())\n",
    "\n",
    "print(\" \".join(L))"
   ]
  },
  {
   "cell_type": "markdown",
   "id": "aef16d31c3bed6cd",
   "metadata": {},
   "source": [
    "Q : Write a program that can convert an integer to string without using the str() function."
   ]
  },
  {
   "cell_type": "code",
   "execution_count": null,
   "id": "a85675884edd5ef1",
   "metadata": {},
   "outputs": [],
   "source": [
    "its = '0123456789'\n",
    "result = ''\n",
    "while number != 0:\n",
    "  result = digits[number % 10] + result\n",
    "  number = number//10\n",
    "\n",
    "print(result)\n",
    "print(type(result))"
   ]
  },
  {
   "cell_type": "markdown",
   "id": "662379d432c33589",
   "metadata": {},
   "source": [
    "Q : Find the indexes of all the letters present in the word \"ritesh\" but find() should be used once ."
   ]
  },
  {
   "cell_type": "code",
   "execution_count": null,
   "id": "7824771ffaba1276",
   "metadata": {},
   "outputs": [],
   "source": [
    "s = \"my name is Ritesh Swami , but you can just call me by my name Ritesh !\"\n",
    "\n",
    "b = s.find(\"ritesh\")\n",
    "for i in range(len(\"ritesh\")) :\n",
    "    print(b+i)"
   ]
  },
  {
   "cell_type": "markdown",
   "id": "c15284b6",
   "metadata": {},
   "source": [
    "Q : Write a program to find the index of second \"name\" in the given string "
   ]
  },
  {
   "cell_type": "code",
   "execution_count": 5,
   "id": "bd176234",
   "metadata": {},
   "outputs": [
    {
     "name": "stdout",
     "output_type": "stream",
     "text": [
      "40\n"
     ]
    }
   ],
   "source": [
    "s = \"my name is ritesh swami and my friend's name is rahul\"\n",
    "cnt = 0\n",
    "for i in s :\n",
    "    if s.find(\"name\") :\n",
    "        if cnt == 0 :\n",
    "            cnt += 1\n",
    "            continue\n",
    "        else :\n",
    "            print(s.find(\"name\",s.find(\"name\")+1))  # here we are providing the starting index for the search to be one more than the first occurrence of \"name\"\n",
    "            break"
   ]
  }
 ],
 "metadata": {
  "kernelspec": {
   "display_name": "Python 3",
   "language": "python",
   "name": "python3"
  },
  "language_info": {
   "codemirror_mode": {
    "name": "ipython",
    "version": 3
   },
   "file_extension": ".py",
   "mimetype": "text/x-python",
   "name": "python",
   "nbconvert_exporter": "python",
   "pygments_lexer": "ipython3",
   "version": "3.13.7"
  }
 },
 "nbformat": 4,
 "nbformat_minor": 5
}
