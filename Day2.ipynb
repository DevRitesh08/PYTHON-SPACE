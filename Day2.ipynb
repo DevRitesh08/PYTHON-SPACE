{
 "cells": [
  {
   "metadata": {},
   "cell_type": "markdown",
   "source": "# Strings",
   "id": "d493547110af02b0"
  },
  {
   "metadata": {},
   "cell_type": "markdown",
   "source": [
    "Strings are sequence of Characters\n",
    "\n",
    "In Python specifically, strings are a sequence of **Unicode Characters** , which means it can store characters from any language in the world.\n",
    "\n",
    "- Creating Strings\n",
    "- Accessing Strings\n",
    "- Adding Chars to Strings\n",
    "- Editing Strings\n",
    "- Deleting Strings\n",
    "- Operations on Strings\n",
    "- String Functions"
   ],
   "id": "4228730498e494bb"
  },
  {
   "metadata": {},
   "cell_type": "markdown",
   "source": "`Unicode` is a computing industry standard for the consistent encoding, representation, and handling of text expressed in most of the world's writing systems. The standard is maintained by the Unicode Consortium.",
   "id": "aba672ef3da12168"
  },
  {
   "metadata": {},
   "cell_type": "markdown",
   "source": "## Creating Stings",
   "id": "30779753fac44cd"
  },
  {
   "cell_type": "code",
   "id": "4a8967bb-99da-4828-9ef5-aa79ed82dfcf",
   "metadata": {
    "ExecuteTime": {
     "end_time": "2025-09-21T12:21:31.240888Z",
     "start_time": "2025-09-21T12:21:31.235365Z"
    }
   },
   "source": [
    "s = 'hello'\n",
    "s = \"hello\"\n",
    "# multiline strings\n",
    "s = '''hello'''\n",
    "s = \"\"\"hello\n",
    "world\n",
    "!\"\"\"\n",
    "# s = str('hello')\n",
    "print(s)"
   ],
   "outputs": [
    {
     "name": "stdout",
     "output_type": "stream",
     "text": [
      "hello \n",
      "world\n",
      "!\n"
     ]
    }
   ],
   "execution_count": 12
  },
  {
   "metadata": {},
   "cell_type": "markdown",
   "source": [
    "Why multiple ways to create strings?\n",
    "- Single quotes and double quotes are used to create single line strings.\n",
    "    - If a string contains a single quote, it is better to use double quotes to avoid escaping the single quote.\n",
    "    - If a string contains double quotes, it is better to use single quotes to avoid escaping the double quotes.\n",
    "- Triple quotes are used to create multi-line strings , which can span multiple lines , here also single and double quotes can be used.\n",
    "- str() is a constructor that can convert other data types to strings."
   ],
   "id": "d5e56bf3de46fda8"
  },
  {
   "cell_type": "code",
   "id": "e790abf8-8669-4122-8a94-fcbb60a0d2a9",
   "metadata": {
    "ExecuteTime": {
     "end_time": "2025-09-21T12:23:14.306452Z",
     "start_time": "2025-09-21T12:23:14.299174Z"
    }
   },
   "source": "\"it's raining outside\"",
   "outputs": [
    {
     "data": {
      "text/plain": [
       "\"it's raining outside\""
      ]
     },
     "execution_count": 15,
     "metadata": {},
     "output_type": "execute_result"
    }
   ],
   "execution_count": 15
  },
  {
   "metadata": {},
   "cell_type": "markdown",
   "source": "## Accessing Substrings from a String",
   "id": "62760b485e7e5f15"
  },
  {
   "metadata": {},
   "cell_type": "markdown",
   "source": [
    "### Indexing\n",
    "- Each character in a string has a unique index associated with it.\n",
    "- Indexing starts from 0 for the first character, 1 for the second character, and so on.\n",
    "- Negative indexing is also supported, where -1 represents the last character, -2 represents the second last character, and so on."
   ],
   "id": "8f5ccaedd332ce9d"
  },
  {
   "cell_type": "code",
   "id": "3ae38124-0500-4f2b-af03-fd2af3fd4554",
   "metadata": {
    "ExecuteTime": {
     "end_time": "2025-09-21T12:24:59.985390Z",
     "start_time": "2025-09-21T12:24:59.979486Z"
    }
   },
   "source": [
    "# Positive Indexing\n",
    "s = 'hello world'\n",
    "print(s[0])  #h\n",
    "print(s[1])  #e\n",
    "print(s[2])  #l\n",
    "print(s[3])  #l\n",
    "print(s[4])  #o"
   ],
   "outputs": [
    {
     "name": "stdout",
     "output_type": "stream",
     "text": [
      "h\n",
      "e\n",
      "l\n",
      "l\n",
      "o\n"
     ]
    }
   ],
   "execution_count": 18
  },
  {
   "metadata": {
    "ExecuteTime": {
     "end_time": "2025-09-21T12:25:20.458030Z",
     "start_time": "2025-09-21T12:25:20.452417Z"
    }
   },
   "cell_type": "code",
   "source": [
    "# Negative Indexing\n",
    "s = 'hello world'\n",
    "print(s[-1])  #d\n",
    "print(s[-2])  #l\n",
    "print(s[-3])  #r\n",
    "print(s[-4])  #o\n",
    "print(s[-5])  #w"
   ],
   "id": "4449966be4b41313",
   "outputs": [
    {
     "name": "stdout",
     "output_type": "stream",
     "text": [
      "d\n",
      "l\n",
      "r\n",
      "o\n",
      "w\n"
     ]
    }
   ],
   "execution_count": 20
  },
  {
   "metadata": {},
   "cell_type": "markdown",
   "source": [
    "### Slicing\n",
    "- Slicing is used to extract a substring from a string.\n",
    "- The syntax for slicing is `string[start:end:step]`, where:\n",
    "    - `start` is the index to start the slice (inclusive).\n",
    "    - `end` is the index to end the slice (exclusive).\n",
    "    - `step` is the step size (optional, default is 1)."
   ],
   "id": "e92a3cf58ef85217"
  },
  {
   "metadata": {},
   "cell_type": "markdown",
   "source": "**Slicing does not modify the original string, it returns a new substring.**",
   "id": "6744c88b2859b710"
  },
  {
   "metadata": {
    "ExecuteTime": {
     "end_time": "2025-09-21T12:28:53.293366Z",
     "start_time": "2025-09-21T12:28:53.287849Z"
    }
   },
   "cell_type": "code",
   "source": [
    "s = \"python is awesome\"\n",
    "print(s[0:6])  #python\n",
    "print(s[7:9])  #is\n",
    "print(s[10:17])  #awesome"
   ],
   "id": "16aee2754cc7517b",
   "outputs": [
    {
     "name": "stdout",
     "output_type": "stream",
     "text": [
      "python\n",
      "is\n",
      "awesome\n"
     ]
    }
   ],
   "execution_count": 21
  },
  {
   "metadata": {},
   "cell_type": "markdown",
   "source": [
    "- If `start` is omitted, it defaults to 0.\n",
    "- If `end` is omitted, it defaults to the length of the string.\n",
    "- If `step` is omitted, it defaults to 1."
   ],
   "id": "bc6bf0491c37821d"
  },
  {
   "metadata": {
    "ExecuteTime": {
     "end_time": "2025-09-21T12:29:15.582537Z",
     "start_time": "2025-09-21T12:29:15.577543Z"
    }
   },
   "cell_type": "code",
   "source": [
    "print(s[:6])  #python\n",
    "print(s[7:])  #is awesome\n",
    "print(s[:])  #python is awesome"
   ],
   "id": "d5384a8c167cd2f0",
   "outputs": [
    {
     "name": "stdout",
     "output_type": "stream",
     "text": [
      "python\n",
      "is awesome\n",
      "python is awesome\n"
     ]
    }
   ],
   "execution_count": 22
  },
  {
   "metadata": {
    "ExecuteTime": {
     "end_time": "2025-09-21T12:29:35.018992Z",
     "start_time": "2025-09-21T12:29:35.014318Z"
    }
   },
   "cell_type": "code",
   "source": [
    "print(s[::2])  #pto saeoe\n",
    "print(s[::3])  #ph sae\n",
    "print(s[::4])  #pniwm"
   ],
   "id": "3b80a45d1824310e",
   "outputs": [
    {
     "name": "stdout",
     "output_type": "stream",
     "text": [
      "pto saeoe\n",
      "ph  em\n",
      "posee\n"
     ]
    }
   ],
   "execution_count": 23
  },
  {
   "metadata": {},
   "cell_type": "markdown",
   "source": "- Negative step values can be used to reverse the string.",
   "id": "4c86a3f7f19c773d"
  },
  {
   "metadata": {
    "ExecuteTime": {
     "end_time": "2025-09-21T12:29:46.180430Z",
     "start_time": "2025-09-21T12:29:46.175480Z"
    }
   },
   "cell_type": "code",
   "source": [
    "print(s[::-1])  #emosewa si nohtyp (reversed string) ==> important\n",
    "print(s[::-2])  #esoai oht\n",
    "print(s[::-3])  #eoa nyp"
   ],
   "id": "1c855ad12af512bb",
   "outputs": [
    {
     "name": "stdout",
     "output_type": "stream",
     "text": [
      "emosewa si nohtyp\n",
      "eoeas otp\n",
      "esaioy\n"
     ]
    }
   ],
   "execution_count": 24
  },
  {
   "metadata": {
    "ExecuteTime": {
     "end_time": "2025-09-21T12:43:18.723840Z",
     "start_time": "2025-09-21T12:43:18.718040Z"
    }
   },
   "cell_type": "code",
   "source": [
    "print(s[-1:-6:-1])  #emose\n",
    "print(s[-6:-1])  #aweso\n",
    "print(s[-6:])  #awesome"
   ],
   "id": "a962f454b1a28b78",
   "outputs": [
    {
     "name": "stdout",
     "output_type": "stream",
     "text": [
      "emose\n",
      "wesom\n",
      "wesome\n"
     ]
    }
   ],
   "execution_count": 36
  },
  {
   "metadata": {
    "ExecuteTime": {
     "end_time": "2025-09-21T12:39:12.971492Z",
     "start_time": "2025-09-21T12:39:12.964203Z"
    }
   },
   "cell_type": "code",
   "source": [
    "print(s[6:0:-1])  #nohtyp\n",
    "print(s[10:6:-1])  #si\n",
    "print(s[17:10:-1])  #emosewa\n",
    "print(s[5:15:2])  #yoi sae\n",
    "print(s[15:5:-2])  #eoa iyt"
   ],
   "id": "2088358d9cbc7c16",
   "outputs": [
    {
     "name": "stdout",
     "output_type": "stream",
     "text": [
      " nohty\n",
      "a si\n",
      "emosew\n",
      "ni ws\n",
      "msw i\n"
     ]
    }
   ],
   "execution_count": 32
  },
  {
   "metadata": {},
   "cell_type": "markdown",
   "source": [
    "- If `start` is greater than `end` and `step` is positive, an empty string is returned , so always ensure that start < end for positive step.\n",
    "- If `start` is less than `end` and `step` is negative, an empty string is returned. , so always ensure that start > end for negative step.\n",
    "- If `step` is 0, a `ValueError` is raised."
   ],
   "id": "a779851c84c03237"
  },
  {
   "metadata": {
    "ExecuteTime": {
     "end_time": "2025-09-21T12:39:52.572346Z",
     "start_time": "2025-09-21T12:39:52.566683Z"
    }
   },
   "cell_type": "code",
   "source": [
    "print(\"Empty Strings below\")\n",
    "print(s[5:15:-2])  #empty string\n",
    "print(s[15:5:2])  #empty string\n",
    "# print(s[5:15:0])  #ValueError"
   ],
   "id": "c23cebd7150924cd",
   "outputs": [
    {
     "name": "stdout",
     "output_type": "stream",
     "text": [
      "Empty Strings below\n",
      "\n",
      "\n"
     ]
    }
   ],
   "execution_count": 35
  },
  {
   "metadata": {},
   "cell_type": "markdown",
   "source": "- If `start` or `end` are out of bounds, they are adjusted to fit within the string length.",
   "id": "51363812aab8eef1"
  },
  {
   "cell_type": "code",
   "id": "f7ed5911-b661-4ef6-a240-90adbd982ce3",
   "metadata": {
    "ExecuteTime": {
     "end_time": "2025-09-21T12:33:14.367882Z",
     "start_time": "2025-09-21T12:33:14.363201Z"
    }
   },
   "source": [
    "print(s[20:25])  #empty string\n",
    "print(s[-25:5])  #pytho\n",
    "print(s[5:25])  #n is awesome"
   ],
   "outputs": [
    {
     "name": "stdout",
     "output_type": "stream",
     "text": [
      "\n",
      "pytho\n",
      "n is awesome\n"
     ]
    }
   ],
   "execution_count": 31
  },
  {
   "metadata": {},
   "cell_type": "markdown",
   "source": "## Editing and Deleting in Strings",
   "id": "f04910f583d7b176"
  },
  {
   "metadata": {},
   "cell_type": "code",
   "source": [
    "# Editing\n",
    "s = 'hello world'\n",
    "s[0] = 'H'  #TypeError: 'str' object does not support item assignment\n",
    "print(s)\n",
    "\n",
    "# Python strings are immutable"
   ],
   "id": "da240e092154535f",
   "outputs": [],
   "execution_count": null
  },
  {
   "metadata": {},
   "cell_type": "markdown",
   "source": "`strings` are immutable, which means once a string is created, it cannot be modified. Any operation that seems to modify a string actually creates a new string.",
   "id": "a9294b60fbd0378d"
  },
  {
   "metadata": {},
   "cell_type": "code",
   "source": [
    "# Deleting\n",
    "s = 'hello world'\n",
    "del s\n",
    "print(s)  #NameError: name 's' is not defined"
   ],
   "id": "62267db81ce44200",
   "outputs": [],
   "execution_count": null
  },
  {
   "metadata": {},
   "cell_type": "code",
   "source": [
    "# Deleting a part of string using slicing is also not possible since strings are immutable\n",
    "s = 'hello world'\n",
    "del s[-1:-5:2]\n",
    "print(s)"
   ],
   "id": "f32fa1e461a7fcf7",
   "outputs": [],
   "execution_count": null
  },
  {
   "metadata": {},
   "cell_type": "markdown",
   "source": [
    "## Operations on Strings\n",
    "\n",
    "- `Arithmetic Operations :` It includes concatenation (+) and repetition (*) on strings.\n",
    "- `Relational Operations :` It includes comparison operators like ==, !=, <, >, <=, >= to compare strings lexicographically.\n",
    "- `Logical Operations :` It includes logical operators like and, or, not to combine multiple conditions involving strings.\n",
    "- `Loops on Strings :` It includes iterating over each character in a string using loops like for and while.\n",
    "- `Membership Operations :` It includes checking if a substring exists within a string using in and not in operators."
   ],
   "id": "9338c9a93700ff1a"
  },
  {
   "metadata": {},
   "cell_type": "markdown",
   "source": "#### Arithmetic Operations",
   "id": "37533069a9f7c4f9"
  },
  {
   "metadata": {
    "ExecuteTime": {
     "end_time": "2025-09-21T14:53:53.616315Z",
     "start_time": "2025-09-21T14:53:53.609288Z"
    }
   },
   "cell_type": "code",
   "source": "print('Rajasthan' + ' ' + 'Haryana')",
   "id": "9cfa2e38b62e3cde",
   "outputs": [
    {
     "name": "stdout",
     "output_type": "stream",
     "text": [
      "Rajasthan Haryana\n"
     ]
    }
   ],
   "execution_count": 3
  },
  {
   "metadata": {
    "ExecuteTime": {
     "end_time": "2025-09-21T14:54:00.987754Z",
     "start_time": "2025-09-21T14:54:00.981595Z"
    }
   },
   "cell_type": "code",
   "source": "print('Haryana '*5)",
   "id": "f5d477c8da4e0c13",
   "outputs": [
    {
     "name": "stdout",
     "output_type": "stream",
     "text": [
      "Haryana Haryana Haryana Haryana Haryana \n"
     ]
    }
   ],
   "execution_count": 4
  },
  {
   "metadata": {
    "ExecuteTime": {
     "end_time": "2025-09-21T14:55:05.109851Z",
     "start_time": "2025-09-21T14:55:05.105853Z"
    }
   },
   "cell_type": "code",
   "source": [
    "print(\"*\"*50)\n",
    "# Commonly used to create separators or borders in console output"
   ],
   "id": "955ac0db36e2953",
   "outputs": [
    {
     "name": "stdout",
     "output_type": "stream",
     "text": [
      "**************************************************\n"
     ]
    }
   ],
   "execution_count": 5
  },
  {
   "metadata": {},
   "cell_type": "markdown",
   "source": "#### Relational Operations",
   "id": "28984d481ee39544"
  },
  {
   "metadata": {
    "ExecuteTime": {
     "end_time": "2025-09-21T14:56:11.006859Z",
     "start_time": "2025-09-21T14:56:10.998439Z"
    }
   },
   "cell_type": "code",
   "source": "'Haryana' != 'Haryana'",
   "id": "7fe7f9e456841847",
   "outputs": [
    {
     "data": {
      "text/plain": [
       "False"
      ]
     },
     "execution_count": 6,
     "metadata": {},
     "output_type": "execute_result"
    }
   ],
   "execution_count": 6
  },
  {
   "metadata": {
    "ExecuteTime": {
     "end_time": "2025-09-21T14:56:55.331521Z",
     "start_time": "2025-09-21T14:56:55.326455Z"
    }
   },
   "cell_type": "code",
   "source": [
    "'Haryana' > 'Rajasthan'\n",
    "# lexicographically greater than"
   ],
   "id": "21602691e100929a",
   "outputs": [
    {
     "data": {
      "text/plain": [
       "False"
      ]
     },
     "execution_count": 8,
     "metadata": {},
     "output_type": "execute_result"
    }
   ],
   "execution_count": 8
  },
  {
   "metadata": {
    "ExecuteTime": {
     "end_time": "2025-09-21T15:05:36.215115Z",
     "start_time": "2025-09-21T15:05:36.209514Z"
    }
   },
   "cell_type": "code",
   "source": [
    "'Haryana' > 'haryana'\n",
    "# lexicographically smaller than because ASCII value of 'H' is 72 and 'h' is 104"
   ],
   "id": "ba4ed84a0d80328e",
   "outputs": [
    {
     "data": {
      "text/plain": [
       "False"
      ]
     },
     "execution_count": 20,
     "metadata": {},
     "output_type": "execute_result"
    }
   ],
   "execution_count": 20
  },
  {
   "metadata": {
    "ExecuteTime": {
     "end_time": "2025-09-21T14:57:16.550615Z",
     "start_time": "2025-09-21T14:57:16.545058Z"
    }
   },
   "cell_type": "code",
   "source": "'Haryana' >= 'Haryana'",
   "id": "9c2d0f6d576b7f4",
   "outputs": [
    {
     "data": {
      "text/plain": [
       "True"
      ]
     },
     "execution_count": 9,
     "metadata": {},
     "output_type": "execute_result"
    }
   ],
   "execution_count": 9
  },
  {
   "metadata": {},
   "cell_type": "markdown",
   "source": [
    "#### Logical Operations\n",
    "\n",
    "In Python, logical operations can be performed on strings using the `and`, `or`, and `not` operators. These operators evaluate the truthiness of the strings involved in the operation.\n",
    "\n",
    "In python non-empty strings are considered `True` and empty strings are considered `False` ."
   ],
   "id": "7ddc92b5779ac70b"
  },
  {
   "cell_type": "code",
   "id": "6ca01364-ff3a-482f-9f0d-e26f96ef589b",
   "metadata": {
    "ExecuteTime": {
     "end_time": "2025-09-21T14:58:12.699725Z",
     "start_time": "2025-09-21T14:58:12.693851Z"
    }
   },
   "source": [
    "'Haryana' and 'Rajasthan'\n",
    "# Here both strings are non-empty, so the result is the last evaluated operand because for `and` operator both operands has to be true hence it checks both and returns the last checked operand ."
   ],
   "outputs": [
    {
     "data": {
      "text/plain": [
       "'Rajasthan'"
      ]
     },
     "execution_count": 10,
     "metadata": {},
     "output_type": "execute_result"
    }
   ],
   "execution_count": 10
  },
  {
   "metadata": {
    "ExecuteTime": {
     "end_time": "2025-09-21T14:59:48.123784Z",
     "start_time": "2025-09-21T14:59:48.116519Z"
    }
   },
   "cell_type": "code",
   "source": [
    "'Haryana' and ''\n",
    "# Here the first string is non-empty , but the second string is empty (falsy), so the result is the first false operand because for `and` operator both operands has to be true hence it stops at the first falsy operand and returns it."
   ],
   "id": "bbfa7a8aa3093a23",
   "outputs": [
    {
     "data": {
      "text/plain": [
       "''"
      ]
     },
     "execution_count": 12,
     "metadata": {},
     "output_type": "execute_result"
    }
   ],
   "execution_count": 12
  },
  {
   "metadata": {
    "ExecuteTime": {
     "end_time": "2025-09-21T15:00:04.195531Z",
     "start_time": "2025-09-21T15:00:04.187717Z"
    }
   },
   "cell_type": "code",
   "source": "'' and 'Rajasthan'",
   "id": "3ce0af848eaf4a6a",
   "outputs": [
    {
     "data": {
      "text/plain": [
       "''"
      ]
     },
     "execution_count": 14,
     "metadata": {},
     "output_type": "execute_result"
    }
   ],
   "execution_count": 14
  },
  {
   "metadata": {
    "ExecuteTime": {
     "end_time": "2025-09-21T15:00:24.265704Z",
     "start_time": "2025-09-21T15:00:24.258398Z"
    }
   },
   "cell_type": "code",
   "source": [
    "'Haryana' or 'Rajasthan'\n",
    "# Here the first string is non-empty (True), so the result is the first true operand because for `or` operator only one operand has to be true hence it stops at the first true operand and returns it."
   ],
   "id": "a4d7db6bd4bbf6a",
   "outputs": [
    {
     "data": {
      "text/plain": [
       "'Haryana'"
      ]
     },
     "execution_count": 15,
     "metadata": {},
     "output_type": "execute_result"
    }
   ],
   "execution_count": 15
  },
  {
   "metadata": {
    "ExecuteTime": {
     "end_time": "2025-09-21T15:00:35.938573Z",
     "start_time": "2025-09-21T15:00:35.931325Z"
    }
   },
   "cell_type": "code",
   "source": "'Rajasthan' or 'Haryana'",
   "id": "1561aa3e862536e8",
   "outputs": [
    {
     "data": {
      "text/plain": [
       "'Rajasthan'"
      ]
     },
     "execution_count": 16,
     "metadata": {},
     "output_type": "execute_result"
    }
   ],
   "execution_count": 16
  },
  {
   "metadata": {
    "ExecuteTime": {
     "end_time": "2025-09-21T15:00:54.261116Z",
     "start_time": "2025-09-21T15:00:54.253305Z"
    }
   },
   "cell_type": "code",
   "source": [
    "'' or 'Haryana'\n",
    "# Here the first string is empty (false), but the second string is non-empty (true), so the result is the second true operand because for `or` operator only one operand has to be true hence it checks the first operand finds it false and moves to the second operand and returns it."
   ],
   "id": "dfeaa0a2f093d756",
   "outputs": [
    {
     "data": {
      "text/plain": [
       "'Haryana'"
      ]
     },
     "execution_count": 17,
     "metadata": {},
     "output_type": "execute_result"
    }
   ],
   "execution_count": 17
  },
  {
   "metadata": {
    "ExecuteTime": {
     "end_time": "2025-09-21T15:00:59.356471Z",
     "start_time": "2025-09-21T15:00:59.349840Z"
    }
   },
   "cell_type": "code",
   "source": "'Haryana' or ''",
   "id": "fd6cd498fbada561",
   "outputs": [
    {
     "data": {
      "text/plain": [
       "'Haryana'"
      ]
     },
     "execution_count": 18,
     "metadata": {},
     "output_type": "execute_result"
    }
   ],
   "execution_count": 18
  },
  {
   "metadata": {
    "ExecuteTime": {
     "end_time": "2025-09-21T15:18:27.027882Z",
     "start_time": "2025-09-21T15:18:26.986130Z"
    }
   },
   "cell_type": "code",
   "source": "not 'hello'",
   "id": "9bfa1415284e955d",
   "outputs": [
    {
     "data": {
      "text/plain": [
       "False"
      ]
     },
     "execution_count": 21,
     "metadata": {},
     "output_type": "execute_result"
    }
   ],
   "execution_count": 21
  },
  {
   "metadata": {
    "ExecuteTime": {
     "end_time": "2025-09-21T15:18:31.789731Z",
     "start_time": "2025-09-21T15:18:31.782196Z"
    }
   },
   "cell_type": "code",
   "source": "not \"\"",
   "id": "27cc1ab915c48e72",
   "outputs": [
    {
     "data": {
      "text/plain": [
       "True"
      ]
     },
     "execution_count": 22,
     "metadata": {},
     "output_type": "execute_result"
    }
   ],
   "execution_count": 22
  },
  {
   "metadata": {},
   "cell_type": "markdown",
   "source": "#### Loops on Strings",
   "id": "c1833b29f30041a1"
  },
  {
   "metadata": {
    "ExecuteTime": {
     "end_time": "2025-09-21T15:20:53.617358Z",
     "start_time": "2025-09-21T15:20:53.582052Z"
    }
   },
   "cell_type": "code",
   "source": [
    "for ch in \"Haryana\":\n",
    "    print(ch)"
   ],
   "id": "5062806f9682123",
   "outputs": [
    {
     "name": "stdout",
     "output_type": "stream",
     "text": [
      "H\n",
      "a\n",
      "r\n",
      "y\n",
      "a\n",
      "n\n",
      "a\n"
     ]
    }
   ],
   "execution_count": 23
  },
  {
   "metadata": {
    "ExecuteTime": {
     "end_time": "2025-09-21T15:22:06.858185Z",
     "start_time": "2025-09-21T15:22:06.853607Z"
    }
   },
   "cell_type": "code",
   "source": [
    "for ch in \"Harayana\":\n",
    "    print(\"Rajasthan\")\n",
    "# prints Rajasthan 8 times because there are 8 characters in the string \"Harayana\""
   ],
   "id": "1ce4b4be5dce78a0",
   "outputs": [
    {
     "name": "stdout",
     "output_type": "stream",
     "text": [
      "Rajasthan\n",
      "Rajasthan\n",
      "Rajasthan\n",
      "Rajasthan\n",
      "Rajasthan\n",
      "Rajasthan\n",
      "Rajasthan\n",
      "Rajasthan\n"
     ]
    }
   ],
   "execution_count": 25
  },
  {
   "metadata": {},
   "cell_type": "markdown",
   "source": "#### Membership Operations",
   "id": "889863106a2b7c75"
  },
  {
   "metadata": {
    "ExecuteTime": {
     "end_time": "2025-09-21T15:28:26.418524Z",
     "start_time": "2025-09-21T15:28:26.410958Z"
    }
   },
   "cell_type": "code",
   "source": "'n' in 'Haryana'",
   "id": "fc3b30bcfc580283",
   "outputs": [
    {
     "data": {
      "text/plain": [
       "True"
      ]
     },
     "execution_count": 26,
     "metadata": {},
     "output_type": "execute_result"
    }
   ],
   "execution_count": 26
  },
  {
   "metadata": {
    "ExecuteTime": {
     "end_time": "2025-09-21T15:28:42.810324Z",
     "start_time": "2025-09-21T15:28:42.803065Z"
    }
   },
   "cell_type": "code",
   "source": "'n' not in 'Haryana'",
   "id": "b1ad8c308dea4c00",
   "outputs": [
    {
     "data": {
      "text/plain": [
       "False"
      ]
     },
     "execution_count": 27,
     "metadata": {},
     "output_type": "execute_result"
    }
   ],
   "execution_count": 27
  },
  {
   "metadata": {},
   "cell_type": "markdown",
   "source": [
    "## Common Functions\n",
    "These functions can be used with strings , tuples , lists , sets , dictionaries etc.\n",
    "\n",
    "- `len() :` Returns the length of the string.\n",
    "- `min() :` Returns the smallest character in the string based on ASCII value.\n",
    "- `max() :` Returns the largest character in the string based on ASCII value.\n",
    "- `sorted() :` Returns a sorted list of characters in the string."
   ],
   "id": "324810d46db6b6a5"
  },
  {
   "metadata": {
    "ExecuteTime": {
     "end_time": "2025-09-21T15:37:29.484850Z",
     "start_time": "2025-09-21T15:37:29.468522Z"
    }
   },
   "cell_type": "code",
   "source": "len('hello world')",
   "id": "e9019415a71cd495",
   "outputs": [
    {
     "data": {
      "text/plain": [
       "11"
      ]
     },
     "execution_count": 28,
     "metadata": {},
     "output_type": "execute_result"
    }
   ],
   "execution_count": 28
  },
  {
   "metadata": {
    "ExecuteTime": {
     "end_time": "2025-09-21T15:38:32.991740Z",
     "start_time": "2025-09-21T15:38:32.977228Z"
    }
   },
   "cell_type": "code",
   "source": "max('hello world')",
   "id": "28986006c026403f",
   "outputs": [
    {
     "data": {
      "text/plain": [
       "'w'"
      ]
     },
     "execution_count": 29,
     "metadata": {},
     "output_type": "execute_result"
    }
   ],
   "execution_count": 29
  },
  {
   "metadata": {
    "ExecuteTime": {
     "end_time": "2025-09-21T15:38:40.479946Z",
     "start_time": "2025-09-21T15:38:40.474504Z"
    }
   },
   "cell_type": "code",
   "source": [
    "min('hello world')\n",
    "# Here space has the smallest ASCII value of 32"
   ],
   "id": "5875e53c0433a7aa",
   "outputs": [
    {
     "data": {
      "text/plain": [
       "' '"
      ]
     },
     "execution_count": 30,
     "metadata": {},
     "output_type": "execute_result"
    }
   ],
   "execution_count": 30
  },
  {
   "metadata": {
    "ExecuteTime": {
     "end_time": "2025-09-21T15:42:54.715416Z",
     "start_time": "2025-09-21T15:42:54.705869Z"
    }
   },
   "cell_type": "code",
   "source": [
    "sorted('hello world',reverse=True)  # By default, it sorts in ascending order but here we have used reverse=True to sort in descending order\n",
    "# returns a list of characters sorted in descending order not a string ."
   ],
   "id": "cb26c08713bb2155",
   "outputs": [
    {
     "data": {
      "text/plain": [
       "['w', 'r', 'o', 'o', 'l', 'l', 'l', 'h', 'e', 'd', ' ']"
      ]
     },
     "execution_count": 32,
     "metadata": {},
     "output_type": "execute_result"
    }
   ],
   "execution_count": 32
  },
  {
   "metadata": {},
   "cell_type": "markdown",
   "source": "## Capitalize/Title/Upper/Lower/Swapcase",
   "id": "2df4429af17a7030"
  },
  {
   "metadata": {},
   "cell_type": "markdown",
   "source": "`capitalize()` : It converts the first character to uppercase and the rest to lowercase.",
   "id": "1e6894062ca57063"
  },
  {
   "metadata": {
    "ExecuteTime": {
     "end_time": "2025-09-21T16:57:21.931849Z",
     "start_time": "2025-09-21T16:57:21.926350Z"
    }
   },
   "cell_type": "code",
   "source": [
    "s = 'hello world'\n",
    "print(s.capitalize())   # it returns a new string and does not modify the original string\n",
    "print(s)"
   ],
   "id": "5e901d5807ef15a1",
   "outputs": [
    {
     "name": "stdout",
     "output_type": "stream",
     "text": [
      "Hello world\n",
      "hello world\n"
     ]
    }
   ],
   "execution_count": 56
  },
  {
   "metadata": {},
   "cell_type": "markdown",
   "source": "**Here original string is not modified because strings are immutable.**",
   "id": "fedb36e23bc7a9b"
  },
  {
   "metadata": {},
   "cell_type": "markdown",
   "source": "`title()` : It converts the first character of each word to uppercase .",
   "id": "a8f150cf7ce50113"
  },
  {
   "metadata": {
    "ExecuteTime": {
     "end_time": "2025-09-21T16:39:13.526215Z",
     "start_time": "2025-09-21T16:39:13.520163Z"
    }
   },
   "cell_type": "code",
   "source": "s.title()",
   "id": "6744a91a3873b46b",
   "outputs": [
    {
     "data": {
      "text/plain": [
       "'Hello World'"
      ]
     },
     "execution_count": 34,
     "metadata": {},
     "output_type": "execute_result"
    }
   ],
   "execution_count": 34
  },
  {
   "metadata": {},
   "cell_type": "markdown",
   "source": "`upper()` : It converts all characters to uppercase.",
   "id": "2d4d1651ba6e4e2f"
  },
  {
   "metadata": {
    "ExecuteTime": {
     "end_time": "2025-09-21T16:41:04.639871Z",
     "start_time": "2025-09-21T16:41:04.632437Z"
    }
   },
   "cell_type": "code",
   "source": "s.upper()",
   "id": "cbe2ff1f6b2548dd",
   "outputs": [
    {
     "data": {
      "text/plain": [
       "'HELLO WORLD'"
      ]
     },
     "execution_count": 35,
     "metadata": {},
     "output_type": "execute_result"
    }
   ],
   "execution_count": 35
  },
  {
   "metadata": {},
   "cell_type": "markdown",
   "source": "`lower()` : It converts all characters to lowercase.",
   "id": "89ab5eb4a93388b3"
  },
  {
   "metadata": {},
   "cell_type": "code",
   "outputs": [],
   "execution_count": null,
   "source": "'Hello Wolrd'.lower()",
   "id": "e11e734540c42fa3"
  },
  {
   "metadata": {},
   "cell_type": "markdown",
   "source": "`swapcase()` : It converts uppercase characters to lowercase and vice versa.",
   "id": "f24121fad05cfd6c"
  },
  {
   "metadata": {
    "ExecuteTime": {
     "end_time": "2025-09-21T16:41:59.614347Z",
     "start_time": "2025-09-21T16:41:59.606693Z"
    }
   },
   "cell_type": "code",
   "source": "'HeLlO WorLD'.swapcase()",
   "id": "cb733ad8d4e7ea58",
   "outputs": [
    {
     "data": {
      "text/plain": [
       "'hElLo wORld'"
      ]
     },
     "execution_count": 36,
     "metadata": {},
     "output_type": "execute_result"
    }
   ],
   "execution_count": 36
  },
  {
   "metadata": {},
   "cell_type": "markdown",
   "source": "## Count/Find/Index",
   "id": "8d3b45e3e3fbe798"
  },
  {
   "metadata": {},
   "cell_type": "markdown",
   "source": "`count(substring)` : It returns the number of occurrences of a substring in the string.",
   "id": "9d8dbc80770effaa"
  },
  {
   "metadata": {
    "ExecuteTime": {
     "end_time": "2025-09-21T16:42:44.659384Z",
     "start_time": "2025-09-21T16:42:44.651782Z"
    }
   },
   "cell_type": "code",
   "source": "'my name is ritesh swami'.count('i')",
   "id": "19f52e0029315c30",
   "outputs": [
    {
     "data": {
      "text/plain": [
       "3"
      ]
     },
     "execution_count": 37,
     "metadata": {},
     "output_type": "execute_result"
    }
   ],
   "execution_count": 37
  },
  {
   "metadata": {},
   "cell_type": "markdown",
   "source": "`find(substring)` : It returns the lowest index of the substring if found in the string. If not found, it returns -1.",
   "id": "c0c06edbba49a7fd"
  },
  {
   "metadata": {
    "ExecuteTime": {
     "end_time": "2025-09-21T16:43:27.109853Z",
     "start_time": "2025-09-21T16:43:27.101707Z"
    }
   },
   "cell_type": "code",
   "source": "'my name is ritesh swami'.find('x')",
   "id": "7e0565ccc8fd1326",
   "outputs": [
    {
     "data": {
      "text/plain": [
       "-1"
      ]
     },
     "execution_count": 40,
     "metadata": {},
     "output_type": "execute_result"
    }
   ],
   "execution_count": 40
  },
  {
   "metadata": {},
   "cell_type": "markdown",
   "source": "`index(substring)` : It returns the lowest index of the substring if found in the string. If not found, it raises a `ValueError`.",
   "id": "d3a9e62e306d964d"
  },
  {
   "metadata": {},
   "cell_type": "code",
   "source": "'my name is ritesh swami'.index('x')  #ValueError",
   "id": "60b4db643027b5b0",
   "outputs": [],
   "execution_count": null
  },
  {
   "metadata": {},
   "cell_type": "markdown",
   "source": "## endswith/startswith",
   "id": "332fdd64b685b2b2"
  },
  {
   "metadata": {},
   "cell_type": "markdown",
   "source": "`endswith(suffix)` : It returns `True` if the string ends with the specified suffix, otherwise it returns `False`.",
   "id": "baf7033c46bc48c3"
  },
  {
   "metadata": {
    "ExecuteTime": {
     "end_time": "2025-09-21T16:48:40.664852Z",
     "start_time": "2025-09-21T16:48:40.654346Z"
    }
   },
   "cell_type": "code",
   "source": "'my name is ritesh swami'.endswith('ami')",
   "id": "9b23c0580c7a90a0",
   "outputs": [
    {
     "data": {
      "text/plain": [
       "True"
      ]
     },
     "execution_count": 48,
     "metadata": {},
     "output_type": "execute_result"
    }
   ],
   "execution_count": 48
  },
  {
   "metadata": {},
   "cell_type": "markdown",
   "source": "`startswith(prefix)` : It returns `True` if the string starts with the specified prefix, otherwise it returns `False`.",
   "id": "d3540eb7e5f30808"
  },
  {
   "metadata": {
    "ExecuteTime": {
     "end_time": "2025-09-21T16:47:06.589706Z",
     "start_time": "2025-09-21T16:47:06.582317Z"
    }
   },
   "cell_type": "code",
   "source": "'my name is ritesh swami'.startswith('my n')",
   "id": "c24c7a4fc04ca093",
   "outputs": [
    {
     "data": {
      "text/plain": [
       "True"
      ]
     },
     "execution_count": 46,
     "metadata": {},
     "output_type": "execute_result"
    }
   ],
   "execution_count": 46
  },
  {
   "metadata": {},
   "cell_type": "markdown",
   "source": [
    "## format\n",
    "It is used to format strings by embedding variables or expressions within a string.\n",
    "\n",
    "syntax:\n",
    "```python\n",
    "'string with placeholders {}'.format(values)\n",
    "```\n",
    "order of values should match the order of placeholders or else we can provide order using index inside {}, it starts from 0."
   ],
   "id": "cb38b920ab68bb29"
  },
  {
   "metadata": {
    "ExecuteTime": {
     "end_time": "2025-09-21T16:52:02.856298Z",
     "start_time": "2025-09-21T16:52:02.851923Z"
    }
   },
   "cell_type": "code",
   "source": [
    "name = 'Ritesh'\n",
    "state = 'Haryana'\n",
    "print('My name is {} and I am from {}'.format(name, state))"
   ],
   "id": "8c7745f3d6ae801f",
   "outputs": [
    {
     "name": "stdout",
     "output_type": "stream",
     "text": [
      "My name is Ritesh and I am from Haryana\n"
     ]
    }
   ],
   "execution_count": 51
  },
  {
   "metadata": {
    "ExecuteTime": {
     "end_time": "2025-09-21T16:55:52.596663Z",
     "start_time": "2025-09-21T16:55:52.588586Z"
    }
   },
   "cell_type": "code",
   "source": [
    "name = 'Ritesh'\n",
    "state = 'Haryana'\n",
    "'Hi my name is {1} and I am from {0}'.format(name,state)"
   ],
   "id": "785ebcba471ca285",
   "outputs": [
    {
     "data": {
      "text/plain": [
       "'Hi my name is Haryana and I am from Ritesh'"
      ]
     },
     "execution_count": 55,
     "metadata": {},
     "output_type": "execute_result"
    }
   ],
   "execution_count": 55
  },
  {
   "metadata": {},
   "cell_type": "markdown",
   "source": "## isalnum/ isalpha/ isdigit/ isidentifier",
   "id": "276ea353ccd15b45"
  },
  {
   "metadata": {},
   "cell_type": "markdown",
   "source": "`isalnum()` : It returns `True` if all characters in the string are alphanumeric (letters and numbers) and there is at least one character, otherwise it returns `False`.",
   "id": "3041ef6d1d0c7e0a"
  },
  {
   "metadata": {
    "ExecuteTime": {
     "end_time": "2025-09-21T16:58:50.732715Z",
     "start_time": "2025-09-21T16:58:50.727755Z"
    }
   },
   "cell_type": "code",
   "source": [
    "'Ritesh123'.isalnum()\n",
    "# True if all characters are alphanumeric (letters and numbers) and there is at least one character, otherwise False ."
   ],
   "id": "a8033e1ce2ecbfdb",
   "outputs": [
    {
     "data": {
      "text/plain": [
       "True"
      ]
     },
     "execution_count": 58,
     "metadata": {},
     "output_type": "execute_result"
    }
   ],
   "execution_count": 58
  },
  {
   "metadata": {
    "ExecuteTime": {
     "end_time": "2025-09-21T16:59:11.341217Z",
     "start_time": "2025-09-21T16:59:11.335138Z"
    }
   },
   "cell_type": "code",
   "source": "'Ritesh'.isalnum()",
   "id": "1ecaab1820d9e592",
   "outputs": [
    {
     "data": {
      "text/plain": [
       "True"
      ]
     },
     "execution_count": 60,
     "metadata": {},
     "output_type": "execute_result"
    }
   ],
   "execution_count": 60
  },
  {
   "metadata": {},
   "cell_type": "markdown",
   "source": "Here all characters are alphabets so it returns True because alphabets are also considered as alphanumeric characters.",
   "id": "16adc9b5963acc2a"
  },
  {
   "metadata": {
    "ExecuteTime": {
     "end_time": "2025-09-21T16:58:58.513800Z",
     "start_time": "2025-09-21T16:58:58.508147Z"
    }
   },
   "cell_type": "code",
   "source": [
    "'ritesh@123'.isalnum()\n",
    "# False because of special character '@'"
   ],
   "id": "f239c26e8a0261e",
   "outputs": [
    {
     "data": {
      "text/plain": [
       "False"
      ]
     },
     "execution_count": 59,
     "metadata": {},
     "output_type": "execute_result"
    }
   ],
   "execution_count": 59
  },
  {
   "metadata": {},
   "cell_type": "markdown",
   "source": "`isalpha()` : It returns `True` if all characters in the string are alphabets and there is at least one character, otherwise it returns `False`.",
   "id": "a63533669e51982"
  },
  {
   "metadata": {
    "ExecuteTime": {
     "end_time": "2025-09-21T17:01:40.011352Z",
     "start_time": "2025-09-21T17:01:40.004412Z"
    }
   },
   "cell_type": "code",
   "source": "'nitish'.isalpha()",
   "id": "7476ead2c6b9ef11",
   "outputs": [
    {
     "data": {
      "text/plain": [
       "True"
      ]
     },
     "execution_count": 61,
     "metadata": {},
     "output_type": "execute_result"
    }
   ],
   "execution_count": 61
  },
  {
   "metadata": {},
   "cell_type": "code",
   "source": "`Ritesh123`.isalpha()",
   "id": "4df08250f212866f",
   "outputs": [],
   "execution_count": null
  },
  {
   "metadata": {},
   "cell_type": "markdown",
   "source": "`isdigit()` : It returns `True` if all characters in the string are digits and there is at least one character, otherwise it returns `False`.",
   "id": "67493891fb09bcf7"
  },
  {
   "metadata": {
    "ExecuteTime": {
     "end_time": "2025-09-21T17:04:31.810412Z",
     "start_time": "2025-09-21T17:04:31.805343Z"
    }
   },
   "cell_type": "code",
   "source": "'123abc'.isdigit()",
   "id": "21b12f5a20e3bd5f",
   "outputs": [
    {
     "data": {
      "text/plain": [
       "False"
      ]
     },
     "execution_count": 63,
     "metadata": {},
     "output_type": "execute_result"
    }
   ],
   "execution_count": 63
  },
  {
   "metadata": {
    "ExecuteTime": {
     "end_time": "2025-09-21T17:04:46.470643Z",
     "start_time": "2025-09-21T17:04:46.462651Z"
    }
   },
   "cell_type": "code",
   "source": "'123456'.isdigit()",
   "id": "19ea01cb4269c3b0",
   "outputs": [
    {
     "data": {
      "text/plain": [
       "True"
      ]
     },
     "execution_count": 65,
     "metadata": {},
     "output_type": "execute_result"
    }
   ],
   "execution_count": 65
  },
  {
   "metadata": {},
   "cell_type": "markdown",
   "source": "`isidentifier()` : It returns `True` if the string is a valid identifier (variable name) in Python, otherwise it returns `False`. A valid identifier must start with a letter (a-z, A-Z) or an underscore (_) and can be followed by letters, digits (0-9), or underscores.",
   "id": "3390c36d2a1131cb"
  },
  {
   "metadata": {
    "ExecuteTime": {
     "end_time": "2025-09-21T17:05:31.994817Z",
     "start_time": "2025-09-21T17:05:31.979855Z"
    }
   },
   "cell_type": "code",
   "source": "'first-name'.isidentifier()",
   "id": "9dcadafa73b48aae",
   "outputs": [
    {
     "data": {
      "text/plain": [
       "False"
      ]
     },
     "execution_count": 66,
     "metadata": {},
     "output_type": "execute_result"
    }
   ],
   "execution_count": 66
  },
  {
   "metadata": {
    "ExecuteTime": {
     "end_time": "2025-09-21T17:05:41.812261Z",
     "start_time": "2025-09-21T17:05:41.805126Z"
    }
   },
   "cell_type": "code",
   "source": "'_first_name'.isidentifier()",
   "id": "31ab37aff42ff5a7",
   "outputs": [
    {
     "data": {
      "text/plain": [
       "True"
      ]
     },
     "execution_count": 67,
     "metadata": {},
     "output_type": "execute_result"
    }
   ],
   "execution_count": 67
  },
  {
   "metadata": {},
   "cell_type": "markdown",
   "source": "## Split/Join",
   "id": "23a9c1f87b160dcc"
  },
  {
   "metadata": {},
   "cell_type": "markdown",
   "source": "`split(delimiter)` : It splits the string into a list of substrings based on the specified delimiter. If no delimiter is provided, it splits on whitespace by default.",
   "id": "c7fa65a439cc209"
  },
  {
   "metadata": {
    "ExecuteTime": {
     "end_time": "2025-09-21T17:08:42.490360Z",
     "start_time": "2025-09-21T17:08:42.485533Z"
    }
   },
   "cell_type": "code",
   "source": "'my name is ritesh swami'.split()",
   "id": "a1f979c3697f2694",
   "outputs": [
    {
     "data": {
      "text/plain": [
       "['my', 'name', 'is', 'ritesh', 'swami']"
      ]
     },
     "execution_count": 70,
     "metadata": {},
     "output_type": "execute_result"
    }
   ],
   "execution_count": 70
  },
  {
   "metadata": {
    "ExecuteTime": {
     "end_time": "2025-09-21T17:09:01.544751Z",
     "start_time": "2025-09-21T17:09:01.538858Z"
    }
   },
   "cell_type": "code",
   "source": "'my,name,is,ritesh,swami'.split(',')",
   "id": "733561599bda3ddb",
   "outputs": [
    {
     "data": {
      "text/plain": [
       "['my', 'name', 'is', 'ritesh', 'swami']"
      ]
     },
     "execution_count": 71,
     "metadata": {},
     "output_type": "execute_result"
    }
   ],
   "execution_count": 71
  },
  {
   "metadata": {
    "ExecuteTime": {
     "end_time": "2025-09-21T17:12:01.037281Z",
     "start_time": "2025-09-21T17:12:01.031659Z"
    }
   },
   "cell_type": "code",
   "source": [
    "'my name is ritesh swami'.split('is')\n",
    "# Here it splits the string at each occurrence of the substring 'is'"
   ],
   "id": "2bf5b63597ddbb88",
   "outputs": [
    {
     "data": {
      "text/plain": [
       "['my name ', ' ritesh swami']"
      ]
     },
     "execution_count": 74,
     "metadata": {},
     "output_type": "execute_result"
    }
   ],
   "execution_count": 74
  },
  {
   "metadata": {},
   "cell_type": "markdown",
   "source": "`join(iterable)` : It joins the elements of an iterable (like a list or tuple) into a single string, with the specified string as the separator.",
   "id": "82a2cf93d97d8833"
  },
  {
   "metadata": {
    "ExecuteTime": {
     "end_time": "2025-09-21T17:13:01.668251Z",
     "start_time": "2025-09-21T17:13:01.660483Z"
    }
   },
   "cell_type": "code",
   "source": "\" \".join(['hi', 'my', 'name', 'is', 'ritesh'])",
   "id": "743b98166671fe0a",
   "outputs": [
    {
     "data": {
      "text/plain": [
       "'hi my name is ritesh'"
      ]
     },
     "execution_count": 75,
     "metadata": {},
     "output_type": "execute_result"
    }
   ],
   "execution_count": 75
  },
  {
   "metadata": {
    "ExecuteTime": {
     "end_time": "2025-09-21T17:14:35.843211Z",
     "start_time": "2025-09-21T17:14:35.837414Z"
    }
   },
   "cell_type": "code",
   "source": "\"$\".join(['hi', 'my', 'name', 'is', 'ritesh'])",
   "id": "d703639867a82534",
   "outputs": [
    {
     "data": {
      "text/plain": [
       "'hi$my$name$is$ritesh'"
      ]
     },
     "execution_count": 76,
     "metadata": {},
     "output_type": "execute_result"
    }
   ],
   "execution_count": 76
  },
  {
   "metadata": {},
   "cell_type": "markdown",
   "source": [
    "## Replace\n",
    "It replaces all occurrences of a specified substring with another substring.\n",
    "syntax:\n",
    "```python\n",
    "string.replace(old, new, count)\n",
    "```\n",
    "- `old` : The substring to be replaced.\n",
    "- `new` : The substring to replace with.\n",
    "- `count` : (Optional) The maximum number of occurrences to replace. If not provided, all occurrences are replaced."
   ],
   "id": "35c5afe987c342d7"
  },
  {
   "metadata": {
    "ExecuteTime": {
     "end_time": "2025-09-21T17:16:13.619047Z",
     "start_time": "2025-09-21T17:16:13.611473Z"
    }
   },
   "cell_type": "code",
   "source": [
    "'hi my name is ritesh'.replace('ritesh', 'RITESH SWAMI')\n",
    "# Here it replaces all occurrences of the substring 'ritesh' with 'RITESH SWAMI'"
   ],
   "id": "1f81b4ff7d23f27a",
   "outputs": [
    {
     "data": {
      "text/plain": [
       "'hi my name is RITESH SWAMI'"
      ]
     },
     "execution_count": 77,
     "metadata": {},
     "output_type": "execute_result"
    }
   ],
   "execution_count": 77
  },
  {
   "metadata": {
    "ExecuteTime": {
     "end_time": "2025-09-21T17:17:05.085761Z",
     "start_time": "2025-09-21T17:17:05.080116Z"
    }
   },
   "cell_type": "code",
   "source": "'hi my name is ritesh ritesh'.replace('ritesh', 'RITESH SWAMI', 1)",
   "id": "170a919391eff8d8",
   "outputs": [
    {
     "data": {
      "text/plain": [
       "'hi my name is RITESH SWAMI ritesh'"
      ]
     },
     "execution_count": 78,
     "metadata": {},
     "output_type": "execute_result"
    }
   ],
   "execution_count": 78
  },
  {
   "metadata": {},
   "cell_type": "markdown",
   "source": "Always remember we are not changing the original string because strings are immutable, it returns a new string with the replacements made.",
   "id": "7f38502a2a593960"
  },
  {
   "metadata": {},
   "cell_type": "markdown",
   "source": [
    "## Strip\n",
    "It removes leading and trailing whitespace (spaces, tabs, newlines) from the string. It can also remove specified characters from both ends of the string.\n",
    "\n",
    "- Real world use cases:\n",
    "    - Cleaning user input by removing extra spaces in form fields , especially in names, addresses, etc.\n",
    "    - Preprocessing text data for analysis or machine learning.\n",
    "    - Formatting strings for display or storage.\n",
    "    - Preparing strings for comparison or searching.\n",
    "syntax:\n",
    "```python\n",
    "string.strip(chars)\n",
    "```\n",
    "- `chars` : (Optional) A string specifying the set of characters to be removed. If not provided, it removes whitespace by default."
   ],
   "id": "252b1da9d75a9b40"
  },
  {
   "metadata": {
    "ExecuteTime": {
     "end_time": "2025-09-21T17:20:07.012687Z",
     "start_time": "2025-09-21T17:20:07.006317Z"
    }
   },
   "cell_type": "code",
   "source": "'   hello world   '.strip()",
   "id": "7aa933719d435e88",
   "outputs": [
    {
     "data": {
      "text/plain": [
       "'hello world'"
      ]
     },
     "execution_count": 79,
     "metadata": {},
     "output_type": "execute_result"
    }
   ],
   "execution_count": 79
  },
  {
   "metadata": {
    "ExecuteTime": {
     "end_time": "2025-09-21T17:20:20.655246Z",
     "start_time": "2025-09-21T17:20:20.648469Z"
    }
   },
   "cell_type": "code",
   "source": [
    "'***hello world***'.strip('*')\n",
    "# Here it removes all leading and trailing '*' characters from the string"
   ],
   "id": "2e449a41961804e0",
   "outputs": [
    {
     "data": {
      "text/plain": [
       "'hello world'"
      ]
     },
     "execution_count": 81,
     "metadata": {},
     "output_type": "execute_result"
    }
   ],
   "execution_count": 81
  }
 ],
 "metadata": {
  "kernelspec": {
   "display_name": "Python 3 (ipykernel)",
   "language": "python",
   "name": "python3"
  },
  "language_info": {
   "codemirror_mode": {
    "name": "ipython",
    "version": 3
   },
   "file_extension": ".py",
   "mimetype": "text/x-python",
   "name": "python",
   "nbconvert_exporter": "python",
   "pygments_lexer": "ipython3",
   "version": "3.12.7"
  }
 },
 "nbformat": 4,
 "nbformat_minor": 5
}
