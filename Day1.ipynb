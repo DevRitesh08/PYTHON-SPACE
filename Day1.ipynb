{
 "cells": [
  {
   "metadata": {},
   "cell_type": "markdown",
   "source": [
    "# Why Python ?\n",
    "- Easy to learn and use\n",
    "- Open source and free\n",
    "- High demand in job market\n",
    "- Strong community support , rapidly growing\n",
    "- Integration capabilities with other languages and technologies\n",
    "- General-purpose language means it can be used for various types of programming and software development like web development, data analysis, artificial intelligence, scientific computing, and more.\n",
    "- Extensive libraries and frameworks"
   ],
   "id": "917f1dae4a92d978"
  },
  {
   "metadata": {},
   "cell_type": "markdown",
   "source": "## Output and Comments",
   "id": "1803a763803d0e46"
  },
  {
   "cell_type": "code",
   "id": "d3b0100b-129e-4dea-a922-afb19efeec67",
   "metadata": {
    "panel-layout": {
     "height": 0,
     "visible": true,
     "width": 100
    },
    "ExecuteTime": {
     "end_time": "2025-09-20T08:49:16.390323Z",
     "start_time": "2025-09-20T08:49:16.383210Z"
    }
   },
   "source": "print(\"this is my first program\") # it is a single line comment",
   "outputs": [
    {
     "name": "stdout",
     "output_type": "stream",
     "text": [
      "this is my first program\n"
     ]
    }
   ],
   "execution_count": 1
  },
  {
   "metadata": {},
   "cell_type": "markdown",
   "source": "`Python is a case sensitive language so \"Variable\" and \"variable\" are different`",
   "id": "3d12a4cf842ed73c"
  },
  {
   "metadata": {},
   "cell_type": "code",
   "source": [
    "print(this is an error)\n",
    "# SyntaxError: because \"this is an error\" is not in quotes"
   ],
   "id": "2b2baa5bf7fa90e3",
   "outputs": [],
   "execution_count": null
  },
  {
   "cell_type": "code",
   "id": "3645bd9c-ede5-4107-811a-cdf27d6d112e",
   "metadata": {
    "panel-layout": {
     "height": 119.703125,
     "visible": true,
     "width": 100
    },
    "ExecuteTime": {
     "end_time": "2025-09-20T08:49:26.034737Z",
     "start_time": "2025-09-20T08:49:26.024002Z"
    }
   },
   "source": [
    "\"\"\"it\n",
    "is \n",
    "a\n",
    "multiline \n",
    "comment\"\"\""
   ],
   "outputs": [
    {
     "data": {
      "text/plain": [
       "'it\\nis \\na\\nmultiline \\ncomment'"
      ]
     },
     "execution_count": 3,
     "metadata": {},
     "output_type": "execute_result"
    }
   ],
   "execution_count": 3
  },
  {
   "metadata": {
    "ExecuteTime": {
     "end_time": "2025-09-20T08:49:26.290913Z",
     "start_time": "2025-09-20T08:49:26.287093Z"
    }
   },
   "cell_type": "code",
   "source": [
    "# printing multiple lines\n",
    "print('Hello',1,4.5,True)"
   ],
   "id": "d20c2f5b1dbad608",
   "outputs": [
    {
     "name": "stdout",
     "output_type": "stream",
     "text": [
      "Hello 1 4.5 True\n"
     ]
    }
   ],
   "execution_count": 4
  },
  {
   "metadata": {},
   "cell_type": "markdown",
   "source": "here we got spaces between different data types since by default sep = \" \" (space) in print function .",
   "id": "7fb75634ee607381"
  },
  {
   "metadata": {
    "ExecuteTime": {
     "end_time": "2025-09-20T08:49:27.025809Z",
     "start_time": "2025-09-20T08:49:27.021897Z"
    }
   },
   "cell_type": "code",
   "source": "print('Hello',1,4.5,True,sep = \"_\")",
   "id": "2a4c9efe7ff335c1",
   "outputs": [
    {
     "name": "stdout",
     "output_type": "stream",
     "text": [
      "Hello_1_4.5_True\n"
     ]
    }
   ],
   "execution_count": 5
  },
  {
   "metadata": {
    "ExecuteTime": {
     "end_time": "2025-09-20T08:49:27.211292Z",
     "start_time": "2025-09-20T08:49:27.207533Z"
    }
   },
   "cell_type": "code",
   "source": [
    "print('hello')\n",
    "print('world')"
   ],
   "id": "737cf5cecb2f1fce",
   "outputs": [
    {
     "name": "stdout",
     "output_type": "stream",
     "text": [
      "hello\n",
      "world\n"
     ]
    }
   ],
   "execution_count": 6
  },
  {
   "metadata": {},
   "cell_type": "markdown",
   "source": "here by default end = \"\\n\" (new line) in print function .",
   "id": "cbe8280d54ccd9b7"
  },
  {
   "metadata": {
    "ExecuteTime": {
     "end_time": "2025-09-20T08:49:27.622110Z",
     "start_time": "2025-09-20T08:49:27.617631Z"
    }
   },
   "cell_type": "code",
   "source": [
    "print('hello',end='->')\n",
    "print('world')"
   ],
   "id": "53da05d1ea6abc08",
   "outputs": [
    {
     "name": "stdout",
     "output_type": "stream",
     "text": [
      "hello->world\n"
     ]
    }
   ],
   "execution_count": 7
  },
  {
   "metadata": {},
   "cell_type": "markdown",
   "source": "\\t is used to give a tab space .",
   "id": "34df3c844ffe9eb3"
  },
  {
   "metadata": {
    "ExecuteTime": {
     "end_time": "2025-09-20T08:49:27.945216Z",
     "start_time": "2025-09-20T08:49:27.941707Z"
    }
   },
   "cell_type": "code",
   "source": [
    "print('hello',end='\\t')\n",
    "print('world')"
   ],
   "id": "c6cf15adc9c9d754",
   "outputs": [
    {
     "name": "stdout",
     "output_type": "stream",
     "text": [
      "hello\tworld\n"
     ]
    }
   ],
   "execution_count": 8
  },
  {
   "metadata": {
    "ExecuteTime": {
     "end_time": "2025-09-20T08:49:28.140535Z",
     "start_time": "2025-09-20T08:49:28.137661Z"
    }
   },
   "cell_type": "code",
   "source": [
    "print('hello',end='\\n\\n\\n')\n",
    "print('world')"
   ],
   "id": "979be36169b12ee9",
   "outputs": [
    {
     "name": "stdout",
     "output_type": "stream",
     "text": [
      "hello\n",
      "\n",
      "\n",
      "world\n"
     ]
    }
   ],
   "execution_count": 9
  },
  {
   "cell_type": "code",
   "id": "97c8d248-9bc5-41c2-bb17-3a437b3bd1f3",
   "metadata": {
    "ExecuteTime": {
     "end_time": "2025-09-20T08:49:28.330185Z",
     "start_time": "2025-09-20T08:49:28.325779Z"
    }
   },
   "source": [
    "\"\"\"\n",
    "jshui\n",
    "jsgwyugd\n",
    "hsfywf\n",
    "\"\"\"\n",
    "print(\"python is fun\")"
   ],
   "outputs": [
    {
     "name": "stdout",
     "output_type": "stream",
     "text": [
      "python is fun\n"
     ]
    }
   ],
   "execution_count": 10
  },
  {
   "cell_type": "code",
   "id": "975eb0c8-24bb-4bae-aed5-724d1a5c3694",
   "metadata": {
    "ExecuteTime": {
     "end_time": "2025-09-20T08:49:28.512700Z",
     "start_time": "2025-09-20T08:49:28.509754Z"
    }
   },
   "source": [
    "# now it won't show the output of the multiline comment ."
   ],
   "outputs": [],
   "execution_count": 11
  },
  {
   "metadata": {},
   "cell_type": "markdown",
   "source": [
    "## Data Types and Variables\n",
    "\n",
    "common data types in python are :\n",
    "- int\n",
    "- float\n",
    "- complex\n",
    "- string\n",
    "- boolean\n",
    "- list\n",
    "- tuple\n",
    "- set\n",
    "- dictionary"
   ],
   "id": "40fa083db877334"
  },
  {
   "metadata": {},
   "cell_type": "markdown",
   "source": "Variables are used to store data in a program, they act as a container to hold data values",
   "id": "a8054c38fb246082"
  },
  {
   "metadata": {},
   "cell_type": "markdown",
   "source": [
    "`Dynamic Typing : `\n",
    "\n",
    "In Python, you don't need to declare the data type of a variable when you create it. The interpreter infers the type based on the value assigned to the variable.\n",
    "\n",
    "whereas in statically typed languages like C, C++, or Java, you must explicitly declare the data type of a variable before using it."
   ],
   "id": "a9661ca352fae81e"
  },
  {
   "metadata": {},
   "cell_type": "markdown",
   "source": "variable can't start with a number and special characters but \"_\" is valid .",
   "id": "117a149d699da582"
  },
  {
   "cell_type": "code",
   "id": "f50b82a6-91dc-4966-bd4b-0597ad260cc4",
   "metadata": {
    "ExecuteTime": {
     "end_time": "2025-09-20T08:49:30.710646Z",
     "start_time": "2025-09-20T08:49:30.703605Z"
    }
   },
   "source": [
    "# Integer data type\n",
    "a = 10  # Variable declaration and initialization\n",
    "print(a)\n",
    "type(a)"
   ],
   "outputs": [
    {
     "name": "stdout",
     "output_type": "stream",
     "text": [
      "10\n"
     ]
    },
    {
     "data": {
      "text/plain": [
       "int"
      ]
     },
     "execution_count": 12,
     "metadata": {},
     "output_type": "execute_result"
    }
   ],
   "execution_count": 12
  },
  {
   "metadata": {},
   "cell_type": "markdown",
   "source": "`type()` is a inbuilt function in python that tells the data type of variable .",
   "id": "86d4ce56b16a7c0e"
  },
  {
   "cell_type": "code",
   "id": "301622c3-d51c-4077-bd79-2e1689252c96",
   "metadata": {
    "ExecuteTime": {
     "end_time": "2025-09-20T08:49:31.286126Z",
     "start_time": "2025-09-20T08:49:31.279030Z"
    }
   },
   "source": [
    "# Float data type\n",
    "b = 20.5\n",
    "print(b)\n",
    "type(b)"
   ],
   "outputs": [
    {
     "name": "stdout",
     "output_type": "stream",
     "text": [
      "20.5\n"
     ]
    },
    {
     "data": {
      "text/plain": [
       "float"
      ]
     },
     "execution_count": 13,
     "metadata": {},
     "output_type": "execute_result"
    }
   ],
   "execution_count": 13
  },
  {
   "cell_type": "code",
   "id": "8a01fd82-0fd1-4a7d-96d8-0d9c3acbd064",
   "metadata": {
    "ExecuteTime": {
     "end_time": "2025-09-20T10:30:55.783027Z",
     "start_time": "2025-09-20T10:30:55.778196Z"
    }
   },
   "source": [
    "# Complex data type\n",
    "c = 3 + 5j  # here j is used instead of i\n",
    "print(c)\n",
    "type(c)\n",
    "print(c.real)  # to get real part\n",
    "print(c.imag)  # to get imaginary part"
   ],
   "outputs": [
    {
     "name": "stdout",
     "output_type": "stream",
     "text": [
      "(3+5j)\n",
      "3.0\n",
      "5.0\n"
     ]
    }
   ],
   "execution_count": 64
  },
  {
   "cell_type": "code",
   "id": "a8cbac33-f81a-4ec6-bd6b-fb22cd770f5a",
   "metadata": {
    "ExecuteTime": {
     "end_time": "2025-09-20T08:49:31.939377Z",
     "start_time": "2025-09-20T08:49:31.934093Z"
    }
   },
   "source": [
    "# String data type\n",
    "d = \"Ritesh\"\n",
    "print(d)\n",
    "type(d)"
   ],
   "outputs": [
    {
     "name": "stdout",
     "output_type": "stream",
     "text": [
      "Ritesh\n"
     ]
    },
    {
     "data": {
      "text/plain": [
       "str"
      ]
     },
     "execution_count": 15,
     "metadata": {},
     "output_type": "execute_result"
    }
   ],
   "execution_count": 15
  },
  {
   "metadata": {
    "ExecuteTime": {
     "end_time": "2025-09-20T08:49:32.466729Z",
     "start_time": "2025-09-20T08:49:32.461319Z"
    }
   },
   "cell_type": "code",
   "source": [
    "# Boolean data type\n",
    "e = True    # Boolean data type has two values True and False\n",
    "print(e)\n",
    "type(e)"
   ],
   "id": "3b7ad5a4abc3161",
   "outputs": [
    {
     "name": "stdout",
     "output_type": "stream",
     "text": [
      "True\n"
     ]
    },
    {
     "data": {
      "text/plain": [
       "bool"
      ]
     },
     "execution_count": 16,
     "metadata": {},
     "output_type": "execute_result"
    }
   ],
   "execution_count": 16
  },
  {
   "metadata": {
    "ExecuteTime": {
     "end_time": "2025-09-20T08:49:33.064533Z",
     "start_time": "2025-09-20T08:49:33.057913Z"
    }
   },
   "cell_type": "code",
   "source": [
    "# List data type\n",
    "f = [2,3,4,5,6,7]\n",
    "print(f)\n",
    "type(f)"
   ],
   "id": "c4716a8a0fe1f2d3",
   "outputs": [
    {
     "name": "stdout",
     "output_type": "stream",
     "text": [
      "[2, 3, 4, 5, 6, 7]\n"
     ]
    },
    {
     "data": {
      "text/plain": [
       "list"
      ]
     },
     "execution_count": 17,
     "metadata": {},
     "output_type": "execute_result"
    }
   ],
   "execution_count": 17
  },
  {
   "metadata": {
    "ExecuteTime": {
     "end_time": "2025-09-20T08:49:33.456788Z",
     "start_time": "2025-09-20T08:49:33.450533Z"
    }
   },
   "cell_type": "code",
   "source": [
    "# Tuple data type\n",
    "g = (2,3,4,5,6,78,90)\n",
    "print(g)\n",
    "type(g)"
   ],
   "id": "1c6eab24ab2affda",
   "outputs": [
    {
     "name": "stdout",
     "output_type": "stream",
     "text": [
      "(2, 3, 4, 5, 6, 78, 90)\n"
     ]
    },
    {
     "data": {
      "text/plain": [
       "tuple"
      ]
     },
     "execution_count": 18,
     "metadata": {},
     "output_type": "execute_result"
    }
   ],
   "execution_count": 18
  },
  {
   "metadata": {
    "ExecuteTime": {
     "end_time": "2025-09-20T08:49:33.829894Z",
     "start_time": "2025-09-20T08:49:33.822105Z"
    }
   },
   "cell_type": "code",
   "source": [
    "# Dictionary data type\n",
    "h = {\"name\":\"Ritesh\",\"course\":\"Python\"}\n",
    "print(h)\n",
    "type(h)"
   ],
   "id": "b568877aa8b03bfd",
   "outputs": [
    {
     "name": "stdout",
     "output_type": "stream",
     "text": [
      "{'name': 'Ritesh', 'course': 'Python'}\n"
     ]
    },
    {
     "data": {
      "text/plain": [
       "dict"
      ]
     },
     "execution_count": 19,
     "metadata": {},
     "output_type": "execute_result"
    }
   ],
   "execution_count": 19
  },
  {
   "metadata": {},
   "cell_type": "markdown",
   "source": [
    "`Dynamic Binding : `\n",
    "\n",
    "When you assign a value to a variable, Python creates an object of the appropriate type and binds the variable name to that object. If you later assign a different type of value to the same variable, Python will create a new object of the new type and rebind the variable name to this new object.\n",
    "\n",
    "In c,c++ or java the variable type is fixed and can't be changed because of `static Binding` ."
   ],
   "id": "fee88994c086574a"
  },
  {
   "metadata": {
    "ExecuteTime": {
     "end_time": "2025-09-20T08:54:16.397524Z",
     "start_time": "2025-09-20T08:54:16.393157Z"
    }
   },
   "cell_type": "code",
   "source": [
    "# Dynamic Binding\n",
    "a = 53\n",
    "print(a)\n",
    "a = 'ritesh'\n",
    "print(a)"
   ],
   "id": "97066f652ac409e5",
   "outputs": [
    {
     "name": "stdout",
     "output_type": "stream",
     "text": [
      "53\n",
      "ritesh\n"
     ]
    }
   ],
   "execution_count": 26
  },
  {
   "metadata": {
    "ExecuteTime": {
     "end_time": "2025-09-20T08:49:35.323444Z",
     "start_time": "2025-09-20T08:49:35.318816Z"
    }
   },
   "cell_type": "code",
   "source": [
    "# Single variable\n",
    "s = \"Bob\"\n",
    "print(s)\n",
    "\n",
    "# Multiple Variables\n",
    "s = \"Alice\"\n",
    "age = 25\n",
    "city = \"New York\"\n",
    "print(s, age, city)"
   ],
   "id": "24b6ce066f9a2de0",
   "outputs": [
    {
     "name": "stdout",
     "output_type": "stream",
     "text": [
      "Bob\n",
      "Alice 25 New York\n"
     ]
    }
   ],
   "execution_count": 20
  },
  {
   "metadata": {},
   "cell_type": "markdown",
   "source": "### Multiple Assignments",
   "id": "a95185ddd082e79d"
  },
  {
   "cell_type": "code",
   "id": "ce469271-7ed5-4543-be68-020c145abf3f",
   "metadata": {
    "ExecuteTime": {
     "end_time": "2025-09-20T08:49:37.825953Z",
     "start_time": "2025-09-20T08:49:37.822218Z"
    }
   },
   "source": [
    "# Assigning Same Value\n",
    "a = b = c = 100\n",
    "print(a, b, c)"
   ],
   "outputs": [
    {
     "name": "stdout",
     "output_type": "stream",
     "text": [
      "100 100 100\n"
     ]
    }
   ],
   "execution_count": 21
  },
  {
   "cell_type": "code",
   "id": "0580606c-a9d2-4a57-a145-e04e40144528",
   "metadata": {
    "ExecuteTime": {
     "end_time": "2025-09-20T08:49:38.119098Z",
     "start_time": "2025-09-20T08:49:38.113850Z"
    }
   },
   "source": [
    "# Assigning Different Values\n",
    "x, y, z = 1, 2.5, \"Python\"\n",
    "print(x, y, z)"
   ],
   "outputs": [
    {
     "name": "stdout",
     "output_type": "stream",
     "text": [
      "1 2.5 Python\n"
     ]
    }
   ],
   "execution_count": 22
  },
  {
   "cell_type": "code",
   "id": "be505f64-8849-4ca7-b93d-73149f46ece6",
   "metadata": {
    "ExecuteTime": {
     "end_time": "2025-09-20T08:49:38.704605Z",
     "start_time": "2025-09-20T08:49:38.698893Z"
    }
   },
   "source": [
    "p , q , r = 10 , \"code\" , \"rush\"\n",
    "p , q , r   # this will print the output in console hence we can print multiple variables at a time in console too ."
   ],
   "outputs": [
    {
     "data": {
      "text/plain": [
       "(10, 'code', 'rush')"
      ]
     },
     "execution_count": 23,
     "metadata": {},
     "output_type": "execute_result"
    }
   ],
   "execution_count": 23
  },
  {
   "metadata": {},
   "cell_type": "markdown",
   "source": "In python , we can define a string in both single and double quotes but the final output will always be in single quotes only !",
   "id": "6fca1f23d3c7caf"
  },
  {
   "metadata": {
    "panel-layout": {
     "height": 51.140625,
     "visible": true,
     "width": 100
    },
    "ExecuteTime": {
     "end_time": "2025-09-20T08:49:40.919502Z",
     "start_time": "2025-09-20T08:49:40.914806Z"
    }
   },
   "cell_type": "code",
   "source": "b",
   "id": "85f89158d2a29e6e",
   "outputs": [
    {
     "data": {
      "text/plain": [
       "100"
      ]
     },
     "execution_count": 24,
     "metadata": {},
     "output_type": "execute_result"
    }
   ],
   "execution_count": 24
  },
  {
   "metadata": {
    "ExecuteTime": {
     "end_time": "2025-09-20T08:49:41.618809Z",
     "start_time": "2025-09-20T08:49:41.615137Z"
    }
   },
   "cell_type": "code",
   "source": "print(b)",
   "id": "75a0d0dc4f0d9ad",
   "outputs": [
    {
     "name": "stdout",
     "output_type": "stream",
     "text": [
      "100\n"
     ]
    }
   ],
   "execution_count": 25
  },
  {
   "metadata": {},
   "cell_type": "markdown",
   "source": "`Both ways can be used to print a variable , but in first way we are printing it in console and in second way we are using print function to print it .`",
   "id": "2014ae5b1c247536"
  },
  {
   "metadata": {},
   "cell_type": "markdown",
   "source": [
    "#### Difference between console and print function\n",
    "In Jupyter Notebook or interactive Python shell, when you type a variable name and press Enter, it displays the value of the variable in the console. This is a feature of the interactive environment to quickly inspect values.\n",
    "\n",
    "but when you use the print() function, it outputs the value to the standard output (usually the console or terminal) and is more versatile for formatting and displaying multiple values."
   ],
   "id": "13c8c967678a67c2"
  },
  {
   "metadata": {},
   "cell_type": "markdown",
   "source": [
    "### Identifiers and Keywords\n",
    "\n",
    "`Identifiers : ` An identifier is the name used to identify a variable, function, class, module, or other objects in Python. It is a user-defined name that follows certain rules and conventions.\n",
    "\n",
    "`Keywords : ` It is a reserved word in Python that has a predefined meaning and purpose. Keywords are part of the syntax of the language and cannot be used as identifiers (names for variables, functions, classes, etc.). They are used to define the structure and behavior of the code."
   ],
   "id": "32b83f812248fe5c"
  },
  {
   "metadata": {},
   "cell_type": "markdown",
   "source": [
    "#### Rules for Naming Identifiers\n",
    "1. An identifier can consist of letters (a-z, A-Z), digits (0-9), and underscores (_).\n",
    "2. An identifier must start with a letter or an underscore. It cannot start with a digit.\n",
    "3. Identifiers are case-sensitive, meaning that \"Variable\", \"variable\", and \"VARIABLE\" are considered different identifiers.\n",
    "4. Special characters (like @, $, %, etc.) and spaces are not allowed in identifiers.\n",
    "5. Identifiers cannot be the same as Python keywords (reserved words)."
   ],
   "id": "bb11bcddae10de8d"
  },
  {
   "metadata": {},
   "cell_type": "markdown",
   "source": "## Input and Type Conversion",
   "id": "1e79b3d4a45a8f3b"
  },
  {
   "metadata": {
    "ExecuteTime": {
     "end_time": "2025-09-20T09:28:15.079431Z",
     "start_time": "2025-09-20T09:27:37.013343Z"
    }
   },
   "cell_type": "code",
   "source": "input(\"Enter your name : \")",
   "id": "e134a78808fbfb0e",
   "outputs": [
    {
     "data": {
      "text/plain": [
       "'xyz'"
      ]
     },
     "execution_count": 29,
     "metadata": {},
     "output_type": "execute_result"
    }
   ],
   "execution_count": 29
  },
  {
   "metadata": {},
   "cell_type": "markdown",
   "source": "Q : Take 2 integer inputs from user and print their sum .",
   "id": "df414810224e3d23"
  },
  {
   "metadata": {
    "ExecuteTime": {
     "end_time": "2025-09-20T09:32:18.922344Z",
     "start_time": "2025-09-20T09:32:13.088364Z"
    }
   },
   "cell_type": "code",
   "source": [
    "a = input(\"Enter first integer : \")\n",
    "b = input(\"Enter second integer : \")\n",
    "print(a + b)\n",
    "print(type(a),type(b))"
   ],
   "id": "e2b483d2978b099c",
   "outputs": [
    {
     "name": "stdout",
     "output_type": "stream",
     "text": [
      "2153\n",
      "<class 'str'> <class 'str'>\n"
     ]
    }
   ],
   "execution_count": 33
  },
  {
   "metadata": {},
   "cell_type": "markdown",
   "source": "Remember : by default the input function takes input as string only, because string is the most general data type it can hold all other data types too .",
   "id": "c1d5a09e15ff52a9"
  },
  {
   "metadata": {
    "ExecuteTime": {
     "end_time": "2025-09-20T09:31:34.101935Z",
     "start_time": "2025-09-20T09:31:28.091816Z"
    }
   },
   "cell_type": "code",
   "source": [
    "a = int(input(\"Enter first integer : \"))\n",
    "b = int(input(\"Enter second integer : \"))\n",
    "print(a + b)"
   ],
   "id": "af06743ffd7a78d9",
   "outputs": [
    {
     "name": "stdout",
     "output_type": "stream",
     "text": [
      "255\n"
     ]
    }
   ],
   "execution_count": 32
  },
  {
   "metadata": {},
   "cell_type": "markdown",
   "source": "#### Taking multiple inputs at a time",
   "id": "8e54515277001e34"
  },
  {
   "metadata": {},
   "cell_type": "code",
   "outputs": [],
   "execution_count": null,
   "source": [
    "# taking two inputs at a time\n",
    "x, y = input(\"Enter two values: \").split()\n",
    "print(\"Number of boys: \", x)\n",
    "print(\"Number of girls: \", y)\n",
    "\n",
    "# taking three inputs at a time\n",
    "x, y, z = input(\"Enter three values: \").split()\n",
    "print(\"Total number of students: \", x)\n",
    "print(\"Number of boys is : \", y)\n",
    "print(\"Number of girls is : \", z)"
   ],
   "id": "a25a6e6da92b24f1"
  },
  {
   "metadata": {
    "ExecuteTime": {
     "end_time": "2025-09-20T10:38:29.665614Z",
     "start_time": "2025-09-20T10:38:23.819497Z"
    }
   },
   "cell_type": "code",
   "source": [
    "e , f , g = input(\"This is three integers : \").split()\n",
    "e , f , g = int(e) , int(f) , int(g)\n",
    "h = (e + f) / g\n",
    "print(h)"
   ],
   "id": "3a5a70c033653cef",
   "outputs": [
    {
     "name": "stdout",
     "output_type": "stream",
     "text": [
      "1.0588235294117647\n"
     ]
    }
   ],
   "execution_count": 67
  },
  {
   "metadata": {},
   "cell_type": "markdown",
   "source": "#### Taking list as input",
   "id": "27246004e71279bf"
  },
  {
   "metadata": {
    "ExecuteTime": {
     "end_time": "2025-09-20T12:44:30.402341Z",
     "start_time": "2025-09-20T12:44:22.398641Z"
    }
   },
   "cell_type": "code",
   "source": [
    "li =list(input(\"Enter number \").split())\n",
    "print(li)"
   ],
   "id": "11be08531213244e",
   "outputs": [
    {
     "name": "stdout",
     "output_type": "stream",
     "text": [
      "['12', '4', '24', '34', '67']\n"
     ]
    }
   ],
   "execution_count": 85
  },
  {
   "metadata": {},
   "cell_type": "markdown",
   "source": "#### Taking tuple as input",
   "id": "9ac38e3429484ffd"
  },
  {
   "metadata": {
    "ExecuteTime": {
     "end_time": "2025-09-20T12:45:01.332778Z",
     "start_time": "2025-09-20T12:44:42.836740Z"
    }
   },
   "cell_type": "code",
   "source": [
    "li =tuple(input(\"Enter number \").split())\n",
    "\n",
    "print(li)"
   ],
   "id": "478534b9215597b0",
   "outputs": [
    {
     "name": "stdout",
     "output_type": "stream",
     "text": [
      "('34', '565', '897', '464', '23', '\"geg\"', '\"&&\"')\n"
     ]
    }
   ],
   "execution_count": 86
  },
  {
   "metadata": {},
   "cell_type": "markdown",
   "source": "## Type Conversion",
   "id": "307f97c7e4a79bbe"
  },
  {
   "metadata": {},
   "cell_type": "markdown",
   "source": "`Implicit Type Conversion :` It is automatically done by python interpreter when we perform operations on mixed data types .",
   "id": "d2e73508c225073d"
  },
  {
   "metadata": {
    "ExecuteTime": {
     "end_time": "2025-09-20T09:35:22.542557Z",
     "start_time": "2025-09-20T09:35:22.538101Z"
    }
   },
   "cell_type": "code",
   "source": [
    "x = 5       # int\n",
    "y = 2.0     # float\n",
    "z = x + y   # int + float = float\n",
    "print(z)\n",
    "print(type(z))"
   ],
   "id": "bc0ad879172fb1d2",
   "outputs": [
    {
     "name": "stdout",
     "output_type": "stream",
     "text": [
      "7.0\n",
      "<class 'float'>\n"
     ]
    }
   ],
   "execution_count": 34
  },
  {
   "metadata": {},
   "cell_type": "code",
   "source": "print(23 + \"dwe\")",
   "id": "e9cff7131cf9717c",
   "outputs": [],
   "execution_count": null
  },
  {
   "metadata": {},
   "cell_type": "markdown",
   "source": "Here we got an error since python can't convert string to integer implicitly .",
   "id": "9a2383fc0fd7c5fd"
  },
  {
   "metadata": {},
   "cell_type": "markdown",
   "source": "`Explicit Type Conversion :` It is done by the user when we want to convert one data type to another data type using built-in functions like int(), float(), str(), etc.",
   "id": "d846d56acda31293"
  },
  {
   "metadata": {
    "ExecuteTime": {
     "end_time": "2025-09-20T09:44:57.583609Z",
     "start_time": "2025-09-20T09:44:57.575781Z"
    }
   },
   "cell_type": "code",
   "source": [
    "a = \"23\"\n",
    "b = \"45\"\n",
    "print(a + b)\n",
    "print(int(a) + int(b))\n",
    "type(a)"
   ],
   "id": "d10dd5f708e8a217",
   "outputs": [
    {
     "name": "stdout",
     "output_type": "stream",
     "text": [
      "2345\n",
      "68\n"
     ]
    },
    {
     "data": {
      "text/plain": [
       "str"
      ]
     },
     "execution_count": 49,
     "metadata": {},
     "output_type": "execute_result"
    }
   ],
   "execution_count": 49
  },
  {
   "metadata": {},
   "cell_type": "markdown",
   "source": "**Why Str** : Here we converted string but still it is string because we didn't assign it to any variable .\n",
   "id": "db5da9ff54ad397f"
  },
  {
   "metadata": {
    "ExecuteTime": {
     "end_time": "2025-09-20T09:39:44.756853Z",
     "start_time": "2025-09-20T09:39:44.753090Z"
    }
   },
   "cell_type": "code",
   "source": [
    "a = int(34.52)\n",
    "print(a)\n",
    "print(type(a))"
   ],
   "id": "1059284c8fbffb4e",
   "outputs": [
    {
     "name": "stdout",
     "output_type": "stream",
     "text": [
      "34\n",
      "<class 'int'>\n"
     ]
    }
   ],
   "execution_count": 38
  },
  {
   "metadata": {},
   "cell_type": "code",
   "source": "int(23 + 5j)",
   "id": "7c3260b9bdee0853",
   "outputs": [],
   "execution_count": null
  },
  {
   "metadata": {},
   "cell_type": "markdown",
   "source": "Here we got an error since python can't convert complex to integer explicitly .",
   "id": "84e17801e7cbf723"
  },
  {
   "metadata": {
    "ExecuteTime": {
     "end_time": "2025-09-20T09:41:25.328729Z",
     "start_time": "2025-09-20T09:41:25.324276Z"
    }
   },
   "cell_type": "code",
   "source": "float(87)",
   "id": "9871fe2b8106bb6c",
   "outputs": [
    {
     "data": {
      "text/plain": [
       "87.0"
      ]
     },
     "execution_count": 40,
     "metadata": {},
     "output_type": "execute_result"
    }
   ],
   "execution_count": 40
  },
  {
   "metadata": {
    "ExecuteTime": {
     "end_time": "2025-09-20T09:41:30.462042Z",
     "start_time": "2025-09-20T09:41:30.456025Z"
    }
   },
   "cell_type": "code",
   "source": "str(23.45)",
   "id": "924dda099c4d11cf",
   "outputs": [
    {
     "data": {
      "text/plain": [
       "'23.45'"
      ]
     },
     "execution_count": 41,
     "metadata": {},
     "output_type": "execute_result"
    }
   ],
   "execution_count": 41
  },
  {
   "metadata": {
    "ExecuteTime": {
     "end_time": "2025-09-20T09:41:45.810481Z",
     "start_time": "2025-09-20T09:41:45.802728Z"
    }
   },
   "cell_type": "code",
   "source": "bool(0)",
   "id": "9e47aba3c006430e",
   "outputs": [
    {
     "data": {
      "text/plain": [
       "False"
      ]
     },
     "execution_count": 42,
     "metadata": {},
     "output_type": "execute_result"
    }
   ],
   "execution_count": 42
  },
  {
   "metadata": {
    "ExecuteTime": {
     "end_time": "2025-09-20T09:41:51.000307Z",
     "start_time": "2025-09-20T09:41:50.995255Z"
    }
   },
   "cell_type": "code",
   "source": "complex(4)",
   "id": "a8a0c0d81211784c",
   "outputs": [
    {
     "data": {
      "text/plain": [
       "(4+0j)"
      ]
     },
     "execution_count": 43,
     "metadata": {},
     "output_type": "execute_result"
    }
   ],
   "execution_count": 43
  },
  {
   "metadata": {
    "ExecuteTime": {
     "end_time": "2025-09-20T09:42:00.096655Z",
     "start_time": "2025-09-20T09:42:00.090304Z"
    }
   },
   "cell_type": "code",
   "source": "list(\"ritesh\")",
   "id": "8f06df67bb2f85ce",
   "outputs": [
    {
     "data": {
      "text/plain": [
       "['r', 'i', 't', 'e', 's', 'h']"
      ]
     },
     "execution_count": 44,
     "metadata": {},
     "output_type": "execute_result"
    }
   ],
   "execution_count": 44
  },
  {
   "metadata": {
    "ExecuteTime": {
     "end_time": "2025-09-20T09:42:07.280434Z",
     "start_time": "2025-09-20T09:42:07.274367Z"
    }
   },
   "cell_type": "code",
   "source": "tuple(\"ritesh\")",
   "id": "bc91d746743d2d31",
   "outputs": [
    {
     "data": {
      "text/plain": [
       "('r', 'i', 't', 'e', 's', 'h')"
      ]
     },
     "execution_count": 45,
     "metadata": {},
     "output_type": "execute_result"
    }
   ],
   "execution_count": 45
  },
  {
   "metadata": {
    "ExecuteTime": {
     "end_time": "2025-09-20T09:42:18.262452Z",
     "start_time": "2025-09-20T09:42:18.257282Z"
    }
   },
   "cell_type": "code",
   "source": "dict(a=4,b=5)",
   "id": "d036147b26acb96c",
   "outputs": [
    {
     "data": {
      "text/plain": [
       "{'a': 4, 'b': 5}"
      ]
     },
     "execution_count": 46,
     "metadata": {},
     "output_type": "execute_result"
    }
   ],
   "execution_count": 46
  },
  {
   "metadata": {},
   "cell_type": "markdown",
   "source": [
    "## Literals\n",
    "Literals are the data that is given in a variable or constant. It can be of any data type like string, integer, float, boolean, etc."
   ],
   "id": "9a1d016d37c35ad6"
  },
  {
   "metadata": {
    "ExecuteTime": {
     "end_time": "2025-09-20T09:50:58.362624Z",
     "start_time": "2025-09-20T09:50:58.353603Z"
    }
   },
   "cell_type": "code",
   "source": [
    "a = 0b1010 #Binary Literals\n",
    "b = 100 #Decimal Literal\n",
    "c = 0o310 #Octal Literal\n",
    "d = 0x12c #Hexadecimal Literal\n",
    "\n",
    "#Float Literal\n",
    "float_1 = 10.5\n",
    "float_2 = 1.5e2 # 1.5 * 10^2\n",
    "float_3 = 1.5e-3 # 1.5 * 10^-3\n",
    "\n",
    "#Complex Literal\n",
    "x = 3.14j\n",
    "\n",
    "print(a, b, c, d)\n",
    "print(float_1, float_2,float_3)\n",
    "print(x, x.imag, x.real)"
   ],
   "id": "72dc9fffcee59f7e",
   "outputs": [
    {
     "name": "stdout",
     "output_type": "stream",
     "text": [
      "10 100 200 300\n",
      "10.5 150.0 0.0015\n",
      "3.14j 3.14 0.0\n"
     ]
    }
   ],
   "execution_count": 50
  },
  {
   "metadata": {
    "ExecuteTime": {
     "end_time": "2025-09-20T09:54:18.183618Z",
     "start_time": "2025-09-20T09:54:18.177677Z"
    }
   },
   "cell_type": "code",
   "source": [
    "string = 'This is Python'\n",
    "strings = \"This is Python\"\n",
    "char = \"C\"\n",
    "multiline_str = \"\"\"This is a multiline string with more than one line code.\"\"\"\n",
    "unicode = u\"\\U0001f600\\U0001F606\\U0001F923\"\n",
    "raw_str = r\"raw \\n string\"\n",
    "\n",
    "print(string)\n",
    "print(strings)\n",
    "print(char)\n",
    "print(multiline_str)\n",
    "print(unicode)\n",
    "print(raw_str)"
   ],
   "id": "b64df3c0e7eb518c",
   "outputs": [
    {
     "name": "stdout",
     "output_type": "stream",
     "text": [
      "This is Python\n",
      "This is Python\n",
      "C\n",
      "This is a multiline string with more than one line code.\n",
      "😀😆🤣\n",
      "raw \\n string\n"
     ]
    }
   ],
   "execution_count": 52
  },
  {
   "metadata": {
    "ExecuteTime": {
     "end_time": "2025-09-20T09:55:26.421668Z",
     "start_time": "2025-09-20T09:55:26.415461Z"
    }
   },
   "cell_type": "code",
   "source": [
    "a = True + 4\n",
    "b = False + 10\n",
    "\n",
    "print(\"a :\", a)\n",
    "print(\"b :\", b)"
   ],
   "id": "d3b19be1699bbe8c",
   "outputs": [
    {
     "name": "stdout",
     "output_type": "stream",
     "text": [
      "a : 5\n",
      "b : 10\n"
     ]
    }
   ],
   "execution_count": 54
  },
  {
   "metadata": {},
   "cell_type": "markdown",
   "source": "True is treated as 1 and False is treated as 0 in arithmetic operations.",
   "id": "390260b9dc66c63f"
  },
  {
   "metadata": {
    "ExecuteTime": {
     "end_time": "2025-09-20T09:57:28.413533Z",
     "start_time": "2025-09-20T09:57:28.407109Z"
    }
   },
   "cell_type": "code",
   "source": [
    "k = None\n",
    "print(k)\n",
    "type(k)"
   ],
   "id": "e9da47061de0491",
   "outputs": [
    {
     "name": "stdout",
     "output_type": "stream",
     "text": [
      "None\n"
     ]
    },
    {
     "data": {
      "text/plain": [
       "NoneType"
      ]
     },
     "execution_count": 59,
     "metadata": {},
     "output_type": "execute_result"
    }
   ],
   "execution_count": 59
  },
  {
   "metadata": {},
   "cell_type": "markdown",
   "source": "`None` is a special data type in python that represents the absence of a value or a null value, it is often used to indicate that a variable has no value assigned to it or that a function does not return any value.",
   "id": "a593d5dafb6b28ab"
  },
  {
   "metadata": {},
   "cell_type": "code",
   "source": [
    "AX\n",
    "# more code\n",
    "AX = 10"
   ],
   "id": "3a99b1e28acff5ff",
   "outputs": [],
   "execution_count": null
  },
  {
   "metadata": {},
   "cell_type": "code",
   "outputs": [],
   "execution_count": null,
   "source": [
    "# In python, we can't define a variable without assigning it a value first .\n",
    "# here we got an error since AX is not defined , we can define it as AX = None when we want to use it later in the program ."
   ],
   "id": "f2f2d3a55685bda2"
  },
  {
   "metadata": {},
   "cell_type": "markdown",
   "source": [
    "### Python Exercise\n",
    "\n",
    "**Task:**\n",
    "\n",
    "1. Take **three integer inputs** from the user (`a`, `b`, and `c`).\n",
    "2. Compute the value of **(a + b) / c**.\n",
    "3. Add the result to a **complex number** of your choice.\n",
    "4. Finally, concatenate this result with your **name** and display it."
   ],
   "id": "5b799d19ec672cb"
  },
  {
   "metadata": {
    "ExecuteTime": {
     "end_time": "2025-09-20T10:36:20.436096Z",
     "start_time": "2025-09-20T10:36:14.730461Z"
    }
   },
   "cell_type": "code",
   "source": [
    "e = int(input(\"This is my first variable : \"))\n",
    "f = int(input(\"This is my second variable : \"))\n",
    "g = int(input(\"This is my third variable : \"))\n",
    "h = (e + f) / g\n",
    "i = 232 + 244j\n",
    "k = h + i\n",
    "str(k) + \"ritesh\""
   ],
   "id": "ba7b0b8c46ac1a57",
   "outputs": [
    {
     "data": {
      "text/plain": [
       "'(235.23809523809524+244j)ritesh'"
      ]
     },
     "execution_count": 66,
     "metadata": {},
     "output_type": "execute_result"
    }
   ],
   "execution_count": 66
  },
  {
   "metadata": {},
   "cell_type": "markdown",
   "source": "## More on print Function",
   "id": "75df0d6846ffd181"
  },
  {
   "metadata": {},
   "cell_type": "markdown",
   "source": "`format()` is a method in Python that allows you to format strings by inserting values into placeholders( **`{}`** )  defined within the string. It provides a way to create dynamic and well-structured output.",
   "id": "13ca733192f059b3"
  },
  {
   "metadata": {
    "ExecuteTime": {
     "end_time": "2025-09-20T12:23:05.417455Z",
     "start_time": "2025-09-20T12:23:05.412559Z"
    }
   },
   "cell_type": "code",
   "source": [
    "amount = 150.75\n",
    "print(\"Amount: ${}\".format(amount))"
   ],
   "id": "774ddc09ee5cb068",
   "outputs": [
    {
     "name": "stdout",
     "output_type": "stream",
     "text": [
      "Amount: $150.75\n"
     ]
    }
   ],
   "execution_count": 71
  },
  {
   "metadata": {},
   "cell_type": "markdown",
   "source": [
    "`fstring` is a way to embed expressions inside string literals, using curly braces {}. Strings are prefixed with the letter f (or F).\n",
    "\n",
    "The f before the quotes in print(f\"...\") enables you to insert variables or expressions directly into the string, making string formatting easier and more readable."
   ],
   "id": "c8b29f857a07d59e"
  },
  {
   "metadata": {
    "ExecuteTime": {
     "end_time": "2025-09-20T12:25:55.942492Z",
     "start_time": "2025-09-20T12:25:55.937046Z"
    }
   },
   "cell_type": "code",
   "source": [
    "name = 'Tushar'\n",
    "age = 23\n",
    "print(f\"Hello, My name is {name} and I'm {age} years old.\")"
   ],
   "id": "b77288e45d7a1a87",
   "outputs": [
    {
     "name": "stdout",
     "output_type": "stream",
     "text": [
      "Hello, My name is Tushar and I'm 23 years old.\n"
     ]
    }
   ],
   "execution_count": 72
  },
  {
   "metadata": {},
   "cell_type": "markdown",
   "source": [
    "`% Operator` is another way to format strings in Python, similar to the printf-style formatting in C. It uses the `%` symbol as a placeholder for values that will be inserted into the string.\n",
    "\n",
    "- %d –integer\n",
    "- %f – float\n",
    "- %s – string\n",
    "- %x –hexadecimal\n",
    "- %o – octal"
   ],
   "id": "5621da5e6e608bd1"
  },
  {
   "metadata": {
    "ExecuteTime": {
     "end_time": "2025-09-20T12:28:21.134304Z",
     "start_time": "2025-09-20T12:28:17.134230Z"
    }
   },
   "cell_type": "code",
   "source": [
    "# Taking input from the user\n",
    "num = int(input(\"Enter a value: \"))\n",
    "\n",
    "add = num + 5\n",
    "\n",
    "# Output\n",
    "print(\"The sum is %d\"  %add)"
   ],
   "id": "64691885582dff68",
   "outputs": [
    {
     "name": "stdout",
     "output_type": "stream",
     "text": [
      "The sum is 216\n"
     ]
    }
   ],
   "execution_count": 73
  },
  {
   "metadata": {},
   "cell_type": "markdown",
   "source": [
    "# Operators\n",
    "\n",
    "- Arithmetic Operators\n",
    "- Relational Operators\n",
    "- Logical Operators\n",
    "- Bitwise Operators\n",
    "- Assignment Operators\n",
    "- Membership Operators"
   ],
   "id": "3f9b16aed201744a"
  },
  {
   "metadata": {
    "ExecuteTime": {
     "end_time": "2025-09-20T12:31:35.172144Z",
     "start_time": "2025-09-20T12:31:35.163340Z"
    }
   },
   "cell_type": "code",
   "source": [
    "# Arithmetric Operators\n",
    "print(5+6)\n",
    "\n",
    "print(5-6)\n",
    "\n",
    "print(5*6)\n",
    "\n",
    "print(5/2)\n",
    "\n",
    "# Floor Division here // is used to get integer value only .\n",
    "print(5//2)\n",
    "\n",
    "# Modulus gives the remainder value .\n",
    "print(5%2)\n",
    "\n",
    "# Power here ** is used to get power value .\n",
    "print(5**2)"
   ],
   "id": "b0c7edb93b733482",
   "outputs": [
    {
     "name": "stdout",
     "output_type": "stream",
     "text": [
      "11\n",
      "-1\n",
      "30\n",
      "2.5\n",
      "2\n",
      "1\n",
      "25\n"
     ]
    }
   ],
   "execution_count": 74
  },
  {
   "metadata": {
    "ExecuteTime": {
     "end_time": "2025-09-20T12:35:13.281416Z",
     "start_time": "2025-09-20T12:35:13.277078Z"
    }
   },
   "cell_type": "code",
   "source": [
    "# Relational Operators\n",
    "print(4 > 5)\n",
    "\n",
    "print(4 < 5)\n",
    "\n",
    "print(4 >= 4)\n",
    "\n",
    "print(4 <= 4)\n",
    "\n",
    "print(4 == 4)\n",
    "\n",
    "print(4 != 4)"
   ],
   "id": "8e08004c878293a",
   "outputs": [
    {
     "name": "stdout",
     "output_type": "stream",
     "text": [
      "False\n",
      "True\n",
      "True\n",
      "True\n",
      "True\n",
      "False\n"
     ]
    }
   ],
   "execution_count": 76
  },
  {
   "metadata": {
    "ExecuteTime": {
     "end_time": "2025-09-20T12:36:07.544142Z",
     "start_time": "2025-09-20T12:36:07.532701Z"
    }
   },
   "cell_type": "code",
   "source": [
    "# Logical Operators\n",
    "print(1 and 0)\n",
    "\n",
    "print(1 or 0)\n",
    "\n",
    "print(not 1)"
   ],
   "id": "9aa042dbbdb080cd",
   "outputs": [
    {
     "name": "stdout",
     "output_type": "stream",
     "text": [
      "0\n",
      "1\n",
      "False\n"
     ]
    }
   ],
   "execution_count": 77
  },
  {
   "metadata": {
    "ExecuteTime": {
     "end_time": "2025-09-20T12:46:04.361363Z",
     "start_time": "2025-09-20T12:46:04.356896Z"
    }
   },
   "cell_type": "code",
   "source": "print(not 0)",
   "id": "c0aba5e68535b1e5",
   "outputs": [
    {
     "name": "stdout",
     "output_type": "stream",
     "text": [
      "True\n"
     ]
    }
   ],
   "execution_count": 87
  },
  {
   "metadata": {
    "ExecuteTime": {
     "end_time": "2025-09-20T13:39:24.614960Z",
     "start_time": "2025-09-20T13:39:24.611107Z"
    }
   },
   "cell_type": "code",
   "source": [
    "# Bitwise Operators\n",
    "\n",
    "# bitwise and : 2 = 010 , 3 = 011 so 010 & 011 = 010 that is 2\n",
    "print(2 & 3)\n",
    "\n",
    "# bitwise or :  2 = 010 , 3 = 011 so 010 | 011 = 011 that is 3\n",
    "print(2 | 3)\n",
    "\n",
    "# bitwise xor : here if the bits are diff. then the result is 1 else 0 so , 010 ^ 011 = 001 that is 1\n",
    "print(2 ^ 3)\n",
    "\n",
    "# bitwise not : it gives the 1's complement of the number so , ~2 = -(2+1) = -3 how ?\n",
    "# The bitwise NOT of n is equal to -(n+1).\n",
    "print(~2)\n",
    "\n",
    "print(4 >> 2)\n",
    "\n",
    "print(5 << 2)"
   ],
   "id": "f498976d984c206c",
   "outputs": [
    {
     "name": "stdout",
     "output_type": "stream",
     "text": [
      "2\n",
      "3\n",
      "1\n",
      "-3\n",
      "1\n",
      "20\n"
     ]
    }
   ],
   "execution_count": 92
  },
  {
   "metadata": {
    "ExecuteTime": {
     "end_time": "2025-09-20T13:46:51.599668Z",
     "start_time": "2025-09-20T13:46:51.594546Z"
    }
   },
   "cell_type": "code",
   "source": [
    "# Assignment Operators\n",
    "\n",
    "# =\n",
    "a = 2\n",
    "\n",
    "# a = a % 2\n",
    "a %= 2\n",
    "\n",
    "# a++ ++a are not valid\n",
    "\n",
    "print(a)"
   ],
   "id": "eea39be68f456279",
   "outputs": [
    {
     "name": "stdout",
     "output_type": "stream",
     "text": [
      "0\n"
     ]
    }
   ],
   "execution_count": 95
  },
  {
   "metadata": {},
   "cell_type": "markdown",
   "source": "In python increment and decrement operators ( ++ and -- ) are not valid !",
   "id": "fe5e65403baa29d"
  },
  {
   "metadata": {
    "ExecuteTime": {
     "end_time": "2025-09-20T13:46:58.585808Z",
     "start_time": "2025-09-20T13:46:58.580842Z"
    }
   },
   "cell_type": "code",
   "source": [
    "# Membership Operators\n",
    "\n",
    "# in/not in\n",
    "\n",
    "print('D' not in 'Delhi')\n",
    "\n",
    "print(1 in [2,3,4,5,6])"
   ],
   "id": "271652a9ee8a828e",
   "outputs": [
    {
     "name": "stdout",
     "output_type": "stream",
     "text": [
      "False\n",
      "False\n"
     ]
    }
   ],
   "execution_count": 96
  },
  {
   "metadata": {},
   "cell_type": "markdown",
   "source": [
    "### Python Exercise\n",
    "\n",
    "**Task:**\n",
    "\n",
    "1. Take a three digit integer input from the user.\n",
    "2. find sum of three digits ."
   ],
   "id": "6279db01872fc51a"
  },
  {
   "metadata": {
    "ExecuteTime": {
     "end_time": "2025-09-20T14:38:18.221852Z",
     "start_time": "2025-09-20T14:38:11.790186Z"
    }
   },
   "cell_type": "code",
   "source": [
    "number = int(input('Enter a 3 digit number'))\n",
    "\n",
    "# 345%10 -> 5\n",
    "a = number%10\n",
    "\n",
    "number = number//10\n",
    "\n",
    "# 34%10 -> 4\n",
    "b = number % 10\n",
    "\n",
    "number = number//10\n",
    "\n",
    "# 3 % 10 -> 3\n",
    "c = number % 10\n",
    "\n",
    "print(a + b + c)"
   ],
   "id": "4687e03061747ab9",
   "outputs": [
    {
     "name": "stdout",
     "output_type": "stream",
     "text": [
      "21\n"
     ]
    }
   ],
   "execution_count": 97
  },
  {
   "metadata": {},
   "cell_type": "markdown",
   "source": "# If-else in Python",
   "id": "c0f7e5979f6be12"
  },
  {
   "metadata": {},
   "cell_type": "markdown",
   "source": [
    "### Python Exercise\n",
    "\n",
    "**Task:**\n",
    "\n",
    "1. Take an email and password from user as input.\n",
    "2. If it matches with our already defined email and password then print \"Login Successful\".\n",
    "3. If email matches but password doesn't then print \"Incorrect Password\" and ask for password again.\n",
    "4. and now if the password also matches then print welcome, Finally! ."
   ],
   "id": "bf77676f653a0527"
  },
  {
   "metadata": {
    "ExecuteTime": {
     "end_time": "2025-09-20T15:04:40.347211Z",
     "start_time": "2025-09-20T15:04:12.772955Z"
    }
   },
   "cell_type": "code",
   "source": [
    "email = input('Enter email : ')\n",
    "password = input('Enter password : ')\n",
    "\n",
    "if email == 'ritesh008@gmail.com' and password == '1234':\n",
    "  print('Login Successful')\n",
    "elif email == 'ritesh008@gmail.com' and password != '1234':\n",
    "  # tell the user\n",
    "  print('Incorrect password')\n",
    "  password = input('enter password again')\n",
    "  if password == '1234':\n",
    "    print('Welcome,finally!')\n",
    "  else:\n",
    "    print('Tumse na ho Paayega!')\n",
    "else:\n",
    "  print('Not correct')"
   ],
   "id": "ceeb46a36637e165",
   "outputs": [
    {
     "name": "stdout",
     "output_type": "stream",
     "text": [
      "Incorrect password\n",
      "Tumse na ho Paayega!\n"
     ]
    }
   ],
   "execution_count": 100
  },
  {
   "metadata": {},
   "cell_type": "markdown",
   "source": "## Indentation\n",
   "id": "e7b35053f4c78a6a"
  },
  {
   "metadata": {},
   "cell_type": "markdown",
   "source": [
    "### Python Exercise\n",
    "\n",
    "**Task:**\n",
    "\n",
    "1. Take three integers as input from user .\n",
    "2. Now find the smallest of three numbers and print it ."
   ],
   "id": "b08665b4adcf8131"
  },
  {
   "metadata": {
    "ExecuteTime": {
     "end_time": "2025-09-20T15:18:11.527541Z",
     "start_time": "2025-09-20T15:18:04.612539Z"
    }
   },
   "cell_type": "code",
   "source": [
    "# num1, num2, num3 = int(input(\"Enter three numbers : \").split())\n",
    "# input(\"Enter three numbers : \") gets a string from the user, e.g., \"1 2 3\"\n",
    "# .split() splits the string into a list: [\"1\", \"2\", \"3\"]\n",
    "# int([\"1\", \"2\", \"3\"]) tries to convert the whole list into an integer, which is not allowed.\n",
    "# so, we need to convert each string in the list to an integer. Use map(int, ...) to do this:\n",
    "num1, num2, num3 = map(int, input(\"Enter three numbers: \").split())\n",
    "print(num1,num2,num3)"
   ],
   "id": "331a9e75110f4631",
   "outputs": [
    {
     "name": "stdout",
     "output_type": "stream",
     "text": [
      "12 34 56\n"
     ]
    }
   ],
   "execution_count": 103
  },
  {
   "metadata": {},
   "cell_type": "code",
   "outputs": [],
   "execution_count": null,
   "source": "",
   "id": "e5a0dcdac7684390"
  },
  {
   "metadata": {},
   "cell_type": "code",
   "outputs": [],
   "execution_count": null,
   "source": "",
   "id": "3c9b80ab99ba8c8f"
  },
  {
   "metadata": {},
   "cell_type": "code",
   "outputs": [],
   "execution_count": null,
   "source": "",
   "id": "7c7c2a9076f79633"
  },
  {
   "metadata": {},
   "cell_type": "code",
   "outputs": [],
   "execution_count": null,
   "source": "",
   "id": "6f843495d2a32894"
  },
  {
   "metadata": {},
   "cell_type": "code",
   "outputs": [],
   "execution_count": null,
   "source": "",
   "id": "e941205a2282391"
  },
  {
   "metadata": {},
   "cell_type": "code",
   "outputs": [],
   "execution_count": null,
   "source": "",
   "id": "4155be0517c9b62b"
  },
  {
   "cell_type": "code",
   "id": "d45e8aa6-e432-4a28-a716-a02e5983d4e2",
   "metadata": {
    "ExecuteTime": {
     "end_time": "2025-07-06T14:30:57.870815Z",
     "start_time": "2025-07-06T14:30:57.866818Z"
    }
   },
   "source": "",
   "outputs": [],
   "execution_count": 9
  },
  {
   "cell_type": "code",
   "id": "0b2bb2fe-102f-4f6f-a584-bdc4a640edf2",
   "metadata": {
    "ExecuteTime": {
     "end_time": "2025-09-20T10:37:55.977059Z",
     "start_time": "2025-09-20T10:37:55.974480Z"
    }
   },
   "source": "",
   "outputs": [],
   "execution_count": null
  },
  {
   "cell_type": "code",
   "execution_count": 32,
   "id": "a54ff691-a017-4d8b-9dbf-8950bff69a34",
   "metadata": {},
   "outputs": [],
   "source": [
    "# Conditional Statements"
   ]
  },
  {
   "cell_type": "code",
   "execution_count": 40,
   "id": "4def6a7e-ab12-40b1-8aa8-9b751faa6806",
   "metadata": {},
   "outputs": [
    {
     "name": "stdin",
     "output_type": "stream",
     "text": [
      "Enter a number less than 50 :  12\n"
     ]
    }
   ],
   "source": [
    "a = int(input(\"Enter a number less than 50 : \"))\n",
    "if a < 50 : pass \n",
    "else : print(\"Are you dumb !\")"
   ]
  },
  {
   "cell_type": "code",
   "execution_count": 73,
   "id": "1c1d728a-7e13-4d9a-8c02-6fccdd379256",
   "metadata": {},
   "outputs": [],
   "source": [
    "# just write pass when we don't want to write the body ."
   ]
  },
  {
   "cell_type": "code",
   "execution_count": 58,
   "id": "9a5a9e74-ff5f-4c83-b552-4943968f59d0",
   "metadata": {},
   "outputs": [],
   "source": [
    "# no concept of curly braces in python ! , here we follow indentaion by default that behaves as body of that if condition .\n",
    "# we can use circular brackets to write condition that will also work ."
   ]
  },
  {
   "cell_type": "code",
   "execution_count": 53,
   "id": "fcf62e51-208e-4947-831d-97f6b4cb040b",
   "metadata": {},
   "outputs": [
    {
     "name": "stdin",
     "output_type": "stream",
     "text": [
      "Enter a number greater than 50 :  31\n"
     ]
    },
    {
     "name": "stdout",
     "output_type": "stream",
     "text": [
      "well done  31  is lesser than 50 !\n",
      "not part of the if-else code block !\n"
     ]
    }
   ],
   "source": [
    "b = int(input(\"Enter a number greater than 50 : \"))\n",
    "if b > 50 :\n",
    "    print(\"What a obidient slave !\")\n",
    "    print(\"Shame on you !!\")\n",
    "else :\n",
    "    print(\"well done \", b, \" is lesser than 50 !\")\n",
    "print(\"not part of the if-else code block !\")\n"
   ]
  },
  {
   "cell_type": "code",
   "execution_count": 54,
   "id": "ca5c7b9d-64fc-49ac-bdd9-628c17643425",
   "metadata": {},
   "outputs": [],
   "source": [
    "# if more conditions are to be written we can use \"elif\" . "
   ]
  },
  {
   "cell_type": "code",
   "execution_count": 55,
   "id": "0379e035-507a-462b-bac7-067635d6a412",
   "metadata": {},
   "outputs": [],
   "source": [
    "# Question\n",
    "# check whether a number is positive, negative, or zero"
   ]
  },
  {
   "cell_type": "code",
   "execution_count": 57,
   "id": "9e576099-4082-4d24-a9c2-6cc11663a61b",
   "metadata": {},
   "outputs": [
    {
     "name": "stdin",
     "output_type": "stream",
     "text": [
      "Enter a number : 23\n"
     ]
    },
    {
     "name": "stdout",
     "output_type": "stream",
     "text": [
      "The number is positive.\n"
     ]
    }
   ],
   "source": [
    "number = int(input(\"Enter a number :\"))\n",
    "\n",
    "if number > 0:\n",
    "    print(\"The number is positive.\")\n",
    "elif number == 0:\n",
    "    print(\"The number is zero.\")\n",
    "else:\n",
    "    print(\"The number is negative.\")"
   ]
  },
  {
   "cell_type": "code",
   "execution_count": 59,
   "id": "5e389f45-fca0-4dc1-8e2a-5aa84f102c1f",
   "metadata": {},
   "outputs": [],
   "source": [
    "# there can be n number of elif statements between if and else ."
   ]
  },
  {
   "cell_type": "code",
   "execution_count": 60,
   "id": "ec39cb39-d6db-4b69-9767-fcc60da557ce",
   "metadata": {},
   "outputs": [],
   "source": [
    "# Problem: Grade Classification"
   ]
  },
  {
   "cell_type": "code",
   "execution_count": 67,
   "id": "a515a57f-722b-4ced-ad9b-ae7f3a7c7fd4",
   "metadata": {},
   "outputs": [
    {
     "name": "stdin",
     "output_type": "stream",
     "text": [
      "Enter the student's score :  99.9\n"
     ]
    },
    {
     "name": "stdout",
     "output_type": "stream",
     "text": [
      "Grade: A\n"
     ]
    }
   ],
   "source": [
    "score = float(input(\"Enter the student's score : \"))\n",
    "\n",
    "if score < 0 or score > 100:\n",
    "    print(\"Invalid score.\")\n",
    "elif score >= 90:\n",
    "    print(\"Grade: A\")\n",
    "elif score >= 80:\n",
    "    print(\"Grade: B\")\n",
    "elif score >= 70:\n",
    "    print(\"Grade: C\")\n",
    "elif score >= 60:\n",
    "    print(\"Grade: D\")\n",
    "else : \n",
    "    print(\"Grade: F\")"
   ]
  },
  {
   "cell_type": "code",
   "execution_count": 68,
   "id": "2ad3041e-6ef8-43a2-9468-fa63f78cd5b9",
   "metadata": {},
   "outputs": [],
   "source": [
    "# Problem: Salary Bonus Calculation"
   ]
  },
  {
   "cell_type": "code",
   "execution_count": 69,
   "id": "f65facec-f772-42c4-8295-4ade0687a9ac",
   "metadata": {},
   "outputs": [
    {
     "data": {
      "text/plain": [
       "'\\nWrite a Python program that asks the user for their salary and years of service. The program should calculate and display the bonus as follows:\\n\\nIf the salary is more than 50,000:\\nIf years of service are more than 10, bonus is 10% of salary.\\nIf years of service are between 5 and 10 (inclusive), bonus is 7% of salary.\\nElse, bonus is 5% of salary.\\nElse (salary is 50,000 or less):\\nIf years of service are more than 10, bonus is 5% of salary.\\nIf years of service are between 5 and 10 (inclusive), bonus is 3% of salary.\\nElse, bonus is 2% of salary.\\n'"
      ]
     },
     "execution_count": 69,
     "metadata": {},
     "output_type": "execute_result"
    }
   ],
   "source": [
    "'''\n",
    "Write a Python program that asks the user for their salary and years of service. The program should calculate and display the bonus as follows:\n",
    "\n",
    "If the salary is more than 50,000:\n",
    "If years of service are more than 10, bonus is 10% of salary.\n",
    "If years of service are between 5 and 10 (inclusive), bonus is 7% of salary.\n",
    "Else, bonus is 5% of salary.\n",
    "Else (salary is 50,000 or less):\n",
    "If years of service are more than 10, bonus is 5% of salary.\n",
    "If years of service are between 5 and 10 (inclusive), bonus is 3% of salary.\n",
    "Else, bonus is 2% of salary.\n",
    "'''"
   ]
  },
  {
   "cell_type": "code",
   "execution_count": 75,
   "id": "039d709b-45bb-4a40-a2ab-a5303efa6ad9",
   "metadata": {},
   "outputs": [
    {
     "name": "stdin",
     "output_type": "stream",
     "text": [
      "Enter your salary:  765273\n",
      "Enter your years of service:  62\n"
     ]
    },
    {
     "name": "stdout",
     "output_type": "stream",
     "text": [
      "Bonus is 10% of salary.\n",
      "Your bonus is:  76527.3\n"
     ]
    }
   ],
   "source": [
    "salary = float(input(\"Enter your salary: \"))\n",
    "years_of_service = int(input(\"Enter your years of service: \"))\n",
    "\n",
    "if salary > 50000:\n",
    "    if years_of_service > 10:\n",
    "        bonus = salary * 0.10\n",
    "        print(\"Bonus is 10% of salary.\")\n",
    "    elif years_of_service >= 5:\n",
    "        bonus = salary * 0.07\n",
    "        print(\"Bonus is 7% of salary.\")\n",
    "    else:\n",
    "        bonus = salary * 0.05\n",
    "        print(\"Bonus is 5% of salary.\")\n",
    "else:\n",
    "    if years_of_service > 10:\n",
    "        bonus = salary * 0.05\n",
    "        print(\"Bonus is 5% of salary.\")\n",
    "    elif years_of_service >= 5:\n",
    "        bonus = salary * 0.03\n",
    "        print(\"Bonus is 3% of salary.\")\n",
    "    else:\n",
    "        bonus = salary * 0.02\n",
    "        print(\"Bonus is 2% of salary.\")\n",
    "        \n",
    "print(f\"Your bonus is: \",bonus)"
   ]
  },
  {
   "cell_type": "code",
   "execution_count": null,
   "id": "5bbe3366-a923-4e12-a9f2-c81ead9c4b88",
   "metadata": {},
   "outputs": [],
   "source": [
    "# id()R ==> eturn the identity of an object."
   ]
  },
  {
   "cell_type": "code",
   "execution_count": 3,
   "id": "694e347c-310c-4572-8c69-148d055090de",
   "metadata": {},
   "outputs": [
    {
     "name": "stdout",
     "output_type": "stream",
     "text": [
      "140719324867608\n",
      "140719324867288\n"
     ]
    }
   ],
   "source": [
    "a = 10\n",
    "b = 20\n",
    "print(id(b))\n",
    "print(id(a))"
   ]
  },
  {
   "cell_type": "code",
   "execution_count": 4,
   "id": "7c00542b-800f-4372-9b1e-1f08f81393bb",
   "metadata": {},
   "outputs": [
    {
     "name": "stdout",
     "output_type": "stream",
     "text": [
      "140719324867928\n",
      "140719324867928\n"
     ]
    }
   ],
   "source": [
    "a = 30\n",
    "b = 30\n",
    "print(id(b))\n",
    "print(id(a))"
   ]
  },
  {
   "cell_type": "code",
   "execution_count": 13,
   "id": "4aa79a9d-45b7-4276-af6b-9efbfc0379f9",
   "metadata": {},
   "outputs": [],
   "source": [
    "# here id is same since objects are same ."
   ]
  },
  {
   "cell_type": "markdown",
   "id": "8aa3480d-5f64-4851-a49e-2c8997a1858f",
   "metadata": {},
   "source": [
    "# Scope of a Variable"
   ]
  },
  {
   "cell_type": "markdown",
   "id": "6d279ce2-be7e-4c50-80d4-d22da22c480f",
   "metadata": {},
   "source": [
    "## Local Variables:\n",
    " Variables defined inside a function are local to that function."
   ]
  },
  {
   "cell_type": "code",
   "execution_count": 16,
   "id": "2c63c5cb-c351-4485-982b-887c7fe483b7",
   "metadata": {},
   "outputs": [
    {
     "name": "stdout",
     "output_type": "stream",
     "text": [
      "I am local\n"
     ]
    }
   ],
   "source": [
    "def f():\n",
    "    a = \"I am local\"\n",
    "    print(a)\n",
    "\n",
    "f()\n",
    "# print(a)  # This would raise an error since 'local_var' is not accessible outside the function"
   ]
  },
  {
   "cell_type": "markdown",
   "id": "a39b6ad2-846e-4908-8c5c-c46d9450ef61",
   "metadata": {},
   "source": [
    "## Global Variables:\n",
    " Variables defined outside any function are global and can be accessed inside functions using the global keyword."
   ]
  },
  {
   "cell_type": "code",
   "execution_count": 45,
   "id": "12b0743c-e911-4d98-940d-feca1739b33a",
   "metadata": {},
   "outputs": [
    {
     "name": "stdout",
     "output_type": "stream",
     "text": [
      "Modified globally\n",
      "Modified globally\n"
     ]
    }
   ],
   "source": [
    "a = \"I am global\"\n",
    "\n",
    "def f():\n",
    "    global a\n",
    "    a = \"Modified globally\"\n",
    "    print(a)\n",
    "\n",
    "f()\n",
    "print(a)"
   ]
  },
  {
   "metadata": {},
   "cell_type": "markdown",
   "source": "### Object Reference in Python",
   "id": "4b6c3facf0de934f"
  },
  {
   "cell_type": "code",
   "execution_count": 21,
   "id": "a587d124-c74a-4603-af1a-bc98c01c34c3",
   "metadata": {},
   "outputs": [],
   "source": [
    "# 1. Assigning a value to a variable\n",
    "x = 5\n",
    "# Python creates the number 5 as an object and makes x point to it."
   ]
  },
  {
   "cell_type": "code",
   "execution_count": 22,
   "id": "967801f1-8431-4a8e-adea-46fc83fc4bf2",
   "metadata": {},
   "outputs": [],
   "source": [
    "# 2. Assigning another variable to the same value\n",
    "y = x\n",
    "# Now, both x and y point to the same object (the number 5). They’re sharing it."
   ]
  },
  {
   "cell_type": "code",
   "execution_count": 25,
   "id": "919936a5-6853-4461-ada1-dd34801c43d1",
   "metadata": {},
   "outputs": [],
   "source": [
    "# 3. Changing one variable , If you change x to something else:\n",
    "x = \"rishu\"\n",
    "# Python makes a new object for \"rishu\" and now x points to it.\n",
    "# y still points to 5, nothing happened to y."
   ]
  },
  {
   "cell_type": "code",
   "execution_count": 26,
   "id": "15ede956-a9f8-4668-a64d-268aaeaef5d3",
   "metadata": {},
   "outputs": [],
   "source": [
    "# 4. Changing the other variable\n",
    "y = \"Computer\"\n",
    "# Python makes another new object for \"Computer\" and now y points to it.\n",
    "#The old object (5) isn’t pointed to by any variable now, so Python can remove it."
   ]
  },
  {
   "cell_type": "code",
   "execution_count": 28,
   "id": "fc31048a-1380-4b7d-aec5-cddf0e7bf0c0",
   "metadata": {},
   "outputs": [],
   "source": [
    "# Key Takeaways\n",
    "    # Variables hold references (arrows pointing) to objects, not the actual objects themselves.\n",
    "    # Assigning one variable to another just makes both point to the same thing.\n",
    "    # Changing one variable to a new value doesn’t affect the other.\n",
    "    # If an object has no variables pointing to it, Python can get rid of it to save memory.\n",
    "\n",
    "# In short:\n",
    "    # Variables in Python are like labels attached to objects. You can move the labels around ,\n",
    "    # but the objects stay where they are until nothing is pointing at them anymore.\n"
   ]
  },
  {
   "cell_type": "code",
   "execution_count": null,
   "id": "4012b328-3a95-4daf-9eaa-077a3181485c",
   "metadata": {},
   "outputs": [],
   "source": [
    "# Delete a Variable Using del Keyword\n",
    "# Assigning value to variable\n",
    "x = 10\n",
    "print(x) \n",
    "\n",
    "# Removing the variable using del\n",
    "del x\n",
    "\n",
    "# Trying to print x after deletion will raise an error\n",
    "# print(x)  # Uncommenting this line will raise NameError: name 'x' is not defined"
   ]
  },
  {
   "cell_type": "code",
   "execution_count": 30,
   "id": "b1e2ceaa-171b-47a7-91ee-44a1ac0d6e2b",
   "metadata": {},
   "outputs": [],
   "source": [
    "# Question : "
   ]
  },
  {
   "cell_type": "code",
   "execution_count": 31,
   "id": "d0a47583-3fce-450a-a7f0-1eed7004f7f3",
   "metadata": {},
   "outputs": [
    {
     "name": "stdout",
     "output_type": "stream",
     "text": [
      "10 5\n"
     ]
    }
   ],
   "source": [
    "a, b = 5, 10\n",
    "a, b = b, a\n",
    "print(a, b)"
   ]
  },
  {
   "cell_type": "markdown",
   "id": "f44b1787-4a07-450a-86eb-b8bfca134dcb",
   "metadata": {},
   "source": [
    "# Operators"
   ]
  },
  {
   "attachments": {
    "ae45b4f9-b832-480d-9ce3-d55fffad0cc9.png": {
     "image/png": "[encoded data removed]"
    }
   },
   "cell_type": "markdown",
   "id": "e149531d-f2d0-4841-9f54-ae849da750dd",
   "metadata": {},
   "source": [
    "![image.png](attachment:ae45b4f9-b832-480d-9ce3-d55fffad0cc9.png)"
   ]
  },
  {
   "cell_type": "code",
   "execution_count": 34,
   "id": "d07ac8d3-3d05-4525-8d90-a94bb2fdeaa9",
   "metadata": {},
   "outputs": [],
   "source": [
    "# Arithmetic Operators \n",
    "# In Python 3.x the result of division is a floating-point \n",
    "# while in Python 2.x division of 2 integers was an integer. To obtain an integer result in Python 3.x floored (// integer) is used."
   ]
  },
  {
   "cell_type": "code",
   "execution_count": 2,
   "id": "c60f14f3-3d09-4c3e-a4ed-df663933faa4",
   "metadata": {},
   "outputs": [
    {
     "name": "stdout",
     "output_type": "stream",
     "text": [
      "Addition: 19\n",
      "Subtraction: 11\n",
      "Multiplication: 60\n",
      "Division: 3.75\n",
      "Floor Division: 3\n",
      "Modulus: 3\n",
      "Exponentiation: 50625\n"
     ]
    }
   ],
   "source": [
    "# Variables\n",
    "a = 15\n",
    "b = 4\n",
    "\n",
    "# Addition\n",
    "print(\"Addition:\", a + b)  \n",
    "\n",
    "# Subtraction\n",
    "print(\"Subtraction:\", a - b) \n",
    "\n",
    "# Multiplication\n",
    "print(\"Multiplication:\", a * b)  \n",
    "\n",
    "# Division\n",
    "print(\"Division:\", a / b) \n",
    "\n",
    "# Floor Division\n",
    "print(\"Floor Division:\", a // b)  \n",
    "\n",
    "# Modulus\n",
    "print(\"Modulus:\", a % b) \n",
    "\n",
    "# Exponentiation\n",
    "print(\"Exponentiation:\", a ** b)"
   ]
  },
  {
   "cell_type": "markdown",
   "id": "7296a9b1-8409-4078-b962-fdc38bd87b6d",
   "metadata": {},
   "source": [
    "## Relational Operators : \n",
    "Comparison of Relational operators compares the values. It either returns True or False according to the condition."
   ]
  },
  {
   "cell_type": "markdown",
   "id": "52a6ace3-6e21-40de-a3be-85a6a75d7c7f",
   "metadata": {},
   "source": [
    "a = 13\n",
    "b = 33\n",
    "\n",
    "print(a > b)\n",
    "print(a < b)\n",
    "print(a == b)\n",
    "print(a != b)\n",
    "print(a >= b)\n",
    "print(a <= b)"
   ]
  },
  {
   "cell_type": "markdown",
   "id": "0ace24fb-73b1-48cb-b555-3e4e2eaec0a3",
   "metadata": {},
   "source": [
    "## Logical Operators : \n",
    " Logical operators perform Logical AND, Logical OR and Logical NOT operations. It is used to combine conditional statements.\n",
    " The precedence of Logical Operators in Python is as follows:\n",
    "\n",
    "1. Logical not\n",
    "2. logical and\n",
    "3. logical or"
   ]
  },
  {
   "cell_type": "code",
   "execution_count": 1,
   "id": "f3a398cf-13c1-4396-9792-e1730f60695b",
   "metadata": {},
   "outputs": [
    {
     "name": "stdout",
     "output_type": "stream",
     "text": [
      "False\n",
      "True\n",
      "False\n"
     ]
    }
   ],
   "source": [
    "a = True\n",
    "b = False\n",
    "print(a and b)\n",
    "print(a or b)\n",
    "print(not a)"
   ]
  },
  {
   "cell_type": "markdown",
   "id": "fa93fc70-b86c-4679-9715-a1b468b97544",
   "metadata": {},
   "source": [
    "## Bitwise Operators\n",
    "Python Bitwise operators act on bits and perform bit-by-bit operations. These are used to operate on binary numbers.\n",
    "\n",
    "Bitwise Operators in Python are as follows: (acc. to their precedence)\n",
    "\n",
    "1. Bitwise NOT\n",
    "2. Bitwise Shift\n",
    "3. Bitwise AND\n",
    "4. Bitwise XOR\n",
    "5. Bitwise OR\n"
   ]
  },
  {
   "cell_type": "code",
   "execution_count": 4,
   "id": "bca13fd3-d429-44f3-8baf-f202506e8c71",
   "metadata": {},
   "outputs": [
    {
     "name": "stdout",
     "output_type": "stream",
     "text": [
      "0\n",
      "14\n",
      "-11\n",
      "14\n",
      "2\n",
      "40\n"
     ]
    }
   ],
   "source": [
    "a = 10          # In binary: 1010\n",
    "b = 4           # In binary: 0100\n",
    "\n",
    "print(a & b)    # Bitwise AND: 1010 & 0100 = 0000 (0)\n",
    "print(a | b)    # Bitwise OR:  1010 | 0100 = 1110 (14)\n",
    "print(~a)       # Bitwise NOT: ~1010 = -(1011) = -11\n",
    "print(a ^ b)    # Bitwise XOR: 1010 ^ 0100 = 1110 (14)\n",
    "print(a >> 2)   # Right shift: 1010 >> 2 = 0010 (2)\n",
    "print(a << 2)   # Left shift:  1010 << 2 = 101000 (40)"
   ]
  },
  {
   "cell_type": "markdown",
   "id": "f6299f5b-fd4f-4fde-bd8d-57c347964471",
   "metadata": {},
   "source": [
    "## Assignment Operators"
   ]
  },
  {
   "cell_type": "code",
   "execution_count": 5,
   "id": "73dc2096-0af5-4a91-b0b3-ed34bddf3f2b",
   "metadata": {},
   "outputs": [
    {
     "name": "stdout",
     "output_type": "stream",
     "text": [
      "10\n",
      "20\n",
      "10\n",
      "100\n",
      "102400\n"
     ]
    }
   ],
   "source": [
    "a = 10\n",
    "b = a\n",
    "print(b)\n",
    "b += a\n",
    "print(b)\n",
    "b -= a\n",
    "print(b)\n",
    "b *= a\n",
    "print(b)\n",
    "b <<= a\n",
    "print(b)"
   ]
  },
  {
   "cell_type": "markdown",
   "id": "eed3bfc6-7121-4923-a0b1-95ee6c67faf4",
   "metadata": {},
   "source": [
    "## Identity Operators\n",
    "In Python, 'is' and 'is not' are the identity operators both are used to check if two values are located on the same part of the memory. Two variables that are equal do not imply that they are identical.\n",
    "\n",
    "- is          True if the operands are identical \n",
    "- is not      True if the operands are not identical "
   ]
  },
  {
   "cell_type": "code",
   "execution_count": 6,
   "id": "c19b5b41-2e92-4292-a2fc-9e5c3b02737d",
   "metadata": {},
   "outputs": [
    {
     "name": "stdout",
     "output_type": "stream",
     "text": [
      "True\n",
      "True\n"
     ]
    }
   ],
   "source": [
    "a = 10\n",
    "b = 20\n",
    "c = a\n",
    "\n",
    "print(a is not b)\n",
    "print(a is c)"
   ]
  },
  {
   "cell_type": "markdown",
   "id": "95f27961-8cdc-49f6-8be3-cc01585fdbc6",
   "metadata": {},
   "source": [
    "## Membership Operators\n",
    " 'in' and 'not in' are the membership operators that are used to test whether a value or variable is in a sequence.\n",
    "\n",
    "- in            True if value is found in the sequence\n",
    "- not in        True if value is not found in the sequence"
   ]
  },
  {
   "cell_type": "code",
   "id": "eb0f86b7-a5a0-4ccb-b588-b48fed0f2907",
   "metadata": {
    "ExecuteTime": {
     "end_time": "2025-07-06T15:11:36.713545Z",
     "start_time": "2025-07-06T15:11:36.708519Z"
    }
   },
   "source": [
    "x = 24\n",
    "y = 20\n",
    "list = [10, 20, 30, 40, 50]\n",
    "\n",
    "if x not in list:\n",
    "    print(\"x is NOT present in given list\")\n",
    "else:\n",
    "    print(\"x is present in given list\")\n",
    "\n",
    "if y in list:\n",
    "    print(\"y is present in given list\")\n",
    "else:\n",
    "    print(\"y is NOT present in given list\")"
   ],
   "outputs": [
    {
     "name": "stdout",
     "output_type": "stream",
     "text": [
      "x is NOT present in given list\n",
      "y is present in given list\n"
     ]
    }
   ],
   "execution_count": 17
  },
  {
   "cell_type": "markdown",
   "id": "9ca20bd2-7f52-47b9-9240-a844048e183a",
   "metadata": {},
   "source": [
    "### Ternary Operator\n",
    "in Python, Ternary operators also known as conditional expressions are operators that evaluate something based on a condition being true or false\n",
    "It simply allows testing a condition in a single line replacing the multiline if-else making the code compact.\n",
    "\n",
    "- Syntax :  [on_true] if [expression] else [on_false] "
   ]
  },
  {
   "cell_type": "code",
   "execution_count": 8,
   "id": "6330760a-4dbb-4bf9-b1ca-609e7c5a4230",
   "metadata": {},
   "outputs": [
    {
     "name": "stdout",
     "output_type": "stream",
     "text": [
      "10\n"
     ]
    }
   ],
   "source": [
    "a, b = 10, 20\n",
    "min = a if a < b else b\n",
    "\n",
    "print(min)"
   ]
  },
  {
   "cell_type": "markdown",
   "id": "863d0898-9533-433f-96f6-dc40f3b3e2c4",
   "metadata": {},
   "source": "# Precedence and Associativity of Operators"
  },
  {
   "cell_type": "markdown",
   "id": "f40d597a-4e79-4716-a719-8bf1619ad57d",
   "metadata": {},
   "source": [
    "## Operator Precedence\n",
    "This is used in an expression with more than one operator with different precedence to determine which operation to perform first."
   ]
  },
  {
   "cell_type": "code",
   "execution_count": 10,
   "id": "7a9cc210-51e3-46f4-b385-70d401e5ce43",
   "metadata": {},
   "outputs": [],
   "source": [
    "a = 10   # 1010\n",
    "b = 4    # 0100\n",
    "\n",
    "result = ~a & b ^ a | b\n",
    "# Step by step evaluation (by precedence):\n",
    "# 1. ~a       --> bitwise NOT of a\n",
    "# 2. ~a & b   --> bitwise AND of result and b\n",
    "# 3. [~a & b] ^ a\n",
    "# 4. [[~a & b] ^ a] | b"
   ]
  },
  {
   "cell_type": "markdown",
   "id": "f69de926-0bd9-4ef5-8dd4-3dc285cc0349",
   "metadata": {},
   "source": [
    "## Operator Associativity\n",
    "If an expression contains two or more operators with the same precedence then Operator Associativity is used to determine. It can either be Left to Right or from Right to Left."
   ]
  },
  {
   "cell_type": "code",
   "execution_count": 11,
   "id": "11d5c817-8497-4900-a9c9-33826f91c90e",
   "metadata": {},
   "outputs": [
    {
     "name": "stdout",
     "output_type": "stream",
     "text": [
      "100.0\n",
      "6\n",
      "0\n",
      "512\n"
     ]
    }
   ],
   "source": [
    "print(100 / 10 * 10)\n",
    "print(5 - 2 + 3)\n",
    "print(5 - (2 + 3))\n",
    "print(2 ** 3 ** 2)"
   ]
  },
  {
   "cell_type": "markdown",
   "id": "535f20f7-cc7b-4e43-a2ba-ca2c5f3ec950",
   "metadata": {
    "jp-MarkdownHeadingCollapsed": true
   },
   "source": [
    "# Python Operator Precedence Table\n",
    "\n",
    "| Precedence | Operators                                                                 | Description                                      | Associativity     |\n",
    "|:----------:|--------------------------------------------------------------------------|--------------------------------------------------|------------------|\n",
    "| 1          | `()`                                                                     | Parentheses (grouping)                           | Left to right    |\n",
    "| 2          | `x[index]`, `x[index:index]`                                             | Subscription, slicing                            | Left to right    |\n",
    "| 3          | `await x`                                                                | Await expression                                 | N/A              |\n",
    "| 4          | `**`                                                                     | Exponentiation                                   | Right to left    |\n",
    "| 5          | `+x`, `-x`, `~x`                                                         | Positive, negative, bitwise NOT                  | Right to left    |\n",
    "| 6          | `*`, `@`, `/`, `//`, `%`                                                 | Multiplication, matrix mult, division, floor div, remainder | Left to right    |\n",
    "| 7          | `+`, `-`                                                                 | Addition and subtraction                         | Left to right    |\n",
    "| 8          | `<<`, `>>`                                                               | Shifts                                           | Left to right    |\n",
    "| 9          | `&`                                                                      | Bitwise AND                                      | Left to right    |\n",
    "| 10         | `^`                                                                      | Bitwise XOR                                      | Left to right    |\n",
    "| 11         | `|`                                                                      | Bitwise OR                                       | Left to right    |\n",
    "| 12         | `in`, `not in`, `is`, `is not`, `<`, `<=`, `>`, `>=`, `!=`, `==`         | Comparisons, membership, identity tests          | Left to right    |\n",
    "| 13         | `not x`                                                                  | Boolean NOT                                      | Right to left    |\n",
    "| 14         | `and`                                                                    | Boolean AND                                      | Left to right    |\n",
    "| 15         | `or`                                                                     | Boolean OR                                       | Left to right    |\n",
    "| 16         | `if ... else`                                                            | Conditional expression                           | Right to left    |\n",
    "| 17         | `lambda`                                                                 | Lambda expression                                | N/A              |\n",
    "| 18         | `:=`                                                                     | Assignment expression (walrus operator)          | Right to left    |\n",
    "\n",
    "---\n",
    "\n",
    "**Notes:**\n",
    "- Operators with higher precedence are evaluated before operators with lower precedence.\n",
    "- Parentheses `()` can be used at any time to override the default precedence and clarify complex expressions.\n",
    "- Associativity defines the direction in which operators of the same precedence are evaluated.\n",
    "- `N/A` for associativity means it is not applicable (e.g., for `await` or `lambda`).\n",
    "\n",
    "---"
   ]
  },
  {
   "cell_type": "markdown",
   "id": "e170ccec-45c1-48c2-a485-f1cc9fb134ce",
   "metadata": {},
   "source": [
    "# Keywords"
   ]
  },
  {
   "cell_type": "code",
   "execution_count": 12,
   "id": "1b453795-a3ff-4c84-9559-289b5c4d7915",
   "metadata": {},
   "outputs": [
    {
     "name": "stdout",
     "output_type": "stream",
     "text": [
      "The list of keywords is : \n",
      "['False', 'None', 'True', 'and', 'as', 'assert', 'async', 'await', 'break', 'class', 'continue', 'def', 'del', 'elif', 'else', 'except', 'finally', 'for', 'from', 'global', 'if', 'import', 'in', 'is', 'lambda', 'nonlocal', 'not', 'or', 'pass', 'raise', 'return', 'try', 'while', 'with', 'yield']\n"
     ]
    }
   ],
   "source": [
    "import keyword\n",
    "\n",
    "# printing all keywords at once using \"kwlist()\"\n",
    "print(\"The list of keywords is : \")\n",
    "print(keyword.kwlist)"
   ]
  },
  {
   "cell_type": "markdown",
   "id": "b3fcf738-764b-4004-821e-385937e27a94",
   "metadata": {},
   "source": [
    "# Python Keywords by Category\n",
    "\n",
    "| **Category**              | **Keywords**                                                                                   |\n",
    "|--------------------------|-----------------------------------------------------------------------------------------------|\n",
    "| **Value Keywords**        | True, False, None                                                                             |\n",
    "| **Operator Keywords**     | and, or, not, in, is                                                                          |\n",
    "| **Control Flow Keywords** | if, else, elif, for, while, break, continue, pass, try, except, finally, raise, assert        |\n",
    "| **Function and Class**    | def, return, lambda, yield, class                                                             |\n",
    "| **Context Management**    | with, as                                                                                      |\n",
    "| **Import and Module**     | import, from, as                                                                              |\n",
    "| **Scope and Namespace**   | global, nonlocal                                                                              |\n",
    "| **Async Programming**     | async, await                                                                                  |\n",
    "\n",
    "---\n",
    "\n",
    "- **Value Keywords:** Represent fixed values (boolean or null).\n",
    "- **Operator Keywords:** Used for logical and membership/identity operations.\n",
    "- **Control Flow Keywords:** Manage the flow of execution in the program.\n",
    "- **Function and Class:** Used to define functions, classes, and anonymous/lambda functions.\n",
    "- **Context Management:** Handle resource management (e.g. with open(...)).\n",
    "- **Import and Module:** Used for importing modules or components.\n",
    "- **Scope and Namespace:** Specify variable scope.\n",
    "- **Async Programming:** For asynchronous programming features.\n",
    "\n",
    "---"
   ]
  },
  {
   "cell_type": "markdown",
   "id": "4719303f-1eca-4ff2-af6d-8ae214128651",
   "metadata": {},
   "source": [
    "## Value Keywords: True, False, None Keyword, del\n",
    "True, False: These represent a boolean values.\n",
    "\n",
    "None: This is a special constant used to denote a null value or a void. It's important to remember that 0, any empty container(e.g. empty list) does not compute to None. It is an object of its datatype - NoneType. It is not possible to create multiple None objects and can assign them to variables."
   ]
  },
  {
   "cell_type": "code",
   "execution_count": 13,
   "id": "2b23470f-f6f5-4e9b-8153-eda7a3538831",
   "metadata": {},
   "outputs": [
    {
     "name": "stdout",
     "output_type": "stream",
     "text": [
      "True\n",
      "True\n",
      "3\n",
      "1\n",
      "False\n",
      "False\n"
     ]
    }
   ],
   "source": [
    "print(False == 0)\n",
    "print(True == 1)\n",
    "\n",
    "# True + True + True is  3\n",
    "print(True + True + True)\n",
    "\n",
    "# True + False + False is  1\n",
    "print(True + False + False)\n",
    "\n",
    "# None isn't equal to  0  or an empty list []\n",
    "print(None == 0)\n",
    "print(None == [])"
   ]
  },
  {
   "cell_type": "markdown",
   "id": "c7842b52-ed77-43f8-832c-5ba930ac8b4e",
   "metadata": {},
   "source": [
    "## Operator Keywords: and, or, not, in, is\n",
    "- and Keyword - return 'True' if both the operands are 'True'\n",
    "- or Keyword - return 'True' if at least one operand is 'True'\n",
    "- not keyword - returns 'True' if the expression is 'False', and vice versa.\n",
    "- in keyword (membership operator) - Check if a value exists in a sequence (like a list, tuple, or string). It returns True if value is found.\n",
    "- is keyword - Check if two variables point to the same object in memory. It returns True if the objects are identical."
   ]
  },
  {
   "cell_type": "code",
   "execution_count": 14,
   "id": "9bafc64d-e583-4bf8-abad-8a46eb6d1bf2",
   "metadata": {},
   "outputs": [
    {
     "name": "stdout",
     "output_type": "stream",
     "text": [
      "False\n",
      "True\n",
      "False\n"
     ]
    }
   ],
   "source": [
    "a = True\n",
    "b = False\n",
    "\n",
    "# Logical operations\n",
    "print(a and b)  # AND: True if both a and b are True\n",
    "print(a or b)   # OR: True if at least one of a or b is True\n",
    "print(not a)    # NOT: Inverts the value of a"
   ]
  },
  {
   "cell_type": "code",
   "execution_count": 17,
   "id": "08999460-3ee4-4268-bea4-1c18a0a794f4",
   "metadata": {},
   "outputs": [
    {
     "name": "stdout",
     "output_type": "stream",
     "text": [
      "True\n",
      "s is part of ritesh swami\n"
     ]
    }
   ],
   "source": [
    "# example 1\n",
    "print(3 in [1,2,3])\n",
    "\n",
    "# example 2\n",
    "if 's' in 'ritesh swami':\n",
    "    print(\"s is part of ritesh swami\")\n",
    "else:\n",
    "    print(\"s is not part of ritesh swami\")"
   ]
  },
  {
   "cell_type": "code",
   "execution_count": 19,
   "id": "d5086b14-b5e6-475c-b4b0-679a36370f98",
   "metadata": {},
   "outputs": [
    {
     "name": "stdout",
     "output_type": "stream",
     "text": [
      "True\n",
      "True\n",
      "False\n"
     ]
    }
   ],
   "source": [
    "# example 1\n",
    "print(2 == 2)\n",
    "\n",
    "# example 2\n",
    "a = [1, 2, 3]\n",
    "b = a\n",
    "c = [1, 2, 3]\n",
    "\n",
    "# True: a and b refer to the same object\n",
    "print(a is b)  \n",
    "\n",
    "# False: a and c have same value but are different objects\n",
    "print(a is c)"
   ]
  },
  {
   "cell_type": "markdown",
   "id": "646d22f2-e634-4444-b3ff-e9fdd345e0ae",
   "metadata": {},
   "source": [
    "## Conditional keywords in Python: if, else, elif\n",
    "- if :Truth expression forces control to go in \"if\" statement block.\n",
    "- else :False expression forces control to go in \"else\" statement block.\n",
    "- elif : It is short for \"else if\""
   ]
  },
  {
   "cell_type": "code",
   "execution_count": 20,
   "id": "4300f882-5d75-4a38-a685-b36c5258b4c9",
   "metadata": {},
   "outputs": [
    {
     "name": "stdout",
     "output_type": "stream",
     "text": [
      "Zero\n"
     ]
    }
   ],
   "source": [
    "x = 0\n",
    "\n",
    "# python if elif else statement\n",
    "if x > 0:\n",
    "    print(\"Positive\")\n",
    "elif x < 0:\n",
    "    print(\"Negative\")\n",
    "else:\n",
    "    print(\"Zero\")"
   ]
  },
  {
   "cell_type": "markdown",
   "id": "3386a8ca-b4e7-4c8a-9147-b14b350256b1",
   "metadata": {},
   "source": [
    "## Iteration Keywords: for, while, break, continue, pass in Python\n",
    "- for: This keyword is used to control flow and for looping.\n",
    "- while: Has a similar working like “for”, used to control flow and for looping.\n",
    "- break: “break” is used to control the flow of the loop. The statement is used to break out of the loop and passes the control to the statement following immediately after loop.\n",
    "- continue: “continue” is also used to control the flow of code. The keyword skips the current iteration of the loop but does not end the loop.\n",
    "- pass keyword: pass is the null statement in python. Nothing happens when this is encountered. This is used to prevent indentation errors and used as a placeholder.\n",
    "The code contains a for loop that iterates 10 times with a placeholder statement 'pass', indicating no specific action is taken within the loop."
   ]
  },
  {
   "cell_type": "code",
   "execution_count": 22,
   "id": "ac193e6a-c867-4add-b68c-b8e4fc21e3d2",
   "metadata": {},
   "outputs": [
    {
     "name": "stdout",
     "output_type": "stream",
     "text": [
      "0\n",
      "1\n",
      "1\n",
      "2\n"
     ]
    }
   ],
   "source": [
    "# 'for' loop example\n",
    "for num in range(3):\n",
    "    if num == 2:\n",
    "        continue  # Skip number 2\n",
    "    print(num)\n",
    "# Output: 0 1\n",
    "\n",
    "# 'while' loop example\n",
    "count = 0\n",
    "while count < 4:\n",
    "    count += 1\n",
    "    if count == 3:\n",
    "        break  # Exit the loop when count reaches 4\n",
    "    print(count)\n",
    "# Output: 1 2"
   ]
  },
  {
   "cell_type": "code",
   "execution_count": 24,
   "id": "43aaa1bf-66ae-4ca9-83dd-ac1ec06c8130",
   "metadata": {},
   "outputs": [],
   "source": [
    "n = 10\n",
    "for i in range(n):\n",
    "\n",
    "    # pass can be used as placeholder\n",
    "    # when code is to added later\n",
    "    pass"
   ]
  },
  {
   "cell_type": "markdown",
   "id": "1fad3ac3-f192-48e2-9811-c439beb01938",
   "metadata": {},
   "source": [
    "## Exception Handling Keywords\n",
    "Exception Handling Keywords\n",
    "- try : This keyword is used for exception handling, used to catch the errors in the code using the keyword except. Code in “try” block is checked, if - there is any type of error, except block is executed.\n",
    "- except : As explained above, this works with “try” to catch exceptions.\n",
    "- finally : No matter what is result of the “try” block, “finally” is always executed.\n",
    "- raise: We can raise an exception explicitly with the raise keyword\n",
    "- assert: This function is used for debugging purposes. Usually used to check the correctness of code. If a statement is evaluated to be true, nothing\n",
    "- happens but when it is false, \" AssertionError \" is raised. One can also print a message with the error, separated by a comma .\n",
    "\n",
    "Example 1: The provided code demonstrates the use of several keywords in Python:\n",
    "\n",
    "- try and except: Used to handle exceptions, particularly the ZeroDivisionError , and print an error message if it occurs.\n",
    "- finally: This block is always executed, and it prints \"This is always executed\" regardless of whether an exception occurs.\n",
    "- assert: Checks a condition, and if it's False , raises an AssertionError with the message \"Divide by 0 error.\"\n",
    "- raise: Raises a custom exception ( TypeError ) with a specified error message if a condition is not met."
   ]
  },
  {
   "cell_type": "code",
   "execution_count": 1,
   "id": "4a3b71ce-4358-49bb-b609-8be0a3d32d27",
   "metadata": {},
   "outputs": [
    {
     "name": "stdout",
     "output_type": "stream",
     "text": [
      "Can't divide by zero\n",
      "This is always executed\n",
      "The value of a / b is : \n"
     ]
    },
    {
     "ename": "AssertionError",
     "evalue": "Divide by 0 error",
     "output_type": "error",
     "traceback": [
      "\u001B[1;31m---------------------------------------------------------------------------\u001B[0m",
      "\u001B[1;31mAssertionError\u001B[0m                            Traceback (most recent call last)",
      "Cell \u001B[1;32mIn[1], line 20\u001B[0m\n\u001B[0;32m     17\u001B[0m \u001B[38;5;28mprint\u001B[39m(\u001B[38;5;124m\"\u001B[39m\u001B[38;5;124mThe value of a / b is : \u001B[39m\u001B[38;5;124m\"\u001B[39m)\n\u001B[0;32m     19\u001B[0m \u001B[38;5;66;03m# Will raise an AssertionError because b == 0\u001B[39;00m\n\u001B[1;32m---> 20\u001B[0m \u001B[38;5;28;01massert\u001B[39;00m b \u001B[38;5;241m!=\u001B[39m \u001B[38;5;241m0\u001B[39m, \u001B[38;5;124m\"\u001B[39m\u001B[38;5;124mDivide by 0 error\u001B[39m\u001B[38;5;124m\"\u001B[39m  \n\u001B[0;32m     22\u001B[0m \u001B[38;5;66;03m# Division is attempted but will not reach due to assert\u001B[39;00m\n\u001B[0;32m     23\u001B[0m \u001B[38;5;28mprint\u001B[39m(a \u001B[38;5;241m/\u001B[39m b)  \n",
      "\u001B[1;31mAssertionError\u001B[0m: Divide by 0 error"
     ]
    }
   ],
   "source": [
    "a, b = 4, 0\n",
    "\n",
    "\n",
    "try:\n",
    "    k = a // b  # Attempt integer division (4 // 0)\n",
    "    print(k)\n",
    "    \n",
    "# This block catches the ZeroDivisionError\n",
    "except ZeroDivisionError: \n",
    "    print(\"Can't divide by zero\")\n",
    "\n",
    "finally:\n",
    "    # This block is always executed regardless of the exception\n",
    "    print('This is always executed')\n",
    "\n",
    "\n",
    "print(\"The value of a / b is : \")\n",
    "\n",
    "# Will raise an AssertionError because b == 0\n",
    "assert b != 0, \"Divide by 0 error\"  \n",
    "\n",
    "# Division is attempted but will not reach due to assert\n",
    "print(a / b)  \n",
    "\n",
    "# Raise a TypeError if the strings are different\n",
    "temp = \"geeks for geeks\"\n",
    "if temp != \"geeks\":\n",
    "    raise TypeError(\"Both the strings are different.\")"
   ]
  },
  {
   "attachments": {
    "3711e782-8ef1-4c51-b1bf-307f709ddd84.png": {
     "image/png": "[encoded data removed]"
    }
   },
   "cell_type": "markdown",
   "id": "47e81e74-72c4-484c-ae6c-bd6fc8fcfe2c",
   "metadata": {},
   "source": [
    "# Data Types\n",
    "![image.png](attachment:3711e782-8ef1-4c51-b1bf-307f709ddd84.png)\n",
    "- there is no character data type in python , a character is a string of length one .\n",
    "## 1. Numeric Data Types in Python\n",
    "The numeric data type in Python represents the data that has a numeric value. A numeric value can be an integer, a floating number, or even a complex number. These values are defined as Python int, Python float and Python complex classes in Python.\n",
    "- Integers - This value is represented by int class. It contains positive or negative whole numbers (without fractions or decimals). In Python, there is no limit to how long an integer value can be.\n",
    "- Float - This value is represented by the float class. It is a real number with a floating-point representation. It is specified by a decimal point. Optionally, the character e or E followed by a positive or negative integer may be appended to specify scientific notation.\n",
    "- Complex Numbers - A complex number is represented by a complex class. It is specified as (real part) + (imaginary part)j . For example - 2+3j\n",
    "## 2. Sequence Data Types in Python\n",
    "The sequence Data Type in Python is the ordered collection of similar or different Python data types. Sequences allow storing of multiple values in an organized and efficient fashion. There are several sequence data types of Python:\n",
    "- Python String\n",
    "- Python List\n",
    "- Python Tuple\n",
    "## 3. Boolean Data Type in Python"
   ]
  },
  {
   "cell_type": "code",
   "execution_count": null,
   "id": "49eaad28-946b-4fde-81d2-9cc5ade65c96",
   "metadata": {},
   "outputs": [],
   "source": []
  }
 ],
 "metadata": {
  "kernelspec": {
   "display_name": "Python 3 (ipykernel)",
   "language": "python",
   "name": "python3"
  },
  "language_info": {
   "codemirror_mode": {
    "name": "ipython",
    "version": 3
   },
   "file_extension": ".py",
   "mimetype": "text/x-python",
   "name": "python",
   "nbconvert_exporter": "python",
   "pygments_lexer": "ipython3",
   "version": "3.12.7"
  },
  "panel-cell-order": [
   "d3b0100b-129e-4dea-a922-afb19efeec67",
   "3645bd9c-ede5-4107-811a-cdf27d6d112e",
   "82a5790c-23c2-4104-a5b0-ae03d47399c4",
   "c9d8bb76-21dc-4581-8322-8b5e365a760a",
   "40c45770-edc9-45be-ae40-65e3350f58b7"
  ]
 },
 "nbformat": 4,
 "nbformat_minor": 5
}
