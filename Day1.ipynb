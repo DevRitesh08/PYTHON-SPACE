{
 "cells": [
  {
   "metadata": {},
   "cell_type": "markdown",
   "source": [
    "# Why Python ?\n",
    "- Easy to learn and use\n",
    "- Open source and free\n",
    "- High demand in job market\n",
    "- Strong community support , rapidly growing\n",
    "- Integration capabilities with other languages and technologies\n",
    "- General-purpose language means it can be used for various types of programming and software development like web development, data analysis, artificial intelligence, scientific computing, and more.\n",
    "- Extensive libraries and frameworks"
   ],
   "id": "917f1dae4a92d978"
  },
  {
   "metadata": {},
   "cell_type": "markdown",
   "source": "## Output and Comments",
   "id": "1803a763803d0e46"
  },
  {
   "cell_type": "code",
   "id": "d3b0100b-129e-4dea-a922-afb19efeec67",
   "metadata": {
    "panel-layout": {
     "height": 0,
     "visible": true,
     "width": 100
    }
   },
   "source": "print(\"this is my first program\") # it is a single line comment",
   "outputs": [],
   "execution_count": null
  },
  {
   "metadata": {},
   "cell_type": "markdown",
   "source": "`Python is a case sensitive language so \"Variable\" and \"variable\" are different`",
   "id": "3d12a4cf842ed73c"
  },
  {
   "metadata": {},
   "cell_type": "code",
   "source": [
    "print(this is an error)\n",
    "# SyntaxError: because \"this is an error\" is not in quotes"
   ],
   "id": "2b2baa5bf7fa90e3",
   "outputs": [],
   "execution_count": null
  },
  {
   "cell_type": "code",
   "id": "3645bd9c-ede5-4107-811a-cdf27d6d112e",
   "metadata": {
    "panel-layout": {
     "height": 119.703125,
     "visible": true,
     "width": 100
    }
   },
   "source": [
    "\"\"\"it\n",
    "is \n",
    "a\n",
    "multiline \n",
    "comment\"\"\""
   ],
   "outputs": [],
   "execution_count": null
  },
  {
   "metadata": {},
   "cell_type": "code",
   "source": [
    "# printing multiple lines\n",
    "print('Hello',1,4.5,True)"
   ],
   "id": "d20c2f5b1dbad608",
   "outputs": [],
   "execution_count": null
  },
  {
   "metadata": {},
   "cell_type": "markdown",
   "source": "here we got spaces between different data types since by default sep = \" \" (space) in print function .",
   "id": "7fb75634ee607381"
  },
  {
   "metadata": {},
   "cell_type": "code",
   "source": "print('Hello',1,4.5,True,sep = \"_\")",
   "id": "2a4c9efe7ff335c1",
   "outputs": [],
   "execution_count": null
  },
  {
   "metadata": {},
   "cell_type": "code",
   "source": [
    "print('hello')\n",
    "print('world')"
   ],
   "id": "737cf5cecb2f1fce",
   "outputs": [],
   "execution_count": null
  },
  {
   "metadata": {},
   "cell_type": "markdown",
   "source": "here by default end = \"\\n\" (new line) in print function .",
   "id": "cbe8280d54ccd9b7"
  },
  {
   "metadata": {},
   "cell_type": "code",
   "source": [
    "print('hello',end='->')\n",
    "print('world')"
   ],
   "id": "53da05d1ea6abc08",
   "outputs": [],
   "execution_count": null
  },
  {
   "metadata": {},
   "cell_type": "markdown",
   "source": "\\t is used to give a tab space .",
   "id": "34df3c844ffe9eb3"
  },
  {
   "metadata": {},
   "cell_type": "code",
   "source": [
    "print('hello',end='\\t')\n",
    "print('world')"
   ],
   "id": "c6cf15adc9c9d754",
   "outputs": [],
   "execution_count": null
  },
  {
   "metadata": {},
   "cell_type": "code",
   "source": [
    "print('hello',end='\\n\\n\\n')\n",
    "print('world')"
   ],
   "id": "979be36169b12ee9",
   "outputs": [],
   "execution_count": null
  },
  {
   "cell_type": "code",
   "id": "97c8d248-9bc5-41c2-bb17-3a437b3bd1f3",
   "metadata": {},
   "source": [
    "\"\"\"\n",
    "jshui\n",
    "jsgwyugd\n",
    "hsfywf\n",
    "\"\"\"\n",
    "print(\"python is fun\")"
   ],
   "outputs": [],
   "execution_count": null
  },
  {
   "cell_type": "code",
   "id": "975eb0c8-24bb-4bae-aed5-724d1a5c3694",
   "metadata": {},
   "source": [
    "# now it won't show the output of the multiline comment ."
   ],
   "outputs": [],
   "execution_count": null
  },
  {
   "metadata": {},
   "cell_type": "markdown",
   "source": [
    "## Data Types and Variables\n",
    "\n",
    "common data types in python are :\n",
    "- int\n",
    "- float\n",
    "- complex\n",
    "- string\n",
    "- boolean\n",
    "- list\n",
    "- tuple\n",
    "- set\n",
    "- dictionary"
   ],
   "id": "40fa083db877334"
  },
  {
   "metadata": {},
   "cell_type": "markdown",
   "source": "Variables are used to store data in a program, they act as a container to hold data values",
   "id": "a8054c38fb246082"
  },
  {
   "metadata": {},
   "cell_type": "markdown",
   "source": [
    "`Dynamic Typing : `\n",
    "\n",
    "In Python, you don't need to declare the data type of a variable when you create it. The interpreter infers the type based on the value assigned to the variable.\n",
    "\n",
    "whereas in statically typed languages like C, C++, or Java, you must explicitly declare the data type of a variable before using it."
   ],
   "id": "a9661ca352fae81e"
  },
  {
   "metadata": {},
   "cell_type": "markdown",
   "source": "variable can't start with a number and special characters but \"_\" is valid .",
   "id": "117a149d699da582"
  },
  {
   "cell_type": "code",
   "id": "f50b82a6-91dc-4966-bd4b-0597ad260cc4",
   "metadata": {},
   "source": [
    "# Integer data type\n",
    "a = 10  # Variable declaration and initialization\n",
    "print(a)\n",
    "type(a)"
   ],
   "outputs": [],
   "execution_count": null
  },
  {
   "metadata": {},
   "cell_type": "markdown",
   "source": "`type()` is a inbuilt function in python that tells the data type of variable .",
   "id": "86d4ce56b16a7c0e"
  },
  {
   "cell_type": "code",
   "id": "301622c3-d51c-4077-bd79-2e1689252c96",
   "metadata": {},
   "source": [
    "# Float data type\n",
    "b = 20.5\n",
    "print(b)\n",
    "type(b)"
   ],
   "outputs": [],
   "execution_count": null
  },
  {
   "cell_type": "code",
   "id": "8a01fd82-0fd1-4a7d-96d8-0d9c3acbd064",
   "metadata": {},
   "source": [
    "# Complex data type\n",
    "c = 3 + 5j  # here j is used instead of i\n",
    "print(c)\n",
    "type(c)\n",
    "print(c.real)  # to get real part\n",
    "print(c.imag)  # to get imaginary part"
   ],
   "outputs": [],
   "execution_count": null
  },
  {
   "cell_type": "code",
   "id": "a8cbac33-f81a-4ec6-bd6b-fb22cd770f5a",
   "metadata": {},
   "source": [
    "# String data type\n",
    "d = \"Ritesh\"\n",
    "print(d)\n",
    "type(d)"
   ],
   "outputs": [],
   "execution_count": null
  },
  {
   "metadata": {},
   "cell_type": "code",
   "source": [
    "# Boolean data type\n",
    "e = True    # Boolean data type has two values True and False\n",
    "print(e)\n",
    "type(e)"
   ],
   "id": "3b7ad5a4abc3161",
   "outputs": [],
   "execution_count": null
  },
  {
   "metadata": {},
   "cell_type": "code",
   "source": [
    "# List data type\n",
    "f = [2,3,4,5,6,7]\n",
    "print(f)\n",
    "type(f)"
   ],
   "id": "c4716a8a0fe1f2d3",
   "outputs": [],
   "execution_count": null
  },
  {
   "metadata": {},
   "cell_type": "code",
   "source": [
    "# Tuple data type\n",
    "g = (2,3,4,5,6,78,90)\n",
    "print(g)\n",
    "type(g)"
   ],
   "id": "1c6eab24ab2affda",
   "outputs": [],
   "execution_count": null
  },
  {
   "metadata": {},
   "cell_type": "code",
   "source": [
    "# Dictionary data type\n",
    "h = {\"name\":\"Ritesh\",\"course\":\"Python\"}\n",
    "print(h)\n",
    "type(h)"
   ],
   "id": "b568877aa8b03bfd",
   "outputs": [],
   "execution_count": null
  },
  {
   "metadata": {},
   "cell_type": "markdown",
   "source": [
    "`Dynamic Binding : `\n",
    "\n",
    "When you assign a value to a variable, Python creates an object of the appropriate type and binds the variable name to that object. If you later assign a different type of value to the same variable, Python will create a new object of the new type and rebind the variable name to this new object.\n",
    "\n",
    "In c,c++ or java the variable type is fixed and can't be changed because of `static Binding` ."
   ],
   "id": "fee88994c086574a"
  },
  {
   "metadata": {},
   "cell_type": "code",
   "source": [
    "# Dynamic Binding\n",
    "a = 53\n",
    "print(a)\n",
    "a = 'ritesh'\n",
    "print(a)"
   ],
   "id": "97066f652ac409e5",
   "outputs": [],
   "execution_count": null
  },
  {
   "metadata": {},
   "cell_type": "code",
   "source": [
    "# Single variable\n",
    "s = \"Bob\"\n",
    "print(s)\n",
    "\n",
    "# Multiple Variables\n",
    "s = \"Alice\"\n",
    "age = 25\n",
    "city = \"New York\"\n",
    "print(s, age, city)"
   ],
   "id": "24b6ce066f9a2de0",
   "outputs": [],
   "execution_count": null
  },
  {
   "metadata": {},
   "cell_type": "markdown",
   "source": "### Multiple Assignments",
   "id": "a95185ddd082e79d"
  },
  {
   "cell_type": "code",
   "id": "ce469271-7ed5-4543-be68-020c145abf3f",
   "metadata": {},
   "source": [
    "# Assigning Same Value\n",
    "a = b = c = 100\n",
    "print(a, b, c)"
   ],
   "outputs": [],
   "execution_count": null
  },
  {
   "cell_type": "code",
   "id": "0580606c-a9d2-4a57-a145-e04e40144528",
   "metadata": {},
   "source": [
    "# Assigning Different Values\n",
    "x, y, z = 1, 2.5, \"Python\"\n",
    "print(x, y, z)"
   ],
   "outputs": [],
   "execution_count": null
  },
  {
   "cell_type": "code",
   "id": "be505f64-8849-4ca7-b93d-73149f46ece6",
   "metadata": {},
   "source": [
    "p , q , r = 10 , \"code\" , \"rush\"\n",
    "p , q , r   # this will print the output in console hence we can print multiple variables at a time in console too ."
   ],
   "outputs": [],
   "execution_count": null
  },
  {
   "metadata": {},
   "cell_type": "markdown",
   "source": "In python , we can define a string in both single and double quotes but the final output will always be in single quotes only !",
   "id": "6fca1f23d3c7caf"
  },
  {
   "metadata": {
    "panel-layout": {
     "height": 51.140625,
     "visible": true,
     "width": 100
    }
   },
   "cell_type": "code",
   "source": "b",
   "id": "85f89158d2a29e6e",
   "outputs": [],
   "execution_count": null
  },
  {
   "metadata": {},
   "cell_type": "code",
   "source": "print(b)",
   "id": "75a0d0dc4f0d9ad",
   "outputs": [],
   "execution_count": null
  },
  {
   "metadata": {},
   "cell_type": "markdown",
   "source": "`Both ways can be used to print a variable , but in first way we are printing it in console and in second way we are using print function to print it .`",
   "id": "2014ae5b1c247536"
  },
  {
   "metadata": {},
   "cell_type": "markdown",
   "source": [
    "#### Difference between console and print function\n",
    "In Jupyter Notebook or interactive Python shell, when you type a variable name and press Enter, it displays the value of the variable in the console. This is a feature of the interactive environment to quickly inspect values.\n",
    "\n",
    "but when you use the print() function, it outputs the value to the standard output (usually the console or terminal) and is more versatile for formatting and displaying multiple values."
   ],
   "id": "13c8c967678a67c2"
  },
  {
   "metadata": {},
   "cell_type": "markdown",
   "source": [
    "### Identifiers and Keywords\n",
    "\n",
    "`Identifiers : ` An identifier is the name used to identify a variable, function, class, module, or other objects in Python. It is a user-defined name that follows certain rules and conventions.\n",
    "\n",
    "`Keywords : ` It is a reserved word in Python that has a predefined meaning and purpose. Keywords are part of the syntax of the language and cannot be used as identifiers (names for variables, functions, classes, etc.). They are used to define the structure and behavior of the code."
   ],
   "id": "32b83f812248fe5c"
  },
  {
   "metadata": {},
   "cell_type": "markdown",
   "source": [
    "#### Rules for Naming Identifiers\n",
    "1. An identifier can consist of letters (a-z, A-Z), digits (0-9), and underscores (_).\n",
    "2. An identifier must start with a letter or an underscore. It cannot start with a digit.\n",
    "3. Identifiers are case-sensitive, meaning that \"Variable\", \"variable\", and \"VARIABLE\" are considered different identifiers.\n",
    "4. Special characters (like @, $, %, etc.) and spaces are not allowed in identifiers.\n",
    "5. Identifiers cannot be the same as Python keywords (reserved words)."
   ],
   "id": "bb11bcddae10de8d"
  },
  {
   "metadata": {},
   "cell_type": "markdown",
   "source": "## Input and Type Conversion",
   "id": "1e79b3d4a45a8f3b"
  },
  {
   "metadata": {},
   "cell_type": "code",
   "source": "input(\"Enter your name : \")",
   "id": "e134a78808fbfb0e",
   "outputs": [],
   "execution_count": null
  },
  {
   "metadata": {},
   "cell_type": "markdown",
   "source": "Q : Take 2 integer inputs from user and print their sum .",
   "id": "df414810224e3d23"
  },
  {
   "metadata": {},
   "cell_type": "code",
   "source": [
    "a = input(\"Enter first integer : \")\n",
    "b = input(\"Enter second integer : \")\n",
    "print(a + b)\n",
    "print(type(a),type(b))"
   ],
   "id": "e2b483d2978b099c",
   "outputs": [],
   "execution_count": null
  },
  {
   "metadata": {},
   "cell_type": "markdown",
   "source": "Remember : by default the input function takes input as string only, because string is the most general data type it can hold all other data types too .",
   "id": "c1d5a09e15ff52a9"
  },
  {
   "metadata": {},
   "cell_type": "code",
   "source": [
    "a = int(input(\"Enter first integer : \"))\n",
    "b = int(input(\"Enter second integer : \"))\n",
    "print(a + b)"
   ],
   "id": "af06743ffd7a78d9",
   "outputs": [],
   "execution_count": null
  },
  {
   "metadata": {},
   "cell_type": "markdown",
   "source": "#### Taking multiple inputs at a time",
   "id": "8e54515277001e34"
  },
  {
   "metadata": {},
   "cell_type": "code",
   "source": [
    "# taking two inputs at a time\n",
    "x, y = input(\"Enter two values: \").split()\n",
    "print(\"Number of boys: \", x)\n",
    "print(\"Number of girls: \", y)\n",
    "\n",
    "# taking three inputs at a time\n",
    "x, y, z = input(\"Enter three values: \").split()\n",
    "print(\"Total number of students: \", x)\n",
    "print(\"Number of boys is : \", y)\n",
    "print(\"Number of girls is : \", z)"
   ],
   "id": "a25a6e6da92b24f1",
   "outputs": [],
   "execution_count": null
  },
  {
   "metadata": {},
   "cell_type": "code",
   "source": [
    "e , f , g = input(\"This is three integers : \").split()\n",
    "e , f , g = int(e) , int(f) , int(g)\n",
    "h = (e + f) / g\n",
    "print(h)"
   ],
   "id": "3a5a70c033653cef",
   "outputs": [],
   "execution_count": null
  },
  {
   "metadata": {},
   "cell_type": "markdown",
   "source": "#### Taking list as input",
   "id": "27246004e71279bf"
  },
  {
   "metadata": {},
   "cell_type": "code",
   "source": [
    "li =list(input(\"Enter number \").split())\n",
    "print(li)"
   ],
   "id": "11be08531213244e",
   "outputs": [],
   "execution_count": null
  },
  {
   "metadata": {},
   "cell_type": "markdown",
   "source": "#### Taking tuple as input",
   "id": "9ac38e3429484ffd"
  },
  {
   "metadata": {},
   "cell_type": "code",
   "source": [
    "li =tuple(input(\"Enter number \").split())\n",
    "\n",
    "print(li)"
   ],
   "id": "478534b9215597b0",
   "outputs": [],
   "execution_count": null
  },
  {
   "metadata": {},
   "cell_type": "markdown",
   "source": "## Type Conversion",
   "id": "307f97c7e4a79bbe"
  },
  {
   "metadata": {},
   "cell_type": "markdown",
   "source": "`Implicit Type Conversion :` It is automatically done by python interpreter when we perform operations on mixed data types .",
   "id": "d2e73508c225073d"
  },
  {
   "metadata": {},
   "cell_type": "code",
   "source": [
    "x = 5       # int\n",
    "y = 2.0     # float\n",
    "z = x + y   # int + float = float\n",
    "print(z)\n",
    "print(type(z))"
   ],
   "id": "bc0ad879172fb1d2",
   "outputs": [],
   "execution_count": null
  },
  {
   "metadata": {},
   "cell_type": "code",
   "source": "print(23 + \"dwe\")",
   "id": "e9cff7131cf9717c",
   "outputs": [],
   "execution_count": null
  },
  {
   "metadata": {},
   "cell_type": "markdown",
   "source": "Here we got an error since python can't convert string to integer implicitly .",
   "id": "9a2383fc0fd7c5fd"
  },
  {
   "metadata": {},
   "cell_type": "markdown",
   "source": "`Explicit Type Conversion :` It is done by the user when we want to convert one data type to another data type using built-in functions like int(), float(), str(), etc.",
   "id": "d846d56acda31293"
  },
  {
   "metadata": {},
   "cell_type": "code",
   "source": [
    "a = \"23\"\n",
    "b = \"45\"\n",
    "print(a + b)\n",
    "print(int(a) + int(b))\n",
    "type(a)"
   ],
   "id": "d10dd5f708e8a217",
   "outputs": [],
   "execution_count": null
  },
  {
   "metadata": {},
   "cell_type": "markdown",
   "source": "**Why Str** : Here we converted string but still it is string because we didn't assign it to any variable .\n",
   "id": "db5da9ff54ad397f"
  },
  {
   "metadata": {},
   "cell_type": "code",
   "source": [
    "a = int(34.52)\n",
    "print(a)\n",
    "print(type(a))"
   ],
   "id": "1059284c8fbffb4e",
   "outputs": [],
   "execution_count": null
  },
  {
   "metadata": {},
   "cell_type": "code",
   "source": "int(23 + 5j)",
   "id": "7c3260b9bdee0853",
   "outputs": [],
   "execution_count": null
  },
  {
   "metadata": {},
   "cell_type": "markdown",
   "source": "Here we got an error since python can't convert complex to integer explicitly .",
   "id": "84e17801e7cbf723"
  },
  {
   "metadata": {},
   "cell_type": "code",
   "source": "float(87)",
   "id": "9871fe2b8106bb6c",
   "outputs": [],
   "execution_count": null
  },
  {
   "metadata": {},
   "cell_type": "code",
   "source": "str(23.45)",
   "id": "924dda099c4d11cf",
   "outputs": [],
   "execution_count": null
  },
  {
   "metadata": {},
   "cell_type": "code",
   "source": "bool(0)",
   "id": "9e47aba3c006430e",
   "outputs": [],
   "execution_count": null
  },
  {
   "metadata": {},
   "cell_type": "code",
   "source": "complex(4)",
   "id": "a8a0c0d81211784c",
   "outputs": [],
   "execution_count": null
  },
  {
   "metadata": {},
   "cell_type": "code",
   "source": "list(\"ritesh\")",
   "id": "8f06df67bb2f85ce",
   "outputs": [],
   "execution_count": null
  },
  {
   "metadata": {},
   "cell_type": "code",
   "source": "tuple(\"ritesh\")",
   "id": "bc91d746743d2d31",
   "outputs": [],
   "execution_count": null
  },
  {
   "metadata": {},
   "cell_type": "code",
   "source": "dict(a=4,b=5)",
   "id": "d036147b26acb96c",
   "outputs": [],
   "execution_count": null
  },
  {
   "metadata": {},
   "cell_type": "markdown",
   "source": [
    "## Literals\n",
    "Literals are the data that is given in a variable or constant. It can be of any data type like string, integer, float, boolean, etc."
   ],
   "id": "9a1d016d37c35ad6"
  },
  {
   "metadata": {},
   "cell_type": "code",
   "source": [
    "a = 0b1010 #Binary Literals\n",
    "b = 100 #Decimal Literal\n",
    "c = 0o310 #Octal Literal\n",
    "d = 0x12c #Hexadecimal Literal\n",
    "\n",
    "#Float Literal\n",
    "float_1 = 10.5\n",
    "float_2 = 1.5e2 # 1.5 * 10^2\n",
    "float_3 = 1.5e-3 # 1.5 * 10^-3\n",
    "\n",
    "#Complex Literal\n",
    "x = 3.14j\n",
    "\n",
    "print(a, b, c, d)\n",
    "print(float_1, float_2,float_3)\n",
    "print(x, x.imag, x.real)"
   ],
   "id": "72dc9fffcee59f7e",
   "outputs": [],
   "execution_count": null
  },
  {
   "metadata": {},
   "cell_type": "code",
   "source": [
    "string = 'This is Python'\n",
    "strings = \"This is Python\"\n",
    "char = \"C\"\n",
    "multiline_str = \"\"\"This is a multiline string with more than one line code.\"\"\"\n",
    "unicode = u\"\\U0001f600\\U0001F606\\U0001F923\"\n",
    "raw_str = r\"raw \\n string\"\n",
    "\n",
    "print(string)\n",
    "print(strings)\n",
    "print(char)\n",
    "print(multiline_str)\n",
    "print(unicode)\n",
    "print(raw_str)"
   ],
   "id": "b64df3c0e7eb518c",
   "outputs": [],
   "execution_count": null
  },
  {
   "metadata": {},
   "cell_type": "code",
   "source": [
    "a = True + 4\n",
    "b = False + 10\n",
    "\n",
    "print(\"a :\", a)\n",
    "print(\"b :\", b)"
   ],
   "id": "d3b19be1699bbe8c",
   "outputs": [],
   "execution_count": null
  },
  {
   "metadata": {},
   "cell_type": "markdown",
   "source": "True is treated as 1 and False is treated as 0 in arithmetic operations.",
   "id": "390260b9dc66c63f"
  },
  {
   "metadata": {},
   "cell_type": "code",
   "source": [
    "k = None\n",
    "print(k)\n",
    "type(k)"
   ],
   "id": "e9da47061de0491",
   "outputs": [],
   "execution_count": null
  },
  {
   "metadata": {},
   "cell_type": "markdown",
   "source": "`None` is a special data type in python that represents the absence of a value or a null value, it is often used to indicate that a variable has no value assigned to it or that a function does not return any value.",
   "id": "a593d5dafb6b28ab"
  },
  {
   "metadata": {},
   "cell_type": "code",
   "source": [
    "AX\n",
    "# more code\n",
    "AX = 10"
   ],
   "id": "3a99b1e28acff5ff",
   "outputs": [],
   "execution_count": null
  },
  {
   "metadata": {},
   "cell_type": "code",
   "source": [
    "# In python, we can't define a variable without assigning it a value first .\n",
    "# here we got an error since AX is not defined , we can define it as AX = None when we want to use it later in the program ."
   ],
   "id": "f2f2d3a55685bda2",
   "outputs": [],
   "execution_count": null
  },
  {
   "metadata": {},
   "cell_type": "markdown",
   "source": [
    "### Python Exercise\n",
    "\n",
    "**Task:**\n",
    "\n",
    "1. Take **three integer inputs** from the user (`a`, `b`, and `c`).\n",
    "2. Compute the value of **(a + b) / c**.\n",
    "3. Add the result to a **complex number** of your choice.\n",
    "4. Finally, concatenate this result with your **name** and display it."
   ],
   "id": "5b799d19ec672cb"
  },
  {
   "metadata": {},
   "cell_type": "code",
   "source": [
    "e = int(input(\"This is my first variable : \"))\n",
    "f = int(input(\"This is my second variable : \"))\n",
    "g = int(input(\"This is my third variable : \"))\n",
    "h = (e + f) / g\n",
    "i = 232 + 244j\n",
    "k = h + i\n",
    "str(k) + \"ritesh\""
   ],
   "id": "ba7b0b8c46ac1a57",
   "outputs": [],
   "execution_count": null
  },
  {
   "metadata": {},
   "cell_type": "markdown",
   "source": "## More on print Function",
   "id": "75df0d6846ffd181"
  },
  {
   "metadata": {},
   "cell_type": "markdown",
   "source": "`format()` is a method in Python that allows you to format strings by inserting values into placeholders( **`{}`** )  defined within the string. It provides a way to create dynamic and well-structured output.",
   "id": "13ca733192f059b3"
  },
  {
   "metadata": {},
   "cell_type": "code",
   "source": [
    "amount = 150.75\n",
    "print(\"Amount: ${}\".format(amount))"
   ],
   "id": "774ddc09ee5cb068",
   "outputs": [],
   "execution_count": null
  },
  {
   "metadata": {},
   "cell_type": "markdown",
   "source": [
    "`fstring` is a way to embed expressions inside string literals, using curly braces {}. Strings are prefixed with the letter f (or F).\n",
    "\n",
    "The f before the quotes in print(f\"...\") enables you to insert variables or expressions directly into the string, making string formatting easier and more readable."
   ],
   "id": "c8b29f857a07d59e"
  },
  {
   "metadata": {},
   "cell_type": "code",
   "source": [
    "name = 'Tushar'\n",
    "age = 23\n",
    "print(f\"Hello, My name is {name} and I'm {age} years old.\")"
   ],
   "id": "b77288e45d7a1a87",
   "outputs": [],
   "execution_count": null
  },
  {
   "metadata": {},
   "cell_type": "markdown",
   "source": [
    "`% Operator` is another way to format strings in Python, similar to the printf-style formatting in C. It uses the `%` symbol as a placeholder for values that will be inserted into the string.\n",
    "\n",
    "- %d –integer\n",
    "- %f – float\n",
    "- %s – string\n",
    "- %x –hexadecimal\n",
    "- %o – octal"
   ],
   "id": "5621da5e6e608bd1"
  },
  {
   "metadata": {},
   "cell_type": "code",
   "source": [
    "# Taking input from the user\n",
    "num = int(input(\"Enter a value: \"))\n",
    "\n",
    "add = num + 5\n",
    "\n",
    "# Output\n",
    "print(\"The sum is %d\"  %add)"
   ],
   "id": "64691885582dff68",
   "outputs": [],
   "execution_count": null
  },
  {
   "metadata": {},
   "cell_type": "markdown",
   "source": [
    "# Operators\n",
    "\n",
    "- Arithmetic Operators\n",
    "- Relational Operators\n",
    "- Logical Operators\n",
    "- Bitwise Operators\n",
    "- Assignment Operators\n",
    "- Membership Operators"
   ],
   "id": "3f9b16aed201744a"
  },
  {
   "metadata": {},
   "cell_type": "code",
   "source": [
    "# Arithmetric Operators\n",
    "print(5+6)\n",
    "\n",
    "print(5-6)\n",
    "\n",
    "print(5*6)\n",
    "\n",
    "print(5/2)\n",
    "\n",
    "# Floor Division here // is used to get integer value only .\n",
    "print(5//2)\n",
    "\n",
    "# Modulus gives the remainder value .\n",
    "print(5%2)\n",
    "\n",
    "# Power here ** is used to get power value .\n",
    "print(5**2)"
   ],
   "id": "b0c7edb93b733482",
   "outputs": [],
   "execution_count": null
  },
  {
   "metadata": {},
   "cell_type": "code",
   "source": [
    "# Relational Operators\n",
    "print(4 > 5)\n",
    "\n",
    "print(4 < 5)\n",
    "\n",
    "print(4 >= 4)\n",
    "\n",
    "print(4 <= 4)\n",
    "\n",
    "print(4 == 4)\n",
    "\n",
    "print(4 != 4)"
   ],
   "id": "8e08004c878293a",
   "outputs": [],
   "execution_count": null
  },
  {
   "metadata": {},
   "cell_type": "code",
   "source": [
    "# Logical Operators\n",
    "print(1 and 0)\n",
    "\n",
    "print(1 or 0)\n",
    "\n",
    "print(not 1)"
   ],
   "id": "9aa042dbbdb080cd",
   "outputs": [],
   "execution_count": null
  },
  {
   "metadata": {},
   "cell_type": "markdown",
   "source": "python does not support && , || instead we have to use \"and\" , \"or\" .",
   "id": "26f213e5a497196c"
  },
  {
   "metadata": {},
   "cell_type": "code",
   "source": "print(not 0)",
   "id": "c0aba5e68535b1e5",
   "outputs": [],
   "execution_count": null
  },
  {
   "metadata": {
    "ExecuteTime": {
     "end_time": "2025-09-23T05:55:46.840883Z",
     "start_time": "2025-09-23T05:55:46.836511Z"
    }
   },
   "cell_type": "code",
   "source": [
    "# Bitwise Operators\n",
    "\n",
    "# bitwise and : 2 = 010 , 3 = 011 so 010 & 011 = 010 that is 2\n",
    "print(2 & 3)\n",
    "\n",
    "# bitwise or :  2 = 010 , 3 = 011 so 010 | 011 = 011 that is 3\n",
    "print(2 | 3)\n",
    "\n",
    "# bitwise xor : here if the bits are diff. then the result is 1 else 0 so , 010 ^ 011 = 001 that is 1\n",
    "print(2 ^ 3)\n",
    "\n",
    "# bitwise not : it gives the 1's complement of the number so , ~2 = -(2+1) = -3 how ?\n",
    "# The bitwise NOT of n is equal to -(n+1).\n",
    "print(~2)\n",
    "\n",
    "print(4 >> 2)   # Right shift: 4 = 100 so after shifting two times we get 001 that is 1\n",
    "\n",
    "print(5 << 2)   # Left shift: 5 = 101 so after shifting two times we get 10100 that is 20"
   ],
   "id": "f498976d984c206c",
   "outputs": [
    {
     "name": "stdout",
     "output_type": "stream",
     "text": [
      "2\n",
      "3\n",
      "1\n",
      "-3\n",
      "1\n",
      "20\n"
     ]
    }
   ],
   "execution_count": 3
  },
  {
   "metadata": {},
   "cell_type": "code",
   "outputs": [],
   "execution_count": null,
   "source": [
    "a = 10   # 1010\n",
    "b = 4    # 0100\n",
    "\n",
    "result = ~a & b ^ a | b\n",
    "result\n",
    "# Step by step evaluation (by precedence):\n",
    "# 1. ~a       --> bitwise NOT of a\n",
    "# 2. ~a & b   --> bitwise AND of result and b\n",
    "# 3. [~a & b] ^ a\n",
    "# 4. [[~a & b] ^ a] | b"
   ],
   "id": "aa9c651b2691f961"
  },
  {
   "metadata": {},
   "cell_type": "code",
   "source": [
    "# Assignment Operators\n",
    "\n",
    "# =\n",
    "a = 2\n",
    "\n",
    "# a = a % 2\n",
    "a %= 2\n",
    "\n",
    "# a++ ++a are not valid\n",
    "\n",
    "print(a)"
   ],
   "id": "eea39be68f456279",
   "outputs": [],
   "execution_count": null
  },
  {
   "metadata": {},
   "cell_type": "markdown",
   "source": "In python increment and decrement operators ( ++ and -- ) are not valid !",
   "id": "fe5e65403baa29d"
  },
  {
   "metadata": {},
   "cell_type": "code",
   "source": [
    "# Membership Operators\n",
    "\n",
    "# in/not in\n",
    "\n",
    "print('D' not in 'Delhi')\n",
    "\n",
    "print(1 in [2,3,4,5,6])"
   ],
   "id": "271652a9ee8a828e",
   "outputs": [],
   "execution_count": null
  },
  {
   "metadata": {},
   "cell_type": "markdown",
   "source": [
    "### Python Exercise\n",
    "\n",
    "**Task:**\n",
    "\n",
    "1. Take a three digit integer input from the user.\n",
    "2. find sum of three digits ."
   ],
   "id": "6279db01872fc51a"
  },
  {
   "metadata": {},
   "cell_type": "code",
   "source": [
    "number = int(input('Enter a 3 digit number'))\n",
    "\n",
    "# 345%10 -> 5\n",
    "a = number%10\n",
    "\n",
    "number = number//10\n",
    "\n",
    "# 34%10 -> 4\n",
    "b = number % 10\n",
    "\n",
    "number = number//10\n",
    "\n",
    "# 3 % 10 -> 3\n",
    "c = number % 10\n",
    "\n",
    "print(a + b + c)"
   ],
   "id": "4687e03061747ab9",
   "outputs": [],
   "execution_count": null
  },
  {
   "metadata": {},
   "cell_type": "markdown",
   "source": "# If-else in Python",
   "id": "c0f7e5979f6be12"
  },
  {
   "metadata": {},
   "cell_type": "code",
   "source": [
    "a = int(input(\"Enter a number less than 50 : \"))\n",
    "if a < 50 : pass\n",
    "else : print(\"Are you dumb !\")"
   ],
   "id": "5bad61869ad14aa4",
   "outputs": [],
   "execution_count": null
  },
  {
   "metadata": {},
   "cell_type": "markdown",
   "source": [
    "Just write pass when we don't want to write the body .\n",
    "\n",
    "There can be n number of elif statements between if and else ."
   ],
   "id": "e7efc58882ef0178"
  },
  {
   "metadata": {},
   "cell_type": "markdown",
   "source": [
    "### Python Exercise\n",
    "\n",
    "**Task:**\n",
    "\n",
    "1. Take an email and password from user as input.\n",
    "2. If it matches with our already defined email and password then print \"Login Successful\".\n",
    "3. If email matches but password doesn't then print \"Incorrect Password\" and ask for password again.\n",
    "4. and now if the password also matches then print welcome, Finally! ."
   ],
   "id": "bf77676f653a0527"
  },
  {
   "metadata": {},
   "cell_type": "code",
   "source": [
    "email = input('Enter email : ')\n",
    "password = input('Enter password : ')\n",
    "\n",
    "if email == 'ritesh008@gmail.com' and password == '1234':\n",
    "  print('Login Successful')\n",
    "elif email == 'ritesh008@gmail.com' and password != '1234':\n",
    "  # tell the user\n",
    "  print('Incorrect password')\n",
    "  password = input('enter password again')\n",
    "  if password == '1234':\n",
    "    print('Welcome,finally!')\n",
    "  else:\n",
    "    print('Tumse na ho Paayega!')\n",
    "else:\n",
    "  print('Not correct')"
   ],
   "id": "ceeb46a36637e165",
   "outputs": [],
   "execution_count": null
  },
  {
   "metadata": {},
   "cell_type": "markdown",
   "source": "## Indentation\n",
   "id": "e7b35053f4c78a6a"
  },
  {
   "metadata": {},
   "cell_type": "markdown",
   "source": [
    "No concept of curly braces in python ! , here we follow indentation by default that behaves as body of that if condition .\n",
    "\n",
    "we can use circular brackets to write the condition it will also work ."
   ],
   "id": "bc0800d1430497c2"
  },
  {
   "metadata": {},
   "cell_type": "code",
   "source": [
    "b = int(input(\"Enter a number greater than 50 : \"))\n",
    "if b > 50 :\n",
    "    print(\"What a obedient Person !\")\n",
    "else :\n",
    "    print(\"well done \", b, \" is lesser than 50 !\")\n",
    "print(\"not part of the if-else code block !\")\n"
   ],
   "id": "155c281405af7c5e",
   "outputs": [],
   "execution_count": null
  },
  {
   "metadata": {},
   "cell_type": "markdown",
   "source": [
    "### Python Exercise\n",
    "\n",
    "**Task:**\n",
    "\n",
    "1. Take three integers as input from user .\n",
    "2. Now find the smallest of three numbers and print it ."
   ],
   "id": "b08665b4adcf8131"
  },
  {
   "metadata": {},
   "cell_type": "code",
   "source": [
    "# num1, num2, num3 = int(input(\"Enter three numbers : \").split())\n",
    "# input(\"Enter three numbers : \") gets a string from the user, e.g., \"1 2 3\"\n",
    "# .split() splits the string into a list: [\"1\", \"2\", \"3\"]\n",
    "# int([\"1\", \"2\", \"3\"]) tries to convert the whole list into an integer, which is not allowed.\n",
    "# so, we need to convert each string in the list to an integer. Use map(int, ...) to do this:\n",
    "a, b, c = map(int, input(\"Enter three numbers: \").split())\n",
    "\n",
    "if a<b and a<c:\n",
    "  print('smallest is',a)\n",
    "elif b<c:\n",
    "  print('smallest is',b)\n",
    "else:\n",
    "  print('smallest is',c)"
   ],
   "id": "331a9e75110f4631",
   "outputs": [],
   "execution_count": null
  },
  {
   "metadata": {},
   "cell_type": "markdown",
   "source": [
    "### Python Exercise\n",
    "\n",
    "**Task:**\n",
    "\n",
    "1. Take students score as input .\n",
    "2. score is invalid if less than 0 or greater than 100 .\n",
    "3. grade the student on the basis of marks .\n",
    "4. Grades :\n",
    "    - 90 and above - A\n",
    "    - 80 to 90 - B\n",
    "    - 70 to 80 - C\n",
    "    - 60 to 70 - D\n",
    "    - below 60 - F"
   ],
   "id": "442b6615e78434fb"
  },
  {
   "metadata": {},
   "cell_type": "code",
   "source": [
    "score = float(input(\"Enter the student's score : \"))\n",
    "\n",
    "if score < 0 or score > 100:\n",
    "    print(\"Invalid score.\")\n",
    "elif score >= 90:\n",
    "    print(\"Grade: A\")\n",
    "elif score >= 80:\n",
    "    print(\"Grade: B\")\n",
    "elif score >= 70:\n",
    "    print(\"Grade: C\")\n",
    "elif score >= 60:\n",
    "    print(\"Grade: D\")\n",
    "else :\n",
    "    print(\"Grade: F\")"
   ],
   "id": "7c7c2a9076f79633",
   "outputs": [],
   "execution_count": null
  },
  {
   "metadata": {},
   "cell_type": "markdown",
   "source": [
    "### Python Exercise\n",
    "\n",
    "**Task:** Salary Bonus Calculation\n",
    "\n",
    "Write a Python program that asks the user for their salary and years of service. The program should calculate and display the bonus as follows:\n",
    "\n",
    "If the salary is more than 50,000:\n",
    "If years of service are more than 10, bonus is 10% of salary.\n",
    "If years of service are between 5 and 10 (inclusive), bonus is 7% of salary.\n",
    "Else, bonus is 5% of salary.\n",
    "Else (salary is 50,000 or less):\n",
    "If years of service are more than 10, bonus is 5% of salary.\n",
    "If years of service are between 5 and 10 (inclusive), bonus is 3% of salary.\n",
    "Else, bonus is 2% of salary."
   ],
   "id": "4d0798528e8c375d"
  },
  {
   "metadata": {},
   "cell_type": "code",
   "source": [
    "salary = float(input(\"Enter your salary: \"))\n",
    "years_of_service = int(input(\"Enter your years of service: \"))\n",
    "\n",
    "if salary > 50000:\n",
    "    if years_of_service > 10:\n",
    "        bonus = salary * 0.10\n",
    "        print(\"Bonus is 10% of salary.\")\n",
    "    elif years_of_service >= 5:\n",
    "        bonus = salary * 0.07\n",
    "        print(\"Bonus is 7% of salary.\")\n",
    "    else:\n",
    "        bonus = salary * 0.05\n",
    "        print(\"Bonus is 5% of salary.\")\n",
    "else:\n",
    "    if years_of_service > 10:\n",
    "        bonus = salary * 0.05\n",
    "        print(\"Bonus is 5% of salary.\")\n",
    "    elif years_of_service >= 5:\n",
    "        bonus = salary * 0.03\n",
    "        print(\"Bonus is 3% of salary.\")\n",
    "    else:\n",
    "        bonus = salary * 0.02\n",
    "        print(\"Bonus is 2% of salary.\")\n",
    "\n",
    "print(f\"Your bonus is: \",bonus)"
   ],
   "id": "370ea1f7746ae3f2",
   "outputs": [],
   "execution_count": null
  },
  {
   "metadata": {},
   "cell_type": "markdown",
   "source": [
    "# Modules in Python\n",
    "\n",
    "- math\n",
    "- keywords\n",
    "- random\n",
    "- datetime"
   ],
   "id": "f00b048a76773059"
  },
  {
   "metadata": {},
   "cell_type": "code",
   "source": [
    "# math\n",
    "import math\n",
    "\n",
    "# math.sqrt(196)\n",
    "math.floor(35.56)"
   ],
   "id": "6f843495d2a32894",
   "outputs": [],
   "execution_count": null
  },
  {
   "metadata": {},
   "cell_type": "code",
   "source": [
    "# keyword\n",
    "import keyword\n",
    "print(keyword.kwlist)"
   ],
   "id": "e941205a2282391",
   "outputs": [],
   "execution_count": null
  },
  {
   "metadata": {},
   "cell_type": "code",
   "source": [
    "# random : It is used to generate random numbers.\n",
    "import random\n",
    "print(random.randint(1,100))"
   ],
   "id": "4155be0517c9b62b",
   "outputs": [],
   "execution_count": null
  },
  {
   "cell_type": "code",
   "id": "d45e8aa6-e432-4a28-a716-a02e5983d4e2",
   "metadata": {},
   "source": [
    "# datetime\n",
    "import datetime\n",
    "print(datetime.datetime.now())"
   ],
   "outputs": [],
   "execution_count": null
  },
  {
   "cell_type": "code",
   "id": "0b2bb2fe-102f-4f6f-a584-bdc4a640edf2",
   "metadata": {},
   "source": [
    "# to see all the modules in python\n",
    "help('modules')"
   ],
   "outputs": [],
   "execution_count": null
  },
  {
   "metadata": {},
   "cell_type": "markdown",
   "source": [
    "# Loops in Python\n",
    "\n",
    "- Need for loops\n",
    "- While Loop\n",
    "- For Loop"
   ],
   "id": "5cc1ccd9e481ff07"
  },
  {
   "metadata": {},
   "cell_type": "markdown",
   "source": [
    "## Need for Loops\n",
    "- To execute a block of code multiple times until a certain condition is met.\n",
    "- To automate repetitive tasks and reduce code redundancy.\n",
    "- Real life examples :\n",
    "    - In webscraping, to iterate through multiple web pages.\n",
    "    - In data analysis, to process each item in a dataset.\n",
    "    - In game development, to update the game state continuously.\n",
    "    - In website development, to display a list of items dynamically.\n",
    "    - In simulations, to model real-world processes over time like weather patterns or population growth.\n",
    "    - In machine learning, to train models over multiple epochs(iterations).\n",
    "    - In network programming, to handle multiple client requests.\n",
    "    - In file processing, to read or write data line by line."
   ],
   "id": "8901dca02624e8b3"
  },
  {
   "metadata": {},
   "cell_type": "markdown",
   "source": [
    "## While Loop\n",
    "It is used to execute a block of code repeatedly as long as a given condition is true .\n",
    "\n"
   ],
   "id": "2daf0c1a0af25944"
  },
  {
   "cell_type": "code",
   "id": "9a5a9e74-ff5f-4c83-b552-4943968f59d0",
   "metadata": {},
   "source": [
    "# Print multiplication table of a number entered by user\n",
    "number = int(input('enter the number'))\n",
    "\n",
    "i = 1\n",
    "\n",
    "while i<11:\n",
    "  print(number,'*',i,'=',number * i)\n",
    "  i += 1"
   ],
   "outputs": [],
   "execution_count": null
  },
  {
   "metadata": {},
   "cell_type": "code",
   "source": [
    "initial_speed = 0\n",
    "final_speed = 100\n",
    "while initial_speed != 100  :\n",
    "    print(initial_speed)\n",
    "    initial_speed = initial_speed + 1\n",
    "    # initial_speed += 1 this also works\n",
    "    if initial_speed == 10 :\n",
    "        break\n",
    "print(\"Loop terminated !\")"
   ],
   "id": "18c0c8cb19a8c7e9",
   "outputs": [],
   "execution_count": null
  },
  {
   "metadata": {},
   "cell_type": "markdown",
   "source": "`break` is used to terminate the loop when a certain condition is met .",
   "id": "8d0531177b2b9a0d"
  },
  {
   "metadata": {},
   "cell_type": "markdown",
   "source": "### while loop with else",
   "id": "ca2ef39eb75530e8"
  },
  {
   "metadata": {},
   "cell_type": "code",
   "source": [
    "x = 1\n",
    "\n",
    "while x < 3:\n",
    "  print(x)\n",
    "  x += 1\n",
    "\n",
    "else:\n",
    "  print('limit crossed')"
   ],
   "id": "3724ad4a322445a",
   "outputs": [],
   "execution_count": null
  },
  {
   "metadata": {},
   "cell_type": "markdown",
   "source": [
    "In Python, the `else` clause can also be used with loops (`while` and `for`).\n",
    "\n",
    "When used with loops in Python:\n",
    "- The code in the `else` block executes after the loop completes normally (when the loop condition becomes `False`)\n",
    "- The `else` block will NOT execute if the loop was terminated by a `break` statement"
   ],
   "id": "ea8470a9f6d27d66"
  },
  {
   "metadata": {},
   "cell_type": "code",
   "source": [
    "a = 0\n",
    "b = 7\n",
    "while a < b :\n",
    "    print(a)\n",
    "    a += 1\n",
    "else :\n",
    "    print(\"here the else condition works in python it  \")"
   ],
   "id": "5caa5fd6afea9094",
   "outputs": [],
   "execution_count": null
  },
  {
   "metadata": {},
   "cell_type": "markdown",
   "source": [
    "### Python Exercise\n",
    "\n",
    "**Task:** Guessing Game\n",
    "\n",
    "- Generate a random integer between 1 and 100.\n",
    "- Ask the user to guess the number.\n",
    "- If the guess is too low, prompt the user to guess higher.\n",
    "- If the guess is too high, prompt the user to guess lower.\n",
    "- Keep track of the number of attempts.\n",
    "- When the user guesses correctly, congratulate them and display the number of attempts taken."
   ],
   "id": "ee7e30f603a144dc"
  },
  {
   "cell_type": "code",
   "id": "2ad3041e-6ef8-43a2-9468-fa63f78cd5b9",
   "metadata": {},
   "source": [
    "# generate a random integer between 1 and 100\n",
    "import random\n",
    "jackpot = random.randint(1,100)\n",
    "\n",
    "guess = int(input('Guess the number : '))\n",
    "counter = 1\n",
    "while guess != jackpot:\n",
    "  if guess < jackpot:\n",
    "    print('Wrong! Guess higher')\n",
    "  else:\n",
    "    print('Wrong!Guess lower')\n",
    "\n",
    "  guess = int(input('guess karo'))\n",
    "  counter += 1\n",
    "\n",
    "else:\n",
    "  print('correct guess')\n",
    "  print('attempts : ',counter)"
   ],
   "outputs": [],
   "execution_count": null
  },
  {
   "metadata": {},
   "cell_type": "markdown",
   "source": [
    "### Python Exercise\n",
    "\n",
    "**Task:** Generate a pattern using nested loops.\n",
    "\n",
    "1. Take an integer input `n` from the user.\n",
    "2. Print a equilateral triangle pattern of asterisks (`*`) with `n` rows.\n",
    "```python\n",
    "    *\n",
    "   * *\n",
    "  * * *\n",
    " * * * *\n",
    "\n",
    "```"
   ],
   "id": "db173078531af23"
  },
  {
   "metadata": {},
   "cell_type": "code",
   "source": [
    "n = int(input(\"Enter number of rows to print : \"))\n",
    "i = 0\n",
    "\n",
    "while i < n:\n",
    "    print(' '*(n - i - 1) + '* '*(i+1) )\n",
    "    i += 1"
   ],
   "id": "54a251bddb80542d",
   "outputs": [],
   "execution_count": null
  },
  {
   "metadata": {},
   "cell_type": "markdown",
   "source": "### Iterating Over a String",
   "id": "b4424419b22b41ee"
  },
  {
   "metadata": {},
   "cell_type": "code",
   "source": [
    "s = \"Ritesh Swami is my name\"\n",
    "print(s[0])\n",
    "print(s[1])\n",
    "print(s[4])\n",
    "print(s[5])\n",
    "print(s[-4])\n",
    "print(s[-9])\n",
    "print(s[-6])\n",
    "print(s[-2])\n",
    "print(s[4 : 24])\n",
    "# here it will include the starting index but will exclude the ending index of the range given separated by \":\" .\n",
    "print(s[0:24:2])\n",
    "# here the third no. after \":\" indicated the jump or number of steps .\n",
    "print(s[24:0:-2])\n",
    "# this way we can reverse a string .\n",
    "# by default the value of jump is 1 .\n",
    "# so s[start : end : jump ] is the syntax , where start will be included and end will be excluded .\n",
    "print(s[::-1])\n",
    "# this will reverse the complete string .\n",
    "print(s[0:-4])\n",
    "# here it will print the string from index 0 to -4 index (4th index from end of string) , so from end index start from -1,-2,-3....."
   ],
   "id": "5e77007b5a27a283",
   "outputs": [],
   "execution_count": null
  },
  {
   "metadata": {},
   "cell_type": "markdown",
   "source": "Remember : Strings are immutable in python that means we can't change the value of a string once it is created .",
   "id": "145eb377e332c5d4"
  },
  {
   "metadata": {},
   "cell_type": "markdown",
   "source": [
    "`range()` is a built-in function in Python that generates a sequence of numbers within a specified range. It is commonly used in loops to iterate over a sequence of numbers.\n",
    "\n",
    "Syntax:\n",
    "- range(stop)\n",
    "- range(start, stop)\n",
    "- range(start, stop, step)\n",
    "\n",
    "Here ,\n",
    "    - start: The value of the first number in the sequence (default is 0).\n",
    "    - stop: The sequence ends before this number (exclusive).\n",
    "    - step: The difference between each number in the sequence (default is 1)."
   ],
   "id": "10297a6374054d04"
  },
  {
   "metadata": {},
   "cell_type": "code",
   "source": "",
   "id": "1cd9735c3d39a330",
   "outputs": [],
   "execution_count": null
  },
  {
   "metadata": {},
   "cell_type": "code",
   "source": "",
   "id": "8ec5bc8c7bf84904",
   "outputs": [],
   "execution_count": null
  },
  {
   "metadata": {},
   "cell_type": "code",
   "source": "",
   "id": "385348dd1f98414f",
   "outputs": [],
   "execution_count": null
  },
  {
   "metadata": {},
   "cell_type": "markdown",
   "source": [
    "## For Loop\n",
    "It is used to iterate over a sequence (like a list, tuple, string) or other\n",
    "iterable objects."
   ],
   "id": "b443ce811edf0fd2"
  },
  {
   "metadata": {},
   "cell_type": "code",
   "source": [
    "s = \"for loop works\"\n",
    "for i in s :\n",
    "    print(i , end = \"\")\n",
    "    if i == 'o' :\n",
    "        print(\"okk\")"
   ],
   "id": "5e2d41466d893500",
   "outputs": [],
   "execution_count": null
  },
  {
   "metadata": {},
   "cell_type": "code",
   "source": [
    "for i in s :\n",
    "    if i == 'p' :\n",
    "        continue\n",
    "    if i == 'k' :\n",
    "        break\n",
    "    print(i)\n",
    "else :\n",
    "    print(\"This is an else condition\")"
   ],
   "id": "72ed7d5c8c2b4848",
   "outputs": [],
   "execution_count": null
  },
  {
   "metadata": {},
   "cell_type": "markdown",
   "source": "`continue` is used to skip the current iteration and move to the next iteration of the loop.",
   "id": "25e2abea05393ac7"
  },
  {
   "metadata": {},
   "cell_type": "code",
   "source": "len(s)",
   "id": "292635bb6d7c81a7",
   "outputs": [],
   "execution_count": null
  },
  {
   "metadata": {},
   "cell_type": "markdown",
   "source": [
    "### Python Exercise\n",
    "\n",
    "**Task:**  Population Growth\n",
    "\n",
    "1. Assume a population of 10,000 individuals.\n",
    "2. Each year, the population decreases by 10%.\n",
    "3. Use a loop to calculate and print the population at the end of each year for 10 years."
   ],
   "id": "34ba4fe0dfee870c"
  },
  {
   "metadata": {},
   "cell_type": "code",
   "source": [
    "curr_pop = 10000\n",
    "\n",
    "for year in range(1, 11):\n",
    "    curr_pop = curr_pop - (curr_pop * 0.10)  # Decrease by 10%\n",
    "    print(f\"Before {year} year population was {curr_pop }\")"
   ],
   "id": "74c5f2294cd6f0ca",
   "outputs": [],
   "execution_count": null
  },
  {
   "metadata": {},
   "cell_type": "markdown",
   "source": [
    "### Sequence sum\n",
    "\n",
    "1/1! + 2/2! + 3/3! + ..."
   ],
   "id": "87914335a96e6b44"
  },
  {
   "metadata": {},
   "cell_type": "code",
   "source": [
    "n = int(input('enter n'))\n",
    "\n",
    "result = 0\n",
    "fact = 1\n",
    "\n",
    "for i in range(1,n+1):\n",
    "  fact = fact * i\n",
    "  result = result + i/fact\n",
    "\n",
    "print(result)"
   ],
   "id": "c2babab80855c1ac",
   "outputs": [],
   "execution_count": null
  },
  {
   "metadata": {},
   "cell_type": "markdown",
   "source": [
    "### Nested Loops\n",
    "Real life example :\n",
    "- In a restaurant, for each table (outer loop), the waiter takes orders for each dish (inner loop).\n",
    "- In a school, for each class (outer loop), the teacher takes attendance for each student (inner loop).\n",
    "- In a library, for each genre of books (outer loop), the librarian checks the availability of each book (inner loop).\n",
    "- In a game, for each level (outer loop), the player encounters multiple challenges (inner loop).\n",
    "- In a company, for each department (outer loop), the manager reviews the performance of each employee (inner loop).\n",
    "- In a city, for each neighborhood (outer loop), the local government conducts surveys for each household (inner loop)."
   ],
   "id": "231acb08fbfde4f0"
  },
  {
   "metadata": {},
   "cell_type": "code",
   "source": [
    "# Examples -> unique pairs\n",
    "\n",
    "for i in range(1,4):\n",
    "  for j in range(1,4):\n",
    "    print(i,j)"
   ],
   "id": "cb2c18dcfd2cb507",
   "outputs": [],
   "execution_count": null
  },
  {
   "metadata": {},
   "cell_type": "markdown",
   "source": [
    "#### Python Exercise\n",
    "\n",
    "**Task:** Generate a pattern using nested loops.\n",
    "\n",
    "1. Take an integer input `n` from the user.\n",
    "2. Print a right-angled triangle pattern of asterisks (`*`) with `n` rows.\n",
    "3. For example, if the user inputs `5`, the output should be:\n",
    "```python\n",
    "    *\n",
    "    **\n",
    "    ***\n",
    "    ****\n",
    "    *****\n",
    "```"
   ],
   "id": "ef26c55bd712ebdf"
  },
  {
   "metadata": {},
   "cell_type": "code",
   "source": [
    "n = int(input(\"Enter the number of rows : \"))\n",
    "for i in range(0 , n) :\n",
    "    for j in range(0, i+1) :\n",
    "        print(\"*\" , end = \"\")\n",
    "    print(\"\\r\") # to move to the next line after each row"
   ],
   "id": "5574ff8ceee27bda",
   "outputs": [],
   "execution_count": null
  },
  {
   "metadata": {},
   "cell_type": "markdown",
   "source": [
    "#### Python Exercise\n",
    "\n",
    "**Task:** Generate a pattern using nested loops.\n",
    "\n",
    "1. Take an integer input `n` from the user.\n",
    "2. Print a centered triangle pattern of asterisks (`*`) with `n` rows.\n",
    "3. For example, if the user inputs `5`, the output should be:\n",
    "```python\n",
    "        *\n",
    "       ***\n",
    "      *****\n",
    "     *******\n",
    "    *********\n",
    "```"
   ],
   "id": "923ff8bf0083526b"
  },
  {
   "metadata": {},
   "cell_type": "code",
   "source": [
    "n = int(input(\"Enter number of rows to print : \"))\n",
    "\n",
    "for i in range(n):\n",
    "    # Print leading spaces\n",
    "    for j in range(n - i - 1):\n",
    "        print(\" \", end=\"\")\n",
    "\n",
    "    # Print asterisks\n",
    "    for k in range(2 * i + 1):\n",
    "        print(\"*\", end=\"\")\n",
    "\n",
    "    # Move to the next line after each row\n",
    "    print()"
   ],
   "id": "debbb782046c3325",
   "outputs": [],
   "execution_count": null
  },
  {
   "metadata": {},
   "cell_type": "markdown",
   "source": [
    "#### Python Exercise\n",
    "\n",
    "**Task:** Generate a pattern using nested loops.\n",
    "\n",
    "1. Take an integer input `n` from the user.\n",
    "2. Print a palindromic number pattern with `n` rows.\n",
    "3. For example, if the user inputs `5`, the output should be:\n",
    "```python\n",
    "    1\n",
    "   121\n",
    "  12321\n",
    " 1234321\n",
    "```"
   ],
   "id": "6d021c50c137cbcd"
  },
  {
   "metadata": {},
   "cell_type": "code",
   "source": [
    "rows = int(input('enter number of rows : '))\n",
    "\n",
    "for i in range(1, rows + 1):\n",
    "    # Print leading spaces\n",
    "    for j in range(rows - i):\n",
    "        print(\" \", end=\"\")\n",
    "\n",
    "    # Print increasing numbers\n",
    "    for k in range(1, i + 1):\n",
    "        print(k, end=\"\")\n",
    "\n",
    "    # Print decreasing numbers\n",
    "    for l in range(i - 1, 0, -1):\n",
    "        print(l, end=\"\")\n",
    "\n",
    "    # Move to the next line after each row\n",
    "    print()"
   ],
   "id": "450cac21c1b3c5f6",
   "outputs": [],
   "execution_count": null
  },
  {
   "metadata": {},
   "cell_type": "markdown",
   "source": [
    "### Loop Control Statement\n",
    "\n",
    "- `Break :` It is used to terminate the loop when a certain condition is met .\n",
    "    - Real life example :\n",
    "        - In a game, when the player loses all their lives, the game loop breaks and ends the game.\n",
    "        - during a search operation, if the desired item is found, the loop breaks to avoid unnecessary iterations.\n",
    "        - In ml model training, if the model achieves a satisfactory accuracy, the training loop breaks to save time and resources.\n",
    "\n",
    "- `Else :` It is used to execute a block of code when the loop condition becomes false , but not when the loop is terminated by a break statement .\n",
    "    - Real life example :\n",
    "        - In a classroom, if all students complete their assignments on time, the teacher praises them (else block).\n",
    "        - In a project, if all tasks are completed successfully, the team celebrates (else block).\n",
    "\n",
    "- `Continue :` It is used to skip the current iteration and move to the next iteration of the loop.\n",
    "    - Real life example :\n",
    "        - In a survey, if a respondent refuses to answer a question, the surveyor continues to the next question.\n",
    "        - In a quality control process, if a product fails inspection, it is discarded and the process continues with the next product.\n",
    "        - In a coding challenge, if a solution approach is not working, the coder abandons it and continues with a different approach.\n",
    "        - In an e-commerce website, if a product is out of stock, the user is informed and continues shopping for other products.\n",
    "\n",
    "- `Pass :` It is used when we don't want to write the body of the loop or function or if condition at that moment . It acts as a placeholder and does nothing.\n",
    "    - Real life example :\n",
    "        - In a meeting, if a topic is not relevant to the current discussion, the participants pass on it and move to the next topic.\n",
    "        - In a software development project, if a feature is not feasible, the team passes on it and focuses on other features.\n",
    "        - In a sports game, if a player is injured, they pass on playing and support their team from the sidelines."
   ],
   "id": "911ca1676a64aade"
  },
  {
   "metadata": {},
   "cell_type": "code",
   "source": [
    "# Example of break statement\n",
    "for i in range(1,10):\n",
    "  if i == 5:\n",
    "    break\n",
    "  print(i)"
   ],
   "id": "8c99b95d287d92ea",
   "outputs": [],
   "execution_count": null
  },
  {
   "metadata": {},
   "cell_type": "markdown",
   "source": [
    "#### Python Exercise\n",
    "\n",
    "**Task:** Find Prime Numbers in a Given Range\n",
    "\n",
    "1. Take two integer inputs from the user representing the lower and upper range.\n",
    "2. Use nested loops to find and print all prime numbers within that range.\n",
    "3. A prime number is a natural number greater than 1 that cannot be formed by multiplying two smaller natural numbers. In other words, a prime number has exactly two distinct positive divisors: 1 and itself."
   ],
   "id": "4af3e63d68df3b6b"
  },
  {
   "metadata": {},
   "cell_type": "code",
   "source": [
    "lower = int(input('enter lower range'))\n",
    "upper = int(input('enter upper range'))\n",
    "\n",
    "for i in range(lower,upper+1):\n",
    "  for j in range(2,i):\n",
    "    if i%j == 0:\n",
    "      break\n",
    "  else:\n",
    "    print(i , end = \"\\t\")"
   ],
   "id": "c55dd2a5eb33ee24",
   "outputs": [],
   "execution_count": null
  },
  {
   "metadata": {},
   "cell_type": "code",
   "source": [
    "# Example of continue statement\n",
    "for i in range(1,10):\n",
    "  if i == 5:\n",
    "    continue\n",
    "  print(i)"
   ],
   "id": "93eed963643fa592",
   "outputs": [],
   "execution_count": null
  },
  {
   "metadata": {},
   "cell_type": "code",
   "source": [
    "# Example of pass statement\n",
    "for i in range(1,10):\n",
    "  if i == 5:\n",
    "    pass\n",
    "  print(i)"
   ],
   "id": "908f1b613c40c70e",
   "outputs": [],
   "execution_count": null
  },
  {
   "metadata": {},
   "cell_type": "markdown",
   "source": "### Object Reference in Python",
   "id": "4b6c3facf0de934f"
  },
  {
   "cell_type": "code",
   "id": "a587d124-c74a-4603-af1a-bc98c01c34c3",
   "metadata": {},
   "source": [
    "# 1. Assigning a value to a variable\n",
    "x = 5\n",
    "# Python creates the number 5 as an object and makes x point to it."
   ],
   "outputs": [],
   "execution_count": null
  },
  {
   "cell_type": "code",
   "id": "967801f1-8431-4a8e-adea-46fc83fc4bf2",
   "metadata": {},
   "source": [
    "# 2. Assigning another variable to the same value\n",
    "y = x\n",
    "# Now, both x and y point to the same object (the number 5). They’re sharing it."
   ],
   "outputs": [],
   "execution_count": null
  },
  {
   "cell_type": "code",
   "id": "919936a5-6853-4461-ada1-dd34801c43d1",
   "metadata": {},
   "source": [
    "# 3. Changing one variable , If you change x to something else:\n",
    "x = \"rishu\"\n",
    "# Python makes a new object for \"rishu\" and now x points to it.\n",
    "# y still points to 5, nothing happened to y."
   ],
   "outputs": [],
   "execution_count": null
  },
  {
   "cell_type": "code",
   "id": "15ede956-a9f8-4668-a64d-268aaeaef5d3",
   "metadata": {},
   "source": [
    "# 4. Changing the other variable\n",
    "y = \"Computer\"\n",
    "# Python makes another new object for \"Computer\" and now y points to it.\n",
    "#The old object (5) isn’t pointed to by any variable now, so Python can remove it."
   ],
   "outputs": [],
   "execution_count": null
  },
  {
   "cell_type": "code",
   "id": "fc31048a-1380-4b7d-aec5-cddf0e7bf0c0",
   "metadata": {},
   "source": [
    "# Key Takeaways\n",
    "    # Variables hold references (arrows pointing) to objects, not the actual objects themselves.\n",
    "    # Assigning one variable to another just makes both point to the same thing.\n",
    "    # Changing one variable to a new value doesn’t affect the other.\n",
    "    # If an object has no variables pointing to it, Python can get rid of it to save memory.\n",
    "\n",
    "# In short:\n",
    "    # Variables in Python are like labels attached to objects. You can move the labels around ,\n",
    "    # but the objects stay where they are until nothing is pointing at them anymore.\n"
   ],
   "outputs": [],
   "execution_count": null
  },
  {
   "cell_type": "markdown",
   "id": "f69de926-0bd9-4ef5-8dd4-3dc285cc0349",
   "metadata": {},
   "source": [
    "## Operator Associativity\n",
    "If an expression contains two or more operators with the same precedence then Operator Associativity is used to determine. It can either be Left to Right or from Right to Left."
   ]
  },
  {
   "cell_type": "code",
   "id": "11d5c817-8497-4900-a9c9-33826f91c90e",
   "metadata": {
    "ExecuteTime": {
     "end_time": "2025-09-23T05:57:54.834169Z",
     "start_time": "2025-09-23T05:57:54.829109Z"
    }
   },
   "source": [
    "print(100 / 10 * 10)\n",
    "print(5 - 2 + 3)\n",
    "print(5 - (2 + 3))\n",
    "print(2 ** 3 ** 2)"
   ],
   "outputs": [
    {
     "name": "stdout",
     "output_type": "stream",
     "text": [
      "100.0\n",
      "6\n",
      "0\n",
      "512\n"
     ]
    }
   ],
   "execution_count": 6
  },
  {
   "cell_type": "markdown",
   "id": "535f20f7-cc7b-4e43-a2ba-ca2c5f3ec950",
   "metadata": {
    "jp-MarkdownHeadingCollapsed": true
   },
   "source": [
    "# Python Operator Precedence Table\n",
    "\n",
    "| Precedence | Operators                                                                 | Description                                      | Associativity     |\n",
    "|:----------:|--------------------------------------------------------------------------|--------------------------------------------------|------------------|\n",
    "| 1          | `()`                                                                     | Parentheses (grouping)                           | Left to right    |\n",
    "| 2          | `x[index]`, `x[index:index]`                                             | Subscription, slicing                            | Left to right    |\n",
    "| 3          | `await x`                                                                | Await expression                                 | N/A              |\n",
    "| 4          | `**`                                                                     | Exponentiation                                   | Right to left    |\n",
    "| 5          | `+x`, `-x`, `~x`                                                         | Positive, negative, bitwise NOT                  | Right to left    |\n",
    "| 6          | `*`, `@`, `/`, `//`, `%`                                                 | Multiplication, matrix mult, division, floor div, remainder | Left to right    |\n",
    "| 7          | `+`, `-`                                                                 | Addition and subtraction                         | Left to right    |\n",
    "| 8          | `<<`, `>>`                                                               | Shifts                                           | Left to right    |\n",
    "| 9          | `&`                                                                      | Bitwise AND                                      | Left to right    |\n",
    "| 10         | `^`                                                                      | Bitwise XOR                                      | Left to right    |\n",
    "| 11         | `|`                                                                      | Bitwise OR                                       | Left to right    |\n",
    "| 12         | `in`, `not in`, `is`, `is not`, `<`, `<=`, `>`, `>=`, `!=`, `==`         | Comparisons, membership, identity tests          | Left to right    |\n",
    "| 13         | `not x`                                                                  | Boolean NOT                                      | Right to left    |\n",
    "| 14         | `and`                                                                    | Boolean AND                                      | Left to right    |\n",
    "| 15         | `or`                                                                     | Boolean OR                                       | Left to right    |\n",
    "| 16         | `if ... else`                                                            | Conditional expression                           | Right to left    |\n",
    "| 17         | `lambda`                                                                 | Lambda expression                                | N/A              |\n",
    "| 18         | `:=`                                                                     | Assignment expression (walrus operator)          | Right to left    |\n",
    "\n",
    "---\n",
    "\n",
    "**Notes:**\n",
    "- Operators with higher precedence are evaluated before operators with lower precedence.\n",
    "- Parentheses `()` can be used at any time to override the default precedence and clarify complex expressions.\n",
    "- Associativity defines the direction in which operators of the same precedence are evaluated.\n",
    "- `N/A` for associativity means it is not applicable (e.g., for `await` or `lambda`).\n",
    "\n",
    "---"
   ]
  }
 ],
 "metadata": {
  "kernelspec": {
   "display_name": "Python 3 (ipykernel)",
   "language": "python",
   "name": "python3"
  },
  "language_info": {
   "codemirror_mode": {
    "name": "ipython",
    "version": 3
   },
   "file_extension": ".py",
   "mimetype": "text/x-python",
   "name": "python",
   "nbconvert_exporter": "python",
   "pygments_lexer": "ipython3",
   "version": "3.12.7"
  },
  "panel-cell-order": [
   "d3b0100b-129e-4dea-a922-afb19efeec67",
   "3645bd9c-ede5-4107-811a-cdf27d6d112e",
   "82a5790c-23c2-4104-a5b0-ae03d47399c4",
   "c9d8bb76-21dc-4581-8322-8b5e365a760a",
   "40c45770-edc9-45be-ae40-65e3350f58b7"
  ]
 },
 "nbformat": 4,
 "nbformat_minor": 5
}
