{
 "cells": [
  {
   "metadata": {},
   "cell_type": "markdown",
   "source": "# OOPS",
   "id": "d63f61494bae0a2e"
  },
  {
   "cell_type": "code",
   "id": "initial_id",
   "metadata": {
    "collapsed": true,
    "ExecuteTime": {
     "end_time": "2025-06-30T09:35:26.419399Z",
     "start_time": "2025-06-30T09:35:26.413614Z"
    }
   },
   "source": [
    "class car :\n",
    "    pass"
   ],
   "outputs": [],
   "execution_count": 1
  },
  {
   "metadata": {
    "ExecuteTime": {
     "end_time": "2025-06-30T09:36:02.472806Z",
     "start_time": "2025-06-30T09:36:02.466603Z"
    }
   },
   "cell_type": "code",
   "source": "Audi_Q7 = car()",
   "id": "d3ade70bea0e3631",
   "outputs": [],
   "execution_count": 2
  },
  {
   "metadata": {
    "ExecuteTime": {
     "end_time": "2025-06-30T09:40:18.748149Z",
     "start_time": "2025-06-30T09:40:18.741910Z"
    }
   },
   "cell_type": "code",
   "source": [
    "Audi_Q7.cost = 10000000\n",
    "Audi_Q7.topSpeed = 200\n",
    "Audi_Q7.year = 2025\n",
    "Audi_Q7.model = \"mark1\""
   ],
   "id": "87f8a331e1a70041",
   "outputs": [],
   "execution_count": 3
  },
  {
   "metadata": {
    "ExecuteTime": {
     "end_time": "2025-06-30T09:40:31.706466Z",
     "start_time": "2025-06-30T09:40:31.700461Z"
    }
   },
   "cell_type": "code",
   "source": [
    "print(Audi_Q7.cost)\n",
    "print(Audi_Q7.topSpeed)\n",
    "print(Audi_Q7.year)\n",
    "print(Audi_Q7.model)"
   ],
   "id": "66f14524335743ff",
   "outputs": [
    {
     "name": "stdout",
     "output_type": "stream",
     "text": [
      "10000000\n",
      "200\n",
      "2025\n",
      "mark1\n"
     ]
    }
   ],
   "execution_count": 4
  },
  {
   "metadata": {
    "ExecuteTime": {
     "end_time": "2025-06-30T09:45:00.587936Z",
     "start_time": "2025-06-30T09:45:00.580538Z"
    }
   },
   "cell_type": "code",
   "source": [
    "nano = car()\n",
    "nano.cost = 1000000\n",
    "nano.topSpeed = 100\n",
    "nano.year = 2023\n",
    "nano.model = \"m6\"\n",
    "nano.modelno = 51362222233\n",
    "print(nano.cost)\n",
    "print(nano.topSpeed)\n",
    "print(nano.year)\n",
    "print(nano.model)\n",
    "print(nano.modelno)"
   ],
   "id": "de04ba11f185e766",
   "outputs": [
    {
     "name": "stdout",
     "output_type": "stream",
     "text": [
      "1000000\n",
      "100\n",
      "2023\n",
      "m6\n",
      "51362222233\n"
     ]
    }
   ],
   "execution_count": 5
  },
  {
   "metadata": {
    "ExecuteTime": {
     "end_time": "2025-06-30T09:49:14.115685Z",
     "start_time": "2025-06-30T09:49:14.110162Z"
    }
   },
   "cell_type": "code",
   "source": "# now as we have not specified the body of the car class so we have to define  the properties or attributes of its objects each time , so this is very tiresome and redundant method .",
   "id": "9ca9176b19c1e9c9",
   "outputs": [],
   "execution_count": 8
  },
  {
   "metadata": {
    "ExecuteTime": {
     "end_time": "2025-07-02T16:29:48.351505Z",
     "start_time": "2025-07-02T16:29:48.345237Z"
    }
   },
   "cell_type": "code",
   "source": [
    "class CAR :\n",
    "    def __init__(self , speed , model , year , cost ) :\n",
    "        self.speed = speed\n",
    "        self.model = model\n",
    "        self.year = year\n",
    "        self.cost = cost\n"
   ],
   "id": "48d318fdfc0faa14",
   "outputs": [],
   "execution_count": 43
  },
  {
   "metadata": {
    "ExecuteTime": {
     "end_time": "2025-07-02T16:29:48.768498Z",
     "start_time": "2025-07-02T16:29:48.763245Z"
    }
   },
   "cell_type": "code",
   "source": [
    "# self is not a keyword it is just used as the reference to point to the objects , we can also use any other variable name  , it can be also defined as the pointer to self since it points to the same class .\n",
    "# __init__ is a inbuilt function that is used to pass data to a class , it is similar to constructors , it is automatically created when an object is created ."
   ],
   "id": "7af38951e7b0b0f4",
   "outputs": [],
   "execution_count": 44
  },
  {
   "metadata": {
    "ExecuteTime": {
     "end_time": "2025-07-02T16:29:49.256730Z",
     "start_time": "2025-07-02T16:29:49.234927Z"
    }
   },
   "cell_type": "code",
   "source": "nano = CAR()",
   "id": "48318c7a8a1f62a5",
   "outputs": [
    {
     "ename": "TypeError",
     "evalue": "CAR.__init__() missing 4 required positional arguments: 'speed', 'model', 'year', and 'cost'",
     "output_type": "error",
     "traceback": [
      "\u001B[1;31m---------------------------------------------------------------------------\u001B[0m",
      "\u001B[1;31mTypeError\u001B[0m                                 Traceback (most recent call last)",
      "Cell \u001B[1;32mIn[45], line 1\u001B[0m\n\u001B[1;32m----> 1\u001B[0m nano \u001B[38;5;241m=\u001B[39m CAR()\n",
      "\u001B[1;31mTypeError\u001B[0m: CAR.__init__() missing 4 required positional arguments: 'speed', 'model', 'year', and 'cost'"
     ]
    }
   ],
   "execution_count": 45
  },
  {
   "metadata": {
    "ExecuteTime": {
     "end_time": "2025-07-02T16:29:50.114141Z",
     "start_time": "2025-07-02T16:29:50.107994Z"
    }
   },
   "cell_type": "code",
   "source": [
    "nano = CAR(120 , \"YZ\" , 2021 , 500000)\n",
    "audi = CAR(210 , \"S6\" , 2025 , 20000000)"
   ],
   "id": "25ad4930b5bb1e92",
   "outputs": [],
   "execution_count": 46
  },
  {
   "metadata": {
    "ExecuteTime": {
     "end_time": "2025-07-02T16:29:53.763754Z",
     "start_time": "2025-07-02T16:29:53.755427Z"
    }
   },
   "cell_type": "code",
   "source": "nano.model",
   "id": "f96b7723768dc534",
   "outputs": [
    {
     "data": {
      "text/plain": [
       "'YZ'"
      ]
     },
     "execution_count": 47,
     "metadata": {},
     "output_type": "execute_result"
    }
   ],
   "execution_count": 47
  },
  {
   "metadata": {
    "ExecuteTime": {
     "end_time": "2025-07-02T14:16:20.046679Z",
     "start_time": "2025-07-02T14:16:20.033067Z"
    }
   },
   "cell_type": "code",
   "source": "# Trying things out : - >",
   "id": "300217e0dcebec4b",
   "outputs": [],
   "execution_count": 12
  },
  {
   "metadata": {
    "ExecuteTime": {
     "end_time": "2025-07-02T14:27:05.678479Z",
     "start_time": "2025-07-02T14:27:05.672766Z"
    }
   },
   "cell_type": "code",
   "source": [
    "# renaming the self keyword and parameters .\n",
    "class CAR1 :\n",
    "    def __init__( a , s , m , y , c ) :\n",
    "        a.Speed = s\n",
    "        a.model = m\n",
    "        a.year = y\n",
    "        a.cost = c\n",
    "\n",
    "# so ,  the first parameter passed to the function will behave as a pointer . hence here a behaves like a pointer .\n",
    "# this shows us that speed , model , year , cost listed above are the class variables and s , m , y , c are the data associated respectively with these variables ."
   ],
   "id": "af10f48c6d2acabc",
   "outputs": [],
   "execution_count": 28
  },
  {
   "metadata": {
    "ExecuteTime": {
     "end_time": "2025-07-02T16:30:46.692317Z",
     "start_time": "2025-07-02T16:30:46.686480Z"
    }
   },
   "cell_type": "code",
   "source": "nano1 = CAR1(200 ,\"ad\" , 2012 , 300000 )",
   "id": "2823dffd8d5ac676",
   "outputs": [],
   "execution_count": 48
  },
  {
   "metadata": {
    "ExecuteTime": {
     "end_time": "2025-07-02T16:30:48.237084Z",
     "start_time": "2025-07-02T16:30:48.212645Z"
    }
   },
   "cell_type": "code",
   "source": [
    "nano1.s\n",
    "# it's wrong because s , m , y , c they are not a class variable ."
   ],
   "id": "467619f7596887fb",
   "outputs": [
    {
     "ename": "AttributeError",
     "evalue": "'CAR1' object has no attribute 's'",
     "output_type": "error",
     "traceback": [
      "\u001B[1;31m---------------------------------------------------------------------------\u001B[0m",
      "\u001B[1;31mAttributeError\u001B[0m                            Traceback (most recent call last)",
      "Cell \u001B[1;32mIn[49], line 1\u001B[0m\n\u001B[1;32m----> 1\u001B[0m nano1\u001B[38;5;241m.\u001B[39ms\n",
      "\u001B[1;31mAttributeError\u001B[0m: 'CAR1' object has no attribute 's'"
     ]
    }
   ],
   "execution_count": 49
  },
  {
   "metadata": {
    "ExecuteTime": {
     "end_time": "2025-07-02T16:36:32.781489Z",
     "start_time": "2025-07-02T16:36:32.773990Z"
    }
   },
   "cell_type": "code",
   "source": [
    "class CAR2 :\n",
    "    def __init__( a , s , m , y , c ) :\n",
    "        a.Speed = s\n",
    "        a.model = m\n",
    "        a.year = y\n",
    "        a.cost = c\n",
    "\n",
    "    # function to find age of car\n",
    "    def age(self , current_year) :\n",
    "        return current_year - self.year\n",
    "# in function age a.year won't work since we have used self as a pointer here , so always use local pointer inside that function ."
   ],
   "id": "cbaee16b4cb5354d",
   "outputs": [],
   "execution_count": 53
  },
  {
   "metadata": {
    "ExecuteTime": {
     "end_time": "2025-07-02T16:36:33.755478Z",
     "start_time": "2025-07-02T16:36:33.749919Z"
    }
   },
   "cell_type": "code",
   "source": [
    "# here __init__ is an inbuilt function that will be automatically be called whenever an object is created .\n",
    "# whereas age is a function or method created by us ."
   ],
   "id": "d9cb9e8a35b2075",
   "outputs": [],
   "execution_count": 54
  },
  {
   "metadata": {
    "ExecuteTime": {
     "end_time": "2025-07-02T16:36:40.015546Z",
     "start_time": "2025-07-02T16:36:40.008327Z"
    }
   },
   "cell_type": "code",
   "source": [
    "nano2 = CAR2(2000 , \"x9\" , 2015 , 150000)\n",
    "nano2.age(2025)"
   ],
   "id": "bc4545772f21ac15",
   "outputs": [
    {
     "data": {
      "text/plain": [
       "10"
      ]
     },
     "execution_count": 55,
     "metadata": {},
     "output_type": "execute_result"
    }
   ],
   "execution_count": 55
  },
  {
   "metadata": {
    "ExecuteTime": {
     "end_time": "2025-07-02T16:46:25.720112Z",
     "start_time": "2025-07-02T16:46:25.710532Z"
    }
   },
   "cell_type": "code",
   "source": "nano2",
   "id": "e06558e1db97ea50",
   "outputs": [
    {
     "data": {
      "text/plain": [
       "<__main__.CAR2 at 0x2303eef74d0>"
      ]
     },
     "execution_count": 56,
     "metadata": {},
     "output_type": "execute_result"
    }
   ],
   "execution_count": 56
  },
  {
   "metadata": {
    "ExecuteTime": {
     "end_time": "2025-07-02T16:56:21.222382Z",
     "start_time": "2025-07-02T16:56:21.215540Z"
    }
   },
   "cell_type": "code",
   "source": "# now to change this message <__main__.CAR2 at 0x2303eef74d0> , we use another inbuilt method __str__ so this message will be shown whenever an object will be called , or we print the object it will be automatically called .",
   "id": "f56e72e092ab56c4",
   "outputs": [],
   "execution_count": 66
  },
  {
   "metadata": {
    "ExecuteTime": {
     "end_time": "2025-07-02T16:56:21.527434Z",
     "start_time": "2025-07-02T16:56:21.520716Z"
    }
   },
   "cell_type": "code",
   "source": [
    "class CAR3 :\n",
    "    def __init__( a , s , m , y , c ) :\n",
    "        a.Speed = s\n",
    "        a.model = m\n",
    "        a.year = y\n",
    "        a.cost = c\n",
    "\n",
    "    def __str__(self):\n",
    "        return \"this is my CAR3 class\"\n"
   ],
   "id": "67d4a1113575a8c0",
   "outputs": [],
   "execution_count": 67
  },
  {
   "metadata": {},
   "cell_type": "code",
   "source": "MG = CAR3(179 , \"hx\" , 2019 , 2200000)",
   "id": "2b0e809d5d46acc8",
   "outputs": [],
   "execution_count": 68
  },
  {
   "metadata": {
    "ExecuteTime": {
     "end_time": "2025-07-02T16:56:24.136448Z",
     "start_time": "2025-07-02T16:56:24.129197Z"
    }
   },
   "cell_type": "code",
   "source": "print(MG)",
   "id": "3f1400ad97879d68",
   "outputs": [
    {
     "name": "stdout",
     "output_type": "stream",
     "text": [
      "this is my CAR3 class\n"
     ]
    }
   ],
   "execution_count": 69
  },
  {
   "metadata": {
    "ExecuteTime": {
     "end_time": "2025-07-03T10:35:28.832375Z",
     "start_time": "2025-07-03T10:35:28.826276Z"
    }
   },
   "cell_type": "code",
   "source": [
    "class Student :\n",
    "    def __init__(self , name , roll_no , joining_date , topic ):\n",
    "        self.name = name\n",
    "        self.roll_no = roll_no\n",
    "        self.joining_date = joining_date\n",
    "        self.topic = topic\n",
    "\n",
    "    def crt_topic(self) :\n",
    "        print(\"the current topic of class is ==> \" , self.topic)\n",
    "\n",
    "    # reference pointer is very essential to use in each function as it connects (allow access to ) all the functions and attributes inside the class , we can't access them without it . hence there should be self in each function arguments .\n",
    "\n",
    "    def str_roll_no(self)  :\n",
    "        if type(self.roll_no) == str :\n",
    "            print(\"roll_no is string type\")\n",
    "            return self.roll_no\n",
    "        else :\n",
    "            return  str(self.roll_no)\n",
    "\n",
    "    def duration(self , current_year):\n",
    "        print(\"Duration of student in class is : \", current_year - self.joining_date)\n",
    "\n",
    "    def __str__(self):\n",
    "        return  \"this is a student class\"\n",
    "\n",
    "    def name_parsing(self):\n",
    "        if type(self.name) == list :\n",
    "            for i in self.name :\n",
    "                print(\"the name of student is  : \" , i)\n",
    "\n",
    "        else :\n",
    "            print(\"the name of student is not in the form of list ! \")\n"
   ],
   "id": "37a640446cc70783",
   "outputs": [],
   "execution_count": 30
  },
  {
   "metadata": {
    "ExecuteTime": {
     "end_time": "2025-07-03T07:02:21.540929Z",
     "start_time": "2025-07-03T07:02:21.534513Z"
    }
   },
   "cell_type": "code",
   "outputs": [
    {
     "name": "stdout",
     "output_type": "stream",
     "text": [
      "the current topic of class is ==>  maths\n",
      "None\n",
      "Duration of student in class is :  6\n",
      "None\n",
      "122\n"
     ]
    }
   ],
   "execution_count": 15,
   "source": "s1 = Student(\"rahul\" , 122 , 2019 , \"maths\")",
   "id": "d07c0d5e183c3ea9"
  },
  {
   "metadata": {
    "ExecuteTime": {
     "end_time": "2025-07-03T07:04:06.285285Z",
     "start_time": "2025-07-03T07:04:06.281416Z"
    }
   },
   "cell_type": "code",
   "source": "print(s1.crt_topic())",
   "id": "e084b7b594086a88",
   "outputs": [
    {
     "name": "stdout",
     "output_type": "stream",
     "text": [
      "the current topic of class is ==>  maths\n",
      "None\n"
     ]
    }
   ],
   "execution_count": 18
  },
  {
   "metadata": {
    "ExecuteTime": {
     "end_time": "2025-07-03T07:05:23.842207Z",
     "start_time": "2025-07-03T07:05:23.835478Z"
    }
   },
   "cell_type": "code",
   "source": "print(s1.duration(2025))",
   "id": "3fec67133f303e54",
   "outputs": [
    {
     "name": "stdout",
     "output_type": "stream",
     "text": [
      "Duration of student in class is :  6\n",
      "None\n"
     ]
    }
   ],
   "execution_count": 19
  },
  {
   "metadata": {
    "ExecuteTime": {
     "end_time": "2025-07-03T07:06:35.781842Z",
     "start_time": "2025-07-03T07:06:35.776350Z"
    }
   },
   "cell_type": "code",
   "source": [
    "x = s1.str_roll_no()\n",
    "print(type(x))"
   ],
   "id": "b0b8e40b364b157f",
   "outputs": [
    {
     "name": "stdout",
     "output_type": "stream",
     "text": [
      "<class 'str'>\n"
     ]
    }
   ],
   "execution_count": 23
  },
  {
   "metadata": {
    "ExecuteTime": {
     "end_time": "2025-07-03T07:05:49.603701Z",
     "start_time": "2025-07-03T07:05:49.599319Z"
    }
   },
   "cell_type": "code",
   "source": "print(s1)",
   "id": "d0b5c2cb909d3baa",
   "outputs": [
    {
     "name": "stdout",
     "output_type": "stream",
     "text": [
      "this is a student class\n"
     ]
    }
   ],
   "execution_count": 20
  },
  {
   "metadata": {
    "ExecuteTime": {
     "end_time": "2025-07-03T07:01:33.057077Z",
     "start_time": "2025-07-03T07:01:33.050639Z"
    }
   },
   "cell_type": "code",
   "outputs": [
    {
     "data": {
      "text/plain": [
       "str"
      ]
     },
     "execution_count": 13,
     "metadata": {},
     "output_type": "execute_result"
    }
   ],
   "execution_count": 13,
   "source": "",
   "id": "dbbde6e9000758f6"
  },
  {
   "metadata": {
    "ExecuteTime": {
     "end_time": "2025-07-03T10:36:29.927145Z",
     "start_time": "2025-07-03T10:36:29.922147Z"
    }
   },
   "cell_type": "code",
   "source": "s3 = Student([\"alex\" , \"mathew\" , \"loren\" , \"eve\" , \"adam\"] , [23 , 324 , 763 , 32 , 422]  , [2022 , 2015 , 2009 , 2018 , 2024] , [\"maths\" , \"physics\" , \"chemistry\" , \"mathematics\" , \"history\"] )",
   "id": "9e8ef5fd5d617e31",
   "outputs": [],
   "execution_count": 31
  },
  {
   "metadata": {
    "ExecuteTime": {
     "end_time": "2025-07-03T10:36:30.555001Z",
     "start_time": "2025-07-03T10:36:30.549151Z"
    }
   },
   "cell_type": "code",
   "source": "s3.name",
   "id": "eb4d1de60a534234",
   "outputs": [
    {
     "data": {
      "text/plain": [
       "['alex', 'mathew', 'loren', 'eve', 'adam']"
      ]
     },
     "execution_count": 32,
     "metadata": {},
     "output_type": "execute_result"
    }
   ],
   "execution_count": 32
  },
  {
   "metadata": {
    "ExecuteTime": {
     "end_time": "2025-07-03T10:36:31.138552Z",
     "start_time": "2025-07-03T10:36:31.133473Z"
    }
   },
   "cell_type": "code",
   "source": "s3.name_parsing()",
   "id": "daeb4cdae7579f19",
   "outputs": [
    {
     "name": "stdout",
     "output_type": "stream",
     "text": [
      "the name of student is  :  alex\n",
      "the name of student is  :  mathew\n",
      "the name of student is  :  loren\n",
      "the name of student is  :  eve\n",
      "the name of student is  :  adam\n"
     ]
    }
   ],
   "execution_count": 33
  },
  {
   "metadata": {
    "ExecuteTime": {
     "end_time": "2025-07-03T12:58:22.976960Z",
     "start_time": "2025-07-03T12:58:22.971954Z"
    }
   },
   "cell_type": "code",
   "source": "# __xyz__ these are default functions , ex of xyz are stl , init ......",
   "id": "a2c24583a4d89430",
   "outputs": [],
   "execution_count": 3
  },
  {
   "metadata": {
    "ExecuteTime": {
     "end_time": "2025-07-04T16:28:43.819657Z",
     "start_time": "2025-07-04T16:28:43.809019Z"
    }
   },
   "cell_type": "code",
   "source": [
    "# challenge\n",
    "import logging as lg\n",
    "lg.basicConfig(filename='oops.log',level=lg.ERROR)\n",
    "\n",
    "class Data :\n",
    "    def __init__(self , file_name , file_type , date , size ) :\n",
    "        self.file_name = file_name\n",
    "        self.file_type = file_type\n",
    "        self.date = date\n",
    "        self.size = size\n",
    "\n",
    "    def file_open(self) :\n",
    "        try :\n",
    "            f = open(self.file_name,\"w\")\n",
    "            f.write(\"this is a test file for challenge !!\")\n",
    "        except Exception as e:\n",
    "            self.logging(e)\n",
    "\n",
    "\n",
    "    def file_read(self ) :\n",
    "        try :\n",
    "            f = open(self.file_name,\"r\")\n",
    "            for i in f :\n",
    "                print(i)\n",
    "        except Exception as e:\n",
    "            self.logging(e)\n",
    "\n",
    "    def file_append(self) :\n",
    "        try :\n",
    "            f = open(self.file_name,\"a\")\n",
    "            f.write(\"data is appended in this file\")\n",
    "        except Exception as e :\n",
    "            self.logging(e)\n",
    "\n",
    "        def logging(self , log) :\n",
    "            lg.error(log)"
   ],
   "id": "a5d477b2d50fe03",
   "outputs": [],
   "execution_count": 41
  },
  {
   "metadata": {
    "ExecuteTime": {
     "end_time": "2025-07-04T06:20:59.992169Z",
     "start_time": "2025-07-04T06:20:59.987309Z"
    }
   },
   "cell_type": "code",
   "source": "file1 = Data(\"results\" , \"excel\" , \"08-12-2024\" , \"10MB\")",
   "id": "19a5a941e97e7616",
   "outputs": [],
   "execution_count": 25
  },
  {
   "metadata": {
    "SqlCellData": {
     "variableName$1": "df_sql1"
    }
   },
   "cell_type": "code",
   "outputs": [],
   "execution_count": null,
   "source": "%%sql\n",
   "id": "1e2fb1fae51b8f65"
  },
  {
   "metadata": {
    "ExecuteTime": {
     "end_time": "2025-07-04T06:21:00.477812Z",
     "start_time": "2025-07-04T06:21:00.471772Z"
    }
   },
   "cell_type": "code",
   "source": "file1.file_open()",
   "id": "707dcfa678fd34c0",
   "outputs": [],
   "execution_count": 26
  },
  {
   "metadata": {
    "ExecuteTime": {
     "end_time": "2025-07-04T06:21:01.000759Z",
     "start_time": "2025-07-04T06:21:00.994161Z"
    }
   },
   "cell_type": "code",
   "source": "file1.file_read()",
   "id": "ea978dc156ecfe84",
   "outputs": [
    {
     "name": "stdout",
     "output_type": "stream",
     "text": [
      "this is a test file for challenge !!\n"
     ]
    }
   ],
   "execution_count": 27
  },
  {
   "metadata": {
    "ExecuteTime": {
     "end_time": "2025-07-04T06:21:01.731915Z",
     "start_time": "2025-07-04T06:21:01.728265Z"
    }
   },
   "cell_type": "code",
   "source": "file1.file_append()",
   "id": "978348fae8bf3331",
   "outputs": [],
   "execution_count": 28
  },
  {
   "metadata": {
    "ExecuteTime": {
     "end_time": "2025-07-04T06:22:24.905462Z",
     "start_time": "2025-07-04T06:22:24.899834Z"
    }
   },
   "cell_type": "code",
   "source": [
    "'''\n",
    "class Data:\n",
    "    def __init__(self, file_name, file_type, date, size):\n",
    "        self.file_name = file_name\n",
    "        self.file_type = file_type\n",
    "        self.date = date\n",
    "        self.size = size\n",
    "\n",
    "    def file_open(self, write):\n",
    "        f = open(self.file_name + \".\" + self.file_type, 'w')\n",
    "        f.write(write)\n",
    "\n",
    "    def file_read(self):\n",
    "        f = open(self.file_name + \".\" + self.file_type, 'r')\n",
    "        lines = f.readlines()\n",
    "        for line in lines:\n",
    "            print(line)\n",
    "\n",
    "    def __str__(self):\n",
    "        return \"Data class created\"\n",
    "'''\n",
    "print(\"other way for same code\")"
   ],
   "id": "24d3eebba420c265",
   "outputs": [
    {
     "name": "stdout",
     "output_type": "stream",
     "text": [
      "other way for same code\n"
     ]
    }
   ],
   "execution_count": 32
  },
  {
   "metadata": {},
   "cell_type": "markdown",
   "source": "## Abstraction",
   "id": "84ebfcfdcb19cde7"
  },
  {
   "metadata": {
    "ExecuteTime": {
     "end_time": "2025-07-04T14:55:17.718174Z",
     "start_time": "2025-07-04T14:55:17.712678Z"
    }
   },
   "cell_type": "code",
   "source": [
    "class Test :\n",
    "    def __init__(self , a , b , c , d) :\n",
    "        self.a = a\n",
    "        self.b = b\n",
    "        self.c = c\n",
    "        self.d = d\n",
    "\n",
    "    def custom(self , v) :\n",
    "        return v - self.a\n",
    "\n",
    "    def __str__(self) :\n",
    "        return \"this is my test code for abstraction !\"\n"
   ],
   "id": "f7fe0afb7048825e",
   "outputs": [],
   "execution_count": 6
  },
  {
   "metadata": {
    "ExecuteTime": {
     "end_time": "2025-07-04T14:55:18.146839Z",
     "start_time": "2025-07-04T14:55:18.141024Z"
    }
   },
   "cell_type": "code",
   "source": [
    "obj = Test(12 , 22 , 33 , 44)\n",
    "obj.custom(100)\n",
    "print(obj)"
   ],
   "id": "642c04d4b514525d",
   "outputs": [
    {
     "name": "stdout",
     "output_type": "stream",
     "text": [
      "this is my test code for abstraction !\n"
     ]
    }
   ],
   "execution_count": 7
  },
  {
   "metadata": {},
   "cell_type": "markdown",
   "source": [
    "### Access Specifiers\n",
    "- Python does not have strict access control like some other languages (e.g., private in Java or C++), but it follows conventions to indicate the intended visibility. Here's how they work:\n",
    "1. Public Attributes and Methods\n",
    "- Definition: Members are accessible from anywhere, both inside and outside the class.\n",
    "- Convention: Names are written normally without any leading underscores.\n",
    "- Behavior: By default, all attributes and methods in Python are public.\n",
    "2. Protected Attributes and Methods\n",
    "- Definition: Members are accessible within the class and its subclasses, but not recommended for access outside these scopes.\n",
    "- Convention: Names are prefixed with a single underscore (_), indicating protected status.\n",
    "- Behavior: Python does not enforce access restrictions, but the single underscore signals that the attribute or method should be treated as \"protected\".\n",
    "3. Private Attributes and Methods\n",
    "- Definition: Members are accessible only within the class in which they are defined.\n",
    "- Convention: Names are prefixed with double underscores (__), making them private.\n",
    "- Behavior: Python uses name mangling to make private members less accessible, but still not entirely inaccessible.\n"
   ],
   "id": "207321e249abe24"
  },
  {
   "metadata": {
    "ExecuteTime": {
     "end_time": "2025-07-04T15:08:50.859376Z",
     "start_time": "2025-07-04T15:08:50.852740Z"
    }
   },
   "cell_type": "code",
   "source": [
    "class Test1 :\n",
    "    def __init__(self , a , b , c , d) :\n",
    "        self._a = a     # Protected attribute\n",
    "        self.b = b\n",
    "        self.c = c\n",
    "        self.d = d\n",
    "\n",
    "    def _custom(self , v) :     # Protected method\n",
    "        return v - self._a\n",
    "\n",
    "    def __str__(self) :\n",
    "        return \"this is my test code for abstraction !\"\n"
   ],
   "id": "afaac485f9c4ffce",
   "outputs": [],
   "execution_count": 17
  },
  {
   "metadata": {
    "ExecuteTime": {
     "end_time": "2025-07-04T15:08:51.532911Z",
     "start_time": "2025-07-04T15:08:51.526123Z"
    }
   },
   "cell_type": "code",
   "source": [
    "obj1 = Test1(12 , 22 , 33 , 44)\n",
    "print(obj1._a)      # Accessible, but not recommended\n",
    "obj1._custom(100)    # Accessible, but not recommended"
   ],
   "id": "a6b7b796c010a65c",
   "outputs": [
    {
     "name": "stdout",
     "output_type": "stream",
     "text": [
      "12\n"
     ]
    },
    {
     "data": {
      "text/plain": [
       "88"
      ]
     },
     "execution_count": 18,
     "metadata": {},
     "output_type": "execute_result"
    }
   ],
   "execution_count": 18
  },
  {
   "metadata": {
    "ExecuteTime": {
     "end_time": "2025-07-04T16:47:05.833973Z",
     "start_time": "2025-07-04T16:47:05.825936Z"
    }
   },
   "cell_type": "code",
   "source": [
    "class Test2 :\n",
    "    def __init__(self , a , b , c , d) :\n",
    "        self.__a = a     # Private attribute\n",
    "        self.b = b\n",
    "        self.c = c\n",
    "        self.d = d\n",
    "\n",
    "    def __custom(self) : # Private method\n",
    "        return \"Hello, I am a private method\"\n",
    "\n",
    "\n",
    "    # Accessing private method from within the class\n",
    "    def access_private_method(self):\n",
    "         return self.__custom\n",
    "\n",
    "    def __str__(self) :\n",
    "        return \"this is my test code for abstraction !\"\n"
   ],
   "id": "3306e3a5dfdabde",
   "outputs": [],
   "execution_count": 65
  },
  {
   "metadata": {
    "ExecuteTime": {
     "end_time": "2025-07-04T16:47:06.270117Z",
     "start_time": "2025-07-04T16:47:06.237942Z"
    }
   },
   "cell_type": "code",
   "source": [
    "obj2 = Test2(12 , 22 , 33 , 44)\n",
    "print(obj2.__a)"
   ],
   "id": "756f01d4f0ea9bd7",
   "outputs": [
    {
     "ename": "AttributeError",
     "evalue": "'Test2' object has no attribute '__a'",
     "output_type": "error",
     "traceback": [
      "\u001B[1;31m---------------------------------------------------------------------------\u001B[0m",
      "\u001B[1;31mAttributeError\u001B[0m                            Traceback (most recent call last)",
      "Cell \u001B[1;32mIn[66], line 2\u001B[0m\n\u001B[0;32m      1\u001B[0m obj2 \u001B[38;5;241m=\u001B[39m Test2(\u001B[38;5;241m12\u001B[39m , \u001B[38;5;241m22\u001B[39m , \u001B[38;5;241m33\u001B[39m , \u001B[38;5;241m44\u001B[39m)\n\u001B[1;32m----> 2\u001B[0m \u001B[38;5;28mprint\u001B[39m(obj2\u001B[38;5;241m.\u001B[39m__a)\n",
      "\u001B[1;31mAttributeError\u001B[0m: 'Test2' object has no attribute '__a'"
     ]
    }
   ],
   "execution_count": 66
  },
  {
   "metadata": {
    "ExecuteTime": {
     "end_time": "2025-07-04T16:47:07.011111Z",
     "start_time": "2025-07-04T16:47:06.995631Z"
    }
   },
   "cell_type": "code",
   "source": "print(obj2.access_private_method())",
   "id": "9a678b394615817b",
   "outputs": [
    {
     "name": "stdout",
     "output_type": "stream",
     "text": [
      "<bound method Test2.__custom of <__main__.Test2 object at 0x000002E462540D10>>\n"
     ]
    }
   ],
   "execution_count": 67
  },
  {
   "metadata": {
    "ExecuteTime": {
     "end_time": "2025-07-04T16:26:32.215461Z",
     "start_time": "2025-07-04T16:26:32.208928Z"
    }
   },
   "cell_type": "code",
   "outputs": [],
   "execution_count": 39,
   "source": "# but in python we can also access private attributes and methods by using \"_test\" before its name , but this is strongly discouraged .",
   "id": "72018265144e5a8b"
  },
  {
   "metadata": {
    "ExecuteTime": {
     "end_time": "2025-07-04T16:45:29.530093Z",
     "start_time": "2025-07-04T16:45:29.501899Z"
    }
   },
   "cell_type": "code",
   "outputs": [
    {
     "ename": "AttributeError",
     "evalue": "'Test2' object has no attribute '_test__custom'",
     "output_type": "error",
     "traceback": [
      "\u001B[1;31m---------------------------------------------------------------------------\u001B[0m",
      "\u001B[1;31mAttributeError\u001B[0m                            Traceback (most recent call last)",
      "Cell \u001B[1;32mIn[64], line 1\u001B[0m\n\u001B[1;32m----> 1\u001B[0m obj2\u001B[38;5;241m.\u001B[39m_test__custom()\n",
      "\u001B[1;31mAttributeError\u001B[0m: 'Test2' object has no attribute '_test__custom'"
     ]
    }
   ],
   "execution_count": 64,
   "source": "obj2._test__custom()",
   "id": "59fa681c7fec297d"
  },
  {
   "metadata": {
    "ExecuteTime": {
     "end_time": "2025-07-04T16:44:54.513339Z",
     "start_time": "2025-07-04T16:44:54.479575Z"
    }
   },
   "cell_type": "code",
   "source": "obj2._test__a",
   "id": "9030a720c12cad49",
   "outputs": [
    {
     "ename": "AttributeError",
     "evalue": "'Test2' object has no attribute '_test__a'",
     "output_type": "error",
     "traceback": [
      "\u001B[1;31m---------------------------------------------------------------------------\u001B[0m",
      "\u001B[1;31mAttributeError\u001B[0m                            Traceback (most recent call last)",
      "Cell \u001B[1;32mIn[60], line 1\u001B[0m\n\u001B[1;32m----> 1\u001B[0m obj2\u001B[38;5;241m.\u001B[39m_test__a\n",
      "\u001B[1;31mAttributeError\u001B[0m: 'Test2' object has no attribute '_test__a'"
     ]
    }
   ],
   "execution_count": 60
  },
  {
   "metadata": {},
   "cell_type": "markdown",
   "source": "## Inheritance",
   "id": "bc4039504d079915"
  },
  {
   "metadata": {
    "ExecuteTime": {
     "end_time": "2025-07-05T03:43:19.635465Z",
     "start_time": "2025-07-05T03:43:19.628203Z"
    }
   },
   "cell_type": "code",
   "source": [
    "class Test :\n",
    "    def __init__(self , a , b , c , d) :\n",
    "        self.a = a\n",
    "        self.b = b\n",
    "        self.c = c\n",
    "        self.d = d\n",
    "\n",
    "    def custom(self , v) :\n",
    "        return v - self.a\n",
    "\n",
    "    def __str__(self) :\n",
    "        return \"this is parent class to show inheritance !\"\n"
   ],
   "id": "2c03db4ecc60d557",
   "outputs": [],
   "execution_count": 5
  },
  {
   "metadata": {
    "ExecuteTime": {
     "end_time": "2025-07-05T03:43:20.019115Z",
     "start_time": "2025-07-05T03:43:20.011899Z"
    }
   },
   "cell_type": "code",
   "source": [
    "class Test1(Test) :\n",
    "    def __init__(self , j , *args) :\n",
    "        super().__init__(*args)\n",
    "        self.j = j\n",
    "\n",
    "m = Test1(6,7,8,9,10)\n",
    "m.j"
   ],
   "id": "b977bd2e247969e9",
   "outputs": [
    {
     "data": {
      "text/plain": [
       "6"
      ]
     },
     "execution_count": 6,
     "metadata": {},
     "output_type": "execute_result"
    }
   ],
   "execution_count": 6
  },
  {
   "metadata": {
    "ExecuteTime": {
     "end_time": "2025-07-05T03:43:21.276671Z",
     "start_time": "2025-07-05T03:43:21.270234Z"
    }
   },
   "cell_type": "code",
   "source": "m.a",
   "id": "41d0b125de31ff77",
   "outputs": [
    {
     "data": {
      "text/plain": [
       "7"
      ]
     },
     "execution_count": 7,
     "metadata": {},
     "output_type": "execute_result"
    }
   ],
   "execution_count": 7
  },
  {
   "metadata": {
    "ExecuteTime": {
     "end_time": "2025-07-05T03:43:28.509051Z",
     "start_time": "2025-07-05T03:43:28.504077Z"
    }
   },
   "cell_type": "code",
   "source": "m.d",
   "id": "2652d5ca95926935",
   "outputs": [
    {
     "data": {
      "text/plain": [
       "10"
      ]
     },
     "execution_count": 8,
     "metadata": {},
     "output_type": "execute_result"
    }
   ],
   "execution_count": 8
  },
  {
   "metadata": {
    "ExecuteTime": {
     "end_time": "2025-07-05T05:14:33.424566Z",
     "start_time": "2025-07-05T05:14:33.420019Z"
    }
   },
   "cell_type": "code",
   "source": "# Assignment",
   "id": "8726317cb79cbc47",
   "outputs": [],
   "execution_count": 20
  },
  {
   "metadata": {
    "ExecuteTime": {
     "end_time": "2025-07-05T05:09:48.092891Z",
     "start_time": "2025-07-05T05:09:48.086537Z"
    }
   },
   "cell_type": "code",
   "outputs": [
    {
     "name": "stdout",
     "output_type": "stream",
     "text": [
      "Ass1 class\n",
      "Ass2 class\n",
      "Ass3 class\n"
     ]
    }
   ],
   "execution_count": 18,
   "source": [
    "class Ass1 :\n",
    "    def a(self) :\n",
    "        print(\"Ass1 class\")\n",
    "\n",
    "class Ass2 :\n",
    "    def a(self) :\n",
    "        print(\"Ass2 class\")\n",
    "\n",
    "# class Ass3(Ass1 , Ass2) :\n",
    "class Ass3 :\n",
    "    t1 = Ass1()\n",
    "    t1.a()\n",
    "    t2 = Ass2()\n",
    "    t2.a()\n",
    "\n",
    "    print(\"Ass3 class\")\n",
    "# still working so this is not inheritance .\n",
    "obj = Ass3()"
   ],
   "id": "b11e39930c4cc358"
  },
  {
   "metadata": {
    "ExecuteTime": {
     "end_time": "2025-07-05T05:03:18.340736Z",
     "start_time": "2025-07-05T05:03:18.331011Z"
    }
   },
   "cell_type": "code",
   "outputs": [
    {
     "name": "stdout",
     "output_type": "stream",
     "text": [
      "Ass1 class\n"
     ]
    }
   ],
   "execution_count": 14,
   "source": "obj.a()",
   "id": "17c1dc241299aa86"
  },
  {
   "metadata": {
    "ExecuteTime": {
     "end_time": "2025-07-05T05:02:46.521220Z",
     "start_time": "2025-07-05T05:02:46.517454Z"
    }
   },
   "cell_type": "code",
   "outputs": [],
   "execution_count": 13,
   "source": "# use __init__ function only when we are passing data .",
   "id": "68aa112370619dda"
  },
  {
   "metadata": {
    "ExecuteTime": {
     "end_time": "2025-07-05T05:14:34.396566Z",
     "start_time": "2025-07-05T05:14:34.390796Z"
    }
   },
   "cell_type": "code",
   "source": [
    "# work-around code\n",
    "class Test:\n",
    "    def a(self):\n",
    "        return \"This is class Test\"\n",
    "\n",
    "class Test1:\n",
    "    def a(self):\n",
    "        return \"This is class Test1\"\n",
    "\n",
    "class Test2(Test, Test1):\n",
    "    \"\"\"Test class methods overrides Test1 class methods\"\"\"\n",
    "    pass\n",
    "\n",
    "t2 = Test2()\n",
    "print(t2.a())\n",
    "\n",
    "class Test2(Test1, Test):\n",
    "    \"\"\"Test1 class methods overrides Test class methods\"\"\"\n",
    "    pass\n",
    "\n",
    "t2_ = Test2()\n",
    "print(t2_.a())"
   ],
   "id": "d67063f75d8f5f7d",
   "outputs": [
    {
     "name": "stdout",
     "output_type": "stream",
     "text": [
      "This is class Test\n",
      "This is class Test1\n"
     ]
    }
   ],
   "execution_count": 21
  },
  {
   "metadata": {
    "ExecuteTime": {
     "end_time": "2025-07-05T06:55:12.765541Z",
     "start_time": "2025-07-05T06:55:12.760586Z"
    }
   },
   "cell_type": "code",
   "source": [
    "# Correct code (still a work-around)\n",
    "class Test:\n",
    "    def a(self):\n",
    "        print('function a from class test')\n",
    "\n",
    "class Test1:\n",
    "    def a(self):\n",
    "        print('function a from class test1')\n",
    "\n",
    "#class Test2(test, test1):\n",
    "class Test2():\n",
    "    def a(self):\n",
    "        Test.a(self)\n",
    "        Test1.a(self)\n",
    "\n",
    "t = Test2()\n",
    "t.a()"
   ],
   "id": "1df7cfc14b50b2fa",
   "outputs": [
    {
     "name": "stdout",
     "output_type": "stream",
     "text": [
      "function a from class test\n",
      "function a from class test1\n"
     ]
    }
   ],
   "execution_count": 30
  },
  {
   "metadata": {
    "ExecuteTime": {
     "end_time": "2025-07-05T07:08:18.254184Z",
     "start_time": "2025-07-05T07:08:18.246304Z"
    }
   },
   "cell_type": "code",
   "source": [
    "class Parent:\n",
    "    num_of_items = 12\n",
    "\n",
    "class Child(Parent):\n",
    "    item_type = 'laptop'\n",
    "\n",
    "class Grandchild(Child):\n",
    "    def __init__(self):\n",
    "        self.company = \"ExampleCorp\"\n",
    "        print('The company {0} offers total {1} different types of items. Most popular item category is {2}.'\n",
    "              .format(self.company, self.num_of_items, self.item_type))\n",
    "\n",
    "instance = Grandchild()"
   ],
   "id": "a95f5219c2e9a7f3",
   "outputs": [
    {
     "name": "stdout",
     "output_type": "stream",
     "text": [
      "The company ExampleCorp offers total 12 different types of items. Most popular item category is laptop.\n"
     ]
    }
   ],
   "execution_count": 31
  },
  {
   "metadata": {},
   "cell_type": "markdown",
   "source": "## Encapsulation",
   "id": "b69eab93c179d44b"
  },
  {
   "metadata": {},
   "cell_type": "code",
   "outputs": [],
   "execution_count": null,
   "source": "",
   "id": "d372fe42a2d3c608"
  }
 ],
 "metadata": {
  "kernelspec": {
   "display_name": "Python [conda env:base] *",
   "language": "python",
   "name": "conda-base-py"
  },
  "language_info": {
   "codemirror_mode": {
    "name": "ipython",
    "version": 2
   },
   "file_extension": ".py",
   "mimetype": "text/x-python",
   "name": "python",
   "nbconvert_exporter": "python",
   "pygments_lexer": "ipython2",
   "version": "2.7.6"
  }
 },
 "nbformat": 4,
 "nbformat_minor": 5
}
