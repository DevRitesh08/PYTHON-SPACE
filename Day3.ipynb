{
 "cells": [
  {
   "cell_type": "code",
   "execution_count": 1,
   "id": "0ed995bd-6504-4c1f-bd12-3442593e56ee",
   "metadata": {},
   "outputs": [],
   "source": [
    "# strings and lists"
   ]
  },
  {
   "cell_type": "code",
   "execution_count": 3,
   "id": "60065b47-c0ba-4ef3-9a9f-0b9ee4f38996",
   "metadata": {},
   "outputs": [],
   "source": [
    "# we can use ' when the string in written between \" \" and vice verse but if same is used inside the string then it will be an error ."
   ]
  },
  {
   "cell_type": "code",
   "execution_count": 17,
   "id": "a36f9a36-20e2-45e8-a7b0-4d417cc7e8dc",
   "metadata": {},
   "outputs": [
    {
     "ename": "TypeError",
     "evalue": "'str' object does not support item assignment",
     "output_type": "error",
     "traceback": [
      "\u001b[1;31m---------------------------------------------------------------------------\u001b[0m",
      "\u001b[1;31mTypeError\u001b[0m                                 Traceback (most recent call last)",
      "Cell \u001b[1;32mIn[17], line 2\u001b[0m\n\u001b[0;32m      1\u001b[0m s \u001b[38;5;241m=\u001b[39m \u001b[38;5;124m\"\u001b[39m\u001b[38;5;124mtoday we will explore strings and lists\u001b[39m\u001b[38;5;124m'\u001b[39m\u001b[38;5;124m !\u001b[39m\u001b[38;5;124m\"\u001b[39m\n\u001b[1;32m----> 2\u001b[0m s[\u001b[38;5;241m2\u001b[39m] \u001b[38;5;241m=\u001b[39m \u001b[38;5;124m'\u001b[39m\u001b[38;5;124mp\u001b[39m\u001b[38;5;124m'\u001b[39m\n",
      "\u001b[1;31mTypeError\u001b[0m: 'str' object does not support item assignment"
     ]
    }
   ],
   "source": [
    "s = \"today we will explore strings and lists' !\"\n",
    "s[2] = 'p'"
   ]
  },
  {
   "cell_type": "code",
   "execution_count": null,
   "id": "964e609e-1a1a-4205-acf6-ea5bc74b95a3",
   "metadata": {},
   "outputs": [],
   "source": [
    "# so string is immutable , we cannot assign or change single indexes of a string , while list is mutable  ."
   ]
  },
  {
   "cell_type": "code",
   "execution_count": 12,
   "id": "450d54dd-8f8a-4dc5-a5d8-ff1b37f63538",
   "metadata": {},
   "outputs": [],
   "source": [
    "r = [132 , 21.342 , \"csdf\"]\n",
    "r[1] = \"nxz\""
   ]
  },
  {
   "cell_type": "code",
   "execution_count": 15,
   "id": "8cd72a5d-9535-4f14-a83c-3ef29e24d392",
   "metadata": {},
   "outputs": [
    {
     "name": "stdout",
     "output_type": "stream",
     "text": [
      "[132, 'nxz', 'csdf']\n"
     ]
    }
   ],
   "source": [
    "print(r)"
   ]
  },
  {
   "cell_type": "code",
   "execution_count": 5,
   "id": "896d6838-555d-47d5-ab8a-63ef14d8d120",
   "metadata": {},
   "outputs": [
    {
     "name": "stdout",
     "output_type": "stream",
     "text": [
      "2\n",
      "5\n"
     ]
    }
   ],
   "source": [
    "a = \"after a. just press tab it will provide all posible operations .\"\n",
    "print(a.find(\"t\"))\n",
    "print(a.count(\"t\"))"
   ]
  },
  {
   "cell_type": "code",
   "execution_count": null,
   "id": "c8ffca85-95cf-4413-b641-428551d29c7e",
   "metadata": {},
   "outputs": [],
   "source": [
    "# Question"
   ]
  },
  {
   "cell_type": "code",
   "execution_count": 6,
   "id": "cc0f5dd4-f468-421a-97cd-7290d30b8676",
   "metadata": {},
   "outputs": [],
   "source": [
    "# find the indexes of all the letters present in the word \"ritesh\" but find() should be used once ."
   ]
  },
  {
   "cell_type": "code",
   "execution_count": 14,
   "id": "e8d3dffe-ed69-4711-aec5-dfaaa289ebd4",
   "metadata": {},
   "outputs": [
    {
     "name": "stdout",
     "output_type": "stream",
     "text": [
      "-1\n",
      "0\n",
      "1\n",
      "2\n",
      "3\n",
      "4\n"
     ]
    }
   ],
   "source": [
    "s = \"my name is Ritesh Swami , First name is Ritesh and Last name is Swami !\"\n",
    "\n",
    "b = s.find(\"ritesh\")\n",
    "for i in range(len(\"ritesh\")) :\n",
    "    print(b+i)"
   ]
  },
  {
   "cell_type": "code",
   "execution_count": 15,
   "id": "968fe1c2-ef0c-4c00-b26d-f5e3b128dc2e",
   "metadata": {},
   "outputs": [
    {
     "data": {
      "text/plain": [
       "['my',\n",
       " 'name',\n",
       " 'is',\n",
       " 'Ritesh',\n",
       " 'Swami',\n",
       " ',',\n",
       " 'First',\n",
       " 'name',\n",
       " 'is',\n",
       " 'Ritesh',\n",
       " 'and',\n",
       " 'Last',\n",
       " 'name',\n",
       " 'is',\n",
       " 'Swami',\n",
       " '!']"
      ]
     },
     "execution_count": 15,
     "metadata": {},
     "output_type": "execute_result"
    }
   ],
   "source": [
    "s.split()"
   ]
  },
  {
   "cell_type": "code",
   "execution_count": 16,
   "id": "b0766650-c4dc-4796-b4ae-cf7c0c0bb364",
   "metadata": {},
   "outputs": [
    {
     "data": {
      "text/plain": [
       "['my ', ' is Ritesh Swami , First ', ' is Ritesh and Last ', ' is Swami !']"
      ]
     },
     "execution_count": 16,
     "metadata": {},
     "output_type": "execute_result"
    }
   ],
   "source": [
    "s.split(\"name\")"
   ]
  },
  {
   "cell_type": "code",
   "execution_count": 17,
   "id": "9eb49ebb-e0d0-48c5-bec2-867fc56deb9d",
   "metadata": {},
   "outputs": [
    {
     "data": {
      "text/plain": [
       "'my name is Ritesh Swami , First name is Ritesh and Last name is Swami !'"
      ]
     },
     "execution_count": 17,
     "metadata": {},
     "output_type": "execute_result"
    }
   ],
   "source": [
    "s"
   ]
  },
  {
   "cell_type": "code",
   "execution_count": 18,
   "id": "9ec08798-df8f-4dbc-9063-9ff4a52d4a19",
   "metadata": {},
   "outputs": [
    {
     "data": {
      "text/plain": [
       "'MY NAME IS RITESH SWAMI , FIRST NAME IS RITESH AND LAST NAME IS SWAMI !'"
      ]
     },
     "execution_count": 18,
     "metadata": {},
     "output_type": "execute_result"
    }
   ],
   "source": [
    "s.upper()"
   ]
  },
  {
   "cell_type": "code",
   "execution_count": 19,
   "id": "40ffd3df-c2f2-4823-8c50-da234801f565",
   "metadata": {},
   "outputs": [
    {
     "data": {
      "text/plain": [
       "'my name is ritesh swami , first name is ritesh and last name is swami !'"
      ]
     },
     "execution_count": 19,
     "metadata": {},
     "output_type": "execute_result"
    }
   ],
   "source": [
    "s.lower()"
   ]
  },
  {
   "cell_type": "code",
   "execution_count": 20,
   "id": "942dc886-825a-4094-8fae-2de09863291e",
   "metadata": {},
   "outputs": [
    {
     "data": {
      "text/plain": [
       "'MY NAME IS rITESH sWAMI , fIRST NAME IS rITESH AND lAST NAME IS sWAMI !'"
      ]
     },
     "execution_count": 20,
     "metadata": {},
     "output_type": "execute_result"
    }
   ],
   "source": [
    "s.swapcase()"
   ]
  },
  {
   "cell_type": "code",
   "execution_count": 24,
   "id": "ee6777d4-03ce-4ccd-898a-8d228ad2233e",
   "metadata": {},
   "outputs": [
    {
     "name": "stdout",
     "output_type": "stream",
     "text": [
      "Ritesh         Swami\n",
      "Ritesh         Swami        \n",
      "      Ritesh         Swami\n"
     ]
    }
   ],
   "source": [
    "p = \"      Ritesh         Swami        \"\n",
    "print(p.strip())\n",
    "print(p.lstrip())\n",
    "print(p.rstrip())"
   ]
  },
  {
   "cell_type": "code",
   "execution_count": 25,
   "id": "8d390ae5-fdb9-4751-ad94-417344c1457b",
   "metadata": {},
   "outputs": [
    {
     "data": {
      "text/plain": [
       "'      Ankush         Swami        '"
      ]
     },
     "execution_count": 25,
     "metadata": {},
     "output_type": "execute_result"
    }
   ],
   "source": [
    "p.replace(\"Ritesh\" , \"Ankush\")"
   ]
  },
  {
   "cell_type": "code",
   "execution_count": 26,
   "id": "526bf327-d65c-450f-bd13-d275bda1a430",
   "metadata": {},
   "outputs": [
    {
     "data": {
      "text/plain": [
       "'      Ritesh         Swami        '"
      ]
     },
     "execution_count": 26,
     "metadata": {},
     "output_type": "execute_result"
    }
   ],
   "source": [
    " p"
   ]
  },
  {
   "cell_type": "code",
   "execution_count": 27,
   "id": "ecd7d93d-0b0a-4f3c-be37-93dade6f0222",
   "metadata": {},
   "outputs": [],
   "source": [
    "P = p.replace(\"Ritesh\" , \"Ankush\")"
   ]
  },
  {
   "cell_type": "code",
   "execution_count": 28,
   "id": "13774757-e64b-4a19-800d-288703c1209a",
   "metadata": {},
   "outputs": [
    {
     "data": {
      "text/plain": [
       "'      Ankush         Swami        '"
      ]
     },
     "execution_count": 28,
     "metadata": {},
     "output_type": "execute_result"
    }
   ],
   "source": [
    "P"
   ]
  },
  {
   "cell_type": "code",
   "execution_count": 2,
   "id": "e5c92873-5e61-44f8-8878-2b868245ebac",
   "metadata": {},
   "outputs": [],
   "source": [
    "p = \"Ritesh Swami\""
   ]
  },
  {
   "cell_type": "code",
   "execution_count": 3,
   "id": "d50ea405-0160-4af5-80e7-71a6aad16b46",
   "metadata": {},
   "outputs": [
    {
     "data": {
      "text/plain": [
       "False"
      ]
     },
     "execution_count": 3,
     "metadata": {},
     "output_type": "execute_result"
    }
   ],
   "source": [
    "p.isupper()"
   ]
  },
  {
   "cell_type": "code",
   "execution_count": 4,
   "id": "e230ba6b-13e9-4345-b99e-ce2548f5507c",
   "metadata": {},
   "outputs": [
    {
     "data": {
      "text/plain": [
       "False"
      ]
     },
     "execution_count": 4,
     "metadata": {},
     "output_type": "execute_result"
    }
   ],
   "source": [
    "p.islower()"
   ]
  },
  {
   "cell_type": "code",
   "execution_count": 5,
   "id": "777e8ff8-f9b9-4ab0-82a3-923b35e5f698",
   "metadata": {},
   "outputs": [
    {
     "data": {
      "text/plain": [
       "True"
      ]
     },
     "execution_count": 5,
     "metadata": {},
     "output_type": "execute_result"
    }
   ],
   "source": [
    "p.endswith(\"i\")"
   ]
  },
  {
   "cell_type": "code",
   "execution_count": 7,
   "id": "dd091507-d6b6-4e33-8edd-375d741794d1",
   "metadata": {},
   "outputs": [
    {
     "data": {
      "text/plain": [
       "False"
      ]
     },
     "execution_count": 7,
     "metadata": {},
     "output_type": "execute_result"
    }
   ],
   "source": [
    "p.isalpha()"
   ]
  },
  {
   "cell_type": "code",
   "execution_count": 8,
   "id": "0a093ab0-455c-4302-8828-31018664a336",
   "metadata": {},
   "outputs": [
    {
     "data": {
      "text/plain": [
       "'Ritesh Swami'"
      ]
     },
     "execution_count": 8,
     "metadata": {},
     "output_type": "execute_result"
    }
   ],
   "source": [
    "p"
   ]
  },
  {
   "cell_type": "code",
   "execution_count": 12,
   "id": "41440513-f9c8-467b-9538-4317caa176c6",
   "metadata": {},
   "outputs": [
    {
     "name": "stdout",
     "output_type": "stream",
     "text": [
      "i\n",
      "m\n",
      "a\n",
      "w\n",
      "S\n",
      " \n",
      "h\n",
      "s\n",
      "e\n",
      "t\n",
      "i\n"
     ]
    }
   ],
   "source": [
    "for i in range(1 ,len(p)):\n",
    "    print(p[-i])"
   ]
  },
  {
   "cell_type": "code",
   "execution_count": 18,
   "id": "516c673e-65a6-4055-bb13-65e82d3c8f98",
   "metadata": {},
   "outputs": [
    {
     "name": "stdout",
     "output_type": "stream",
     "text": [
      "R is not a vowel \n",
      "i is a vowel \n",
      "t is not a vowel \n",
      "e is a vowel \n",
      "s is not a vowel \n",
      "h is not a vowel \n",
      "  is not a vowel \n",
      "S is not a vowel \n",
      "w is not a vowel \n",
      "a is a vowel \n",
      "m is not a vowel \n",
      "i is a vowel \n"
     ]
    }
   ],
   "source": [
    "name = \"Ritesh Swami\"\n",
    "vowel = \"AaEeIiOoUu\"\n",
    "\n",
    "for i in name : \n",
    "    if i in vowel :\n",
    "        print(\"{} is a vowel \".format(i))\n",
    "    else :\n",
    "        print(\"{} is not a vowel \".format(i))"
   ]
  },
  {
   "cell_type": "code",
   "execution_count": 14,
   "id": "cfea648c-828c-4c25-a745-af231deb498d",
   "metadata": {},
   "outputs": [
    {
     "data": {
      "text/plain": [
       "' my name is ritesh swami '"
      ]
     },
     "execution_count": 14,
     "metadata": {},
     "output_type": "execute_result"
    }
   ],
   "source": [
    "\" {} name is ritesh swami \".format(\"my\")  "
   ]
  },
  {
   "cell_type": "code",
   "execution_count": 15,
   "id": "bfbb976d-1295-47a0-9263-ce5a4bdf75d5",
   "metadata": {},
   "outputs": [
    {
     "data": {
      "text/plain": [
       "' my name is Ritesh Swami '"
      ]
     },
     "execution_count": 15,
     "metadata": {},
     "output_type": "execute_result"
    }
   ],
   "source": [
    "\" {} name is {} {} \".format(\"my\" , \"Ritesh\" , \"Swami\")  "
   ]
  },
  {
   "cell_type": "code",
   "execution_count": 19,
   "id": "f8bd954a-13ce-40a4-8dc0-737ebd0ac03f",
   "metadata": {},
   "outputs": [
    {
     "name": "stdin",
     "output_type": "stream",
     "text": [
      "Enter your first name :  ankush\n",
      "Enter your second name :  swami\n"
     ]
    },
    {
     "data": {
      "text/plain": [
       "' Your name is ankush swami '"
      ]
     },
     "execution_count": 19,
     "metadata": {},
     "output_type": "execute_result"
    }
   ],
   "source": [
    "a = input(\"Enter your first name : \")\n",
    "b = input(\"Enter your second name : \")\n",
    "\" {} name is {} {} \".format(\"Your\" , a , b)  "
   ]
  },
  {
   "cell_type": "code",
   "execution_count": 1,
   "id": "4ea37305-1185-4f0c-bb59-7f48ed3edf8d",
   "metadata": {},
   "outputs": [],
   "source": [
    "# Question "
   ]
  },
  {
   "cell_type": "code",
   "execution_count": 2,
   "id": "88020ec6-9058-4bf1-a177-0a84e1f98284",
   "metadata": {},
   "outputs": [],
   "source": [
    "# provide the index of second name ."
   ]
  },
  {
   "cell_type": "code",
   "execution_count": 7,
   "id": "dcd3c945-6ccb-4483-9ee6-0802d0fc65b7",
   "metadata": {},
   "outputs": [
    {
     "ename": "SyntaxError",
     "evalue": "incomplete input (3904212761.py, line 9)",
     "output_type": "error",
     "traceback": [
      "\u001b[1;36m  Cell \u001b[1;32mIn[7], line 9\u001b[1;36m\u001b[0m\n\u001b[1;33m    print(s.find(\"name\")\u001b[0m\n\u001b[1;37m                        ^\u001b[0m\n\u001b[1;31mSyntaxError\u001b[0m\u001b[1;31m:\u001b[0m incomplete input\n"
     ]
    }
   ],
   "source": [
    "s = \"my first name is ritesh and my last name is swami\"\n",
    "cnt = 0 \n",
    "for i in s : \n",
    "    if s.find(\"name\") :\n",
    "        if cnt == 0 :\n",
    "            cnt += 1\n",
    "            continue\n",
    "        else :\n",
    "            print(s.find(\"name\")"
   ]
  },
  {
   "cell_type": "code",
   "execution_count": 1,
   "id": "19721a95-c54d-4196-94ab-76bbc3cde43d",
   "metadata": {},
   "outputs": [],
   "source": [
    "# List Manipulation"
   ]
  },
  {
   "cell_type": "code",
   "execution_count": 1,
   "id": "da792965-676a-46df-8a4a-909a4b8a8763",
   "metadata": {},
   "outputs": [
    {
     "name": "stdout",
     "output_type": "stream",
     "text": [
      "351  ,  2871.234  ,  hello  ,  a  ,  [236.32, 'bye', (252+762j)]  ,  \n",
      "\n",
      "list l contains a list inside it  :  [236.32, 'bye', (252+762j)]\n",
      "True  ,  "
     ]
    }
   ],
   "source": [
    "l = [351 , 2871.234 , \"hello\" , 'a' , [236.32 , \"bye\" , 252 + 762j] , True]\n",
    "for i in l : \n",
    "    print(i , end = \"  ,  \")\n",
    "    if type(i) == list :\n",
    "        print(\"\\n\\nlist l contains a list inside it  : \" , i)"
   ]
  },
  {
   "cell_type": "code",
   "execution_count": 6,
   "id": "38d36aa7-e325-497c-a4d7-568ac4518e05",
   "metadata": {},
   "outputs": [
    {
     "name": "stdout",
     "output_type": "stream",
     "text": [
      "False\n",
      "True\n",
      "31313.98\n",
      "zdsfw\n",
      "23\n",
      "afwwf\n"
     ]
    }
   ],
   "source": [
    "print(False in l)\n",
    "print('a' in l)\n",
    "print(max([121 ,23 , 3552 ,31.45 , 31313.98 , 8723]))\n",
    "print(max([\"assa\" , \"afwwf\" , \"ertwfw\" ,\"hyttre\" , \"zdsfw\"]))\n",
    "print(min([121 ,23 , 3552 ,31.45 , 31313.98 , 8723]))\n",
    "print(min([\"assa\" , \"afwwf\" , \"ertwfw\" ,\"hyttre\" , \"zdsfw\"]))"
   ]
  },
  {
   "cell_type": "markdown",
   "id": "a689ac81-919d-420d-afbf-eb6133ef3cb8",
   "metadata": {},
   "source": [
    "- not work with a combination of string and num .\n",
    "- append() will add the data to the end of the list .\n",
    "- insert() can be used to add the data at desired index , Insert object before index .\n",
    "    syntax : "
   ]
  },
  {
   "cell_type": "code",
   "execution_count": 17,
   "id": "8a417ba8-bc0c-40dc-b7a8-4bb0c7b45acf",
   "metadata": {},
   "outputs": [
    {
     "data": {
      "text/plain": [
       "[25, 'Anu', 21, 13, 11, 97, 'Imp', 'rishu']"
      ]
     },
     "execution_count": 17,
     "metadata": {},
     "output_type": "execute_result"
    }
   ],
   "source": [
    "ls = [25 , 21 , 13 , 11 , 97]\n",
    "ls.append(\"rishu\")\n",
    "ls.insert(1 , \"Anu\")\n",
    "ls.insert(-1 , \"Imp\") # Insert object before index \n",
    "ls"
   ]
  },
  {
   "cell_type": "code",
   "execution_count": 13,
   "id": "e9c81c8a-2cc1-448e-8b9b-0eb0d0484723",
   "metadata": {},
   "outputs": [
    {
     "ename": "TypeError",
     "evalue": "can only concatenate list (not \"str\") to list",
     "output_type": "error",
     "traceback": [
      "\u001b[1;31m---------------------------------------------------------------------------\u001b[0m",
      "\u001b[1;31mTypeError\u001b[0m                                 Traceback (most recent call last)",
      "Cell \u001b[1;32mIn[13], line 1\u001b[0m\n\u001b[1;32m----> 1\u001b[0m ls \u001b[38;5;241m+\u001b[39m \u001b[38;5;124m\"\u001b[39m\u001b[38;5;124mrishu\u001b[39m\u001b[38;5;124m\"\u001b[39m\n",
      "\u001b[1;31mTypeError\u001b[0m: can only concatenate list (not \"str\") to list"
     ]
    }
   ],
   "source": [
    "ls + \"rishu\""
   ]
  },
  {
   "cell_type": "code",
   "execution_count": 2,
   "id": "abe3f4e7-3260-4a3b-9a49-d4d1fd6b1f20",
   "metadata": {},
   "outputs": [
    {
     "data": {
      "text/plain": [
       "[16, 289, 982, 92, 'rishu', [1, 2, 3, 4, 5, 6]]"
      ]
     },
     "execution_count": 2,
     "metadata": {},
     "output_type": "execute_result"
    }
   ],
   "source": [
    "ls = [16 , 289 , 982 ,92 ,\"rishu\"]\n",
    "ls.append([1,2,3,4,5,6])\n",
    "ls"
   ]
  },
  {
   "cell_type": "code",
   "execution_count": 3,
   "id": "98424cd8-772a-4173-b862-21dc2bb367d6",
   "metadata": {},
   "outputs": [
    {
     "data": {
      "text/plain": [
       "[16,\n",
       " 289,\n",
       " 982,\n",
       " 92,\n",
       " 'rishu',\n",
       " [1, 2, 3, 4, 5, 6],\n",
       " 'T',\n",
       " 'e',\n",
       " 's',\n",
       " 't',\n",
       " 'i',\n",
       " 'n',\n",
       " 'g']"
      ]
     },
     "execution_count": 3,
     "metadata": {},
     "output_type": "execute_result"
    }
   ],
   "source": [
    "ls.extend(\"Testing\")\n",
    "# extend only works with iterable objects so numbers cant be added using it since they are not iterable .\n",
    "ls"
   ]
  },
  {
   "cell_type": "code",
   "execution_count": 27,
   "id": "9ae47a0f-164b-4b5d-b879-0faa8728e83f",
   "metadata": {},
   "outputs": [
    {
     "data": {
      "text/plain": [
       "['t', 'e', 's', 't', 'i', 'n', 'g']"
      ]
     },
     "execution_count": 27,
     "metadata": {},
     "output_type": "execute_result"
    }
   ],
   "source": [
    "s = \"testing\"\n",
    "list(s)"
   ]
  },
  {
   "cell_type": "code",
   "execution_count": 6,
   "id": "65cc5eb9-aad2-4a2e-b81b-f803b5237df4",
   "metadata": {},
   "outputs": [
    {
     "data": {
      "text/plain": [
       "[514, 762, (272+282j), 'qssh', 983, 2902, -29.73, 'khd', 'a']"
      ]
     },
     "execution_count": 6,
     "metadata": {},
     "output_type": "execute_result"
    }
   ],
   "source": [
    "l1 = [514 , 762 , 272 + 282j , \"qssh\"]\n",
    "l2 = [983 , 2902 ,-29.73 , \"khd\" , \"a\"]\n",
    "l1.extend(l2)\n",
    "l1"
   ]
  },
  {
   "cell_type": "code",
   "execution_count": 12,
   "id": "d4acb2e7-662b-4189-ad85-cf8e9b89863e",
   "metadata": {},
   "outputs": [
    {
     "data": {
      "text/plain": [
       "7"
      ]
     },
     "execution_count": 12,
     "metadata": {},
     "output_type": "execute_result"
    }
   ],
   "source": [
    "l = [1,2,3,4,5,6,7]\n",
    "l.pop()    # Remove and return item at index (default last)."
   ]
  },
  {
   "cell_type": "code",
   "execution_count": 13,
   "id": "a8f5bc07-1967-49e1-9b28-94bb95b306d2",
   "metadata": {},
   "outputs": [
    {
     "data": {
      "text/plain": [
       "[1, 2, 3, 4, 5, 6]"
      ]
     },
     "execution_count": 13,
     "metadata": {},
     "output_type": "execute_result"
    }
   ],
   "source": [
    "l"
   ]
  },
  {
   "cell_type": "code",
   "execution_count": 14,
   "id": "07aab578-0678-4696-8972-8959c1fbd4fd",
   "metadata": {},
   "outputs": [
    {
     "data": {
      "text/plain": [
       "1"
      ]
     },
     "execution_count": 14,
     "metadata": {},
     "output_type": "execute_result"
    }
   ],
   "source": [
    "l.pop(0)"
   ]
  },
  {
   "cell_type": "code",
   "execution_count": 15,
   "id": "91825198-55fd-47f7-b39b-c4eb131265a1",
   "metadata": {},
   "outputs": [
    {
     "data": {
      "text/plain": [
       "[2, 3, 4, 5, 6]"
      ]
     },
     "execution_count": 15,
     "metadata": {},
     "output_type": "execute_result"
    }
   ],
   "source": [
    "l"
   ]
  },
  {
   "cell_type": "code",
   "execution_count": 25,
   "id": "c41c3827-6936-4a26-8d3a-53d6344fc190",
   "metadata": {},
   "outputs": [
    {
     "data": {
      "text/plain": [
       "[1, 2, 3, 8, 4, 5, 9, 5, 6, 7]"
      ]
     },
     "execution_count": 25,
     "metadata": {},
     "output_type": "execute_result"
    }
   ],
   "source": [
    "L = [1,2,3,8,4,5,5,9,5,6,7]\n",
    "L.remove( 5 )\n",
    "L"
   ]
  },
  {
   "cell_type": "code",
   "execution_count": 26,
   "id": "3563e2cb-a48d-49d4-8744-8176f51b3647",
   "metadata": {},
   "outputs": [
    {
     "data": {
      "text/plain": [
       "[7, 6, 5, 9, 5, 4, 8, 3, 2, 1]"
      ]
     },
     "execution_count": 26,
     "metadata": {},
     "output_type": "execute_result"
    }
   ],
   "source": [
    "L.reverse()\n",
    "L"
   ]
  },
  {
   "cell_type": "code",
   "execution_count": 27,
   "id": "e895aec9-f49c-4f8f-976c-26725d30ded2",
   "metadata": {},
   "outputs": [
    {
     "data": {
      "text/plain": [
       "[1, 2, 3, 4, 5, 5, 6, 7, 8, 9]"
      ]
     },
     "execution_count": 27,
     "metadata": {},
     "output_type": "execute_result"
    }
   ],
   "source": [
    "L.sort()\n",
    "L"
   ]
  },
  {
   "cell_type": "code",
   "execution_count": 31,
   "id": "d136947b-3826-4d18-a695-cf66f4832309",
   "metadata": {},
   "outputs": [
    {
     "ename": "TypeError",
     "evalue": "'<' not supported between instances of 'str' and 'int'",
     "output_type": "error",
     "traceback": [
      "\u001b[1;31m---------------------------------------------------------------------------\u001b[0m",
      "\u001b[1;31mTypeError\u001b[0m                                 Traceback (most recent call last)",
      "Cell \u001b[1;32mIn[31], line 2\u001b[0m\n\u001b[0;32m      1\u001b[0m L1 \u001b[38;5;241m=\u001b[39m [\u001b[38;5;241m12\u001b[39m,\u001b[38;5;241m454\u001b[39m,\u001b[38;5;241m775\u001b[39m,\u001b[38;5;124m\"\u001b[39m\u001b[38;5;124mksdh\u001b[39m\u001b[38;5;124m\"\u001b[39m,\u001b[38;5;124m\"\u001b[39m\u001b[38;5;124mqejo\u001b[39m\u001b[38;5;124m\"\u001b[39m]\n\u001b[1;32m----> 2\u001b[0m L1\u001b[38;5;241m.\u001b[39msort()\n\u001b[0;32m      3\u001b[0m L1\n",
      "\u001b[1;31mTypeError\u001b[0m: '<' not supported between instances of 'str' and 'int'"
     ]
    }
   ],
   "source": [
    "L1 = [12,454,775,\"ksdh\",\"qejo\"]\n",
    "L1.sort()\n",
    "L1"
   ]
  },
  {
   "cell_type": "code",
   "execution_count": 32,
   "id": "d7115113-44ec-43b2-88e3-1725c8dc4b47",
   "metadata": {},
   "outputs": [],
   "source": [
    "# worjks fine with a coombination of int and float ."
   ]
  },
  {
   "cell_type": "code",
   "execution_count": 33,
   "id": "301ffa05-80af-41d8-a427-910881c50055",
   "metadata": {},
   "outputs": [],
   "source": [
    "# Question"
   ]
  },
  {
   "cell_type": "code",
   "execution_count": 24,
   "id": "6e85733f-4559-4f3b-86c4-ae2041f2e1fd",
   "metadata": {
    "scrolled": true
   },
   "outputs": [
    {
     "name": "stdout",
     "output_type": "stream",
     "text": [
      "[[1, 2, 'r', 'r', 'r', 3, 4], [29, 29, 'hiii', 23, 92], ['a', 'w', 't', 'k'], ['jdjh', 'euwy', 342, 243, 21, 'wyeuw'], 'hello', [8172, 18671, 971], [7281.11, 829.93, 1761.28, 8292.276], (99+652j)]\n",
      "the string in the nested list is 'r'\n",
      "the string in the nested list is 'r'\n",
      "the string in the nested list is 'r'\n",
      "the string in the nested list is 'hiii'\n",
      "index of string a is : 0\n",
      "the string in the nested list is 'a'\n",
      "the string in the nested list is 'w'\n",
      "the string in the nested list is 't'\n",
      "the string in the nested list is 'k'\n",
      "index of string jdjh is : 0\n",
      "the string in the nested list is 'jdjh'\n",
      "the string in the nested list is 'euwy'\n",
      "the string in the nested list is 'wyeuw'\n",
      " [[1, 2, 3, 4], [29, 29, 23, 92], [], [342, 243, 21], 'hello', [8172, 18671, 971], [7281.11, 829.93, 1761.28, 8292.276], (99+652j)] \n",
      "\n"
     ]
    }
   ],
   "source": [
    "# find the index of string element in the nested list and remove the string .\n",
    "LL = [[1 , 2 ,\"r\" , \"r\" , \"r\" , 3 , 4] , [29 ,29 ,\"hiii\",23 ,92] , ['a','w','t','k'] , [\"jdjh\" , \"euwy\" ,342,243,21, \"wyeuw\"] , \"hello\"]\n",
    "LL.append([8172,18671,971] )\n",
    "LL.append([7281.11 , 829.93 , 1761.28 ,8292.276] )\n",
    "LL.append(99 + 652j) \n",
    "print(LL)\n",
    "for i in LL :\n",
    "    if type(i) == list :\n",
    "        j = 0\n",
    "        while j < len(i) :\n",
    "            if type(i[j]) is str :\n",
    "                print(\"index of string {} is :\" .format(i[j]) , j)\n",
    "                j = j + 1\n",
    "            j = 0 \n",
    "            while j < len(i) :\n",
    "                if type(i[j]) is str :\n",
    "                    print(\"the string in the nested list is '{}'\".format(i[j]))\n",
    "                    i.remove(i[j])\n",
    "                    continue\n",
    "                j = j + 1\n",
    "print(\"list after removel of string from nested list is \\r\", LL , \"\\n\")\n",
    "        "
   ]
  },
  {
   "cell_type": "code",
   "execution_count": 5,
   "id": "7d4dfa76-424b-4462-9c88-01dc30bcfa5d",
   "metadata": {},
   "outputs": [
    {
     "name": "stdout",
     "output_type": "stream",
     "text": [
      "['R', 'i', 't', 'e', 's', 'h']\n"
     ]
    }
   ],
   "source": [
    "l1 = []\n",
    "for i in \"Ritesh\" :\n",
    "    l1.append(i)\n",
    "print(l1)\n",
    "    "
   ]
  },
  {
   "cell_type": "code",
   "execution_count": 7,
   "id": "cba1167f-fd0c-46d3-b97f-5ae43ce18af1",
   "metadata": {},
   "outputs": [
    {
     "data": {
      "text/plain": [
       "['R', 'i', 't', 'e', 's', 'h']"
      ]
     },
     "execution_count": 7,
     "metadata": {},
     "output_type": "execute_result"
    }
   ],
   "source": [
    "[i for i in \"Ritesh\"]    # list comprehension"
   ]
  },
  {
   "cell_type": "code",
   "execution_count": 9,
   "id": "cde5652b-0686-4974-bd88-d827eeddcb61",
   "metadata": {},
   "outputs": [
    {
     "data": {
      "text/plain": [
       "[0, 2, 4, 6, 8]"
      ]
     },
     "execution_count": 9,
     "metadata": {},
     "output_type": "execute_result"
    }
   ],
   "source": [
    "l2 = []\n",
    "for i in range(10) :\n",
    "    if i % 2 == 0 :\n",
    "        l2.append(i)\n",
    "l2"
   ]
  },
  {
   "cell_type": "code",
   "execution_count": 10,
   "id": "0acbee56-a0b0-4b77-998b-23b11caf4bad",
   "metadata": {},
   "outputs": [
    {
     "data": {
      "text/plain": [
       "[0, 2, 4, 6, 8]"
      ]
     },
     "execution_count": 10,
     "metadata": {},
     "output_type": "execute_result"
    }
   ],
   "source": [
    "[i for i in range(10) if i%2 == 0]"
   ]
  },
  {
   "cell_type": "code",
   "execution_count": 15,
   "id": "69cf0e2c-fa7b-4182-81d2-3d9c8f8da8e4",
   "metadata": {},
   "outputs": [
    {
     "data": {
      "text/plain": [
       "['Even', 'Odd', 'Even', 'Odd', 'Even', 'Odd', 'Even', 'Odd', 'Even', 'Odd']"
      ]
     },
     "execution_count": 15,
     "metadata": {},
     "output_type": "execute_result"
    }
   ],
   "source": [
    "l = []\n",
    "for i in range(10) :\n",
    "    if i%2 != 0 :\n",
    "        l.append(\"Odd\")\n",
    "    else :\n",
    "        l.append(\"Even\")\n",
    "l"
   ]
  },
  {
   "cell_type": "code",
   "execution_count": 16,
   "id": "0a0985db-b914-4969-a48e-2af11469d635",
   "metadata": {},
   "outputs": [
    {
     "data": {
      "text/plain": [
       "['Even', 'Odd', 'Even', 'Odd', 'Even', 'Odd', 'Even', 'Odd', 'Even', 'Odd']"
      ]
     },
     "execution_count": 16,
     "metadata": {},
     "output_type": "execute_result"
    }
   ],
   "source": [
    "[\"Odd\" if i%2 != 0 else \"Even\" for i in range(10) ]"
   ]
  },
  {
   "cell_type": "code",
   "execution_count": 18,
   "id": "f6ca8285-fead-4d1f-bab5-d1854bb68a42",
   "metadata": {},
   "outputs": [
    {
     "data": {
      "text/plain": [
       "[[0, 1, 2, 3], [0, 1, 2, 3], [0, 1, 2, 3]]"
      ]
     },
     "execution_count": 18,
     "metadata": {},
     "output_type": "execute_result"
    }
   ],
   "source": [
    "mat = []\n",
    "for i in range(3) :\n",
    "    mat.append([])\n",
    "    for j in range(4) :\n",
    "        mat[i].append(j)\n",
    "mat"
   ]
  },
  {
   "cell_type": "code",
   "execution_count": 19,
   "id": "52267515-afc3-42ce-9c84-762f5e651248",
   "metadata": {},
   "outputs": [
    {
     "data": {
      "text/plain": [
       "[[0, 1, 2, 3], [0, 1, 2, 3], [0, 1, 2, 3]]"
      ]
     },
     "execution_count": 19,
     "metadata": {},
     "output_type": "execute_result"
    }
   ],
   "source": [
    "[[j for j in range(4)]for i in range(3)]"
   ]
  },
  {
   "cell_type": "code",
   "execution_count": 20,
   "id": "160279be-11c7-4743-8da1-c4e0e7b18215",
   "metadata": {},
   "outputs": [
    {
     "data": {
      "text/plain": [
       "[0, 6, 12, 18]"
      ]
     },
     "execution_count": 20,
     "metadata": {},
     "output_type": "execute_result"
    }
   ],
   "source": [
    "[i for i in range(20) if i%2 == 0 if i%3 == 0]"
   ]
  },
  {
   "cell_type": "code",
   "execution_count": 22,
   "id": "7275bf36-de1c-4e71-8f47-a60153e225e7",
   "metadata": {},
   "outputs": [
    {
     "data": {
      "text/plain": [
       "['yes',\n",
       " 'yes',\n",
       " 'yes',\n",
       " 'nothing',\n",
       " 'nothing',\n",
       " 'nothing',\n",
       " 'nothing',\n",
       " 'nothing',\n",
       " 'nothing',\n",
       " 'No',\n",
       " 'No',\n",
       " 'No']"
      ]
     },
     "execution_count": 22,
     "metadata": {},
     "output_type": "execute_result"
    }
   ],
   "source": [
    "[\"yes\" if i < 3 else \"No\" if i > 8 else \"nothing\"for i in range(12) ]"
   ]
  },
  {
   "cell_type": "code",
   "execution_count": 27,
   "id": "7e9389ac-008b-47a3-92ce-fd569a2a6104",
   "metadata": {},
   "outputs": [
    {
     "name": "stdout",
     "output_type": "stream",
     "text": [
      "a\n",
      "c\n",
      "e\n"
     ]
    }
   ],
   "source": [
    "a = [\"a\" , \"b\" , \"c\" , \"d\" , \"e\" ]\n",
    "for i in a :\n",
    "    print(i)\n",
    "    a.remove(i) "
   ]
  },
  {
   "cell_type": "code",
   "execution_count": null,
   "id": "31d7d60c-4023-4047-a9c8-4aacd72df871",
   "metadata": {},
   "outputs": [],
   "source": [
    "# b  , d is not printed bcoz of index shift ."
   ]
  }
 ],
 "metadata": {
  "kernelspec": {
   "display_name": "Python [conda env:base] *",
   "language": "python",
   "name": "conda-base-py"
  },
  "language_info": {
   "codemirror_mode": {
    "name": "ipython",
    "version": 3
   },
   "file_extension": ".py",
   "mimetype": "text/x-python",
   "name": "python",
   "nbconvert_exporter": "python",
   "pygments_lexer": "ipython3",
   "version": "3.12.7"
  }
 },
 "nbformat": 4,
 "nbformat_minor": 5
}
