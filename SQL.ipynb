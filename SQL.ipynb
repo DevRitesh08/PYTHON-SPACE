{
 "cells": [
  {
   "cell_type": "code",
   "id": "initial_id",
   "metadata": {
    "collapsed": true
   },
   "source": "!pip install mysql-connector-python",
   "outputs": [],
   "execution_count": null
  },
  {
   "metadata": {
    "ExecuteTime": {
     "end_time": "2025-07-10T14:54:59.689997Z",
     "start_time": "2025-07-10T14:54:59.547019Z"
    }
   },
   "cell_type": "code",
   "source": [
    "import mysql.connector as connection\n",
    "\n",
    "try:\n",
    "    mydb = connection.connect(host=\"localhost\", user=\"root\", passwd=\"11649872@MySQL\", use_pure=True)\n",
    "    # check if the connection is established\n",
    "\n",
    "    query = \"SHOW DATABASES\"\n",
    "\n",
    "    cursor = mydb.cursor()  # create a cursor to execute queries\n",
    "    cursor.execute(query)\n",
    "    print(cursor.fetchall())\n",
    "\n",
    "except Exception as e:\n",
    "    mydb.close()\n",
    "    print(str(e))"
   ],
   "id": "1ddac5e52c6f2fe7",
   "outputs": [
    {
     "name": "stdout",
     "output_type": "stream",
     "text": [
      "[('information_schema',), ('mysql',), ('performance_schema',), ('ritesh01',), ('ritesh02',), ('sakila',), ('sys',), ('test',), ('world',)]\n"
     ]
    }
   ],
   "execution_count": 57
  },
  {
   "metadata": {},
   "cell_type": "code",
   "source": "import mysql.connector as connection",
   "id": "d8bc48c898e626fc",
   "outputs": [],
   "execution_count": 41
  },
  {
   "metadata": {
    "ExecuteTime": {
     "end_time": "2025-07-10T14:28:39.650475Z",
     "start_time": "2025-07-10T14:28:39.498384Z"
    }
   },
   "cell_type": "code",
   "source": "conn = connection.connect(host=\"localhost\", user=\"root\", passwd=\"11649872@MySQL\", use_pure=True)",
   "id": "1232acb6e2caa6b",
   "outputs": [],
   "execution_count": 42
  },
  {
   "metadata": {
    "ExecuteTime": {
     "end_time": "2025-07-10T14:28:41.239765Z",
     "start_time": "2025-07-10T14:28:41.234027Z"
    }
   },
   "cell_type": "code",
   "source": "cur = conn.cursor()",
   "id": "8c56f3fe5daf94f",
   "outputs": [],
   "execution_count": 43
  },
  {
   "metadata": {
    "ExecuteTime": {
     "end_time": "2025-07-10T14:28:41.704856Z",
     "start_time": "2025-07-10T14:28:41.694052Z"
    }
   },
   "cell_type": "code",
   "source": "type(cur.execute(\"show databases\"))",
   "id": "3d34f111ace44195",
   "outputs": [
    {
     "data": {
      "text/plain": [
       "NoneType"
      ]
     },
     "execution_count": 44,
     "metadata": {},
     "output_type": "execute_result"
    }
   ],
   "execution_count": 44
  },
  {
   "metadata": {},
   "cell_type": "code",
   "source": "res = cur.fetchall()",
   "id": "5df8c48c28dd8808",
   "outputs": [],
   "execution_count": 45
  },
  {
   "metadata": {
    "ExecuteTime": {
     "end_time": "2025-07-10T14:28:43.595940Z",
     "start_time": "2025-07-10T14:28:43.588459Z"
    }
   },
   "cell_type": "code",
   "source": "res",
   "id": "e363643704536c4b",
   "outputs": [
    {
     "data": {
      "text/plain": [
       "[('information_schema',),\n",
       " ('mysql',),\n",
       " ('performance_schema',),\n",
       " ('ritesh01',),\n",
       " ('sakila',),\n",
       " ('sys',),\n",
       " ('test',),\n",
       " ('world',)]"
      ]
     },
     "execution_count": 46,
     "metadata": {},
     "output_type": "execute_result"
    }
   ],
   "execution_count": 46
  },
  {
   "metadata": {
    "ExecuteTime": {
     "end_time": "2025-07-10T14:28:44.463799Z",
     "start_time": "2025-07-10T14:28:44.457561Z"
    }
   },
   "cell_type": "code",
   "source": "res[3]",
   "id": "20fea85387433605",
   "outputs": [
    {
     "data": {
      "text/plain": [
       "('ritesh01',)"
      ]
     },
     "execution_count": 47,
     "metadata": {},
     "output_type": "execute_result"
    }
   ],
   "execution_count": 47
  },
  {
   "metadata": {
    "ExecuteTime": {
     "end_time": "2025-07-10T14:43:35.736058Z",
     "start_time": "2025-07-10T14:43:35.715498Z"
    }
   },
   "cell_type": "code",
   "source": "cur.execute(\"create database Ritesh02\")",
   "id": "5f41e5fea91867d0",
   "outputs": [],
   "execution_count": 49
  },
  {
   "metadata": {
    "ExecuteTime": {
     "end_time": "2025-07-10T14:55:05.664807Z",
     "start_time": "2025-07-10T14:55:05.658518Z"
    }
   },
   "cell_type": "code",
   "source": "mydb.is_connected()",
   "id": "6e4a6201e4663206",
   "outputs": [
    {
     "data": {
      "text/plain": [
       "True"
      ]
     },
     "execution_count": 58,
     "metadata": {},
     "output_type": "execute_result"
    }
   ],
   "execution_count": 58
  },
  {
   "metadata": {
    "ExecuteTime": {
     "end_time": "2025-07-10T15:08:16.568079Z",
     "start_time": "2025-07-10T15:08:16.432078Z"
    }
   },
   "cell_type": "code",
   "source": "db = connection.connect(host=\"localhost\", user=\"root\", passwd=\"11649872@MySQL\", use_pure=True)",
   "id": "297e780a3c6fbaed",
   "outputs": [],
   "execution_count": 66
  },
  {
   "metadata": {
    "ExecuteTime": {
     "end_time": "2025-07-10T15:08:17.514376Z",
     "start_time": "2025-07-10T15:08:17.441088Z"
    }
   },
   "cell_type": "code",
   "source": [
    "Cur = db.cursor()\n",
    "Cur.execute(\"create table data(x1 INT(5) , x2 VARCHAR(20) , x3 DATE)\")"
   ],
   "id": "997a5f268003cc1f",
   "outputs": [
    {
     "ename": "ProgrammingError",
     "evalue": "1046 (3D000): No database selected",
     "output_type": "error",
     "traceback": [
      "\u001B[1;31m---------------------------------------------------------------------------\u001B[0m",
      "\u001B[1;31mProgrammingError\u001B[0m                          Traceback (most recent call last)",
      "Cell \u001B[1;32mIn[67], line 2\u001B[0m\n\u001B[0;32m      1\u001B[0m Cur \u001B[38;5;241m=\u001B[39m db\u001B[38;5;241m.\u001B[39mcursor()\n\u001B[1;32m----> 2\u001B[0m Cur\u001B[38;5;241m.\u001B[39mexecute(\u001B[38;5;124m\"\u001B[39m\u001B[38;5;124mcreate table data(x1 INT(5) , x2 VARCHAR(20) , x3 DATE)\u001B[39m\u001B[38;5;124m\"\u001B[39m)\n",
      "File \u001B[1;32mD:\\Softwares\\Lib\\site-packages\\mysql\\connector\\cursor.py:418\u001B[0m, in \u001B[0;36mMySQLCursor.execute\u001B[1;34m(self, operation, params, map_results)\u001B[0m\n\u001B[0;32m    410\u001B[0m \u001B[38;5;28mself\u001B[39m\u001B[38;5;241m.\u001B[39m_executed_list \u001B[38;5;241m=\u001B[39m \u001B[38;5;28mself\u001B[39m\u001B[38;5;241m.\u001B[39m_stmt_partition[\u001B[38;5;124m\"\u001B[39m\u001B[38;5;124msingle_stmts\u001B[39m\u001B[38;5;124m\"\u001B[39m]\n\u001B[0;32m    411\u001B[0m \u001B[38;5;28mself\u001B[39m\u001B[38;5;241m.\u001B[39m_executed \u001B[38;5;241m=\u001B[39m (\n\u001B[0;32m    412\u001B[0m     \u001B[38;5;28mself\u001B[39m\u001B[38;5;241m.\u001B[39m_stmt_partition[\u001B[38;5;124m\"\u001B[39m\u001B[38;5;124msingle_stmts\u001B[39m\u001B[38;5;124m\"\u001B[39m]\u001B[38;5;241m.\u001B[39mpopleft()\n\u001B[0;32m    413\u001B[0m     \u001B[38;5;28;01mif\u001B[39;00m map_results\n\u001B[0;32m    414\u001B[0m     \u001B[38;5;28;01melse\u001B[39;00m \u001B[38;5;28mself\u001B[39m\u001B[38;5;241m.\u001B[39m_stmt_partition[\u001B[38;5;124m\"\u001B[39m\u001B[38;5;124mmappable_stmt\u001B[39m\u001B[38;5;124m\"\u001B[39m]\n\u001B[0;32m    415\u001B[0m )\n\u001B[0;32m    417\u001B[0m \u001B[38;5;28mself\u001B[39m\u001B[38;5;241m.\u001B[39m_handle_result(\n\u001B[1;32m--> 418\u001B[0m     \u001B[38;5;28mself\u001B[39m\u001B[38;5;241m.\u001B[39m_connection\u001B[38;5;241m.\u001B[39mcmd_query(\n\u001B[0;32m    419\u001B[0m         \u001B[38;5;28mself\u001B[39m\u001B[38;5;241m.\u001B[39m_stmt_partition[\u001B[38;5;124m\"\u001B[39m\u001B[38;5;124mmappable_stmt\u001B[39m\u001B[38;5;124m\"\u001B[39m],\n\u001B[0;32m    420\u001B[0m         read_timeout\u001B[38;5;241m=\u001B[39m\u001B[38;5;28mself\u001B[39m\u001B[38;5;241m.\u001B[39m_read_timeout,\n\u001B[0;32m    421\u001B[0m         write_timeout\u001B[38;5;241m=\u001B[39m\u001B[38;5;28mself\u001B[39m\u001B[38;5;241m.\u001B[39m_write_timeout,\n\u001B[0;32m    422\u001B[0m     )\n\u001B[0;32m    423\u001B[0m )\n\u001B[0;32m    425\u001B[0m \u001B[38;5;28;01mreturn\u001B[39;00m \u001B[38;5;28;01mNone\u001B[39;00m\n",
      "File \u001B[1;32mD:\\Softwares\\Lib\\site-packages\\mysql\\connector\\opentelemetry\\context_propagation.py:97\u001B[0m, in \u001B[0;36mwith_context_propagation.<locals>.wrapper\u001B[1;34m(cnx, *args, **kwargs)\u001B[0m\n\u001B[0;32m     95\u001B[0m \u001B[38;5;66;03m# pylint: disable=possibly-used-before-assignment\u001B[39;00m\n\u001B[0;32m     96\u001B[0m \u001B[38;5;28;01mif\u001B[39;00m \u001B[38;5;129;01mnot\u001B[39;00m OTEL_ENABLED \u001B[38;5;129;01mor\u001B[39;00m \u001B[38;5;129;01mnot\u001B[39;00m cnx\u001B[38;5;241m.\u001B[39motel_context_propagation:\n\u001B[1;32m---> 97\u001B[0m     \u001B[38;5;28;01mreturn\u001B[39;00m method(cnx, \u001B[38;5;241m*\u001B[39margs, \u001B[38;5;241m*\u001B[39m\u001B[38;5;241m*\u001B[39mkwargs)\n\u001B[0;32m     99\u001B[0m current_span \u001B[38;5;241m=\u001B[39m trace\u001B[38;5;241m.\u001B[39mget_current_span()\n\u001B[0;32m    100\u001B[0m tp_header \u001B[38;5;241m=\u001B[39m \u001B[38;5;28;01mNone\u001B[39;00m\n",
      "File \u001B[1;32mD:\\Softwares\\Lib\\site-packages\\mysql\\connector\\_decorating.py:89\u001B[0m, in \u001B[0;36mhandle_read_write_timeout.<locals>.decorator.<locals>.handle_cnx_method\u001B[1;34m(cnx, *args, **kwargs)\u001B[0m\n\u001B[0;32m     87\u001B[0m \u001B[38;5;28;01mif\u001B[39;00m \u001B[38;5;28misinstance\u001B[39m(err, \u001B[38;5;167;01mTimeoutError\u001B[39;00m):\n\u001B[0;32m     88\u001B[0m     cnx\u001B[38;5;241m.\u001B[39mclose()\n\u001B[1;32m---> 89\u001B[0m \u001B[38;5;28;01mraise\u001B[39;00m err\n",
      "File \u001B[1;32mD:\\Softwares\\Lib\\site-packages\\mysql\\connector\\_decorating.py:85\u001B[0m, in \u001B[0;36mhandle_read_write_timeout.<locals>.decorator.<locals>.handle_cnx_method\u001B[1;34m(cnx, *args, **kwargs)\u001B[0m\n\u001B[0;32m     80\u001B[0m \u001B[38;5;129m@functools\u001B[39m\u001B[38;5;241m.\u001B[39mwraps(cnx_method)\n\u001B[0;32m     81\u001B[0m \u001B[38;5;28;01mdef\u001B[39;00m \u001B[38;5;21mhandle_cnx_method\u001B[39m(\n\u001B[0;32m     82\u001B[0m     cnx: \u001B[38;5;124m\"\u001B[39m\u001B[38;5;124mMySQLConnectionAbstract\u001B[39m\u001B[38;5;124m\"\u001B[39m, \u001B[38;5;241m*\u001B[39margs: Any, \u001B[38;5;241m*\u001B[39m\u001B[38;5;241m*\u001B[39mkwargs: Any\n\u001B[0;32m     83\u001B[0m ) \u001B[38;5;241m-\u001B[39m\u001B[38;5;241m>\u001B[39m Any:\n\u001B[0;32m     84\u001B[0m     \u001B[38;5;28;01mtry\u001B[39;00m:\n\u001B[1;32m---> 85\u001B[0m         \u001B[38;5;28;01mreturn\u001B[39;00m cnx_method(cnx, \u001B[38;5;241m*\u001B[39margs, \u001B[38;5;241m*\u001B[39m\u001B[38;5;241m*\u001B[39mkwargs)\n\u001B[0;32m     86\u001B[0m     \u001B[38;5;28;01mexcept\u001B[39;00m \u001B[38;5;167;01mException\u001B[39;00m \u001B[38;5;28;01mas\u001B[39;00m err:\n\u001B[0;32m     87\u001B[0m         \u001B[38;5;28;01mif\u001B[39;00m \u001B[38;5;28misinstance\u001B[39m(err, \u001B[38;5;167;01mTimeoutError\u001B[39;00m):\n",
      "File \u001B[1;32mD:\\Softwares\\Lib\\site-packages\\mysql\\connector\\connection.py:984\u001B[0m, in \u001B[0;36mMySQLConnection.cmd_query\u001B[1;34m(self, query, raw, buffered, raw_as_string, **kwargs)\u001B[0m\n\u001B[0;32m    981\u001B[0m     read_timeout \u001B[38;5;241m=\u001B[39m kwargs\u001B[38;5;241m.\u001B[39mget(\u001B[38;5;124m\"\u001B[39m\u001B[38;5;124mread_timeout\u001B[39m\u001B[38;5;124m\"\u001B[39m, \u001B[38;5;28;01mNone\u001B[39;00m)\n\u001B[0;32m    982\u001B[0m     write_timeout \u001B[38;5;241m=\u001B[39m kwargs\u001B[38;5;241m.\u001B[39mget(\u001B[38;5;124m\"\u001B[39m\u001B[38;5;124mwrite_timeout\u001B[39m\u001B[38;5;124m\"\u001B[39m, \u001B[38;5;28;01mNone\u001B[39;00m)\n\u001B[1;32m--> 984\u001B[0m     result \u001B[38;5;241m=\u001B[39m \u001B[38;5;28mself\u001B[39m\u001B[38;5;241m.\u001B[39m_handle_result(\n\u001B[0;32m    985\u001B[0m         \u001B[38;5;28mself\u001B[39m\u001B[38;5;241m.\u001B[39m_send_cmd(\n\u001B[0;32m    986\u001B[0m             ServerCmd\u001B[38;5;241m.\u001B[39mQUERY,\n\u001B[0;32m    987\u001B[0m             query,\n\u001B[0;32m    988\u001B[0m             read_timeout\u001B[38;5;241m=\u001B[39mread_timeout,\n\u001B[0;32m    989\u001B[0m             write_timeout\u001B[38;5;241m=\u001B[39mwrite_timeout,\n\u001B[0;32m    990\u001B[0m         ),\n\u001B[0;32m    991\u001B[0m         read_timeout,\n\u001B[0;32m    992\u001B[0m         write_timeout,\n\u001B[0;32m    993\u001B[0m     )\n\u001B[0;32m    994\u001B[0m \u001B[38;5;28;01mexcept\u001B[39;00m ProgrammingError \u001B[38;5;28;01mas\u001B[39;00m err:\n\u001B[0;32m    995\u001B[0m     \u001B[38;5;28;01mif\u001B[39;00m err\u001B[38;5;241m.\u001B[39merrno \u001B[38;5;241m==\u001B[39m \u001B[38;5;241m3948\u001B[39m \u001B[38;5;129;01mand\u001B[39;00m \u001B[38;5;124m\"\u001B[39m\u001B[38;5;124mLoading local data is disabled\u001B[39m\u001B[38;5;124m\"\u001B[39m \u001B[38;5;129;01min\u001B[39;00m err\u001B[38;5;241m.\u001B[39mmsg:\n",
      "File \u001B[1;32mD:\\Softwares\\Lib\\site-packages\\mysql\\connector\\_decorating.py:89\u001B[0m, in \u001B[0;36mhandle_read_write_timeout.<locals>.decorator.<locals>.handle_cnx_method\u001B[1;34m(cnx, *args, **kwargs)\u001B[0m\n\u001B[0;32m     87\u001B[0m \u001B[38;5;28;01mif\u001B[39;00m \u001B[38;5;28misinstance\u001B[39m(err, \u001B[38;5;167;01mTimeoutError\u001B[39;00m):\n\u001B[0;32m     88\u001B[0m     cnx\u001B[38;5;241m.\u001B[39mclose()\n\u001B[1;32m---> 89\u001B[0m \u001B[38;5;28;01mraise\u001B[39;00m err\n",
      "File \u001B[1;32mD:\\Softwares\\Lib\\site-packages\\mysql\\connector\\_decorating.py:85\u001B[0m, in \u001B[0;36mhandle_read_write_timeout.<locals>.decorator.<locals>.handle_cnx_method\u001B[1;34m(cnx, *args, **kwargs)\u001B[0m\n\u001B[0;32m     80\u001B[0m \u001B[38;5;129m@functools\u001B[39m\u001B[38;5;241m.\u001B[39mwraps(cnx_method)\n\u001B[0;32m     81\u001B[0m \u001B[38;5;28;01mdef\u001B[39;00m \u001B[38;5;21mhandle_cnx_method\u001B[39m(\n\u001B[0;32m     82\u001B[0m     cnx: \u001B[38;5;124m\"\u001B[39m\u001B[38;5;124mMySQLConnectionAbstract\u001B[39m\u001B[38;5;124m\"\u001B[39m, \u001B[38;5;241m*\u001B[39margs: Any, \u001B[38;5;241m*\u001B[39m\u001B[38;5;241m*\u001B[39mkwargs: Any\n\u001B[0;32m     83\u001B[0m ) \u001B[38;5;241m-\u001B[39m\u001B[38;5;241m>\u001B[39m Any:\n\u001B[0;32m     84\u001B[0m     \u001B[38;5;28;01mtry\u001B[39;00m:\n\u001B[1;32m---> 85\u001B[0m         \u001B[38;5;28;01mreturn\u001B[39;00m cnx_method(cnx, \u001B[38;5;241m*\u001B[39margs, \u001B[38;5;241m*\u001B[39m\u001B[38;5;241m*\u001B[39mkwargs)\n\u001B[0;32m     86\u001B[0m     \u001B[38;5;28;01mexcept\u001B[39;00m \u001B[38;5;167;01mException\u001B[39;00m \u001B[38;5;28;01mas\u001B[39;00m err:\n\u001B[0;32m     87\u001B[0m         \u001B[38;5;28;01mif\u001B[39;00m \u001B[38;5;28misinstance\u001B[39m(err, \u001B[38;5;167;01mTimeoutError\u001B[39;00m):\n",
      "File \u001B[1;32mD:\\Softwares\\Lib\\site-packages\\mysql\\connector\\connection.py:745\u001B[0m, in \u001B[0;36mMySQLConnection._handle_result\u001B[1;34m(self, packet, read_timeout, write_timeout)\u001B[0m\n\u001B[0;32m    743\u001B[0m     \u001B[38;5;28;01mreturn\u001B[39;00m \u001B[38;5;28mself\u001B[39m\u001B[38;5;241m.\u001B[39m_handle_eof(packet)\n\u001B[0;32m    744\u001B[0m \u001B[38;5;28;01mif\u001B[39;00m packet[\u001B[38;5;241m4\u001B[39m] \u001B[38;5;241m==\u001B[39m ERR_STATUS:\n\u001B[1;32m--> 745\u001B[0m     \u001B[38;5;28;01mraise\u001B[39;00m get_exception(packet)\n\u001B[0;32m    747\u001B[0m \u001B[38;5;66;03m# We have a text result set\u001B[39;00m\n\u001B[0;32m    748\u001B[0m column_count \u001B[38;5;241m=\u001B[39m \u001B[38;5;28mself\u001B[39m\u001B[38;5;241m.\u001B[39m_protocol\u001B[38;5;241m.\u001B[39mparse_column_count(packet)\n",
      "\u001B[1;31mProgrammingError\u001B[0m: 1046 (3D000): No database selected"
     ]
    }
   ],
   "execution_count": 67
  },
  {
   "metadata": {},
   "cell_type": "code",
   "outputs": [],
   "execution_count": null,
   "source": " ",
   "id": "2b759a02a4d9cfdd"
  }
 ],
 "metadata": {
  "kernelspec": {
   "display_name": "Python [conda env:base] *",
   "language": "python",
   "name": "conda-base-py"
  },
  "language_info": {
   "codemirror_mode": {
    "name": "ipython",
    "version": 2
   },
   "file_extension": ".py",
   "mimetype": "text/x-python",
   "name": "python",
   "nbconvert_exporter": "python",
   "pygments_lexer": "ipython2",
   "version": "2.7.6"
  }
 },
 "nbformat": 4,
 "nbformat_minor": 5
}
